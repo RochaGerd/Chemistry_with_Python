{
  "cells": [
    {
      "cell_type": "markdown",
      "metadata": {
        "id": "view-in-github",
        "colab_type": "text"
      },
      "source": [
        "<a href=\"https://colab.research.google.com/github/RochaGerd/Chemistry_with_Python/blob/main/8o_Enconto_Qu%C3%ADmica_UFPB_2024_Parte_02.ipynb\" target=\"_parent\"><img src=\"https://colab.research.google.com/assets/colab-badge.svg\" alt=\"Open In Colab\"/></a>"
      ]
    },
    {
      "cell_type": "markdown",
      "source": [
        "#**Modelagem Molecular Usando Python**\n",
        "\n",
        "##Autor: Prof. Gerd Bruno Rocha\n",
        "###(gbr@academico.ufpb.br e https://www.quantum-chem.pro.br/)\n",
        "\n",
        "####Links:\n",
        "\n",
        "1. <https://github.com/RochaGerd/Chemistry_with_Python>\n",
        "2. <https://pense-python.caravela.club/introducao.html>\n",
        "3. <https://github.com/pythonchembook>\n",
        "\n",
        "***Versão: 1.0 (01-JUL-24)***\n",
        "\n",
        "----------------------\n",
        "\n",
        "### **Minicurso prático**\n",
        "#### *Duração Total: 6 horas, divididos em dois dias*\n",
        "\n",
        "Requisitos: Ter familiaridade com Python e conceitos de química. Possuir conta no Google (**preferência**) ou Replit.\n",
        "\n",
        "Ambiente de programação: **Plataforma Google Colab (<https://colab.research.google.com/>)** ou Replit (<https://replit.com/>).\n",
        "\n",
        "\n",
        "***Material bibliográfico sobre uso de Python em Química:***\n",
        "\n",
        "1. Aprendendo Química com Python, Rodrigo Queiroz e Gerd Rocha, 2021, Amazon Book. <https://github.com/pythonchembook>\n",
        "\n",
        "  Link para compra: <https://www.amazon.com/Aprendendo-Qu%C3%ADmica-com-python-Portuguese/dp/B09LGSG6TY>\n",
        "\n",
        "2. J. Mueller. Começando a Programar em Python Para Leigos. Alta Books, 2020.\n",
        "3. A. Downey. Pense em Python: Pense como um cientista da computação. Novatec, 2016.\n",
        "4. <https://penseallen.github.io/PensePython2e/>\n",
        "5. <https://python-guide-pt-br.readthedocs.io/pt_BR/latest/>\n",
        "6. <https://aprendendo-computacao-com-python.readthedocs.io/en/latest/index.html>\n",
        "7. Websites, tutoriais, artigos (visite o portal do Journal of chemical education) e outros mais.\n",
        "\n",
        "---------------------------\n",
        "\n",
        "\n"
      ],
      "metadata": {
        "id": "5R90HG8BEeUO"
      }
    },
    {
      "cell_type": "markdown",
      "source": [
        "\n",
        "###**Conteúdo do Minicurso teórico/prático:**\n",
        "\n",
        "####**PARTE 1 (Dia 02/07/24): Aspectos introdutórios do uso de Python em modelagem molecular com o Google Colab**\n",
        "\n",
        "#### 1. Introdução à Modelagem Molecular (20 min)\n",
        "- **Conceitos Básicos de Modelagem Molecular**\n",
        "  - Definição e importância da modelagem molecular\n",
        "  - Aplicações em Química, Biologia e Ciência dos Materiais\n",
        "\n",
        "#### 2. Ambiente de Trabalho: Google Colaboratory (20min)\n",
        "- **Configuração do Google Colaboratory**\n",
        "  - Introdução ao Google Colaboratory\n",
        "  - Configuração do ambiente para modelagem molecular\n",
        "  - Importação de bibliotecas básicas de Python: `numpy`, `matplotlib`, `pandas`, etc.\n",
        "- **Trabalhando com Notebooks**\n",
        "  - Estrutura e funcionalidade dos notebooks\n",
        "  - Execução de células de código e markdown\n",
        "\n",
        "#### 3. Instalação e uso básico de Bibliotecas de Python para Modelagem Molecular   (140 min)\n",
        "\n",
        "- **Aspectos introdutórios de Modelagem molecular**\n",
        "  - Definindo o sistema molecular\n",
        "  - Superfície de energia potencial e campo de força\n",
        "- **Biblioteca RDKit**\n",
        "  - Processamento de moléculas (código SMILES)\n",
        "  - Visualização 2D\n",
        "  - Cálculo elementares de propriedades moleculares\n",
        "  - Cálculos de mecânica molecular\n",
        "  - Busca conformacional\n",
        "  - Visualização de estruturas moleculares em 3D com o py3Dmol\n",
        "  - Descritores moleculares com a Mordred\n",
        "- **Dinâmica molecular**\n",
        "  - AmberTools  \n",
        "- **Métodos *ab initio* e DFT**\n",
        "  - PySCF\n",
        "  - Psi4\n",
        "- **Métodos semiempíricos**\n",
        "  - MOPAC\n",
        "  - xTB\n",
        "\n",
        "####**PARTE 2 (Dia 03/07/24): Aplicações Avançadas**\n",
        "\n",
        "#### 1. Aplicações Avançadas (180 min)\n",
        "\n",
        "- **Modelagem do *Protein folding***\n",
        "  - Encontrando uma estrutura enovelada a partir de cálculos quânticos\n",
        "\n",
        "- **Modelagem de proteínas em solvente implícito**\n",
        "  - Enovelamento de proteína\n",
        "\n",
        "- **Dinâmica molecular de proteínas em solução**\n",
        "- **Visualizando a estrutura eletrônica de PAHs (*polycyclic aromatic hydrocarbons*)**\n",
        "\n",
        "####**Considerações finais**\n",
        "####**Formulário de *feedback* do minicurso**\n",
        "\n",
        "-------------\n",
        "\n",
        "**Tutoriais e Documentação**\n",
        "   - [Google Colaboratory Documentation](<https://colab.research.google.com/notebooks/intro.ipynb>)\n",
        "   "
      ],
      "metadata": {
        "id": "TiDeGJfU1aFL"
      }
    },
    {
      "cell_type": "markdown",
      "source": [
        "##**Objetivos**\n",
        "\n",
        "1. Permitir a popularização da programação para químicos(a)s\n",
        "2. Divulgar aspectos introdutórios dos métodos de modelagem/simulação molecular como estratégia de aprendizado de química\n",
        "3. Mostrar a potencialidade da modelagem/simulação molecular para pesquisa em química e áreas afins\n",
        "4. Apresentar uma platafoma online que permite realizar modelagem/simulação molecular *open source*."
      ],
      "metadata": {
        "id": "cy85UL_CgaHz"
      }
    },
    {
      "cell_type": "markdown",
      "source": [
        "## **Público alvo**\n",
        "\n",
        "1. Alunos de graduação e de pós-graduação sem experiência com modelagem/simulação molecular\n",
        "2. Alunos de graduação e de pós-graduação com pouca base de programação em python\n",
        "\n",
        "------------"
      ],
      "metadata": {
        "id": "7RthalL70Dyl"
      }
    },
    {
      "cell_type": "markdown",
      "metadata": {
        "id": "h203Li3u-v-S"
      },
      "source": [
        "#**PARTE 2: Aplicações Avançadas**\n",
        "\n",
        "\n"
      ]
    },
    {
      "cell_type": "code",
      "execution_count": null,
      "metadata": {
        "cellView": "form",
        "id": "vDjARCYphZP1"
      },
      "outputs": [],
      "source": [
        "#@title **Instalando Conda/Mamba**\n",
        "# Execute this cell to install mamba in the Colab environment\n",
        "\n",
        "if 'google.colab' in str(get_ipython()):\n",
        "  print('Running on colab')\n",
        "  !pip install -q condacolab\n",
        "  import condacolab\n",
        "  condacolab.install_mambaforge()\n",
        "else:\n",
        "  print('Not running on colab.')\n",
        "  print('Make sure you create and activate a new conda environment!')"
      ]
    },
    {
      "cell_type": "code",
      "execution_count": null,
      "metadata": {
        "id": "KrtO2ZlSwINJ"
      },
      "outputs": [],
      "source": [
        "# Conferência se foi instalado corretamente\n",
        "!conda --version"
      ]
    },
    {
      "cell_type": "code",
      "execution_count": null,
      "metadata": {
        "cellView": "form",
        "id": "CMaXcLsyhp7r"
      },
      "outputs": [],
      "source": [
        "#@title **Instalando/Importando libs importantes**\n",
        "# install the 3rd party chemistry packages\n",
        "!pip install -q rdkit\n",
        "!pip install -q py3Dmol # --> https://pypi.org/project/py3Dmol/\n",
        "!pip install -q pythreejs\n",
        "!pip install -q git+https://github.com/funkymunkycool/Cube-Toolz.git\n",
        "\n",
        "# Instalando o NGL Viwer\n",
        "!pip install ipywidgets==7.7.2 nglview\n",
        "\n",
        "# import everything\n",
        "import warnings\n",
        "warnings.filterwarnings(\"ignore\")\n",
        "import pathlib\n",
        "import sys, os\n",
        "import numpy as np\n",
        "import pandas as pd\n",
        "import seaborn as sns\n",
        "from termcolor import cprint\n",
        "import py3Dmol as p3d\n",
        "import cube_tools\n",
        "from google.colab import output\n",
        "output.enable_custom_widget_manager()\n",
        "# This import is required to handle files\n",
        "from google.colab import files\n",
        "# This imports are required to use NGL viewer as well as the capabilities of pyCapsid to generate structures.\n",
        "import nglview as ngl\n",
        "from nglview.adaptor import FileStructure\n",
        "import matplotlib\n",
        "from matplotlib import pyplot as plt\n",
        "from matplotlib.offsetbox import OffsetImage, AnnotationBbox\n",
        "import ipywidgets as widgets\n",
        "%matplotlib inline\n",
        "import copy\n",
        "from IPython.display import Markdown, display, clear_output"
      ]
    },
    {
      "cell_type": "code",
      "execution_count": null,
      "metadata": {
        "id": "WrJpL1HoE5R3"
      },
      "outputs": [],
      "source": [
        "# Instalando RDKit\n",
        "!pip install --upgrade rdkit"
      ]
    },
    {
      "cell_type": "code",
      "execution_count": null,
      "metadata": {
        "id": "hFETv0RXg-Mg"
      },
      "outputs": [],
      "source": [
        "# Importando os módulos do RDKit\n",
        "from rdkit import Chem\n",
        "from rdkit.Chem.Draw import IPythonConsole\n",
        "from rdkit.Chem import Draw, AllChem\n",
        "from rdkit.Chem import rdDistGeom, rdCoordGen\n",
        "from rdkit.Chem import rdMolAlign\n",
        "IPythonConsole.ipython_useSVG=True  # <-- Colocar Falso se você quiser PNGs ao invés de SVGs\n",
        "%config InlineBackend.figure_format = 'svg'\n",
        "from rdkit import rdBase\n",
        "print(\"Versão da RDKit:\", rdBase.rdkitVersion)\n",
        "print(\"Versão da RDKit base:\", rdBase.boostVersion)"
      ]
    },
    {
      "cell_type": "code",
      "execution_count": null,
      "metadata": {
        "id": "TySN5AQgmxRf"
      },
      "outputs": [],
      "source": [
        "# import py3Dmol as p3d\n",
        "print('Versão do py3DMol --> ', p3d.__version__)"
      ]
    },
    {
      "cell_type": "code",
      "execution_count": null,
      "metadata": {
        "id": "cKjNbcp-kCXu"
      },
      "outputs": [],
      "source": [
        "# import nglview as ngl\n",
        "#print('Versão do nglview --> ', ngl.__version__)"
      ]
    },
    {
      "cell_type": "code",
      "execution_count": null,
      "metadata": {
        "id": "5Q4XTCdOcuf-"
      },
      "outputs": [],
      "source": []
    },
    {
      "cell_type": "markdown",
      "metadata": {
        "id": "4N0UcqbNhdLn"
      },
      "source": [
        "----------------------\n",
        "\n",
        "#### **Montando drive permanente**\n",
        "\n",
        "O ambiente criado pelo *Google Colab* só mantem os arquivos produzidos das simulações ou os que foram feitos *upload* enquanto você permanece logado (conectado) ou por pouquissimo tempo após você fechar a ferramenta. Ou seja, esse ambiente é temporário.\n",
        "\n",
        "Mas, você pode montar um espaço de armazenamento externo ao *Colab* por meio do *Google Drive*.\n",
        "\n",
        "No instante que você tentar montar seu drive externo ao *Colab*, o sistema de proteção da Google vai pedir autorização para acessar seus arquivos do *Google Drive*. Aí é só clicar na sua conta Google, pôr sua senha e permitir o acesso. A partir desse momento o seu *Google Drive* estará montado como um drive externo ao *Colab*.\n",
        "\n",
        "Os próximos passos vão mostrar como fazer isso."
      ]
    },
    {
      "cell_type": "code",
      "execution_count": null,
      "metadata": {
        "id": "modS6m1qnCJD"
      },
      "outputs": [],
      "source": []
    },
    {
      "cell_type": "code",
      "execution_count": null,
      "metadata": {
        "id": "TzHhax6ptrpm"
      },
      "outputs": [],
      "source": [
        "'''from google.colab import drive\n",
        "drive.mount('/mntDrive') '''"
      ]
    },
    {
      "cell_type": "code",
      "execution_count": null,
      "metadata": {
        "id": "A_VxoCKvk7A-"
      },
      "outputs": [],
      "source": [
        "# Uma dica é criar uma pasta no seu Google Drive, onde você possa direcionar seus arquivos.\n",
        "# Use nomes sugestivos para isso. Por exemplo: Work_Colab."
      ]
    },
    {
      "cell_type": "code",
      "execution_count": null,
      "metadata": {
        "id": "0mh2cAty2KaS"
      },
      "outputs": [],
      "source": [
        "'''!ls /mntDrive/MyDrive/Work_Colab/ '''"
      ]
    },
    {
      "cell_type": "markdown",
      "metadata": {
        "id": "qtXve5KMjO0W"
      },
      "source": [
        "Você tamabém pode montar o drive clicando no quarto ícone de cima para baixo no menu lateral e depois clicando no terceiro ícone da esquerda pra direita. Mais uma vez o Google vai perguntar por uma autorização para acessar seus arquivos do *Google Drive*. Em geral o *Colab* monta seu drive em \"/content\" quando é feito dessa forma."
      ]
    },
    {
      "cell_type": "code",
      "execution_count": null,
      "metadata": {
        "id": "rxAQ4Xhy17cj"
      },
      "outputs": [],
      "source": [
        "''''from google.colab import drive\n",
        "drive.mount('/content/gdrive')'''"
      ]
    },
    {
      "cell_type": "code",
      "execution_count": null,
      "metadata": {
        "id": "EDZ1ITNzc9Ct"
      },
      "outputs": [],
      "source": []
    },
    {
      "cell_type": "markdown",
      "metadata": {
        "id": "GtLj5N1Yc9hI"
      },
      "source": [
        "-----------"
      ]
    },
    {
      "cell_type": "code",
      "execution_count": null,
      "metadata": {
        "id": "zxQmYpzRGYZV",
        "cellView": "form"
      },
      "outputs": [],
      "source": [
        "#@title **Instalando dependências para softwares de dinâmica molecular (ambertools)**\n",
        "#@markdown It will take a few minutes, please, drink a coffee and wait. ;-)\n",
        "# install dependencies\n",
        "import subprocess\n",
        "import sys\n",
        "subprocess.run(\"rm -rf /usr/local/conda-meta/pinned\", shell=True)\n",
        "subprocess.run(\"mamba install -c conda-forge ambertools -y\", shell=True)\n",
        "import pytraj as pt\n",
        "subprocess.run(\"pip install git+https://github.com/pablo-arantes/biopandas\", shell=True)\n",
        "#subprocess.run(\"mamba install openmm=7.7.0\", shell=True)\n",
        "#subprocess.run(\"pip install --upgrade MDAnalysis==2.4.2\", shell=True)\n",
        "!conda install openbabel -c conda-forge\n",
        "\n",
        "#load dependencies\n",
        "import sys\n",
        "from biopandas.pdb import PandasPdb\n",
        "#import openmm as mm\n",
        "#from openmm import *\n",
        "#from openmm.app import *\n",
        "#from openmm.unit import *\n",
        "import os\n",
        "import urllib.request\n",
        "import numpy as np\n",
        "#import MDAnalysis as mda\n",
        "import pytraj as pt\n",
        "import platform\n",
        "import scipy.cluster.hierarchy\n",
        "from scipy.spatial.distance import squareform\n",
        "import scipy.stats as stats\n",
        "from statistics import mean, stdev\n",
        "from pytraj import matrix\n",
        "from IPython.display import set_matplotlib_formats"
      ]
    },
    {
      "cell_type": "code",
      "execution_count": null,
      "metadata": {
        "id": "hEyCVXadkCTl"
      },
      "outputs": [],
      "source": [
        "# import pytraj as pt\n",
        "print('Versão da PyTraj --> ', pt.__version__)"
      ]
    },
    {
      "cell_type": "code",
      "execution_count": null,
      "metadata": {
        "id": "6dgffIdEyZPA"
      },
      "outputs": [],
      "source": [
        "# Verificando se o ambertools foi instalado corretamente\n",
        "!which tleap"
      ]
    },
    {
      "cell_type": "markdown",
      "metadata": {
        "id": "G-3e26U_dDV_"
      },
      "source": [
        "----------------\n",
        "## **Atividade 1: Encontrando a estrutura enovelada dentre *decoys***\n",
        "\n",
        "**Links:**\n",
        "\n",
        "* <https://onlinelibrary.wiley.com/doi/10.1002/jcc.24415>\n",
        "* <http://openmopac.net/>\n",
        "* <https://github.com/openmopac/>\n",
        "* <https://github.com/RochaGerd/Chemistry_with_Python>"
      ]
    },
    {
      "cell_type": "code",
      "execution_count": null,
      "metadata": {
        "id": "RxBDRwBadjZJ"
      },
      "outputs": [],
      "source": [
        "!wget https://github.com/openmopac/mopac/releases/download/v22.0.6/mopac-22.0.6-linux.tar.gz"
      ]
    },
    {
      "cell_type": "code",
      "execution_count": null,
      "metadata": {
        "id": "Dib6LcHCdjZK"
      },
      "outputs": [],
      "source": [
        "!tar xfz mopac-22.0.6-linux.tar.gz"
      ]
    },
    {
      "cell_type": "code",
      "execution_count": null,
      "metadata": {
        "id": "bLYduCy5djZK"
      },
      "outputs": [],
      "source": [
        "!ls -la /content/mopac-22.0.6-linux/bin/*"
      ]
    },
    {
      "cell_type": "code",
      "execution_count": null,
      "metadata": {
        "id": "1h8UhRJudjZK"
      },
      "outputs": [],
      "source": [
        "import os\n",
        "os.environ['PATH'] += ':/content/mopac-22.0.6-linux/bin'"
      ]
    },
    {
      "cell_type": "code",
      "execution_count": null,
      "metadata": {
        "id": "6XRD3RqsdjZK"
      },
      "outputs": [],
      "source": [
        "!mopac"
      ]
    },
    {
      "cell_type": "code",
      "execution_count": null,
      "metadata": {
        "id": "IrCvbQ4ddjZK"
      },
      "outputs": [],
      "source": [
        "%%file acrolein.mop\n",
        "GNORM=0.01 AM1 AUX ALLVECS LARGE EPS=74.8 BFGS\n",
        "1SCF calculation for acrolein\n",
        "Testing MOPAC on Google Colab\n",
        "C   0.811 1  0.465 1  0.000  1\n",
        "C  -0.667 1  0.603 1 -0.000  1\n",
        "C  -1.468 1 -0.469 1  0.000  1\n",
        "H  -1.067 1  1.615 1 -0.000  1\n",
        "H  -2.551 1 -0.382 1  0.000  1\n",
        "H  -1.041 1 -1.468 1  0.000  1\n",
        "H   1.374 1  1.423 1  0.000  1\n",
        "O   1.404 1 -0.598 1 -0.000  1\n",
        "0"
      ]
    },
    {
      "cell_type": "code",
      "execution_count": null,
      "metadata": {
        "id": "bt4qtzMVdjZL"
      },
      "outputs": [],
      "source": [
        "!nohup mopac acrolein.mop &"
      ]
    },
    {
      "cell_type": "code",
      "execution_count": null,
      "metadata": {
        "id": "dTBZGTzqdjZL"
      },
      "outputs": [],
      "source": [
        "!cat < acrolein.arc"
      ]
    },
    {
      "cell_type": "code",
      "execution_count": null,
      "metadata": {
        "id": "v-ESuU-IdjZL"
      },
      "outputs": [],
      "source": [
        "!git clone https://github.com/RochaGerd/Chemistry_with_Python.git"
      ]
    },
    {
      "cell_type": "code",
      "execution_count": null,
      "metadata": {
        "id": "fJZZ5e1BdjZL"
      },
      "outputs": [],
      "source": [
        "!mv -v Chemistry_with_Python/datafiles/Minicurso_Gerd_Rocha_e_Igor_Barden_X_EMMSB_MAI2021/Parte_1_Metodos_Semiempiricos.zip ."
      ]
    },
    {
      "cell_type": "code",
      "execution_count": null,
      "metadata": {
        "id": "r4Arhug_djZM"
      },
      "outputs": [],
      "source": [
        "!unzip Parte_1_Metodos_Semiempiricos.zip"
      ]
    },
    {
      "cell_type": "code",
      "source": [
        "!ls -la"
      ],
      "metadata": {
        "id": "6jYCVcAqgcip"
      },
      "execution_count": null,
      "outputs": []
    },
    {
      "cell_type": "code",
      "source": [
        "!rm *.mop"
      ],
      "metadata": {
        "id": "gSJ7LFH1ztg7"
      },
      "execution_count": null,
      "outputs": []
    },
    {
      "cell_type": "code",
      "source": [
        "!cp /content/Parte_1_Metodos_Semiempiricos/exercicio3/1ctf/*.mop .\n"
      ],
      "metadata": {
        "id": "BUYrjlk3glt5"
      },
      "execution_count": null,
      "outputs": []
    },
    {
      "cell_type": "code",
      "source": [
        "!ls -la *.mop"
      ],
      "metadata": {
        "id": "EiaRAkbZgw6O"
      },
      "execution_count": null,
      "outputs": []
    },
    {
      "cell_type": "code",
      "source": [
        "import glob\n",
        "names = glob.glob('1*.mop')            # lista com '1CTF_xx.mop'\n",
        "names"
      ],
      "metadata": {
        "id": "2ITzBRG_hO5u"
      },
      "execution_count": null,
      "outputs": []
    },
    {
      "cell_type": "code",
      "source": [
        "!head 1CTF_01.mop"
      ],
      "metadata": {
        "id": "12qK7hvrhwy-"
      },
      "execution_count": null,
      "outputs": []
    },
    {
      "cell_type": "code",
      "source": [
        "import os\n",
        "import pandas as pd\n",
        "import subprocess\n",
        "\n",
        "# Diretório onde os arquivos .mop estão localizados\n",
        "directory = '/content'\n",
        "\n",
        "# Lista para armazenar os resultados\n",
        "results = []\n",
        "\n",
        "# Loop através de todos os arquivos .mop no diretório\n",
        "for filename in os.listdir(directory):\n",
        "    if filename.endswith('.mop'):\n",
        "        filepath = os.path.join(directory, filename)\n",
        "\n",
        "        # Executar o MOPAC usando linha de comando\n",
        "        subprocess.run(['mopac', filepath])\n",
        "\n",
        "        # Ler o calor de formação do arquivo de saída do MOPAC\n",
        "        output_file = filepath.replace('.mop', '.out')\n",
        "        with open(output_file, 'r') as file:\n",
        "            lines = file.readlines()\n",
        "            for line in lines:\n",
        "                if 'FINAL HEAT OF FORMATION' in line:\n",
        "                    heat_of_formation = float(line.split()[-2])\n",
        "                    break\n",
        "\n",
        "        # Armazenar os resultados\n",
        "        results.append({\n",
        "            'Filename': filename,\n",
        "            'Heat of Formation (kcal/mol)': heat_of_formation\n",
        "        })\n",
        "\n",
        "# Criar DataFrame do pandas\n",
        "df = pd.DataFrame(results)\n",
        "\n",
        "# Mostrar o DataFrame\n",
        "print(df)\n",
        "\n",
        "# Salvar DataFrame em um arquivo CSV\n",
        "df.to_csv('mopac_pm7_results.csv', index=False)\n"
      ],
      "metadata": {
        "id": "i5HL2t8sjtSs"
      },
      "execution_count": null,
      "outputs": []
    },
    {
      "cell_type": "code",
      "source": [
        "df"
      ],
      "metadata": {
        "id": "n3LoSoalj3IJ"
      },
      "execution_count": null,
      "outputs": []
    },
    {
      "cell_type": "code",
      "source": [
        "# Encontrar o índice da barra com o menor valor\n",
        "min_value_index = df['Heat of Formation (kcal/mol)'].idxmin()\n",
        "\n",
        "# Gerar gráfico de barras com os eixos trocados e nomes dos arquivos na vertical\n",
        "plt.figure(figsize=(10, 6))\n",
        "bars = plt.bar(df['Filename'], df['Heat of Formation (kcal/mol)'], color='skyblue')\n",
        "\n",
        "# Destacar a barra com o menor valor\n",
        "bars[min_value_index].set_color('red')\n",
        "\n",
        "plt.ylabel('Heat of Formation (kcal/mol)')\n",
        "plt.xlabel('Filename')\n",
        "plt.title('Heat of Formation for MOPAC PM7 Calculations')\n",
        "plt.grid(True)\n",
        "plt.xticks(rotation=90)  # Rotacionar os nomes dos arquivos para vertical\n",
        "plt.tight_layout()\n",
        "\n",
        "# Salvar o gráfico em um arquivo\n",
        "plt.savefig('heat_of_formation_bar_chart.png')\n",
        "\n",
        "# Mostrar o gráfico\n",
        "plt.show()"
      ],
      "metadata": {
        "id": "4rL2DbiPnSzE"
      },
      "execution_count": null,
      "outputs": []
    },
    {
      "cell_type": "code",
      "execution_count": null,
      "metadata": {
        "id": "-MOio-fidp9L"
      },
      "outputs": [],
      "source": [
        "# vamos fazer com os demais"
      ]
    },
    {
      "cell_type": "code",
      "execution_count": null,
      "metadata": {
        "id": "co_3egQSdqBC"
      },
      "outputs": [],
      "source": []
    },
    {
      "cell_type": "code",
      "execution_count": null,
      "metadata": {
        "id": "y6OImxw4dqEb"
      },
      "outputs": [],
      "source": []
    },
    {
      "cell_type": "markdown",
      "metadata": {
        "id": "SlCgpqBieVjB"
      },
      "source": [
        "----------------\n",
        "## **Atividade 2: Produzindo uma trajetória de enovelamento da mini proteína TRP cage com dinâmica molecular**\n",
        "\n",
        "**Links:**\n",
        "\n",
        "- https://dev.simonduerr.eu/interactive/mdmc/Ex6/TRP_Cage_OpenMM_colab.html\n",
        "- https://github.com/RochaGerd/Chemistry_with_Python\n"
      ]
    },
    {
      "cell_type": "code",
      "execution_count": null,
      "metadata": {
        "id": "4lTba21gmQlS"
      },
      "outputs": [],
      "source": [
        "#!apt install openbabel"
      ]
    },
    {
      "cell_type": "code",
      "execution_count": null,
      "metadata": {
        "id": "GQ9F1iUXooQA"
      },
      "outputs": [],
      "source": [
        "#!conda install -c conda-forge bioconda"
      ]
    },
    {
      "cell_type": "markdown",
      "metadata": {
        "id": "XjIli58Lu7XH"
      },
      "source": [
        "### **Montando o sistema**"
      ]
    },
    {
      "cell_type": "code",
      "execution_count": null,
      "metadata": {
        "id": "Ut376Ao_g92v"
      },
      "outputs": [],
      "source": [
        "# Montando o arquivo para o tleap\n",
        "# TRP cage linear\n",
        "\n",
        "# >1L2Y_1|Chain A|TC5b|null\n",
        "# NLYIQWLKDGGPSSGRPPPS"
      ]
    },
    {
      "cell_type": "code",
      "execution_count": null,
      "metadata": {
        "id": "F3p_wJotmgGi"
      },
      "outputs": [],
      "source": [
        "# Fazendo o download da estrutura da TRP cage do site do pdb\n",
        "!wget http://files.rcsb.org/download/1L2Y.pdb\n",
        "!grep ATOM 1L2Y.pdb > TRP_folded.pdb"
      ]
    },
    {
      "cell_type": "code",
      "execution_count": null,
      "metadata": {
        "id": "f1I4zuR3nH5A"
      },
      "outputs": [],
      "source": [
        "v = p3d.view()\n",
        "v.addModel(open('TRP_folded.pdb').read())\n",
        "#v.setStyle({'cartoon':{'color':'spectrum'},'stick':{'radius':0.15}})\n",
        "v.setStyle({'cartoon': {'color':'spectrum'}})\n",
        "v.zoomTo()\n",
        "v.show()"
      ]
    },
    {
      "cell_type": "code",
      "execution_count": null,
      "metadata": {
        "id": "tK0pg0IV2l4H"
      },
      "outputs": [],
      "source": [
        "!pip install biopython"
      ]
    },
    {
      "cell_type": "code",
      "execution_count": null,
      "metadata": {
        "id": "i6FcHe7GnW-H"
      },
      "outputs": [],
      "source": [
        "# Aqui vamos separar apenas a primeira conformação para usar como template\n",
        "# do enovelamento\n",
        "\n",
        "from Bio import PDB\n",
        "\n",
        "# Ler o arquivo PDB\n",
        "pdb_parser = PDB.PDBParser(QUIET=True)\n",
        "structure = pdb_parser.get_structure('1L2Y', '1L2Y.pdb')\n",
        "\n",
        "# Extrair o primeiro modelo\n",
        "first_model = next(structure.get_models())\n",
        "\n",
        "# Salvar o primeiro modelo em um novo arquivo PDB\n",
        "io = PDB.PDBIO()\n",
        "io.set_structure(first_model)\n",
        "io.save('1L2Y_1_folded.pdb')\n",
        "\n",
        "print(\"Primeiro modelo salvo como 1L2Y_1_folded.pdb\")\n"
      ]
    },
    {
      "cell_type": "code",
      "execution_count": null,
      "metadata": {
        "id": "5IjjQ70h2yYt"
      },
      "outputs": [],
      "source": [
        "!cat < 1L2Y_1_folded.pdb"
      ]
    },
    {
      "cell_type": "code",
      "execution_count": null,
      "metadata": {
        "id": "ohwe4ns725qC"
      },
      "outputs": [],
      "source": []
    },
    {
      "cell_type": "code",
      "execution_count": null,
      "metadata": {
        "id": "mtdEeD1kg-xX"
      },
      "outputs": [],
      "source": [
        "def show_prot(filename):\n",
        "  p = p3d.view(width=400, height=300)\n",
        "  p.addModel(open(filename, 'r').read(),'pdb')\n",
        "  p.setStyle({'cartoon':{'color':'spectrum'},'stick':{'radius':0.15}})\n",
        "  #p.setStyle({'cartoon': {'color':'spectrum'}})\n",
        "  p.center()\n",
        "  p.zoomTo()\n",
        "  return p"
      ]
    },
    {
      "cell_type": "code",
      "execution_count": null,
      "metadata": {
        "id": "UGK1Eczgg-xd"
      },
      "outputs": [],
      "source": [
        "show_prot('1L2Y_1_folded.pdb')"
      ]
    },
    {
      "cell_type": "markdown",
      "metadata": {
        "id": "6o4g-CRIo0-J"
      },
      "source": [
        "-----------"
      ]
    },
    {
      "cell_type": "code",
      "execution_count": null,
      "metadata": {
        "id": "Uh-nhl9Vg-xQ"
      },
      "outputs": [],
      "source": [
        "%%file leap_TRP.inp\n",
        "source leaprc.protein.ff14SB\n",
        "set default PBradii mbondi3\n",
        "TRP = sequence {NASN LEU TYR ILE GLN TRP LEU LYS ASP GLY GLY PRO SER SER GLY ARG PRO PRO PRO CSER}\n",
        "savepdb TRP trp_cage_linear.pdb\n",
        "saveamberparm TRP trp_cage.prmtop trp_cage_linear.nc\n",
        "quit"
      ]
    },
    {
      "cell_type": "code",
      "execution_count": null,
      "metadata": {
        "id": "2SvnPcbpg-xW"
      },
      "outputs": [],
      "source": [
        "# Montando a topologia e coordenadas para a TRP cage\n",
        "!tleap -f leap_TRP.inp > leap_TRP.log"
      ]
    },
    {
      "cell_type": "code",
      "execution_count": null,
      "metadata": {
        "id": "LtSpf6Sap_ku"
      },
      "outputs": [],
      "source": [
        "show_prot('trp_cage_linear.pdb')"
      ]
    },
    {
      "cell_type": "code",
      "execution_count": null,
      "metadata": {
        "id": "lq4PUd25g-xX"
      },
      "outputs": [],
      "source": [
        "%%file min_implicit.inp\n",
        "Minimizacao da energia\n",
        "&cntrl\n",
        "imin=1, maxcyc=6000, ncyc=1000,\n",
        "cut=999., igb=8, ntb=0, ntpr=100\n",
        "&end"
      ]
    },
    {
      "cell_type": "code",
      "execution_count": null,
      "metadata": {
        "id": "ABSBuJLwg-xd"
      },
      "outputs": [],
      "source": [
        "!nohup sander -O -i min_implicit.inp -p trp_cage.prmtop -c trp_cage_linear.nc -r min_implicit.rst7 &"
      ]
    },
    {
      "cell_type": "code",
      "execution_count": null,
      "metadata": {
        "id": "ZS7MyrwJqOcp"
      },
      "outputs": [],
      "source": [
        "!tail -n 20 mdout"
      ]
    },
    {
      "cell_type": "code",
      "execution_count": null,
      "metadata": {
        "id": "iYXr6-7og-xe"
      },
      "outputs": [],
      "source": [
        "# Carrega a estrutura otimizada com a PyTraj\n",
        "ref_implicit_min = pt.load('min_implicit.rst7', top='trp_cage.prmtop')\n",
        "ref_implicit_min.save('trp_cage_min.pdb')\n",
        "show_prot('trp_cage_min.pdb')"
      ]
    },
    {
      "cell_type": "markdown",
      "metadata": {
        "id": "2SGEwRI-vF3H"
      },
      "source": [
        "---------------\n",
        "### **Rodando a dinâmica NVT**"
      ]
    },
    {
      "cell_type": "code",
      "execution_count": null,
      "metadata": {
        "id": "Cv09YwTjg-xj"
      },
      "outputs": [],
      "source": [
        "# Monta input para dinâmica molecular NVT\n",
        "# OBS: Não usar comentários na caixa que escreve o arquivo \"md_implicit.in\""
      ]
    },
    {
      "cell_type": "code",
      "execution_count": null,
      "metadata": {
        "id": "W-RahzX0g-xk"
      },
      "outputs": [],
      "source": [
        "%%file md_implicit.inp\n",
        "MD NVT, 200 ps\n",
        "&cntrl\n",
        "    imin = 0, nstlim = 100000, dt = 0.002, ntf = 2, nscm = 100,\n",
        "    ntx = 1, irest = 0, ig = -1, ntc = 2, temp0 = 300.0, gamma_ln = 1.0,\n",
        "    ntt=3, tempi = 300.0, ntwr = 100, ntpr = 100, ntb = 0, ntwx = 100,\n",
        "    ntwe = 0, cut = 999.0, igb = 8, ioutfm = 1,\n",
        "&end"
      ]
    },
    {
      "cell_type": "code",
      "execution_count": null,
      "metadata": {
        "id": "MtTfHhWDg-xk"
      },
      "outputs": [],
      "source": [
        "# Para executar a dinâmica moleculare NVT para a TRP cage\n",
        "!nohup sander -O -i md_implicit.inp -o md_implicit.out -p trp_cage.prmtop -c min_implicit.rst7 -r md_implicit.rst -x md_implicit.nc &"
      ]
    },
    {
      "cell_type": "code",
      "execution_count": null,
      "metadata": {
        "id": "5U2qcZpJg-xq"
      },
      "outputs": [],
      "source": [
        "# Observar a execução da dinâmica molecular\n",
        "!tail -n 20 md_implicit.out"
      ]
    },
    {
      "cell_type": "code",
      "source": [
        "!ls -la md_implicit.nc"
      ],
      "metadata": {
        "id": "28zMSpHh2jTt"
      },
      "execution_count": null,
      "outputs": []
    },
    {
      "cell_type": "code",
      "execution_count": null,
      "metadata": {
        "id": "bfunS5rBg-xq"
      },
      "outputs": [],
      "source": [
        "# Carregar a trajetória no objeto \"traj_implicit\"\n",
        "traj_implicit = pt.load('md_implicit.nc', top='trp_cage.prmtop')\n",
        "traj_implicit"
      ]
    },
    {
      "cell_type": "code",
      "execution_count": null,
      "metadata": {
        "id": "whyNsZnCg-xr"
      },
      "outputs": [],
      "source": [
        "# Carrega a última estrutura depois da dinâmica com a PyTraj\n",
        "last_frame = pt.load('md_implicit.rst', top='trp_cage.prmtop')\n",
        "last_frame.save('TRP_cage_last_frame.pdb')\n",
        "\n",
        "show_prot('TRP_cage_last_frame.pdb')"
      ]
    },
    {
      "cell_type": "code",
      "execution_count": null,
      "metadata": {
        "id": "MZAAgNMlpT8X"
      },
      "outputs": [],
      "source": [
        "# Defina as variáveis de ambiente\n",
        "#import os\n",
        "#os.environ['LC_ALL'] = 'C.UTF-8'\n",
        "#os.environ['LANG'] = 'C.UTF-8'\n",
        "\n",
        "# Reinicialize o runtime\n",
        "#import IPython\n",
        "#appt = IPython.Application.instance()\n",
        "#appt.kernel.do_shutdown(True)"
      ]
    },
    {
      "cell_type": "code",
      "execution_count": null,
      "metadata": {
        "id": "XeD8Cd72oq1W"
      },
      "outputs": [],
      "source": [
        "#!ls"
      ]
    },
    {
      "cell_type": "markdown",
      "metadata": {
        "id": "P4U-DX0BAQAs"
      },
      "source": [
        "###**Analisando a trajetória simulada**\n",
        "\n",
        "#### Alinhamento dos *frames* da trajetória simulada"
      ]
    },
    {
      "cell_type": "code",
      "execution_count": null,
      "metadata": {
        "id": "_6zu3IzM5BCe"
      },
      "outputs": [],
      "source": [
        "# Carregar a trajetória no objeto \"traj_implicit\"\n",
        "traj_implicit = pt.load('md_implicit.nc', top='trp_cage.prmtop')\n",
        "traj_implicit"
      ]
    },
    {
      "cell_type": "code",
      "execution_count": null,
      "metadata": {
        "id": "edUagJjn5BFm"
      },
      "outputs": [],
      "source": [
        "# Comandos para alinhar a trajetória pelo frame de referência\n",
        "traj_implicit_aligned = pt.align(traj_implicit, ref=0)"
      ]
    },
    {
      "cell_type": "code",
      "execution_count": null,
      "metadata": {
        "id": "vTyl61WyspuZ"
      },
      "outputs": [],
      "source": [
        "from google.colab import output\n",
        "output.enable_custom_widget_manager()\n",
        "\n",
        "from google.colab import files\n",
        "\n",
        "# This imports are required to use NGL viewer as well as the capabilities of pyCapsid to generate structures.\n",
        "import nglview as ngl\n",
        "from nglview.adaptor import FileStructure\n",
        "\n",
        "import ipywidgets as widgets"
      ]
    },
    {
      "cell_type": "code",
      "execution_count": null,
      "metadata": {
        "id": "VFPg5Vye6ACK"
      },
      "outputs": [],
      "source": [
        "# Comandos para gerar uma visualização da trajetória de dinâmica molecular\n",
        "view_traj_implicit = ngl.show_pytraj(traj_implicit_aligned)\n",
        "view_traj_implicit"
      ]
    },
    {
      "cell_type": "code",
      "execution_count": null,
      "metadata": {
        "id": "YB4dVimDzleu"
      },
      "outputs": [],
      "source": [
        "# Salvar a trajetória alinhada em formato PDB\n",
        "'''pt.write_traj('aligned_trajectory.pdb', traj_implicit_aligned, overwrite=True)"
      ]
    },
    {
      "cell_type": "code",
      "execution_count": null,
      "metadata": {
        "id": "XVp6IXKEzoFI"
      },
      "outputs": [],
      "source": [
        "''''# Ler o arquivo PDB para uma string\n",
        "with open('aligned_trajectory.pdb', 'r') as f:\n",
        "    pdb_data = f.read()"
      ]
    },
    {
      "cell_type": "code",
      "execution_count": null,
      "metadata": {
        "colab": {
          "background_save": true
        },
        "id": "GgG1HNFUu4bR"
      },
      "outputs": [],
      "source": [
        "''''# Configurar a visualização 3D\n",
        "view = p3d.view(width=800, height=600)\n",
        "view.addModelsAsFrames(pdb_data)\n",
        "view.setStyle({'cartoon': {'color': 'spectrum'}})\n",
        "view.animate({'loop': 'backAndForth'})\n",
        "view.zoomTo()\n",
        "view.show()"
      ]
    },
    {
      "cell_type": "code",
      "execution_count": null,
      "metadata": {
        "id": "VV0dPWmD6AI1"
      },
      "outputs": [],
      "source": [
        "''''# Comandos para gerar uma representação para a trajetória carregada\n",
        "view_traj_implicit.add_ball_and_stick()\n",
        "view_traj_implicit.add_cartoon()\n",
        "view_traj_implicit.parameters = dict(camera_type='perpective', background_color='black',fog_near=60, clip_dist=0)\n",
        "view_traj_implicit"
      ]
    },
    {
      "cell_type": "markdown",
      "metadata": {
        "id": "Mky3lz1IAiWD"
      },
      "source": [
        "#### **Cálculo do RMSD**"
      ]
    },
    {
      "cell_type": "code",
      "execution_count": null,
      "metadata": {
        "id": "nSC_u4Np6AQi"
      },
      "outputs": [],
      "source": [
        "# Importar a biblioteca Matplotlib\n",
        "%matplotlib inline\n",
        "from matplotlib import pyplot as plt"
      ]
    },
    {
      "cell_type": "code",
      "execution_count": null,
      "metadata": {
        "id": "5Z9T9-I96AT4"
      },
      "outputs": [],
      "source": [
        "# RMSD em solvente implícito\n",
        "rmsd_implicit = pt.rmsd(traj_implicit, ref=0)\n",
        "\n",
        "# Montagem do gráfico do RMSD ao longo da dinâmica molecular\n",
        "plt.figure(figsize=(8, 6))\n",
        "plt.plot(rmsd_implicit)\n",
        "plt.title('Dinâmica Molecular da TRP_cage em solvente implícito', fontsize=16, pad = 14)\n",
        "plt.xlabel('# Passos', fontsize=14,labelpad=10)\n",
        "plt.ylabel('RMSD (Angstrom)', fontsize=14,labelpad=10)\n",
        "plt.xticks(fontsize=12)\n",
        "plt.yticks(fontsize=12)\n",
        "plt.tight_layout()\n",
        "plt.show()"
      ]
    },
    {
      "cell_type": "markdown",
      "metadata": {
        "id": "g1xLKDesAnXF"
      },
      "source": [
        "#### **Monitoramento de ângulos diedrais**\n",
        "\n",
        "* <https://en.wikipedia.org/wiki/Ramachandran_plot>"
      ]
    },
    {
      "cell_type": "code",
      "execution_count": null,
      "metadata": {
        "id": "XMnfbaRg6AW9"
      },
      "outputs": [],
      "source": [
        "# Cálculo dos ângulos diedrais ao longo da trajetória\n",
        "# orientação: em resrange colocar a faixa de diedros que vc quer pegar\n",
        "diedros_implicit = pt.multidihedral(traj_implicit, resrange='1-20',\n",
        "                                    dihedral_types=\"phi psi\", dtype='dataframe')"
      ]
    },
    {
      "cell_type": "code",
      "execution_count": null,
      "metadata": {
        "id": "nRl5a4JLuPX3"
      },
      "outputs": [],
      "source": [
        "diedros_implicit"
      ]
    },
    {
      "cell_type": "code",
      "execution_count": null,
      "metadata": {
        "id": "lxnb7E9V6AaV"
      },
      "outputs": [],
      "source": [
        "# Ângulos phi em solvente implícito. Adaptar\n",
        "nrows, ncols = 3,2\n",
        "cont = 0\n",
        "plt.figure(figsize=(8, 10))\n",
        "for i in range(nrows):\n",
        "    for j in range(ncols):\n",
        "        cont += 1\n",
        "        lab = '$\\phi_' + str(cont) + '$'\n",
        "        lang = 'phi_'+ str(cont)\n",
        "        if (cont > 1):\n",
        "            plt.subplot(3, 2, cont - 1)\n",
        "            plt.plot(diedros_implicit[lang], '-bo', markersize=2, linewidth=0)\n",
        "            plt.xlabel('# Passos', fontsize=14,labelpad=10)\n",
        "            plt.ylabel(lab, fontsize=14)\n",
        "plt.tight_layout()\n",
        "plt.show()"
      ]
    },
    {
      "cell_type": "code",
      "execution_count": null,
      "metadata": {
        "id": "7I0Ndzd-7oiC"
      },
      "outputs": [],
      "source": [
        "# Ângulos psi em solvente implícito\n",
        "nrows, ncols = 3,2\n",
        "cont = 0\n",
        "plt.figure(figsize=(8, 10))\n",
        "for i in range(nrows):\n",
        "    for j in range(ncols):\n",
        "        cont += 1\n",
        "        lab = '$\\psi_' + str(cont) + '$'\n",
        "        lang = 'psi_'+ str(cont)\n",
        "        if (cont < 6):\n",
        "            plt.subplot(3, 2, cont)\n",
        "            plt.plot(diedros_implicit[lang], '-mo', markersize=2, linewidth=0)\n",
        "            plt.xlabel('# Passos', fontsize=14,labelpad=10)\n",
        "            plt.ylabel(lab, fontsize=14)\n",
        "plt.tight_layout()\n",
        "plt.show()"
      ]
    },
    {
      "cell_type": "markdown",
      "metadata": {
        "id": "2syeQzXEA6IR"
      },
      "source": [
        "#### **Fração de contatos nativos**\n",
        "\n",
        "* <https://mdtraj.org/1.9.3/examples/native-contact.html>\n"
      ]
    },
    {
      "cell_type": "code",
      "source": [
        "!cat < 1L2Y_1_folded.pdb"
      ],
      "metadata": {
        "id": "n_uWR-JWXcQT"
      },
      "execution_count": null,
      "outputs": []
    },
    {
      "cell_type": "code",
      "execution_count": null,
      "metadata": {
        "id": "1Z8AIOgC7olj"
      },
      "outputs": [],
      "source": [
        "# # Lendo o template e visualizando a estrutura\n",
        "tpl = pt.load('1L2Y_1_folded.pdb')\n",
        "#show_prot('1L2Y_1_folded.pdb)"
      ]
    },
    {
      "cell_type": "code",
      "execution_count": null,
      "metadata": {
        "id": "w7dipRT37osv"
      },
      "outputs": [],
      "source": [
        "# Calculando o número de contatos nativos da estrutra de referência, o template\n",
        "n_cont_template = pt.native_contacts(tpl, ref=tpl, top='trp_cage.prmtop',\n",
        "                                     dtype='dataframe')\n",
        "nc_max = n_cont_template.max()\n",
        "print(nc_max)"
      ]
    },
    {
      "cell_type": "code",
      "execution_count": null,
      "metadata": {
        "id": "CIUizA9g7ov7"
      },
      "outputs": [],
      "source": [
        "# Para calcular o número de contatos nativos durante a trajetória\n",
        "n_cont = pt.native_contacts(traj_implicit, ref=tpl, top='trp_cage.prmtop',\n",
        "                            dtype='dataframe')\n",
        "n_cont.rename(columns={'Contacts_00001[native]': 'Native Contacts',\n",
        "                       'Contacts_00001[nonnative]': 'Non-Native Contacts'}, inplace=True)\n",
        "fraction_native = n_cont['Native Contacts']/nc_max[0]\n",
        "fraction_native\n",
        "# OBS: os valores podem não coincidir pois se trata de trajetórias com pequeno grau de aleatoriedade."
      ]
    },
    {
      "cell_type": "code",
      "execution_count": null,
      "metadata": {
        "id": "8MYPTNHH7oy0"
      },
      "outputs": [],
      "source": [
        "# Gráfico das frações de contatos nativos ao longo da trajetória\n",
        "plt.figure(figsize=(10, 8))\n",
        "plt.plot(fraction_native)\n",
        "plt.title('Dinâmica Molecular da TRP cage em solvente implícito', fontsize=16, pad = 14)\n",
        "plt.xlabel('Steps', fontsize=14,labelpad=10)\n",
        "plt.ylabel('Fração de Contatos Nativos (%)', fontsize=14, labelpad=10)\n",
        "plt.xticks(fontsize=12)\n",
        "plt.yticks(fontsize=12)\n",
        "plt.tight_layout()\n",
        "plt.show()"
      ]
    },
    {
      "cell_type": "code",
      "execution_count": null,
      "metadata": {
        "id": "X9UvBcDmed-1"
      },
      "outputs": [],
      "source": []
    },
    {
      "cell_type": "markdown",
      "metadata": {
        "id": "LAmbBGv6eg1M"
      },
      "source": [
        "--------------\n",
        "## **Atividade 3: Dinâmica molecular de proteína solvatada com o google colab**\n",
        "\n",
        "**Links:**\n",
        "\n",
        "* <https://colab.google/notebooks/#science>\n",
        "\n",
        "* <https://github.com/pablo-arantes/Making-it-rain>"
      ]
    },
    {
      "cell_type": "code",
      "execution_count": null,
      "metadata": {
        "id": "dHXWaDbNeoVp"
      },
      "outputs": [],
      "source": []
    },
    {
      "cell_type": "markdown",
      "metadata": {
        "id": "ISt1q42TfJuk"
      },
      "source": [
        "----------------\n",
        "## **Atividade 4: Estrutura eletrônica de PAHs (*polycyclic aromatic hydrocarbons*)**\n",
        "\n",
        "**Link:**\n",
        "\n",
        "* <https://github.com/tjz21/DFT_PIB_Code/tree/main/notebooks>"
      ]
    },
    {
      "cell_type": "code",
      "execution_count": null,
      "metadata": {
        "id": "3v5OXgYueoXT"
      },
      "outputs": [],
      "source": []
    },
    {
      "cell_type": "markdown",
      "metadata": {
        "id": "5LYBCadEfToC"
      },
      "source": [
        "----------------\n",
        "## **Considerações finais**\n",
        "\n",
        "- Temos à nossa disposição uma plataforma gratuíta onde podemos realizar simulações MM e QM iniciais, com boa performance e bem amigável.\n",
        "- A quantidade de códigos e scripts em Python para modelagem molecular é enorme. ***Explorem !***\n",
        "- Visitem nossa página <https://www.quantum-chem.pro.br/> e sigam nosso instagram ***@LQQCPB***.\n",
        "\n"
      ]
    },
    {
      "cell_type": "code",
      "execution_count": null,
      "metadata": {
        "id": "16XdQV7PfZEB"
      },
      "outputs": [],
      "source": []
    },
    {
      "cell_type": "markdown",
      "metadata": {
        "id": "0A_EiiVNfbSr"
      },
      "source": [
        "----------------\n",
        "## **Formulário de *feedback* do minicurso**\n",
        "\n",
        "Esse formulário é para coletar informações sobre a experiência de fazer esse minicurso para que eu possa melhorá-lo nas próximas edições. O preenchimento é voluntário.\n",
        "\n",
        "***Obrigado a todos que participaram !!!***\n",
        "\n",
        "* <https://forms.gle/nRoyfQQfnW28SbuB8>"
      ]
    },
    {
      "cell_type": "code",
      "execution_count": null,
      "metadata": {
        "id": "WyuWvbAdfauG"
      },
      "outputs": [],
      "source": []
    },
    {
      "cell_type": "code",
      "execution_count": null,
      "metadata": {
        "id": "dQF-nGzYfaxZ"
      },
      "outputs": [],
      "source": []
    },
    {
      "cell_type": "markdown",
      "metadata": {
        "id": "YagEfDVvdo6t"
      },
      "source": [
        "-----------------\n",
        "\n",
        "#**FIM**\n"
      ]
    }
  ],
  "metadata": {
    "colab": {
      "provenance": [],
      "toc_visible": true,
      "authorship_tag": "ABX9TyN+bqW6Wtdcshpkn5dn81mJ",
      "include_colab_link": true
    },
    "kernelspec": {
      "display_name": "Python 3",
      "name": "python3"
    },
    "language_info": {
      "name": "python"
    }
  },
  "nbformat": 4,
  "nbformat_minor": 0
}