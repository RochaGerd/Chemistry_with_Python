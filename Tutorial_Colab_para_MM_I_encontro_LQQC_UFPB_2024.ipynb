{
  "nbformat": 4,
  "nbformat_minor": 0,
  "metadata": {
    "colab": {
      "provenance": [],
      "authorship_tag": "ABX9TyMa4ndTmUiyfjPyOKvpaQZG",
      "include_colab_link": true
    },
    "kernelspec": {
      "name": "python3",
      "display_name": "Python 3"
    },
    "language_info": {
      "name": "python"
    }
  },
  "cells": [
    {
      "cell_type": "markdown",
      "metadata": {
        "id": "view-in-github",
        "colab_type": "text"
      },
      "source": [
        "<a href=\"https://colab.research.google.com/github/RochaGerd/Chemistry_with_Python/blob/main/Tutorial_Colab_para_MM_I_encontro_LQQC_UFPB_2024.ipynb\" target=\"_parent\"><img src=\"https://colab.research.google.com/assets/colab-badge.svg\" alt=\"Open In Colab\"/></a>"
      ]
    },
    {
      "cell_type": "markdown",
      "source": [
        "#<font color=\"red\">**Tutorial de Google Colaboratory para Modelagem Molecular**</font>\n",
        "\n",
        "##Autor: Prof. Gerd Bruno da Rocha\n",
        "###(gbr@academico.ufpb.br e https://www.quantum-chem.pro.br/)\n",
        "###Links:\n",
        "\n",
        "1. <https://github.com/RochaGerd/Chemistry_with_Python>\n",
        "2. Instagram do Laboratório de Química Quântica Computacional: @lqqc.ufpb.\n",
        "\n",
        "\n",
        "***Versão: 1.2 (13-JUL-24)***\n",
        "\n",
        "\n",
        "###Material bibliográfico sobre o *Google Colab*:\n",
        "\n",
        "1. Poornima G. Naik. Conceptualizing Python in Google COLAB, 2023.\n",
        "2. David Paper. State-of-the-Art Deep Learning Models in TensorFlow, 2021. <https://link.springer.com/book/10.1007/978-1-4842-7341-8>\n",
        "3. SHASHIKANT BAKRE, PRIYA GOKHALE. Python Programming with Google Colab : A beginner's Hand Book\n",
        "4. Todd Kelsey. Learning Python with ChatGPT and Google Colab: The easiest, quickest way to learn Python, using an advanced AI tutor and free cloud tools\n",
        "5. AM Govind Kumar. Python Programming : With Google Colab Development Environment\n",
        "\n",
        "\n",
        "###Material bibliográfico sobre uso de Python em Química:\n",
        "\n",
        "1. Aprendendo Química com Python, Rodrigo Queiroz e Gerd Rocha, 2021, Amazon Book. <https://github.com/pythonchembook>\n",
        "\n",
        "  Link para compra: <https://www.amazon.com/Aprendendo-Qu%C3%ADmica-com-python-Portuguese/dp/B09LGSG6TY>\n",
        "\n",
        "2. J. Mueller. Começando a Programar em Python Para Leigos. Alta\n",
        "Books, 2020.\n",
        "3. A. Downey. Pense em Python: Pense como um cientista da computação.\n",
        "Novatec, 2016.\n",
        "4. <https://penseallen.github.io/PensePython2e/>\n",
        "5. <https://python-guide-pt-br.readthedocs.io/pt_BR/latest/>\n",
        "6. <https://aprendendo-computacao-com-python.readthedocs.io/en/latest/index.html>\n",
        "\n",
        "###Conteúdo do Tutorial:\n",
        "\n",
        "* Introdução\n",
        "* Como ter acesso ao Google Colaboratory\n",
        "* Começando a usar o Colab\n",
        "* O Colab é uma plataforma de linux\n",
        "* Começando a programar em Python\n",
        "* Usando Google Colab como uma workstation para cálculos de Modelagem Molecular\n",
        "* Instalando programas a partir de bibliotecas disponíveis em repositórios\n",
        "* Instalando com o Conda\n",
        "* Montando drive permanente\n",
        "* Executando comandos do sistema operacional Linux\n",
        "* Instalando programas a partir de executáveis compilados em máquinas externas\n",
        "* Compilando seus códigos dentro do ambiente do Colab\n",
        "* Instalando e usando pacotes de modelagem molecular\n",
        "  * MOPAC\n",
        "  * PRIMoRDiA\n",
        "  * PySCF\n",
        "  * AMBERTools\n",
        "  * Gromacs, OpenMM, NAMD\n",
        "* Mais truques para lidar com o Colab\n",
        "  * Inserindo um diretório na variável Path\n",
        "  * Explorando poder de processamento paralelo\n",
        "\n",
        "\n",
        "Links úteis para retirar o máximo sobre o Google Colab\n",
        "\n",
        "1. <https://github.com/ashishpatel26/State-of-the-Art-Deep-Learning-Models-in-TensorFlow>\n"
      ],
      "metadata": {
        "id": "fB09_xeWtwnj"
      }
    },
    {
      "cell_type": "markdown",
      "source": [
        "#<font color=\"Green\"> **Introdução** </font>\n",
        "\n",
        "Colab é um ambiente do tipo Jupyter Notebook gratuito fornecido pelo Google onde você pode usar recursos computacionais que precisem de CPUs, GPUs e TPUs.\n",
        "\n",
        "É um ambiente que foi bem desenhado para Aprendizado de Máquina ou Inteligência artificial.\n",
        "\n",
        "No entanto, nesse tutorial vamos mostrar como usar esse ambiente computacional para fazer modelagem molecular em todos os aspectos.\n",
        "\n",
        "##<font color=\"Green\"> **Como ter acesso ao Google Colaboratory** </font>\n",
        "\n",
        "Você pode fazer uma busca no google por \"google colaboratory\" para saber mais sobre a ferramenta. Para ter acesso à ferramenta é preciso possuir uma conta google. Uma vez que você tenha aberto uma conta na google, automaticamente você terá acesso à ferramenta *Google Colaboratoy*.\n",
        "\n",
        "O link direto é <https://colab.google/>. Nesse link você poderá criar um novo *Notebook* ou abrir a ferramenta. Clique em *Open Colab*.\n",
        "\n",
        "Ao clicar em *Open Colab*, você será redirecionado para uma janela onde você pode escolher em abrir um novo *Notebook* ou abrir um existente. Para quem não tem familiaridade nenhuma com a ferramenta é acoselhado tentar abrir *Notebooks* já prontos que estão na aba de *Exemplos*. Lá você vai encontrar mais de uma dezena de exemplos de como usar o *Colab*, desde tutoriais iniciais até os avançados.\n",
        "\n",
        "## <font color=\"Green\"> **Começando a usar o Colab** </font>\n",
        "\n",
        "Nativamente o *Colab* é uma ferramenta de programação em Python ou R. Mas, vamos ver nesse tutorial que pode ser usada para muito mais coisas.\n",
        "\n",
        "Para selecionar se vai programar em Python ou em R, basta ir no menu *Editar* e selecionar a opção *Configurações de Notebook*. Vai ser aberta uma janela onde você pode selecionar a linguagem do seu *notebook*, bem como selecionar também o ambiente computacional que você vai usar.\n",
        "\n",
        "As opções são:\n",
        "\n",
        "* CPU\n",
        "* T4 GPU\n",
        "* A100 GPU\n",
        "* V100 GPU\n",
        "* TPU\n",
        "\n",
        "Na conta gratuita da plataforma Google, você terá direito a rodar em um ambiente de CPU contendo 2 cores e também poderá selecionar os aceleradores T4 GPU e TPU. As outras opções só estarão disponíveis mediante assinatura da ferramenta *Google Colab*. Que pode ser feito clicando nessa mesma janela na opção \"Compre mais unidades de computação\".\n",
        "\n",
        "Para se conectar ao ambiente de execução selecionado, você deve clicar no botão *Conectar* que fica no canto superior direito. Ou explorar o menu ao lado desse mesmo botão.\n",
        "\n",
        "Uma vez conectado a um ambiente de execução, você pode conferir os recursos computacionais disponíveis para você usar, tais como memória RAM e disco. Ao clicar no mostrativo de recurso, se abrirá uma janela onde várias informações são mostradas em detalhes.\n",
        "\n",
        "Mude o nome do seu *notebook* de acordo com seu interesse. É sempre bom usar nomes sem espaços no meio. Para isso use o caractere \"_\".\n",
        "\n"
      ],
      "metadata": {
        "id": "kSGYdTlPEwap"
      }
    },
    {
      "cell_type": "markdown",
      "source": [
        "-------------\n",
        "\n",
        "###<font color=\"purple\"> **A partir desse ponto** </font>\n",
        "\n",
        "Se você está seguindo esse tutorial usando a ferramenta *Colab*, a partir desse ponto você deve ir no menu *Arquivo* e clicar na opção *Salvar uma cópia no Drive*. Isso vai permitir que você tenha uma cópia desse *.ipynb* no seu *Google Drive* e possa ter total controle sobre o mesmo.\n",
        "\n",
        "-----------"
      ],
      "metadata": {
        "id": "cQ5fFKbEOrJf"
      }
    },
    {
      "cell_type": "markdown",
      "source": [
        "##<font color=\"purple\"> **O *Colab* é uma plataforma de linux** </font>\n",
        "\n",
        "Ao se conectar ao ambiente de execução do *Colab*, automaticamente é montado para você um \"mini\" ambiente Linux.\n",
        "\n",
        "Veja que existe uma barra lateral contendo sete ícones. Ao clicar no quarto ícone (de cima pra baixo) vai dar acesso a a uma janela onde você pode navegar na estrutura de arquivos e pastas que foi criada.\n",
        "\n",
        "A pasta que é apresentada por padrão é a */content*. É nela onde os arquivos (*outputs*) que serão produzidos por meio de suas execuções serão salvas (por padrão) e também é a pasta onde você deve pôr seus *inputs* para serem lidos pelos procedimentos que constarão nas suas execuções.\n",
        "\n",
        "Navegar nessa janela é muito intuitivo. Se parece muito com muitos gerenciadores de arquivos de ambientes Linux, Windows, Android, IOS, etc.\n",
        "\n",
        "Nessa janela você pode fazer *upload* e *download* de arquivos, bem como criar pastas e também navegar pelas pastas existentes. Se você navegar pela estrutura de pastas desse ambiente você vai perceber claramente que se trata de um ambiente Linux.\n",
        "\n",
        "Esse detalhe é muito importante porque vamos explorar bastante. Já que se trata de um ambiente Linux, então poderemos explorá-lo praticamente da mesma forma como se tivéssemos um computador Linux na nossa frente, com uma grande diferença, esse computador aceleradores tipo GPU ou TPU a nossa disposição. As duas únicas exigências são que tenhamos uma conta na *Google* e tenhamos acesso à internet.\n",
        "\n",
        "E nesse tutorial para Modelagem e Simulação Molecular iremos nos beneficiar bastante dessa situação e:\n",
        "\n",
        "* Instalar programas de modelagem e simulação molecular, inclusive compilando-os a partir dos seus códigos fonte.\n",
        "* Executá-los em paralelo nas CPUs (com OpenMP e MPI) e aceleradores (GPU e TPU)\n",
        "* Montar drives permanentes\n",
        "* Importar/publicar *notebooks* do/no github\n",
        "* Etc.\n",
        "\n",
        "------------\n",
        "\n",
        "\n",
        "\n",
        "\n",
        "\n"
      ],
      "metadata": {
        "id": "xuIjClXMPpik"
      }
    },
    {
      "cell_type": "markdown",
      "source": [
        "#<font color=\"green\"> **Começando a programar em Python** </font>\n",
        "\n",
        "Esse tutorial não foi produzido para apresentar a linguagem Python ou R. Para aprender a programar em Python sugiro os materiais a seguir:\n",
        "\n",
        "### **Para Python**\n",
        "\n",
        "1. Aprendendo Química com Python, Rodrigo Queiroz e Gerd Rocha, 2021, Amazon Book. <https://github.com/pythonchembook>\n",
        "\n",
        "  Link para compra: <https://www.amazon.com/Aprendendo-Qu%C3%ADmica-com-python-Portuguese/dp/B09LGSG6TY>\n",
        "\n",
        "2. J. Mueller. Começando a Programar em Python Para Leigos. Alta\n",
        "Books, 2020.\n",
        "3. A. Downey. Pense em Python: Pense como um cientista da computação. Novatec, 2016.\n",
        "4. <https://penseallen.github.io/PensePython2e/>\n",
        "5. <https://python-guide-pt-br.readthedocs.io/pt_BR/latest/>\n",
        "6. <https://aprendendo-computacao-com-python.readthedocs.io/en/latest/index.html>\n",
        "7. <https://github.com/RochaGerd/Chemistry_with_Python>\n",
        "\n",
        "\n",
        "### **Para R**\n",
        "\n",
        "1. <https://www.r-project.org/doc/bib/R-books.html>\n",
        "2. Joseph Schmuller. Análise Estatística com R Para Leigos, Alta Books; 1ª edição - Tradução da 2ª edição (22 fevereiro 2019).\n",
        "3. <https://icaroagostino.github.io/post/learnr/>\n",
        "\n",
        "--------------------\n",
        "\n",
        "O ambiente de programação do *Google Colab* é muito próximo de um ambiente do Jupyter Notebook. Onde você vai escrever seus códigos nas células de execução. A execução pode ser feita pelas teclas \"Shift\" e \"Enter\" pressionada juntas ou também clicando-se no botão de \"Play* que cada célula possui.\n",
        "\n",
        "O ambiente do *Google Colab* também permite que você insira células de texto, onde é usada a linguagem *Markdown* para editção e formatação dessas células.\n",
        "\n",
        "Com a liguagem *Markdown* você pode construir tabelas, inserir equações e imagens, e muitas coisas mais.\n",
        "\n",
        "Veja exemplos:\n",
        "\n",
        "$\\sqrt{3x-1}+(1+x)^2$\n",
        "\n",
        "$e^x = \\sum_{i = 0}^\\infty \\frac{1}{i!}x^i$\n",
        "\n",
        "Vale muito a pena saber um pouco mais da linguagem *Markdown*. Existem muitos turoriais para se aprender *Markdown*. Aqui apresento uma lista rápida conseguida através de uma busca simples. Mas existem livros e materiais mais avançados.\n",
        "\n",
        "* <https://www.markdowntutorial.com/>\n",
        "* <https://www.markdownguide.org/>\n",
        "* <https://markdown.net.br>\n",
        "* <https://experienceleague.adobe.com/docs/contributor/contributor-guide/writing-essentials/markdown.html?lang=pt-BR>\n",
        "\n",
        "------------------\n"
      ],
      "metadata": {
        "id": "TQrnvyWzVdwv"
      }
    },
    {
      "cell_type": "markdown",
      "source": [
        "\n",
        "### <font color=\"purple\"> **Importação de bibliotecas no Python/Google *Colab*** </font>\n",
        "\n",
        "Existe um minicurso de noções de Python mais completo do que exploraremos aqui e pode ser encontrado no link a seguir:\n",
        "\n",
        "- <https://github.com/RochaGerd/Chemistry_with_Python>\n",
        "\n",
        "Aqui, nesse minicurso, mostrarei apenas os seguintes conteúdos de Python:\n",
        "\n",
        "- Bibliotecas essenciais (numpy, matplotlib e pandas)\n",
        "\n"
      ],
      "metadata": {
        "id": "XuK599qkCRd9"
      }
    },
    {
      "cell_type": "markdown",
      "source": [
        "---\n",
        "#### **Bibliotecas e módulos**\n",
        "\n",
        "Bibliotecas são coleções de funções e classes (e às vezes de dados gerais e constantes) que podem ser facilmente importadas em Python de forma a possibilitar uma enorme variedade de operações com um mínimo de código.\n",
        "\n",
        "Links de bibliotecas em Python\n",
        "\n",
        "- <https://pypi.org/>\n",
        "- <http://datascienceacademy.com.br/blog/top-20-bibliotecas-python-para-data-science/>\n",
        "\n",
        "Algumas dessas bibliotecas precisam ser instaladas. Elas não vêm com a distribuição do python.\n",
        "\n",
        "Primeiro você tem que instalar a biblioteca\n",
        "\n",
        "- Para isso você deve usar os gerenciadores de pacotes de Python: PyPi (<https://pypi.org/>) ou \"*Conda*\".\n",
        "- <http://pyscience-brasil.wikidot.com/install:como-instalar-o-numpy>\n",
        "- <https://computadorcomwindows.com/2018/01/19/tutorial-como-instalar-uma-biblioteca-python-no-computador/>\n",
        "- <http://pyscience-brasil.wikidot.com/>\n",
        "\n",
        "Para carregar uma bibloteca e/ou pacote no seu programa, use uma das seguintes chamadas:\n",
        "\n",
        "\n",
        "```python\n",
        "import biblioteca\n",
        "import biblioteca as apelido\n",
        "from biblioteca import módulo\n",
        "from biblioteca import módulo as apelido\n",
        "from biblioteca import função\n",
        "from biblioteca import função as apelido\n",
        "```\n",
        "\n",
        "---"
      ],
      "metadata": {
        "id": "lDwKHRklh55q"
      }
    },
    {
      "cell_type": "markdown",
      "source": [
        "### <font color=\"purple\"> **Procedimentos simples** </font>"
      ],
      "metadata": {
        "id": "fUNqqul6deAs"
      }
    },
    {
      "cell_type": "code",
      "source": [
        "# Mostrar data e hora da execução\n",
        "import time\n",
        "print(time.ctime())"
      ],
      "metadata": {
        "id": "FrDEJrIRa5lQ"
      },
      "execution_count": null,
      "outputs": []
    },
    {
      "cell_type": "code",
      "source": [
        "# Versão do Python usada\n",
        "import sys\n",
        "print(sys.version)"
      ],
      "metadata": {
        "id": "VsB-nCypOqgn"
      },
      "execution_count": null,
      "outputs": []
    },
    {
      "cell_type": "code",
      "source": [
        "# Verificando a GPU\n",
        "\n",
        "import tensorflow as tf\n",
        "tf.test.gpu_device_name()"
      ],
      "metadata": {
        "id": "J-I0fn9xc95c"
      },
      "execution_count": null,
      "outputs": []
    },
    {
      "cell_type": "code",
      "source": [
        "# verificando a TPU\n",
        "import os\n",
        "if 'COLAB_TPU_ADDR' not in os.environ:\n",
        "   print('Not connected to TPU')\n",
        "else:\n",
        "   print(\"Connected to TPU\")"
      ],
      "metadata": {
        "id": "Opc1SPEadIDS"
      },
      "execution_count": null,
      "outputs": []
    },
    {
      "cell_type": "code",
      "source": [
        "import multiprocessing\n",
        "\n",
        "cores = multiprocessing.cpu_count() # Count the number of cores in a computer\n",
        "cores"
      ],
      "metadata": {
        "id": "WSlMOBxhdZig"
      },
      "execution_count": null,
      "outputs": []
    },
    {
      "cell_type": "code",
      "source": [
        "# Imprimir uma mensagem na tela\n",
        "print(\"Olá turma de Química!\") # Essa é a mensagem"
      ],
      "metadata": {
        "id": "-nzPeo4ka92E"
      },
      "execution_count": null,
      "outputs": []
    },
    {
      "cell_type": "code",
      "source": [
        "# Exemplo de importação da biblioteca matemática NumPy\n",
        "import numpy as np\n",
        "print (\"Versão da NumPy\", np.__version__)"
      ],
      "metadata": {
        "id": "DNjMqQJWbCPg"
      },
      "execution_count": null,
      "outputs": []
    },
    {
      "cell_type": "code",
      "source": [
        "print(4.0*np.pi) # Imprime a operação 4.0*Pi\n",
        "\n",
        "print(np.sqrt(10.0)) # Imprime a raiz quadrada de 10.0\n",
        "\n",
        "print(2.0*np.cos(np.pi)) # Função cosseno\n",
        "\n",
        "print(np.abs(-3.0*np.pi)) # Função valor absoluto"
      ],
      "metadata": {
        "id": "phx3jrXebCTH"
      },
      "execution_count": null,
      "outputs": []
    },
    {
      "cell_type": "code",
      "source": [
        "import pandas as pd\n",
        "print(\"Versão do Pandas\", pd.__version__)"
      ],
      "metadata": {
        "id": "WMmrcJNGbCZ0"
      },
      "execution_count": null,
      "outputs": []
    },
    {
      "cell_type": "code",
      "source": [
        "%%file dados.csv\n",
        "X,Y\n",
        "  1.1,     3.5\n",
        "  4. ,     6.9\n",
        "  0.1,     9.5\n",
        " 23.89,   67.789\n",
        " -4.999,  55.456\n",
        "-35.,     34.98"
      ],
      "metadata": {
        "id": "HfeZkjjUbCc0"
      },
      "execution_count": null,
      "outputs": []
    },
    {
      "cell_type": "code",
      "source": [
        "# Se colunas estão separadas por espaços ou tabulações , use :\n",
        "data = pd.read_csv('dados.csv',header=0)      # colunas separadas por ','\n",
        "\n",
        "type(data)"
      ],
      "metadata": {
        "id": "KQve6BPTbCft"
      },
      "execution_count": null,
      "outputs": []
    },
    {
      "cell_type": "code",
      "source": [
        "data"
      ],
      "metadata": {
        "id": "01C06K09bCi4"
      },
      "execution_count": null,
      "outputs": []
    },
    {
      "cell_type": "code",
      "source": [
        "data.to_excel('dados_novo.xlsx', index = False)  # exporte como xlsx"
      ],
      "metadata": {
        "id": "HBdZxHXLbp4x"
      },
      "execution_count": null,
      "outputs": []
    },
    {
      "cell_type": "code",
      "source": [
        "# Para importar um arquivo do Microsoft Excel , recomendamos\n",
        "# exportar os dados do excel como . csv e usar o comando da\n",
        "# linha 3 acima , pois o comando abaixo pode dar erro e\n",
        "# ser necessário instalar outras bibliotecas ( ex : 'xlrd ')\n",
        "\n",
        "data_new = pd.read_excel('dados_novo.xlsx', sheet_name = 'Sheet1')\n",
        "data_new"
      ],
      "metadata": {
        "id": "zRDxSAQJbp-3"
      },
      "execution_count": null,
      "outputs": []
    },
    {
      "cell_type": "code",
      "source": [
        "%matplotlib inline\n",
        "import matplotlib as mpl\n",
        "import matplotlib.pyplot as plt\n",
        "\n",
        "print (\"Versão da Matplotlib usada:\", mpl.__version__)"
      ],
      "metadata": {
        "id": "mOYgGQcPbqDf"
      },
      "execution_count": null,
      "outputs": []
    },
    {
      "cell_type": "code",
      "source": [
        "from matplotlib import pyplot as plt # Comando para carregar o módulo PyPlot da Matplotlib\n",
        "\n",
        "ax = [0., 0.5, 1.0, 1.5, 2.0, 2.5, 3.0]\n",
        "ay = [0.0, 0.25, 1.0, 2.25, 4.0, 6.25, 9.0]\n",
        "plt.plot(ax,ay)\n",
        "plt.show()"
      ],
      "metadata": {
        "id": "O_nxGhTqbqGu"
      },
      "execution_count": null,
      "outputs": []
    },
    {
      "cell_type": "code",
      "source": [
        "# Exemplo Distribuição de Velocidades moleculares em um gás ideal\n",
        "# A distribuição das velocidades das moléculas de um gás ideal pode ser calculada com base no tratamento dado por James Clerk Maxwell juntamente com Ludwig Boltzmann.\n",
        "# Considere 1 mol de gás carbônico (CO2) inserido em um recipiente de volume fixo de 1L.\n",
        "# Obtenha as curvas de distribuição de velocidade molecular para essa amostra nas temperaturas de 300K e 800K.\n",
        "# Fonte para consulta: Tópico 3D.3 do livro Peter Atkins, Loretta Jones e Lerroy Laverman, Princípios de Química: questionando a vida moderna e o meio ambiente, 7.ed., Porto Alegre, Bookman, 2018.\n",
        "import numpy as np\n",
        "import matplotlib.pyplot as plt\n",
        "\n",
        "M_CO2 = 44.0095  # Em g/mol\n",
        "R = 8.3145 # J/(K*mol)\n",
        "T1 = 300  # K\n",
        "T2 = 800  # K\n",
        "ct1 = ((M_CO2/1000.0)/(2.0*R*T1))\n",
        "ct2 = ((M_CO2/1000.0)/(2.0*R*T2))\n",
        "\n",
        "npt = 100000\n",
        "vmin, vmax = 0.01, 2000.0\n",
        "v = np.linspace(vmin, vmax, npt)\n",
        "\n",
        "fr1 = 4.0*np.pi*((ct1/np.pi)**(1.5))*np.square(v)*np.exp(-ct1*np.square(v))\n",
        "fr2 = 4.0*np.pi*((ct2/np.pi)**(1.5))*np.square(v)*np.exp(-ct2*np.square(v))\n",
        "\n",
        "plt.plot(v,fr1, label=\"T = 300K\", lw = 2.5)\n",
        "plt.plot(v,fr2, label=\"T = 800K\", lw = 2.5)\n",
        "plt.title(\"Gráfico de distribuições de velocidades moleculares \", fontsize=16)\n",
        "plt.xlabel(\"Velocidade molecular (m/s)\",fontsize=14)\n",
        "plt.ylabel(\"Fração, f(v) (s/m)\",fontsize=14)\n",
        "plt.legend()\n",
        "plt.tight_layout()\n",
        "plt.savefig('molecular_speed.png',dpi=400, transparent=True)\n",
        "plt.show()"
      ],
      "metadata": {
        "id": "6DcCYc1PcBzZ"
      },
      "execution_count": null,
      "outputs": []
    },
    {
      "cell_type": "code",
      "source": [
        "# Expemplo 5.5\n",
        "# Um elétron (me = 9,1 x 10 ^-31 kg) está confinado em uma caixa unidimensional de tamanho 50 nM.\n",
        "# Produza os gráficos da função de onda do estado fundamental e dos três primeiros estados excitados em uma mesma figura.\n",
        "# Fonte para consulta: Tópico 1C do livro Peter Atkins, Loretta Jones e Lerroy Laverman, Princípios de Química: questionando a vida moderna e o meio ambiente, 7.ed., Porto Alegre, Bookman, 2018.\n",
        "import numpy as np\n",
        "import matplotlib.pyplot as plt\n",
        "\n",
        "L = 50.0e-9                               # tamanho da caixa (m)\n",
        "a0 = 5.2917721067e-11                             # raio de Bohr\n",
        "L_a0 = L / a0             # tamanho da caixa (unidades atômicas)\n",
        "\n",
        "me = 9.1e-31                            # massa do elétron em kg\n",
        "xmin, xmax = 0, L_a0                           # bordas da caixa\n",
        "npt = 1000                            # número de pontos da função\n",
        "x = np.linspace(xmin, xmax, npt)                  # grid de pontos\n",
        "\n",
        "A = np.sqrt(2/L_a0)\n",
        "psi_n1 = A * np.sin(1 * np.pi * x / L_a0)    # psi(x) para n = 1\n",
        "psi_n2 = A * np.sin(2 * np.pi * x / L_a0)    # psi(x) para n = 2\n",
        "psi_n3 = A * np.sin(3 * np.pi * x / L_a0)    # psi(x) para n = 3\n",
        "psi_n4 = A * np.sin(4 * np.pi * x / L_a0)    # psi(x) para n = 4\n",
        "psi_n5 = A * np.sin(5 * np.pi * x / L_a0)    # psi(x) para n = 5\n",
        "\n",
        "fig = plt.figure()\n",
        "\n",
        "plt.subplot(3, 1, 1)\n",
        "plt.plot(x, psi_n5,'-k', lw = 2.0)\n",
        "plt.xlabel('x (em Bohr)')\n",
        "plt.ylabel('$\\Psi_{5}(x)$')\n",
        "plt.plot((0,xmax),(0,0),'--')       # linha horizontal tracejada\n",
        "\n",
        "plt.subplot(3, 2, 3)\n",
        "plt.plot(x, psi_n4,'-b', lw = 2.0)\n",
        "plt.xlabel('x (em Bohr)')\n",
        "plt.ylabel('$\\Psi_{4}(x)$')\n",
        "plt.plot((0,xmax),(0,0),'--')       # linha horizontal tracejada\n",
        "\n",
        "plt.subplot(3, 2, 4)\n",
        "plt.plot(x, psi_n3, '-r', lw = 2.0)\n",
        "plt.xlabel('x (em Bohr)')\n",
        "plt.ylabel('$\\Psi_{3}(x)$')\n",
        "plt.plot((0,xmax),(0,0),'--')       # linha horizontal tracejada\n",
        "\n",
        "plt.subplot(3, 2, 5)\n",
        "plt.plot(x, psi_n2, '-g', lw = 2.0)\n",
        "plt.xlabel('x (em Bohr)')\n",
        "plt.ylabel('$\\Psi_{2}(x)$')\n",
        "plt.plot((0,xmax),(0,0),'--')       # linha horizontal tracejada\n",
        "\n",
        "plt.subplot(3, 2, 6)\n",
        "plt.plot(x, psi_n1, '-y', lw = 2.0)\n",
        "plt.xlabel('x (em Bohr)')\n",
        "plt.ylabel('$\\Psi_{1}(x)$')\n",
        "\n",
        "plt.tight_layout()\n",
        "\n",
        "plt.show()"
      ],
      "metadata": {
        "id": "wfbFw5LpcB3u"
      },
      "execution_count": null,
      "outputs": []
    },
    {
      "cell_type": "code",
      "source": [
        "import numpy as np\n",
        "import matplotlib.pyplot as plt\n",
        "\n",
        "L, nx, ny = 1, 2, 2\n",
        "x = np.linspace(0, L, 20)\n",
        "y = np.linspace(0, L, 20)\n",
        "X, Y = np.meshgrid(x,y)\n",
        "\n",
        "Psi = (2/L) * np.sin(nx*np.pi*X/L) * np.sin(ny*np.pi*Y/L)\n",
        "\n",
        "fig = plt.figure(figsize=(10,6))\n",
        "plt.contourf(X, Y, Psi, 12, cmap='jet', alpha=0.8)\n",
        "contorno = plt.contour(X, Y, Psi, 12, colors='black')\n",
        "plt.clabel(contorno)\n",
        "\n",
        "plt.title('Gráfico 2D de $\\Psi_{2,2}(X,Y)$', fontsize=16)\n",
        "plt.ylabel('Y', fontsize = 14)\n",
        "plt.xlabel('X', fontsize = 14)\n",
        "plt.savefig('2D_part_in_box_600.png', dpi=600, transparent=True)"
      ],
      "metadata": {
        "id": "TFli82jhcB7K"
      },
      "execution_count": null,
      "outputs": []
    },
    {
      "cell_type": "markdown",
      "source": [
        "----------------\n",
        "### <font color=\"purple\"> **Usando a ferramenta pdb para realizar depuração (*debug*) no seu código no Google Colab** </font>\n",
        "\n",
        "*Debugging* é uma parte essencial do desenvolvimento de código, permitindo aos programadores identificar e corrigir erros em seus scripts. No Google Colab, podemos realizar *debugging* de maneira eficiente usando algumas ferramentas integradas e bibliotecas externas. Este guia fornece uma introdução sobre como utilizar estas ferramentas para depurar seu código no Colab.\n",
        "\n",
        "#### **1. Usando o `pdb` ou a Ipython magic (*%%debug*)**\n",
        "\n",
        "O Python Debugger (`pdb`) é uma ferramenta integrada no Python para depuração de código. Aqui está um exemplo básico de como usá-lo no Google Colab:\n",
        "\n",
        "```python\n",
        "def funcao_teste(a, b):\n",
        "    import pdb; pdb.set_trace()  # Inserindo um breakpoint\n",
        "    resultado = a + b\n",
        "    return resultado\n",
        "\n",
        "print(funcao_teste(2, 3))\n",
        "```\n",
        "\n",
        "Ao executar o código acima, a execução do notebook será interrompida no ponto onde `pdb.set_trace()` foi chamado, permitindo a inspeção dos valores das variáveis e a execução de comandos no contexto do depurador.\n",
        "\n",
        "#### **Comandos úteis do `pdb`**\n",
        "\n",
        "- `n` (next): Executa a próxima linha de código.\n",
        "- `c` (continue): Continua a execução até o próximo breakpoint.\n",
        "- `q` (quit): Sai do debugger.\n",
        "- `p` (print): Imprime o valor de uma expressão.\n",
        "\n",
        "#### **2. Usando o `ipdb`**\n",
        "\n",
        "O `ipdb` é uma versão aprimorada do `pdb` com uma interface mais amigável. Pode ser instalado e utilizado no Colab da seguinte forma:\n",
        "\n",
        "```python\n",
        "!pip install ipdb\n",
        "\n",
        "def funcao_teste(a, b):\n",
        "    import ipdb; ipdb.set_trace()  # Inserindo um breakpoint\n",
        "    resultado = a + b\n",
        "    return resultado\n",
        "\n",
        "print(funcao_teste(2, 3))\n",
        "```\n",
        "\n",
        "#### **3. Depuração Interativa com a Gemini**\n",
        "\n",
        "Google Colab possui integração com uma IA, a Gemini, que dá indicativo do tipo de erro que está acontecendo. Veja como usá-la:\n",
        "\n",
        "1. Escreva um código com um erro deliberado.\n",
        "2. Execute a célula.\n",
        "3. Clique no botão \"Explicar o erro\" que aparece no final da mensagem de erro.\n",
        "\n",
        "```python\n",
        "def funcao_teste(a, b):\n",
        "    resultado = a + b\n",
        "    return resultado\n",
        "\n",
        "print(funcao_teste(2, '3'))  # Erro intencional para depuração\n",
        "```\n",
        "\n",
        "A depuração é uma habilidade crucial para qualquer programador, e o Google Colab oferece várias ferramentas para facilitar esse processo. Seja utilizando o `pdb`, `ipdb`, a interface gráfica de depuração ou `logging`, você pode identificar e corrigir erros de forma eficaz no seu código Python. Experimente essas ferramentas no seu próximo projeto e veja qual delas melhor se adapta às suas necessidades.\n",
        "\n",
        "\n",
        "Alguns Links interessantes:\n",
        "\n",
        "* <https://zohaib.me/debugging-in-google-collab-notebook/>\n",
        "\n",
        "---"
      ],
      "metadata": {
        "id": "RmVVBO8hcJ_T"
      }
    },
    {
      "cell_type": "code",
      "source": [
        "def funcao_teste(a, b):\n",
        "    import pdb; pdb.set_trace()  # Inserindo um breakpoint\n",
        "    resultado = a + b\n",
        "    return resultado\n",
        "\n",
        "print(funcao_teste(2, 3))"
      ],
      "metadata": {
        "id": "9pZuVer_cB_U"
      },
      "execution_count": null,
      "outputs": []
    },
    {
      "cell_type": "code",
      "source": [
        "!pip install ipdb"
      ],
      "metadata": {
        "id": "rxYvl7yoewoS"
      },
      "execution_count": null,
      "outputs": []
    },
    {
      "cell_type": "code",
      "source": [
        "def funcao_teste(a, b):\n",
        "    import ipdb; ipdb.set_trace()  # Inserindo um breakpoint\n",
        "    resultado = a + b\n",
        "    return resultado\n",
        "\n",
        "print(funcao_teste(2, 3))"
      ],
      "metadata": {
        "id": "Ef2iOB_bdtUh"
      },
      "execution_count": null,
      "outputs": []
    },
    {
      "cell_type": "code",
      "source": [
        "def funcao_teste(a, b):\n",
        "    resultado = a + b\n",
        "    return resultado\n",
        "\n",
        "print(funcao_teste(2, '3'))  # Erro intencional para depuração. Depois use %%debug"
      ],
      "metadata": {
        "id": "sC2gQLAddthE"
      },
      "execution_count": null,
      "outputs": []
    },
    {
      "cell_type": "code",
      "source": [],
      "metadata": {
        "id": "paEUx4qAhR0-"
      },
      "execution_count": null,
      "outputs": []
    },
    {
      "cell_type": "markdown",
      "source": [
        "\n",
        "--------------------"
      ],
      "metadata": {
        "id": "f5jC6W-_a0RS"
      }
    },
    {
      "cell_type": "markdown",
      "source": [
        "#<font color=\"green\"> **Usando *Google Colab* como uma *workstation* para cálculos de Modelagem Molecular** </font>\n",
        "\n",
        "A partir dessa parte vamos mostrar como utilizar a plataforma *Google Colab* como ambiente de desenvolvimento e execução de modelagens e simulações moleculares.\n",
        "\n",
        "Para a maioria dos pesquisadores que executam códigos de modelagem e simulação molecular é preciso ter um ambiente que permita:\n",
        "\n",
        "* Instalar seus programas, bibliotecas ou compilar seus códigos (fortran, C, C++, etc)\n",
        "* Executar o cálculo em paralelo em CPUs e GPUs\n",
        "* Manipular arquivos e pastas\n",
        "* Outros\n",
        "\n",
        "Vamos ver que dá para fazer tudo isso no ambiente Linux que é oferecido pelo *Google Colab*\n",
        "\n",
        "---------------\n",
        "\n",
        "\n",
        "\n"
      ],
      "metadata": {
        "id": "7r9QCJLqdJa0"
      }
    },
    {
      "cell_type": "markdown",
      "source": [
        "##<font color=\"green\"> **Instalando programas a partir de bibliotecas disponíveis em repositórios** </font>\n",
        "\n",
        "O *Google Colab* já possui muitas bibliotecas de Python pré-instaladas no seu ambiente computacional. Pelo menos as mais conhecidas:\n",
        "\n",
        "* Numpy\n",
        "* Scipy\n",
        "* Matplotlib\n",
        "* Pandas\n",
        "* outras mais.\n",
        "\n",
        "Contudo é interessante saber que você pode instalar uma biblioteca do Python, mesmo que ela não esteja disponível no *Google Colab*.\n",
        "\n",
        "Para fazer isso basta usar o seguinte comando\n",
        "\n",
        "- **!pip install** *nome da biblioteca ou pacote*\n",
        "\n",
        "Ex: **!pip install** *rdkit*\n",
        "\n",
        "---\n",
        "\n",
        "**Fonte: Aprendendo Química com Python, Rodrigo Queiroz e Gerd Rocha, 2021, Amazon Book. <https://github.com/pythonchembook>**\n",
        "\n",
        "\n",
        "-----------------"
      ],
      "metadata": {
        "id": "Kc0QSMLokhSl"
      }
    },
    {
      "cell_type": "code",
      "source": [
        "# Instalando RDKit\n",
        "!pip install rdkit"
      ],
      "metadata": {
        "id": "WrJpL1HoE5R3"
      },
      "execution_count": null,
      "outputs": []
    },
    {
      "cell_type": "code",
      "source": [
        "# Importando os módulos do RDKit\n",
        "from rdkit import Chem\n",
        "from rdkit.Chem.Draw import IPythonConsole\n",
        "from rdkit.Chem import Draw\n",
        "IPythonConsole.ipython_useSVG=False  # <-- Colocar Falso se você quiser PNGs ao invés de SVGs\n",
        "from rdkit import rdBase\n",
        "print(\"Versão da RDKit:\", rdBase.rdkitVersion)\n",
        "print(\"Versão da RDKit base:\", rdBase.boostVersion)"
      ],
      "metadata": {
        "id": "hFETv0RXg-Mg"
      },
      "execution_count": null,
      "outputs": []
    },
    {
      "cell_type": "code",
      "source": [
        "# Gerar estrutura de linhas a partir do código SMILES\n",
        "mol = Chem.MolFromSmiles('c1ccccc1')\n",
        "mol"
      ],
      "metadata": {
        "id": "oQQGao1Pg-QJ"
      },
      "execution_count": null,
      "outputs": []
    },
    {
      "cell_type": "code",
      "source": [
        "#@title <font color=\"purple\"> **Instalando Conda/Mamba** </font>\n",
        "# Execute this cell to install mamba in the Colab environment\n",
        "\n",
        "if 'google.colab' in str(get_ipython()):\n",
        "  print('Running on colab')\n",
        "  !pip install -q condacolab\n",
        "  import condacolab\n",
        "  condacolab.install_mambaforge()\n",
        "else:\n",
        "  print('Not running on colab.')\n",
        "  print('Make sure you create and activate a new conda environment!')"
      ],
      "metadata": {
        "id": "I8OzKLPWnB6t",
        "cellView": "form"
      },
      "execution_count": null,
      "outputs": []
    },
    {
      "cell_type": "code",
      "source": [
        "!conda --version"
      ],
      "metadata": {
        "id": "oEvqiAnPnCCR"
      },
      "execution_count": null,
      "outputs": []
    },
    {
      "cell_type": "code",
      "source": [
        "!which conda"
      ],
      "metadata": {
        "id": "C_IkuWmpnCF0"
      },
      "execution_count": null,
      "outputs": []
    },
    {
      "cell_type": "code",
      "source": [
        "# Instalando o AMBERTools\n",
        "\n",
        "!conda install -c conda-forge ambertools"
      ],
      "metadata": {
        "id": "modS6m1qnCJD"
      },
      "execution_count": null,
      "outputs": []
    },
    {
      "cell_type": "code",
      "source": [
        "!which tleap"
      ],
      "metadata": {
        "id": "PKE4K-AqojzL"
      },
      "execution_count": null,
      "outputs": []
    },
    {
      "cell_type": "markdown",
      "source": [
        "----------------------\n",
        "\n",
        "###<font color=\"purple\"> **Montando drive permanente** </font>\n",
        "\n",
        "O ambiente criado pelo *Google Colab* só mantem os arquivos produzidos das simulações ou os que foram feitos *upload* enquanto você permanece logado (conectado) ou por pouquissimo tempo após você fechar a ferramenta. Ou seja, esse ambiente é temporário.\n",
        "\n",
        "Mas, você pode montar um espaço de armazenamento externo ao *Colab* por meio do *Google Drive*.\n",
        "\n",
        "No instante que você tentar montar seu drive externo ao *Colab*, o sistema de proteção da Google vai pedir autorização para acessar seus arquivos do *Google Drive*. Aí é só clicar na sua conta Google, pôr sua senha e permitir o acesso. A partir desse momento o seu *Google Drive* estará montado como um drive externo ao *Colab*.\n",
        "\n",
        "Os próximos passos vão mostrar como fazer isso."
      ],
      "metadata": {
        "id": "4N0UcqbNhdLn"
      }
    },
    {
      "cell_type": "code",
      "execution_count": null,
      "metadata": {
        "id": "TzHhax6ptrpm"
      },
      "outputs": [],
      "source": [
        "from google.colab import drive\n",
        "drive.mount('/mntDrive')"
      ]
    },
    {
      "cell_type": "code",
      "source": [
        "# Uma dica é criar uma pasta no seu Google Drive, onde você possa direcionar seus arquivos.\n",
        "# Use nomes sugestivos para isso. Por exemplo: Work_Colab."
      ],
      "metadata": {
        "id": "A_VxoCKvk7A-"
      },
      "execution_count": null,
      "outputs": []
    },
    {
      "cell_type": "code",
      "source": [
        "!ls /mntDrive/MyDrive/Work_Colab/"
      ],
      "metadata": {
        "id": "0mh2cAty2KaS"
      },
      "execution_count": null,
      "outputs": []
    },
    {
      "cell_type": "markdown",
      "source": [
        "Você tamabém pode montar o drive clicando no quarto ícone de cima para baixo no menu lateral e depois clicando no terceiro ícone da esquerda pra direita. Mais uma vez o Google vai perguntar por uma autorização para acessar seus arquivos do *Google Drive*. Em geral o *Colab* monta seu drive em \"/content\" quando é feito dessa forma."
      ],
      "metadata": {
        "id": "qtXve5KMjO0W"
      }
    },
    {
      "cell_type": "code",
      "source": [
        "from google.colab import drive\n",
        "drive.mount('/content/gdrive')"
      ],
      "metadata": {
        "id": "rxAQ4Xhy17cj"
      },
      "execution_count": null,
      "outputs": []
    },
    {
      "cell_type": "markdown",
      "source": [
        "###<font color=\"purple\"> **Executando comandos do sistema operacional Linux** </font>\n",
        "\n",
        "Os comandos anteriores mostraram que podemos executar qualquer comando do Linux, como se estivessemos em um terminal, usando a sintaxe:\n",
        "\n",
        "* **!comando**"
      ],
      "metadata": {
        "id": "hHKg-2f0l1l7"
      }
    },
    {
      "cell_type": "code",
      "source": [
        "!ls -la *\n",
        "\n",
        "# essa é a pasta /content"
      ],
      "metadata": {
        "id": "fP8puFHvmjeD"
      },
      "execution_count": null,
      "outputs": []
    },
    {
      "cell_type": "code",
      "source": [
        "# Vendo infos sobre o sistema operacional do ambiente conectado\n",
        "!cat /proc/cpuinfo\n",
        "!cat /proc/meminfo"
      ],
      "metadata": {
        "id": "saWJPrpQmjmH"
      },
      "execution_count": null,
      "outputs": []
    },
    {
      "cell_type": "code",
      "source": [
        "!lscpu"
      ],
      "metadata": {
        "id": "IQPuGsPafa1V"
      },
      "execution_count": null,
      "outputs": []
    },
    {
      "cell_type": "code",
      "source": [
        "!cat /proc/cpuinfo | grep processor | wc -l"
      ],
      "metadata": {
        "id": "a4jDEpuJgF0N"
      },
      "execution_count": null,
      "outputs": []
    },
    {
      "cell_type": "code",
      "source": [
        "!apt-get install hwinfo"
      ],
      "metadata": {
        "id": "9lNR1qnjgLvA"
      },
      "execution_count": null,
      "outputs": []
    },
    {
      "cell_type": "code",
      "source": [
        "!hwinfo --cpu"
      ],
      "metadata": {
        "id": "Et79zBy2gunW"
      },
      "execution_count": null,
      "outputs": []
    },
    {
      "cell_type": "code",
      "source": [
        "!nvidia-smi -L"
      ],
      "metadata": {
        "id": "IARitThHokl4"
      },
      "execution_count": null,
      "outputs": []
    },
    {
      "cell_type": "code",
      "source": [
        "!nvidia-smi -q"
      ],
      "metadata": {
        "id": "3MA4ytjqopq-"
      },
      "execution_count": null,
      "outputs": []
    },
    {
      "cell_type": "code",
      "source": [
        "!nvidia-smi"
      ],
      "metadata": {
        "id": "n5ZLzfzEotgQ"
      },
      "execution_count": null,
      "outputs": []
    },
    {
      "cell_type": "code",
      "source": [
        "!free -h --si | awk  '/Mem:/{print $2}'"
      ],
      "metadata": {
        "id": "EDyy9diKq5j0"
      },
      "execution_count": null,
      "outputs": []
    },
    {
      "cell_type": "code",
      "source": [
        "import os\n",
        "if int(os.environ[\"COLAB_GPU\"]) > 0:\n",
        "  print(\"a GPU is connected.\")\n",
        "elif \"COLAB_TPU_ADDR\" in os.environ and os.environ[\"COLAB_TPU_ADDR\"]:\n",
        "  print(\"A TPU is connected.\")\n",
        "else:\n",
        "  print(\"No accelerator is connected.\")"
      ],
      "metadata": {
        "id": "shDounJ8rbwL"
      },
      "execution_count": null,
      "outputs": []
    },
    {
      "cell_type": "markdown",
      "source": [
        "Gerando arquivos"
      ],
      "metadata": {
        "id": "wYJOjSngmcC2"
      }
    },
    {
      "cell_type": "code",
      "source": [
        "# Truque para gerar arquivos de dados na própria célula do Colab\n",
        "\n",
        "%%file a.txt\n",
        "  1.1     3.5\n",
        "  4.      6.9\n",
        "  0.1     9.5\n",
        " 23.89   67.789\n",
        " -4.999  55.456\n",
        "-35.     34.98"
      ],
      "metadata": {
        "id": "Qme0rZKXl0oQ"
      },
      "execution_count": null,
      "outputs": []
    },
    {
      "cell_type": "code",
      "source": [
        "# Executando comandos a partir de um arquivo \"temporário\" bash\n",
        "# Veja que aqui não é preciso usar o caractere \"!\" antes do comando do sistema operacional\n",
        "%%bash\n",
        "pwd\n",
        "ls -la *"
      ],
      "metadata": {
        "id": "mbUbg_1rnfbI"
      },
      "execution_count": null,
      "outputs": []
    },
    {
      "cell_type": "code",
      "source": [
        "# para omitir a saida de muitos comandos\n",
        "%%capture\n",
        "!pip install py3Dmol\n",
        "!pip instal pyscf\n",
        "!pip instal ase"
      ],
      "metadata": {
        "id": "LDI0o6BgecB8"
      },
      "execution_count": null,
      "outputs": []
    },
    {
      "cell_type": "markdown",
      "source": [
        "----------------\n",
        "##<font color=\"green\"> **Instalando programas a partir de executáveis compilados em máquinas externas** </font>\n",
        "\n",
        "Aqui a dica é compilar seu código em uma máquina Linux e fazer o *upload* para a pasta de interesse. Podendo ser inclusive a do seu drive montado.\n",
        "\n",
        "Testar com um código simples de fortran.\n",
        "\n",
        "Program Hello\n",
        "\n",
        "write(6,*) \"Hello Bro !!\"\n",
        "\n",
        "stop 'O programa acabou'\n",
        "\n",
        "End Program Hello\n",
        "\n",
        "*Compila com gfortran -o hello.exe hello.f90*\n",
        "Você deve copiar seu executável para a pasta /content e executá-lo."
      ],
      "metadata": {
        "id": "DiAqKXUDecY_"
      }
    },
    {
      "cell_type": "code",
      "source": [
        "!/contet/hello.exe"
      ],
      "metadata": {
        "id": "oyuV5ittefyX"
      },
      "execution_count": null,
      "outputs": []
    },
    {
      "cell_type": "markdown",
      "source": [
        "-------------------\n",
        "##<font color=\"green\"> **Compilando seus códigos dentro do ambiente do *Colab*** </font>\n",
        "\n",
        "Como se trata de um ambiente Linux, você pode compilar seus códigos dentro do *Google Colab* e gerar seus executáveis. O *Colab* tem compilador de C++ e Fortran da GNU, além de cuda da Nvidia.  \n",
        "\n",
        "A vantagem de compilar dentro do *Colab* é que teremos um executável bem ajustado para o ambiente Linux que o *Colab* nos oferece (CPUs e GPUs).  \n"
      ],
      "metadata": {
        "id": "bvXIidfGegzP"
      }
    },
    {
      "cell_type": "code",
      "source": [
        "%%file hello_world.f90\n",
        "Program hello_world\n",
        "Implicit none\n",
        "Integer, parameter :: n = 10\n",
        "Integer :: i\n",
        "do i = 1,n\n",
        "  write(6,*) 'Hello World'\n",
        "enddo\n",
        "continue\n",
        "Stop 'O programa acabou'\n",
        "End program hello_world"
      ],
      "metadata": {
        "id": "ZscAgiz_emE5"
      },
      "execution_count": null,
      "outputs": []
    },
    {
      "cell_type": "code",
      "source": [
        "!ls -la *"
      ],
      "metadata": {
        "id": "NjKh-ugEemIR"
      },
      "execution_count": null,
      "outputs": []
    },
    {
      "cell_type": "code",
      "source": [
        "!gfortran -o hello_world.exe hello_world.f90"
      ],
      "metadata": {
        "id": "kgXPEC-0emLl"
      },
      "execution_count": null,
      "outputs": []
    },
    {
      "cell_type": "code",
      "source": [
        "!/content/hello_world.exe"
      ],
      "metadata": {
        "id": "gratGj37emOx"
      },
      "execution_count": null,
      "outputs": []
    },
    {
      "cell_type": "code",
      "source": [
        "!cuda"
      ],
      "metadata": {
        "id": "7O5pWSnEemRn"
      },
      "execution_count": null,
      "outputs": []
    },
    {
      "cell_type": "code",
      "source": [
        "!gcc"
      ],
      "metadata": {
        "id": "6LqHharOelN0"
      },
      "execution_count": null,
      "outputs": []
    },
    {
      "cell_type": "code",
      "source": [],
      "metadata": {
        "id": "-FOgKfOeuv0J"
      },
      "execution_count": null,
      "outputs": []
    },
    {
      "cell_type": "markdown",
      "source": [
        "### <font color=\"purple\"> **Executando códigos de Python 2.7** </font>\n",
        "\n",
        "O ambiente do Google Colab é Python 3. Mas você pode executar códigos escritos em Python 2.7 através de uma estratégia interessante.\n"
      ],
      "metadata": {
        "id": "TLS_3KUOpChe"
      }
    },
    {
      "cell_type": "code",
      "source": [
        "!python --version"
      ],
      "metadata": {
        "id": "GX5h7KhWpyeC"
      },
      "execution_count": null,
      "outputs": []
    },
    {
      "cell_type": "code",
      "source": [
        "# Instalar Python 2\n",
        "!apt-get update\n",
        "!apt-get install -y python2"
      ],
      "metadata": {
        "id": "N7ZOH60epxTA"
      },
      "execution_count": null,
      "outputs": []
    },
    {
      "cell_type": "code",
      "source": [
        "# Verificar a instalação do Python 2\n",
        "!python2 --version"
      ],
      "metadata": {
        "id": "LWibr_YVp57f"
      },
      "execution_count": null,
      "outputs": []
    },
    {
      "cell_type": "code",
      "source": [
        "# Executar o script Python 2\n",
        "import subprocess\n",
        "\n",
        "# Criar um exemplo de script Python 2\n",
        "with open('script_py2.py', 'w') as f:\n",
        "    f.write(\"\"\"\n",
        "print \"Hello from Python 2\"\n",
        "\"\"\")\n",
        "\n",
        "# Executar o script Python 2\n",
        "subprocess.run(['python2', 'script_py2.py'])"
      ],
      "metadata": {
        "id": "x6lWN-iDpKs4"
      },
      "execution_count": null,
      "outputs": []
    },
    {
      "cell_type": "markdown",
      "source": [
        "---------------------\n",
        "\n",
        "#<font color=\"green\"> **Instalando e usando pacotes de modelagem molecular** </font>\n",
        "\n",
        "A partir desse ponto vamos instalar e usar vários pacotes de modelagem e simulação molecular como uma espécie de preparativo para pesquisadores da área.\n",
        "\n",
        "As instalações serão feitas tanto a partir das distribuições como bibliotecas quanto através do *download* do código e sua compilação.\n",
        "\n",
        "Não vamos explorar muito os recursos de cada programa. A sugestão é gerar um novo *notebook* para cada ferramenta.\n",
        "\n",
        "A lista dos softwares que vamos cobrir é:\n",
        "\n",
        "* MOPAC 2016\n",
        "* PRIMoRDiA\n",
        "* PySCF\n",
        "* AMBERTools\n",
        "* Gromacs\n",
        "* NAMD\n",
        "* OpenMM\n",
        "\n",
        "\n",
        "\n",
        "-------------------------"
      ],
      "metadata": {
        "id": "8870Uhd6uyaW"
      }
    },
    {
      "cell_type": "markdown",
      "source": [
        "### <font color=\"purple\"> **MOPAC** </font>\n",
        "\n",
        "Links:\n",
        "\n",
        "* <http://openmopac.net/>\n",
        "* <https://github.com/openmopac/>\n",
        "* <https://wiki.fysik.dtu.dk/ase/>"
      ],
      "metadata": {
        "id": "wQs1yV6Yv9md"
      }
    },
    {
      "cell_type": "code",
      "source": [
        "!wget https://github.com/openmopac/mopac/releases/download/v22.0.6/mopac-22.0.6-linux.tar.gz"
      ],
      "metadata": {
        "id": "oJFezzjiuv3c"
      },
      "execution_count": null,
      "outputs": []
    },
    {
      "cell_type": "code",
      "source": [
        "%%file acrolein.mop\n",
        "GNORM=0.01 AM1 AUX ALLVECS LARGE EPS=74.8 BFGS\n",
        "1SCF calculation for acrolein\n",
        "Testing MOPAC on Google Colab\n",
        "C   0.811 1  0.465 1  0.000  1\n",
        "C  -0.667 1  0.603 1 -0.000  1\n",
        "C  -1.468 1 -0.469 1  0.000  1\n",
        "H  -1.067 1  1.615 1 -0.000  1\n",
        "H  -2.551 1 -0.382 1  0.000  1\n",
        "H  -1.041 1 -1.468 1  0.000  1\n",
        "H   1.374 1  1.423 1  0.000  1\n",
        "O   1.404 1 -0.598 1 -0.000  1\n",
        "0"
      ],
      "metadata": {
        "id": "SYYr7T6I26Hl"
      },
      "execution_count": null,
      "outputs": []
    },
    {
      "cell_type": "code",
      "source": [
        "!tar xfz mopac-22.0.6-linux.tar.gz"
      ],
      "metadata": {
        "id": "U8ydtEkq0snX"
      },
      "execution_count": null,
      "outputs": []
    },
    {
      "cell_type": "code",
      "source": [
        "!ls -la /content/mopac-22.0.6-linux/bin/*"
      ],
      "metadata": {
        "id": "TcdbQBwW3Nj0"
      },
      "execution_count": null,
      "outputs": []
    },
    {
      "cell_type": "code",
      "source": [
        "# Para colocar o diretório do MOPAC no PATH\n",
        "import os\n",
        "os.environ['PATH'] += ':/content/mopac-22.0.6-linux/bin'"
      ],
      "metadata": {
        "id": "rYLx6AoIsyAG"
      },
      "execution_count": null,
      "outputs": []
    },
    {
      "cell_type": "code",
      "source": [
        "!nohup mopac acrolein.mop &"
      ],
      "metadata": {
        "id": "Qs_kdgY00sqg"
      },
      "execution_count": null,
      "outputs": []
    },
    {
      "cell_type": "code",
      "source": [
        "!cat < acrolein.arc"
      ],
      "metadata": {
        "id": "JMRHXKhI0stc"
      },
      "execution_count": null,
      "outputs": []
    },
    {
      "cell_type": "code",
      "source": [],
      "metadata": {
        "id": "jX8ItKfywFaU"
      },
      "execution_count": null,
      "outputs": []
    },
    {
      "cell_type": "markdown",
      "source": [
        "##### **Executando o MOPAC através da ASE**"
      ],
      "metadata": {
        "id": "gr9PdeCzF9u2"
      }
    },
    {
      "cell_type": "code",
      "source": [
        "!pip install ase"
      ],
      "metadata": {
        "id": "j1Vf0ZiQunqt"
      },
      "execution_count": null,
      "outputs": []
    },
    {
      "cell_type": "code",
      "source": [
        "# https://wiki.fysik.dtu.dk/ase/ase/calculators/mopac.html\n",
        "from ase.build import molecule\n",
        "from ase.calculators.mopac import MOPAC\n",
        "\n",
        "atoms = molecule('O2') # Testar com a N2 é melhor\n",
        "atoms.calc = MOPAC(label='O2') # Testar com a N2 é melhor\n",
        "atoms.get_potential_energy()\n",
        "eigs = atoms.calc.get_eigenvalues()\n",
        "somos = atoms.calc.get_somo_levels()\n",
        "homo, lumo = atoms.calc.get_homo_lumo_levels()"
      ],
      "metadata": {
        "id": "7sZiEITEunui"
      },
      "execution_count": null,
      "outputs": []
    },
    {
      "cell_type": "code",
      "source": [
        "eigs"
      ],
      "metadata": {
        "id": "wLFvBullyQJU"
      },
      "execution_count": null,
      "outputs": []
    },
    {
      "cell_type": "code",
      "source": [
        "atoms = molecule('H2')\n",
        "atoms.calc = MOPAC(label='H2', task='GRADIENTS')\n",
        "atoms.get_potential_energy()"
      ],
      "metadata": {
        "id": "XoTgxQ8lyQTE"
      },
      "execution_count": null,
      "outputs": []
    },
    {
      "cell_type": "code",
      "source": [
        "atoms = MOPAC.read_atoms('H2')\n",
        "atoms.calc.get_homo_lumo_levels()"
      ],
      "metadata": {
        "id": "ts8s6HacyrTg"
      },
      "execution_count": null,
      "outputs": []
    },
    {
      "cell_type": "code",
      "source": [
        "atoms.calc.get_final_heat_of_formation()*23.060548"
      ],
      "metadata": {
        "id": "nSOWr3uL41KA"
      },
      "execution_count": null,
      "outputs": []
    },
    {
      "cell_type": "code",
      "source": [
        "atoms.get_all_distances()"
      ],
      "metadata": {
        "id": "p_sIGoMF5uu6"
      },
      "execution_count": null,
      "outputs": []
    },
    {
      "cell_type": "code",
      "source": [
        "atoms.get_dipole_moment()"
      ],
      "metadata": {
        "id": "Dw-fkcfo6Oqw"
      },
      "execution_count": null,
      "outputs": []
    },
    {
      "cell_type": "markdown",
      "source": [
        "------------\n",
        "\n",
        "##### **Exercício 1. Reação isodésmica**"
      ],
      "metadata": {
        "id": "wqFTO5-_Qcge"
      }
    },
    {
      "cell_type": "code",
      "source": [
        "!git clone https://github.com/RochaGerd/Chemistry_with_Python.git"
      ],
      "metadata": {
        "id": "kEKrnyshxSFX"
      },
      "execution_count": null,
      "outputs": []
    },
    {
      "cell_type": "code",
      "source": [
        "!mv -v Chemistry_with_Python/datafiles/Minicurso_Gerd_Rocha_e_Igor_Barden_X_EMMSB_MAI2021/Parte_1_Metodos_Semiempiricos.zip ."
      ],
      "metadata": {
        "id": "YZ_R-HXnxHL7"
      },
      "execution_count": null,
      "outputs": []
    },
    {
      "cell_type": "code",
      "source": [
        "!unzip Parte_1_Metodos_Semiempiricos.zip"
      ],
      "metadata": {
        "id": "WcY2CdIiunhd"
      },
      "execution_count": null,
      "outputs": []
    },
    {
      "cell_type": "code",
      "source": [
        "# Tentar importar a biblioteca e, se falhar, instalar\n",
        "try:\n",
        "    import rdkit\n",
        "except ImportError:\n",
        "    !pip install rdkit\n",
        "    import rdkit\n",
        "\n",
        "# Verificar a instalação e a versão da biblioteca\n",
        "print(\"Versão do RDKit:\", rdkit.__version__)"
      ],
      "metadata": {
        "id": "iBYBO_93RGdc"
      },
      "execution_count": null,
      "outputs": []
    },
    {
      "cell_type": "code",
      "source": [
        "del df"
      ],
      "metadata": {
        "id": "gRpZ4Tjz0bIR"
      },
      "execution_count": null,
      "outputs": []
    },
    {
      "cell_type": "code",
      "source": [
        "import pandas as pd\n",
        "from ase import Atoms\n",
        "from ase.optimize import BFGS\n",
        "from ase.calculators.mopac import MOPAC\n",
        "from rdkit import Chem\n",
        "from rdkit.Chem import AllChem\n",
        "\n",
        "# Função para converter SMILES para objeto Atoms do ASE\n",
        "def smiles_to_ase_atoms(smiles):\n",
        "    mol = Chem.MolFromSmiles(smiles)\n",
        "    mol = Chem.AddHs(mol)\n",
        "    AllChem.EmbedMolecule(mol, AllChem.ETKDG())\n",
        "    atoms = [atom.GetSymbol() for atom in mol.GetAtoms()]\n",
        "    positions = mol.GetConformer().GetPositions()\n",
        "    return Atoms(symbols=atoms, positions=positions)\n",
        "\n",
        "# Lista de SMILES das moléculas com identificação\n",
        "molecules = [\n",
        "    {'smiles': 'CCO', 'id': 'molecule_1'},  # Etanol\n",
        "    {'smiles': 'CC(=O)O', 'id': 'molecule_2'},  # Ácido acético\n",
        "    {'smiles': 'C1=CC=CC=C1', 'id': 'molecule_3'}  # Benzeno\n",
        "]\n",
        "\n",
        "# Inicializar dicionário para armazenar resultados\n",
        "results = {'Molecule': [], 'SMILES': []}\n",
        "\n",
        "# Adicionar colunas para cada método\n",
        "methods = ['AM1', 'PM3', 'RM1']\n",
        "for method in methods:\n",
        "    results[method] = []\n",
        "\n",
        "# Loop sobre cada molécula e cada método semiempírico\n",
        "for mol in molecules:\n",
        "    mol_id = mol['id']\n",
        "    smiles = mol['smiles']\n",
        "    ase_atoms = smiles_to_ase_atoms(smiles)\n",
        "\n",
        "    # Adicionar informações básicas da molécula\n",
        "    results['Molecule'].append(mol_id)\n",
        "    results['SMILES'].append(smiles)\n",
        "\n",
        "    for method in methods:\n",
        "        # Configurar o calculador MOPAC\n",
        "        calc = MOPAC(label=mol_id, task='1SCF GRADIENTS', method=method)\n",
        "        ase_atoms.set_calculator(calc)\n",
        "\n",
        "        # Otimizar a geometria\n",
        "        opt = BFGS(ase_atoms)\n",
        "        opt.run(fmax=0.05)\n",
        "\n",
        "        # Obter o calor de formação da última linha do arquivo .out\n",
        "        with open(f'{mol_id}.out', 'r') as file:\n",
        "            lines = file.readlines()\n",
        "            for line in lines:\n",
        "                if 'FINAL HEAT OF FORMATION' in line:\n",
        "                    heat_of_formation = float(line.split()[-2])\n",
        "                    break\n",
        "\n",
        "        # Armazenar os resultados no dicionário\n",
        "        results[method].append(heat_of_formation)\n",
        "\n",
        "# Criar DataFrame do pandas\n",
        "df = pd.DataFrame(results)\n",
        "print(df)\n",
        "\n",
        "# Salvar DataFrame em um arquivo CSV\n",
        "df.to_csv('heat_of_formation_results.csv', index=False)\n"
      ],
      "metadata": {
        "id": "C79wkjPpX7o6"
      },
      "execution_count": null,
      "outputs": []
    },
    {
      "cell_type": "code",
      "source": [
        "df"
      ],
      "metadata": {
        "id": "RJ-KIbbNYCvo"
      },
      "execution_count": null,
      "outputs": []
    },
    {
      "cell_type": "code",
      "source": [],
      "metadata": {
        "id": "OnmxycrItcUk"
      },
      "execution_count": null,
      "outputs": []
    },
    {
      "cell_type": "markdown",
      "source": [
        "-------------------"
      ],
      "metadata": {
        "id": "F6Lc1OK4vNFl"
      }
    },
    {
      "cell_type": "markdown",
      "source": [
        "###<font color=\"purple\"> **PRIMoRDiA** </font>\n",
        "\n",
        "Links:\n",
        "\n",
        "* <https://github.com/igorChem>\n",
        "* <https://github.com/igorChem/PRIMoRDiA1.0v/blob/master/Tutorial_PRIMoRDiA_Colab.ipynb>\n",
        "* <https://github.com/RochaGerd/Chemistry_with_Python>"
      ],
      "metadata": {
        "id": "2z1jHVKRwrrz"
      }
    },
    {
      "cell_type": "code",
      "source": [
        "!rm -r /content/PRIMoRDiA1.0v  # Apaga o diretório se tiver tido uma instalação prévia"
      ],
      "metadata": {
        "id": "yNxwORY5KyjG"
      },
      "execution_count": null,
      "outputs": []
    },
    {
      "cell_type": "code",
      "source": [
        "!apt install libeigen3-dev"
      ],
      "metadata": {
        "id": "MxDv_Qk2wVsB"
      },
      "execution_count": null,
      "outputs": []
    },
    {
      "cell_type": "code",
      "source": [
        "!git clone https://github.com/igorChem/PRIMoRDiA1.0v\n",
        "%cd /content/PRIMoRDiA1.0v\n",
        "!cmake .\n",
        "!make"
      ],
      "metadata": {
        "id": "Ou8WQcYqwVu7"
      },
      "execution_count": null,
      "outputs": []
    },
    {
      "cell_type": "code",
      "source": [
        "!./PRIMoRDiA_1.25v"
      ],
      "metadata": {
        "id": "Xd_M7LG0RM0w"
      },
      "execution_count": null,
      "outputs": []
    },
    {
      "cell_type": "code",
      "source": [
        "# Acessar link https://github.com/RochaGerd/Chemistry_with_Python para todos os turoriais"
      ],
      "metadata": {
        "id": "MedRgnGBRnzN"
      },
      "execution_count": null,
      "outputs": []
    },
    {
      "cell_type": "markdown",
      "source": [
        "--------------\n",
        "###<font color=\"purple\"> **PySCF** </font>\n",
        "\n",
        "Essa biblioteca realiza cálculos de química quântica em moléculas. É um código aberto e de fácil utilização.  \n",
        "\n",
        "- <https://pyscf.org/>\n",
        "\n",
        "Nós iremos executar alguns exemplos de tutoriais do PySCF que estão disponíveis na internet.\n",
        "\n",
        "**Links interessantes**\n",
        "- <http://www.cheminfo.org/Chemistry/Cheminformatics/FormatConverter/index.html>\n",
        "\n",
        "\n",
        "**Fonte de Consulta**\n",
        "- <https://github.com/vinayak2019/python_quantum_chemistry_introductory>\n",
        "- <https://github.com/pyscf/pyscf/tree/master/examples>\n"
      ],
      "metadata": {
        "id": "XPEasIlnwSL9"
      }
    },
    {
      "cell_type": "code",
      "source": [
        "# Instalando o PySCF\n",
        "\n",
        "!pip install pyscf"
      ],
      "metadata": {
        "id": "jaRO2q4luwEN"
      },
      "execution_count": null,
      "outputs": []
    },
    {
      "cell_type": "markdown",
      "source": [
        "Vamos gerar um input para um sistema molecular bem simples. Para isso use a ferramenta openbabel online para criar a estrutura da molécula do etileno.\n",
        "\n",
        "**Primeiro Chute inicial**\n",
        "\n",
        "-------------\n",
        "8\n",
        "\n",
        "C    -0.212   -0.537    0.000  \n",
        "C    -0.212    0.803    0.000  \n",
        "H     0.724   -1.077   -0.000  \n",
        "H    -1.147   -1.077    0.000  \n",
        "H    -1.147    1.343   -0.000  \n",
        "H     0.724    1.343    0.000  \n",
        "H    -0.201   -1.477    0.000  \n",
        "H    -0.232    1.855    0.000\n",
        "\n",
        "-------------\n",
        "\n",
        "**Segundo chute inicial**\n",
        "\n",
        "-------------\n",
        "8\n",
        "\n",
        "C          0.92429       -0.04129       -0.04413  \n",
        "C          2.43636       -0.04129       -0.04413  \n",
        "H          0.54002        0.05815        0.97540  \n",
        "H          0.54002       -0.97395       -0.46777  \n",
        "H          0.54002        0.79193       -0.64001  \n",
        "H          2.82063       -0.87451        0.55175  \n",
        "H          2.82063        0.89137        0.37952  \n",
        "H          2.82064       -0.14073       -1.06366\n",
        "\n",
        "------------"
      ],
      "metadata": {
        "id": "V9UeQS0y1dI1"
      }
    },
    {
      "cell_type": "code",
      "source": [
        "%%file etano.xyz\n",
        "8\n",
        "\n",
        "C          0.92429       -0.04129       -0.04413\n",
        "C          2.43636       -0.04129       -0.04413\n",
        "H          0.54002        0.05815        0.97540\n",
        "H          0.54002       -0.97395       -0.46777\n",
        "H          0.54002        0.79193       -0.64001\n",
        "H          2.82063       -0.87451        0.55175\n",
        "H          2.82063        0.89137        0.37952\n",
        "H          2.82064       -0.14073       -1.06366"
      ],
      "metadata": {
        "id": "aQvAiE2Z1WKv"
      },
      "execution_count": null,
      "outputs": []
    },
    {
      "cell_type": "code",
      "source": [
        "# Importar os módulos do PySCF importantes para os primeiros cálculos.\n",
        "\n",
        "from pyscf import gto, scf"
      ],
      "metadata": {
        "id": "8VzGkDb21WNu"
      },
      "execution_count": null,
      "outputs": []
    },
    {
      "cell_type": "code",
      "source": [
        "# Ler a geometria xyz\n",
        "\n",
        "mol = gto.M(atom=\"etano.xyz\")\n",
        "mol"
      ],
      "metadata": {
        "id": "7ZnXSuIs1WQ-"
      },
      "execution_count": null,
      "outputs": []
    },
    {
      "cell_type": "code",
      "source": [
        "# definir a função de base\n",
        "mol.basis = \"6-31G\"\n",
        "\n",
        "# definir o método de cálculo\n",
        "mf = mol.KS()\n",
        "mf.xc = 'b3lyp'"
      ],
      "metadata": {
        "id": "Ku7AickC1WT-"
      },
      "execution_count": null,
      "outputs": []
    },
    {
      "cell_type": "code",
      "source": [
        "# Rodar o cálculo e obter a energia eletrônica (em a.u.)\n",
        "e_1SCF = mf.kernel()\n",
        "print()\n",
        "print(\"A energia 1SCF da molécula é igual a:\", e_1SCF, \"em a.u.\")"
      ],
      "metadata": {
        "id": "qc9BlMyB1WYa"
      },
      "execution_count": null,
      "outputs": []
    },
    {
      "cell_type": "code",
      "source": [
        "# total number of electrons\n",
        "n = mol.tot_electrons()\n",
        "n"
      ],
      "metadata": {
        "id": "XQuC-jB0wVmH"
      },
      "execution_count": null,
      "outputs": []
    },
    {
      "cell_type": "code",
      "source": [
        "# display all orbitals\n",
        "mf.mo_energy"
      ],
      "metadata": {
        "id": "Myhp-EtZ1sTh"
      },
      "execution_count": null,
      "outputs": []
    },
    {
      "cell_type": "code",
      "source": [
        "# HOMO is n/2 orbital. But python index starts from 0\n",
        "homo = mf.mo_energy[int(n/2) - 1]\n",
        "homo"
      ],
      "metadata": {
        "id": "f5i4nP_X1sW6"
      },
      "execution_count": null,
      "outputs": []
    },
    {
      "cell_type": "code",
      "source": [
        "mol = gto.M(atom=\"etano.xyz\")\n",
        "\n",
        "# set basis set\n",
        "mol.basis = \"6-31G\"\n",
        "\n",
        "# set the functional\n",
        "mf = mol.KS()\n",
        "mf.xc = 'b3lyp'\n",
        "\n",
        "# set solvent\n",
        "mf = mf.DDCOSMO()\n",
        "mf.with_solvent.eps = 35.688  # Acetonitrile\n",
        "\n",
        "# run single point energy\n",
        "mf = mf.run()\n",
        "\n",
        "#get total energy\n",
        "neutral_energy_solvent = mf.e_tot"
      ],
      "metadata": {
        "id": "gP-bXEkD1saH"
      },
      "execution_count": null,
      "outputs": []
    },
    {
      "cell_type": "code",
      "source": [
        "# Para otimizar a geometria com o PySCF é necessário instalar a biblioteca Geometric\n",
        "!pip install geometric"
      ],
      "metadata": {
        "id": "3AkTU7x_1sc-"
      },
      "execution_count": null,
      "outputs": []
    },
    {
      "cell_type": "code",
      "source": [
        "from pyscf.geomopt.geometric_solver import optimize\n",
        "\n",
        "# create the pyscf molecule\n",
        "mol = gto.M(atom=\"etano.xyz\")\n",
        "\n",
        "# set basis set\n",
        "mol.basis = \"6-31G\"\n",
        "\n",
        "# set the functional\n",
        "mf = mol.KS()\n",
        "mf.xc = 'b3lyp'\n",
        "\n",
        "# run optimatization calculations\n",
        "mol_eq = optimize(mf)"
      ],
      "metadata": {
        "id": "RZjt8FnY1sgT"
      },
      "execution_count": null,
      "outputs": []
    },
    {
      "cell_type": "code",
      "source": [
        "# save the optimized geometry for visualization\n",
        "mol_eq.tofile(\"opt_etano.xyz\")"
      ],
      "metadata": {
        "id": "zK9JzZev15Cw"
      },
      "execution_count": null,
      "outputs": []
    },
    {
      "cell_type": "code",
      "source": [
        "conv_params = {\n",
        "    'convergence_energy': 1e-1,  # Eh\n",
        "    'convergence_grms': 3e-1,    # Eh/Bohr\n",
        "    'convergence_gmax': 4.5e-1,  # Eh/Bohr\n",
        "    'convergence_drms': 1.2e-1,  # Angstrom\n",
        "    'convergence_dmax': 1.8e-1,  # Angstrom\n",
        "}\n",
        "\n",
        "mol_eq = optimize(mf, **conv_params)"
      ],
      "metadata": {
        "id": "8KmHoOQM15HN"
      },
      "execution_count": null,
      "outputs": []
    },
    {
      "cell_type": "code",
      "source": [
        "# create a molecule object\n",
        "mol = gto.M(atom=\"opt_etano.xyz\")\n",
        "\n",
        "# set basis set\n",
        "mol.basis = \"6-31G\"\n",
        "\n",
        "# set the functional\n",
        "mf = mol.KS()\n",
        "mf.xc = 'b3lyp'\n",
        "\n",
        "# run frequency calculation\n",
        "mf.run()\n",
        "hessian = mf.Hessian().kernel()"
      ],
      "metadata": {
        "id": "o4PcUYqC15KB"
      },
      "execution_count": null,
      "outputs": []
    },
    {
      "cell_type": "code",
      "source": [
        "from pyscf.hessian import thermo\n",
        "\n",
        "# getting the frequncy data from the calculation\n",
        "freq_info = thermo.harmonic_analysis(mf.mol, hessian)\n",
        "freq_info[\"freq_wavenumber\"]"
      ],
      "metadata": {
        "id": "ME-rhSya2DPT"
      },
      "execution_count": null,
      "outputs": []
    },
    {
      "cell_type": "code",
      "source": [
        "# Escrever a função de onda no formato do Molden\n",
        "import sys\n",
        "from pyscf import gto, scf\n",
        "from pyscf import lo\n",
        "from pyscf.tools import molden\n",
        "\n",
        "'''\n",
        "Write orbitals in molden format\n",
        "'''\n",
        "\n",
        "mol = gto.M(\n",
        "    atom = '''\n",
        "  C  3.2883    3.3891    0.2345\n",
        "  C  1.9047    3.5333    0.2237\n",
        "  C  3.8560    2.1213    0.1612\n",
        "  C  1.0888    2.4099    0.1396\n",
        "  C  3.0401    0.9977    0.0771\n",
        "  C  1.6565    1.1421    0.0663\n",
        "  H  3.9303    4.2734    0.3007\n",
        "  H  1.4582    4.5312    0.2815\n",
        "  H  4.9448    2.0077    0.1699\n",
        "  H  0.0000    2.5234    0.1311\n",
        "  H  3.4870    0.0000    0.0197\n",
        "  H  1.0145    0.2578    0.0000\n",
        "           ''',\n",
        "    basis = 'cc-pvdz',\n",
        "    symmetry = 1)\n",
        "\n",
        "mf = scf.RHF(mol)\n",
        "mf.kernel()\n",
        "\n",
        "#\n",
        "# First method is to explicit call the functions provided by molden.py\n",
        "#\n",
        "with open('C6H6mo.molden', 'w') as f1:\n",
        "    molden.header(mol, f1)\n",
        "    molden.orbital_coeff(mol, f1, mf.mo_coeff, ene=mf.mo_energy, occ=mf.mo_occ)\n",
        "\n",
        "#\n",
        "# Second method is to simply call from_mo function to write the orbitals\n",
        "#\n",
        "c_loc_orth = lo.orth.orth_ao(mol)\n",
        "molden.from_mo(mol, 'C6H6loc.molden', c_loc_orth)\n",
        "\n",
        "\n",
        "#\n",
        "# Molden format does not support high angular momentum basis.  To handle the\n",
        "# orbitals which have l>=5 functions, a hacky way is to call molden.remove_high_l\n",
        "# function.  However, the resultant orbitals may not be orthnormal.\n",
        "#\n",
        "mol = gto.M(\n",
        "    atom = 'He 0 0 0',\n",
        "    basis = {'He': gto.expand_etbs(((0, 3, 1., 2.), (5, 2, 1., 2.)))})\n",
        "mf = scf.RHF(mol).run()\n",
        "try:\n",
        "    molden.from_mo(mol, 'He_without_h.molden', mf.mo_coeff)\n",
        "except RuntimeError:\n",
        "    print('    Found l=5 in basis.')\n",
        "    molden.from_mo(mol, 'He_without_h.molden', mf.mo_coeff, ignore_h=True)"
      ],
      "metadata": {
        "id": "mwaEFMJB8mg6"
      },
      "execution_count": null,
      "outputs": []
    },
    {
      "cell_type": "code",
      "source": [
        "# Escrever a função de onda no formato Cube\n",
        "'''\n",
        "Write orbitals, electron density, molecular electrostatic potential in\n",
        "Gaussian cube file format.\n",
        "'''\n",
        "\n",
        "from pyscf import gto, scf\n",
        "from pyscf.tools import cubegen\n",
        "\n",
        "mol = gto.M(atom='''\n",
        "            O 0.0000000, 0.000000, 0.00000000\n",
        "            H 0.761561 , 0.478993, 0.00000000\n",
        "            H -0.761561, 0.478993, 0.00000000''', basis='6-31g*')\n",
        "mf = scf.RHF(mol).run()\n",
        "\n",
        "# electron density\n",
        "cubegen.density(mol, 'h2o_den.cube', mf.make_rdm1())\n",
        "\n",
        "# electron density slice\n",
        "cubegen.density(mol, 'h2o_den_slice.cube', mf.make_rdm1(), nx=1, ny=1, nz=80)\n",
        "\n",
        "# molecular electrostatic potential\n",
        "cubegen.mep(mol, 'h2o_pot.cube', mf.make_rdm1())\n",
        "\n",
        "# molecular electrostatic potential slice\n",
        "cubegen.mep(mol, 'h2o_pot_slice.cube', mf.make_rdm1(), nx=1, ny=1, nz=80)\n",
        "\n",
        "# 1st MO\n",
        "cubegen.orbital(mol, 'h2o_mo1.cube', mf.mo_coeff[:,0])\n",
        "\n",
        "# 1st MO orbital slice\n",
        "cubegen.orbital(mol, 'h2o_mo1_slice.cube', mf.mo_coeff[:,0], nx=1, ny=1, nz=80)"
      ],
      "metadata": {
        "id": "9YGY9Kpj9CEF"
      },
      "execution_count": null,
      "outputs": []
    },
    {
      "cell_type": "markdown",
      "source": [
        "----------------\n",
        "###<font color=\"purple\"> **AMBERTools** </font>\n",
        "\n",
        "**Passo muito importante:** Vá em *Runtime* -> *Change Runtime Type* e selecione o recurso de GPU!\n",
        "\n",
        "-----"
      ],
      "metadata": {
        "id": "Bf2wQUe2wGMs"
      }
    },
    {
      "cell_type": "code",
      "source": [
        "#@title <font color=\"purple\"> **Instalando Conda/Mamba** </font>\n",
        "# Execute this cell to install mamba in the Colab environment\n",
        "\n",
        "if 'google.colab' in str(get_ipython()):\n",
        "  print('Running on colab')\n",
        "  !pip install -q condacolab\n",
        "  import condacolab\n",
        "  condacolab.install_mambaforge()\n",
        "else:\n",
        "  print('Not running on colab.')\n",
        "  print('Make sure you create and activate a new conda environment!')"
      ],
      "metadata": {
        "id": "HVtMp8u3upLQ",
        "cellView": "form"
      },
      "execution_count": null,
      "outputs": []
    },
    {
      "cell_type": "code",
      "source": [
        "!conda --version"
      ],
      "metadata": {
        "id": "urxfaJC1upLQ"
      },
      "execution_count": null,
      "outputs": []
    },
    {
      "cell_type": "code",
      "source": [
        "!which conda"
      ],
      "metadata": {
        "id": "JrAIMN8kupLQ"
      },
      "execution_count": null,
      "outputs": []
    },
    {
      "cell_type": "code",
      "source": [
        "# É importante conectar ao ambiente com GPU antes\n",
        "!nvidia-smi -L"
      ],
      "metadata": {
        "id": "i0gDv1ak-ZCH"
      },
      "execution_count": null,
      "outputs": []
    },
    {
      "cell_type": "code",
      "source": [
        "!nvidia-smi"
      ],
      "metadata": {
        "id": "c9wfNX0s-ZNQ"
      },
      "execution_count": null,
      "outputs": []
    },
    {
      "cell_type": "code",
      "source": [
        "import os\n",
        "if int(os.environ[\"COLAB_GPU\"]) > 0:\n",
        "  print(\"a GPU is connected.\")\n",
        "elif \"COLAB_TPU_ADDR\" in os.environ and os.environ[\"COLAB_TPU_ADDR\"]:\n",
        "  print(\"A TPU is connected.\")\n",
        "else:\n",
        "  print(\"No accelerator is connected.\")"
      ],
      "metadata": {
        "id": "PE8VvSgo-ZaT"
      },
      "execution_count": null,
      "outputs": []
    },
    {
      "cell_type": "code",
      "source": [
        "#@title <font color=\"purple\"> **Instalando/Importando libs importantes** </font>\n",
        "# install the 3rd party chemistry packages\n",
        "!pip install -q rdkit\n",
        "!pip install -q py3Dmol # --> https://pypi.org/project/py3Dmol/\n",
        "!pip install -q pythreejs\n",
        "##!pip install -q git+https://github.com/funkymunkycool/Cube-Toolz.git\n",
        "\n",
        "# Instalando o NGL Viwer\n",
        "!pip install ipywidgets==7.7.2 ## nglview\n",
        "\n",
        "# import everything\n",
        "import warnings\n",
        "warnings.filterwarnings(\"ignore\")\n",
        "import pathlib\n",
        "import sys, os\n",
        "import numpy as np\n",
        "import pandas as pd\n",
        "import seaborn as sns\n",
        "from termcolor import cprint\n",
        "import py3Dmol as p3d\n",
        "#import cube_tools\n",
        "from google.colab import output\n",
        "output.enable_custom_widget_manager()\n",
        "# This import is required to handle files\n",
        "from google.colab import files\n",
        "# This imports are required to use NGL viewer as well as the capabilities of pyCapsid to generate structures.\n",
        "#import nglview as ngl\n",
        "#from nglview.adaptor import FileStructure\n",
        "import matplotlib\n",
        "from matplotlib import pyplot as plt\n",
        "from matplotlib.offsetbox import OffsetImage, AnnotationBbox\n",
        "import ipywidgets as widgets\n",
        "%matplotlib inline\n",
        "import copy\n",
        "from IPython.display import Markdown, display, clear_output"
      ],
      "metadata": {
        "id": "CMaXcLsyhp7r",
        "cellView": "form"
      },
      "execution_count": null,
      "outputs": []
    },
    {
      "cell_type": "code",
      "source": [
        "# import py3Dmol as p3d\n",
        "print('Versão do py3DMol --> ', p3d.__version__)"
      ],
      "metadata": {
        "id": "TySN5AQgmxRf"
      },
      "execution_count": null,
      "outputs": []
    },
    {
      "cell_type": "code",
      "source": [
        "# import nglview as ngl\n",
        "#print('Versão do nglview --> ', ngl.__version__)"
      ],
      "metadata": {
        "id": "cKjNbcp-kCXu"
      },
      "execution_count": null,
      "outputs": []
    },
    {
      "cell_type": "code",
      "source": [
        "#@title <font color=\"purple\"> **Instalando dependências para softwares de dinâmica molecular** </font>\n",
        "#@markdown It will take a few minutes, please, drink a coffee and wait. ;-)\n",
        "# install dependencies\n",
        "import subprocess\n",
        "import sys\n",
        "subprocess.run(\"rm -rf /usr/local/conda-meta/pinned\", shell=True)\n",
        "subprocess.run(\"mamba install -c conda-forge ambertools -y\", shell=True)\n",
        "import pytraj as pt\n",
        "subprocess.run(\"pip install git+https://github.com/pablo-arantes/biopandas\", shell=True)\n",
        "subprocess.run(\"mamba install openmm=7.7.0\", shell=True)\n",
        "subprocess.run(\"pip install --upgrade MDAnalysis==2.4.2\", shell=True)\n",
        "!conda install openbabel -c conda-forge\n",
        "\n",
        "#load dependencies\n",
        "import sys\n",
        "from biopandas.pdb import PandasPdb\n",
        "import openmm as mm\n",
        "from openmm import *\n",
        "from openmm.app import *\n",
        "from openmm.unit import *\n",
        "import os\n",
        "import urllib.request\n",
        "import numpy as np\n",
        "import MDAnalysis as mda\n",
        "import pytraj as pt\n",
        "import platform\n",
        "import scipy.cluster.hierarchy\n",
        "from scipy.spatial.distance import squareform\n",
        "import scipy.stats as stats\n",
        "from statistics import mean, stdev\n",
        "from pytraj import matrix\n",
        "from IPython.display import set_matplotlib_formats"
      ],
      "metadata": {
        "id": "zxQmYpzRGYZV",
        "cellView": "form"
      },
      "execution_count": null,
      "outputs": []
    },
    {
      "cell_type": "code",
      "source": [
        "# import pytraj as pt\n",
        "print('Versão da PyTraj --> ', pt.__version__)"
      ],
      "metadata": {
        "id": "hEyCVXadkCTl"
      },
      "execution_count": null,
      "outputs": []
    },
    {
      "cell_type": "code",
      "source": [
        "# Instalando o AMBERTools\n",
        "\n",
        "#!conda install -c conda-forge ambertools"
      ],
      "metadata": {
        "id": "l5Mxhl9Cuv6p"
      },
      "execution_count": null,
      "outputs": []
    },
    {
      "cell_type": "code",
      "source": [
        "# Para executar um comando no Linux\n",
        "!which tleap"
      ],
      "metadata": {
        "id": "dSXdO_frwLxK"
      },
      "execution_count": null,
      "outputs": []
    },
    {
      "cell_type": "code",
      "source": [],
      "metadata": {
        "id": "n6UcwAsVwpYz"
      },
      "execution_count": null,
      "outputs": []
    },
    {
      "cell_type": "markdown",
      "source": [
        "--------\n",
        "##### **Montando o sistema inicial**"
      ],
      "metadata": {
        "id": "lXz-rAFX2Nnx"
      }
    },
    {
      "cell_type": "code",
      "source": [
        "%%file leap.inp\n",
        "source leaprc.protein.ff14SB\n",
        "seq = sequence {NALA ALA ALA ALA ALA CALA}\n",
        "set default PBradii mbondi3\n",
        "saveamberparm seq peptide.top peptide_ini.crd\n",
        "savepdb seq peptide_ini.pdb\n",
        "quit"
      ],
      "metadata": {
        "id": "-YyjCB3NyZPA"
      },
      "execution_count": null,
      "outputs": []
    },
    {
      "cell_type": "code",
      "source": [
        "# Para executar um comando no Linux\n",
        "!tleap -f leap.inp > leap.log"
      ],
      "metadata": {
        "id": "9cfyLs_7yZPA"
      },
      "execution_count": null,
      "outputs": []
    },
    {
      "cell_type": "code",
      "source": [
        "%%file min_implicit.inp\n",
        "Minimizacao da energia\n",
        "&cntrl\n",
        "imin=1, maxcyc=5000, ncyc=1000,\n",
        "cut=999., igb=8, ntb=0, ntpr=100\n",
        "&end"
      ],
      "metadata": {
        "id": "GBW1_z6eyZPA"
      },
      "execution_count": null,
      "outputs": []
    },
    {
      "cell_type": "code",
      "source": [
        "def show_prot(filename):\n",
        "  p = p3d.view(width=400, height=300)\n",
        "  p.addModel(open(filename, 'r').read(),'pdb')\n",
        "  p.setStyle({'cartoon':{'color':'spectrum'},'stick':{'radius':0.15}})\n",
        "  #p.setStyle({'cartoon': {'color':'spectrum'}})\n",
        "  p.center()\n",
        "  p.zoomTo()\n",
        "  return p"
      ],
      "metadata": {
        "id": "5eMErYL-yqUj"
      },
      "execution_count": null,
      "outputs": []
    },
    {
      "cell_type": "code",
      "source": [
        "show_prot('peptide_ini.pdb')"
      ],
      "metadata": {
        "id": "wkCRY30YleiQ"
      },
      "execution_count": null,
      "outputs": []
    },
    {
      "cell_type": "code",
      "source": [
        "!sander -O -i min_implicit.inp -p peptide.top -c peptide_ini.crd -r min_implicit.rst7"
      ],
      "metadata": {
        "id": "1IWAbJElyZPB"
      },
      "execution_count": null,
      "outputs": []
    },
    {
      "cell_type": "code",
      "source": [
        "# Carrega a estrutura otimizada com a PyTraj\n",
        "ref_implicit_min = pt.load('min_implicit.rst7', top='peptide.top')\n",
        "ref_implicit_min.save('peptide_min.pdb')\n",
        "show_prot('peptide_min.pdb')"
      ],
      "metadata": {
        "id": "NjEiZuAlmobt"
      },
      "execution_count": null,
      "outputs": []
    },
    {
      "cell_type": "markdown",
      "source": [
        "##### **Rodando a simulação de dinâmica molecular**"
      ],
      "metadata": {
        "id": "wNcwC5sU2Zub"
      }
    },
    {
      "cell_type": "code",
      "source": [
        "# Monta input para dinâmica molecular NVT\n",
        "# OBS: Não usar comentários na caixa que escreve o arquivo \"md_implicit.in\""
      ],
      "metadata": {
        "id": "DpA-8SZPnRvj"
      },
      "execution_count": null,
      "outputs": []
    },
    {
      "cell_type": "code",
      "source": [
        "%%file md_implicit.inp\n",
        "MD NVT, 500 ps\n",
        "&cntrl\n",
        "    imin = 0, nstlim = 250000, dt = 0.002, ntf = 2, nscm = 1000,\n",
        "    ntx = 1, irest = 0, ig = -1, ntc = 2, temp0 = 300.0, gamma_ln = 1.0,\n",
        "    ntt=3, tempi = 300.0, ntwr = 500, ntpr = 500, ntb = 0, ntwx = 500,\n",
        "    ntwe = 0, cut = 999.0, igb = 8, ioutfm = 1,\n",
        "&end"
      ],
      "metadata": {
        "id": "TRBWXcuHnWeL"
      },
      "execution_count": null,
      "outputs": []
    },
    {
      "cell_type": "code",
      "source": [
        "# Para executar a dinâmica moleculare NVT para o peptídeo (ALA)6\n",
        "!nohup sander -O -i md_implicit.inp -o md_implicit.out -p peptide.top -c min_implicit.rst7 -r md_implicit.rst -x md_implicit.nc &"
      ],
      "metadata": {
        "id": "GaktBfQk5A8X"
      },
      "execution_count": null,
      "outputs": []
    },
    {
      "cell_type": "code",
      "source": [
        "# Observar a execução da dinâmica molecular\n",
        "!tail -n 20 md_implicit.out"
      ],
      "metadata": {
        "id": "IX9QmQF05A_q"
      },
      "execution_count": null,
      "outputs": []
    },
    {
      "cell_type": "code",
      "source": [
        "# Carregar a trajetória no objeto \"traj_implicit\"\n",
        "traj_implicit = pt.load('md_implicit.nc', top='peptide.top')\n",
        "traj_implicit"
      ],
      "metadata": {
        "id": "2664JLsgoIrh"
      },
      "execution_count": null,
      "outputs": []
    },
    {
      "cell_type": "code",
      "source": [
        "# Carrega a última estrutura depois da dinâmica com a PyTraj\n",
        "last_frame = pt.load('md_implicit.rst', top='peptide.top')\n",
        "last_frame.save('peptide_last_frame.pdb')\n",
        "\n",
        "show_prot('peptide_last_frame.pdb')"
      ],
      "metadata": {
        "id": "7whOtuejxdek"
      },
      "execution_count": null,
      "outputs": []
    },
    {
      "cell_type": "code",
      "source": [],
      "metadata": {
        "id": "LMwIcugl5twu"
      },
      "execution_count": null,
      "outputs": []
    },
    {
      "cell_type": "markdown",
      "source": [
        "------------\n",
        "###<font color=\"purple\"> **Gromacs, NAMD e OpenMM** </font>\n",
        "\n",
        "Links\n",
        "\n",
        "* <https://www.gromacs.org/Downloads>\n",
        "* <http://www.mdtutorials.com/gmx/>\n",
        "* <https://github.com/pb3lab/ibm3202>\n",
        "* <https://github.com/pablo-arantes/making-it-rain>\n",
        "\n",
        "**Passo muito importante:** Vá em *Runtime* -> *Change Runtime Type* e selecione o recurso de GPU!"
      ],
      "metadata": {
        "id": "OWAkF9rawMnO"
      }
    },
    {
      "cell_type": "markdown",
      "source": [
        "### <font color=\"DarkSeaGreen\"> **Instalando o Gromacs (Método 01 - Compilando do fonte do repositório do Gromacs)**</font>\n",
        "\n",
        "Links\n",
        "\n",
        "* <https://github.com/pb3lab/ibm3202>\n",
        "* <https://github.com/pablo-arantes/making-it-rain>\n",
        "\n",
        "**Passo muito importante:** Vá em *Runtime* -> *Change Runtime Type* e selecione o recurso de GPU!\n",
        "\n",
        "Tentando compilar usando esses links\n",
        "\n",
        "1. https://hyak.uw.edu/blog/gromacs-gpu/\n",
        "2. https://github.com/TheBiomics/Molecular-Dynamics\n",
        "3. https://github.com/bioinfkaustin/gromacs-on-colab\n",
        "4. https://www.thebiomics.com/research/gromacs-installation-with-gpu.html\n",
        "\n"
      ],
      "metadata": {
        "id": "_mTrAG5G-3zM"
      }
    },
    {
      "cell_type": "code",
      "source": [
        "!wget ftp://ftp.gromacs.org/gromacs/gromacs-2024.2.tar.gz"
      ],
      "metadata": {
        "id": "PfhrMbg5Gz1y"
      },
      "execution_count": null,
      "outputs": []
    },
    {
      "cell_type": "code",
      "source": [
        "!tar -xzf gromacs-2024.2.tar.gz"
      ],
      "metadata": {
        "id": "eZWLnuY5HAZG"
      },
      "execution_count": null,
      "outputs": []
    },
    {
      "cell_type": "code",
      "source": [
        "!mv /content/gromacs-2024.2/ /content/gromacs"
      ],
      "metadata": {
        "id": "pYvtrBG4HAiA"
      },
      "execution_count": null,
      "outputs": []
    },
    {
      "cell_type": "code",
      "source": [
        "# It is recommended (and required for GROMACS 2021) to upgrade cmake\n",
        "!pip install cmake --upgrade"
      ],
      "metadata": {
        "id": "K0BFAulaHAll"
      },
      "execution_count": null,
      "outputs": []
    },
    {
      "cell_type": "code",
      "source": [
        "%%bash\n",
        "cd gromacs\n",
        "mkdir build\n",
        "cd build\n",
        "cmake .. -DGMX_BUILD_OWN_FFTW=ON -DGMX_GPU=CUDA -DREGRESSIONTEST_DOWNLOAD=ON -DCMAKE_INSTALL_PREFIX=/content/gromacs\n",
        "echo \"GROMACS set up completed\"\n",
        "make -j $(nproc)\n",
        "echo \"GROMACS building completed\""
      ],
      "metadata": {
        "id": "B6Z5xHQlHAo7"
      },
      "execution_count": null,
      "outputs": []
    },
    {
      "cell_type": "code",
      "source": [
        "%%bash\n",
        "# Opcional\n",
        "cd /content/gromacs/build\n",
        "make check\n",
        "echo \"GROMACS testing completed\""
      ],
      "metadata": {
        "id": "rbVny9qfHAs2"
      },
      "execution_count": null,
      "outputs": []
    },
    {
      "cell_type": "code",
      "source": [
        "%%bash\n",
        "cd /content/gromacs/build\n",
        "sudo make install # -> /usr/local/gromacs\n",
        "echo \"GROMACS installation completed. Please check if any errors occurred during installation\""
      ],
      "metadata": {
        "id": "9_819HaJHAvW"
      },
      "execution_count": null,
      "outputs": []
    },
    {
      "cell_type": "code",
      "source": [
        "!source /content/gromacs/bin/GMXRC.bash\n",
        "!/content/gromacs/bin/gmx --version"
      ],
      "metadata": {
        "id": "uTxeAfARHAyL"
      },
      "execution_count": null,
      "outputs": []
    },
    {
      "cell_type": "code",
      "source": [
        "!ls -la /content/gromacs/bin/"
      ],
      "metadata": {
        "id": "9y4rI8UcHwJ_"
      },
      "execution_count": null,
      "outputs": []
    },
    {
      "cell_type": "code",
      "source": [
        "!tar -cvf gromacs_gpu_compilado_colab_JUL24.tar gromacs"
      ],
      "metadata": {
        "id": "n5bDOhiHHwPc"
      },
      "execution_count": null,
      "outputs": []
    },
    {
      "cell_type": "code",
      "source": [
        "!gzip gromacs_gpu_compilado_colab_JUL24.tar"
      ],
      "metadata": {
        "id": "TMhdeSEjHwUY"
      },
      "execution_count": null,
      "outputs": []
    },
    {
      "cell_type": "code",
      "source": [
        "!ls -la"
      ],
      "metadata": {
        "id": "3-aYCDcgHA1d"
      },
      "execution_count": null,
      "outputs": []
    },
    {
      "cell_type": "code",
      "source": [
        "!/content/gromacs/bin/gmx"
      ],
      "metadata": {
        "id": "76x1s_xhwNga"
      },
      "execution_count": null,
      "outputs": []
    },
    {
      "cell_type": "code",
      "source": [
        "!cp gromacs_gpu_compilado_colab_JUL24.tar.gz /content/drive/MyDrive/MD_programs/"
      ],
      "metadata": {
        "id": "upDR7j3jxFOe"
      },
      "execution_count": null,
      "outputs": []
    },
    {
      "cell_type": "code",
      "source": [
        "!ls -la /content/drive/MyDrive/MD_programs/"
      ],
      "metadata": {
        "id": "8aUMSDlkg-YE"
      },
      "execution_count": null,
      "outputs": []
    },
    {
      "cell_type": "code",
      "source": [
        "!cp /content/drive/MyDrive/MD_programs/gromacs_gpu_compilado_colab_JUL24.tar.gz ."
      ],
      "metadata": {
        "id": "_AMojkzdhB-I"
      },
      "execution_count": null,
      "outputs": []
    },
    {
      "cell_type": "code",
      "source": [
        "!tar -xvzf gromacs_gpu_compilado_colab_JUL24.tar.gz"
      ],
      "metadata": {
        "id": "ULgUdQLBhJ0l"
      },
      "execution_count": null,
      "outputs": []
    },
    {
      "cell_type": "code",
      "source": [
        "!/content/gromacs/bin/gmx --version"
      ],
      "metadata": {
        "id": "lpQAG3sxhQOU"
      },
      "execution_count": null,
      "outputs": []
    },
    {
      "cell_type": "code",
      "source": [],
      "metadata": {
        "id": "XuJA8qVXhzB0"
      },
      "execution_count": null,
      "outputs": []
    },
    {
      "cell_type": "markdown",
      "source": [
        "### <font color=\"DarkSeaGreen\"> **Instalando o Gromacs (Método 02 - A partir do repositório normal de uma distro Linux)**</font>\n",
        "\n",
        "Links\n",
        "\n",
        "* <https://colab.research.google.com/drive/1ArFyhZidhO3q90eEew5QO6wmh9RW6ngd#scrollTo=QiftsBpN7raV>\n",
        "\n",
        "\n",
        "**OBS: Nesse método instala a versão básica sem aceleração de GPU**\n"
      ],
      "metadata": {
        "id": "ePw56O3zRR6O"
      }
    },
    {
      "cell_type": "code",
      "source": [
        "!apt install gromacs &> /dev/null  ## Instala a versão básica sem aceleração de GPU\n",
        "!apt install dssp &> /dev/null\n",
        "!ln -s /usr/bin/dssp /usr/local/bin/dssp\n",
        "!apt install ghostscript &> /dev/null"
      ],
      "metadata": {
        "id": "S9C63dg4RXcW"
      },
      "execution_count": null,
      "outputs": []
    },
    {
      "cell_type": "code",
      "source": [
        "!gmx -version"
      ],
      "metadata": {
        "id": "3CJ0Z-DKRuA4"
      },
      "execution_count": null,
      "outputs": []
    },
    {
      "cell_type": "code",
      "source": [
        "!pip install simpletraj  &> /dev/null"
      ],
      "metadata": {
        "id": "f04d4pJpRXq9"
      },
      "execution_count": null,
      "outputs": []
    },
    {
      "cell_type": "code",
      "source": [],
      "metadata": {
        "id": "VsKRdN9W5-2z"
      },
      "execution_count": null,
      "outputs": []
    },
    {
      "cell_type": "markdown",
      "source": [
        "### <font color=\"DarkSeaGreen\"> **Instalando o Gromacs (Método 03 - Usando uma versão pré-compilada de um repositório)**</font>\n",
        "\n",
        "Links\n",
        "\n",
        "* <https://github.com/pb3lab/ibm3202>\n",
        "\n",
        "**Passo muito importante:** Vá em *Runtime* -> *Change Runtime Type* e selecione o recurso de GPU!\n"
      ],
      "metadata": {
        "id": "ODj6ZE-R5_ON"
      }
    },
    {
      "cell_type": "code",
      "source": [
        "# Aqui tem uma versão precompilada\n",
        "# Download and unzip the compressed folder of GROMACS 2020.6 version\n",
        "!wget https://raw.githubusercontent.com/pb3lab/ibm3202/master/software/gromacs.tar.gz\n",
        "#!wget https://raw.githubusercontent.com/pb3lab/ibm3202/master/software/gromacs-2023.3.tar.gz\n",
        "\n",
        "!tar xzf gromacs.tar.gz"
      ],
      "metadata": {
        "id": "LZ7xThhZuv9q"
      },
      "execution_count": null,
      "outputs": []
    },
    {
      "cell_type": "code",
      "source": [
        "# It is recommended (and required for GROMACS 2021) to upgrade cmake\n",
        "!pip install cmake --upgrade"
      ],
      "metadata": {
        "id": "moyLMWwFuwAy"
      },
      "execution_count": null,
      "outputs": []
    },
    {
      "cell_type": "code",
      "source": [
        "# If you get : gmx: error while loading shared libraries: libhwloc.so.5: cannot open shared object file: No such file or directory\n",
        "!wget https://download.open-mpi.org/release/hwloc/v1.11/hwloc-1.11.13.tar.gz\n",
        "!tar xzf hwloc-1.11.13.tar.gz\n",
        "!cd /content/hwloc-1.11.13\n",
        "! /content/hwloc-1.11.13/configure\n",
        "!make\n",
        "!sudo make install\n"
      ],
      "metadata": {
        "id": "u4lKU9iTwRzS"
      },
      "execution_count": null,
      "outputs": []
    },
    {
      "cell_type": "code",
      "source": [
        "!nvidia-smi"
      ],
      "metadata": {
        "id": "PWodnYYd9MLF"
      },
      "execution_count": null,
      "outputs": []
    },
    {
      "cell_type": "code",
      "source": [
        "# Checking that our GROMACS works\n",
        "%%bash\n",
        "source /content/gromacs/bin/GMXRC\n",
        "gmx -h"
      ],
      "metadata": {
        "id": "QFfBlrVYyNBg"
      },
      "execution_count": null,
      "outputs": []
    },
    {
      "cell_type": "markdown",
      "source": [
        "-------------\n",
        "### <font color=\"purple\"> **OpenMM** </font>\n",
        "\n",
        "**Links:**\n",
        "\n",
        "* <https://colab.google/notebooks/#science>\n",
        "\n",
        "* <https://github.com/pablo-arantes/Making-it-rain>"
      ],
      "metadata": {
        "id": "KZ5J-D9xWAha"
      }
    },
    {
      "cell_type": "code",
      "source": [],
      "metadata": {
        "id": "VOCL0vdlWKFG"
      },
      "execution_count": null,
      "outputs": []
    },
    {
      "cell_type": "markdown",
      "source": [
        "-----------------\n",
        "\n",
        "#<font color=\"green\"> **Mais truques para lidar com o *Colab*** </font>\n",
        "\n",
        "Aqui nessa parte vamos explorar possibilidades adicionais no ambiente do *Colab*.\n",
        "\n"
      ],
      "metadata": {
        "id": "YagEfDVvdo6t"
      }
    },
    {
      "cell_type": "code",
      "source": [
        "# Abrindo uma ferramenta de upload de arquivos\n",
        "from google.colab import files\n",
        "uploaded = files.upload()"
      ],
      "metadata": {
        "id": "PktrNrvweJxU"
      },
      "execution_count": null,
      "outputs": []
    },
    {
      "cell_type": "code",
      "source": [
        "# Lista de comandos \"mágicos\"\n",
        "%lsmagic"
      ],
      "metadata": {
        "id": "-6-sSWC8o6J2"
      },
      "execution_count": null,
      "outputs": []
    },
    {
      "cell_type": "markdown",
      "source": [
        "Rodando seus executáveis/processos/códigos em *background*.\n",
        "\n",
        "A forma mais simples é com a seguinte sintaxe:\n",
        "\n",
        "**!nohup executável &**"
      ],
      "metadata": {
        "id": "Xnc7VpWM0dZF"
      }
    },
    {
      "cell_type": "code",
      "source": [
        "%%file water_711.mop\n",
        "PM7 1SCF XYZ MOZYME CUTOFF=9.0 THREADS=2\n",
        "water_711\n",
        "\n",
        "O  91.97180 1 108.28500 1 97.68250 1\n",
        "H  91.77160 1 107.31100 1 97.57550 1\n",
        "H  91.43360 1 108.65500 1 98.43990 1\n",
        "O  94.94080 1 108.05100 1 95.71130 1\n",
        "H  95.15960 1 108.42700 1 96.61160 1\n",
        "H  94.72210 1 107.07900 1 95.80060 1\n",
        "O  109.63400 1 98.90760 1 93.08040 1\n",
        "H  109.08000 1 98.07990 1 93.16720 1\n",
        "H  110.25000 1 98.97980 1 93.86480 1\n",
        "O  104.00800 1 103.22300 1 106.72900 1\n",
        "H  105.00100 1 103.34000 1 106.71200 1\n",
        "H  103.69400 1 102.91000 1 105.83300 1\n",
        "O  96.28770 1 105.21900 1 103.89300 1\n",
        "H  96.78100 1 104.41900 1 104.23500 1\n",
        "H  96.48560 1 105.34200 1 102.92100 1\n",
        "O  107.83200 1 108.25600 1 98.85750 1\n",
        "H  108.39600 1 108.94500 1 98.40310 1\n",
        "H  107.84200 1 108.41500 1 99.84470 1\n",
        "O  94.58230 1 110.06400 1 97.91730 1\n",
        "H  95.10040 1 110.08600 1 98.77220 1\n",
        "H  94.02580 1 109.23400 1 97.88630 1\n",
        "O  108.46500 1 95.48200 1 96.16220 1\n",
        "H  109.00500 1 96.32110 1 96.10290 1\n",
        "H  107.96100 1 95.47020 1 97.02620 1\n",
        "O  101.14000 1 103.23300 1 105.69800 1\n",
        "H  101.80000 1 103.57700 1 106.36500 1\n",
        "H  101.61900 1 102.70700 1 104.99600 1\n",
        "O  99.90670 1 104.11000 1 89.22660 1\n",
        "H  100.00500 1 104.50300 1 90.14110 1\n",
        "H  99.82170 1 103.11700 1 89.29760 1\n",
        "O  95.02360 1 104.40400 1 95.14730 1\n",
        "H  94.63970 1 103.51200 1 94.90890 1\n",
        "H  95.94840 1 104.47900 1 94.77420 1\n",
        "O  99.89220 1 101.04900 1 89.49130 1\n",
        "H  100.25200 1 100.22500 1 89.92890 1\n",
        "H  98.96300 1 101.22100 1 89.81810 1\n",
        "O  90.79530 1 105.57000 1 100.71400 1\n",
        "H  91.36750 1 104.95200 1 101.25400 1\n",
        "H  90.88480 1 106.50100 1 101.06700 1\n",
        "O  104.73700 1 105.65700 1 93.20680 1\n",
        "H  104.64000 1 105.44500 1 92.23430 1\n",
        "H  104.17600 1 105.02600 1 93.74300 1\n",
        "O  96.65220 1 92.86360 1 94.16860 1\n",
        "H  96.60350 1 93.84900 1 94.00510 1\n",
        "H  95.73240 1 92.50710 1 94.33270 1\n",
        "O  93.05430 1 101.15300 1 103.18700 1\n",
        "H  93.15350 1 102.02400 1 103.66900 1\n",
        "H  93.28210 1 101.27900 1 102.22100 1\n",
        "O  100.05600 1 104.83300 1 91.78050 1\n",
        "H  100.66300 1 104.40000 1 92.44690 1\n",
        "H  99.76160 1 105.72300 1 92.12690 1\n",
        "O  103.66200 1 102.96200 1 95.66550 1\n",
        "H  104.56900 1 102.98100 1 96.08780 1\n",
        "H  103.11800 1 102.23000 1 96.07640 1\n",
        "O  101.49500 1 96.99720 1 93.04990 1\n",
        "H  100.61600 1 97.20890 1 93.47780 1\n",
        "H  101.53300 1 96.02220 1 92.83110 1\n",
        "O  95.59050 1 96.52700 1 109.46200 1\n",
        "H  95.13770 1 96.24820 1 110.30900 1\n",
        "H  96.49010 1 96.09390 1 109.40700 1\n",
        "O  97.87390 1 103.01700 1 100.81600 1\n",
        "H  98.12860 1 103.03800 1 99.84880 1\n",
        "H  97.17380 1 102.31700 1 100.96000 1\n",
        "O  103.31600 1 100.16800 1 106.76600 1\n",
        "H  103.47100 1 99.76630 1 105.86400 1\n",
        "H  103.28200 1 101.16400 1 106.68700 1\n",
        "O  107.62900 1 91.98630 1 97.99720 1\n",
        "H  108.29900 1 92.07660 1 97.26000 1\n",
        "H  108.10300 1 91.77990 1 98.85370 1\n",
        "O  101.09900 1 104.85000 1 99.03070 1\n",
        "H  101.48300 1 104.26000 1 99.74050 1\n",
        "H  101.82900 1 105.39600 1 98.61970 1\n",
        "O  102.08100 1 96.65700 1 109.38800 1\n",
        "H  102.97900 1 96.24820 1 109.22600 1\n",
        "H  101.80400 1 97.18130 1 108.58300 1\n",
        "O  109.93400 1 102.72900 1 96.12620 1\n",
        "H  109.55100 1 101.87700 1 96.48310 1\n",
        "H  109.33700 1 103.49200 1 96.37390 1\n",
        "O  91.51890 1 94.16050 1 96.99680 1\n",
        "H  90.85840 1 93.99010 1 96.26550 1\n",
        "H  91.33410 1 93.54480 1 97.76290 1\n",
        "O  96.77360 1 102.80800 1 107.17000 1\n",
        "H  96.85420 1 102.58900 1 108.14200 1\n",
        "H  96.42140 1 102.01300 1 106.67600 1\n",
        "O  105.66500 1 96.99390 1 105.02700 1\n",
        "H  104.74900 1 97.39350 1 104.99700 1\n",
        "H  106.33000 1 97.65760 1 104.68400 1\n",
        "O  94.27230 1 90.14700 1 102.25000 1\n",
        "H  94.33010 1 89.59580 1 103.08200 1\n",
        "H  93.53260 1 89.80180 1 101.67200 1\n",
        "O  91.33710 1 103.06400 1 92.54130 1\n",
        "H  90.84430 1 103.80200 1 92.08100 1\n",
        "H  91.19720 1 103.13500 1 93.52890 1\n",
        "O  99.23840 1 88.64450 1 99.51310 1\n",
        "H  99.32280 1 89.33290 1 100.23400 1\n",
        "H  100.09700 1 88.13710 1 99.43480 1\n",
        "O  92.69420 1 96.49500 1 105.40900 1\n",
        "H  91.85410 1 96.41820 1 104.87200 1\n",
        "H  92.96470 1 97.45590 1 105.46900 1\n",
        "O  105.27900 1 92.27580 1 100.55800 1\n",
        "H  104.66700 1 91.49380 1 100.67600 1\n",
        "H  105.76700 1 92.18810 1 99.68940 1\n",
        "O  100.64500 1 100.16900 1 95.89150 1\n",
        "H  101.49100 1 100.30500 1 96.40620 1\n",
        "H  99.88870 1 100.61800 1 96.36780 1\n",
        "O  89.90010 1 97.07020 1 105.00800 1\n",
        "H  90.15940 1 97.36600 1 105.92700 1\n",
        "H  89.10880 1 96.46140 1 105.06400 1\n",
        "O  99.81400 1 100.83500 1 101.23200 1\n",
        "H  99.32920 1 99.97680 1 101.06300 1\n",
        "H  99.15160 1 101.56100 1 101.41400 1\n",
        "O  98.71400 1 92.66110 1 92.61160 1\n",
        "H  97.88800 1 92.70150 1 93.17380 1\n",
        "H  98.90910 1 91.70960 1 92.37370 1\n",
        "O  98.80400 1 98.51220 1 97.75810 1\n",
        "H  99.78210 1 98.64690 1 97.91670 1\n",
        "H  98.42180 1 99.32650 1 97.32130 1\n",
        "O  100.74700 1 100.16400 1 103.73600 1\n",
        "H  100.65800 1 100.62800 1 102.85500 1\n",
        "H  100.10500 1 99.39860 1 103.77600 1\n",
        "O  97.17990 1 102.37300 1 88.95350 1\n",
        "H  96.95750 1 103.27000 1 88.57070 1\n",
        "H  97.31960 1 101.71900 1 88.21020 1\n",
        "O  98.07030 1 98.51690 1 100.43800 1\n",
        "H  97.17280 1 98.87860 1 100.69000 1\n",
        "H  98.19400 1 98.59220 1 99.44810 1\n",
        "O  99.24150 1 107.09600 1 102.89900 1\n",
        "H  99.53340 1 106.81000 1 103.81200 1\n",
        "H  99.79830 1 107.87100 1 102.59900 1\n",
        "O  91.60060 1 105.67800 1 97.35200 1\n",
        "H  90.64630 1 105.41400 1 97.49250 1\n",
        "H  91.76300 1 105.83500 1 96.37780 1\n",
        "O  101.32100 1 92.43960 1 94.59710 1\n",
        "H  100.82800 1 92.91770 1 93.86960 1\n",
        "H  100.67600 1 91.89520 1 95.13360 1\n",
        "O  97.51100 1 109.18300 1 97.59100 1\n",
        "H  97.97110 1 109.34400 1 98.46410 1\n",
        "H  97.11890 1 108.26300 1 97.58540 1\n",
        "O  96.37350 1 99.16810 1 103.66300 1\n",
        "H  96.03260 1 99.38520 1 104.57800 1\n",
        "H  97.33790 1 98.90980 1 103.72000 1\n",
        "O  98.71230 1 104.34800 1 108.71000 1\n",
        "H  99.40310 1 105.01000 1 108.41800 1\n",
        "H  97.80140 1 104.70200 1 108.49800 1\n",
        "O  97.16300 1 101.97800 1 110.05400 1\n",
        "H  97.98790 1 101.41500 1 110.00600 1\n",
        "H  96.93240 1 102.15000 1 111.01200 1\n",
        "O  92.23660 1 98.96960 1 99.83020 1\n",
        "H  92.25720 1 98.49230 1 100.70900 1\n",
        "H  92.12540 1 98.30430 1 99.09190 1\n",
        "O  101.46900 1 90.89910 1 103.99900 1\n",
        "H  100.68600 1 90.34660 1 103.71500 1\n",
        "H  101.51100 1 91.72940 1 103.44400 1\n",
        "O  96.74070 1 101.64100 1 95.24660 1\n",
        "H  95.76520 1 101.62500 1 95.02760 1\n",
        "H  97.25610 1 101.95700 1 94.45030 1\n",
        "O  103.99200 1 93.62150 1 106.48800 1\n",
        "H  103.82000 1 92.92420 1 107.18400 1\n",
        "H  104.71100 1 94.23930 1 106.80600 1\n",
        "O  93.81230 1 95.79140 1 93.89720 1\n",
        "H  93.51110 1 94.84870 1 93.75320 1\n",
        "H  94.30580 1 95.85480 1 94.76460 1\n",
        "O  89.47000 1 99.36120 1 98.43110 1\n",
        "H  90.29240 1 99.31570 1 98.99830 1\n",
        "H  88.70590 1 99.70220 1 98.97860 1\n",
        "O  105.58900 1 107.06400 1 102.22500 1\n",
        "H  104.79600 1 106.76600 1 102.75800 1\n",
        "H  105.51100 1 108.04100 1 102.03100 1\n",
        "O  94.44780 1 93.06290 1 97.10440 1\n",
        "H  94.68520 1 93.84650 1 96.53030 1\n",
        "H  94.11800 1 93.38710 1 97.99110 1\n",
        "O  106.87300 1 103.04600 1 96.26630 1\n",
        "H  106.39700 1 102.27300 1 96.68480 1\n",
        "H  107.19000 1 102.78800 1 95.35390 1\n",
        "O  96.85570 1 95.63910 1 102.75900 1\n",
        "H  96.15730 1 96.25020 1 102.38600 1\n",
        "H  97.74170 1 95.85670 1 102.34900 1\n",
        "O  110.60200 1 103.79900 1 102.89700 1\n",
        "H  110.26000 1 103.51500 1 103.79300 1\n",
        "H  110.91000 1 102.99500 1 102.38800 1\n",
        "O  97.20900 1 95.90680 1 94.27890 1\n",
        "H  97.08740 1 95.81310 1 93.29080 1\n",
        "H  98.01530 1 96.46880 1 94.46370 1\n",
        "O  95.92080 1 105.35200 1 107.79800 1\n",
        "H  96.16080 1 104.52600 1 107.28900 1\n",
        "H  95.20640 1 105.13800 1 108.46400 1\n",
        "O  96.69410 1 92.48290 1 106.85400 1\n",
        "H  95.95610 1 92.67130 1 106.20600 1\n",
        "H  97.28920 1 93.28360 1 106.92300 1\n",
        "O  96.20020 1 107.50900 1 93.25440 1\n",
        "H  96.34910 1 108.22000 1 92.56660 1\n",
        "H  95.54550 1 107.83700 1 93.93560 1\n",
        "O  94.09550 1 103.59600 1 91.71790 1\n",
        "H  94.19070 1 104.43700 1 92.25010 1\n",
        "H  93.16680 1 103.24000 1 91.82080 1\n",
        "O  109.80700 1 103.25300 1 105.72200 1\n",
        "H  109.90100 1 104.19000 1 106.05900 1\n",
        "H  109.93800 1 102.61200 1 106.47800 1\n",
        "O  103.42200 1 91.71640 1 92.70090 1\n",
        "H  103.53600 1 90.72630 1 92.61930 1\n",
        "H  103.07400 1 91.93770 1 93.61180 1\n",
        "O  101.21500 1 106.15500 1 108.43200 1\n",
        "H  102.08100 1 106.17200 1 108.93000 1\n",
        "H  100.60400 1 106.85500 1 108.80200 1\n",
        "O  103.96900 1 95.80990 1 100.61100 1\n",
        "H  104.65600 1 95.77150 1 101.33600 1\n",
        "H  103.15200 1 96.27630 1 100.95000 1\n",
        "O  106.58700 1 100.03400 1 103.85100 1\n",
        "H  105.82900 1 100.10400 1 103.20300 1\n",
        "H  107.39400 1 100.48700 1 103.47000 1\n",
        "O  97.06860 1 95.75930 1 91.56450 1\n",
        "H  97.63250 1 96.22150 1 90.88020 1\n",
        "H  97.12840 1 94.76980 1 91.43260 1\n",
        "O  104.86100 1 99.90910 1 108.81500 1\n",
        "H  104.55700 1 99.19760 1 109.44800 1\n",
        "H  104.26200 1 99.92080 1 108.01400 1\n",
        "O  91.31900 1 98.16790 1 93.94380 1\n",
        "H  90.35690 1 98.17270 1 93.67120 1\n",
        "H  91.38480 1 98.27090 1 94.93630 1\n",
        "O  99.02090 1 107.23800 1 93.02620 1\n",
        "H  99.50410 1 107.67600 1 93.78420 1\n",
        "H  98.08350 1 107.02900 1 93.30490 1\n",
        "O  90.19390 1 100.70100 1 103.44800 1\n",
        "H  89.80420 1 101.34200 1 102.78700 1\n",
        "H  91.19200 1 100.73400 1 103.39600 1\n",
        "O  92.64490 1 93.21690 1 93.51030 1\n",
        "H  92.10680 1 93.53800 1 92.73100 1\n",
        "H  92.12520 1 92.52520 1 94.01190 1\n",
        "O  90.05890 1 103.09200 1 101.98800 1\n",
        "H  91.03230 1 103.30400 1 101.90000 1\n",
        "H  89.60940 1 103.21800 1 101.10400 1\n",
        "O  100.37700 1 94.63900 1 92.01630 1\n",
        "H  100.54000 1 94.79890 1 91.04270 1\n",
        "H  99.77570 1 93.84780 1 92.12800 1\n",
        "O  98.46320 1 103.64400 1 104.85500 1\n",
        "H  99.44890 1 103.71000 1 105.00900 1\n",
        "H  98.02300 1 103.26500 1 105.66900 1\n",
        "O  101.99300 1 104.01400 1 93.99850 1\n",
        "H  102.58000 1 103.87700 1 94.79680 1\n",
        "H  102.06600 1 103.22200 1 93.39170 1\n",
        "O  91.47610 1 103.26300 1 99.07660 1\n",
        "H  91.52570 1 104.25700 1 98.98210 1\n",
        "H  90.51940 1 102.97300 1 99.05070 1\n",
        "O  98.54800 1 101.26500 1 97.24860 1\n",
        "H  98.68890 1 102.14000 1 97.71100 1\n",
        "H  97.91990 1 101.39100 1 96.48080 1\n",
        "O  106.82400 1 106.53000 1 94.92720 1\n",
        "H  106.14300 1 106.37300 1 94.21240 1\n",
        "H  107.49700 1 105.79100 1 94.91530 1\n",
        "O  99.59600 1 89.32710 1 103.11000 1\n",
        "H  98.85030 1 89.88720 1 102.74900 1\n",
        "H  99.22040 1 88.61170 1 103.69900 1\n",
        "O  106.91900 1 103.00000 1 107.11100 1\n",
        "H  107.54100 1 102.32200 1 106.72000 1\n",
        "H  107.09200 1 103.08400 1 108.09200 1\n",
        "O  99.70610 1 94.28790 1 105.53400 1\n",
        "H  98.70910 1 94.21440 1 105.51100 1\n",
        "H  100.04200 1 93.98820 1 106.42700 1\n",
        "O  104.76400 1 102.90700 1 101.92900 1\n",
        "H  104.15700 1 103.65000 1 101.64800 1\n",
        "H  105.59700 1 103.28900 1 102.32800 1\n",
        "O  104.72700 1 95.43570 1 98.03870 1\n",
        "H  103.94700 1 95.06580 1 97.53510 1\n",
        "H  104.49600 1 95.50480 1 99.00900 1\n",
        "O  107.16800 1 105.22600 1 105.55100 1\n",
        "H  106.95800 1 104.35500 1 105.99400 1\n",
        "H  108.00800 1 105.60500 1 105.94000 1\n",
        "O  103.89800 1 98.42790 1 99.98450 1\n",
        "H  103.01500 1 98.65490 1 99.57370 1\n",
        "H  104.12800 1 97.47730 1 99.77610 1\n",
        "O  108.74300 1 100.42300 1 97.26820 1\n",
        "H  107.82800 1 100.12800 1 97.54210 1\n",
        "H  109.21900 1 99.66360 1 96.82380 1\n",
        "O  105.39900 1 107.39800 1 105.22200 1\n",
        "H  106.06700 1 106.72000 1 105.53000 1\n",
        "H  104.74200 1 106.96200 1 104.60700 1\n",
        "O  92.29400 1 102.10400 1 108.19200 1\n",
        "H  91.48860 1 101.51200 1 108.20700 1\n",
        "H  92.77440 1 102.03700 1 109.06600 1\n",
        "O  99.16660 1 96.44210 1 101.72300 1\n",
        "H  98.84320 1 97.20660 1 101.16600 1\n",
        "H  99.64390 1 95.78370 1 101.14100 1\n",
        "O  105.27400 1 91.85190 1 96.52710 1\n",
        "H  104.55900 1 92.53130 1 96.69410 1\n",
        "H  105.99700 1 91.95370 1 97.21040 1\n",
        "O  94.27230 1 104.86100 1 98.02720 1\n",
        "H  93.27440 1 104.80600 1 97.99270 1\n",
        "H  94.65230 1 104.57900 1 97.14610 1\n",
        "O  107.54400 1 95.67730 1 98.77720 1\n",
        "H  106.62700 1 95.27920 1 98.76030 1\n",
        "H  107.70700 1 96.10130 1 99.66800 1\n",
        "O  94.40830 1 105.31400 1 100.70100 1\n",
        "H  94.39680 1 105.02100 1 99.74460 1\n",
        "H  95.35350 1 105.45600 1 100.99500 1\n",
        "O  106.04000 1 95.59370 1 102.47800 1\n",
        "H  105.76200 1 96.18220 1 103.23700 1\n",
        "H  106.86700 1 95.09120 1 102.73200 1\n",
        "O  105.65700 1 107.88800 1 97.01160 1\n",
        "H  106.26300 1 107.60500 1 97.75520 1\n",
        "H  106.00100 1 107.52600 1 96.14520 1\n",
        "O  108.56700 1 105.17100 1 96.73550 1\n",
        "H  108.10300 1 105.97900 1 97.09870 1\n",
        "H  107.89200 1 104.46000 1 96.53840 1\n",
        "O  102.89100 1 100.84200 1 97.47760 1\n",
        "H  103.83700 1 100.66200 1 97.20970 1\n",
        "H  102.86800 1 101.16600 1 98.42340 1\n",
        "O  89.92790 1 94.91870 1 101.19900 1\n",
        "H  90.04030 1 94.40730 1 102.05100 1\n",
        "H  90.74560 1 94.80880 1 100.63400 1\n",
        "O  103.43300 1 90.16960 1 100.82100 1\n",
        "H  103.43000 1 90.06740 1 99.82670 1\n",
        "H  103.71300 1 89.30760 1 101.24400 1\n",
        "O  95.58140 1 99.19010 1 109.06100 1\n",
        "H  95.51950 1 98.21440 1 108.85100 1\n",
        "H  96.53820 1 99.43860 1 109.21100 1\n",
        "O  106.87400 1 99.68390 1 106.42800 1\n",
        "H  106.23600 1 100.31000 1 106.87600 1\n",
        "H  106.81800 1 99.80390 1 105.43600 1\n",
        "O  107.58900 1 103.37600 1 102.66800 1\n",
        "H  107.46100 1 104.11100 1 103.33500 1\n",
        "H  107.93400 1 103.76000 1 101.81200 1\n",
        "O  96.22720 1 100.99000 1 101.69800 1\n",
        "H  96.14880 1 100.42200 1 102.51700 1\n",
        "H  95.31360 1 101.23700 1 101.37500 1\n",
        "O  100.17100 1 93.76020 1 108.17400 1\n",
        "H  101.01200 1 94.05750 1 108.62700 1\n",
        "H  100.24800 1 92.79320 1 107.93000 1\n",
        "O  98.18130 1 98.14400 1 89.89570 1\n",
        "H  97.66870 1 97.89200 1 89.07480 1\n",
        "H  99.13810 1 97.87450 1 89.78700 1\n",
        "O  99.07070 1 107.83400 1 108.56100 1\n",
        "H  98.77770 1 108.38300 1 107.77900 1\n",
        "H  99.41070 1 108.43600 1 109.28300 1\n",
        "O  107.82600 1 96.98410 1 101.11300 1\n",
        "H  108.46600 1 97.49710 1 101.68500 1\n",
        "H  107.05800 1 96.67020 1 101.67200 1\n",
        "O  92.63900 1 96.95560 1 97.82900 1\n",
        "H  93.62890 1 97.09280 1 97.86600 1\n",
        "H  92.44310 1 96.00840 1 97.57510 1\n",
        "O  95.27810 1 97.16900 1 98.96580 1\n",
        "H  95.14480 1 97.37700 1 99.93480 1\n",
        "H  95.58790 1 97.99110 1 98.48810 1\n",
        "O  108.68600 1 107.87000 1 102.36200 1\n",
        "H  109.32800 1 107.31300 1 101.83400 1\n",
        "H  107.79300 1 107.42200 1 102.38000 1\n",
        "O  93.03280 1 108.20200 1 104.53400 1\n",
        "H  92.82090 1 108.80200 1 105.30600 1\n",
        "H  93.38190 1 108.74900 1 103.77300 1\n",
        "O  100.90400 1 98.61860 1 90.34210 1\n",
        "H  101.76400 1 98.30700 1 89.93700 1\n",
        "H  100.79500 1 98.20860 1 91.24760 1\n",
        "O  98.86480 1 98.22250 1 103.91700 1\n",
        "H  98.94980 1 97.46300 1 103.27200 1\n",
        "H  99.05480 1 97.89640 1 104.84300 1\n",
        "O  104.47600 1 109.77600 1 104.11800 1\n",
        "H  104.85700 1 108.97200 1 104.57600 1\n",
        "H  104.39100 1 109.59300 1 103.13900 1\n",
        "O  104.57800 1 100.03500 1 101.95200 1\n",
        "H  104.41900 1 101.01100 1 101.80200 1\n",
        "H  104.20600 1 99.51490 1 101.18400 1\n",
        "O  102.02700 1 106.87600 1 101.13800 1\n",
        "H  102.20000 1 106.69500 1 100.17000 1\n",
        "H  101.51500 1 107.72900 1 101.23200 1\n",
        "O  102.42900 1 104.06000 1 101.34800 1\n",
        "H  101.75700 1 103.66500 1 101.97400 1\n",
        "H  102.20900 1 105.02100 1 101.18500 1\n",
        "O  99.10130 1 110.64100 1 96.03360 1\n",
        "H  98.44850 1 110.88500 1 95.31670 1\n",
        "H  98.63710 1 110.10300 1 96.73790 1\n",
        "O  109.44400 1 101.52600 1 99.56020 1\n",
        "H  109.32200 1 101.26700 1 98.60190 1\n",
        "H  110.31700 1 102.00000 1 99.66950 1\n",
        "O  104.67600 1 94.06250 1 91.64900 1\n",
        "H  104.39800 1 93.29910 1 92.23210 1\n",
        "H  104.28400 1 93.94470 1 90.73650 1\n",
        "O  96.79800 1 93.94420 1 100.56800 1\n",
        "H  97.50820 1 94.48670 1 100.11900 1\n",
        "H  96.98240 1 93.90040 1 101.55000 1\n",
        "O  90.27680 1 104.64200 1 104.29900 1\n",
        "H  90.87280 1 104.04500 1 104.83600 1\n",
        "H  90.40820 1 104.45600 1 103.32600 1\n",
        "O  107.30700 1 103.62600 1 93.10280 1\n",
        "H  107.86900 1 103.66100 1 92.27620 1\n",
        "H  106.45200 1 104.12100 1 92.94600 1\n",
        "O  94.66610 1 97.58160 1 91.54190 1\n",
        "H  95.64910 1 97.54200 1 91.72110 1\n",
        "H  94.16790 1 97.55450 1 92.40860 1\n",
        "O  88.73000 1 102.63800 1 99.44910 1\n",
        "H  88.05270 1 103.35300 1 99.27280 1\n",
        "H  88.28160 1 101.74500 1 99.44120 1\n",
        "O  101.72000 1 98.17330 1 111.72200 1\n",
        "H  100.98900 1 98.83940 1 111.57100 1\n",
        "H  101.81400 1 97.59330 1 110.91300 1\n",
        "O  108.10100 1 103.92700 1 99.74140 1\n",
        "H  108.58500 1 103.06400 1 99.88290 1\n",
        "H  108.11600 1 104.16200 1 98.76950 1\n",
        "O  94.26310 1 91.38990 1 94.87490 1\n",
        "H  93.79350 1 91.95620 1 94.19760 1\n",
        "H  94.10820 1 91.76570 1 95.78860 1\n",
        "O  110.30800 1 98.31410 1 96.33640 1\n",
        "H  110.78200 1 98.97130 1 95.75060 1\n",
        "H  110.96700 1 97.87660 1 96.94810 1\n",
        "O  97.57360 1 90.64650 1 95.91570 1\n",
        "H  98.45210 1 91.08360 1 96.10840 1\n",
        "H  96.96350 1 91.30470 1 95.47460 1\n",
        "O  95.11870 1 97.70060 1 101.79700 1\n",
        "H  94.17130 1 97.42360 1 101.95700 1\n",
        "H  95.37730 1 98.40320 1 102.46000 1\n",
        "O  99.23110 1 93.15420 1 102.82100 1\n",
        "H  99.33130 1 93.81700 1 103.56300 1\n",
        "H  100.10400 1 93.05340 1 102.34400 1\n",
        "O  103.39500 1 93.76380 1 96.08880 1\n",
        "H  102.54100 1 93.36110 1 95.75870 1\n",
        "H  103.75300 1 94.39570 1 95.40150 1\n",
        "O  93.14980 1 92.90940 1 102.97900 1\n",
        "H  92.16670 1 92.80820 1 103.13100 1\n",
        "H  93.55360 1 92.01210 1 102.80000 1\n",
        "O  103.86700 1 98.22880 1 93.49220 1\n",
        "H  103.00700 1 97.73270 1 93.37170 1\n",
        "H  103.97100 1 98.89860 1 92.75700 1\n",
        "O  100.18700 1 111.11500 1 103.56300 1\n",
        "H  99.62330 1 110.99900 1 104.38100 1\n",
        "H  100.08100 1 112.04600 1 103.21500 1\n",
        "O  98.01640 1 94.88090 1 109.43200 1\n",
        "H  98.89010 1 94.59550 1 109.03800 1\n",
        "H  97.87460 1 94.41200 1 110.30400 1\n",
        "O  94.70940 1 92.81710 1 105.12400 1\n",
        "H  94.47370 1 92.87480 1 104.15400 1\n",
        "H  94.55560 1 93.70490 1 105.55800 1\n",
        "O  107.78700 1 94.09810 1 104.66200 1\n",
        "H  107.74000 1 93.96770 1 105.65300 1\n",
        "H  108.70000 1 94.41820 1 104.41100 1\n",
        "O  99.72540 1 101.61800 1 108.74600 1\n",
        "H  99.29630 1 102.51700 1 108.65000 1\n",
        "H  100.71900 1 101.72500 1 108.77700 1\n",
        "O  105.65400 1 100.60600 1 97.05090 1\n",
        "H  105.81700 1 99.91710 1 96.34460 1\n",
        "H  105.59900 1 100.16000 1 97.94450 1\n",
        "O  98.70820 1 103.75200 1 98.24430 1\n",
        "H  98.39710 1 104.23400 1 97.42540 1\n",
        "H  99.59850 1 104.11100 1 98.52440 1\n",
        "O  93.57490 1 105.53900 1 104.51400 1\n",
        "H  93.32200 1 106.50700 1 104.52500 1\n",
        "H  94.56850 1 105.45400 1 104.58700 1\n",
        "O  104.52900 1 95.23850 1 94.08810 1\n",
        "H  104.55200 1 94.92320 1 93.13940 1\n",
        "H  104.08700 1 96.13410 1 94.13150 1\n",
        "O  100.15000 1 108.29700 1 95.20280 1\n",
        "H  101.07100 1 108.18900 1 95.57760 1\n",
        "H  99.68900 1 109.05500 1 95.66340 1\n",
        "O  97.59080 1 90.98810 1 102.43200 1\n",
        "H  96.88810 1 91.05450 1 101.72400 1\n",
        "H  98.09400 1 91.85070 1 102.48400 1\n",
        "O  95.93330 1 100.06900 1 106.48600 1\n",
        "H  95.89680 1 99.71970 1 107.42200 1\n",
        "H  96.88740 1 100.19200 1 106.21300 1\n",
        "O  108.27300 1 91.57010 1 100.88300 1\n",
        "H  107.36600 1 91.75370 1 101.26200 1\n",
        "H  108.41800 1 90.58220 1 100.82800 1\n",
        "O  100.50500 1 103.72900 1 110.70700 1\n",
        "H  101.32500 1 103.54900 1 110.16300 1\n",
        "H  99.79300 1 104.11400 1 110.12000 1\n",
        "O  91.98090 1 106.28900 1 94.70190 1\n",
        "H  92.81470 1 105.88600 1 94.32430 1\n",
        "H  91.98620 1 107.27600 1 94.54300 1\n",
        "O  97.16470 1 94.92430 1 105.41600 1\n",
        "H  96.95860 1 95.15220 1 104.46400 1\n",
        "H  96.31250 1 94.85850 1 105.93500 1\n",
        "O  97.96030 1 99.73840 1 92.32320 1\n",
        "H  98.02510 1 99.20310 1 91.48100 1\n",
        "H  97.43210 1 100.57000 1 92.14990 1\n",
        "O  95.96420 1 107.13200 1 98.36980 1\n",
        "H  96.22940 1 107.19500 1 99.33200 1\n",
        "H  95.39860 1 106.31900 1 98.23210 1\n",
        "O  103.23100 1 106.52000 1 103.60300 1\n",
        "H  102.89600 1 106.66200 1 102.67200 1\n",
        "H  102.45800 1 106.50500 1 104.23700 1\n",
        "O  92.78010 1 95.01040 1 101.42400 1\n",
        "H  92.91090 1 94.26660 1 102.07900 1\n",
        "H  93.22020 1 94.77280 1 100.55800 1\n",
        "O  95.43970 1 110.39100 1 100.55900 1\n",
        "H  95.78580 1 111.32600 1 100.48400 1\n",
        "H  96.19490 1 109.77200 1 100.77600 1\n",
        "O  99.79460 1 91.48830 1 100.02300 1\n",
        "H  100.44500 1 92.22060 1 100.22400 1\n",
        "H  98.90470 1 91.88530 1 99.79880 1\n",
        "O  106.05200 1 98.65380 1 95.23600 1\n",
        "H  106.52800 1 97.77880 1 95.14840 1\n",
        "H  105.74700 1 98.95890 1 94.33390 1\n",
        "O  98.54720 1 109.72700 1 100.06100 1\n",
        "H  98.22770 1 109.62700 1 101.00300 1\n",
        "H  98.88480 1 110.65800 1 99.92020 1\n",
        "O  98.52180 1 99.29630 1 109.57000 1\n",
        "H  99.20640 1 98.56790 1 109.54300 1\n",
        "H  98.93210 1 100.15100 1 109.25100 1\n",
        "O  109.82900 1 98.42580 1 102.26500 1\n",
        "H  109.71300 1 99.41020 1 102.39700 1\n",
        "H  110.63700 1 98.25870 1 101.69900 1\n",
        "O  101.62500 1 110.84500 1 96.54850 1\n",
        "H  102.13300 1 110.63100 1 95.71420 1\n",
        "H  100.64500 1 110.85200 1 96.34920 1\n",
        "O  99.46800 1 105.28300 1 95.69050 1\n",
        "H  100.39500 1 104.91100 1 95.65160 1\n",
        "H  99.51190 1 106.27900 1 95.77230 1\n",
        "O  103.06500 1 106.41800 1 98.40410 1\n",
        "H  102.94500 1 107.08700 1 97.67030 1\n",
        "H  103.91900 1 106.60500 1 98.88890 1\n",
        "O  100.12500 1 101.87000 1 92.89430 1\n",
        "H  99.42860 1 101.29800 1 92.45970 1\n",
        "H  99.89660 1 101.99600 1 93.85970 1\n",
        "O  92.13130 1 97.64230 1 102.17700 1\n",
        "H  91.31700 1 97.79140 1 102.73800 1\n",
        "H  92.26650 1 96.66100 1 102.04000 1\n",
        "O  102.16000 1 94.34950 1 98.74720 1\n",
        "H  102.52700 1 93.53430 1 98.29930 1\n",
        "H  102.43600 1 94.35460 1 99.70830 1\n",
        "O  101.90900 1 92.71700 1 101.66100 1\n",
        "H  102.63800 1 93.17770 1 102.16800 1\n",
        "H  102.28400 1 91.91860 1 101.19000 1\n",
        "O  104.61000 1 109.58600 1 101.26100 1\n",
        "H  105.15100 1 109.99400 1 100.52500 1\n",
        "H  103.65700 1 109.50700 1 100.97000 1\n",
        "O  93.18970 1 99.95730 1 93.04260 1\n",
        "H  92.58540 1 99.29140 1 93.47990 1\n",
        "H  93.92950 1 99.47710 1 92.57140 1\n",
        "O  103.15400 1 90.69820 1 98.07440 1\n",
        "H  103.90700 1 90.93190 1 97.45970 1\n",
        "H  102.87600 1 89.75060 1 97.91620 1\n",
        "O  97.61390 1 109.32300 1 102.43100 1\n",
        "H  98.07930 1 108.56600 1 102.88900 1\n",
        "H  97.46410 1 110.06600 1 103.08400 1\n",
        "O  105.73800 1 104.86200 1 90.84810 1\n",
        "H  106.57500 1 105.38600 1 90.69290 1\n",
        "H  105.47500 1 104.39600 1 90.00310 1\n",
        "O  101.19500 1 106.92800 1 105.45600 1\n",
        "H  101.20600 1 106.43400 1 106.32500 1\n",
        "H  100.87100 1 107.86200 1 105.60700 1\n",
        "O  99.01020 1 108.60100 1 105.83300 1\n",
        "H  98.68580 1 109.52200 1 105.61600 1\n",
        "H  98.22770 1 107.98600 1 105.92700 1\n",
        "O  97.89430 1 93.63650 1 97.70460 1\n",
        "H  96.92180 1 93.46230 1 97.54950 1\n",
        "H  98.23160 1 94.27900 1 97.01660 1\n",
        "O  98.77160 1 100.73900 1 106.19700 1\n",
        "H  99.39810 1 101.17800 1 106.84000 1\n",
        "H  99.29720 1 100.23100 1 105.51400 1\n",
        "O  97.12780 1 90.24500 1 105.11500 1\n",
        "H  96.88430 1 91.10390 1 105.56600 1\n",
        "H  97.29430 1 90.41370 1 104.14400 1\n",
        "O  96.61380 1 101.99700 1 91.48190 1\n",
        "H  96.73160 1 102.04000 1 90.48980 1\n",
        "H  96.07000 1 102.77900 1 91.78700 1\n",
        "O  94.44380 1 94.65100 1 99.37350 1\n",
        "H  95.29390 1 94.30190 1 99.76770 1\n",
        "H  94.46360 1 95.65080 1 99.37060 1\n",
        "O  102.48600 1 102.21400 1 109.34100 1\n",
        "H  103.15400 1 101.63400 1 109.80800 1\n",
        "H  102.96300 1 102.83800 1 108.72100 1\n",
        "O  99.99150 1 101.01700 1 111.87900 1\n",
        "H  99.81070 1 101.27200 1 112.82900 1\n",
        "H  99.81060 1 101.80000 1 111.28300 1\n",
        "O  107.06800 1 94.15770 1 94.35010 1\n",
        "H  106.14500 1 94.51740 1 94.48290 1\n",
        "H  107.65900 1 94.47480 1 95.09170 1\n",
        "O  103.45400 1 97.58990 1 96.42180 1\n",
        "H  103.88500 1 98.13510 1 95.70250 1\n",
        "H  104.14200 1 97.00980 1 96.85750 1\n",
        "O  97.66300 1 103.75500 1 93.71660 1\n",
        "H  97.87820 1 104.67800 1 94.03590 1\n",
        "H  98.12400 1 103.58700 1 92.84520 1\n",
        "O  94.71680 1 95.33950 1 106.73000 1\n",
        "H  94.73150 1 95.78000 1 107.62800 1\n",
        "H  94.00490 1 95.75720 1 106.16500 1\n",
        "O  100.74000 1 109.20000 1 101.97800 1\n",
        "H  100.53000 1 109.97400 1 102.57400 1\n",
        "H  100.20400 1 109.27200 1 101.13700 1\n",
        "O  108.67400 1 100.94800 1 102.34600 1\n",
        "H  108.61400 1 100.95800 1 101.34800 1\n",
        "H  108.37800 1 101.83300 1 102.70600 1\n",
        "O  104.38300 1 100.42600 1 91.79330 1\n",
        "H  103.61400 1 101.04300 1 91.62470 1\n",
        "H  105.23900 1 100.94000 1 91.74760 1\n",
        "O  93.47000 1 98.89810 1 105.38600 1\n",
        "H  93.19140 1 99.41430 1 104.57600 1\n",
        "H  94.08330 1 99.45780 1 105.94300 1\n",
        "O  92.50050 1 101.45400 1 96.90590 1\n",
        "H  92.03230 1 101.75000 1 97.73820 1\n",
        "H  92.35450 1 100.47300 1 96.77300 1\n",
        "O  95.63030 1 99.99660 1 98.24540 1\n",
        "H  96.54040 1 100.41000 1 98.26890 1\n",
        "H  94.98290 1 100.63800 1 97.83450 1\n",
        "O  92.81430 1 98.19890 1 109.41200 1\n",
        "H  93.69640 1 98.57840 1 109.13300 1\n",
        "H  92.95410 1 97.53790 1 110.14900 1\n",
        "O  90.49600 1 102.36600 1 95.29130 1\n",
        "H  90.02990 1 101.50300 1 95.09840 1\n",
        "H  91.35460 1 102.18200 1 95.76970 1\n",
        "O  91.34810 1 98.77010 1 96.46520 1\n",
        "H  91.78820 1 98.00350 1 96.93270 1\n",
        "H  90.43820 1 98.91870 1 96.85240 1\n",
        "O  103.59700 1 98.45290 1 89.80650 1\n",
        "H  103.96700 1 99.21160 1 90.34280 1\n",
        "H  104.29000 1 97.73730 1 89.71950 1\n",
        "O  103.77300 1 93.78880 1 103.79400 1\n",
        "H  103.86500 1 93.69420 1 104.78500 1\n",
        "H  104.67600 1 93.73460 1 103.36800 1\n",
        "O  105.71400 1 105.89500 1 99.86150 1\n",
        "H  105.70400 1 106.45800 1 100.68800 1\n",
        "H  106.64700 1 105.58000 1 99.68510 1\n",
        "O  99.50570 1 94.60000 1 99.76200 1\n",
        "H  98.91500 1 94.23040 1 99.04480 1\n",
        "H  100.45500 1 94.59670 1 99.44670 1\n",
        "O  93.72390 1 101.48200 1 100.59200 1\n",
        "H  93.28530 1 102.17400 1 100.01900 1\n",
        "H  93.37470 1 100.57700 1 100.34700 1\n",
        "O  106.07600 1 95.32520 1 107.31900 1\n",
        "H  106.51500 1 95.92390 1 107.99000 1\n",
        "H  105.83000 1 95.85640 1 106.50900 1\n",
        "O  92.51540 1 104.35600 1 102.39900 1\n",
        "H  92.83480 1 104.69800 1 103.28300 1\n",
        "H  93.16980 1 104.61100 1 101.68700 1\n",
        "O  102.36000 1 101.55100 1 99.96450 1\n",
        "H  102.67500 1 102.37000 1 100.44400 1\n",
        "H  101.55600 1 101.18000 1 100.43000 1\n",
        "O  99.12880 1 95.98010 1 96.60210 1\n",
        "H  99.03730 1 96.94160 1 96.86120 1\n",
        "H  100.09700 1 95.72920 1 96.58810 1\n",
        "O  95.83630 1 91.03120 1 100.00500 1\n",
        "H  95.67550 1 91.87680 1 99.49620 1\n",
        "H  95.23640 1 91.00420 1 100.80500 1\n",
        "O  101.26300 1 91.44420 1 106.68800 1\n",
        "H  101.51300 1 91.38180 1 105.72200 1\n",
        "H  100.93400 1 90.55490 1 107.00500 1\n",
        "O  100.39500 1 90.89220 1 97.25380 1\n",
        "H  99.72950 1 90.72480 1 97.98120 1\n",
        "H  101.26900 1 91.16210 1 97.65740 1\n",
        "O  103.54400 1 99.03850 1 104.41200 1\n",
        "H  104.18200 1 99.18420 1 103.65500 1\n",
        "H  102.60500 1 99.10250 1 104.07300 1\n",
        "O  99.48260 1 98.23710 1 94.25660 1\n",
        "H  98.96830 1 98.76450 1 93.58040 1\n",
        "H  100.01800 1 98.85930 1 94.82730 1\n",
        "O  97.11170 1 105.88900 1 101.28400 1\n",
        "H  97.80250 1 106.40300 1 101.79200 1\n",
        "H  97.48760 1 105.00200 1 101.01400 1\n",
        "O  103.13300 1 101.98100 1 104.53500 1\n",
        "H  103.58100 1 102.21600 1 103.67300 1\n",
        "H  102.67800 1 101.09500 1 104.44400 1\n",
        "O  109.41500 1 93.88680 1 99.95800 1\n",
        "H  109.13800 1 92.97290 1 100.25500 1\n",
        "H  108.72300 1 94.26120 1 99.34060 1\n",
        "O  101.85800 1 95.95980 1 104.56500 1\n",
        "H  102.48700 1 95.18720 1 104.47800 1\n",
        "H  100.95100 1 95.62420 1 104.81800 1\n",
        "O  93.97260 1 106.11600 1 92.71790 1\n",
        "H  93.27950 1 106.47800 1 92.09460 1\n",
        "H  94.82810 1 106.61800 1 92.59320 1\n",
        "O  102.96900 1 107.81400 1 95.73400 1\n",
        "H  102.87400 1 108.03000 1 94.76240 1\n",
        "H  103.93100 1 107.88400 1 95.99800 1\n",
        "O  106.34100 1 99.34190 1 99.39550 1\n",
        "H  105.47100 1 98.93050 1 99.66640 1\n",
        "H  107.04000 1 99.12000 1 100.07500 1\n",
        "O  101.74400 1 97.72600 1 106.88600 1\n",
        "H  102.07700 1 97.16620 1 106.12800 1\n",
        "H  102.14000 1 98.64200 1 106.82400 1\n",
        "O  95.15420 1 95.84000 1 96.17170 1\n",
        "H  95.97380 1 95.82100 1 95.59910 1\n",
        "H  95.41380 1 96.02670 1 97.11920 1\n",
        "O  101.83600 1 97.44670 1 102.11000 1\n",
        "H  100.86000 1 97.39740 1 101.89800 1\n",
        "H  101.99100 1 97.13340 1 103.04700 1\n",
        "O  105.33700 1 110.29100 1 98.50340 1\n",
        "H  104.34900 1 110.30900 1 98.35310 1\n",
        "H  105.77700 1 109.77200 1 97.77060 1\n",
        "O  96.10060 1 89.06470 1 98.04460 1\n",
        "H  95.85120 1 89.74940 1 98.72950 1\n",
        "H  96.86350 1 89.40550 1 97.49510 1\n",
        "O  101.66500 1 98.31610 1 98.31940 1\n",
        "H  101.90400 1 99.23380 1 98.00200 1\n",
        "H  102.22400 1 97.64090 1 97.83770 1\n",
        "O  99.98470 1 103.27200 1 102.30700 1\n",
        "H  99.64070 1 103.10400 1 103.23100 1\n",
        "H  99.21650 1 103.45300 1 101.69300 1\n",
        "O  92.53380 1 103.10900 1 105.48800 1\n",
        "H  92.59710 1 102.91000 1 106.46600 1\n",
        "H  93.14820 1 103.86500 1 105.26100 1\n",
        "O  102.28100 1 109.99000 1 99.23740 1\n",
        "H  101.80400 1 109.98900 1 98.35860 1\n",
        "H  101.70700 1 110.43000 1 99.92770 1\n",
        "O  94.11600 1 101.97300 1 94.71210 1\n",
        "H  93.62640 1 101.36900 1 94.08270 1\n",
        "H  93.59380 1 102.06400 1 95.56000 1\n",
        "O  96.66230 1 107.24500 1 105.89000 1\n",
        "H  96.44910 1 106.61100 1 105.14700 1\n",
        "H  96.36750 1 106.85100 1 106.76100 1\n",
        "O  102.24300 1 102.21900 1 91.22300 1\n",
        "H  102.22600 1 102.79700 1 90.40680 1\n",
        "H  101.30900 1 102.07900 1 91.55190 1\n",
        "O  98.71050 1 97.26530 1 106.54400 1\n",
        "H  99.31020 1 97.42310 1 107.32900 1\n",
        "H  98.15990 1 96.44610 1 106.70500 1\n",
        "O  109.45400 1 97.78580 1 106.69000 1\n",
        "H  108.47500 1 97.98660 1 106.66700 1\n",
        "H  109.86500 1 98.22210 1 107.49000 1\n",
        "O  107.24900 1 100.84100 1 92.40070 1\n",
        "H  108.07100 1 100.42800 1 92.79240 1\n",
        "H  107.28000 1 101.83200 1 92.53030 1\n",
        "O  108.51900 1 96.37610 1 92.74910 1\n",
        "H  109.49700 1 96.16590 1 92.74280 1\n",
        "H  108.04600 1 95.74190 1 93.36040 1\n",
        "0"
      ],
      "metadata": {
        "id": "1IdHVJkiBpei"
      },
      "execution_count": null,
      "outputs": []
    },
    {
      "cell_type": "code",
      "source": [
        "!nohup mopac water_711.mop &"
      ],
      "metadata": {
        "id": "RjhhfoUUTROd"
      },
      "execution_count": null,
      "outputs": []
    },
    {
      "cell_type": "code",
      "source": [
        "!ls -la water_711.arc"
      ],
      "metadata": {
        "id": "sjM43e9JDSx5"
      },
      "execution_count": null,
      "outputs": []
    },
    {
      "cell_type": "code",
      "source": [
        "%%writefile srv.py\n",
        "import http.server\n",
        "import socketserver\n",
        "\n",
        "PORT = 8000\n",
        "\n",
        "Handler = http.server.SimpleHTTPRequestHandler\n",
        "\n",
        "with socketserver.TCPServer((\"\", PORT), Handler) as httpd:\n",
        "    print(\"serving at port\", PORT)\n",
        "    httpd.serve_forever()"
      ],
      "metadata": {
        "id": "2xHBkmXieJ1W"
      },
      "execution_count": null,
      "outputs": []
    },
    {
      "cell_type": "code",
      "source": [
        "get_ipython().system_raw('python3 srv.py &')"
      ],
      "metadata": {
        "id": "wOiGD0QpeJ54"
      },
      "execution_count": null,
      "outputs": []
    },
    {
      "cell_type": "code",
      "source": [
        "!ps -ef"
      ],
      "metadata": {
        "id": "K8ABUVMieJ9Z"
      },
      "execution_count": null,
      "outputs": []
    },
    {
      "cell_type": "code",
      "source": [
        "!kill -9 28969\n",
        "!ps -ef"
      ],
      "metadata": {
        "id": "VUvslT4KeKBE"
      },
      "execution_count": null,
      "outputs": []
    },
    {
      "cell_type": "code",
      "source": [
        "# !while true; do nohup you_command_line >/dev/null 2>&1; sleep 5; done >/dev/null 2>&1 &"
      ],
      "metadata": {
        "id": "hPBeTkos06vo"
      },
      "execution_count": null,
      "outputs": []
    },
    {
      "cell_type": "code",
      "source": [
        "%%python --bg\n",
        "\n",
        "from datetime import datetime\n",
        "import time\n",
        "for i in range(5):\n",
        "    print(datetime.now(), flush=True)\n",
        "    time.sleep(1)"
      ],
      "metadata": {
        "id": "27LBwC6w06zf"
      },
      "execution_count": null,
      "outputs": []
    },
    {
      "cell_type": "code",
      "source": [
        "!ps -ef"
      ],
      "metadata": {
        "id": "qVjLavLw062p"
      },
      "execution_count": null,
      "outputs": []
    },
    {
      "cell_type": "code",
      "source": [],
      "metadata": {
        "id": "MM4s86WJTCcP"
      },
      "execution_count": null,
      "outputs": []
    },
    {
      "cell_type": "markdown",
      "source": [
        "###<font color=\"purple\"> **Inserindo um diretório na variável Path** </font>\n",
        "\n",
        "Você pode querer que um diretório de armazenamento de arquivos (ex: seu gdrive) esteja disponível facilmente. Uma forma é adicionar essas pastas na variável PATH do Linux."
      ],
      "metadata": {
        "id": "WpsvphEW2u5H"
      }
    },
    {
      "cell_type": "code",
      "source": [
        "import sys\n",
        "sys.path.append('/mntDrive/MyDrive/Work_Colab/')\n",
        "#from helper import *"
      ],
      "metadata": {
        "id": "ZVDJKj-8066t"
      },
      "execution_count": null,
      "outputs": []
    },
    {
      "cell_type": "code",
      "source": [],
      "metadata": {
        "id": "dBL6LwS0069Y"
      },
      "execution_count": null,
      "outputs": []
    },
    {
      "cell_type": "markdown",
      "source": [
        "###<font color=\"purple\"> **Explorando poder de processamento paralelo** </font>\n",
        "\n",
        "* <https://colab.research.google.com/drive/1RdttaoQSBXNgjTBUYOPnxBpo9VzZhSxQ#scrollTo=jYN-HC8cYuKS>\n",
        "* <https://colab.research.google.com/drive/1yxusXcFQ9ea1bff4_q5iToMhGeQnmSwC?usp=sharing>\n",
        "* <https://docs.oracle.com/cd/E19708-01/821-1319-10/ExecutingPrograms.html>\n",
        "\n",
        "**1. Usando OpenMP**"
      ],
      "metadata": {
        "id": "VtR2g3cvGJFO"
      }
    },
    {
      "cell_type": "code",
      "source": [
        "%%sh\n",
        "cat > a.c << EOF\n",
        "#include <stdio.h>\n",
        "int main()\n",
        "{\n",
        "  #pragma omp parallel\n",
        "  printf(\"Hello, world!\\n\");\n",
        "}\n",
        "EOF\n",
        "ls -l"
      ],
      "metadata": {
        "id": "i6Ujv_sW07FP"
      },
      "execution_count": null,
      "outputs": []
    },
    {
      "cell_type": "code",
      "source": [
        "!gcc -fopenmp a.c && ./a.out"
      ],
      "metadata": {
        "id": "ykGOAMmYGPdj"
      },
      "execution_count": null,
      "outputs": []
    },
    {
      "cell_type": "markdown",
      "source": [
        "**2. Usando MPI**\n",
        "\n",
        "OBS: Para n > 1 dá uma mensagem\n",
        "\n",
        "Instale os pacotes necessários\n",
        "\n",
        "!apt-get install -y mpich"
      ],
      "metadata": {
        "id": "_Es7z2_cHVZr"
      }
    },
    {
      "cell_type": "code",
      "source": [
        "!mpicc a.c && mpirun -n 2 --allow-run-as-root --oversubscribe a.out"
      ],
      "metadata": {
        "id": "erIvkD4DGPhY"
      },
      "execution_count": null,
      "outputs": []
    },
    {
      "cell_type": "code",
      "source": [
        "!mpirun --version"
      ],
      "metadata": {
        "id": "O1OAoujiGPnT"
      },
      "execution_count": null,
      "outputs": []
    },
    {
      "cell_type": "code",
      "source": [
        "%%file hostfile\n",
        "localhost slots=2\n"
      ],
      "metadata": {
        "id": "2WyVKFo6GPqN"
      },
      "execution_count": null,
      "outputs": []
    },
    {
      "cell_type": "code",
      "source": [
        "!mpirun --hostfile hostfile -np 2 --allow-run-as-root python -c \"print ('hey')\""
      ],
      "metadata": {
        "id": "9nyTArbrGPtT"
      },
      "execution_count": null,
      "outputs": []
    },
    {
      "cell_type": "code",
      "source": [
        "%%sh\n",
        "cat > hello.f90 << EOF\n",
        "program hello\n",
        "   use mpi\n",
        "   integer rank, size, ierror, strlen, status(MPI_STATUS_SIZE)\n",
        "   character(len=MPI_MAX_PROCESSOR_NAME) :: hostname\n",
        "\n",
        "   call MPI_INIT(ierror)\n",
        "   call MPI_COMM_SIZE(MPI_COMM_WORLD, size, ierror)\n",
        "   call MPI_COMM_RANK(MPI_COMM_WORLD, rank, ierror)\n",
        "   call MPI_GET_PROCESSOR_NAME( hostname, strlen, ierror )\n",
        "   print*, trim(hostname), rank, size\n",
        "   call MPI_FINALIZE(ierror)\n",
        "end\n",
        "EOF\n",
        "mpif90 hello.f90 && mpirun --hostfile hostfile -n 2 --allow-run-as-root a.out"
      ],
      "metadata": {
        "id": "-a9IhnuJI060"
      },
      "execution_count": null,
      "outputs": []
    },
    {
      "cell_type": "code",
      "source": [
        "!pip install mpi4py"
      ],
      "metadata": {
        "id": "UefFgjrdLTOq"
      },
      "execution_count": null,
      "outputs": []
    },
    {
      "cell_type": "code",
      "source": [
        "%%writefile 00spmd.py\n",
        "from mpi4py import MPI\n",
        "\n",
        "def main():\n",
        "    comm = MPI.COMM_WORLD\n",
        "    id = comm.Get_rank()            #number of the process running the code\n",
        "    numProcesses = comm.Get_size()  #total number of processes running\n",
        "    myHostName = MPI.Get_processor_name()  #machine name running the code\n",
        "\n",
        "    print(\"Greetings from process {} of {} on {}\"\\\n",
        "    .format(id, numProcesses, myHostName))\n",
        "\n",
        "########## Run the main function\n",
        "main()"
      ],
      "metadata": {
        "id": "G8dGgMlHLCof"
      },
      "execution_count": null,
      "outputs": []
    },
    {
      "cell_type": "code",
      "source": [
        "!mpirun --hostfile hostfile --allow-run-as-root -np 2 python 00spmd.py"
      ],
      "metadata": {
        "id": "Jd2EgKiALluM"
      },
      "execution_count": null,
      "outputs": []
    },
    {
      "cell_type": "code",
      "source": [
        "%%writefile 01masterWorker.py\n",
        "from mpi4py import MPI\n",
        "\n",
        "def main():\n",
        "    comm = MPI.COMM_WORLD\n",
        "    id = comm.Get_rank()            #number of the process running the code\n",
        "    numProcesses = comm.Get_size()  #total number of processes running\n",
        "    myHostName = MPI.Get_processor_name()  #machine name running the code\n",
        "\n",
        "    if id == 0:\n",
        "        print(\"Greetings from the master, {} of {} on {}\"\\\n",
        "        .format(id, numProcesses, myHostName))\n",
        "    else:\n",
        "        print(\"Greetings from a worker, {} of {} on {}\"\\\n",
        "        .format(id, numProcesses, myHostName))\n",
        "\n",
        "########## Run the main function\n",
        "main()"
      ],
      "metadata": {
        "id": "UGGdNgDeL6Hu"
      },
      "execution_count": null,
      "outputs": []
    },
    {
      "cell_type": "code",
      "source": [
        "!mpirun --hostfile hostfile --allow-run-as-root -np 2 python 01masterWorker.py"
      ],
      "metadata": {
        "id": "7VegqF3VLl8T"
      },
      "execution_count": null,
      "outputs": []
    },
    {
      "cell_type": "markdown",
      "source": [
        "**3. Usando CUDA**"
      ],
      "metadata": {
        "id": "sTcXMoK5JxDC"
      }
    },
    {
      "cell_type": "code",
      "source": [
        "!pip -q install gputil psutil humanize\n",
        "# Import packages\n",
        "import os,sys,humanize,psutil,GPUtil"
      ],
      "metadata": {
        "id": "6_nvDm_eI0-a"
      },
      "execution_count": null,
      "outputs": []
    },
    {
      "cell_type": "code",
      "source": [
        "# Define function\n",
        "def mem_report():\n",
        "  print(\"CPU RAM Free: \" + humanize.naturalsize( psutil.virtual_memory().available ))\n",
        "\n",
        "  GPUs = GPUtil.getGPUs()\n",
        "  for i, gpu in enumerate(GPUs):\n",
        "    print('GPU {:d} ... Mem Free: {:.0f}MB / {:.0f}MB | Utilization {:3.0f}%'\n",
        "    .format(i, gpu.memoryFree, gpu.memoryTotal, gpu.memoryUtil*100))"
      ],
      "metadata": {
        "id": "4SkdFEnvI1CV"
      },
      "execution_count": null,
      "outputs": []
    },
    {
      "cell_type": "code",
      "source": [
        "# Execute function\n",
        "mem_report()"
      ],
      "metadata": {
        "id": "W8eI6_xqI1Gd"
      },
      "execution_count": null,
      "outputs": []
    },
    {
      "cell_type": "code",
      "source": [
        "%%sh\n",
        "cat > hello.cu << EOF\n",
        "#include <stdio.h>\n",
        "\n",
        "#define NUM_BLOCKS 16\n",
        "#define BLOCK_WIDTH 1\n",
        "\n",
        "__global__ void hello()\n",
        "{\n",
        "    printf(\"Hello world! I'm a thread in block %d\\n\", blockIdx.x);\n",
        "}\n",
        "\n",
        "int main(int argc,char **argv)\n",
        "{\n",
        "    // launch the kernel\n",
        "    hello<<<NUM_BLOCKS, BLOCK_WIDTH>>>();\n",
        "\n",
        "    // force the printf()s to flush\n",
        "    cudaDeviceSynchronize();\n",
        "\n",
        "    printf(\"That's all!\\n\");\n",
        "\n",
        "    return 0;\n",
        "}\n",
        "EOF\n",
        "nvcc -o hello_cuda hello.cu && ./hello_cuda"
      ],
      "metadata": {
        "id": "g80vMNlKI1JU"
      },
      "execution_count": null,
      "outputs": []
    },
    {
      "cell_type": "markdown",
      "source": [
        "**4. Usando xterm**\n",
        "\n",
        "links\n",
        "\n",
        "- <https://blog.infuseai.io/run-a-full-tty-terminal-in-google-colab-without-colab-pro-2759b9f8a74a>\n",
        "- <https://pypi.org/project/colab-xterm/>\n",
        "-"
      ],
      "metadata": {
        "id": "sPABRTdc1TuU"
      }
    },
    {
      "cell_type": "code",
      "source": [
        "!pip install colab-xterm\n",
        "%load_ext colabxterm"
      ],
      "metadata": {
        "id": "-0O6WF8zI1Mc"
      },
      "execution_count": null,
      "outputs": []
    },
    {
      "cell_type": "code",
      "source": [
        "%xterm"
      ],
      "metadata": {
        "id": "VQ6YeJMg18pa"
      },
      "execution_count": null,
      "outputs": []
    },
    {
      "cell_type": "code",
      "source": [
        "!ls *"
      ],
      "metadata": {
        "id": "2bsrkR5-2zyN"
      },
      "execution_count": null,
      "outputs": []
    },
    {
      "cell_type": "markdown",
      "source": [
        "-------------\n",
        "#**FIM**"
      ],
      "metadata": {
        "id": "1dVPkcHxetTt"
      }
    }
  ]
}