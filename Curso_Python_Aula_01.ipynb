{
  "nbformat": 4,
  "nbformat_minor": 0,
  "metadata": {
    "colab": {
      "provenance": [],
      "toc_visible": true,
      "collapsed_sections": [
        "q5MaPbt1Tvwu",
        "DPFzBs4dUHus",
        "ST6GLNK_Wttl",
        "TgN6ig7iUd--",
        "Nc1J-EE_Uz_D",
        "vl_5qxkRU6IH",
        "X2EKcFduVF2v",
        "pTQSuHf3VNBC",
        "YLpES0m8VVHs"
      ],
      "authorship_tag": "ABX9TyMBBQplpM2HTrsvK8+j9ZiR",
      "include_colab_link": true
    },
    "kernelspec": {
      "name": "python3",
      "display_name": "Python 3"
    },
    "language_info": {
      "name": "python"
    }
  },
  "cells": [
    {
      "cell_type": "markdown",
      "metadata": {
        "id": "view-in-github",
        "colab_type": "text"
      },
      "source": [
        "<a href=\"https://colab.research.google.com/github/RochaGerd/Chemistry_with_Python/blob/main/Curso_Python_Aula_01.ipynb\" target=\"_parent\"><img src=\"https://colab.research.google.com/assets/colab-badge.svg\" alt=\"Open In Colab\"/></a>"
      ]
    },
    {
      "cell_type": "markdown",
      "source": [
        "#**Minicurso No. 13: Noções de Python para Químico(a)s**\n",
        "##**VII Encontro de Química da UFPB**\n",
        "##Autor: Prof. Gerd Bruno da Rocha \n",
        "###(gbr@academico.ufpb.br e https://www.quantum-chem.pro.br/)\n",
        "###Links:\n",
        "\n",
        "1.   <https://github.com/RochaGerd/Chemistry_with_Python>\n",
        "2.   <https://github.com/pythonchembook>\n",
        "\n",
        "\n",
        "###Material bibliográfico:\n",
        "\n",
        "1. Aprendendo Química com Python, Rodrigo Queiroz e Gerd Rocha, 2021, Amazon Book. <https://github.com/pythonchembook>\n",
        "\n",
        "  Link para compra: <https://www.amazon.com/Aprendendo-Qu%C3%ADmica-com-python-Portuguese/dp/B09LGSG6TY>\n",
        "\n",
        "2. J. Mueller. Começando a Programar em Python Para Leigos. Alta\n",
        "Books, 2020.\n",
        "3. A. Downey. Pense em Python: Pense como um cientista da computação.\n",
        "Novatec, 2016.\n",
        "\n",
        "###Conteúdo do Minicurso:\n",
        "\n",
        "**PARTE 1 (Dia 10/11): Noções de Python** \n",
        "\n",
        "1. Histórico do Python e instalação\n",
        "2. Bibliotecas e módulos\n",
        "3. Tipos de dados, constantes e variáveis; vetores e matrizes; listas, tuplas e dicionários; \n",
        "4. Input e output com arquivos externos\n",
        "5. Controlando o fluxo de dados do seu programa\n",
        "6. Repetindo partes do programa\n",
        "7. Funções;\n",
        "8. Bibliotecas básicas do Python\n",
        "\n",
        "**PARTE 2 (Dia 11/11): Aplicações para Químico(a)s**\n",
        "\n",
        "Bibliotecas de Python para químicos\n",
        "\n",
        "1. RDKit\n",
        "2. ASE\n",
        "3. PySCF\n",
        "4. AmberTools, Pytraj e NGLView\n",
        "\n",
        "---"
      ],
      "metadata": {
        "id": "XCuED_aFLRYi"
      }
    },
    {
      "cell_type": "markdown",
      "source": [
        "#**PARTE 1: Noções de Python**\n",
        "---"
      ],
      "metadata": {
        "id": "hHe3oz80r_vj"
      }
    },
    {
      "cell_type": "markdown",
      "source": [
        "# **1. Histórico do Python, instalação, IDEs, ambientes de programação para Python**\n",
        "\n",
        "A linguagem Python foi desenvolvida por Guido van Rossum (<https://pt.wikipedia.org/wiki/Guido_van_Rossum>), do Instituto de Pesquisa Nacional em Matemática e Ciência da Computação em Amsterdã, Holanda e o nome foi uma homenagem ao grupo de comédia mundialmente conhecido \"Monty Python\". \n",
        "\n",
        "A primeira versão de Python (<https://www.python.org/>) foi disponibilizada em 1991 e possuía a versão 0.9.0. A segunda versão da linguagem Python, denominada Python 2, foi disponibilizada em 2000 e, finalmente, a versão 3 (= Python 3) foi lançada em 2008. As versões 2 e 3 coexistem, porém só as versões a partir da 3 é que possuem atualmente suporte da comunidade que desenvolve a linguagem Python. Assim, o suporte (incluindo atualizações) da versão 2 foi descontinuado. \n",
        "\n",
        "**Neste minicurso, adotaremos a versão 3.**\n",
        "\n",
        "Python é uma linguagem de programação orientada ao objeto que possui certas propriedades (atributos) e funções (métodos) associados. Uma característica importante é que ela é uma liguagem *case sensitive*, como é conhecido no meio da computação quando a linguagem é sensível ao uso de letras maiúsculas e minúsculas.  Um ponto importante é que, o nome das variáveis deve sempre começar com uma letra.\n",
        "\n",
        "\n",
        "Python é uma das linguagens de programação mais usadas da atualidade. Existem duas razões principais para isso \n",
        "\n",
        "1. Os comandos em Python são extremamente intuitivos e de fácil entendimento;\n",
        "2. Existe muito desenvolvimento para Python, principalmente pelo uso de bibliotecas. Isso facilita muito o aparecimento de novas aplicações para diversas áreas do conhecimento. \n",
        "\n",
        "Vantagens de se usar Python:\n",
        "\n",
        "\n",
        "- Fácil de instalar e programar, gratuita e de código aberto;\n",
        "- A comunidade de Python é dinâmica, grande e está constantemente crescendo;\n",
        "- Muitas das aplicações que lidamos costumeiramente usam Python em seus desenvolvimentos. \n",
        "- A quantidade enorme de desenvolvimento propicia o surgimento de muitas novas soluções inclusive para problemas extremamente complexos. \n",
        "- Python é uma das linguagens de programação mais utilizadas em aplicações de inteligência artificial, aprendizagem de máquina e ciência de dados.  \n",
        "- Python é bastante utilizado em educação e em ciências em geral em vista da sua versatilidade e facilidade de se programar.\n",
        "- Python está disponível para todos os sistemas operacionais: Windows, Linux, Unix, Mac OS, Android, etc. \n",
        "- Existem muitos livros e tutoriais na internet para se aprender a programar e/ou usar as diversas ferramentas que usam ou se integram a Python. Existe ainda muitos fórums de discussões para tirar dúvidas. Basta dar um Google. \n",
        "\n",
        "\n",
        "**Fonte: Aprendendo Química com Python, Rodrigo Queiroz e Gerd Rocha, 2021, Amazon Book. <https://github.com/pythonchembook>**"
      ],
      "metadata": {
        "id": "qhjWBgMfOZrW"
      }
    },
    {
      "cell_type": "markdown",
      "source": [
        "### **1.1 Instalação do Python, IDEs, ambientes de programação para Python**\n",
        "\n",
        "Se você quiser ter o interpretador do Python instalado no seu computador, então a maneira mais fácil de se instalar Python 3 com qualquer sistema operacional é através da instalação do pacote \"Anaconda\" (<https://www.anaconda.com/products/distribution>).\n",
        "\n",
        "Links de tutoriais: \n",
        "\n",
        "- **Para Windows**\n",
        "    - <https://www.youtube.com/watch?v=BP4D-yaxw6E>\n",
        "- **Para Linux**\n",
        "    - <https://www.youtube.com/watch?v=GaPrX6aF2E8>\n",
        "\n",
        "Após ter instalado o pacote Anaconda, pode-se instalar uma série de bibliotecas contidas no mesmo usando o comando \"*conda*\". Inicialmente, é aconselhável atualizar as versões de todos os pacotes disponíveis em Anaconda executando o comando no \"*Anaconda command prompt*\" do Windows (no menu Iniciar) ou no terminal/shell do Linux ou do Mac OS:\n",
        "\n",
        "```shell\n",
        "conda update conda\n",
        "```\n",
        "\n",
        "e em seguida devemos executar o comando:\n",
        "\n",
        "\n",
        "```shell\n",
        "conda update --all\n",
        "```\n",
        "\n",
        "---\n",
        "\n",
        "No entanto, existem formas de programar com Python sem ao menos instalar nada no seu computador (como faremos nesse minicurso). Essas formas são através das plataformas: Google Colab (<https://colab.research.google.com/>) ou Replit (<https://replit.com/login>).\n",
        "\n",
        "- **Links de tutoriais do Google Colab:**\n",
        "   - <https://www.youtube.com/watch?v=7TLkf1l9wLg> \n",
        "   - <https://www.youtube.com/watch?v=Ai9qn9YII78> \n",
        "   - <https://www.youtube.com/watch?v=5zr9HWWs8nI> \n",
        "   - <https://www.youtube.com/watch?v=xROTRX8JSVE&list=PLTsBnKGYhBUM_-7D16wrOjz8Xr7RU7FJy>\n",
        "\n",
        "- **Links de tutoriais do Replit:**\n",
        "    - <https://www.youtube.com/watch?v=oksPLZvFh5Y>\n",
        "    - <https://www.youtube.com/watch?v=8eXRD66nX30>\n",
        "    - <https://www.youtube.com/watch?v=WDyru4AAH-M> \n",
        "\n",
        "\n",
        "\n",
        "**Fonte: Aprendendo Química com Python, Rodrigo Queiroz e Gerd Rocha, 2021, Amazon Book. <https://github.com/pythonchembook>**"
      ],
      "metadata": {
        "id": "pIQTqzrH9_tj"
      }
    },
    {
      "cell_type": "markdown",
      "source": [
        "###**1.2 Utilizando Python**"
      ],
      "metadata": {
        "id": "NCJ7O6DYJRSr"
      }
    },
    {
      "cell_type": "markdown",
      "source": [
        "####1.2.1 Sessão interativa de Python\n",
        "Se você optou por usar o Python através da linha de comando (Windows, Linux e Mac OS) basta abrir o aplicativo \"*Anaconda command prompt*\" no windows (no menu Iniciar). Para o linux e/ou Mac OS, basta executar o comando:\n",
        "\n",
        "```shell\n",
        "python\n",
        "```\n",
        "Ao iniciar uma sessão de Python, vemos a versão do mesmo, com a data e hora da instalação, o compilador utilizado (GCC) e o sistema operacional. O símbolo \"*>>>*\" indica que estamos em uma sessão de Python e após esse símbolo podemos começar a executar comandos de Python.\n",
        "\n",
        "---\n",
        "\n",
        "**Fonte: Aprendendo Química com Python, Rodrigo Queiroz e Gerd Rocha, 2021, Amazon Book. <https://github.com/pythonchembook>**"
      ],
      "metadata": {
        "id": "VoXljhlmM_zQ"
      }
    },
    {
      "cell_type": "code",
      "source": [
        "# Versão do Python usada\n",
        "import sys\n",
        "print(sys.version)"
      ],
      "metadata": {
        "id": "HJMC8JyROk1Y",
        "colab": {
          "base_uri": "https://localhost:8080/"
        },
        "outputId": "2a232e7c-0c2b-45c1-92d2-4619a8c23831"
      },
      "execution_count": null,
      "outputs": [
        {
          "output_type": "stream",
          "name": "stdout",
          "text": [
            "3.7.15 (default, Oct 12 2022, 19:14:55) \n",
            "[GCC 7.5.0]\n"
          ]
        }
      ]
    },
    {
      "cell_type": "markdown",
      "source": [
        "#### 1.2.2 Sessão de IPython\n",
        "\n",
        "\n",
        "Semelhantemente a uma sessão de Python, podemos também iniciar uma sessão de IPython, desde que já tenhamos instalado IPython em nosso computador. Basta dar o seguinte comando no \"*command prompt*\" do Windows ou terminal/shell do Linux:\n",
        "\n",
        "```shell\n",
        "ipython\n",
        "```\n",
        "\n",
        "---\n",
        "\n",
        "**Fonte: Aprendendo Química com Python, Rodrigo Queiroz e Gerd Rocha, 2021, Amazon Book. <https://github.com/pythonchembook>**"
      ],
      "metadata": {
        "id": "Ce81Si-nMyQP"
      }
    },
    {
      "cell_type": "markdown",
      "source": [
        "#### 1.2.3 Sessão de Jupyter Notebook\n",
        "\n",
        "Para abrirmos uma sessão de Jupyter Notebook, basta digitarmos o seguinte comando no \"*Anaconda command prompt*\" do Windows (no menu Iniciar) ou terminal/shell do Linux ou Mac OS:\n",
        "\n",
        "```\n",
        "jupyter-notebook\n",
        "```\n",
        "\n",
        "\n",
        "---\n",
        "\n",
        "**Fonte: Aprendendo Química com Python, Rodrigo Queiroz e Gerd Rocha, 2021, Amazon Book. <https://github.com/pythonchembook>**"
      ],
      "metadata": {
        "id": "5MspQXqROQke"
      }
    },
    {
      "cell_type": "markdown",
      "source": [
        "#### 1.2.4 Usando o Google Colab\n",
        "\n",
        "Dá para escrever um código de Python e executá-lo sem ter seu interpretador instalado, nem mesmo alguma IDE (interface de desenvolvimento) no seu computador e/ou tablet? Sim, basta ter uma conta do Google e acessar o serviço gratuito Google Colaboratory, <https://colab.research.google.com>.\n",
        "\n",
        "\n",
        "Esse serviço, que é mais popularmente conhecido como Google Colab, é uma iniciativa do Google para difundir a linguagem Python para ciências de dados e inteligência artificial. Ele disponibiliza uma interface muito semelhante à do Jupyter Notebook, mas bem mais simples, pois quase não exige configurações (ela já está pronta para ser usada). \n",
        "\n",
        "Esse ambiente já conta com diversas bibliotecas de Python instaladas, mas você pode instalar as suas sem nenhum problema. Uma vantagem importante desse ambiente de desenvolvimento é que você vai poder usar gratuitamente os servidores da Google para fazer sua computação/simulação e isso inclui servidores com elevado poder de processamento, inclusive com GPUs. \n",
        "\n",
        "Para aqueles que são totalmente iniciantes, vale a pena usar a aba de exemplos e buscar pelo projeto intitulado \"*Olá, este é o Colaboratory*\", que está no endereço <https://colab.research.google.com/notebooks/intro.ipynb>. Note que o arquivo aberto é do tipo \"*.ipynb*\", o que representa uma compatibilidade com outras ferramentas de desenvolvimento do Python, como por exemplo o Jupyter Notebook.\n",
        "\n",
        "\n",
        "---\n",
        "\n",
        "**Fonte: Aprendendo Química com Python, Rodrigo Queiroz e Gerd Rocha, 2021, Amazon Book. <https://github.com/pythonchembook>**"
      ],
      "metadata": {
        "id": "7H-mK5UiPLXA"
      }
    },
    {
      "cell_type": "markdown",
      "source": [
        "#### 1.2.5 IDEs\n",
        "\n",
        "Existem diversas IDEs que podem ser utilizadas para ajudar a escrever códigos de Python. Dentre as muitas existentes, podemos citar:\n",
        "\n",
        "- VS Code (ou Visual Studio Code)\n",
        "- PyCharm\n",
        "- Spyder\n",
        "- Jupyter Notebook\n",
        "- Atom\n",
        "\n",
        "\n",
        "---\n",
        "\n",
        "**Fonte: Aprendendo Química com Python, Rodrigo Queiroz e Gerd Rocha, 2021, Amazon Book. <https://github.com/pythonchembook>**\n"
      ],
      "metadata": {
        "id": "mtDWMALyQM_b"
      }
    },
    {
      "cell_type": "markdown",
      "source": [
        "### **1.3 Comandos iniciais do Python**"
      ],
      "metadata": {
        "id": "SMEfbBJH7OiX"
      }
    },
    {
      "cell_type": "markdown",
      "source": [
        "#### **Comando *print***\n",
        "\n",
        "**Sintaxe**\n",
        "\n",
        "```python\n",
        "print(objeto(s), argumentos_de_palavra-chave)\n",
        "```"
      ],
      "metadata": {
        "id": "e9Zyg03TtRp7"
      }
    },
    {
      "cell_type": "code",
      "source": [
        "# Imprimir uma mensagem na tela\n",
        "print(\"Olá turma de Química!\") # Essa é a mensagem "
      ],
      "metadata": {
        "colab": {
          "base_uri": "https://localhost:8080/"
        },
        "id": "KTgSeWIi7rwf",
        "outputId": "63eeb54e-1878-4669-f781-46c1ead92169"
      },
      "execution_count": null,
      "outputs": [
        {
          "output_type": "stream",
          "name": "stdout",
          "text": [
            "Olá turma de Química!\n"
          ]
        }
      ]
    },
    {
      "cell_type": "markdown",
      "source": [
        "#### **Usando como calculadora**\n"
      ],
      "metadata": {
        "id": "NDMkza-zuF-A"
      }
    },
    {
      "cell_type": "code",
      "source": [
        "# Usando como calculadora\n",
        "5 + 5"
      ],
      "metadata": {
        "colab": {
          "base_uri": "https://localhost:8080/"
        },
        "id": "0HsgijU57vcO",
        "outputId": "6f6b3a98-3457-424f-d984-e6415afc76d9"
      },
      "execution_count": null,
      "outputs": [
        {
          "output_type": "execute_result",
          "data": {
            "text/plain": [
              "10"
            ]
          },
          "metadata": {},
          "execution_count": 4
        }
      ]
    },
    {
      "cell_type": "code",
      "source": [
        "5*6\n",
        "10 - 15\n",
        "7/3"
      ],
      "metadata": {
        "colab": {
          "base_uri": "https://localhost:8080/"
        },
        "id": "WGn9N976RLYd",
        "outputId": "8093f8a3-8eb8-4b21-f802-d7eec817a1e2"
      },
      "execution_count": null,
      "outputs": [
        {
          "output_type": "execute_result",
          "data": {
            "text/plain": [
              "2.3333333333333335"
            ]
          },
          "metadata": {},
          "execution_count": 7
        }
      ]
    },
    {
      "cell_type": "code",
      "source": [
        "print(2 - 5)  # subtração de dois números\n",
        "print(2*8)  # multiplicação de dois números\n",
        "print(50/2)  # divisão de dois números\n",
        "print(2**8)  # Potenciação entre dois números"
      ],
      "metadata": {
        "colab": {
          "base_uri": "https://localhost:8080/"
        },
        "id": "DA8CF825RGKg",
        "outputId": "ff406c54-f1ab-44d9-d2b0-1fe7895ccb72"
      },
      "execution_count": null,
      "outputs": [
        {
          "output_type": "stream",
          "name": "stdout",
          "text": [
            "-3\n",
            "16\n",
            "25.0\n",
            "256\n"
          ]
        }
      ]
    },
    {
      "cell_type": "code",
      "source": [
        "# Inserindo mensagens juntamente com seu cálculo\n",
        "print(\"a soma de 5 + 5 é igual a:\", 5 + 5)  # soma dois números"
      ],
      "metadata": {
        "colab": {
          "base_uri": "https://localhost:8080/"
        },
        "id": "52ix05q3RbTD",
        "outputId": "4d76940a-650b-4d54-cea7-7aadd8e9ba5c"
      },
      "execution_count": null,
      "outputs": [
        {
          "output_type": "stream",
          "name": "stdout",
          "text": [
            "a soma de 5 + 5 é igual a: 10\n"
          ]
        }
      ]
    },
    {
      "cell_type": "markdown",
      "source": [
        "---\n",
        "# **2. Bibliotecas e módulos**\n",
        "\n",
        "Bibliotecas são coleções de funções e classes (e às vezes de dados gerais e constantes) que podem ser facilmente importadas em Python de forma a possibilitar uma enorme variedade de operações com um mínimo de código.\n",
        "\n",
        "Links de bibliotecas em Python\n",
        "\n",
        "- <https://pypi.org/>\n",
        "- <http://datascienceacademy.com.br/blog/top-20-bibliotecas-python-para-data-science/>\n",
        "\n",
        "Algumas dessas bibliotecas precisam ser instaladas. Elas não vêm com a distribuição do python.\n",
        "\n",
        "Primeiro você tem que instalar a biblioteca\n",
        "\n",
        "- Para isso você deve usar os gerenciadores de pacotes de Python: PyPi (<https://pypi.org/>) ou \"*Conda*\".\n",
        "- <http://pyscience-brasil.wikidot.com/install:como-instalar-o-numpy>\n",
        "- <https://computadorcomwindows.com/2018/01/19/tutorial-como-instalar-uma-biblioteca-python-no-computador/>\n",
        "- <http://pyscience-brasil.wikidot.com/>\n",
        "\n",
        "Para carregar uma bibloteca e/ou pacote no seu programa, use uma das seguintes chamadas:\n",
        "\n",
        "\n",
        "```python\n",
        "import biblioteca\n",
        "import biblioteca as apelido\n",
        "from biblioteca import módulo\n",
        "from biblioteca import módulo as apelido\n",
        "from biblioteca import função\n",
        "from biblioteca import função as apelido\n",
        "```\n",
        "\n",
        "---\n",
        "\n"
      ],
      "metadata": {
        "id": "cW9Yewc4qw7c"
      }
    },
    {
      "cell_type": "code",
      "source": [
        "# Exemplo de importação da biblioteca matemática NumPy\n",
        "import numpy as np\n",
        "print (\"Versão da NumPy\", np.__version__)"
      ],
      "metadata": {
        "id": "GrYqCegGq86g",
        "colab": {
          "base_uri": "https://localhost:8080/"
        },
        "outputId": "4bfe7565-61db-4385-f0c6-a4d910559645"
      },
      "execution_count": null,
      "outputs": [
        {
          "output_type": "stream",
          "name": "stdout",
          "text": [
            "Versão da NumPy 1.21.6\n"
          ]
        }
      ]
    },
    {
      "cell_type": "code",
      "source": [
        "print(4.0*np.pi) # Imprime a operação 4.0*Pi\n",
        "\n",
        "print(np.sqrt(10.0)) # Imprime a raiz quadrada de 10.0\n",
        "\n",
        "print(2.0*np.cos(np.pi)) # Função cosseno\n",
        "\n",
        "print(np.abs(-3.0*np.pi)) # Função valor absoluto"
      ],
      "metadata": {
        "id": "0PqVqLhktfyL",
        "colab": {
          "base_uri": "https://localhost:8080/"
        },
        "outputId": "4b520646-63c1-49ed-8d36-c67f686730e4"
      },
      "execution_count": null,
      "outputs": [
        {
          "output_type": "stream",
          "name": "stdout",
          "text": [
            "12.566370614359172\n",
            "3.1622776601683795\n",
            "-2.0\n",
            "9.42477796076938\n"
          ]
        }
      ]
    },
    {
      "cell_type": "code",
      "source": [
        "# Exemplo de importação de um módulo específico do SciPy # OBS colocar operações da SciPy\n",
        "from scipy import linalg as la\n",
        "A = np.matrix(np.random.random((2,2)))\n",
        "B = np.mat(np.random.random((10,5)))\n",
        "C = np.mat([[3,4], [5,6]])\n",
        "print(\"A = \", A)\n",
        "print(\"B = \", B)\n",
        "print(\"C = \", C)"
      ],
      "metadata": {
        "id": "FSWVbCuOtf_B",
        "colab": {
          "base_uri": "https://localhost:8080/"
        },
        "outputId": "11664683-ba89-4347-ecda-f4af6f5722af"
      },
      "execution_count": null,
      "outputs": [
        {
          "output_type": "stream",
          "name": "stdout",
          "text": [
            "A =  [[0.02270917 0.39241448]\n",
            " [0.79456148 0.60188929]]\n",
            "B =  [[0.66767323 0.85494524 0.10362809 0.93289066 0.32174073]\n",
            " [0.52337416 0.49269328 0.52708444 0.02633912 0.60140015]\n",
            " [0.3149389  0.99424121 0.82157079 0.20155186 0.79549677]\n",
            " [0.60187281 0.29703405 0.46220599 0.8323935  0.06844009]\n",
            " [0.52766795 0.31504104 0.58674683 0.14641441 0.73876943]\n",
            " [0.80621151 0.87272847 0.94005087 0.81038669 0.41857239]\n",
            " [0.42797827 0.3643523  0.62956886 0.15620232 0.26991055]\n",
            " [0.71714248 0.06021222 0.6816847  0.48210224 0.97168421]\n",
            " [0.58260555 0.34646026 0.35541315 0.90367203 0.84754885]\n",
            " [0.70319677 0.01818999 0.50332359 0.34147362 0.25282325]]\n",
            "C =  [[3 4]\n",
            " [5 6]]\n"
          ]
        }
      ]
    },
    {
      "cell_type": "code",
      "source": [
        "# Importando toda a SymPy\n",
        "import sympy\n",
        "sympy.init_printing()\n",
        "print (\"Versão da SymPy usada:\", sympy.__version__)"
      ],
      "metadata": {
        "colab": {
          "base_uri": "https://localhost:8080/"
        },
        "id": "PK2pOo_48EO-",
        "outputId": "c7b8ec0a-e01a-40d0-c9a3-27a75ef97729"
      },
      "execution_count": null,
      "outputs": [
        {
          "output_type": "stream",
          "name": "stdout",
          "text": [
            "Versão da SymPy usada: 1.7.1\n"
          ]
        }
      ]
    },
    {
      "cell_type": "code",
      "source": [
        "# Usando a SymPy\n",
        "x = sympy.symbols('x') # Definindo o símbolo para a variável x\n",
        "y, z = sympy.symbols('y, z') # O mesmo para y e z\n",
        "\n",
        "(2*x) * (3*y) # manipulação matemática"
      ],
      "metadata": {
        "colab": {
          "base_uri": "https://localhost:8080/",
          "height": 39
        },
        "id": "Fl1QpMHyu6Kt",
        "outputId": "fb4c9d8a-aa4a-456a-e3ff-83fede46003a"
      },
      "execution_count": null,
      "outputs": [
        {
          "output_type": "execute_result",
          "data": {
            "text/plain": [
              "6⋅x⋅y"
            ],
            "image/png": "[encoded data removed]",
            "text/latex": "$\\displaystyle 6 x y$"
          },
          "metadata": {},
          "execution_count": 15
        }
      ]
    },
    {
      "cell_type": "code",
      "source": [
        "# Importando a Matplolib\n",
        "# Quando usar o Jupyter-Notebook um comando para mostrar os gráficos no próprio Jupyter Notebook é:\n",
        "\n",
        "%matplotlib inline \n",
        "import matplotlib as mpl\n",
        "\n",
        "print (\"Versão da Matplotlib usada:\", mpl.__version__)"
      ],
      "metadata": {
        "colab": {
          "base_uri": "https://localhost:8080/"
        },
        "id": "kU52m_4r8R8s",
        "outputId": "c831bdc2-ace5-4785-c61b-630881244ccb"
      },
      "execution_count": null,
      "outputs": [
        {
          "output_type": "stream",
          "name": "stdout",
          "text": [
            "Versão da Matplotlib usada: 3.2.2\n"
          ]
        }
      ]
    },
    {
      "cell_type": "code",
      "source": [
        "from matplotlib import pyplot as plt # Comando para carregar o módulo PyPlot da Matplotlib\n",
        "\n",
        "ax = [0., 0.5, 1.0, 1.5, 2.0, 2.5, 3.0]\n",
        "ay = [0.0, 0.25, 1.0, 2.25, 4.0, 6.25, 9.0]\n",
        "plt.plot(ax,ay)\n",
        "plt.show()"
      ],
      "metadata": {
        "colab": {
          "base_uri": "https://localhost:8080/",
          "height": 265
        },
        "id": "_4BEVtc58fJ-",
        "outputId": "e6cb0c57-ea4f-4c33-92bd-421cddf321ac"
      },
      "execution_count": null,
      "outputs": [
        {
          "output_type": "display_data",
          "data": {
            "text/plain": [
              "<Figure size 432x288 with 1 Axes>"
            ],
            "image/png": "[encoded data removed]"
          },
          "metadata": {
            "needs_background": "light"
          }
        }
      ]
    },
    {
      "cell_type": "markdown",
      "source": [
        "---\n",
        "# **3. Tipos de dados e objetos**"
      ],
      "metadata": {
        "id": "FHLWiOCxOhNW"
      }
    },
    {
      "cell_type": "markdown",
      "source": [
        "### **3.1 Tipos de dados**\n"
      ],
      "metadata": {
        "id": "_twMVH0GSnHp"
      }
    },
    {
      "cell_type": "markdown",
      "source": [
        "####3.1.1 Numérico (*int, float e complex*)\n",
        "\n",
        "Em Python, os números podem ser:\n",
        "\n",
        "- Inteiros, tipo *int*. Ex: 10\n",
        "- Ponto flutuante, tipo *float*. Ex: 4.76\n",
        "- Complexos, tipo *complex*. Ex: 2.67 + 3.87j\n",
        "\n",
        "***OBS: Quando programamos o separador decimal é o ponto \".\" e não a vírgula, como é na língua portuguesa.***\n",
        "\n",
        "Você pode verificar qual o tipo da variável usando o comando ***type***. \n",
        "\n",
        "**Sintaxe**\n",
        "\n",
        "\n",
        "```python\n",
        "type(objeto)\n",
        "```\n",
        "\n",
        "\n",
        "##### Para converter uma certa variável *x* de *float* para *int*, use o comando *int(x)*. De *int* para *float*, use *float(x)* e de *int* ou *float* para *complex*, use *complex(x)*.\n",
        "---\n",
        "\n",
        "**Fonte: Aprendendo Química com Python, Rodrigo Queiroz e Gerd Rocha, 2021, Amazon Book. <https://github.com/pythonchembook>**"
      ],
      "metadata": {
        "id": "q5MaPbt1Tvwu"
      }
    },
    {
      "cell_type": "code",
      "source": [
        "a = 2\n",
        "type(a)"
      ],
      "metadata": {
        "colab": {
          "base_uri": "https://localhost:8080/"
        },
        "id": "nr7rYkeHgK9F",
        "outputId": "fc31965f-e3c0-453f-c0a1-a6f99bb1a01f"
      },
      "execution_count": null,
      "outputs": [
        {
          "output_type": "execute_result",
          "data": {
            "text/plain": [
              "int"
            ]
          },
          "metadata": {},
          "execution_count": 18
        }
      ]
    },
    {
      "cell_type": "code",
      "source": [
        "b = 5.634 # Em Inglês: pontos para separar casas decimais\n",
        "type(b)"
      ],
      "metadata": {
        "colab": {
          "base_uri": "https://localhost:8080/"
        },
        "id": "_Pehd0mYgQJm",
        "outputId": "e8f07efb-b779-4aba-a11e-f80901ac099b"
      },
      "execution_count": null,
      "outputs": [
        {
          "output_type": "execute_result",
          "data": {
            "text/plain": [
              "float"
            ]
          },
          "metadata": {},
          "execution_count": 19
        }
      ]
    },
    {
      "cell_type": "code",
      "source": [
        "c = 2 + 5j\n",
        "type(c)"
      ],
      "metadata": {
        "colab": {
          "base_uri": "https://localhost:8080/"
        },
        "id": "-FPDv1UcgTze",
        "outputId": "0c3c4ec0-f57e-4f0c-aa59-91a5a217709e"
      },
      "execution_count": null,
      "outputs": [
        {
          "output_type": "execute_result",
          "data": {
            "text/plain": [
              "complex"
            ]
          },
          "metadata": {},
          "execution_count": 20
        }
      ]
    },
    {
      "cell_type": "code",
      "source": [
        "a, b, c = 1, 2, 3      # definimos 3 variáveis numa só linha!\n",
        "\n",
        "a"
      ],
      "metadata": {
        "colab": {
          "base_uri": "https://localhost:8080/",
          "height": 37
        },
        "id": "wM3soiVVgkCV",
        "outputId": "18611f15-c528-4124-afb6-86d81e99bd17"
      },
      "execution_count": null,
      "outputs": [
        {
          "output_type": "execute_result",
          "data": {
            "text/plain": [
              "1"
            ],
            "image/png": "[encoded data removed]",
            "text/latex": "$\\displaystyle 1$"
          },
          "metadata": {},
          "execution_count": 21
        }
      ]
    },
    {
      "cell_type": "code",
      "source": [
        "a + b * c              # mesmo que a + (b * c)"
      ],
      "metadata": {
        "colab": {
          "base_uri": "https://localhost:8080/",
          "height": 37
        },
        "id": "e362c1vFgoy7",
        "outputId": "43532ef1-d2a4-4eda-f7c6-6b53bb2dced2"
      },
      "execution_count": null,
      "outputs": [
        {
          "output_type": "execute_result",
          "data": {
            "text/plain": [
              "7"
            ],
            "image/png": "[encoded data removed]",
            "text/latex": "$\\displaystyle 7$"
          },
          "metadata": {},
          "execution_count": 22
        }
      ]
    },
    {
      "cell_type": "code",
      "source": [
        "# Cálculo de [H+]eq do ácido acético\n",
        "Ka = 1.8e-5                    # constante de acidez do ácido\n",
        "C = 0.001                               # Molaridade do ácido\n",
        "x = (- Ka + (Ka**2 + 4*C*Ka)**0.5 ) / 2            # x = [H+]\n",
        "print (\"A concentração de H+ é:\", x, \"em mol/L\")"
      ],
      "metadata": {
        "colab": {
          "base_uri": "https://localhost:8080/"
        },
        "id": "n-gkFWGkhmfR",
        "outputId": "4555ffae-9fb0-494c-99a1-990605b8b314"
      },
      "execution_count": null,
      "outputs": [
        {
          "output_type": "stream",
          "name": "stdout",
          "text": [
            "A concentração de H+ é: 0.00012546560898608983 em mol/L\n"
          ]
        }
      ]
    },
    {
      "cell_type": "code",
      "source": [
        "# Cálculo de ∆H de formação da amônia em T = 723 K\n",
        "# Equação química (1/2)N2(g) + (3/2)H2(g) -> NH3(g)\n",
        "\n",
        "n_N2, n_H2, n_NH3 = 0.5, 1.5, 1    # números estequiométricos\n",
        "t1, t2 = 298, 723                              # temperaturas \n",
        "deltaT = t2 - t1\n",
        "cp_N2, cp_H2, cp_NH3 = 29.12, 28.82, 35.06       # Cp kJ.K-1.mol-1 a 298 K\n",
        "deltaH_298 = -45.90                         # em kJ.mol-1\n",
        "soma_cp_produtos = n_NH3 * cp_NH3\n",
        "soma_cp_reagentes = n_N2 * cp_N2 + n_H2 * cp_H2\n",
        "deltaCp = soma_cp_produtos - soma_cp_reagentes\n",
        "deltaCp /= 1000                       # converta de J para kJ\n",
        "deltaH_723 = deltaH_298 + deltaCp * deltaT\n",
        "\n",
        "print(\"O deltaH de formação da amônia em T = 723 K é:\", deltaH_723, \"kJ/mol\")\n"
      ],
      "metadata": {
        "colab": {
          "base_uri": "https://localhost:8080/"
        },
        "id": "Hsup7qtGiAaI",
        "outputId": "ac8a6a1e-55d0-4f09-c75a-c6d73f7b8699"
      },
      "execution_count": null,
      "outputs": [
        {
          "output_type": "stream",
          "name": "stdout",
          "text": [
            "O deltaH de formação da amônia em T = 723 K é: -55.560249999999996 kJ/mol\n"
          ]
        }
      ]
    },
    {
      "cell_type": "markdown",
      "source": [
        "####3.1.2 Booleano\n",
        "\n",
        "\n",
        "Dados do tipo boleanos possuem valores *True* ou *False*. Seu tipo é *bool*. \n",
        "\n",
        "---\n",
        "\n",
        "**Fonte: Aprendendo Química com Python, Rodrigo Queiroz e Gerd Rocha, 2021, Amazon Book. <https://github.com/pythonchembook>**"
      ],
      "metadata": {
        "id": "DPFzBs4dUHus"
      }
    },
    {
      "cell_type": "code",
      "source": [
        "2 > 3     # dois é maior que três?"
      ],
      "metadata": {
        "colab": {
          "base_uri": "https://localhost:8080/"
        },
        "id": "wCl8KYWpUaHs",
        "outputId": "229b6734-6d96-4ef7-dd0a-69b82efee1aa"
      },
      "execution_count": null,
      "outputs": [
        {
          "output_type": "execute_result",
          "data": {
            "text/plain": [
              "False"
            ]
          },
          "metadata": {},
          "execution_count": 25
        }
      ]
    },
    {
      "cell_type": "code",
      "source": [
        "2 == 3    # dois é igual a três?"
      ],
      "metadata": {
        "colab": {
          "base_uri": "https://localhost:8080/"
        },
        "id": "BbNkzmhBgZ3X",
        "outputId": "71ce570b-5f2d-46ca-f2cd-1903dcec93a3"
      },
      "execution_count": null,
      "outputs": [
        {
          "output_type": "execute_result",
          "data": {
            "text/plain": [
              "False"
            ]
          },
          "metadata": {},
          "execution_count": 26
        }
      ]
    },
    {
      "cell_type": "code",
      "source": [
        "c = True\n",
        "type(c)"
      ],
      "metadata": {
        "colab": {
          "base_uri": "https://localhost:8080/"
        },
        "id": "uiGxbJwFgcM1",
        "outputId": "17d8418f-d28b-436b-900b-f3db102cfd3f"
      },
      "execution_count": null,
      "outputs": [
        {
          "output_type": "execute_result",
          "data": {
            "text/plain": [
              "bool"
            ]
          },
          "metadata": {},
          "execution_count": 27
        }
      ]
    },
    {
      "cell_type": "markdown",
      "source": [
        "####3.1.3 Operações entre dados\n",
        "\n",
        "A tabela abaixo mostra os operadores entre os dados. \n",
        "\n",
        "| Operador | Descrição | Operação | Resultado |\n",
        "| :--------: | :-------- | :--------: | :--------: |\n",
        "| +    | Soma   | 5 + 5    | 10   |\n",
        "| -    | Subtração   | 7 - 3    | 4   |\n",
        "| *    | Multiplicação   | 3 * 5    | 15   |\n",
        "| /    | Divisão   | 15 / 2    | 7.5   |\n",
        "| **    | Potenciação   | 2 ** 3    | 8   |\n",
        "| //    | Divisão Inteira (truncada)   | 9 // 4    | 2   |\n",
        "| %    | Módulo (resto da divisão)   | 9 % 4    | 1   |\n",
        "| +=    | Incremento positivo   | a += 1    | a = a + 1   |\n",
        "| -=    | Incremento negativo   | a -= 5    | a = a - 5   |\n",
        "| *=    | Incremento multiplicativo   | a *= 4    | a = a * 4   |\n",
        "| /=    | Incremento divisivo   | a /= 7    | a = a / 7   |\n",
        "\n",
        "\n",
        "---\n",
        "\n",
        "**Fonte: Aprendendo Química com Python, Rodrigo Queiroz e Gerd Rocha, 2021, Amazon Book. <https://github.com/pythonchembook>**"
      ],
      "metadata": {
        "id": "ST6GLNK_Wttl"
      }
    },
    {
      "cell_type": "code",
      "source": [
        "# Incrementos\n",
        "\n",
        "c = 5\n",
        "\n",
        "print(\"A variável c nesse ponto é igual a:\", c)\n",
        "\n",
        "c += 1\n",
        "\n",
        "print(\"A variável c após o incremento é igual a:\", c)"
      ],
      "metadata": {
        "colab": {
          "base_uri": "https://localhost:8080/"
        },
        "id": "fXXWHG3WUZSd",
        "outputId": "a9b82aeb-67a3-4426-c522-23950171e7d9"
      },
      "execution_count": null,
      "outputs": [
        {
          "output_type": "stream",
          "name": "stdout",
          "text": [
            "A variável c nesse ponto é igual a: 5\n",
            "A variável c após o incremento é igual a: 6\n"
          ]
        }
      ]
    },
    {
      "cell_type": "markdown",
      "source": [
        "### **3.2 Objetos**\n",
        "\n",
        "Objetos são variáveis especiais que guardam dados e informações extras (atributos). Objetos também possuem métodos a eles associados, que nada mais são do que funções, as quais permitem extrair uma série de novas informações ou propriedades, como por exemplo o cálculo da média de todos os elementos dentro do objeto. \n",
        "\n",
        "Objetos permitem a fácil organização e manipulação de uma quantidade grande de dados que podem ser do mesmo tipo ou de tipos diferentes, muito embora o objeto em si possui um tipo (de objeto) bem definido e único. \n",
        "\n",
        "Nessa seção veremos os seguintes objetos do Python: \n",
        "\n",
        "- Cadeia de caracteres (*str*)\n",
        "- Lista (*list*)\n",
        "- Tupla (*tuple*)\n",
        "- Set (*set*)\n",
        "- Dicionário (*dict*)\n",
        "- Arranjo ou Variável indexada (*ndarray*)\n",
        "- Matriz (*matrix*)\n",
        "\n",
        "---\n",
        "\n",
        "**Fonte: Aprendendo Química com Python, Rodrigo Queiroz e Gerd Rocha, 2021, Amazon Book. <https://github.com/pythonchembook>**"
      ],
      "metadata": {
        "id": "TEMXU6K8S4Px"
      }
    },
    {
      "cell_type": "markdown",
      "source": [
        "####3.2.1 Cadeia de caracteres (*str*)\n",
        "\n",
        "\n",
        "Cadeias de caracteres são apenas uma sequência de caracteres, com espaços em branco ou não. A forma de definir uma cadeia de caracteres é simplemente usando-se aspas simples ou duplas. \n",
        "\n",
        "Cadeias de caracteres podem receber um nome e podem participar de certas operações aritméticas.  \n",
        "\n",
        "---\n",
        "\n",
        "**Fonte: Aprendendo Química com Python, Rodrigo Queiroz e Gerd Rocha, 2021, Amazon Book. <https://github.com/pythonchembook>**"
      ],
      "metadata": {
        "id": "TgN6ig7iUd--"
      }
    },
    {
      "cell_type": "code",
      "source": [
        "a = 'Estude'\n",
        "b = ' Python!'"
      ],
      "metadata": {
        "id": "Ltg4caGHVc_b"
      },
      "execution_count": null,
      "outputs": []
    },
    {
      "cell_type": "code",
      "source": [
        "a"
      ],
      "metadata": {
        "colab": {
          "base_uri": "https://localhost:8080/",
          "height": 36
        },
        "id": "9djQJHmAiyGo",
        "outputId": "d6765fb6-2306-43c2-bd14-4977d4083bd6"
      },
      "execution_count": null,
      "outputs": [
        {
          "output_type": "execute_result",
          "data": {
            "text/plain": [
              "'Estude'"
            ],
            "application/vnd.google.colaboratory.intrinsic+json": {
              "type": "string"
            }
          },
          "metadata": {},
          "execution_count": 30
        }
      ]
    },
    {
      "cell_type": "code",
      "source": [
        "print(a)"
      ],
      "metadata": {
        "colab": {
          "base_uri": "https://localhost:8080/"
        },
        "id": "bPvIKuzUq5fN",
        "outputId": "980c6d15-02ca-4116-91b0-1538a622aedc"
      },
      "execution_count": null,
      "outputs": [
        {
          "output_type": "stream",
          "name": "stdout",
          "text": [
            "Estude\n"
          ]
        }
      ]
    },
    {
      "cell_type": "code",
      "source": [
        "3*b"
      ],
      "metadata": {
        "colab": {
          "base_uri": "https://localhost:8080/",
          "height": 36
        },
        "id": "LGK6LoTEi1lN",
        "outputId": "e5257cf1-ed69-4459-9ff8-c0428942a5f7"
      },
      "execution_count": null,
      "outputs": [
        {
          "output_type": "execute_result",
          "data": {
            "text/plain": [
              "' Python! Python! Python!'"
            ],
            "application/vnd.google.colaboratory.intrinsic+json": {
              "type": "string"
            }
          },
          "metadata": {},
          "execution_count": 32
        }
      ]
    },
    {
      "cell_type": "code",
      "source": [
        "a + b "
      ],
      "metadata": {
        "colab": {
          "base_uri": "https://localhost:8080/",
          "height": 36
        },
        "id": "-WI-_H6Ti6jg",
        "outputId": "6dc1d7a0-fd8b-4ee0-b6a5-9fa39282246d"
      },
      "execution_count": null,
      "outputs": [
        {
          "output_type": "execute_result",
          "data": {
            "text/plain": [
              "'Estude Python!'"
            ],
            "application/vnd.google.colaboratory.intrinsic+json": {
              "type": "string"
            }
          },
          "metadata": {},
          "execution_count": 33
        }
      ]
    },
    {
      "cell_type": "code",
      "source": [
        "c = a + b\n",
        "print(c)\n",
        "print(len(c))  # Atributo do objeto \"c\""
      ],
      "metadata": {
        "colab": {
          "base_uri": "https://localhost:8080/"
        },
        "id": "lbF8qaVBi_ZY",
        "outputId": "4267c693-d718-4cd6-f9ae-543bd62a8540"
      },
      "execution_count": null,
      "outputs": [
        {
          "output_type": "stream",
          "name": "stdout",
          "text": [
            "Estude Python!\n",
            "14\n"
          ]
        }
      ]
    },
    {
      "cell_type": "markdown",
      "source": [
        "---\n",
        "Cadeias de caracteres são imutáveis ou seja, não se pode redefinir ou mudar caracteres dentro de uma cadeia de caracteres que já tenha sido definida, mas pode-se, no entanto, extrair fatias ou pedaços (sub-string) de uma cadeia de caracteres qualquer e renomear estas fatias.\n",
        "\n",
        "Outro ponto interessante são os métodos. Esse procedimento é uma forma bastante interessante de \"interagir\" com os objetos em Python. \n",
        "\n",
        "Para ver o conteúdo de um objeto basta digitar: **dir(*objeto*)**. Outra forma é digitar a tecla TAB duas vezes. \n",
        "\n",
        "Uma informação importante é que em Python uma sequência qualquer sempre inicia-se pelo índice \"0\" e os índices subsequentes aumentam de uma unidade inteira. \n",
        "\n",
        "---\n",
        "\n",
        "**Fonte: Aprendendo Química com Python, Rodrigo Queiroz e Gerd Rocha, 2021, Amazon Book. <https://github.com/pythonchembook>**"
      ],
      "metadata": {
        "id": "kmC4Uxqj7xd7"
      }
    },
    {
      "cell_type": "code",
      "source": [
        "c[1] = 'F'  # Vai apresentar erro, porque as cadeias de caracteres são imutáveis"
      ],
      "metadata": {
        "id": "dW2-7s9K81VI",
        "colab": {
          "base_uri": "https://localhost:8080/",
          "height": 165
        },
        "outputId": "a7e13f91-5cc1-468a-f904-f07d32ce780b"
      },
      "execution_count": null,
      "outputs": [
        {
          "output_type": "error",
          "ename": "TypeError",
          "evalue": "ignored",
          "traceback": [
            "\u001b[0;31m---------------------------------------------------------------------------\u001b[0m",
            "\u001b[0;31mTypeError\u001b[0m                                 Traceback (most recent call last)",
            "\u001b[0;32m<ipython-input-35-4518a9137294>\u001b[0m in \u001b[0;36m<module>\u001b[0;34m\u001b[0m\n\u001b[0;32m----> 1\u001b[0;31m \u001b[0mc\u001b[0m\u001b[0;34m[\u001b[0m\u001b[0;36m1\u001b[0m\u001b[0;34m]\u001b[0m \u001b[0;34m=\u001b[0m \u001b[0;34m'F'\u001b[0m  \u001b[0;31m# Vai apresentar erro, porque as cadeias de caracteres são imutáveis\u001b[0m\u001b[0;34m\u001b[0m\u001b[0;34m\u001b[0m\u001b[0m\n\u001b[0m",
            "\u001b[0;31mTypeError\u001b[0m: 'str' object does not support item assignment"
          ]
        }
      ]
    },
    {
      "cell_type": "code",
      "source": [
        "c[0]  # Imprime a primeira posição da cadeia de caracteres que é representadas pelo índice \"0\""
      ],
      "metadata": {
        "colab": {
          "base_uri": "https://localhost:8080/",
          "height": 36
        },
        "id": "ag2jQ2S0jMB6",
        "outputId": "2467f717-a076-431c-e73f-700c5d666146"
      },
      "execution_count": null,
      "outputs": [
        {
          "output_type": "execute_result",
          "data": {
            "text/plain": [
              "'E'"
            ],
            "application/vnd.google.colaboratory.intrinsic+json": {
              "type": "string"
            }
          },
          "metadata": {},
          "execution_count": 36
        }
      ]
    },
    {
      "cell_type": "code",
      "source": [
        "c[-5]"
      ],
      "metadata": {
        "colab": {
          "base_uri": "https://localhost:8080/",
          "height": 36
        },
        "id": "ySQ5mG0pjMUR",
        "outputId": "8f4d3ee6-2f03-49c0-8c1b-6b1d19ad3c85"
      },
      "execution_count": null,
      "outputs": [
        {
          "output_type": "execute_result",
          "data": {
            "text/plain": [
              "'t'"
            ],
            "application/vnd.google.colaboratory.intrinsic+json": {
              "type": "string"
            }
          },
          "metadata": {},
          "execution_count": 38
        }
      ]
    },
    {
      "cell_type": "code",
      "source": [
        "c[1:3]     # último índice (= 3) é sempre excluído da seção!"
      ],
      "metadata": {
        "colab": {
          "base_uri": "https://localhost:8080/",
          "height": 36
        },
        "id": "eEfwHTPojMe8",
        "outputId": "7c154b57-5bb5-4bdb-fa22-03b90eb16669"
      },
      "execution_count": null,
      "outputs": [
        {
          "output_type": "execute_result",
          "data": {
            "text/plain": [
              "'st'"
            ],
            "application/vnd.google.colaboratory.intrinsic+json": {
              "type": "string"
            }
          },
          "metadata": {},
          "execution_count": 39
        }
      ]
    },
    {
      "cell_type": "code",
      "source": [
        "a.upper()  # método para gerar letras maiúsculas.\n",
        "print(a.upper()) \n",
        "print(a) # Vejam que a string não é modificada."
      ],
      "metadata": {
        "colab": {
          "base_uri": "https://localhost:8080/"
        },
        "id": "QxsJOPlbjTAg",
        "outputId": "dd7879dd-762a-4d5c-b0ef-ebd715ac860a"
      },
      "execution_count": null,
      "outputs": [
        {
          "output_type": "stream",
          "name": "stdout",
          "text": [
            "ESTUDE\n",
            "Estude\n"
          ]
        }
      ]
    },
    {
      "cell_type": "code",
      "source": [
        "a = a.upper() #  Mas você pode redefini-la totalmente.\n",
        "a"
      ],
      "metadata": {
        "id": "IzDiScey9rDs",
        "colab": {
          "base_uri": "https://localhost:8080/",
          "height": 36
        },
        "outputId": "38a39411-c0b9-4613-a7cf-4b242f9453cc"
      },
      "execution_count": null,
      "outputs": [
        {
          "output_type": "execute_result",
          "data": {
            "text/plain": [
              "'ESTUDE'"
            ],
            "application/vnd.google.colaboratory.intrinsic+json": {
              "type": "string"
            }
          },
          "metadata": {},
          "execution_count": 43
        }
      ]
    },
    {
      "cell_type": "code",
      "source": [
        "# Tudo em Python é um objeto\n",
        "ola = \"Olá turma de Química!\" # Define o objeto ola contendo uma string\n",
        "print(ola.title())\n",
        "print(ola.upper())\n",
        "print(ola.isdigit())\n",
        "print(ola.islower())"
      ],
      "metadata": {
        "colab": {
          "base_uri": "https://localhost:8080/"
        },
        "id": "hqPMBsAIoaYH",
        "outputId": "f4e6e430-e4de-41bc-9287-f40c7a5714a3"
      },
      "execution_count": null,
      "outputs": [
        {
          "output_type": "stream",
          "name": "stdout",
          "text": [
            "Olá Turma De Química!\n",
            "OLÁ TURMA DE QUÍMICA!\n",
            "False\n",
            "False\n"
          ]
        }
      ]
    },
    {
      "cell_type": "code",
      "source": [
        "# Para ver o conteúdo de um objeto.\n",
        "dir(ola)"
      ],
      "metadata": {
        "colab": {
          "base_uri": "https://localhost:8080/"
        },
        "id": "kRo8h72Roinf",
        "outputId": "e57bb1a9-5ab9-4665-c243-d783d34c14c5"
      },
      "execution_count": null,
      "outputs": [
        {
          "output_type": "execute_result",
          "data": {
            "text/plain": [
              "['__add__',\n",
              " '__class__',\n",
              " '__contains__',\n",
              " '__delattr__',\n",
              " '__dir__',\n",
              " '__doc__',\n",
              " '__eq__',\n",
              " '__format__',\n",
              " '__ge__',\n",
              " '__getattribute__',\n",
              " '__getitem__',\n",
              " '__getnewargs__',\n",
              " '__gt__',\n",
              " '__hash__',\n",
              " '__init__',\n",
              " '__init_subclass__',\n",
              " '__iter__',\n",
              " '__le__',\n",
              " '__len__',\n",
              " '__lt__',\n",
              " '__mod__',\n",
              " '__mul__',\n",
              " '__ne__',\n",
              " '__new__',\n",
              " '__reduce__',\n",
              " '__reduce_ex__',\n",
              " '__repr__',\n",
              " '__rmod__',\n",
              " '__rmul__',\n",
              " '__setattr__',\n",
              " '__sizeof__',\n",
              " '__str__',\n",
              " '__subclasshook__',\n",
              " 'capitalize',\n",
              " 'casefold',\n",
              " 'center',\n",
              " 'count',\n",
              " 'encode',\n",
              " 'endswith',\n",
              " 'expandtabs',\n",
              " 'find',\n",
              " 'format',\n",
              " 'format_map',\n",
              " 'index',\n",
              " 'isalnum',\n",
              " 'isalpha',\n",
              " 'isascii',\n",
              " 'isdecimal',\n",
              " 'isdigit',\n",
              " 'isidentifier',\n",
              " 'islower',\n",
              " 'isnumeric',\n",
              " 'isprintable',\n",
              " 'isspace',\n",
              " 'istitle',\n",
              " 'isupper',\n",
              " 'join',\n",
              " 'ljust',\n",
              " 'lower',\n",
              " 'lstrip',\n",
              " 'maketrans',\n",
              " 'partition',\n",
              " 'replace',\n",
              " 'rfind',\n",
              " 'rindex',\n",
              " 'rjust',\n",
              " 'rpartition',\n",
              " 'rsplit',\n",
              " 'rstrip',\n",
              " 'split',\n",
              " 'splitlines',\n",
              " 'startswith',\n",
              " 'strip',\n",
              " 'swapcase',\n",
              " 'title',\n",
              " 'translate',\n",
              " 'upper',\n",
              " 'zfill']"
            ]
          },
          "metadata": {},
          "execution_count": 45
        }
      ]
    },
    {
      "cell_type": "code",
      "source": [],
      "metadata": {
        "id": "0j6Xd96VolaS"
      },
      "execution_count": null,
      "outputs": []
    },
    {
      "cell_type": "markdown",
      "source": [
        "####3.2.2 Lista (*list*)\n",
        "\n",
        "\n",
        "Listas são sequências de elementos, as quais podem ser de tipos diferentes, muito embora o objeto denominado lista possui tipo bem definido (*list*), encontrado usando-se o comando **type()**.\n",
        "\n",
        "Em Python, uma lista é representada como uma sequência de objetos separados por vírgula e dentro de colchetes **[]**, podendo ser inclusive uma lista vazia. \n",
        "\n",
        "**Sintaxe**\n",
        "\n",
        "```python\n",
        "variável = [lista de objetos separados por vírgula]\n",
        "```\n",
        "\n",
        "\n",
        "Cada elemento em uma lista possui um índice próprio. Outro ponto importante é que as listas são mutáveis, ou seja, pode-se redefinir um elemento dentro da lista com qualquer dado desejado.\n",
        "\n",
        "\n",
        "---\n",
        "\n",
        "**Fonte: Aprendendo Química com Python, Rodrigo Queiroz e Gerd Rocha, 2021, Amazon Book. <https://github.com/pythonchembook>**"
      ],
      "metadata": {
        "id": "Nc1J-EE_Uz_D"
      }
    },
    {
      "cell_type": "code",
      "source": [
        "a = [10, 'oi', 3.14]   # elementos são separados por vírgulas\n",
        "print(a[0]) # Python indexa variáveis iniciando por \"0\""
      ],
      "metadata": {
        "colab": {
          "base_uri": "https://localhost:8080/"
        },
        "id": "1RXwl2SsokyS",
        "outputId": "f1e13f8f-ec89-4b62-cae8-1f2fa5dee4e6"
      },
      "execution_count": null,
      "outputs": [
        {
          "output_type": "stream",
          "name": "stdout",
          "text": [
            "10\n"
          ]
        }
      ]
    },
    {
      "cell_type": "code",
      "source": [
        "a[2]*2"
      ],
      "metadata": {
        "colab": {
          "base_uri": "https://localhost:8080/",
          "height": 37
        },
        "id": "uyUbKW3Pi5Le",
        "outputId": "28bfba2b-e5ee-4c43-bfbf-950aa21db618"
      },
      "execution_count": null,
      "outputs": [
        {
          "output_type": "execute_result",
          "data": {
            "text/plain": [
              "6.28"
            ],
            "image/png": "[encoded data removed]",
            "text/latex": "$\\displaystyle 6.28$"
          },
          "metadata": {},
          "execution_count": 47
        }
      ]
    },
    {
      "cell_type": "code",
      "source": [
        "a.append('tudo bem')   # adicione mais um elemento à lista\n",
        "a"
      ],
      "metadata": {
        "colab": {
          "base_uri": "https://localhost:8080/"
        },
        "id": "P3cumq18Vdux",
        "outputId": "973bd46a-fcbf-4bb6-e514-3c97092b4801"
      },
      "execution_count": null,
      "outputs": [
        {
          "output_type": "execute_result",
          "data": {
            "text/plain": [
              "[10, 'oi', 3.14, 'tudo bem']"
            ]
          },
          "metadata": {},
          "execution_count": 48
        }
      ]
    },
    {
      "cell_type": "code",
      "source": [
        "a[0] = 5               # redefina o primeiro elemento\n",
        "a"
      ],
      "metadata": {
        "colab": {
          "base_uri": "https://localhost:8080/"
        },
        "id": "5nMbFOPgo8nB",
        "outputId": "48b93246-510f-4548-c4c3-6b559e9378d6"
      },
      "execution_count": null,
      "outputs": [
        {
          "output_type": "execute_result",
          "data": {
            "text/plain": [
              "[5, 'oi', 3.14, 'tudo bem']"
            ]
          },
          "metadata": {},
          "execution_count": 49
        }
      ]
    },
    {
      "cell_type": "code",
      "source": [
        "a[:2]          # elementos até índice '2' ('2' nao incluso!)"
      ],
      "metadata": {
        "colab": {
          "base_uri": "https://localhost:8080/"
        },
        "id": "_Zjw7Nb6pAyZ",
        "outputId": "61ff27fa-ceee-49b7-ca4a-883783bd2131"
      },
      "execution_count": null,
      "outputs": [
        {
          "output_type": "execute_result",
          "data": {
            "text/plain": [
              "[5, 'oi']"
            ]
          },
          "metadata": {},
          "execution_count": 50
        }
      ]
    },
    {
      "cell_type": "code",
      "source": [
        "a.remove('oi')         # remova elemento 'oi' da lista\n",
        "a"
      ],
      "metadata": {
        "colab": {
          "base_uri": "https://localhost:8080/"
        },
        "id": "KdvpqsexpDlV",
        "outputId": "32e2938d-928f-4f91-ba17-0ea320d248ca"
      },
      "execution_count": null,
      "outputs": [
        {
          "output_type": "execute_result",
          "data": {
            "text/plain": [
              "[5, 3.14, 'tudo bem']"
            ]
          },
          "metadata": {},
          "execution_count": 51
        }
      ]
    },
    {
      "cell_type": "code",
      "source": [
        "a[0] = [-1,-2,-3]      # primeiro elemento será uma lista!\n",
        "a"
      ],
      "metadata": {
        "colab": {
          "base_uri": "https://localhost:8080/"
        },
        "id": "g6KzsHnvpD0T",
        "outputId": "a491f8ce-7105-4f47-82df-b96844cbff28"
      },
      "execution_count": null,
      "outputs": [
        {
          "output_type": "execute_result",
          "data": {
            "text/plain": [
              "[[-1, -2, -3], 3.14, 'tudo bem']"
            ]
          },
          "metadata": {},
          "execution_count": 52
        }
      ]
    },
    {
      "cell_type": "code",
      "source": [
        "a[0][1]                # elemento '0', sub-elemento '1'"
      ],
      "metadata": {
        "colab": {
          "base_uri": "https://localhost:8080/",
          "height": 37
        },
        "id": "kwkktTxOpD-X",
        "outputId": "2c79cb6b-ed74-460e-d6d6-cf39cfbb999a"
      },
      "execution_count": null,
      "outputs": [
        {
          "output_type": "execute_result",
          "data": {
            "text/plain": [
              "-2"
            ],
            "image/png": "[encoded data removed]",
            "text/latex": "$\\displaystyle -2$"
          },
          "metadata": {},
          "execution_count": 53
        }
      ]
    },
    {
      "cell_type": "code",
      "source": [
        "3.14 in a              # '3.14' é um elemento da lista 'a'?"
      ],
      "metadata": {
        "colab": {
          "base_uri": "https://localhost:8080/"
        },
        "id": "AJfmLsDopO0Z",
        "outputId": "bb82e4bf-b3b2-4995-87dd-71e2419237cf"
      },
      "execution_count": null,
      "outputs": [
        {
          "output_type": "execute_result",
          "data": {
            "text/plain": [
              "True"
            ]
          },
          "metadata": {},
          "execution_count": 54
        }
      ]
    },
    {
      "cell_type": "code",
      "source": [
        "var = [] # Cria uma lista\n",
        "var = [\"Química\", 2021, \"DQ-UFPB\", 10.0]\n",
        "print(var)\n",
        "print(var*2) # Duplica a lista"
      ],
      "metadata": {
        "colab": {
          "base_uri": "https://localhost:8080/"
        },
        "id": "zSL6dvSJpR4w",
        "outputId": "e9529495-788c-4b44-df24-72780e651f96"
      },
      "execution_count": null,
      "outputs": [
        {
          "output_type": "stream",
          "name": "stdout",
          "text": [
            "['Química', 2021, 'DQ-UFPB', 10.0]\n",
            "['Química', 2021, 'DQ-UFPB', 10.0, 'Química', 2021, 'DQ-UFPB', 10.0]\n"
          ]
        }
      ]
    },
    {
      "cell_type": "code",
      "source": [
        "print(ola)\n",
        "print (ola[0:5]) # python trata uma variável string como uma lista. Essa é a forma de slicing. Sempre iniciando por \"0\"\n",
        "print(ola*2) # Repetição de string\n",
        "print(ola[5:])\n",
        "print(ola[:5])"
      ],
      "metadata": {
        "colab": {
          "base_uri": "https://localhost:8080/"
        },
        "id": "WiXh1eYgpXte",
        "outputId": "89551adc-d8b7-4eed-ebba-b0aea8c2d8ff"
      },
      "execution_count": null,
      "outputs": [
        {
          "output_type": "stream",
          "name": "stdout",
          "text": [
            "Olá turma de Química!\n",
            "Olá t\n",
            "Olá turma de Química!Olá turma de Química!\n",
            "urma de Química!\n",
            "Olá t\n"
          ]
        }
      ]
    },
    {
      "cell_type": "markdown",
      "source": [
        "####3.2.3 Tupla (*tuple*)\n",
        "\n",
        "\n",
        "Tuplas são objetos de tipo *tuple* que guardam dados de tipos diferentes de forma bem semelhante às listas, porém não se pode mudar o número de dados lá guardados ou de forma geral, os seus valores, isto é, tuplas são imutáveis. \n",
        "\n",
        "Em Python, uma tupla é representada como uma sequência de objetos separados por vírgula e dentro de parêntesis **()**.\n",
        " \n",
        "**Sintaxe**\n",
        "\n",
        "```python\n",
        "variável = (lista de objetos separados por vírgula)\n",
        "```\n",
        "\n",
        "\n",
        "Elas são bastante úteis para guardar informações que só se pretende consultar como um banco de dados ou para definir múltiplas variáveis numa só linha.\n",
        "\n",
        "---\n",
        "\n",
        "**Fonte: Aprendendo Química com Python, Rodrigo Queiroz e Gerd Rocha, 2021, Amazon Book. <https://github.com/pythonchembook>**"
      ],
      "metadata": {
        "id": "vl_5qxkRU6IH"
      }
    },
    {
      "cell_type": "code",
      "source": [
        "5, 'oi', 3.14      # tupla é criada, mas não é salva"
      ],
      "metadata": {
        "colab": {
          "base_uri": "https://localhost:8080/"
        },
        "id": "ku9CZl_tpAC4",
        "outputId": "d20c2f9a-c409-431c-b1ca-0b7f648fb390"
      },
      "execution_count": null,
      "outputs": [
        {
          "output_type": "execute_result",
          "data": {
            "text/plain": [
              "(5, 'oi', 3.14)"
            ]
          },
          "metadata": {},
          "execution_count": 57
        }
      ]
    },
    {
      "cell_type": "code",
      "source": [
        "a = 5, 'oi', 3.14  # chame a tupla de 'a'\n",
        "a"
      ],
      "metadata": {
        "colab": {
          "base_uri": "https://localhost:8080/"
        },
        "id": "_XOS8bt-VeZN",
        "outputId": "6d75dd10-9cfb-4971-d49c-1ca57fc79c76"
      },
      "execution_count": null,
      "outputs": [
        {
          "output_type": "execute_result",
          "data": {
            "text/plain": [
              "(5, 'oi', 3.14)"
            ]
          },
          "metadata": {},
          "execution_count": 58
        }
      ]
    },
    {
      "cell_type": "code",
      "source": [
        "len(a)"
      ],
      "metadata": {
        "colab": {
          "base_uri": "https://localhost:8080/",
          "height": 37
        },
        "id": "4TOFLStepjk0",
        "outputId": "790c62db-4d99-4d25-dd15-69b67368348e"
      },
      "execution_count": null,
      "outputs": [
        {
          "output_type": "execute_result",
          "data": {
            "text/plain": [
              "3"
            ],
            "image/png": "[encoded data removed]",
            "text/latex": "$\\displaystyle 3$"
          },
          "metadata": {},
          "execution_count": 59
        }
      ]
    },
    {
      "cell_type": "code",
      "source": [
        "a[1]               # segundo elemento de 'a'"
      ],
      "metadata": {
        "colab": {
          "base_uri": "https://localhost:8080/",
          "height": 36
        },
        "id": "234T4glppjvC",
        "outputId": "379e989a-34d2-4966-da8f-e92bf0c047d9"
      },
      "execution_count": null,
      "outputs": [
        {
          "output_type": "execute_result",
          "data": {
            "text/plain": [
              "'oi'"
            ],
            "application/vnd.google.colaboratory.intrinsic+json": {
              "type": "string"
            }
          },
          "metadata": {},
          "execution_count": 60
        }
      ]
    },
    {
      "cell_type": "code",
      "source": [
        "b = (1,2,3)        # crie outra tupla (com parêntesis)\n",
        "b"
      ],
      "metadata": {
        "colab": {
          "base_uri": "https://localhost:8080/",
          "height": 37
        },
        "id": "J-PIzPrWpj35",
        "outputId": "2616f00c-e00a-4fea-eeb7-0d8906e1947a"
      },
      "execution_count": null,
      "outputs": [
        {
          "output_type": "execute_result",
          "data": {
            "text/plain": [
              "(1, 2, 3)"
            ],
            "image/png": "[encoded data removed]",
            "text/latex": "$\\displaystyle \\left( 1, \\  2, \\  3\\right)$"
          },
          "metadata": {},
          "execution_count": 61
        }
      ]
    },
    {
      "cell_type": "code",
      "source": [
        "2 * b              # operações aritméticas (2 * b = b + b)"
      ],
      "metadata": {
        "colab": {
          "base_uri": "https://localhost:8080/",
          "height": 37
        },
        "id": "49NDTPcBpkAX",
        "outputId": "82e3ad6e-c7a1-468d-d05d-bc91983fdf97"
      },
      "execution_count": null,
      "outputs": [
        {
          "output_type": "execute_result",
          "data": {
            "text/plain": [
              "(1, 2, 3, 1, 2, 3)"
            ],
            "image/png": "[encoded data removed]",
            "text/latex": "$\\displaystyle \\left( 1, \\  2, \\  3, \\  1, \\  2, \\  3\\right)$"
          },
          "metadata": {},
          "execution_count": 62
        }
      ]
    },
    {
      "cell_type": "code",
      "source": [
        "c = a + b          # combine tuplas pra criar outra tupla\n",
        "c"
      ],
      "metadata": {
        "colab": {
          "base_uri": "https://localhost:8080/"
        },
        "id": "quk9We1upkHf",
        "outputId": "7a758bd8-ef5d-4e09-e23e-2b2f648fff9c"
      },
      "execution_count": null,
      "outputs": [
        {
          "output_type": "execute_result",
          "data": {
            "text/plain": [
              "(5, 'oi', 3.14, 1, 2, 3)"
            ]
          },
          "metadata": {},
          "execution_count": 63
        }
      ]
    },
    {
      "cell_type": "code",
      "source": [
        "v1, v2, v3, v4, v5, v6 = c  # gere novas variáveis\n",
        "print(v2)\n",
        "print(v3)"
      ],
      "metadata": {
        "colab": {
          "base_uri": "https://localhost:8080/"
        },
        "id": "ihj9eocCpwFF",
        "outputId": "ad045ba8-8365-498c-ab20-7b75b86c2225"
      },
      "execution_count": null,
      "outputs": [
        {
          "output_type": "stream",
          "name": "stdout",
          "text": [
            "oi\n",
            "3.14\n"
          ]
        }
      ]
    },
    {
      "cell_type": "code",
      "source": [
        "newvar = (\"Química\", 2020, \"DQ-UFPB\", 10.0)\n",
        "print(newvar)\n",
        "print(newvar*2) # Duplica a tupla"
      ],
      "metadata": {
        "colab": {
          "base_uri": "https://localhost:8080/"
        },
        "id": "T-ypsQBUpwPV",
        "outputId": "3fdd47fd-f0e8-4c80-add9-501e6c016e67"
      },
      "execution_count": null,
      "outputs": [
        {
          "output_type": "stream",
          "name": "stdout",
          "text": [
            "('Química', 2020, 'DQ-UFPB', 10.0)\n",
            "('Química', 2020, 'DQ-UFPB', 10.0, 'Química', 2020, 'DQ-UFPB', 10.0)\n"
          ]
        }
      ]
    },
    {
      "cell_type": "code",
      "source": [],
      "metadata": {
        "id": "7u6Tti6QpkNE"
      },
      "execution_count": null,
      "outputs": []
    },
    {
      "cell_type": "markdown",
      "source": [
        "####3.2.4 Set (*set*)\n",
        "\n",
        "\n",
        "O objeto *set* é uma coleção desordenada de elementos únicos. Por este motivo, *sets* são uma ótima ferramenta para remover duplicatas de uma lista grande de elementos. \n",
        "\n",
        "Em Python, um *set* é representado como uma sequência de objetos separados por vírgula e dentro de chaves **{}**.\n",
        " \n",
        "**Sintaxe**\n",
        "\n",
        "```python\n",
        "variável = {lista de objetos separados por vírgula}\n",
        "```\n",
        "\n",
        "---\n",
        "\n",
        "**Fonte: Aprendendo Química com Python, Rodrigo Queiroz e Gerd Rocha, 2021, Amazon Book. <https://github.com/pythonchembook>**"
      ],
      "metadata": {
        "id": "A6KOrw6UVA9O"
      }
    },
    {
      "cell_type": "code",
      "source": [
        "a = {1, 2, 3}     # crie o set 'a'\n",
        "len(a)"
      ],
      "metadata": {
        "id": "CfxmoQkyVfCb",
        "colab": {
          "base_uri": "https://localhost:8080/",
          "height": 37
        },
        "outputId": "bd6b5705-7d50-4d5e-88f5-f0d197351d45"
      },
      "execution_count": null,
      "outputs": [
        {
          "output_type": "execute_result",
          "data": {
            "text/plain": [
              "3"
            ],
            "image/png": "[encoded data removed]",
            "text/latex": "$\\displaystyle 3$"
          },
          "metadata": {},
          "execution_count": 66
        }
      ]
    },
    {
      "cell_type": "code",
      "source": [
        "a.add(4)          # adicione o elemento 4 ao set 'a'\n",
        "a"
      ],
      "metadata": {
        "id": "DpAS5XutqG8O",
        "colab": {
          "base_uri": "https://localhost:8080/",
          "height": 37
        },
        "outputId": "5d68b6ac-863f-46dd-88a9-99c99df3b44d"
      },
      "execution_count": null,
      "outputs": [
        {
          "output_type": "execute_result",
          "data": {
            "text/plain": [
              "{1, 2, 3, 4}"
            ],
            "image/png": "[encoded data removed]",
            "text/latex": "$\\displaystyle \\left\\{1, 2, 3, 4\\right\\}$"
          },
          "metadata": {},
          "execution_count": 67
        }
      ]
    },
    {
      "cell_type": "code",
      "source": [
        "a.remove(4)       # remova o elemento 4\n",
        "a"
      ],
      "metadata": {
        "id": "UDJl60JFqHHM",
        "colab": {
          "base_uri": "https://localhost:8080/",
          "height": 37
        },
        "outputId": "52b32734-5a2d-443d-bfff-c92c28565702"
      },
      "execution_count": null,
      "outputs": [
        {
          "output_type": "execute_result",
          "data": {
            "text/plain": [
              "{1, 2, 3}"
            ],
            "image/png": "[encoded data removed]",
            "text/latex": "$\\displaystyle \\left\\{1, 2, 3\\right\\}$"
          },
          "metadata": {},
          "execution_count": 68
        }
      ]
    },
    {
      "cell_type": "code",
      "source": [
        "b = [3, 4, 4, 5]  # crie a lista 'b'\n",
        "b = set(b)        # converta 'b' em set\n",
        "b"
      ],
      "metadata": {
        "id": "3CyyGZ8WqHOS",
        "colab": {
          "base_uri": "https://localhost:8080/",
          "height": 37
        },
        "outputId": "1498504f-a550-42bf-d4c0-5f2c97ba9f86"
      },
      "execution_count": null,
      "outputs": [
        {
          "output_type": "execute_result",
          "data": {
            "text/plain": [
              "{3, 4, 5}"
            ],
            "image/png": "[encoded data removed]",
            "text/latex": "$\\displaystyle \\left\\{3, 4, 5\\right\\}$"
          },
          "metadata": {},
          "execution_count": 69
        }
      ]
    },
    {
      "cell_type": "code",
      "source": [
        "a - b             # remova de 'a' eventuais elementos de 'b'"
      ],
      "metadata": {
        "id": "Yvu9nxBCqHV2",
        "colab": {
          "base_uri": "https://localhost:8080/",
          "height": 37
        },
        "outputId": "62ebcad8-2d74-450b-f964-057e4b873e8d"
      },
      "execution_count": null,
      "outputs": [
        {
          "output_type": "execute_result",
          "data": {
            "text/plain": [
              "{1, 2}"
            ],
            "image/png": "[encoded data removed]",
            "text/latex": "$\\displaystyle \\left\\{1, 2\\right\\}$"
          },
          "metadata": {},
          "execution_count": 70
        }
      ]
    },
    {
      "cell_type": "code",
      "source": [
        "a | b           # some os dois sets (sem duplicatas, claro!)"
      ],
      "metadata": {
        "id": "qdvMH9peqHe2",
        "colab": {
          "base_uri": "https://localhost:8080/",
          "height": 37
        },
        "outputId": "ffcc0910-42f6-425d-f5e3-da1684b5a791"
      },
      "execution_count": null,
      "outputs": [
        {
          "output_type": "execute_result",
          "data": {
            "text/plain": [
              "{1, 2, 3, 4, 5}"
            ],
            "image/png": "[encoded data removed]",
            "text/latex": "$\\displaystyle \\left\\{1, 2, 3, 4, 5\\right\\}$"
          },
          "metadata": {},
          "execution_count": 71
        }
      ]
    },
    {
      "cell_type": "code",
      "source": [
        "a & b             # ache a intersecção entre os dois sets"
      ],
      "metadata": {
        "id": "QkR0vOU0qHnm",
        "colab": {
          "base_uri": "https://localhost:8080/",
          "height": 37
        },
        "outputId": "f0128971-2f2a-4be1-8992-497ee1cf9b3c"
      },
      "execution_count": null,
      "outputs": [
        {
          "output_type": "execute_result",
          "data": {
            "text/plain": [
              "{3}"
            ],
            "image/png": "[encoded data removed]",
            "text/latex": "$\\displaystyle \\left\\{3\\right\\}$"
          },
          "metadata": {},
          "execution_count": 72
        }
      ]
    },
    {
      "cell_type": "markdown",
      "source": [
        "####3.2.5 Dicionários (*dict*)\n",
        "\n",
        "\n",
        "Dicionários são coleções de dados guardados na forma de pares ``chave: valor``, onde pares sucessivos são separados por vírgulas.\n",
        "\n",
        "Em Python, um dicionário é representado usando a sintaxe mostrada em seguida:\n",
        "\n",
        "**Sintaxe**\n",
        "\n",
        "```python\n",
        "variável = {'chave': 'valor'}\n",
        "```\n",
        "\n",
        "Utiliza-se \"{}\" para delimitar o dicionário e a chave é separada do valor por dois pontos \":\".\n",
        "\n",
        "---\n",
        "\n",
        "**Fonte: Aprendendo Química com Python, Rodrigo Queiroz e Gerd Rocha, 2021, Amazon Book. <https://github.com/pythonchembook>**"
      ],
      "metadata": {
        "id": "X2EKcFduVF2v"
      }
    },
    {
      "cell_type": "code",
      "source": [
        "Z = {'H': 1, 'He': 2, 'Li': 3}       # crie o dicionário"
      ],
      "metadata": {
        "id": "W8rYXv11Vf5I"
      },
      "execution_count": null,
      "outputs": []
    },
    {
      "cell_type": "code",
      "source": [
        "type(Z)                              # tipo do objeto"
      ],
      "metadata": {
        "id": "O-XC3G7gqUIJ",
        "colab": {
          "base_uri": "https://localhost:8080/"
        },
        "outputId": "3c7f18eb-4759-4fb2-a01e-c1f3bfc7584d"
      },
      "execution_count": null,
      "outputs": [
        {
          "output_type": "execute_result",
          "data": {
            "text/plain": [
              "dict"
            ]
          },
          "metadata": {},
          "execution_count": 74
        }
      ]
    },
    {
      "cell_type": "code",
      "source": [
        "Z['H']                               # consulte valor\n",
        "Z['Be'] = 4                          # adicione novo ítem\n",
        "Z"
      ],
      "metadata": {
        "id": "nZXVgAD1qUQZ",
        "colab": {
          "base_uri": "https://localhost:8080/"
        },
        "outputId": "fb66bba1-d2ac-403a-b941-d0f16fdc7901"
      },
      "execution_count": null,
      "outputs": [
        {
          "output_type": "execute_result",
          "data": {
            "text/plain": [
              "{'H': 1, 'He': 2, 'Li': 3, 'Be': 4}"
            ]
          },
          "metadata": {},
          "execution_count": 75
        }
      ]
    },
    {
      "cell_type": "code",
      "source": [
        "Z.pop('Be')                          # remova ítem\n",
        "Z"
      ],
      "metadata": {
        "id": "zZrXIuUJqUUc",
        "colab": {
          "base_uri": "https://localhost:8080/"
        },
        "outputId": "374e99af-a867-499f-c06f-52b661c4eec3"
      },
      "execution_count": null,
      "outputs": [
        {
          "output_type": "execute_result",
          "data": {
            "text/plain": [
              "{'H': 1, 'He': 2, 'Li': 3}"
            ]
          },
          "metadata": {},
          "execution_count": 76
        }
      ]
    },
    {
      "cell_type": "code",
      "source": [
        "len(Z)                              # tamanho do dicionário"
      ],
      "metadata": {
        "id": "7d8Ruh0IqUYz",
        "colab": {
          "base_uri": "https://localhost:8080/",
          "height": 37
        },
        "outputId": "ebc85718-6a1d-46c9-d459-f55f3bf84783"
      },
      "execution_count": null,
      "outputs": [
        {
          "output_type": "execute_result",
          "data": {
            "text/plain": [
              "3"
            ],
            "image/png": "[encoded data removed]",
            "text/latex": "$\\displaystyle 3$"
          },
          "metadata": {},
          "execution_count": 77
        }
      ]
    },
    {
      "cell_type": "code",
      "source": [
        "Z.keys()                            # mostre todas as chaves"
      ],
      "metadata": {
        "id": "tDRU_pMmqcTQ",
        "colab": {
          "base_uri": "https://localhost:8080/"
        },
        "outputId": "6acbce6c-9e24-4173-8e98-1b3986171f74"
      },
      "execution_count": null,
      "outputs": [
        {
          "output_type": "execute_result",
          "data": {
            "text/plain": [
              "dict_keys(['H', 'He', 'Li'])"
            ]
          },
          "metadata": {},
          "execution_count": 78
        }
      ]
    },
    {
      "cell_type": "code",
      "source": [
        "Z.values()                          # mostre todos os valores"
      ],
      "metadata": {
        "id": "DMhWUe9oqcaJ",
        "colab": {
          "base_uri": "https://localhost:8080/"
        },
        "outputId": "69825419-6aa2-4fd9-9126-eda2a7cff4ec"
      },
      "execution_count": null,
      "outputs": [
        {
          "output_type": "execute_result",
          "data": {
            "text/plain": [
              "dict_values([1, 2, 3])"
            ]
          },
          "metadata": {},
          "execution_count": 79
        }
      ]
    },
    {
      "cell_type": "code",
      "source": [
        "Z1 = {'H': 1, 'Be': 4}              # crie outro dicionário\n",
        "Z.update(Z1)                        # insira 'Z1' em 'Z'\n",
        "Z"
      ],
      "metadata": {
        "id": "eQLtjPWzqce1",
        "colab": {
          "base_uri": "https://localhost:8080/"
        },
        "outputId": "fccf870f-c344-4163-d132-1ba33f0608ba"
      },
      "execution_count": null,
      "outputs": [
        {
          "output_type": "execute_result",
          "data": {
            "text/plain": [
              "{'H': 1, 'He': 2, 'Li': 3, 'Be': 4}"
            ]
          },
          "metadata": {},
          "execution_count": 80
        }
      ]
    },
    {
      "cell_type": "code",
      "source": [
        "# Dicionários\n",
        "dic = {} # cria um dicionário\n",
        "dic = {\"press\": 1.0, \"vol\": 1.0, \"num.mol\": 2.0} # define um dicionário\n",
        "dic[\"press\"]"
      ],
      "metadata": {
        "id": "vUQUcyDOqckk",
        "colab": {
          "base_uri": "https://localhost:8080/",
          "height": 37
        },
        "outputId": "e7bc0c83-eb4d-4b09-f4c7-5b3eeca88085"
      },
      "execution_count": null,
      "outputs": [
        {
          "output_type": "execute_result",
          "data": {
            "text/plain": [
              "1.0"
            ],
            "image/png": "[encoded data removed]",
            "text/latex": "$\\displaystyle 1.0$"
          },
          "metadata": {},
          "execution_count": 81
        }
      ]
    },
    {
      "cell_type": "code",
      "source": [],
      "metadata": {
        "id": "deNcYwCeqUcY"
      },
      "execution_count": null,
      "outputs": []
    },
    {
      "cell_type": "markdown",
      "source": [
        "####3.2.6 Arranjos ou variável indexada (*ndarray*)\n",
        "\n",
        "A variável indexada é um dos objetos mais utilizados em aplicações científicas envolvendo números. Podem conter várias dimensões, sendo as mais simples as de 1D e 2D. \n",
        "\n",
        "- Exemplo de variável indexada 1D: [1, 3, 3, 0, -5]\n",
        "- Exemplo de variável indexada 2D: [[1, 2, 3],[4, 5, 6]]\n",
        "\n",
        "Cada elemento pode ser acessado com índices de localização e os elementos podem ser redefinidos, isto é, variáveis indexáveis são mutáveis. O tipo de dados guardados em variáveis indexadas é sempre o mesmo, podendo ser *string*, *float*, *integer*, dentre outros.\n",
        "\n",
        "Nessa parte vamos lidar com variáveis indexadas por meio da biblioteca NumPy (<https://numpy.org/>). \n",
        "\n",
        "---\n",
        "\n",
        "**Fonte: Aprendendo Química com Python, Rodrigo Queiroz e Gerd Rocha, 2021, Amazon Book. <https://github.com/pythonchembook>**"
      ],
      "metadata": {
        "id": "pTQSuHf3VNBC"
      }
    },
    {
      "cell_type": "code",
      "source": [
        "# Usando a biblioteca NumPy, https://numpy.org/\n",
        "\n",
        "import numpy as np  # Comando para importar a biblioteca NumPy.\n",
        "print (\"Versão da NumPy usada:\", np.__version__)"
      ],
      "metadata": {
        "id": "s8rU7utkutCp",
        "colab": {
          "base_uri": "https://localhost:8080/"
        },
        "outputId": "008b3b52-84a7-4b53-f9d4-3bf3e47892c6"
      },
      "execution_count": null,
      "outputs": [
        {
          "output_type": "stream",
          "name": "stdout",
          "text": [
            "Versão da NumPy usada: 1.21.6\n"
          ]
        }
      ]
    },
    {
      "cell_type": "code",
      "source": [
        "a = [1, 2, 3]          # crie uma lista simples\n",
        "print(\"Imprimindo a lista antes de convertê-la para o tipo ndarray da NumPy\", a)\n",
        "\n",
        "a = np.array(a)        # converta 'a' numa variável indexada\n",
        "a"
      ],
      "metadata": {
        "id": "6sm-roZrVgmH",
        "colab": {
          "base_uri": "https://localhost:8080/"
        },
        "outputId": "02afa8a6-5afc-4805-f9b6-200eb13286df"
      },
      "execution_count": null,
      "outputs": [
        {
          "output_type": "stream",
          "name": "stdout",
          "text": [
            "Imprimindo a lista antes de convertê-la para o tipo ndarray da NumPy [1, 2, 3]\n"
          ]
        },
        {
          "output_type": "execute_result",
          "data": {
            "text/plain": [
              "array([1, 2, 3])"
            ]
          },
          "metadata": {},
          "execution_count": 84
        }
      ]
    },
    {
      "cell_type": "code",
      "source": [
        "a.shape                # atributo: componentes por dimensão"
      ],
      "metadata": {
        "id": "mpaWr20OqmRw",
        "colab": {
          "base_uri": "https://localhost:8080/",
          "height": 37
        },
        "outputId": "d441f8bd-93b8-45d4-93b5-839967c64cce"
      },
      "execution_count": null,
      "outputs": [
        {
          "output_type": "execute_result",
          "data": {
            "text/plain": [
              "(3,)"
            ],
            "image/png": "[encoded data removed]",
            "text/latex": "$\\displaystyle \\left( 3,\\right)$"
          },
          "metadata": {},
          "execution_count": 85
        }
      ]
    },
    {
      "cell_type": "code",
      "source": [
        "my_list = [1, 2, 3, 4]\n",
        "print(\"My_list:\", my_list)\n",
        "\n",
        "my_array = np.array(my_list) # Converte uma lista do Python para o formato de array no NumPy\n",
        "print(\"My_array:\", my_array)"
      ],
      "metadata": {
        "id": "vvq5hc4JqmdQ",
        "colab": {
          "base_uri": "https://localhost:8080/"
        },
        "outputId": "76bb9105-22e9-46d6-e5d6-4b03b7de5f29"
      },
      "execution_count": null,
      "outputs": [
        {
          "output_type": "stream",
          "name": "stdout",
          "text": [
            "My_list: [1, 2, 3, 4]\n",
            "My_array: [1 2 3 4]\n"
          ]
        }
      ]
    },
    {
      "cell_type": "code",
      "source": [
        "my_2darray = np.array([[1,2,3],[4,5,6]]) # Cria uma matriz no formato do NumPy\n",
        "print(\"my_2darray = \", my_2darray)"
      ],
      "metadata": {
        "id": "5mFMx32wqmlP",
        "colab": {
          "base_uri": "https://localhost:8080/"
        },
        "outputId": "20af3f38-ad32-4b66-8965-9c88b7b99e8f"
      },
      "execution_count": null,
      "outputs": [
        {
          "output_type": "stream",
          "name": "stdout",
          "text": [
            "my_2darray =  [[1 2 3]\n",
            " [4 5 6]]\n"
          ]
        }
      ]
    },
    {
      "cell_type": "code",
      "source": [
        "# Acessando valores específicos em uma matriz da NumPy\n",
        "\n",
        "print(\"my_array[1] = \", my_array[1])\n",
        "print(my_array[0:2]) # notem que de 0:2 ele vai acessar apenas 2 valores, na posições \"0\" e \"1\".\n",
        "print(my_array)"
      ],
      "metadata": {
        "id": "r5GrMBxjqmtk",
        "colab": {
          "base_uri": "https://localhost:8080/"
        },
        "outputId": "5872bc61-cba7-4cd2-bf15-18f97148e522"
      },
      "execution_count": null,
      "outputs": [
        {
          "output_type": "stream",
          "name": "stdout",
          "text": [
            "my_array[1] =  2\n",
            "[1 2]\n",
            "[1 2 3 4]\n"
          ]
        }
      ]
    },
    {
      "cell_type": "code",
      "source": [
        "# Fazendo operações com matrizes do NumPy\n",
        "\n",
        "print(my_array * 2) # Multiplica por 2 cada elemento da matriz unidimensional\n",
        "\n",
        "A = np.zeros((3, 4), dtype=float) # Cria uma matriz de zeros 3x4\n",
        "print(A)\n",
        "\n",
        "BI = np.identity(3,float) # Cria uma matriz identidade 3x3 \n",
        "print(\"BI = \", BI)\n",
        "\n",
        "### Sabendo o tamanho da matriz A\n",
        "tam_matriz = (len(A),len(A[0]))  # Tupla que contem as linhas e colunas da matriz A\n",
        "\n",
        "print('{}X{}'.format(tam_matriz[0], tam_matriz[1]))"
      ],
      "metadata": {
        "colab": {
          "base_uri": "https://localhost:8080/"
        },
        "id": "qHDvx93XDxrC",
        "outputId": "9cb531e5-afb9-4a0f-addb-55767b743b94"
      },
      "execution_count": null,
      "outputs": [
        {
          "output_type": "stream",
          "name": "stdout",
          "text": [
            "[2 4 6 8]\n",
            "[[0. 0. 0. 0.]\n",
            " [0. 0. 0. 0.]\n",
            " [0. 0. 0. 0.]]\n",
            "BI =  [[1. 0. 0.]\n",
            " [0. 1. 0.]\n",
            " [0. 0. 1.]]\n",
            "3X4\n"
          ]
        }
      ]
    },
    {
      "cell_type": "code",
      "source": [
        "# Forma alternativa de obter as dimensões da matriz A\n",
        "print(A.shape)"
      ],
      "metadata": {
        "id": "V5nAhSNBDx3E",
        "colab": {
          "base_uri": "https://localhost:8080/"
        },
        "outputId": "7cb30248-fc9e-457b-d639-1f452e8918c3"
      },
      "execution_count": null,
      "outputs": [
        {
          "output_type": "stream",
          "name": "stdout",
          "text": [
            "(3, 4)\n"
          ]
        }
      ]
    },
    {
      "cell_type": "code",
      "source": [
        "# Calculando propriedades das matrizes\n",
        "B = np.floor(10.*np.random.random((3,4))) # Cria uma matriz 3x4 com números aleatórios entre 0 e 10. \n",
        "print(\"B = \", B)\n",
        "print()\n",
        "\n",
        "print(\"Valor médio dos elementos de B = \", np.mean(B)) # calcula o valor médio dos elementos de B\n",
        "print(\"Desvio padrão dos elementos de B =\", np.std(B)) # calcula o desvio padrão dos elementos de B\n",
        "print(\"Mediana dos elementos da matriz B =\", np.median(B)) # calcula a mediana dos elementos de B"
      ],
      "metadata": {
        "id": "TtdPu5t9DyAy",
        "colab": {
          "base_uri": "https://localhost:8080/"
        },
        "outputId": "fabd07ce-9920-445f-ce11-bde5d651eb53"
      },
      "execution_count": null,
      "outputs": [
        {
          "output_type": "stream",
          "name": "stdout",
          "text": [
            "B =  [[1. 7. 0. 6.]\n",
            " [6. 3. 8. 2.]\n",
            " [3. 6. 1. 8.]]\n",
            "\n",
            "Valor médio dos elementos de B =  4.25\n",
            "Desvio padrão dos elementos de B = 2.7726341266023544\n",
            "Mediana dos elementos da matriz B = 4.5\n"
          ]
        }
      ]
    },
    {
      "cell_type": "code",
      "source": [
        "print(\"Menor valor armazenado no objeto B:\", B.min())  # Usando a própria estrutura do objeto"
      ],
      "metadata": {
        "id": "OO4lgMAKDyK-",
        "colab": {
          "base_uri": "https://localhost:8080/"
        },
        "outputId": "75d6e4ae-2df7-4d87-b023-cd87f271a818"
      },
      "execution_count": null,
      "outputs": [
        {
          "output_type": "stream",
          "name": "stdout",
          "text": [
            "Menor valor armazenado no objeto B: 0.0\n"
          ]
        }
      ]
    },
    {
      "cell_type": "code",
      "source": [
        "b = np.floor(100.*np.random.random((6,5)))\n",
        "print(\"b = \", b)\n",
        "print(b.shape)\n",
        "#\n",
        "print()\n",
        "bT = np.transpose(b) # Faz a transposta de b e armazena em bT\n",
        "print(\"bT = \", bT)\n",
        "print(bT.shape)"
      ],
      "metadata": {
        "id": "s95-imGBEbod",
        "colab": {
          "base_uri": "https://localhost:8080/"
        },
        "outputId": "84792232-fdc3-440e-f62f-2ceb787a3499"
      },
      "execution_count": null,
      "outputs": [
        {
          "output_type": "stream",
          "name": "stdout",
          "text": [
            "b =  [[50. 76. 45. 64. 43.]\n",
            " [91. 50. 38. 63. 44.]\n",
            " [34. 11. 71. 38. 56.]\n",
            " [37. 23. 90. 87. 76.]\n",
            " [ 3. 17. 34. 95. 11.]\n",
            " [ 2. 78. 59. 54. 64.]]\n",
            "(6, 5)\n",
            "\n",
            "bT =  [[50. 91. 34. 37.  3.  2.]\n",
            " [76. 50. 11. 23. 17. 78.]\n",
            " [45. 38. 71. 90. 34. 59.]\n",
            " [64. 63. 38. 87. 95. 54.]\n",
            " [43. 44. 56. 76. 11. 64.]]\n",
            "(5, 6)\n"
          ]
        }
      ]
    },
    {
      "cell_type": "code",
      "source": [
        "b = np.array([[1, 2, 3],[4, 5, 6]]) \n",
        "b"
      ],
      "metadata": {
        "id": "4lCPMAHvtuZK"
      },
      "execution_count": null,
      "outputs": []
    },
    {
      "cell_type": "code",
      "source": [
        "b.mean()              # média de todos os elementos"
      ],
      "metadata": {
        "id": "1ulvt5wOtukv"
      },
      "execution_count": null,
      "outputs": []
    },
    {
      "cell_type": "code",
      "source": [
        "b.mean(axis = 0)      # média de cada coluna"
      ],
      "metadata": {
        "id": "rNAvx_AZtutf"
      },
      "execution_count": null,
      "outputs": []
    },
    {
      "cell_type": "code",
      "source": [
        "b.mean(axis = 1)      # média de cada linha"
      ],
      "metadata": {
        "id": "utVGXUmAty5Q"
      },
      "execution_count": null,
      "outputs": []
    },
    {
      "cell_type": "code",
      "source": [
        "b.std()                 # desvio padrão de todos os elementos"
      ],
      "metadata": {
        "id": "Ol3zDsx9tzCE"
      },
      "execution_count": null,
      "outputs": []
    },
    {
      "cell_type": "code",
      "source": [
        "b.std(axis = 1)                 # desvio padrão de cada linha"
      ],
      "metadata": {
        "id": "PA8dVQVWtzIe"
      },
      "execution_count": null,
      "outputs": []
    },
    {
      "cell_type": "code",
      "source": [
        "b.max(), b.min()             # valores máximo e mínimo de 'b'"
      ],
      "metadata": {
        "id": "I7WbbDhot6qm"
      },
      "execution_count": null,
      "outputs": []
    },
    {
      "cell_type": "code",
      "source": [
        "b.reshape(1,6)        # mude a forma para 1 linha e 6 colunas"
      ],
      "metadata": {
        "id": "DqvZh3GPt6y6"
      },
      "execution_count": null,
      "outputs": []
    },
    {
      "cell_type": "code",
      "source": [
        "b.T                  # transponha (troque linhas por colunas)"
      ],
      "metadata": {
        "id": "Kpa7684Tt632"
      },
      "execution_count": null,
      "outputs": []
    },
    {
      "cell_type": "code",
      "source": [
        "b.sum()"
      ],
      "metadata": {
        "id": "KMacdvTZt67A"
      },
      "execution_count": null,
      "outputs": []
    },
    {
      "cell_type": "code",
      "source": [
        "a = np.array([1,2,3])                # variável indexada 1D\n",
        "b = np.array([[1,2,3],[4,5,6]])      # variável indexada 2D\n",
        "b"
      ],
      "metadata": {
        "id": "xMjW2acYtzNn"
      },
      "execution_count": null,
      "outputs": []
    },
    {
      "cell_type": "code",
      "source": [
        "a ** 2                    # todos os elementos elevados a 2"
      ],
      "metadata": {
        "id": "wTYaHrvTtu2L"
      },
      "execution_count": null,
      "outputs": []
    },
    {
      "cell_type": "code",
      "source": [
        "2 ** a                   # 2 elevado a cada elemento de 'a'"
      ],
      "metadata": {
        "id": "o-KLDYmfuFrQ"
      },
      "execution_count": null,
      "outputs": []
    },
    {
      "cell_type": "code",
      "source": [
        "a - 1                    # subtraia 1 de todos os elementos"
      ],
      "metadata": {
        "id": "b4hI8jMTuF0R"
      },
      "execution_count": null,
      "outputs": []
    },
    {
      "cell_type": "code",
      "source": [
        "a * b                         # 'a' vezes cada linha de 'b'"
      ],
      "metadata": {
        "id": "_IZfrvUXuLWM"
      },
      "execution_count": null,
      "outputs": []
    },
    {
      "cell_type": "code",
      "source": [
        "a ** b                    # potenciação elemento-a-elemento"
      ],
      "metadata": {
        "id": "WD4YYRKJuLas"
      },
      "execution_count": null,
      "outputs": []
    },
    {
      "cell_type": "code",
      "source": [
        "a + b                    # adicione 'a' a cada linha de 'b'"
      ],
      "metadata": {
        "id": "7I9XZUzYuLew"
      },
      "execution_count": null,
      "outputs": []
    },
    {
      "cell_type": "markdown",
      "source": [
        "####3.2.7 Matriz (*matrix*)\n",
        "\n",
        "\n",
        "Matrizes são um caso especial de variáveis indexadas 2D, porém com regras bastante diferentes nas suas operações. Objetos do tipo matriz possuem em geral o tipo *numpy.matrix* em Python, visto que as matrizes foram criadas usando a biblioteca NumPy.\n",
        "\n",
        "Os objetos *matrix* da NumPy são estritamente bidimensionais, enquanto os objetos *ndarray* do NumPy são N-dimensionais, ou seja mais amplos. Além disso, objetos *matrix* são uma subclasse de *ndarray*, então eles herdam todos os atributos e métodos da *ndarray*.\n",
        "\n",
        "Outra vantagem do objeto *matrix* é que visualmente ele se aproxima mais de a representação matricial. \n",
        "\n",
        "\n",
        "---\n",
        "\n",
        "**Fonte: Aprendendo Química com Python, Rodrigo Queiroz e Gerd Rocha, 2021, Amazon Book. <https://github.com/pythonchembook>**"
      ],
      "metadata": {
        "id": "YLpES0m8VVHs"
      }
    },
    {
      "cell_type": "code",
      "source": [
        "a = [[1,2],[3,4]]        # crie uma lista de listas\n",
        "a = np.matrix(a)         # converta a lista em matriz\n",
        "a"
      ],
      "metadata": {
        "id": "KgeyKPmeuLiF",
        "colab": {
          "base_uri": "https://localhost:8080/"
        },
        "outputId": "627dbbf2-590d-40e9-ef26-0687473b9cd9"
      },
      "execution_count": null,
      "outputs": [
        {
          "output_type": "execute_result",
          "data": {
            "text/plain": [
              "matrix([[1, 2],\n",
              "        [3, 4]])"
            ]
          },
          "metadata": {},
          "execution_count": 95
        }
      ]
    },
    {
      "cell_type": "code",
      "source": [
        "a[0,1]                   # primeira linha, segunda coluna"
      ],
      "metadata": {
        "id": "-aDJuAGRuRWO",
        "colab": {
          "base_uri": "https://localhost:8080/"
        },
        "outputId": "61bf126f-008d-42ba-af11-e5ff9f8158e2"
      },
      "execution_count": null,
      "outputs": [
        {
          "output_type": "execute_result",
          "data": {
            "text/plain": [
              "2"
            ]
          },
          "metadata": {},
          "execution_count": 96
        }
      ]
    },
    {
      "cell_type": "code",
      "source": [
        "a + a                    # soma usual (elemento a elemento)"
      ],
      "metadata": {
        "id": "rkzAO3zjuRa_",
        "colab": {
          "base_uri": "https://localhost:8080/"
        },
        "outputId": "c578c864-826d-43a8-f2ed-ef9ff8ad9e30"
      },
      "execution_count": null,
      "outputs": [
        {
          "output_type": "execute_result",
          "data": {
            "text/plain": [
              "matrix([[2, 4],\n",
              "        [6, 8]])"
            ]
          },
          "metadata": {},
          "execution_count": 9
        }
      ]
    },
    {
      "cell_type": "code",
      "source": [
        "a * a                    # multiplicação usual de matrizes"
      ],
      "metadata": {
        "id": "-TNbCc1_uRex",
        "colab": {
          "base_uri": "https://localhost:8080/"
        },
        "outputId": "31625dd4-07a6-4caf-ac1c-5ba7f8935a8a"
      },
      "execution_count": null,
      "outputs": [
        {
          "output_type": "execute_result",
          "data": {
            "text/plain": [
              "matrix([[ 7, 10],\n",
              "        [15, 22]])"
            ]
          },
          "metadata": {},
          "execution_count": 97
        }
      ]
    },
    {
      "cell_type": "code",
      "source": [
        "a.diagonal()             # diagonal principal da matriz"
      ],
      "metadata": {
        "id": "E4seiV-uuRiC",
        "colab": {
          "base_uri": "https://localhost:8080/"
        },
        "outputId": "5ef84087-143a-43d7-b014-46b9061f14fc"
      },
      "execution_count": null,
      "outputs": [
        {
          "output_type": "execute_result",
          "data": {
            "text/plain": [
              "matrix([[1, 4]])"
            ]
          },
          "metadata": {},
          "execution_count": 98
        }
      ]
    },
    {
      "cell_type": "code",
      "source": [
        "a[:,1]                   # fatia (todas as linhas, coluna 2)"
      ],
      "metadata": {
        "id": "pClt--9puRk2",
        "colab": {
          "base_uri": "https://localhost:8080/"
        },
        "outputId": "a2d023ef-3955-4cf0-fd09-f34e8965d023"
      },
      "execution_count": null,
      "outputs": [
        {
          "output_type": "execute_result",
          "data": {
            "text/plain": [
              "matrix([[2],\n",
              "        [4]])"
            ]
          },
          "metadata": {},
          "execution_count": 12
        }
      ]
    },
    {
      "cell_type": "code",
      "source": [
        "a.transpose()            # matriz transposta (ou use 'a.T')"
      ],
      "metadata": {
        "id": "_5tsyaJMuF34",
        "colab": {
          "base_uri": "https://localhost:8080/"
        },
        "outputId": "359fca8f-3dd4-4827-a013-7d6e8e387cbb"
      },
      "execution_count": null,
      "outputs": [
        {
          "output_type": "execute_result",
          "data": {
            "text/plain": [
              "matrix([[1, 3],\n",
              "        [2, 4]])"
            ]
          },
          "metadata": {},
          "execution_count": 13
        }
      ]
    },
    {
      "cell_type": "code",
      "source": [],
      "metadata": {
        "id": "9ch-QrKRuF8h"
      },
      "execution_count": null,
      "outputs": []
    },
    {
      "cell_type": "markdown",
      "source": [
        "---\n",
        "# **4. Input e output com arquivos externos**\n",
        "\n",
        "Quando se escreve um código sempre se deseja carregar informações (*inputs*) e produzir resultados (*outputs*). Na medida que o volume de dados para serem lidos e/ou produzidos aumenta, temos que usar o recurso de lê-los e/ou escrevê-los através de arquivos em disco. \n",
        "\n",
        "Atualmente estamos vendo que grandes massas de dados está disponível em diversas áreas do conhecimento. Então aprender a manipular esses arquivos com Python é fundamental para qualquer aplicação. \n",
        "\n",
        "Nas células a seguir vamos ver brevemente algumas estratégias de como manipular arquivos externos.\n",
        "\n",
        "---\n",
        "\n",
        "**Fonte: Aprendendo Química com Python, Rodrigo Queiroz e Gerd Rocha, 2021, Amazon Book. <https://github.com/pythonchembook>**"
      ],
      "metadata": {
        "id": "6CpyRBlzOp8v"
      }
    },
    {
      "cell_type": "code",
      "source": [
        "# Criando um arquivo vazio e escrevendo nele\n",
        "\n",
        "arquivo = open(\"mensagem.txt\", \"w\")  # cria o arquivo\n",
        "arquivo.write(\"HCl é um ácido forte\") # escreve no arquivo"
      ],
      "metadata": {
        "colab": {
          "base_uri": "https://localhost:8080/",
          "height": 37
        },
        "id": "23WiyM9rw6Ks",
        "outputId": "98722755-dc16-4d08-a24c-043c196bb4ad"
      },
      "execution_count": null,
      "outputs": [
        {
          "output_type": "execute_result",
          "data": {
            "text/plain": [
              "20"
            ],
            "image/png": "[encoded data removed]",
            "text/latex": "$\\displaystyle 20$"
          },
          "metadata": {},
          "execution_count": 100
        }
      ]
    },
    {
      "cell_type": "code",
      "source": [
        "arquivo = open(\"moleculas.txt\", \"w\")  # cria o arquivo  ### Ver pq está dando erro \n",
        "\n",
        "arquivo.write(\"CaCO3 \\n\")\n",
        "arquivo.write(\"H2SO4 \\n\")\n",
        "arquivo.write(\"KOH \\n\")\n",
        "arquivo.write(\"Fe2O3 \\n\")\n",
        "\n",
        "arquivo.close() # Para fechar o arquivo"
      ],
      "metadata": {
        "colab": {
          "base_uri": "https://localhost:8080/",
          "height": 37
        },
        "id": "7MlT47Vyxo4s",
        "outputId": "870ef822-82ba-42f3-d08e-2d99451c5dca"
      },
      "execution_count": null,
      "outputs": [
        {
          "output_type": "execute_result",
          "data": {
            "text/plain": [
              "7"
            ],
            "image/png": "[encoded data removed]",
            "text/latex": "$\\displaystyle 7$"
          },
          "metadata": {},
          "execution_count": 105
        }
      ]
    },
    {
      "cell_type": "code",
      "source": [
        "# Agora a forma de ler os dados do arquivo gerado\n",
        "\n",
        "lendo = open(\"moleculas.txt\", \"r\")\n",
        "\n",
        "print(lendo.readline())  # ler a primeira linha do arquivo"
      ],
      "metadata": {
        "colab": {
          "base_uri": "https://localhost:8080/"
        },
        "id": "VoOZK4V70x0J",
        "outputId": "ee9892d2-d7a9-4272-e717-32aa362de735"
      },
      "execution_count": null,
      "outputs": [
        {
          "output_type": "stream",
          "name": "stdout",
          "text": [
            "CaCO3 \n",
            "\n"
          ]
        }
      ]
    },
    {
      "cell_type": "code",
      "source": [
        "arq = open(\"moleculas.txt\",\"r\")\n",
        "linhas = arq.readlines()\n",
        "for linha in linhas:\n",
        "    print(linha)"
      ],
      "metadata": {
        "colab": {
          "base_uri": "https://localhost:8080/"
        },
        "id": "wd2-6SDc1hLy",
        "outputId": "71283eb6-9a32-4c54-9179-571b46b7131c"
      },
      "execution_count": null,
      "outputs": [
        {
          "output_type": "stream",
          "name": "stdout",
          "text": [
            "CaCO3 \n",
            "\n",
            "H2SO4 \n",
            "\n",
            "KOH \n",
            "\n",
            "Fe2O3 \n",
            "\n"
          ]
        }
      ]
    },
    {
      "cell_type": "markdown",
      "source": [
        "---\n",
        "A seguir é mostrado uma forma ágil de gerar um arquivo no próprio Google Colab. "
      ],
      "metadata": {
        "id": "moGCmsEZzlB-"
      }
    },
    {
      "cell_type": "code",
      "source": [
        "%%file file.txt\n",
        "Total repulsion energy = 23.435238 a.u.\n",
        "Total energy for this iteration = 22.694720 a.u.\n",
        "Final geometry:\n",
        "= = = = = = = = = = = = = = = = =\n",
        "   X      Y      Z\n",
        "H 0.0000 0.0000 0.0000\n",
        "H 0.0000 0.0000 0.7400\n",
        "Wall time: 1.321 seconds"
      ],
      "metadata": {
        "id": "b4wBNSP4Os-5",
        "colab": {
          "base_uri": "https://localhost:8080/"
        },
        "outputId": "fe6df787-1506-4b6d-a613-dafb491be158"
      },
      "execution_count": null,
      "outputs": [
        {
          "output_type": "stream",
          "name": "stdout",
          "text": [
            "Writing file.txt\n"
          ]
        }
      ]
    },
    {
      "cell_type": "code",
      "source": [
        "with open('file.txt') as f:     # arquivo vai pro objeto 'f'\n",
        "    line = f.readline()      # a linha 1 é salva como 'line'"
      ],
      "metadata": {
        "id": "4beq3L5wMK4r"
      },
      "execution_count": null,
      "outputs": []
    },
    {
      "cell_type": "code",
      "source": [
        "line"
      ],
      "metadata": {
        "id": "khM9-JDUI4Sa",
        "colab": {
          "base_uri": "https://localhost:8080/",
          "height": 36
        },
        "outputId": "a76cb9ab-3c87-4566-9396-d14301cd88a5"
      },
      "execution_count": null,
      "outputs": [
        {
          "output_type": "execute_result",
          "data": {
            "text/plain": [
              "'Total repulsion energy = 23.435238 a.u.\\n'"
            ],
            "application/vnd.google.colaboratory.intrinsic+json": {
              "type": "string"
            }
          },
          "metadata": {},
          "execution_count": 110
        }
      ]
    },
    {
      "cell_type": "code",
      "source": [
        "line.split()                     # elimine '\\n' e gere lista"
      ],
      "metadata": {
        "id": "e16TrdtYI4pr",
        "colab": {
          "base_uri": "https://localhost:8080/"
        },
        "outputId": "e2cc8bcd-564e-47b0-92c4-412dfc09cdf2"
      },
      "execution_count": null,
      "outputs": [
        {
          "output_type": "execute_result",
          "data": {
            "text/plain": [
              "['Total', 'repulsion', 'energy', '=', '23.435238', 'a.u.']"
            ]
          },
          "metadata": {},
          "execution_count": 111
        }
      ]
    },
    {
      "cell_type": "code",
      "source": [
        "newline = line.split()\n",
        "newline[4]   "
      ],
      "metadata": {
        "id": "7s9TWTgjI4uM",
        "colab": {
          "base_uri": "https://localhost:8080/",
          "height": 36
        },
        "outputId": "b2870998-dfb7-40e5-f9fb-ccbe38764f8e"
      },
      "execution_count": null,
      "outputs": [
        {
          "output_type": "execute_result",
          "data": {
            "text/plain": [
              "'23.435238'"
            ],
            "application/vnd.google.colaboratory.intrinsic+json": {
              "type": "string"
            }
          },
          "metadata": {},
          "execution_count": 112
        }
      ]
    },
    {
      "cell_type": "code",
      "source": [
        "energy = float(newline[4])   # converta 'string' pra 'float'\n",
        "energy / 10                   # faça operações com a energia"
      ],
      "metadata": {
        "id": "FAqyMyeDI4xn",
        "colab": {
          "base_uri": "https://localhost:8080/",
          "height": 37
        },
        "outputId": "14420808-2770-4afa-809c-211cb84b50e3"
      },
      "execution_count": null,
      "outputs": [
        {
          "output_type": "execute_result",
          "data": {
            "text/plain": [
              "2.3435238"
            ],
            "image/png": "[encoded data removed]",
            "text/latex": "$\\displaystyle 2.3435238$"
          },
          "metadata": {},
          "execution_count": 113
        }
      ]
    },
    {
      "cell_type": "code",
      "source": [
        "with open(\"file.txt\", 'w') as f:\n",
        "    line = 'Info 1\\n'     \n",
        "    f.write(line)         # insira a primeira linha de texto\n",
        "    line = 'Info 2' + '\\n' \n",
        "    f.write(line)          # insira a segunda linha de texto\n",
        "    f.write('Info 3\\n')   # insira a terceira linha de texto"
      ],
      "metadata": {
        "id": "FY4yKA5mI41O"
      },
      "execution_count": null,
      "outputs": []
    },
    {
      "cell_type": "code",
      "source": [
        "with open(\"file.txt\") as f:\n",
        "    f.readlines()"
      ],
      "metadata": {
        "id": "jgNaUHTlJa95"
      },
      "execution_count": null,
      "outputs": []
    },
    {
      "cell_type": "code",
      "source": [
        "with open(\"file.txt\") as f:\n",
        "    myfile = f.read()"
      ],
      "metadata": {
        "id": "lFbB_RiiJbHJ"
      },
      "execution_count": null,
      "outputs": []
    },
    {
      "cell_type": "code",
      "source": [
        "myfile"
      ],
      "metadata": {
        "id": "FioFzKopJbLw",
        "colab": {
          "base_uri": "https://localhost:8080/",
          "height": 36
        },
        "outputId": "d0b630ea-0128-4731-887b-3aece36754c6"
      },
      "execution_count": null,
      "outputs": [
        {
          "output_type": "execute_result",
          "data": {
            "text/plain": [
              "'Info 1\\nInfo 2\\nInfo 3\\n'"
            ],
            "application/vnd.google.colaboratory.intrinsic+json": {
              "type": "string"
            }
          },
          "metadata": {},
          "execution_count": 117
        }
      ]
    },
    {
      "cell_type": "code",
      "source": [
        "%%file results.txt\n",
        "MC iteration 1, energy = 3.4232 hartree\n",
        "MC iteration 2, energy = 3.4783 hartree\n",
        "MC iteration 3, energy = 3.4155 hartree\n",
        "MC iteration 4, energy = 3.4369 hartree\n",
        "MC simulation will proceed for 2 more steps\n",
        "MC iteration 5, energy = 3.4423 hartree\n",
        "The MC iterations took ca 5.4321 seconds\n",
        "MC iteration 6, energy = 3.4510 hartree"
      ],
      "metadata": {
        "id": "YrOtCRFWJbQ0",
        "colab": {
          "base_uri": "https://localhost:8080/"
        },
        "outputId": "89a8b600-feda-40ae-be40-4cb17a6f28e8"
      },
      "execution_count": null,
      "outputs": [
        {
          "output_type": "stream",
          "name": "stdout",
          "text": [
            "Writing results.txt\n"
          ]
        }
      ]
    },
    {
      "cell_type": "code",
      "source": [
        "import numpy as np\n",
        "\n",
        "energy = []                    # valor da energia é inicializado\n",
        "\n",
        "with open('results.txt') as f:\n",
        "    lines = f.readlines()  # 'lines' = lista com todas as linhas\n",
        "\n",
        "for line in lines:                 # itere cada linha de 'lines'\n",
        "    x = line.split()              # 'x' é uma lista de 'strings'\n",
        "    if x[0] == 'MC' and x[1] == 'iteration':\n",
        "        ener = float(x[5])       # converta 'string' pra 'float'\n",
        "        energy.append(ener)     # energia: sexto elemento de 'x'\n",
        "\n",
        "mean_e = np.mean(energy)                         # energia média\n",
        "mean_e = round(mean_e, 4)           # média com 4 casas decimais\n",
        "std_e = np.std(energy)                           # desvio padrão\n",
        "std_e = round(std_e, 4)     # desvio padrão com 4 casas decimais\n",
        "\n",
        "# linha a ser adicionada\n",
        "newline = f'Average energy = {mean_e} +/- {std_e}\\n'\n",
        "\n",
        "with open('results.txt', 'a') as f:\n",
        "    f.write(newline)      # linha é adicionada ao fim do arquivo"
      ],
      "metadata": {
        "id": "N59bxErGJbVO"
      },
      "execution_count": null,
      "outputs": []
    },
    {
      "cell_type": "code",
      "source": [
        "!more results.txt   # Forma de executar um comando do sistema operacional (Linux) no Jupyter-Notebook ou Colab"
      ],
      "metadata": {
        "id": "xS5zEN0UJbZC",
        "colab": {
          "base_uri": "https://localhost:8080/"
        },
        "outputId": "1a7af8e4-7440-4f30-ebd3-a64aa1603428"
      },
      "execution_count": null,
      "outputs": [
        {
          "output_type": "stream",
          "name": "stdout",
          "text": [
            "MC iteration 1, energy = 3.4232 hartree\n",
            "MC iteration 2, energy = 3.4783 hartree\n",
            "MC iteration 3, energy = 3.4155 hartree\n",
            "MC iteration 4, energy = 3.4369 hartree\n",
            "MC simulation will proceed for 2 more steps\n",
            "MC iteration 5, energy = 3.4423 hartree\n",
            "The MC iterations took ca 5.4321 seconds\n",
            "MC iteration 6, energy = 3.4510 hartree\n",
            "Average energy = 3.4412 +/- 0.0203\n"
          ]
        }
      ]
    },
    {
      "cell_type": "code",
      "source": [
        "!ls *"
      ],
      "metadata": {
        "id": "bE5ppMLdJqlA",
        "colab": {
          "base_uri": "https://localhost:8080/"
        },
        "outputId": "e98d89c8-5b97-402c-cb42-1bdb790d639f"
      },
      "execution_count": null,
      "outputs": [
        {
          "output_type": "stream",
          "name": "stdout",
          "text": [
            "file.txt  mensagem.txt\tmoleculas.txt  results.txt\n",
            "\n",
            "sample_data:\n",
            "anscombe.json\t\t      mnist_test.csv\n",
            "california_housing_test.csv   mnist_train_small.csv\n",
            "california_housing_train.csv  README.md\n"
          ]
        }
      ]
    },
    {
      "cell_type": "markdown",
      "source": [
        "---\n",
        "# **5. Controlando o fluxo de dados do seu programa**\n",
        "\n",
        "\n",
        "Blocos com expressões condicionais são usados quando desejamos controlar o fluxo de dados do programa. A estrutura em Python para fazer isso chama-se Bloco **if**. Existem três variações principais de blocos **if**, como pode ser visto em seguida:\n",
        "\n",
        "- Bloco ***if*** \n",
        "- Bloco ***if ... else***\n",
        "- Bloco ***if ... elseif ... else***\n",
        "\n",
        "A sintaxe para cada um desses blocos pode ser visto em seguida.\n",
        "\n",
        "**Sintaxe**\n",
        "\n",
        "- Bloco ***if***\n",
        "\n",
        "```shell\n",
        "if <expressão_for_verdadeira>:\n",
        "    # Bloco de comandos a ser executado\n",
        "```\n",
        "\n",
        "**OBS:** A sintaxe do bloco **if** exige que os comandos a serem executados estejam abaixo da estrutura mostrada e **IDENTADOS** com a tecla **TAB**. \n",
        "\n",
        "Na maioria das IDEs, quando se digita a estrutura **if** e encerra-se com a tecla **ENTER**, a identação é automática. Para se encerrar o bloco **if** basta inserir uma linha em branco ou interromper a identação.\n",
        "\n",
        "---\n",
        "\n",
        "**Fonte: Aprendendo Química com Python, Rodrigo Queiroz e Gerd Rocha, 2021, Amazon Book. <https://github.com/pythonchembook>**"
      ],
      "metadata": {
        "id": "iliDaEAyOwFP"
      }
    },
    {
      "cell_type": "code",
      "source": [
        "a = 3                          # 'a' é definido como sendo 3\n",
        "if a == 3:                                # 'a' é igual a 3?\n",
        "    print(\"Sim, 'a' tem valor igual a 3. \")"
      ],
      "metadata": {
        "id": "R5l_Xwk7O2q3",
        "colab": {
          "base_uri": "https://localhost:8080/"
        },
        "outputId": "3da97405-65f9-4b0c-fd68-1e5afaedb29b"
      },
      "execution_count": null,
      "outputs": [
        {
          "output_type": "stream",
          "name": "stdout",
          "text": [
            "Sim, 'a' tem valor igual a 3. \n"
          ]
        }
      ]
    },
    {
      "cell_type": "code",
      "source": [
        "b = 5\n",
        "if a > b:                             # 'a' é maior que 'b'?\n",
        "    print(\"Sim\")                     # se for, imprima 'Sim'"
      ],
      "metadata": {
        "id": "o2tGoV8F2GOU"
      },
      "execution_count": null,
      "outputs": []
    },
    {
      "cell_type": "code",
      "source": [
        "if a < b:\n",
        "  print(\"Agora a é menor que b\")\n",
        "  print(\"Oi\")  \n",
        "\n",
        "if a == b:\n",
        "  print(\"Olá\")"
      ],
      "metadata": {
        "colab": {
          "base_uri": "https://localhost:8080/"
        },
        "id": "fbj5beox6Qq1",
        "outputId": "a92b225f-253c-48c5-a4a7-12d12dc37161"
      },
      "execution_count": null,
      "outputs": [
        {
          "output_type": "stream",
          "name": "stdout",
          "text": [
            "Agora a é menor que b\n",
            "Oi\n"
          ]
        }
      ]
    },
    {
      "cell_type": "markdown",
      "source": [
        "---\n",
        "**Sintaxe**\n",
        "\n",
        "- Bloco ***if ... else***\n",
        "\n",
        "```shell\n",
        "if <expressão_for_verdadeira>:\n",
        "    # 1o Bloco de comandos a ser executado\n",
        "else:\n",
        "    # 2o Bloco de comandos a ser executado\n",
        "\n",
        "```"
      ],
      "metadata": {
        "id": "ygMKCxK3ktXr"
      }
    },
    {
      "cell_type": "code",
      "source": [
        "if a > b: \n",
        "    print(\"Sim\")\n",
        "else:                # se condições anteriores forem 'False'\n",
        "    print(\"Nao\")"
      ],
      "metadata": {
        "id": "f4YjK_9w2Gb7",
        "colab": {
          "base_uri": "https://localhost:8080/"
        },
        "outputId": "c76cfc48-52f9-4e8c-a947-8cc76ce61bd2"
      },
      "execution_count": null,
      "outputs": [
        {
          "output_type": "stream",
          "name": "stdout",
          "text": [
            "Nao\n"
          ]
        }
      ]
    },
    {
      "cell_type": "markdown",
      "source": [
        "---\n",
        "**Sintaxe**\n",
        "\n",
        "- Bloco ***if ... elif ... else***\n",
        "\n",
        "```shell\n",
        "if <expressão_for_verdadeira>:\n",
        "    # 1o Bloco de comandos a ser executado\n",
        "elif <segunda_expressão_for_verdadeira>:\n",
        "    # 2o Bloco de comandos a ser executado\n",
        "else:\n",
        "    # 3o Bloco de comandos a ser executado\n",
        "```"
      ],
      "metadata": {
        "id": "S6PA25QjlyT4"
      }
    },
    {
      "cell_type": "code",
      "source": [
        "a = 3\n",
        "if a == 2:                                      # condicao 1\n",
        "    print(\"condicao 1 atendida\")\n",
        "elif a == 3:                                    # condicao 2\n",
        "    print(\"condicao 2 atendida\")\n",
        "elif a > 2:                                     # condicao 3\n",
        "    print(\"condicao 3 atendida\")"
      ],
      "metadata": {
        "id": "E97yt3lA2Gla",
        "colab": {
          "base_uri": "https://localhost:8080/"
        },
        "outputId": "77fd32db-3e78-446a-f9f1-965c7501b12c"
      },
      "execution_count": null,
      "outputs": [
        {
          "output_type": "stream",
          "name": "stdout",
          "text": [
            "condicao 2 atendida\n"
          ]
        }
      ]
    },
    {
      "cell_type": "code",
      "source": [
        "if a < 1:                                       # condicao 1\n",
        "    print(\"condicao 1 atendida\")\n",
        "elif a < 2:                                     # condicao 2\n",
        "    print(\"condicao 2 atendida\")\n",
        "elif a < 3:                                     # condicao 3\n",
        "    print(\"condicao 3 atendida\")\n",
        "else:                                          # finalização\n",
        "    print(\"nenhuma condicao atendida\")"
      ],
      "metadata": {
        "id": "DNnhEAFQ2Gua",
        "colab": {
          "base_uri": "https://localhost:8080/"
        },
        "outputId": "ec176fc0-4929-48e1-8f49-5e3bc6e261bd"
      },
      "execution_count": null,
      "outputs": [
        {
          "output_type": "stream",
          "name": "stdout",
          "text": [
            "nenhuma condicao atendida\n"
          ]
        }
      ]
    },
    {
      "cell_type": "code",
      "source": [
        "a = 3\n",
        "if a >= 1 and a <= 2:     \n",
        "    c = a ** 2\n",
        "    print(c)\n",
        "elif a < 2 or a >= 3:     \n",
        "    c = a ** 3\n",
        "    print(c)"
      ],
      "metadata": {
        "id": "IhV75JTN2G2J",
        "colab": {
          "base_uri": "https://localhost:8080/"
        },
        "outputId": "4fd69ba4-0c02-4c8f-bf14-c1aa23b97ddd"
      },
      "execution_count": null,
      "outputs": [
        {
          "output_type": "stream",
          "name": "stdout",
          "text": [
            "27\n"
          ]
        }
      ]
    },
    {
      "cell_type": "code",
      "source": [
        "metais = ['Pt', 'Ag', 'Au']\n",
        "ouro = 'Au'\n",
        "if ouro in metais:         # 'ouro' está contido em 'metais'?\n",
        "    print(\"Achei ouro!\")"
      ],
      "metadata": {
        "id": "vIbUL3Su2G7g",
        "colab": {
          "base_uri": "https://localhost:8080/"
        },
        "outputId": "7d0c5e5c-fadf-4919-d1e3-9b523af304b0"
      },
      "execution_count": null,
      "outputs": [
        {
          "output_type": "stream",
          "name": "stdout",
          "text": [
            "Achei ouro!\n"
          ]
        }
      ]
    },
    {
      "cell_type": "code",
      "source": [
        "frase = 'voce viu aquilo'\n",
        "palavra = 'qui'\n",
        "if palavra in frase:      # 'palavra' está contido em 'frase'\n",
        "    print(\"A palavra foi encontrada\")"
      ],
      "metadata": {
        "id": "cT8RkvC_2cwT",
        "colab": {
          "base_uri": "https://localhost:8080/"
        },
        "outputId": "697dcd9c-4b18-499d-f989-7506bd1bfec8"
      },
      "execution_count": null,
      "outputs": [
        {
          "output_type": "stream",
          "name": "stdout",
          "text": [
            "A palavra foi encontrada\n"
          ]
        }
      ]
    },
    {
      "cell_type": "markdown",
      "source": [
        "---\n",
        "#### **Aplicação: Análise qualitativa de metais**\n",
        "\n",
        "![1-metals.png](data:image/png;base64,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)\n",
        "\n",
        "---\n",
        "\n",
        "**Fonte: Aprendendo Química com Python, Rodrigo Queiroz e Gerd Rocha, 2021, Amazon Book. <https://github.com/pythonchembook>**"
      ],
      "metadata": {
        "id": "6MFTeY2fmyno"
      }
    },
    {
      "cell_type": "code",
      "source": [
        "# Análise qualitativa de íons metálicos\n",
        "metals = []\n",
        "answers = ['yes', 'no', 'no', 'yes', 'yes']      # respostas\n",
        "if answers[0] == 'yes':                  # precipitou em HCl?\n",
        "    if answers[1] == 'yes':      # precipitou em água quente?\n",
        "        if answers[2] == 'yes':          # precipitou em NH3?\n",
        "            metals.append('Hg2++')\n",
        "        if answers[3] == 'yes':         # precipitou em HNO3?\n",
        "            metals.append('Ag+')\n",
        "    if answers[4] == 'yes':           # precipitou em CrO4--?\n",
        "        metals.append('Pb+')\n",
        "else:                 # Nenhum metal do grupo 1 está presente\n",
        "    print('No metals of group 1 found!')\n",
        "\n",
        "print(\"Minha amostra tem os seguintes metais =>\", metals)"
      ],
      "metadata": {
        "id": "cFRv68YQ2c4y",
        "colab": {
          "base_uri": "https://localhost:8080/"
        },
        "outputId": "90e74c3d-da61-4acb-f1b4-5c00cfa299d8"
      },
      "execution_count": null,
      "outputs": [
        {
          "output_type": "stream",
          "name": "stdout",
          "text": [
            "Minha amostra tem os seguintes metais => ['Pb+']\n"
          ]
        }
      ]
    },
    {
      "cell_type": "markdown",
      "source": [
        "### Tarefa: calcular o pH de uma solução de um ácido monoprótico."
      ],
      "metadata": {
        "id": "-NxhVY0jd_lX"
      }
    },
    {
      "cell_type": "code",
      "source": [
        "# Esse programa serve para calcular o pH de uma solução de um ácido monoprótico\n",
        "\n",
        "\n"
      ],
      "metadata": {
        "id": "HdpGLPpV2HE1"
      },
      "execution_count": 6,
      "outputs": []
    },
    {
      "cell_type": "markdown",
      "source": [
        "---\n",
        "# **6. Repetindo partes do programa**\n",
        "\n",
        "Quando nossa intenção é executar repeditamente operações e/ou comandos usamos estruturas de programação conhecidas como laços de repetição. Existem duas estruturas básicas:\n",
        "\n",
        "- Blocos ***for*** : quando queremos repetir comandos um número específico de vezes; \n",
        "- Blocos ***while*** : quando queremos repetir indefinidamente os comandos até que uma certa condição seja satisfeita.\n",
        "\n",
        "---\n",
        "\n",
        "**Fonte: Aprendendo Química com Python, Rodrigo Queiroz e Gerd Rocha, 2021, Amazon Book. <https://github.com/pythonchembook>**"
      ],
      "metadata": {
        "id": "POrI--bOO315"
      }
    },
    {
      "cell_type": "markdown",
      "source": [
        "---\n",
        "\n",
        "**Sintaxe**\n",
        "\n",
        "- Bloco ***for***\n",
        "\n",
        "```shell\n",
        "for <nome variável> in <iterável>:\n",
        "  # Bloco de comandos a ser executado\n",
        "```\n",
        "\n",
        "onde\n",
        "\n",
        "-- *nome variável* é o nome da variável que vai receber os elementos de *iterável*.\n",
        "\n",
        "-- *iterável* é um objeto que contem dados sobre o qual vamos iterar, podendo ser: lista, tupla, string, dicionário, etc.\n",
        "\n",
        "**OBS:** A sintaxe do bloco *for* exige que os comandos a serem repetidos estejam abaixo da estrutura mostrada e **IDENTADOS** com a tecla **TAB**. \n",
        "\n",
        "Na maioria das IDEs, quando se digita a estrutura **for** e encerra-se com a tecla **ENTER**, a identação é automática. Para se encerrar o bloco de comandos a serem iterados basta inserir uma linha em branco ou interromper a identação. \n"
      ],
      "metadata": {
        "id": "vcsjB-eFMIKE"
      }
    },
    {
      "cell_type": "code",
      "source": [
        "lista = [1, 7, -98, 44, 51]\n",
        "for item in lista: \n",
        "  print(\"Elemento na lista\", item)"
      ],
      "metadata": {
        "colab": {
          "base_uri": "https://localhost:8080/"
        },
        "id": "hj7PpAi8NQyI",
        "outputId": "76c4118a-a5ac-43a4-87b9-ad92d37b20c9"
      },
      "execution_count": null,
      "outputs": [
        {
          "output_type": "stream",
          "name": "stdout",
          "text": [
            "Elemento na lista 1\n",
            "Elemento na lista 7\n",
            "Elemento na lista -98\n",
            "Elemento na lista 44\n",
            "Elemento na lista 51\n"
          ]
        }
      ]
    },
    {
      "cell_type": "code",
      "source": [
        "for i in range(3):\n",
        "    print('Esta é a linha', i)"
      ],
      "metadata": {
        "id": "tYuKP2FAO5mv",
        "colab": {
          "base_uri": "https://localhost:8080/"
        },
        "outputId": "587cdf04-7e28-4944-908b-090b4b8f9b62"
      },
      "execution_count": null,
      "outputs": [
        {
          "output_type": "stream",
          "name": "stdout",
          "text": [
            "Esta é a linha 0\n",
            "Esta é a linha 1\n",
            "Esta é a linha 2\n"
          ]
        }
      ]
    },
    {
      "cell_type": "code",
      "source": [
        "a = 2\n",
        "for i in range(10):\n",
        "    a *= 2 \n",
        "    print(\"Valor de a =\", a, \"na iteração i =\", i)   \n",
        "\n",
        "print()\n",
        "print(\"o valor acumulado para a é:\", a)"
      ],
      "metadata": {
        "colab": {
          "base_uri": "https://localhost:8080/"
        },
        "id": "8giT6X0wzhWi",
        "outputId": "36e2cb31-dc37-4f78-fd8f-b3dfb35d1530"
      },
      "execution_count": null,
      "outputs": [
        {
          "output_type": "stream",
          "name": "stdout",
          "text": [
            "Valor de a = 4 na iteração i = 0\n",
            "Valor de a = 8 na iteração i = 1\n",
            "Valor de a = 16 na iteração i = 2\n",
            "Valor de a = 32 na iteração i = 3\n",
            "Valor de a = 64 na iteração i = 4\n",
            "Valor de a = 128 na iteração i = 5\n",
            "Valor de a = 256 na iteração i = 6\n",
            "Valor de a = 512 na iteração i = 7\n",
            "Valor de a = 1024 na iteração i = 8\n",
            "Valor de a = 2048 na iteração i = 9\n",
            "\n",
            "o valor acumulado para a é: 2048\n"
          ]
        }
      ]
    },
    {
      "cell_type": "code",
      "source": [
        "b = ['H', 'C', 'O']            # lista com elementos químicos\n",
        "for atomo in b:          # 'atomo' é o nome da nossa variável \n",
        "    print('Minha molécula tem', atomo)"
      ],
      "metadata": {
        "colab": {
          "base_uri": "https://localhost:8080/"
        },
        "id": "j5LqSJIlzhn5",
        "outputId": "0d00351d-3f4d-45e3-ab24-212c04d6f0ba"
      },
      "execution_count": null,
      "outputs": [
        {
          "output_type": "stream",
          "name": "stdout",
          "text": [
            "Minha molécula tem H\n",
            "Minha molécula tem C\n",
            "Minha molécula tem O\n"
          ]
        }
      ]
    },
    {
      "cell_type": "code",
      "source": [
        "for atomo in b:\n",
        "    print(f'Minha molécula tem {atomo}')  # Variação do comando print"
      ],
      "metadata": {
        "id": "v-AZ3oE7zhwM",
        "colab": {
          "base_uri": "https://localhost:8080/"
        },
        "outputId": "0099e3ac-ec23-4220-89a0-1916416c5d90"
      },
      "execution_count": null,
      "outputs": [
        {
          "output_type": "stream",
          "name": "stdout",
          "text": [
            "Minha molécula tem H\n",
            "Minha molécula tem C\n",
            "Minha molécula tem O\n"
          ]
        }
      ]
    },
    {
      "cell_type": "code",
      "source": [
        "a = ['H','C','O']               # lista de elementos químicos. Exemplo do uso do comando enumerate\n",
        "for i, atomo in enumerate(a):\n",
        "    print(f'O átomo {atomo} tem índice {i}')"
      ],
      "metadata": {
        "id": "CPf4y-1Fzh4I",
        "colab": {
          "base_uri": "https://localhost:8080/"
        },
        "outputId": "0d48af9f-5022-4c4b-f9c6-a931141ebb71"
      },
      "execution_count": null,
      "outputs": [
        {
          "output_type": "stream",
          "name": "stdout",
          "text": [
            "O átomo H tem índice 0\n",
            "O átomo C tem índice 1\n",
            "O átomo O tem índice 2\n"
          ]
        }
      ]
    },
    {
      "cell_type": "code",
      "source": [
        "z = [1, 6, 8]                     # lista de números atômicos. Exemplo do uso do comando zip\n",
        "for atomo, num in zip(a, z):\n",
        "    print(f'Átomo {atomo} tem número atômico {num}')"
      ],
      "metadata": {
        "id": "J9FjEDSI0nf9",
        "colab": {
          "base_uri": "https://localhost:8080/"
        },
        "outputId": "d1f28fe8-bbde-482b-a036-1b837d3c6bff"
      },
      "execution_count": null,
      "outputs": [
        {
          "output_type": "stream",
          "name": "stdout",
          "text": [
            "Átomo H tem número atômico 1\n",
            "Átomo C tem número atômico 6\n",
            "Átomo O tem número atômico 8\n"
          ]
        }
      ]
    },
    {
      "cell_type": "code",
      "source": [
        "info = []                                       # lista vazia\n",
        "for i, (atomo, num) in enumerate(zip(a, z)):\n",
        "    info.append([i, atomo, num])\n",
        "info     "
      ],
      "metadata": {
        "id": "2weMDBv80npx",
        "colab": {
          "base_uri": "https://localhost:8080/"
        },
        "outputId": "aa284aba-1b85-4a36-aa55-128c66d1073c"
      },
      "execution_count": null,
      "outputs": [
        {
          "output_type": "execute_result",
          "data": {
            "text/plain": [
              "[[0, 'H', 1], [1, 'C', 6], [2, 'O', 8]]"
            ]
          },
          "metadata": {},
          "execution_count": 143
        }
      ]
    },
    {
      "cell_type": "code",
      "source": [
        "import numpy as np\n",
        "a = np.empty((3,3))     # variável indexada 2D, forma 3 por 3\n",
        "for i in range(3):\n",
        "    for j in range(3):\n",
        "        a[i,j] = i + j\n",
        "a"
      ],
      "metadata": {
        "id": "Q4zlKWr10nvi",
        "colab": {
          "base_uri": "https://localhost:8080/"
        },
        "outputId": "3a34bd0d-dff8-4b24-92c6-5a3ea647288e"
      },
      "execution_count": null,
      "outputs": [
        {
          "output_type": "execute_result",
          "data": {
            "text/plain": [
              "array([[0., 1., 2.],\n",
              "       [1., 2., 3.],\n",
              "       [2., 3., 4.]])"
            ]
          },
          "metadata": {},
          "execution_count": 144
        }
      ]
    },
    {
      "cell_type": "code",
      "source": [
        "a.shape                           # quantas linhas e colunas?"
      ],
      "metadata": {
        "id": "hlxfhbV90n2x",
        "colab": {
          "base_uri": "https://localhost:8080/",
          "height": 37
        },
        "outputId": "b6defdeb-3384-4737-abff-d7162d98cc1b"
      },
      "execution_count": null,
      "outputs": [
        {
          "output_type": "execute_result",
          "data": {
            "text/plain": [
              "(3, 3)"
            ],
            "image/png": "[encoded data removed]",
            "text/latex": "$\\displaystyle \\left( 3, \\  3\\right)$"
          },
          "metadata": {},
          "execution_count": 145
        }
      ]
    },
    {
      "cell_type": "markdown",
      "source": [
        "---\n",
        "\n",
        "**Sintaxe**\n",
        "\n",
        "- Bloco ***while***\n",
        "\n",
        "```shell\n",
        "while <condição>:\n",
        "  # Bloco de comandos a ser executado\n",
        "```\n",
        "\n",
        "onde\n",
        "\n",
        "-- *condição* é uma expressão que pode ser reduzida à *True* ou *False*."
      ],
      "metadata": {
        "id": "ChBfeqbnMUe_"
      }
    },
    {
      "cell_type": "code",
      "source": [
        "contador = 0                           # valor inicial de 'a'\n",
        "while contador < 10:                      # condição do laço\n",
        "    print(contador)                   # mostre o valor de 'a'\n",
        "    contador += 1             # incremente 'a' em uma unidade"
      ],
      "metadata": {
        "id": "_MHp4I5Z0n76",
        "colab": {
          "base_uri": "https://localhost:8080/"
        },
        "outputId": "df18b4a9-2381-4f3c-b2b7-22ab3e1b0ae3"
      },
      "execution_count": null,
      "outputs": [
        {
          "output_type": "stream",
          "name": "stdout",
          "text": [
            "0\n",
            "1\n",
            "2\n",
            "3\n",
            "4\n",
            "5\n",
            "6\n",
            "7\n",
            "8\n",
            "9\n"
          ]
        }
      ]
    },
    {
      "cell_type": "code",
      "source": [
        "erro = 100                 # valor inicial arbitrário do erro\n",
        "while erro > 1:                  # erro máximo admissível = 1\n",
        "    print(erro)                         # mostre o erro atual\n",
        "    erro /= 4                   # erro novo = erro antigo / 4"
      ],
      "metadata": {
        "id": "POiMJoRS0oBt",
        "colab": {
          "base_uri": "https://localhost:8080/"
        },
        "outputId": "e79e7864-466c-458b-b31d-f1f0335d1de0"
      },
      "execution_count": null,
      "outputs": [
        {
          "output_type": "stream",
          "name": "stdout",
          "text": [
            "100\n",
            "25.0\n",
            "6.25\n",
            "1.5625\n"
          ]
        }
      ]
    },
    {
      "cell_type": "code",
      "source": [
        "# Titulação de ácido forte com base forte\n",
        "\n",
        "import numpy as np\n",
        "c_hcl, c_naoh = 0.1, 0.2        # [HCl]0 e [NaOH]0, em mol/L\n",
        "vol_hcl, vol_naoh = 0.03, 0.0       # volumes iniciais, em L\n",
        "gota = 0.00005                    # volume de uma gota, em L\n",
        "n_hcl = c_hcl * vol_hcl         # n mols de HCl (bureta)\n",
        "n_naoh = c_naoh * vol_naoh     # n mols de NaOH (erlenmeyer)\n",
        "vol_tot = vol_hcl               # volume total na bureta\n",
        "pH = -np.log10((n_hcl - n_naoh) / vol_tot)      # pH inicial\n",
        "\n",
        "print(\"pH inicial = \",pH)\n",
        "\n",
        "icont = 0\n",
        "while pH < 7.0:                   # pare no ponto de viragem\n",
        "    icont += 1\n",
        "    vol_naoh += gota             # adicione uma gota de NaOH\n",
        "    vol_tot += gota                       # atualize vol_tot    \n",
        "    n_naoh = c_naoh * vol_naoh    # mols adicionados de NaOH\n",
        "    pH = -np.log10((n_hcl - n_naoh) / vol_tot)          # pH    \n",
        "\n",
        "print()\n",
        "print(\"Volume de NaOH em mL = \",vol_naoh * 1000.) # volume de NaOH gasto, em mL"
      ],
      "metadata": {
        "colab": {
          "base_uri": "https://localhost:8080/"
        },
        "id": "ZNkWmKjUziAj",
        "outputId": "fe6ef316-ec5e-4bb5-fd54-34f31c72b6f8"
      },
      "execution_count": null,
      "outputs": [
        {
          "output_type": "stream",
          "name": "stdout",
          "text": [
            "pH inicial =  1.0\n",
            "\n",
            "Volume de NaOH em mL =  14.999999999999938\n"
          ]
        }
      ]
    },
    {
      "cell_type": "code",
      "source": [
        "# Gerando pontos da curva de titulação\n",
        "import numpy as np\n",
        "\n",
        "c_hcl, c_naoh = 0.1, 0.2              # [HCl]0 e [NaOH], em mol/L\n",
        "vol_hcl, vol_naoh = 0.03, 0              # volumes iniciais, em L\n",
        "gota = 0.00005                         # volume de uma gota, em L\n",
        "n_hcl = round(c_hcl * vol_hcl, 6)    # n mols de HCl (erlenmeyer)\n",
        "n_naoh = c_naoh * vol_naoh          # n mols de NaOH (erlenmeyer)\n",
        "vol_tot = vol_hcl                    # volume total no erlenmeyer\n",
        "\n",
        "pH = -np.log10((n_hcl - n_naoh) / vol_tot)           # pH inicial\n",
        "resultado = []   # lista para colocar resultados de cada iteração\n",
        "while pH < 12.7:                       \n",
        "    vol_naoh += gota                  # adicione uma gota de NaOH\n",
        "    vol_tot += gota              # atualize vol_tot no Erlenmeyer    \n",
        "    n_naoh = round(c_naoh * vol_naoh, 6)           # mols de NaOH\n",
        "    if n_hcl > n_naoh:                # antes do ponto de viragem\n",
        "        pH = -np.log10((n_hcl - n_naoh) / vol_tot)           \n",
        "    elif n_hcl == n_naoh:                      # ponto de viragem\n",
        "        pH = 7\n",
        "    else:                            # depois do ponto de viragem\n",
        "        pOH = -np.log10((n_naoh - n_hcl) / vol_tot)\n",
        "        pH = 14 - pOH\n",
        "\n",
        "    resultado.append([vol_naoh, pH])         # salve as variáveis\n",
        "\n",
        "print(resultado) # esses pontos podem ser salvos em arquivos e/ou plotados em gráficos"
      ],
      "metadata": {
        "id": "QfZYTHNS2c_y",
        "colab": {
          "base_uri": "https://localhost:8080/"
        },
        "outputId": "038d3ad3-002c-4a73-b3ef-885a765df442"
      },
      "execution_count": null,
      "outputs": [
        {
          "output_type": "stream",
          "name": "stdout",
          "text": [
            "[[5e-05, 1.0021732880143286], [0.0001, 1.004350231517588], [0.00015000000000000001, 1.0065308671589577], [0.0002, 1.0087152318982122], [0.00025, 1.0109033630103248], [0.00030000000000000003, 1.0130952980901478], [0.00035000000000000005, 1.015291075057167], [0.0004000000000000001, 1.0174907321603355], [0.0004500000000000001, 1.019694307982987], [0.0005000000000000001, 1.0219018414478298], [0.0005500000000000001, 1.0241133718220254], [0.0006000000000000002, 1.0263289387223493], [0.0006500000000000002, 1.0285485821204419], [0.0007000000000000002, 1.0307723423481436], [0.0007500000000000002, 1.0330002601029256], [0.0008000000000000003, 1.0352323764534068], [0.0008500000000000003, 1.0374687328449705], [0.0009000000000000003, 1.039709371105474], [0.0009500000000000003, 1.0419543334510573], [0.0010000000000000002, 1.0442036624920539], [0.0010500000000000002, 1.0464574012390018], [0.0011, 1.0487155931087617], [0.00115, 1.0509782819307403], [0.0012, 1.0532455119532256], [0.0012499999999999998, 1.0555173278498318], [0.0012999999999999997, 1.057793774726061], [0.0013499999999999996, 1.0600748981259798], [0.0013999999999999996, 1.0623607440390168], [0.0014499999999999995, 1.0646513589068825], [0.0014999999999999994, 1.0669467896306137], [0.0015499999999999993, 1.0692470835777457], [0.0015999999999999992, 1.0715522885896156], [0.0016499999999999991, 1.0738624529887992], [0.001699999999999999, 1.076177625586685], [0.001749999999999999, 1.0784978556911873], [0.0017999999999999989, 1.0808231931146022], [0.0018499999999999988, 1.083153688181612], [0.0018999999999999987, 1.0854893917374364], [0.0019499999999999986, 1.0878303551561388], [0.0019999999999999987, 1.0901766303490887], [0.002049999999999999, 1.0925282697735852], [0.002099999999999999, 1.0948853264416427], [0.002149999999999999, 1.0972478539289472], [0.0021999999999999993, 1.099615906383982], [0.0022499999999999994, 1.1019895385373322], [0.0022999999999999995, 1.1043688057111656], [0.0023499999999999997, 1.1067537638289022], [0.0024, 1.109144469425069], [0.00245, 1.1115409796553508], [0.0025, 1.1139433523068376], [0.00255, 1.1163516458084755], [0.0026000000000000003, 1.1187659192417239], [0.0026500000000000004, 1.121186232351428], [0.0027000000000000006, 1.123612645556908], [0.0027500000000000007, 1.1260452199632704], [0.002800000000000001, 1.1284840173729507], [0.002850000000000001, 1.1309291002974884], [0.002900000000000001, 1.133380531969544], [0.0029500000000000012, 1.1358383763551614], [0.0030000000000000014, 1.1383026981662825], [0.0030500000000000015, 1.1407735628735225], [0.0031000000000000016, 1.143251036719208], [0.0031500000000000018, 1.1457351867306893], [0.003200000000000002, 1.1482260807339308], [0.003250000000000002, 1.1507237873673883], [0.003300000000000002, 1.1532283760961781], [0.0033500000000000023, 1.15573991722655], [0.0034000000000000024, 1.158258481920666], [0.0034500000000000025, 1.160784142211699], [0.0035000000000000027, 1.1633169710192537], [0.003550000000000003, 1.1658570421651242], [0.003600000000000003, 1.1684044303893917], [0.003650000000000003, 1.1709592113668743], [0.003700000000000003, 1.1735214617239391], [0.0037500000000000033, 1.1760912590556827], [0.0038000000000000035, 1.1786686819434933], [0.0038500000000000036, 1.1812538099730037], [0.0039000000000000037, 1.183846723752445], [0.003950000000000004, 1.1864475049314112], [0.0040000000000000036, 1.1890562362200503], [0.004050000000000003, 1.1916730014086871], [0.004100000000000003, 1.1942978853878943], [0.004150000000000003, 1.1969309741690233], [0.004200000000000002, 1.1995723549052055], [0.004250000000000002, 1.2022221159128406], [0.004300000000000002, 1.2048803466935811], [0.0043500000000000014, 1.207547137956833], [0.004400000000000001, 1.2102225816427803], [0.004450000000000001, 1.2129067709459536], [0.0045000000000000005, 1.2155998003393564], [0.00455, 1.2183017655991648], [0.0046, 1.2210127638300166], [0.00465, 1.2237328934909095], [0.004699999999999999, 1.2264622544217219], [0.004749999999999999, 1.22920094787038], [0.004799999999999999, 1.2319490765206838], [0.004849999999999998, 1.234706744520817], [0.004899999999999998, 1.2374740575125578], [0.004949999999999998, 1.240251122661213], [0.0049999999999999975, 1.2430380486862962], [0.005049999999999997, 1.2458349458929725], [0.005099999999999997, 1.2486419262042947], [0.005149999999999997, 1.2514591031942517], [0.005199999999999996, 1.2542865921216568], [0.005249999999999996, 1.2571245099649013], [0.005299999999999996, 1.2599729754575983], [0.005349999999999995, 1.2628321091251462], [0.005399999999999995, 1.26570203332224], [0.005449999999999995, 1.2685828722713597], [0.0054999999999999945, 1.2714747521022671], [0.005549999999999994, 1.2743778008925428], [0.005599999999999994, 1.2772921487091973], [0.005649999999999994, 1.2802179276513872], [0.005699999999999993, 1.283155271894279], [0.005749999999999993, 1.2861043177340876], [0.005799999999999993, 1.28906520363434], [0.005849999999999992, 1.2920380702733916], [0.005899999999999992, 1.2950230605932465], [0.005949999999999992, 1.2980203198497189], [0.0059999999999999915, 1.3010299956639833], [0.006049999999999991, 1.3040522380755566], [0.006099999999999991, 1.307087199596766], [0.0061499999999999905, 1.310135035268745], [0.00619999999999999, 1.313195902719018], [0.00624999999999999, 1.3162699622207201], [0.00629999999999999, 1.319357376753515], [0.006349999999999989, 1.3224583120662634], [0.006399999999999989, 1.3255729367415092], [0.006449999999999989, 1.3287014222618416], [0.006499999999999988, 1.331843943078203], [0.006549999999999988, 1.3350006766802078], [0.006599999999999988, 1.33817180366855], [0.0066499999999999875, 1.3413575078295656], [0.006699999999999987, 1.3445579762120365], [0.006749999999999987, 1.3477733992063097], [0.006799999999999987, 1.3510039706258221], [0.006849999999999986, 1.3542498877911147], [0.006899999999999986, 1.3575113516164317], [0.006949999999999986, 1.3607885666989972], [0.006999999999999985, 1.3640817414110726], [0.007049999999999985, 1.3673910879948978], [0.007099999999999985, 1.3707168226606257], [0.0071499999999999845, 1.3740591656873629], [0.007199999999999984, 1.3774183415274384], [0.007249999999999984, 1.3807945789140226], [0.007299999999999984, 1.384188110972227], [0.007349999999999983, 1.3875991753338213], [0.007399999999999983, 1.39102801425571], [0.007449999999999983, 1.3944748747423183], [0.007499999999999982, 1.3979400086720402], [0.007549999999999982, 1.4014236729279157], [0.007599999999999982, 1.4049261295327062], [0.0076499999999999815, 1.4084476457885458], [0.007699999999999981, 1.4119884944213583], [0.007749999999999981, 1.4155489537302346], [0.0077999999999999806, 1.4191293077419782], [0.00784999999999998, 1.4227298463710323], [0.00789999999999998, 1.4263508655850186], [0.00794999999999998, 1.4299926675761219], [0.00799999999999998, 1.4336555609385746], [0.008049999999999979, 1.4373398608524992], [0.008099999999999979, 1.4410458892743854], [0.008149999999999978, 1.444773975134495], [0.008199999999999978, 1.4485244545414937], [0.008249999999999978, 1.452297670994633], [0.008299999999999978, 1.4560939756038178], [0.008349999999999977, 1.4599137273179168], [0.008399999999999977, 1.4637572931616836], [0.008449999999999977, 1.4676250484816884], [0.008499999999999976, 1.4715173772016668], [0.008549999999999976, 1.4754346720877294], [0.008599999999999976, 1.4793773350238892], [0.008649999999999975, 1.4833457772983896], [0.008699999999999975, 1.4873404199013511], [0.008749999999999975, 1.4913616938342755], [0.008799999999999975, 1.495410040431975], [0.008849999999999974, 1.4994859116975379], [0.008899999999999974, 1.5035897706509624], [0.008949999999999974, 1.507722091692136], [0.008999999999999973, 1.511883360978877], [0.009049999999999973, 1.5160740768207912], [0.009099999999999973, 1.5202947500897444], [0.009149999999999972, 1.5245459046478034], [0.009199999999999972, 1.5288280777935417], [0.009249999999999972, 1.5331418207276626], [0.009299999999999971, 1.537487699038957], [0.009349999999999971, 1.5418662932116665], [0.009399999999999971, 1.5462781991553953], [0.00944999999999997, 1.5507240287587847], [0.00949999999999997, 1.555204410468238], [0.00954999999999997, 1.5597199898930747], [0.00959999999999997, 1.5642714304385656], [0.00964999999999997, 1.568859413968416], [0.009699999999999969, 1.5734846414983479], [0.009749999999999969, 1.5781478339225539], [0.009799999999999968, 1.5828497327749105], [0.009849999999999968, 1.587591101026962], [0.009899999999999968, 1.5923727239248338], [0.009949999999999968, 1.5971954098673706], [0.009999999999999967, 1.6020599913279656], [0.010049999999999967, 1.6069673258227097], [0.010099999999999967, 1.6119182969276906], [0.010149999999999966, 1.6169138153484581], [0.010199999999999966, 1.621954820044905], [0.010249999999999966, 1.6270422794150428], [0.010299999999999965, 1.632177192541414], [0.010349999999999965, 1.637360590504157], [0.010399999999999965, 1.6425935377650527], [0.010449999999999965, 1.6478771336272007], [0.010499999999999964, 1.6532125137753468], [0.010549999999999964, 1.658600851902265], [0.010599999999999964, 1.6640433614270287], [0.010649999999999963, 1.6695412973114716], [0.010699999999999963, 1.6750959579816556], [0.010749999999999963, 1.6807086873617059], [0.010799999999999962, 1.6863808770280015], [0.010849999999999962, 1.6921139684923636], [0.010899999999999962, 1.6979094556236285], [0.010949999999999962, 1.703768887217791], [0.010999999999999961, 1.7096938697277952], [0.011049999999999961, 1.7156860701650216], [0.01109999999999996, 1.7217472191855923], [0.01114999999999996, 1.72787911437581], [0.01119999999999996, 1.7340836237523465], [0.01124999999999996, 1.740362689494247], [0.01129999999999996, 1.746718331925428], [0.011349999999999959, 1.7531526537681128], [0.011399999999999959, 1.7596678446896337], [0.011449999999999958, 1.7662661861672204], [0.011499999999999958, 1.7729500566978393], [0.011549999999999958, 1.7797219373828779], [0.011599999999999958, 1.7865844179205097], [0.011649999999999957, 1.7935402030419834], [0.011699999999999957, 1.8005921194318923], [0.011749999999999957, 1.8077431231767689], [0.011799999999999956, 1.8149963077911515], [0.011849999999999956, 1.8223549128757006], [0.011899999999999956, 1.829822333468045], [0.011949999999999955, 1.8374021301539556], [0.011999999999999955, 1.8450980400142603], [0.012049999999999955, 1.8529139884917902], [0.012099999999999955, 1.8608541022727345], [0.012149999999999954, 1.8689227232882732], [0.012199999999999954, 1.877124423955477], [0.012249999999999954, 1.8854640237914708], [0.012299999999999953, 1.8939466075520772], [0.012349999999999953, 1.9025775450659403], [0.012399999999999953, 1.911362512957937], [0.012449999999999952, 1.9203075184820388], [0.012499999999999952, 1.9294189257142964], [0.012549999999999952, 1.9387034843920967], [0.012599999999999952, 1.9481683617271355], [0.012649999999999951, 1.957821177567828], [0.012699999999999951, 1.9676700433434535], [0.01274999999999995, 1.9777236052888516], [0.01279999999999995, 1.9879910925269884], [0.01284999999999995, 1.998482370679634], [0.01289999999999995, 2.0092080017868272], [0.01294999999999995, 2.0201793114475293], [0.012999999999999949, 2.0314084642516277], [0.013049999999999949, 2.0429085487631777], [0.013099999999999948, 2.054693673543925], [0.013149999999999948, 2.066779075984237], [0.013199999999999948, 2.0791812460476287], [0.013249999999999948, 2.0919180674505613], [0.013299999999999947, 2.105008979311114], [0.013349999999999947, 2.1184751619343456], [0.013399999999999947, 2.1323397511926085], [0.013449999999999946, 2.1466280869504164], [0.013499999999999946, 2.161368002234979], [0.013549999999999946, 2.17659016144473], [0.013599999999999945, 2.192328457926371], [0.013649999999999945, 2.2086204838826045], [0.013699999999999945, 2.2255080889996073], [0.013749999999999945, 2.243038048686298], [0.013799999999999944, 2.261262868792497], [0.013849999999999944, 2.28024176168447], [0.013899999999999944, 2.3000418394199187], [0.013949999999999943, 2.320739584675875], [0.013999999999999943, 2.34242268082221], [0.014049999999999943, 2.3651923117952416], [0.014099999999999942, 2.389166084364536], [0.014149999999999942, 2.414481786535317], [0.014199999999999942, 2.4413022866931713], [0.014249999999999942, 2.469822015978167], [0.014299999999999941, 2.500275690544836], [0.014349999999999941, 2.532950271860913], [0.01439999999999994, 2.5682017240669994], [0.01444999999999994, 2.606479080148012], [0.01449999999999994, 2.6483600109809347], [0.01454999999999994, 2.6946051989335715], [0.01459999999999994, 2.7462448717202013], [0.014649999999999939, 2.8047234232103113], [0.014699999999999939, 2.872156272748296], [0.014749999999999939, 2.951823035315915], [0.014799999999999938, 3.0492180226701846], [0.014849999999999938, 3.1746411926604514], [0.014899999999999938, 3.351216345339345], [0.014949999999999937, 3.6527296960692506], [0.014999999999999937, 7], [0.015049999999999937, 10.346305204684915], [0.015099999999999936, 10.646853453786019], [0.015149999999999936, 10.822463500070135], [0.015199999999999936, 10.946921556516578], [0.015249999999999935, 11.043351420794794], [0.015299999999999935, 11.122053048370805], [0.015349999999999935, 11.188520748618137], [0.015399999999999935, 11.246034134134835], [0.015449999999999934, 11.296708621881333], [0.015499999999999934, 11.341988603342882], [0.015549999999999934, 11.382904303849203], [0.015599999999999933, 11.420216403383185], [0.015649999999999935, 11.454502570436514], [0.015699999999999936, 11.486211835608383], [0.015749999999999938, 11.51570016065321], [0.01579999999999994, 11.543254504652051], [0.01584999999999994, 11.56910958137223], [0.015899999999999942, 11.593459819566041], [0.015949999999999943, 11.616468085230695], [0.015999999999999945, 11.638272163982403], [0.016049999999999946, 11.658989660201048], [0.016099999999999948, 11.678721755432555], [0.01614999999999995, 11.697556130655657], [0.01619999999999995, 11.715569266155477], [0.016249999999999952, 11.732828271596981], [0.016299999999999953, 11.74939235695286], [0.016349999999999955, 11.765314025678467], [0.016399999999999956, 11.780640050787333], [0.016449999999999958, 11.795412279569291], [0.01649999999999996, 11.809668301829705], [0.01654999999999996, 11.823442008516906], [0.016599999999999962, 11.836764061629902], [0.016649999999999963, 11.849662291795365], [0.016699999999999965, 11.862162036476139], [0.016749999999999966, 11.874286429141735], [0.016799999999999968, 11.88605664769316], [0.01684999999999997, 11.897492128843194], [0.01689999999999997, 11.908610753901723], [0.016949999999999972, 11.919429010424365], [0.016999999999999973, 11.929962133392241], [0.017049999999999975, 11.940224228956454], [0.017099999999999976, 11.950228383269], [0.017149999999999978, 11.959986758506234], [0.01719999999999998, 11.969510677852096], [0.01724999999999998, 11.978810700930058], [0.017299999999999982, 11.987896690943758], [0.017349999999999983, 11.996777874596422], [0.017399999999999985, 12.005462895701498], [0.017449999999999986, 12.013959863265198], [0.017499999999999988, 12.022276394711147], [0.01754999999999999, 12.030419654824499], [0.01759999999999999, 12.0383963909143], [0.017649999999999992, 12.04621296462644], [0.017699999999999994, 12.05387538078285], [0.017749999999999995, 12.061389313574473], [0.017799999999999996, 12.068760130394077], [0.017849999999999998, 12.075992913559624], [0.0179, 12.08309248014837], [0.01795, 12.090063400135456], [0.018000000000000002, 12.096910013008051], [0.018050000000000004, 12.103636443006199], [0.018100000000000005, 12.110246613124417], [0.018150000000000006, 12.116744257993023], [0.018200000000000008, 12.123132935745033], [0.01825000000000001, 12.12941603896304], [0.01830000000000001, 12.135596804790351], [0.018350000000000012, 12.141678324281802], [0.018400000000000014, 12.14766355106182], [0.018450000000000015, 12.153555309350466], [0.018500000000000016, 12.15935630141199], [0.018550000000000018, 12.165069114475047], [0.01860000000000002, 12.170696227168971], [0.01865000000000002, 12.17624001551608], [0.018700000000000022, 12.181702758516337], [0.018750000000000024, 12.187086643357139], [0.018800000000000025, 12.192393770278075], [0.018850000000000026, 12.197626157117686], [0.018900000000000028, 12.202785743566855], [0.01895000000000003, 12.20787439515128], [0.01900000000000003, 12.212893906963425], [0.019050000000000032, 12.217846007162677], [0.019100000000000034, 12.222732360260743], [0.019150000000000035, 12.227554570207914], [0.019200000000000036, 12.232314183294516], [0.019250000000000038, 12.237012690880658], [0.01930000000000004, 12.241651531966333], [0.01935000000000004, 12.246232095612958], [0.019400000000000042, 12.250755723226517], [0.019450000000000044, 12.255223710711709], [0.019500000000000045, 12.25963731050575], [0.019550000000000047, 12.263997733499794], [0.019600000000000048, 12.268306150855352], [0.01965000000000005, 12.27256369572253], [0.01970000000000005, 12.27677146486636], [0.019750000000000052, 12.280930520207098], [0.019800000000000054, 12.285041890279846], [0.019850000000000055, 12.289106571618564], [0.019900000000000057, 12.2931255300691], [0.019950000000000058, 12.297099702035544], [0.02000000000000006, 12.301029995663976], [0.02005000000000006, 12.3049172919673], [0.020100000000000062, 12.308762445894667], [0.020150000000000064, 12.31256628734873], [0.020200000000000065, 12.316329622153756], [0.020250000000000067, 12.320053232977406], [0.020300000000000068, 12.323737880208839], [0.02035000000000007, 12.327384302795569], [0.02040000000000007, 12.330993219041419], [0.020450000000000072, 12.33456532736769], [0.020500000000000074, 12.338101307039558], [0.020550000000000075, 12.341601818859633], [0.020600000000000077, 12.345067505830377], [0.020650000000000078, 12.348498993787116], [0.02070000000000008, 12.351896892003131], [0.02075000000000008, 12.355261793768356], [0.020800000000000082, 12.358594276942995], [0.020850000000000084, 12.361894904487393], [0.020900000000000085, 12.365164224969362], [0.020950000000000087, 12.36840277305008], [0.021000000000000088, 12.371611069949683], [0.02105000000000009, 12.374789623893516], [0.02110000000000009, 12.37793893054003], [0.021150000000000092, 12.381059473391215], [0.021200000000000094, 12.384151724186399], [0.021250000000000095, 12.38721614328026], [0.021300000000000097, 12.390253180005741], [0.021350000000000098, 12.393263273022654], [0.0214000000000001, 12.396246850652588], [0.0214500000000001, 12.399204331200792], [0.021500000000000102, 12.40213612326564], [0.021550000000000104, 12.405042626036224], [0.021600000000000105, 12.407924229578633], [0.021650000000000107, 12.410781315111441], [0.021700000000000108, 12.41361425527086], [0.02175000000000011, 12.416423414366045], [0.02180000000000011, 12.41920914862498], [0.021850000000000112, 12.421971806431342], [0.021900000000000114, 12.424711728552774], [0.021950000000000115, 12.427429248360893], [0.022000000000000117, 12.430124692043433], [0.022050000000000118, 12.432798378808819], [0.02210000000000012, 12.435450621083527], [0.02215000000000012, 12.438081724702506], [0.022200000000000122, 12.440691989092983], [0.022250000000000124, 12.443281707451877], [0.022300000000000125, 12.445851166917159], [0.022350000000000127, 12.44840064873331], [0.022400000000000128, 12.450930428411226], [0.02245000000000013, 12.453440775882692], [0.02250000000000013, 12.455931955649719], [0.022550000000000132, 12.458404226928902], [0.022600000000000134, 12.460857843791029], [0.022650000000000135, 12.463293055296088], [0.022700000000000137, 12.465710105623911], [0.022750000000000138, 12.468109234200556], [0.02280000000000014, 12.470490675820644], [0.02285000000000014, 12.472854660765783], [0.022900000000000142, 12.475201414919232], [0.022950000000000144, 12.477531159876943], [0.023000000000000145, 12.47984411305513], [0.023050000000000147, 12.482140487794485], [0.023100000000000148, 12.484420493461156], [0.02315000000000015, 12.486684335544636], [0.02320000000000015, 12.488932215752644], [0.023250000000000152, 12.491164332103125], [0.023300000000000154, 12.493380879013477], [0.023350000000000155, 12.495582047387089], [0.023400000000000157, 12.4977680246973], [0.023450000000000158, 12.49993899506887], [0.02350000000000016, 12.50209513935704], [0.02355000000000016, 12.504236635224274], [0.023600000000000163, 12.506363657214774], [0.023650000000000164, 12.50847637682682], [0.023700000000000165, 12.51057496258304], [0.023750000000000167, 12.512659580098646], [0.023800000000000168, 12.514730392147754], [0.02385000000000017, 12.5167875587278], [0.02390000000000017, 12.51883123712215], [0.023950000000000173, 12.520861581960958], [0.024000000000000174, 12.522878745280332], [0.024050000000000175, 12.52488287657985], [0.024100000000000177, 12.5268741228785], [0.02415000000000018, 12.528852628769085], [0.02420000000000018, 12.530818536471145], [0.02425000000000018, 12.532771985882441], [0.024300000000000183, 12.534713114629064], [0.024350000000000184, 12.53664205811418], [0.024400000000000185, 12.538558949565495], [0.024450000000000187, 12.540463920081445], [0.02450000000000019, 12.542357098676181], [0.02455000000000019, 12.544238612323362], [0.02460000000000019, 12.546108585998807], [0.024650000000000193, 12.547967142722047], [0.024700000000000194, 12.54981440359679], [0.024750000000000195, 12.551650487850356], [0.024800000000000197, 12.553475512872101], [0.0248500000000002, 12.555289594250857], [0.0249000000000002, 12.557092845811434], [0.0249500000000002, 12.558885379650192], [0.025000000000000203, 12.560667306169732], [0.025050000000000204, 12.562438734112712], [0.025100000000000205, 12.564199770594833], [0.025150000000000207, 12.565950521136998], [0.02520000000000021, 12.567691089696694], [0.02525000000000021, 12.5694215786986], [0.02530000000000021, 12.57114208906445], [0.025350000000000213, 12.572852720242171], [0.025400000000000214, 12.574553570234325], [0.025450000000000216, 12.576244735625869], [0.025500000000000217, 12.577926311611238], [0.02555000000000022, 12.5795983920208], [0.02560000000000022, 12.581261069346688], [0.02565000000000022, 12.582914434768005], [0.025700000000000223, 12.584558578175455], [0.025750000000000224, 12.586193588195401], [0.025800000000000226, 12.587819552213347], [0.025850000000000227, 12.589436556396896], [0.02590000000000023, 12.591044685718176], [0.02595000000000023, 12.592644023975744], [0.02600000000000023, 12.594234653816], [0.026050000000000233, 12.595816656754113], [0.026100000000000234, 12.597390113194471], [0.026150000000000236, 12.598955102450677], [0.026200000000000237, 12.600511702765097], [0.02625000000000024, 12.602059991327957], [0.02630000000000024, 12.603600044296048], [0.02635000000000024, 12.605131936810992], [0.026400000000000243, 12.606655743017106], [0.026450000000000244, 12.608171536078896], [0.026500000000000246, 12.609679388198149], [0.026550000000000247, 12.611179370630664], [0.02660000000000025, 12.612671553702622], [0.02665000000000025, 12.614156006826597], [0.02670000000000025, 12.61563279851723], [0.026750000000000253, 12.61710199640657], [0.026800000000000254, 12.618563667259082], [0.026850000000000256, 12.620017876986344], [0.026900000000000257, 12.621464690661435], [0.02695000000000026, 12.622904172533012], [0.02700000000000026, 12.624336386039108], [0.02705000000000026, 12.625761393820628], [0.027100000000000263, 12.627179257734577], [0.027150000000000264, 12.628590038867006], [0.027200000000000266, 12.6299937975457], [0.027250000000000267, 12.6313905933526], [0.02730000000000027, 12.632780485135983], [0.02735000000000027, 12.634163531022374], [0.02740000000000027, 12.635539788428236], [0.027450000000000273, 12.636909314071426], [0.027500000000000274, 12.638272163982402], [0.027550000000000276, 12.639628393515222], [0.027600000000000277, 12.640978057358327], [0.02765000000000028, 12.642321209545095], [0.02770000000000028, 12.6436579034642], [0.02775000000000028, 12.644988191869768], [0.027800000000000283, 12.646312126891315], [0.027850000000000284, 12.64762976004352], [0.027900000000000286, 12.648941142235788], [0.027950000000000287, 12.65024632378163], [0.02800000000000029, 12.651545354407874], [0.02805000000000029, 12.652838283263682], [0.02810000000000029, 12.654125158929409], [0.028150000000000293, 12.655406029425285], [0.028200000000000294, 12.656680942219936], [0.028250000000000296, 12.657949944238744], [0.028300000000000297, 12.659213081872046], [0.0283500000000003, 12.66047040098318], [0.0284000000000003, 12.661721946916384], [0.0284500000000003, 12.662967764504543], [0.028500000000000303, 12.6642078980768], [0.028550000000000304, 12.665442391466017], [0.028600000000000306, 12.666671288016103], [0.028650000000000307, 12.667894630589203], [0.02870000000000031, 12.669112461572768], [0.02875000000000031, 12.670324822886483], [0.02880000000000031, 12.671531755989074], [0.028850000000000313, 12.672733301884989], [0.028900000000000314, 12.673929501130969], [0.028950000000000316, 12.675120393842484], [0.029000000000000317, 12.67630601970007], [0.02905000000000032, 12.67748641795554], [0.02910000000000032, 12.6786616274381], [0.02915000000000032, 12.679831686560334], [0.029200000000000323, 12.680996633324112], [0.029250000000000324, 12.682156505326363], [0.029300000000000326, 12.683311339764774], [0.029350000000000327, 12.684461173443376], [0.02940000000000033, 12.685606042778032], [0.02945000000000033, 12.686745983801831], [0.02950000000000033, 12.6878810321704], [0.029550000000000333, 12.689011223167105], [0.029600000000000334, 12.690136591708175], [0.029650000000000336, 12.691257172347743], [0.029700000000000337, 12.692372999282782], [0.02975000000000034, 12.693484106357982], [0.02980000000000034, 12.694590527070522], [0.02985000000000034, 12.695692294574776], [0.029900000000000343, 12.696789441686938], [0.029950000000000344, 12.697882000889557], [0.030000000000000346, 12.698970004336012], [0.030050000000000347, 12.700053483854912]]\n"
          ]
        }
      ]
    },
    {
      "cell_type": "code",
      "source": [],
      "metadata": {
        "id": "qRLA1ByK1A1K"
      },
      "execution_count": null,
      "outputs": []
    },
    {
      "cell_type": "markdown",
      "source": [
        "---\n",
        "# **7. Funções**\n",
        "\n",
        "Essa estrutura de programação serve para compartimentar seu código.\n",
        "\n",
        "Digamos que uma operação ou procedimento do seu código é composta de várias linhas de execução e ela é usada várias vezes durante seu programa. Essa é uma boa candidata a ser colocada como uma função. \n",
        "\n",
        "O uso de Python é muito baseado na chamada de bibliotecas e utilização das funções internas que estão disponíveis para serem usadas. Porém, pode existir o caso de um determinado procedimento não se encontrar em biblioteca alguma. Esse é outro caso em que construir suas próprias funções vai servir para você alcançar o que deseja. \n",
        "\n",
        "**Sintaxe**\n",
        "\n",
        "```python\n",
        "def nome_da_função(<lista de argumentos>):\n",
        "    Bloco de código\n",
        "    return <saida(s)_da_função> \n",
        "\n",
        "```\n",
        "\n",
        "**OBS:** A sintaxe de funções exige que os comandos a serem executados estejam abaixo da estrutura mostrada e **IDENTADOS** com a tecla **TAB**. \n",
        "\n",
        "Na maioria das IDEs, quando se digita a estrutura da função e encerra-se com a tecla **ENTER**, a identação é automática. Para se encerrar a função basta inserir uma linha em branco ou interromper a identação.\n",
        "\n",
        "Para chamar a função, basta invocá-la com seu nome contendo seus argumentos, caso existam. \n",
        "\n",
        "---\n",
        "\n",
        "**Fonte: Aprendendo Química com Python, Rodrigo Queiroz e Gerd Rocha, 2021, Amazon Book. <https://github.com/pythonchembook>**"
      ],
      "metadata": {
        "id": "OUq0BMDjO9Ms"
      }
    },
    {
      "cell_type": "code",
      "source": [
        "def some(a,b):                  # argumentos da função = a, b\n",
        "    return a + b         # a função retorna a+b como 'output'"
      ],
      "metadata": {
        "id": "2vqKoM5vzgbb"
      },
      "execution_count": null,
      "outputs": []
    },
    {
      "cell_type": "code",
      "source": [
        "some(3,2)                                  # quanto é 3 + 2 ?"
      ],
      "metadata": {
        "id": "Gp6FsexZ4U91",
        "colab": {
          "base_uri": "https://localhost:8080/",
          "height": 37
        },
        "outputId": "a0991ba6-09f1-434c-f618-4a515ff2f5af"
      },
      "execution_count": null,
      "outputs": [
        {
          "output_type": "execute_result",
          "data": {
            "text/plain": [
              "5"
            ],
            "image/png": "[encoded data removed]",
            "text/latex": "$\\displaystyle 5$"
          },
          "metadata": {},
          "execution_count": 153
        }
      ]
    },
    {
      "cell_type": "code",
      "source": [
        "r = some(10,135)              # jogue o 'output' na variável 'r'\n",
        "r"
      ],
      "metadata": {
        "id": "9bQWMZ-H4VOL",
        "colab": {
          "base_uri": "https://localhost:8080/",
          "height": 37
        },
        "outputId": "69162f02-462d-4638-ddf7-3e2fa54811db"
      },
      "execution_count": null,
      "outputs": [
        {
          "output_type": "execute_result",
          "data": {
            "text/plain": [
              "145"
            ],
            "image/png": "[encoded data removed]",
            "text/latex": "$\\displaystyle 145$"
          },
          "metadata": {},
          "execution_count": 157
        }
      ]
    },
    {
      "cell_type": "code",
      "source": [
        "def media(a,b):       # função para tirar a média entre a e b\n",
        "    s = some(a,b)    # 'some()' é chamada dentro de 'media()'\n",
        "    m = s / 2\n",
        "    return m               # a função retorna 'm' (= a média)"
      ],
      "metadata": {
        "id": "Me7YjMyJ4fGW"
      },
      "execution_count": null,
      "outputs": []
    },
    {
      "cell_type": "code",
      "source": [
        "media(10,20)"
      ],
      "metadata": {
        "id": "tWDsioZN4fPr",
        "colab": {
          "base_uri": "https://localhost:8080/",
          "height": 37
        },
        "outputId": "a24d6d8c-a952-4255-deec-de5b167406dd"
      },
      "execution_count": null,
      "outputs": [
        {
          "output_type": "execute_result",
          "data": {
            "text/plain": [
              "15.0"
            ],
            "image/png": "[encoded data removed]",
            "text/latex": "$\\displaystyle 15.0$"
          },
          "metadata": {},
          "execution_count": 159
        }
      ]
    },
    {
      "cell_type": "code",
      "source": [
        "def multi(a,b,c):                 # função para achar p1 e p2\n",
        "    p1 = (a + b + c)**2\n",
        "    p2 = media(a*b, b*c)\n",
        "    return p1, p2              # dois valores são retornados!"
      ],
      "metadata": {
        "id": "EkEI2b9n4fXb"
      },
      "execution_count": null,
      "outputs": []
    },
    {
      "cell_type": "code",
      "source": [
        "multi(2,3,5)"
      ],
      "metadata": {
        "id": "-2vqQ77o4fdb",
        "colab": {
          "base_uri": "https://localhost:8080/",
          "height": 37
        },
        "outputId": "326b4b08-8c82-40e5-b56d-0f289f38337b"
      },
      "execution_count": null,
      "outputs": [
        {
          "output_type": "execute_result",
          "data": {
            "text/plain": [
              "(100, 10.5)"
            ],
            "image/png": "[encoded data removed]",
            "text/latex": "$\\displaystyle \\left( 100, \\  10.5\\right)$"
          },
          "metadata": {},
          "execution_count": 161
        }
      ]
    },
    {
      "cell_type": "code",
      "source": [
        "# Equação de estado do gás ideal, pV = nRT\n",
        "def p(n,V,T):\n",
        "    # n(mols), V(m3), T(Kelvin), R = 8.314 J.mol-1.K-1\n",
        "    p_pa = n * 8.314 * T / V              # pressao em Pascal\n",
        "    p_atm = p_pa / 101325                    # pressao em atm\n",
        "    return round(p_pa, 2), round(p_atm, 2)"
      ],
      "metadata": {
        "id": "sVEDQtf8O_bY"
      },
      "execution_count": null,
      "outputs": []
    },
    {
      "cell_type": "code",
      "source": [
        "n, V, T = 1, 0.010, 298.15         # 1 mol, 0.01 m3, 298.15 K\n",
        "p(n, V, T)                 # pressão inicial em (Pascal, atm)"
      ],
      "metadata": {
        "id": "HWswtzJe4vbE",
        "colab": {
          "base_uri": "https://localhost:8080/",
          "height": 37
        },
        "outputId": "880abb84-1967-4660-d84b-92616621d873"
      },
      "execution_count": null,
      "outputs": [
        {
          "output_type": "execute_result",
          "data": {
            "text/plain": [
              "(247881.91, 2.45)"
            ],
            "image/png": "[encoded data removed]",
            "text/latex": "$\\displaystyle \\left( 247881.91, \\  2.45\\right)$"
          },
          "metadata": {},
          "execution_count": 163
        }
      ]
    },
    {
      "cell_type": "markdown",
      "source": [
        "### Tarefa: Monte uma função que usa a função do cálculo da pressão de um gás ideal para calcular isotermas de um gás ideal. "
      ],
      "metadata": {
        "id": "6tS-qvbQlM96"
      }
    },
    {
      "cell_type": "code",
      "source": [],
      "metadata": {
        "id": "dK1GaZyqldLg"
      },
      "execution_count": null,
      "outputs": []
    },
    {
      "cell_type": "markdown",
      "source": [
        "---\n",
        "# **8. Bibliotecas básicas do Python**\n",
        "\n",
        "---\n",
        "\n",
        "**Fonte: Aprendendo Química com Python, Rodrigo Queiroz e Gerd Rocha, 2021, Amazon Book. <https://github.com/pythonchembook>**"
      ],
      "metadata": {
        "id": "2Aji1BR85Y8d"
      }
    },
    {
      "cell_type": "markdown",
      "source": [
        "### **8.1 NumPy**\n",
        "\n",
        "- <https://numpy.org/>\n",
        "\n",
        "---\n",
        "\n",
        "**Fonte: Aprendendo Química com Python, Rodrigo Queiroz e Gerd Rocha, 2021, Amazon Book. <https://github.com/pythonchembook>**"
      ],
      "metadata": {
        "id": "VjOFzfX252Y7"
      }
    },
    {
      "cell_type": "code",
      "source": [
        "import numpy as np\n",
        "print (\"Versão da NumPy\", np.__version__)"
      ],
      "metadata": {
        "id": "gw_v0AJx5qCV"
      },
      "execution_count": null,
      "outputs": []
    },
    {
      "cell_type": "code",
      "source": [
        "a = np.matrix([[1,2],[3,5]])            \n",
        "a"
      ],
      "metadata": {
        "id": "a-ie7oCc6NHf"
      },
      "execution_count": null,
      "outputs": []
    },
    {
      "cell_type": "code",
      "source": [
        "np.linalg.inv(a)                      # matriz inversa de 'a' "
      ],
      "metadata": {
        "id": "gT3peffc6NQ9"
      },
      "execution_count": null,
      "outputs": []
    },
    {
      "cell_type": "code",
      "source": [
        "np.cov(a)                      # matriz de covariância de 'a'"
      ],
      "metadata": {
        "id": "EkKdZF2w6NXj"
      },
      "execution_count": null,
      "outputs": []
    },
    {
      "cell_type": "code",
      "source": [
        "np.linalg.det(a)                        # determinante de 'a'"
      ],
      "metadata": {
        "id": "MpB69Vkt6Ne8"
      },
      "execution_count": null,
      "outputs": []
    },
    {
      "cell_type": "code",
      "source": [
        "valores, vetores = np.linalg.eig(a)         # diagonalize 'a'"
      ],
      "metadata": {
        "id": "O-HJDXZO65ZG"
      },
      "execution_count": null,
      "outputs": []
    },
    {
      "cell_type": "code",
      "source": [
        "valores                                  # autovalores de 'a'"
      ],
      "metadata": {
        "id": "uCKYJyoR65hn"
      },
      "execution_count": null,
      "outputs": []
    },
    {
      "cell_type": "code",
      "source": [
        "vetores                                  # autovetores de 'a'"
      ],
      "metadata": {
        "id": "wsaq1vKI65l7"
      },
      "execution_count": null,
      "outputs": []
    },
    {
      "cell_type": "code",
      "source": [
        "# Operações matriciais\n",
        "\n",
        "A = np.matrix(np.random.random((2,2)))\n",
        "B = np.mat(np.random.random((10,5)))\n",
        "C = np.mat([[3.,4.], [5.,6.]])\n",
        "print(\"A = \", A)\n",
        "print(\"B = \", B)\n",
        "print(\"C = \", C)\n",
        "\n",
        "print(\"A + C = \", np.add(A,C))\n",
        "print(\"A - C = \", np.subtract(A,C))\n",
        "print(\"A * C = \", np.multiply(A,C)) # Veja que essa multiplicação é elemento por elemento\n",
        "print(\"A / C = \", np.divide(A,C)) # Veja que essa divisão é elemento por elemento\n",
        "\n",
        "print(\"A X C = \", np.dot(A,C)) # Veja que esse é o produto matricial\n",
        "print()"
      ],
      "metadata": {
        "id": "2WTiEkmY_d2W"
      },
      "execution_count": null,
      "outputs": []
    },
    {
      "cell_type": "code",
      "source": [
        "from numpy import poly1d  # Carrega o módulo poly1d da NumPy\n",
        "p = poly1d([3,4,5])  # cria um polinômio com três coeficientes\n",
        "print(p)"
      ],
      "metadata": {
        "id": "2AiU9oEp_lqY"
      },
      "execution_count": null,
      "outputs": []
    },
    {
      "cell_type": "code",
      "source": [
        "#\n",
        "# Trabalhando com funções matemáticas\n",
        "#\n",
        "\n",
        "x0 = 0.0\n",
        "x1 = 10.0\n",
        "dx = 0.1\n",
        "n = int(np.ceil((x1-x0)/dx) + 1)\n",
        "x = np.zeros((n,1),float)\n",
        "y = np.zeros((n,1),float)\n",
        "\n",
        "# Essa é a forma de fazer um laço de repetições em Python\n",
        "\n",
        "for i in range(n):\n",
        "    x[i] = x0 + i*dx\n",
        "    y[i] = np.sin(x[i])\n",
        "\n",
        "print(\"y = \", y)\n",
        "\n",
        "print()\n",
        "\n",
        "a = 0  \n",
        "b = 1  \n",
        "n = 10  \n",
        "x = np.linspace(a,b,n+1) # Gera uma lista de (n+1) valores entre a e b\n",
        "print(\"x = \", x)\n",
        "#\n",
        "print()\n",
        "\n",
        "dt = 0.5\n",
        "y = np.arange(0.0, 6.01, dt)\n",
        "yraiz = np.sqrt(y)\n",
        "print(\"y = \", y)\n",
        "print(\"yraiz = \", yraiz)\n",
        "\n",
        "# \n",
        "print()\n",
        "\n",
        "# Essa é uma forma alternativa de gerar uma função matemática\n",
        "\n",
        "x = lambda a : np.exp(a + 10)\n",
        "print(x(5))\n",
        "\n",
        "x = lambda a, b : np.sin(a) * np.cos(b)\n",
        "print(x(5, 6))"
      ],
      "metadata": {
        "id": "lDlxe06n_wZP"
      },
      "execution_count": null,
      "outputs": []
    },
    {
      "cell_type": "code",
      "source": [
        "# NumPy: Transferindo dados de/para arquivos\n",
        "\n",
        "# Truque para gerar arquivos de dados na própria célula do Colab\n",
        "\n",
        "%%file a.txt\n",
        "  1.1     3.5  \n",
        "  4.      6.9  \n",
        "  0.1     9.5  \n",
        " 23.89   67.789\n",
        " -4.999  55.456\n",
        "-35.     34.98 "
      ],
      "metadata": {
        "colab": {
          "base_uri": "https://localhost:8080/"
        },
        "id": "2LmA0vTg9gpe",
        "outputId": "d10867c9-cb08-40e9-80b3-0dee9a6f79ca"
      },
      "execution_count": null,
      "outputs": [
        {
          "output_type": "stream",
          "name": "stdout",
          "text": [
            "Overwriting a.txt\n"
          ]
        }
      ]
    },
    {
      "cell_type": "code",
      "source": [
        "# Abra o arquivo 'a.txt' e salve-o como objeto 'data'\n",
        "data = np.loadtxt('a.txt')  # cols separadas por espaço ou tab\n",
        "data"
      ],
      "metadata": {
        "colab": {
          "base_uri": "https://localhost:8080/"
        },
        "id": "pqzF_QE365p-",
        "outputId": "eb72e4e1-6b0a-4e74-a1e9-8365181a6b0f"
      },
      "execution_count": null,
      "outputs": [
        {
          "output_type": "execute_result",
          "data": {
            "text/plain": [
              "array([[  1.1  ,   3.5  ],\n",
              "       [  4.   ,   6.9  ],\n",
              "       [  0.1  ,   9.5  ],\n",
              "       [ 23.89 ,  67.789],\n",
              "       [ -4.999,  55.456],\n",
              "       [-35.   ,  34.98 ]])"
            ]
          },
          "metadata": {},
          "execution_count": 17
        }
      ]
    },
    {
      "cell_type": "code",
      "source": [
        "# Salve o conteúdo do objeto 'data' no arquivo 'output.txt'\n",
        "# As colunas criadas em 'output.txt' serão separadas por espaços\n",
        "np.savetxt('output.txt', data, fmt = \"%s\")"
      ],
      "metadata": {
        "id": "ppCwLkrU65vH"
      },
      "execution_count": null,
      "outputs": []
    },
    {
      "cell_type": "code",
      "source": [],
      "metadata": {
        "id": "mE2ewIS9656k"
      },
      "execution_count": null,
      "outputs": []
    },
    {
      "cell_type": "markdown",
      "source": [
        "### **8.2 SciPy**\n",
        "\n",
        "- <https://scipy.org/>\n",
        "\n",
        "---\n",
        "\n",
        "**Fonte: Aprendendo Química com Python, Rodrigo Queiroz e Gerd Rocha, 2021, Amazon Book. <https://github.com/pythonchembook>**"
      ],
      "metadata": {
        "id": "a7MI8xgX6N6d"
      }
    },
    {
      "cell_type": "code",
      "source": [
        "import scipy \n",
        "print (\"Versão da SciPy\", scipy.__version__)"
      ],
      "metadata": {
        "colab": {
          "base_uri": "https://localhost:8080/"
        },
        "id": "6_PhEIJ38r9H",
        "outputId": "5dfaf7d2-12ee-433a-b7a2-25f1795e7033"
      },
      "execution_count": null,
      "outputs": [
        {
          "output_type": "stream",
          "name": "stdout",
          "text": [
            "Versão da SciPy 1.7.3\n"
          ]
        }
      ]
    },
    {
      "cell_type": "code",
      "source": [
        "import scipy.integrate as integral      # integração numérica \n",
        "\n",
        "x = [0, 0.11, 0.21, 0.31, 0.42, 0.52]   # 0-30 graus em 'rad'\n",
        "y = [1, 0.99, 0.98, 0.95, 0.91, 0.87]   # y = cosseno(x)\n",
        "\n",
        "int_simp = integral.simps(y, x)                    # método de 'Simpson'\n",
        "int_quad = integral.quad(np.cos, 0, 0.52)           # limites = 0 e 0.52\n",
        "\n",
        "print(\"Resultado da integral pelo método de simpson\", int_simp)\n",
        "print(\"Resultado da integral pelo método da quadratura\", int_quad)"
      ],
      "metadata": {
        "colab": {
          "base_uri": "https://localhost:8080/"
        },
        "id": "5-Tynqre-McR",
        "outputId": "bdd89c52-5604-4891-c9ed-fc149c04a4cc"
      },
      "execution_count": null,
      "outputs": [
        {
          "output_type": "stream",
          "name": "stdout",
          "text": [
            "Resultado da integral pelo método de simpson 0.49601757575757577\n",
            "Resultado da integral pelo método da quadratura (0.4968801378437367, 5.51647769513038e-15)\n"
          ]
        }
      ]
    },
    {
      "cell_type": "code",
      "source": [
        "# Trabalho de expansão isotérmica do gás ideal\n",
        "import scipy.integrate as integral      # integração numérica \n",
        "def p(V):                                           # V em m3\n",
        "    p_pascal = 1 * 8.314 * 298 / V        # pressão em Pascal\n",
        "    return p_pascal / 101325                 # pressão em atm"
      ],
      "metadata": {
        "id": "lMHIjCU5EFY5"
      },
      "execution_count": null,
      "outputs": []
    },
    {
      "cell_type": "code",
      "source": [
        "integral.quad(p, 1.5e-3, 2e-3)          # expansão 'a' => 'b'"
      ],
      "metadata": {
        "id": "BFBZNZi7EiyQ"
      },
      "execution_count": null,
      "outputs": []
    },
    {
      "cell_type": "code",
      "source": [
        "integral.quad(p, 2e-3, 2.5e-3)          # expansão 'b' => 'c'"
      ],
      "metadata": {
        "id": "lVOq31VlEr_Z"
      },
      "execution_count": null,
      "outputs": []
    },
    {
      "cell_type": "code",
      "source": [
        "from scipy.integrate import odeint\n",
        "t = np.linspace(0, 10, 101)        # 101 valores de t, [0,10] \n",
        "a0 = 0.5                                     # [A]0, em Molar"
      ],
      "metadata": {
        "id": "8B91-ihS-MlU"
      },
      "execution_count": null,
      "outputs": []
    },
    {
      "cell_type": "code",
      "source": [
        "def f(a, t, k):                           # a = [A], k em s-1\n",
        "    dadt = - k * a                # 'dadt' representa d[A]/dt\n",
        "    return dadt"
      ],
      "metadata": {
        "id": "3Wlnhx2k-Mre"
      },
      "execution_count": null,
      "outputs": []
    },
    {
      "cell_type": "code",
      "source": [
        "sol = odeint(f, a0, t, args = (0.5,))           # k = 0,5 s-1\n",
        "sol[:3]"
      ],
      "metadata": {
        "id": "z7D_ewJw-Mvq"
      },
      "execution_count": null,
      "outputs": []
    },
    {
      "cell_type": "code",
      "source": [
        "# Autovalores e autovetores\n",
        "D = np.array([[-4.969071,-10.061687],[-10.061687,-4.969071]]) # matriz hamiltoniana da molécula de H2 \n",
        "# (Cálculo RM1)\n",
        "# https://onlinelibrary.wiley.com/doi/abs/10.1002/jcc.20425\n",
        "\n",
        "eigenValues, eigenVectors = la.eig(D)\n",
        "\n",
        "print(\"Autovalores = \", eigenValues)\n",
        "print(\"Autovetores = \", eigenVectors)\n",
        "\n",
        "print()\n",
        "\n",
        "# Procedimento para ordenar os autovalores e correspondentes autovetores\n",
        "\n",
        "# https://stackoverflow.com/questions/10083772/python-numpy-sort-eigenvalues?lq=1\n",
        "idx = eigenValues.argsort()[::1] \n",
        "print(idx)\n",
        "eigenValues = eigenValues[idx]\n",
        "eigenVectors = eigenVectors[:,idx]\n",
        "\n",
        "print(\"Autovalores ordenados = \", eigenValues) # ordenando do menor pro maior\n",
        "print(\"Autovetores ordenados = \", eigenVectors)\n",
        "print()\n",
        "print(eigenValues[0])"
      ],
      "metadata": {
        "id": "B405nG4x-Mzv"
      },
      "execution_count": null,
      "outputs": []
    },
    {
      "cell_type": "code",
      "source": [],
      "metadata": {
        "id": "OmNJGWN2_ArP"
      },
      "execution_count": null,
      "outputs": []
    },
    {
      "cell_type": "markdown",
      "source": [
        "### **8.3 Pandas**\n",
        "\n",
        "- <https://pandas.pydata.org/>\n",
        "\n",
        "---\n",
        "\n",
        "**Fonte: Aprendendo Química com Python, Rodrigo Queiroz e Gerd Rocha, 2021, Amazon Book. <https://github.com/pythonchembook>**"
      ],
      "metadata": {
        "id": "BpTBIqna_BEW"
      }
    },
    {
      "cell_type": "code",
      "source": [
        "import pandas as pd\n",
        "print(\"Versão do Pandas\", pd.__version__)"
      ],
      "metadata": {
        "id": "hkO93wzZ_EGk"
      },
      "execution_count": null,
      "outputs": []
    },
    {
      "cell_type": "code",
      "source": [
        "nomes = ['[C]', 'pH', 'T', 'Diff']\n",
        "valores = [[0.1,6,20,3],[0.3,5,21,4],[0.15,6.2,18,3.5]]\n",
        "data = pd.DataFrame(valores, columns = nomes)"
      ],
      "metadata": {
        "id": "lPD_tlWH_7og"
      },
      "execution_count": null,
      "outputs": []
    },
    {
      "cell_type": "code",
      "source": [
        "data                             # objeto da classe DataFrame"
      ],
      "metadata": {
        "id": "wqOWAiWu_7yA"
      },
      "execution_count": null,
      "outputs": []
    },
    {
      "cell_type": "code",
      "source": [
        "data.columns                             # atributo 'columns'"
      ],
      "metadata": {
        "id": "6lGb3NKH_76N"
      },
      "execution_count": null,
      "outputs": []
    },
    {
      "cell_type": "code",
      "source": [
        "data.values                               # atributo 'values'"
      ],
      "metadata": {
        "id": "yud7nu8C_7_D"
      },
      "execution_count": null,
      "outputs": []
    },
    {
      "cell_type": "code",
      "source": [
        "data.describe()                     # estatística das colunas"
      ],
      "metadata": {
        "id": "iJZSF6Yv_8D9"
      },
      "execution_count": null,
      "outputs": []
    },
    {
      "cell_type": "code",
      "source": [
        "data.iloc[0,1]                 # elemento (linha 0, coluna 1)"
      ],
      "metadata": {
        "id": "wSUvn6CP_8Hg"
      },
      "execution_count": null,
      "outputs": []
    },
    {
      "cell_type": "code",
      "source": [
        "# Pandas: correlação entre colunas\n",
        "nomes = ['[C]', 'pH', 'T', ' Diff']\n",
        "valores = [[0.1, 6, 20, 3], [0.3, 5, 21, 4], [0.15, 6.2, 18, 3.5]]\n",
        "data = pd.DataFrame(valores, columns = nomes)\n",
        "data.corr()"
      ],
      "metadata": {
        "id": "XZitpSWh_8LJ"
      },
      "execution_count": null,
      "outputs": []
    },
    {
      "cell_type": "markdown",
      "source": [
        "####8.3.1 Pandas: importando e exportando tabelas de dados"
      ],
      "metadata": {
        "id": "IZz52ObpALVq"
      }
    },
    {
      "cell_type": "code",
      "source": [
        "%%file dados.csv\n",
        "  1.1,     3.5  \n",
        "  4. ,     6.9  \n",
        "  0.1,     9.5  \n",
        " 23.89,   67.789\n",
        " -4.999,  55.456\n",
        "-35.,     34.98 "
      ],
      "metadata": {
        "colab": {
          "base_uri": "https://localhost:8080/"
        },
        "id": "7quppTjvAf7H",
        "outputId": "104dd133-ac30-44af-d869-e2abd9d730ba"
      },
      "execution_count": null,
      "outputs": [
        {
          "output_type": "stream",
          "name": "stdout",
          "text": [
            "Writing dados.csv\n"
          ]
        }
      ]
    },
    {
      "cell_type": "code",
      "source": [
        "%%file dados.txt\n",
        "  1.1     3.5  \n",
        "  4.      6.9  \n",
        "  0.1     9.5  \n",
        " 23.89   67.789\n",
        " -4.999  55.456\n",
        "-35.     34.98 "
      ],
      "metadata": {
        "id": "QBEDJ-7KAgCu"
      },
      "execution_count": null,
      "outputs": []
    },
    {
      "cell_type": "code",
      "source": [
        "# Se colunas estão separadas por espaços ou tabulações , use :\n",
        "#data = pd.read_csv('dados.csv')      # colunas separadas por ','\n",
        "\n",
        "# Se colunas estão separadas por espaços ou tabulações , use :\n",
        "#data = pd.read_table('dados.txt')"
      ],
      "metadata": {
        "id": "8yAkrQdQAgHG"
      },
      "execution_count": null,
      "outputs": []
    },
    {
      "cell_type": "code",
      "source": [
        "# Para importar um arquivo do Microsoft Excel , recomendamos\n",
        "# exportar os dados do excel como . csv e usar o comando da\n",
        "# linha 3 acima , pois o comando abaixo pode dar erro e\n",
        "# ser necessário instalar outras bibliotecas ( ex : 'xlrd ')\n",
        "\n",
        "#data = pd.read_excel('dados.xlsx', sheet_name = 'Sheet1')"
      ],
      "metadata": {
        "id": "iIoP8YsT_8Pr"
      },
      "execution_count": null,
      "outputs": []
    },
    {
      "cell_type": "code",
      "source": [
        "#data.to_csv('dados.csv', index = False)  # exporte como csv"
      ],
      "metadata": {
        "id": "8NSZuXco_8V3"
      },
      "execution_count": null,
      "outputs": []
    },
    {
      "cell_type": "code",
      "source": [
        "#data.to_excel('dados.xlsx', index = False)  # exporte como xlsx"
      ],
      "metadata": {
        "id": "rLuQYCI8DTb7"
      },
      "execution_count": null,
      "outputs": []
    },
    {
      "cell_type": "code",
      "source": [],
      "metadata": {
        "id": "_C1vjg2lDTmu"
      },
      "execution_count": null,
      "outputs": []
    },
    {
      "cell_type": "markdown",
      "source": [
        "####8.3.2 Pandas: Importando bancos de dados de bibliotecas"
      ],
      "metadata": {
        "id": "dlgLtTwQDapB"
      }
    },
    {
      "cell_type": "code",
      "source": [
        "# Para instalar use pip install pydataset\n",
        "# Em https://pydataset.readthedocs.io/en/latest/\n",
        "from pydataset import data\n",
        "iris = data('iris')"
      ],
      "metadata": {
        "id": "xMdHd4cjDTwn"
      },
      "execution_count": null,
      "outputs": []
    },
    {
      "cell_type": "code",
      "source": [
        "iris.sample(n = 5)"
      ],
      "metadata": {
        "id": "E_WyR0HqDf6I"
      },
      "execution_count": null,
      "outputs": []
    },
    {
      "cell_type": "code",
      "source": [
        "iris.mean()     # média de todos os elementos de cada coluna"
      ],
      "metadata": {
        "id": "Knp98xFDDgEf"
      },
      "execution_count": null,
      "outputs": []
    },
    {
      "cell_type": "code",
      "source": [
        "iris.std() # desvio padrão de todos os elementos (por coluna)"
      ],
      "metadata": {
        "id": "LoaQ2ccUDgLm"
      },
      "execution_count": null,
      "outputs": []
    },
    {
      "cell_type": "code",
      "source": [
        "iris.shape                        # quantas linhas e colunas?"
      ],
      "metadata": {
        "id": "hAAUoixwDgPa"
      },
      "execution_count": null,
      "outputs": []
    },
    {
      "cell_type": "markdown",
      "source": [
        "---\n",
        "### **8.4. Matplotlib**\n",
        "\n",
        "Nessa seção vamos aprender a construir gráficos com a biblioteca Matplotlib.\n",
        "\n",
        "- https://matplotlib.org/\n",
        "\n",
        "---\n",
        "\n",
        "**Fonte: Aprendendo Química com Python, Rodrigo Queiroz e Gerd Rocha, 2021, Amazon Book. <https://github.com/pythonchembook>**"
      ],
      "metadata": {
        "id": "RRkKwjL35qil"
      }
    },
    {
      "cell_type": "code",
      "source": [
        "%matplotlib inline \n",
        "import matplotlib as mpl\n",
        "\n",
        "print (\"Versão da Matplotlib usada:\", mpl.__version__)"
      ],
      "metadata": {
        "id": "29b5v_DB5wmc"
      },
      "execution_count": null,
      "outputs": []
    },
    {
      "cell_type": "code",
      "source": [
        "from matplotlib import pyplot as plt # Comando para carregar o módulo PyPlot da Matplotlib\n",
        "\n",
        "ax = [0., 0.5, 1.0, 1.5, 2.0, 2.5, 3.0]\n",
        "ay = [0.0, 0.25, 1.0, 2.25, 4.0, 6.25, 9.0]\n",
        "plt.plot(ax,ay)\n",
        "plt.show()"
      ],
      "metadata": {
        "id": "u6RwKFTAE3ew"
      },
      "execution_count": null,
      "outputs": []
    },
    {
      "cell_type": "code",
      "source": [
        "import random  # Importa a biblioteca Random\n",
        "\n",
        "ax, ay = [], []  # Cria duas listas vazias\n",
        "\n",
        "for i in range(100):\n",
        "    ax.append(random.random())  # Para cada passada pelo laço adiciona um elemento em ax e ay\n",
        "    ay.append(random.random())\n",
        "\n",
        "plt.scatter(ax,ay)\n",
        "plt.show()"
      ],
      "metadata": {
        "id": "MbC6K-Lq6Zmt"
      },
      "execution_count": null,
      "outputs": []
    },
    {
      "cell_type": "code",
      "source": [
        "plt.scatter(ax,ay)\n",
        "\n",
        "# para salvar a figura em arquivo\n",
        "\n",
        "plt.savefig(\"plot.png\") # salva a imagem como PNG\n",
        "plt.savefig(\"plot.pdf\") # salva a imagem como PDF"
      ],
      "metadata": {
        "id": "sRnKfrgCFEtb"
      },
      "execution_count": null,
      "outputs": []
    },
    {
      "cell_type": "code",
      "source": [
        "# Fazendo gráficos de funções matemáticas\n",
        "\n",
        "x0,x1,dx = 0.0, 10.0, 0.01\n",
        "n = int(np.ceil((x1-x0)/dx) + 1)\n",
        "print(\"Numero de pontos = \",n)\n",
        "x = np.zeros((n,1),float)\n",
        "y = np.zeros((n,1),float)\n",
        "for i in range(n):\n",
        "   x[i] = x0 + i*dx\n",
        "   y[i] = np.sin(x[i])  # Função Sen(x)\n",
        "\n",
        "plt.plot(x,y)\n",
        "plt.show()"
      ],
      "metadata": {
        "id": "k1TP92gsFE7J"
      },
      "execution_count": null,
      "outputs": []
    },
    {
      "cell_type": "code",
      "source": [
        "# https://github.com/scientificprogrammingUOS/lectures\n",
        "# https://scipython.com/book2/\n",
        "n = 1000\n",
        "xmin, xmax = -2. * np.pi, 2. * np.pi\n",
        "x = np.linspace(xmin, xmax, n)\n",
        "y = np.sin(x)**2\n",
        "plt.plot(x,y)\n",
        "plt.show()"
      ],
      "metadata": {
        "colab": {
          "base_uri": "https://localhost:8080/",
          "height": 265
        },
        "id": "9SBkDGpbFFA7",
        "outputId": "cc687301-b6bd-454a-97c7-9db690c0bec6"
      },
      "execution_count": null,
      "outputs": [
        {
          "output_type": "display_data",
          "data": {
            "text/plain": [
              "<Figure size 432x288 with 1 Axes>"
            ],
            "image/png": "[encoded data removed]"
          },
          "metadata": {
            "needs_background": "light"
          }
        }
      ]
    },
    {
      "cell_type": "code",
      "source": [
        "# Expemplo 5.5 \n",
        "# Considere 1 mol de CO2 inserido em um recipiente de volume variável sob temperatura constante. \n",
        "# Os valores das constantes de van der Walls são: a = 3.610 atm*L^2/(mol^2) e b = 4,29e-2 (L/mol).\n",
        "# Produza os gráficos de três isotermas em uma mesma figura.\n",
        "# Fonte para consulta: Tópico 3E.2 do livro Peter Atkins, Loretta Jones e Lerroy Laverman, Princípios de Química: questionando a vida moderna e o meio ambiente, 7.ed., Porto Alegre, Bookman, 2018.\n",
        "import numpy as np\n",
        "import matplotlib.pyplot as plt\n",
        "\n",
        "a_CO2 = 3.610 # em atm*L^2/(mol^2) \n",
        "b_CO2 = 4.29e-2 # em L/mol\n",
        "T1 = 274  # Temperatura em Kelvin\n",
        "T2 = 314\n",
        "T3 = 344\n",
        "n = 1.0 # número de mols de CO2\n",
        "R = 0.082 # em L*atm/(mol*K)\n",
        "\n",
        "Vmin, Vmax = 0.07,0.6        # faixa de valores que V varia (em L/mol)\n",
        "npt = 100                            # número de pontos da função\n",
        "Vm = np.linspace(Vmin, Vmax, npt)                  # grid de pontos para o Volume molar\n",
        "\n",
        "P_vdW_T1 = (R*T1 / (Vm - b_CO2)) - a_CO2*((1.0/Vm)**2)\n",
        "P_vdW_T2 = (R*T2 / (Vm - b_CO2)) - a_CO2*((1.0/Vm)**2)\n",
        "P_vdW_T3 = (R*T3 / (Vm - b_CO2)) - a_CO2*((1.0/Vm)**2)\n",
        "\n",
        "plt.xticks(fontsize=12)\n",
        "plt.yticks(fontsize=12) \n",
        "plt.tight_layout()\n",
        "plt.plot(Vm, P_vdW_T1, '-y', label = 'Isoterma T = 274K', lw = 2.5)     # plot 1\n",
        "plt.plot(Vm, P_vdW_T2, '-g', label = 'Isoterma T = 314K', lw = 2.5)     # plot 2\n",
        "plt.plot(Vm, P_vdW_T3, '-r', label = 'Isoterma T = 344K', lw = 2.5)     # plot 2\n",
        "\n",
        "plt.legend(loc = 1, frameon=False)                     # legenda\n",
        "\n",
        "plt.title('Isotermas para o gás de van der Waals ($CO_2$)',fontsize=16)\n",
        "plt.xlabel('Vol. molar (em L/mol)',fontsize=14)\n",
        "plt.ylabel('P (em atm)',fontsize=14)\n",
        "plt.tight_layout()\n",
        "plt.savefig('isoterms_vdw.png',dpi=400, transparent=True)\n",
        "plt.show()"
      ],
      "metadata": {
        "id": "1ErM9lUBFFFa"
      },
      "execution_count": null,
      "outputs": []
    },
    {
      "cell_type": "code",
      "source": [
        "# Exemplo Distribuição de Velocidades moleculares em um gás ideal\n",
        "# A distribuição das velocidades das moléculas de um gás ideal pode ser calculada com base no tratamento dado por James Clerk Maxwell juntamente com Ludwig Boltzmann. \n",
        "# Considere 1 mol de gás carbônico (CO2) inserido em um recipiente de volume fixo de 1L. \n",
        "# Obtenha as curvas de distribuição de velocidade molecular para essa amostra nas temperaturas de 300K e 800K. \n",
        "# Fonte para consulta: Tópico 3D.3 do livro Peter Atkins, Loretta Jones e Lerroy Laverman, Princípios de Química: questionando a vida moderna e o meio ambiente, 7.ed., Porto Alegre, Bookman, 2018.\n",
        "import numpy as np\n",
        "import matplotlib.pyplot as plt\n",
        "\n",
        "M_CO2 = 44.0095  # Em g/mol\n",
        "R = 8.3145 # J/(K*mol)\n",
        "T1 = 300  # K\n",
        "T2 = 800  # K\n",
        "ct1 = ((M_CO2/1000.0)/(2.0*R*T1))\n",
        "ct2 = ((M_CO2/1000.0)/(2.0*R*T2))\n",
        "       \n",
        "npt = 100000\n",
        "vmin, vmax = 0.01, 2000.0\n",
        "v = np.linspace(vmin, vmax, npt)\n",
        "\n",
        "fr1 = 4.0*np.pi*((ct1/np.pi)**(1.5))*np.square(v)*np.exp(-ct1*np.square(v))\n",
        "fr2 = 4.0*np.pi*((ct2/np.pi)**(1.5))*np.square(v)*np.exp(-ct2*np.square(v))\n",
        "\n",
        "plt.plot(v,fr1, label=\"T = 300K\", lw = 2.5)\n",
        "plt.plot(v,fr2, label=\"T = 800K\", lw = 2.5)\n",
        "plt.title(\"Gráfico de distribuições de velocidades moleculares \", fontsize=16)\n",
        "plt.xlabel(\"Velocidade molecular (m/s)\",fontsize=14)\n",
        "plt.ylabel(\"Fração, f(v) (s/m)\",fontsize=14)\n",
        "plt.legend()\n",
        "plt.tight_layout()\n",
        "plt.savefig('molecular_speed.png',dpi=400, transparent=True)\n",
        "plt.show()"
      ],
      "metadata": {
        "id": "TybnVhKiFFJY"
      },
      "execution_count": null,
      "outputs": []
    },
    {
      "cell_type": "code",
      "source": [
        "# Expemplo 5.5 \n",
        "# Um elétron (me = 9,1 x 10 ^-31 kg) está confinado em uma caixa unidimensional de tamanho 50 nM. \n",
        "# Produza os gráficos da função de onda do estado fundamental e dos três primeiros estados excitados em uma mesma figura.\n",
        "# Fonte para consulta: Tópico 1C do livro Peter Atkins, Loretta Jones e Lerroy Laverman, Princípios de Química: questionando a vida moderna e o meio ambiente, 7.ed., Porto Alegre, Bookman, 2018.\n",
        "import numpy as np\n",
        "import matplotlib.pyplot as plt\n",
        "\n",
        "L = 50.0e-9                               # tamanho da caixa (m)\n",
        "a0 = 5.2917721067e-11                             # raio de Bohr\n",
        "L_a0 = L / a0             # tamanho da caixa (unidades atômicas)    \n",
        "\n",
        "me = 9.1e-31                            # massa do elétron em kg\n",
        "xmin, xmax = 0, L_a0                           # bordas da caixa\n",
        "npt = 1000                            # número de pontos da função\n",
        "x = np.linspace(xmin, xmax, npt)                  # grid de pontos\n",
        "\n",
        "A = np.sqrt(2/L_a0)\n",
        "psi_n1 = A * np.sin(1 * np.pi * x / L_a0)    # psi(x) para n = 1\n",
        "psi_n2 = A * np.sin(2 * np.pi * x / L_a0)    # psi(x) para n = 2\n",
        "psi_n3 = A * np.sin(3 * np.pi * x / L_a0)    # psi(x) para n = 3\n",
        "psi_n4 = A * np.sin(4 * np.pi * x / L_a0)    # psi(x) para n = 4\n",
        "psi_n5 = A * np.sin(5 * np.pi * x / L_a0)    # psi(x) para n = 5\n",
        "\n",
        "fig = plt.figure()\n",
        "\n",
        "plt.subplot(3, 1, 1)\n",
        "plt.plot(x, psi_n5,'-k', lw = 2.0)\n",
        "plt.xlabel('x (em Bohr)')\n",
        "plt.ylabel('$\\Psi_{5}(x)$')\n",
        "plt.plot((0,xmax),(0,0),'--')       # linha horizontal tracejada\n",
        "\n",
        "plt.subplot(3, 2, 3)\n",
        "plt.plot(x, psi_n4,'-b', lw = 2.0)\n",
        "plt.xlabel('x (em Bohr)')\n",
        "plt.ylabel('$\\Psi_{4}(x)$')\n",
        "plt.plot((0,xmax),(0,0),'--')       # linha horizontal tracejada\n",
        "\n",
        "plt.subplot(3, 2, 4)\n",
        "plt.plot(x, psi_n3, '-r', lw = 2.0)\n",
        "plt.xlabel('x (em Bohr)')\n",
        "plt.ylabel('$\\Psi_{3}(x)$')\n",
        "plt.plot((0,xmax),(0,0),'--')       # linha horizontal tracejada\n",
        "\n",
        "plt.subplot(3, 2, 5)\n",
        "plt.plot(x, psi_n2, '-g', lw = 2.0)\n",
        "plt.xlabel('x (em Bohr)')\n",
        "plt.ylabel('$\\Psi_{2}(x)$')\n",
        "plt.plot((0,xmax),(0,0),'--')       # linha horizontal tracejada\n",
        "\n",
        "plt.subplot(3, 2, 6)\n",
        "plt.plot(x, psi_n1, '-y', lw = 2.0)\n",
        "plt.xlabel('x (em Bohr)')\n",
        "plt.ylabel('$\\Psi_{1}(x)$')\n",
        "\n",
        "plt.tight_layout()\n",
        "\n",
        "plt.show()"
      ],
      "metadata": {
        "id": "HawqgWzyFFNW"
      },
      "execution_count": null,
      "outputs": []
    },
    {
      "cell_type": "code",
      "source": [
        "import matplotlib.pyplot as plt\n",
        "import numpy as np\n",
        "\n",
        "data1 = np.random.normal(35, 5, 500)\n",
        "data2 = np.random.normal(50, 8, 500)\n",
        "\n",
        "#plt.figure(figsize=(9,6))\n",
        "plt.hist(data1, bins=10, alpha=0.5, label=\"Dados 1 - $\\mu = 35$ e $\\sigma = 5$\", color = 'b')\n",
        "plt.hist(data2, bins=10, alpha=0.5, label=\"Dados 2 - $\\mu = 50$ e $\\sigma = 8$\", color = 'r')\n",
        "\n",
        "plt.xlabel(\"Dados\", size=14)\n",
        "plt.ylabel(\"Frequência\", size=14)\n",
        "plt.title(\"Múltiplos histogramas\", fontsize = 16)\n",
        "plt.legend(loc='upper right')\n",
        "\n",
        "plt.tight_layout()\n",
        "plt.savefig(\"overlapping_histograms.png\", dpi=400, transparent=True)\n",
        "\n",
        "plt.show()"
      ],
      "metadata": {
        "id": "zISUVNVlFFRB"
      },
      "execution_count": null,
      "outputs": []
    },
    {
      "cell_type": "code",
      "source": [
        "# Gráficos em 3D com superfície contínua - Parabolóide hiperbólico\n",
        "\n",
        "import numpy as np\n",
        "from matplotlib import pyplot as plt\n",
        "from mpl_toolkits.mplot3d import Axes3D\n",
        "\n",
        "fig = plt.figure(figsize=(12,8))\n",
        "ax = fig.add_subplot(111, projection='3d')\n",
        "\n",
        "x = np.linspace(-1,1,1000)\n",
        "y = np.linspace(-1,1,1000)\n",
        "X,Y = np.meshgrid(x,y)\n",
        "\n",
        "Z = X**2 - Y**2\n",
        "\n",
        "ax.plot_surface(X,Y,Z,linewidth=0, antialiased=False, shade = True, alpha = 0.5)\n",
        "\n",
        "ax.set_xlabel('X', fontsize=16, labelpad=12)\n",
        "ax.set_ylabel('Y', fontsize=16, labelpad=12)\n",
        "ax.set_zlabel(r'Z(X,Y) = $X^{2} - Y^{2}$', fontsize=16, labelpad=12)\n",
        "plt.tight_layout()\n",
        "plt.savefig('3D_surface_plot_01.png', dpi=400, transparent=True)\n",
        "\n",
        "plt.show()"
      ],
      "metadata": {
        "id": "NAZU8p5rFmNz"
      },
      "execution_count": null,
      "outputs": []
    },
    {
      "cell_type": "code",
      "source": [
        "#\n",
        "# Ajuste de modelos a dados\n",
        "#\n",
        "\n",
        "# https://www.youtube.com/watch?v=gzyq_6wdtSk\n",
        "\n",
        "import numpy as np\n",
        "\n",
        "x = np.array([0,1,2,3,4,5,6,7]) # vetor com os valores de x\n",
        "y = np.array([0.32,0.12,0.21,0.47,0.52,0.76,0.87,0.96]) # vetor com os valores de y\n",
        "\n",
        "p1 = np.polyfit(x,y,1) # fornece os valores do intercepto e a inclinação\n",
        "\n",
        "yfit = p1[0] * x + p1[1] # calcula os valores preditos\n",
        "yresid = y - yfit # resíduo = valor real - valor ajustado (valor predito)\n",
        "SQresid = sum(pow(yresid,2)) # soma dos quadrados dos resíduos \n",
        "SQtotal = len(y) * np.var(y) # número de elementos do vetor y vezes a variância de y\n",
        "R2 = 1 - SQresid/SQtotal # coeficiente de determinação\n",
        "\n",
        "print(p1) # imprime o intercepto e a inclinação\n",
        "print(R2) # imprime coeficiente de determinação\n",
        "\n",
        "import matplotlib.pyplot as plt\n",
        "\n",
        "plt.plot(x,y,'o')\n",
        "plt.plot(x,np.polyval(p1,x),'g--')\n",
        "plt.xlabel(\"Var x\")\n",
        "plt.ylabel(\"Var y\")\n",
        "plt.show()"
      ],
      "metadata": {
        "id": "CP7ofvn9FmYh"
      },
      "execution_count": null,
      "outputs": []
    },
    {
      "cell_type": "code",
      "source": [
        "# Regressão polimonial\n",
        "\n",
        "# https://www.youtube.com/watch?v=0UowhWTgTio\n",
        "\n",
        "import numpy as np\n",
        "\n",
        "\"\"\" Dados de Entrada \"\"\"\n",
        "x = np.array([0,1,2,3,4,5,6,7]) \n",
        "y = np.array([0.32,0.12,0.21,0.47,0.52,0.76,0.87,0.96]) \n",
        "\n",
        "\"\"\" Ajuste da curva a um polinômio \"\"\"\n",
        "#p1 = np.polyfit(x,y,1)  \n",
        "p2 = np.polyfit(x,y,2)  \n",
        "p3 = np.polyfit(x,y,3) \n",
        "\n",
        "\"\"\" Rotina para determinação do valor de R da equação da reta \"\"\"\n",
        "#from scipy import stats\n",
        "#slope,intercept,r_value,p_value,std_err = stats.linregress(x,y)\n",
        "\n",
        "\"\"\" Cálculo dos coeficientes de determinação dos polinômios de ordem 2 e 3 \"\"\"\n",
        "yfit2 = p2[0] * pow(x,2) + p2[1] * x + p2[2] \n",
        "yresid2 = y - yfit2 \n",
        "SQresid = sum(pow(yresid2,2)) \n",
        "SQtotal = len(y) * np.var(y) \n",
        "R2_2 = 1 - SQresid/SQtotal \n",
        "\n",
        "yfit3 = p3[0] * pow(x,3) + p3[1] * pow(x,2) + p3[2] * x + p3[3] \n",
        "yresid3 = y - yfit3 \n",
        "SQresid = sum(pow(yresid3,2)) \n",
        "SQtotal = len(y) * np.var(y) \n",
        "R2_3 = 1 - SQresid/SQtotal \n",
        "\n",
        "\"\"\" Impressão dos Resultados \"\"\"\n",
        "#print('Equação da reta')\n",
        "#print('Coeficientes',p1,'R2 =',pow(r_value,2))\n",
        "print('Polinômio de ordem 2')\n",
        "print('Coeficientes',p2,'R2 =',R2_2) \n",
        "print('Polinômio de ordem 3')\n",
        "print('Coeficientes',p3,'R2 =',R2_3) \n",
        "\n",
        "\"\"\" Plotagem dos gráficos \"\"\"\n",
        "import matplotlib.pyplot as plt\n",
        "plt.plot(x,y,'o')\n",
        "#plt.plot(x,np.polyval(p1,x),'g-')\n",
        "plt.plot(x,np.polyval(p2,x),'b--')\n",
        "plt.plot(x,np.polyval(p3,x),'r:')\n",
        "plt.xlabel(\"Var x\")\n",
        "plt.ylabel(\"Var y\")\n",
        "plt.show()\n",
        "\n",
        "# Outro video do assunto --> https://www.youtube.com/watch?v=mE4moXAYzTI\n",
        "# Outro material --> http://www.pbx-brasil.com/outrasDisciplinas/FisComp_Python/Notas/Iarea/matplot/matplot.html"
      ],
      "metadata": {
        "id": "7qSPNaLhFmjN"
      },
      "execution_count": null,
      "outputs": []
    },
    {
      "cell_type": "code",
      "source": [
        "# Gerando novos dados\n",
        "%%file dados2.csv \n",
        "x,y\n",
        "0,0\n",
        "0.1,0.01\n",
        "0.2,0.04\n",
        "0.3,0.09\n",
        "0.4,0.16\n",
        "0.5,0.25\n",
        "0.6,0.36\n",
        "0.7,0.49\n",
        "0.8,0.64\n",
        "0.9,0.81\n",
        "1,1\n",
        "1.1,1.21\n",
        "1.2,1.44\n",
        "1.3,1.69\n",
        "1.4,1.96\n",
        "1.5,2.25\n",
        "1.6,2.56\n",
        "1.7,2.89\n",
        "1.8,3.24\n",
        "1.9,3.61\n",
        "2,4"
      ],
      "metadata": {
        "colab": {
          "base_uri": "https://localhost:8080/"
        },
        "id": "MLv9atWjHvbE",
        "outputId": "4353bb36-da65-48a9-b350-ae541fdbb0f8"
      },
      "execution_count": null,
      "outputs": [
        {
          "output_type": "stream",
          "name": "stdout",
          "text": [
            "Writing dados2.csv\n"
          ]
        }
      ]
    },
    {
      "cell_type": "code",
      "source": [
        "#\n",
        "# Lendo dados externos\n",
        "#\n",
        "dataname = \"dados2.csv\"\n",
        "x, y = np.loadtxt(dataname, skiprows=1, delimiter=',', unpack=True)\n",
        "print(x)\n",
        "print(y)\n",
        "plt.plot(x,y,'o')\n",
        "plt.xlabel(\"Var x\")\n",
        "plt.ylabel(\"Var y\")\n",
        "plt.show()"
      ],
      "metadata": {
        "colab": {
          "base_uri": "https://localhost:8080/",
          "height": 348
        },
        "id": "vC22leQoFFUt",
        "outputId": "5a284867-b92c-4513-d696-53d7c32bd898"
      },
      "execution_count": null,
      "outputs": [
        {
          "output_type": "stream",
          "name": "stdout",
          "text": [
            "[0.  0.1 0.2 0.3 0.4 0.5 0.6 0.7 0.8 0.9 1.  1.1 1.2 1.3 1.4 1.5 1.6 1.7\n",
            " 1.8 1.9 2. ]\n",
            "[0.   0.01 0.04 0.09 0.16 0.25 0.36 0.49 0.64 0.81 1.   1.21 1.44 1.69\n",
            " 1.96 2.25 2.56 2.89 3.24 3.61 4.  ]\n"
          ]
        },
        {
          "output_type": "display_data",
          "data": {
            "text/plain": [
              "<Figure size 432x288 with 1 Axes>"
            ],
            "image/png": "[encoded data removed]"
          },
          "metadata": {
            "needs_background": "light"
          }
        }
      ]
    },
    {
      "cell_type": "code",
      "source": [
        "#### Colocar mais arquivos do Livro"
      ],
      "metadata": {
        "id": "BE_sLAg4FFYs"
      },
      "execution_count": null,
      "outputs": []
    },
    {
      "cell_type": "code",
      "source": [
        "import matplotlib.pyplot as plt\n",
        "import pandas as pd\n",
        "nomes = ['[C]', 'pH', 'T', 'Diff']\n",
        "valores = [[0.1,6,20,3],[0.3,5,21,4],[0.15,6.2,18,3.5]]\n",
        "data = pd.DataFrame(valores, columns = nomes)\n",
        "data.hist()\n",
        "plt.show()"
      ],
      "metadata": {
        "colab": {
          "base_uri": "https://localhost:8080/",
          "height": 235
        },
        "id": "cvmJvaVYIJgy",
        "outputId": "8bce18d4-5ca6-4515-9220-9e9c82967f19"
      },
      "execution_count": null,
      "outputs": [
        {
          "output_type": "error",
          "ename": "NameError",
          "evalue": "ignored",
          "traceback": [
            "\u001b[0;31m---------------------------------------------------------------------------\u001b[0m",
            "\u001b[0;31mNameError\u001b[0m                                 Traceback (most recent call last)",
            "\u001b[0;32m<ipython-input-27-44204c62642f>\u001b[0m in \u001b[0;36m<module>\u001b[0;34m\u001b[0m\n\u001b[1;32m      2\u001b[0m \u001b[0mnomes\u001b[0m \u001b[0;34m=\u001b[0m \u001b[0;34m[\u001b[0m\u001b[0;34m'[C]'\u001b[0m\u001b[0;34m,\u001b[0m \u001b[0;34m'pH'\u001b[0m\u001b[0;34m,\u001b[0m \u001b[0;34m'T'\u001b[0m\u001b[0;34m,\u001b[0m \u001b[0;34m'Diff'\u001b[0m\u001b[0;34m]\u001b[0m\u001b[0;34m\u001b[0m\u001b[0;34m\u001b[0m\u001b[0m\n\u001b[1;32m      3\u001b[0m \u001b[0mvalores\u001b[0m \u001b[0;34m=\u001b[0m \u001b[0;34m[\u001b[0m\u001b[0;34m[\u001b[0m\u001b[0;36m0.1\u001b[0m\u001b[0;34m,\u001b[0m\u001b[0;36m6\u001b[0m\u001b[0;34m,\u001b[0m\u001b[0;36m20\u001b[0m\u001b[0;34m,\u001b[0m\u001b[0;36m3\u001b[0m\u001b[0;34m]\u001b[0m\u001b[0;34m,\u001b[0m\u001b[0;34m[\u001b[0m\u001b[0;36m0.3\u001b[0m\u001b[0;34m,\u001b[0m\u001b[0;36m5\u001b[0m\u001b[0;34m,\u001b[0m\u001b[0;36m21\u001b[0m\u001b[0;34m,\u001b[0m\u001b[0;36m4\u001b[0m\u001b[0;34m]\u001b[0m\u001b[0;34m,\u001b[0m\u001b[0;34m[\u001b[0m\u001b[0;36m0.15\u001b[0m\u001b[0;34m,\u001b[0m\u001b[0;36m6.2\u001b[0m\u001b[0;34m,\u001b[0m\u001b[0;36m18\u001b[0m\u001b[0;34m,\u001b[0m\u001b[0;36m3.5\u001b[0m\u001b[0;34m]\u001b[0m\u001b[0;34m]\u001b[0m\u001b[0;34m\u001b[0m\u001b[0;34m\u001b[0m\u001b[0m\n\u001b[0;32m----> 4\u001b[0;31m \u001b[0mdata\u001b[0m \u001b[0;34m=\u001b[0m \u001b[0mpd\u001b[0m\u001b[0;34m.\u001b[0m\u001b[0mDataFrame\u001b[0m\u001b[0;34m(\u001b[0m\u001b[0mvalores\u001b[0m\u001b[0;34m,\u001b[0m \u001b[0mcolumns\u001b[0m \u001b[0;34m=\u001b[0m \u001b[0mnomes\u001b[0m\u001b[0;34m)\u001b[0m\u001b[0;34m\u001b[0m\u001b[0;34m\u001b[0m\u001b[0m\n\u001b[0m\u001b[1;32m      5\u001b[0m \u001b[0mdata\u001b[0m\u001b[0;34m.\u001b[0m\u001b[0mhist\u001b[0m\u001b[0;34m(\u001b[0m\u001b[0;34m)\u001b[0m\u001b[0;34m\u001b[0m\u001b[0;34m\u001b[0m\u001b[0m\n\u001b[1;32m      6\u001b[0m \u001b[0mplt\u001b[0m\u001b[0;34m.\u001b[0m\u001b[0mshow\u001b[0m\u001b[0;34m(\u001b[0m\u001b[0;34m)\u001b[0m\u001b[0;34m\u001b[0m\u001b[0;34m\u001b[0m\u001b[0m\n",
            "\u001b[0;31mNameError\u001b[0m: name 'pd' is not defined"
          ]
        }
      ]
    },
    {
      "cell_type": "code",
      "source": [
        "correlacao = data.corr()\n",
        "plt.matshow(correlacao)"
      ],
      "metadata": {
        "id": "eHS6qK_LIgjR"
      },
      "execution_count": null,
      "outputs": []
    },
    {
      "cell_type": "code",
      "source": [
        "import matplotlib.pyplot as plt\n",
        "import numpy as np\n",
        "\n",
        "plt.figure(figsize=(10, 7))\n",
        "theta = [0, np.pi/2, np.pi]\n",
        "r = [0, 1, 1.5]\n",
        "ax = plt.subplot(111, projection='polar')\n",
        "ax.plot(theta, r, 'r.', markersize=16)\n",
        "ax.set_rmax(2.0)\n",
        "ax.set_rticks([0.5, 1.0, 1.5, 2.0])  # Para ajustar os rótulos\n",
        "ax.set_title(label='Gráfico polar com pontos', fontsize=14)\n",
        "\n",
        "plt.savefig('first_polar_plot.png', dpi=400, transparent=True)"
      ],
      "metadata": {
        "id": "O15P__A_IhnB"
      },
      "execution_count": null,
      "outputs": []
    },
    {
      "cell_type": "code",
      "source": [
        "import numpy as np\n",
        "import matplotlib.pyplot as plt\n",
        "\n",
        "theta = np.arange(0, 2*np.pi, 0.01)\n",
        "\n",
        "P_2_2 = abs((np.sqrt(15)/4) * (np.sin(theta)**2))\n",
        "P_2_1 = abs((np.sqrt(15)/2) * (np.sin(theta)*np.cos(theta)))\n",
        "P_2_0 = abs((np.sqrt(10)/4) * (3*np.cos(theta)**2 - 1))\n",
        "\n",
        "fig = plt.figure(figsize=(12,12))\n",
        "\n",
        "ax = plt.subplot(221, projection='polar')\n",
        "ax.plot(theta, P_2_0, color = 'b')\n",
        "ax.set_rmax(1.8)\n",
        "ax.set_rticks([0.4, 0.8, 1.2, 1.6])  \n",
        "ax.set_title(label='$P(\\Theta)_{3,0,0}$', fontsize=16)\n",
        "ax.grid(True)\n",
        "\n",
        "ax = plt.subplot(222, projection='polar')\n",
        "ax.plot(theta, P_2_1, color = 'r')\n",
        "ax.set_rmax(1.2)\n",
        "ax.set_rticks([0.3, 0.6, 0.9, 1.2])  \n",
        "ax.set_title(label='$P(\\Theta)_{3,2,\\pm1}$', fontsize=16)\n",
        "ax.grid(True)\n",
        "\n",
        "ax = plt.subplot(223, projection='polar')\n",
        "ax.plot(theta, P_2_2, color = 'g')\n",
        "ax.set_rmax(1.2)\n",
        "ax.set_rticks([0.3, 0.6, 0.9, 1.2])  \n",
        "ax.set_title(label='$P(\\Theta)_{3,2,\\pm2}$', fontsize=16)\n",
        "ax.grid(True)\n",
        "plt.tight_layout()\n",
        "plt.savefig('polar_orbitais_d.png', dpi=400, transparent=True)"
      ],
      "metadata": {
        "id": "rS7pC6SQIhwn"
      },
      "execution_count": null,
      "outputs": []
    },
    {
      "cell_type": "code",
      "source": [
        "import numpy as np\n",
        "import matplotlib.pyplot as plt\n",
        "\n",
        "x = np.arange(-5.0, 5.0, 0.1)\n",
        "y = np.arange(-5.0, 5.0, 0.1)\n",
        "X, Y = np.meshgrid(x, y)\n",
        "\n",
        "Z = X**2 + Y**2\n",
        "\n",
        "plt.figure(figsize=(5,5))\n",
        "\n",
        "contorno = plt.contour(X, Y, Z, 10, colors='black')\n",
        "\n",
        "plt.clabel(contorno, inline=0.5, fontsize=8)\n",
        "\n",
        "plt.title('Curvas de nível', fontsize = 16)\n",
        "plt.xlabel('X', fontsize=14)\n",
        "plt.ylabel('Y', fontsize=14)\n",
        "\n",
        "plt.tight_layout()\n",
        "\n",
        "plt.savefig('2D_curva_de_nivel_01.png', dpi=400, transparent=True)"
      ],
      "metadata": {
        "id": "tErZ_t2rIh1w"
      },
      "execution_count": null,
      "outputs": []
    },
    {
      "cell_type": "code",
      "source": [
        "import numpy as np\n",
        "import matplotlib.pyplot as plt\n",
        "\n",
        "L, nx, ny = 1, 2, 2\n",
        "x = np.linspace(0, L, 20)\n",
        "y = np.linspace(0, L, 20)\n",
        "X, Y = np.meshgrid(x,y)\n",
        "\n",
        "Psi = (2/L) * np.sin(nx*np.pi*X/L) * np.sin(ny*np.pi*Y/L)\n",
        "\n",
        "fig = plt.figure(figsize=(10,6))\n",
        "plt.contourf(X, Y, Psi, 12, cmap='jet', alpha=0.8)\n",
        "contorno = plt.contour(X, Y, Psi, 12, colors='black')\n",
        "plt.clabel(contorno)\n",
        "\n",
        "plt.title('Gráfico 2D de $\\Psi_{2,2}(X,Y)$', fontsize=16)\n",
        "plt.ylabel('Y', fontsize = 14)\n",
        "plt.xlabel('X', fontsize = 14)\n",
        "plt.savefig('2D_part_in_box_600.png', dpi=600, transparent=True)"
      ],
      "metadata": {
        "id": "sOiRoBC-Ih6Z"
      },
      "execution_count": null,
      "outputs": []
    },
    {
      "cell_type": "code",
      "source": [],
      "metadata": {
        "id": "Yzq-S2D4X2TE"
      },
      "execution_count": null,
      "outputs": []
    },
    {
      "cell_type": "markdown",
      "source": [
        "---\n",
        "# **FIM**"
      ],
      "metadata": {
        "id": "TRWnyb7mj3Lv"
      }
    }
  ]
}