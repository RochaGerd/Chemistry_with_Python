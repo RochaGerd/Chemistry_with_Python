{
  "cells": [
    {
      "cell_type": "markdown",
      "metadata": {
        "id": "view-in-github",
        "colab_type": "text"
      },
      "source": [
        "<a href=\"https://colab.research.google.com/github/RochaGerd/Chemistry_with_Python/blob/main/8a_EQC_2024_ptbr.ipynb\" target=\"_parent\"><img src=\"https://colab.research.google.com/assets/colab-badge.svg\" alt=\"Open In Colab\"/></a>"
      ]
    },
    {
      "cell_type": "markdown",
      "source": [
        "|    |    |    |\n",
        "|:----:|:----:|:----:|\n",
        "|<img src = \"https://github.com/RochaGerd/Chemistry_with_Python/blob/main/figures/Imagem_UFPB.gif?raw=true\" width = \"150\"> | <img src = \"https://github.com/RochaGerd/Chemistry_with_Python/blob/main/figures/Imagem_DQ_UFPB.png?raw=true\" width = \"250\"> | <img src = \"https://github.com/RochaGerd/Chemistry_with_Python/blob/main/figures/LQQC_2024.png?raw=true\" width = \"300\">|"
      ],
      "metadata": {
        "id": "HcusHx6dYc_v"
      }
    },
    {
      "cell_type": "markdown",
      "metadata": {
        "id": "5R90HG8BEeUO"
      },
      "source": [
        "#**MÉTODOS QUÂNTICOS SEMIEMPÍRICOS: TEORIA E PRÁTICA**\n",
        "##***Modelando sistemas biológicos com métodos Semiempíricos de química quântica***\n",
        "\n",
        "##Autores: Prof. Gerd Bruno Rocha, Dr. Igor Barden Grillo e M.Sc. Luiz Eduado Gomes da Cruz\n",
        "###(gbr@academico.ufpb.br e https://www.quantum-chem.pro.br/)\n",
        "\n",
        "####Links:\n",
        "\n",
        "1. <https://github.com/RochaGerd/Chemistry_with_Python>\n",
        "2. <https://pense-python.caravela.club/introducao.html>\n",
        "3. <https://github.com/pythonchembook>\n",
        "\n",
        "***Versão: 1.0 (04-DEZ-24)***\n",
        "\n",
        "----------------------\n",
        "\n",
        "### **Minicurso prático**\n",
        "#### *Duração Total: 4 horas, divididos em dois dias*\n",
        "\n",
        "Requisitos: Ter familiaridade com Python e conceitos de química. Possuir conta no Google (**preferência**) ou Replit.\n",
        "\n",
        "Ambiente de programação: **Plataforma Google Colab (<https://colab.research.google.com/>)** ou Replit (<https://replit.com/>).\n",
        "\n",
        "\n",
        "***Material bibliográfico sobre uso de Python em Química:***\n",
        "\n",
        "1. Aprendendo Química com Python, Rodrigo Queiroz e Gerd Rocha, 2021, Amazon Book. <https://github.com/pythonchembook>\n",
        "\n",
        "  Link para compra: <https://www.amazon.com/Aprendendo-Qu%C3%ADmica-com-python-Portuguese/dp/B09LGSG6TY>\n",
        "\n",
        "2. J. Mueller. Começando a Programar em Python Para Leigos. Alta Books, 2020.\n",
        "3. A. Downey. Pense em Python: Pense como um cientista da computação. Novatec, 2016.\n",
        "4. <https://penseallen.github.io/PensePython2e/>\n",
        "5. <https://python-guide-pt-br.readthedocs.io/pt_BR/latest/>\n",
        "6. <https://aprendendo-computacao-com-python.readthedocs.io/en/latest/index.html>\n",
        "7. Websites, tutoriais, artigos (visite o portal do Journal of chemical education) e outros mais.\n",
        "\n",
        "---------------------------\n",
        "\n",
        "\n"
      ]
    },
    {
      "cell_type": "markdown",
      "metadata": {
        "id": "TiDeGJfU1aFL"
      },
      "source": [
        "\n",
        "###**Conteúdo do Minicurso teórico/prático:**\n",
        "\n",
        "####**(Dia 10/12/24): Teoria semiempírica, apresentação do programa MOPAC, Cálculos termodinâmicos de biomoléculas e Cálculos de estrutura eletrônica de biomoléculas**\n",
        "\n",
        "####**Considerações finais**\n",
        "####**Formulário de *feedback* do minicurso**\n",
        "\n",
        "-------------\n",
        "\n",
        "**Tutoriais e Documentação**\n",
        "   - [Google Colaboratory Documentation](<https://colab.research.google.com/notebooks/intro.ipynb>)\n",
        "   "
      ]
    },
    {
      "cell_type": "markdown",
      "metadata": {
        "id": "cy85UL_CgaHz"
      },
      "source": [
        "---------------\n",
        "##**Objetivos**\n",
        "\n",
        "1. Permitir a popularização da programação para químicos(a)s\n",
        "2. Divulgar aspectos introdutórios dos métodos de modelagem/simulação molecular como estratégia de aprendizado de química\n",
        "3. Mostrar a potencialidade da modelagem/simulação molecular para pesquisa em química e áreas afins\n",
        "4. Apresentar uma platafoma online que permite realizar modelagem/simulação molecular *open source*."
      ]
    },
    {
      "cell_type": "markdown",
      "metadata": {
        "id": "7RthalL70Dyl"
      },
      "source": [
        "-----------\n",
        "## **Público alvo**\n",
        "\n",
        "1. Alunos de graduação e de pós-graduação sem experiência com modelagem/simulação molecular\n",
        "2. Alunos de graduação e de pós-graduação com pouca base de programação em python\n",
        "3. Pesquisadores interessados na temática\n",
        "\n",
        "------------"
      ]
    },
    {
      "cell_type": "markdown",
      "metadata": {
        "id": "kSGYdTlPEwap"
      },
      "source": [
        "#<font color=\"Green\"> **Introdução(*)** </font>\n",
        "\n",
        "Colab é um ambiente do tipo Jupyter Notebook gratuito fornecido pelo Google onde você pode usar recursos computacionais que precisem de CPUs, GPUs e TPUs.\n",
        "\n",
        "É um ambiente que foi bem desenhado para Aprendizado de Máquina ou Inteligência artificial.\n",
        "\n",
        "No entanto, nesse tutorial vamos mostrar como usar esse ambiente computacional para fazer modelagem molecular em todos os aspectos.\n",
        "\n",
        "##<font color=\"Green\"> **Como ter acesso ao Google Colaboratory** </font>\n",
        "\n",
        "Você pode fazer uma busca no google por \"google colaboratory\" para saber mais sobre a ferramenta. Para ter acesso à ferramenta é preciso possuir uma conta google. Uma vez que você tenha aberto uma conta na google, automaticamente você terá acesso à ferramenta *Google Colaboratoy*.\n",
        "\n",
        "O link direto é <https://colab.google/>. Nesse link você poderá criar um novo *Notebook* ou abrir a ferramenta. Clique em *Open Colab*.\n",
        "\n",
        "Ao clicar em *Open Colab*, você será redirecionado para uma janela onde você pode escolher em abrir um novo *Notebook* ou abrir um existente. Para quem não tem familiaridade nenhuma com a ferramenta é acoselhado tentar abrir *Notebooks* já prontos que estão na aba de *Exemplos*. Lá você vai encontrar mais de uma dezena de exemplos de como usar o *Colab*, desde tutoriais iniciais até os avançados.\n",
        "\n",
        "## <font color=\"Green\"> **Começando a usar o Colab** </font>\n",
        "\n",
        "Nativamente o *Colab* é uma ferramenta de programação em Python ou R. Mas, vamos ver nesse tutorial que pode ser usada para muito mais coisas.\n",
        "\n",
        "Para selecionar se vai programar em Python ou em R, basta ir no menu *Editar* e selecionar a opção *Configurações de Notebook*. Vai ser aberta uma janela onde você pode selecionar a linguagem do seu *notebook*, bem como selecionar também o ambiente computacional que você vai usar.\n",
        "\n",
        "As opções são:\n",
        "\n",
        "* CPU\n",
        "* T4 GPU\n",
        "* A100 GPU\n",
        "* V100 GPU\n",
        "* TPU\n",
        "\n",
        "Na conta gratuita da plataforma Google, você terá direito a rodar em um ambiente de CPU contendo 2 cores e também poderá selecionar os aceleradores T4 GPU e TPU. As outras opções só estarão disponíveis mediante assinatura da ferramenta *Google Colab*. Que pode ser feito clicando nessa mesma janela na opção \"Compre mais unidades de computação\".\n",
        "\n",
        "Para se conectar ao ambiente de execução selecionado, você deve clicar no botão *Conectar* que fica no canto superior direito. Ou explorar o menu ao lado desse mesmo botão.\n",
        "\n",
        "Uma vez conectado a um ambiente de execução, você pode conferir os recursos computacionais disponíveis para você usar, tais como memória RAM e disco. Ao clicar no mostrativo de recurso, se abrirá uma janela onde várias informações são mostradas em detalhes.\n",
        "\n",
        "Mude o nome do seu *notebook* de acordo com seu interesse. É sempre bom usar nomes sem espaços no meio. Para isso use o caractere \"_\".\n",
        "\n"
      ]
    },
    {
      "cell_type": "markdown",
      "metadata": {
        "id": "cQ5fFKbEOrJf"
      },
      "source": [
        "-------------\n",
        "\n",
        "###<font color=\"purple\"> **A partir desse ponto(*)** </font>\n",
        "\n",
        "Se você está seguindo esse tutorial usando a ferramenta *Colab*, a partir desse ponto você deve ir no menu *Arquivo* e clicar na opção *Salvar uma cópia no Drive*. Isso vai permitir que você tenha uma cópia desse *.ipynb* no seu *Google Drive* e possa ter total controle sobre o mesmo.\n",
        "\n",
        "-----------"
      ]
    },
    {
      "cell_type": "markdown",
      "metadata": {
        "id": "xuIjClXMPpik"
      },
      "source": [
        "##<font color=\"purple\"> **O *Colab* é uma plataforma de linux (*)** </font>\n",
        "\n",
        "Ao se conectar ao ambiente de execução do *Colab*, automaticamente é montado para você um \"mini\" ambiente Linux.\n",
        "\n",
        "Veja que existe uma barra lateral contendo sete ícones. Ao clicar no quarto ícone (de cima pra baixo) vai dar acesso a a uma janela onde você pode navegar na estrutura de arquivos e pastas que foi criada.\n",
        "\n",
        "A pasta que é apresentada por padrão é a */content*. É nela onde os arquivos (*outputs*) que serão produzidos por meio de suas execuções serão salvas (por padrão) e também é a pasta onde você deve pôr seus *inputs* para serem lidos pelos procedimentos que constarão nas suas execuções.\n",
        "\n",
        "Navegar nessa janela é muito intuitivo. Se parece muito com muitos gerenciadores de arquivos de ambientes Linux, Windows, Android, IOS, etc.\n",
        "\n",
        "Nessa janela você pode fazer *upload* e *download* de arquivos, bem como criar pastas e também navegar pelas pastas existentes. Se você navegar pela estrutura de pastas desse ambiente você vai perceber claramente que se trata de um ambiente Linux.\n",
        "\n",
        "Esse detalhe é muito importante porque vamos explorar bastante. Já que se trata de um ambiente Linux, então poderemos explorá-lo praticamente da mesma forma como se tivéssemos um computador Linux na nossa frente, com uma grande diferença, esse computador aceleradores tipo GPU ou TPU a nossa disposição. As duas únicas exigências são que tenhamos uma conta na *Google* e tenhamos acesso à internet.\n",
        "\n",
        "E nesse tutorial para Modelagem e Simulação Molecular iremos nos beneficiar bastante dessa situação e:\n",
        "\n",
        "* Instalar programas de modelagem e simulação molecular, inclusive compilando-os a partir dos seus códigos fonte.\n",
        "* Executá-los em paralelo nas CPUs (com OpenMP e MPI) e aceleradores (GPU e TPU)\n",
        "* Montar drives permanentes\n",
        "* Importar/publicar *notebooks* do/no github\n",
        "* Etc.\n",
        "\n",
        "------------\n",
        "\n",
        "\n",
        "\n",
        "\n",
        "\n"
      ]
    },
    {
      "cell_type": "markdown",
      "metadata": {
        "id": "TQrnvyWzVdwv"
      },
      "source": [
        "#<font color=\"green\"> **Começando a programar em Python** </font>\n",
        "\n",
        "Esse tutorial não foi produzido para apresentar a linguagem Python ou R. Para aprender a programar em Python sugiro os materiais a seguir:\n",
        "\n",
        "### **Para Python**\n",
        "\n",
        "1. Aprendendo Química com Python, Rodrigo Queiroz e Gerd Rocha, 2021, Amazon Book. <https://github.com/pythonchembook>\n",
        "\n",
        "  Link para compra: <https://www.amazon.com/Aprendendo-Qu%C3%ADmica-com-python-Portuguese/dp/B09LGSG6TY>\n",
        "\n",
        "2. J. Mueller. Começando a Programar em Python Para Leigos. Alta\n",
        "Books, 2020.\n",
        "3. A. Downey. Pense em Python: Pense como um cientista da computação. Novatec, 2016.\n",
        "4. <https://penseallen.github.io/PensePython2e/>\n",
        "5. <https://python-guide-pt-br.readthedocs.io/pt_BR/latest/>\n",
        "6. <https://aprendendo-computacao-com-python.readthedocs.io/en/latest/index.html>\n",
        "7. <https://github.com/RochaGerd/Chemistry_with_Python>\n",
        "\n",
        "\n",
        "### **Para R**\n",
        "\n",
        "1. <https://www.r-project.org/doc/bib/R-books.html>\n",
        "2. Joseph Schmuller. Análise Estatística com R Para Leigos, Alta Books; 1ª edição - Tradução da 2ª edição (22 fevereiro 2019).\n",
        "3. <https://icaroagostino.github.io/post/learnr/>\n",
        "\n",
        "--------------------\n",
        "\n",
        "O ambiente de programação do *Google Colab* é muito próximo de um ambiente do Jupyter Notebook. Onde você vai escrever seus códigos nas células de execução. A execução pode ser feita pelas teclas \"Shift\" e \"Enter\" pressionada juntas ou também clicando-se no botão de \"Play* que cada célula possui.\n",
        "\n",
        "O ambiente do *Google Colab* também permite que você insira células de texto, onde é usada a linguagem *Markdown* para editção e formatação dessas células.\n",
        "\n",
        "Com a liguagem *Markdown* você pode construir tabelas, inserir equações e imagens, e muitas coisas mais.\n",
        "\n",
        "Veja exemplos:\n",
        "\n",
        "$\\sqrt{3x-1}+(1+x)^2$\n",
        "\n",
        "$e^x = \\sum_{i = 0}^\\infty \\frac{1}{i!}x^i$\n",
        "\n",
        "Vale muito a pena saber um pouco mais da linguagem *Markdown*. Existem muitos turoriais para se aprender *Markdown*. Aqui apresento uma lista rápida conseguida através de uma busca simples. Mas existem livros e materiais mais avançados.\n",
        "\n",
        "* <https://www.markdowntutorial.com/>\n",
        "* <https://www.markdownguide.org/>\n",
        "* <https://markdown.net.br>\n",
        "* <https://experienceleague.adobe.com/docs/contributor/contributor-guide/writing-essentials/markdown.html?lang=pt-BR>\n",
        "\n",
        "------------------\n"
      ]
    },
    {
      "cell_type": "markdown",
      "metadata": {
        "id": "tpkQ0Gc1n2Gu"
      },
      "source": [
        "\n",
        "### <font color=\"purple\"> **Importação de bibliotecas no Python/Google *Colab*** </font>\n",
        "\n",
        "Existe um minicurso de noções de Python mais completo do que este que exploraremos aqui e pode ser encontrado no link a seguir:\n",
        "\n",
        "- <https://github.com/RochaGerd/Chemistry_with_Python>\n",
        "\n",
        "Aqui, nesse minicurso, mostrarei apenas os seguintes conteúdos de Python:\n",
        "\n",
        "- Bibliotecas essenciais (numpy, matplotlib e pandas)\n",
        "\n"
      ]
    },
    {
      "cell_type": "markdown",
      "metadata": {
        "id": "VbfdolSCn2Gu"
      },
      "source": [
        "---\n",
        "#### **Bibliotecas e módulos**\n",
        "\n",
        "Bibliotecas são coleções de funções e classes (e às vezes de dados gerais e constantes) que podem ser facilmente importadas em Python de forma a possibilitar uma enorme variedade de operações com um mínimo de código.\n",
        "\n",
        "Links de bibliotecas em Python\n",
        "\n",
        "- <https://pypi.org/>\n",
        "- <http://datascienceacademy.com.br/blog/top-20-bibliotecas-python-para-data-science/>\n",
        "\n",
        "Algumas dessas bibliotecas precisam ser instaladas. Elas não vêm com a distribuição do python.\n",
        "\n",
        "Primeiro você tem que instalar a biblioteca\n",
        "\n",
        "- Para isso você deve usar os gerenciadores de pacotes de Python: PyPi (<https://pypi.org/>) ou \"*Conda*\".\n",
        "- <http://pyscience-brasil.wikidot.com/install:como-instalar-o-numpy>\n",
        "- <https://computadorcomwindows.com/2018/01/19/tutorial-como-instalar-uma-biblioteca-python-no-computador/>\n",
        "- <http://pyscience-brasil.wikidot.com/>\n",
        "\n",
        "Para carregar uma bibloteca e/ou pacote no seu programa, use uma das seguintes chamadas:\n",
        "\n",
        "\n",
        "```python\n",
        "import biblioteca\n",
        "import biblioteca as apelido\n",
        "from biblioteca import módulo\n",
        "from biblioteca import módulo as apelido\n",
        "from biblioteca import função\n",
        "from biblioteca import função as apelido\n",
        "```\n",
        "\n",
        "---"
      ]
    },
    {
      "cell_type": "markdown",
      "metadata": {
        "id": "fUNqqul6deAs"
      },
      "source": [
        "### <font color=\"purple\"> **Procedimentos simples** </font>"
      ]
    },
    {
      "cell_type": "code",
      "execution_count": null,
      "metadata": {
        "id": "FrDEJrIRa5lQ"
      },
      "outputs": [],
      "source": [
        "# Mostrar data e hora da execução\n",
        "import time\n",
        "print(time.ctime())"
      ]
    },
    {
      "cell_type": "code",
      "execution_count": null,
      "metadata": {
        "id": "VsB-nCypOqgn"
      },
      "outputs": [],
      "source": [
        "# Versão do Python usada\n",
        "import sys\n",
        "print(sys.version)"
      ]
    },
    {
      "cell_type": "code",
      "execution_count": null,
      "metadata": {
        "id": "J-I0fn9xc95c"
      },
      "outputs": [],
      "source": [
        "# Verificando a GPU\n",
        "\n",
        "import tensorflow as tf\n",
        "tf.test.gpu_device_name()"
      ]
    },
    {
      "cell_type": "code",
      "execution_count": null,
      "metadata": {
        "id": "Opc1SPEadIDS"
      },
      "outputs": [],
      "source": [
        "# verificando a TPU\n",
        "import os\n",
        "if 'COLAB_TPU_ADDR' not in os.environ:\n",
        "   print('Not connected to TPU')\n",
        "else:\n",
        "   print(\"Connected to TPU\")"
      ]
    },
    {
      "cell_type": "code",
      "execution_count": null,
      "metadata": {
        "id": "WSlMOBxhdZig"
      },
      "outputs": [],
      "source": [
        "import multiprocessing\n",
        "\n",
        "cores = multiprocessing.cpu_count() # Count the number of cores in a computer\n",
        "cores"
      ]
    },
    {
      "cell_type": "code",
      "execution_count": null,
      "metadata": {
        "id": "-nzPeo4ka92E"
      },
      "outputs": [],
      "source": [
        "# Imprimir uma mensagem na tela\n",
        "print(\"Olá turma de Química!\") # Essa é a mensagem"
      ]
    },
    {
      "cell_type": "code",
      "execution_count": null,
      "metadata": {
        "id": "DNjMqQJWbCPg"
      },
      "outputs": [],
      "source": [
        "# Exemplo de importação da biblioteca matemática NumPy\n",
        "import numpy as np\n",
        "print (\"Versão da NumPy\", np.__version__)"
      ]
    },
    {
      "cell_type": "code",
      "execution_count": null,
      "metadata": {
        "id": "phx3jrXebCTH"
      },
      "outputs": [],
      "source": [
        "print(4.0*np.pi) # Imprime a operação 4.0*Pi\n",
        "\n",
        "print(np.sqrt(10.0)) # Imprime a raiz quadrada de 10.0\n",
        "\n",
        "print(2.0*np.cos(np.pi)) # Função cosseno\n",
        "\n",
        "print(np.abs(-3.0*np.pi)) # Função valor absoluto"
      ]
    },
    {
      "cell_type": "code",
      "execution_count": null,
      "metadata": {
        "id": "WMmrcJNGbCZ0"
      },
      "outputs": [],
      "source": [
        "import pandas as pd\n",
        "print(\"Versão do Pandas\", pd.__version__)"
      ]
    },
    {
      "cell_type": "code",
      "execution_count": null,
      "metadata": {
        "id": "HfeZkjjUbCc0"
      },
      "outputs": [],
      "source": [
        "%%file dados.csv\n",
        "X,Y\n",
        "  1.1,     3.5\n",
        "  4. ,     6.9\n",
        "  0.1,     9.5\n",
        " 23.89,   67.789\n",
        " -4.999,  55.456\n",
        "-35.,     34.98"
      ]
    },
    {
      "cell_type": "code",
      "execution_count": null,
      "metadata": {
        "id": "KQve6BPTbCft"
      },
      "outputs": [],
      "source": [
        "# Se colunas estão separadas por espaços ou tabulações , use :\n",
        "data = pd.read_csv('dados.csv',header=0)      # colunas separadas por ','\n",
        "\n",
        "type(data)"
      ]
    },
    {
      "cell_type": "code",
      "execution_count": null,
      "metadata": {
        "id": "01C06K09bCi4"
      },
      "outputs": [],
      "source": [
        "data"
      ]
    },
    {
      "cell_type": "code",
      "execution_count": null,
      "metadata": {
        "id": "HBdZxHXLbp4x"
      },
      "outputs": [],
      "source": [
        "data.to_excel('dados_novo.xlsx', index = False)  # exporte como xlsx"
      ]
    },
    {
      "cell_type": "code",
      "execution_count": null,
      "metadata": {
        "id": "zRDxSAQJbp-3"
      },
      "outputs": [],
      "source": [
        "# Para importar um arquivo do Microsoft Excel , recomendamos\n",
        "# exportar os dados do excel como . csv e usar o comando da\n",
        "# linha 3 acima , pois o comando abaixo pode dar erro e\n",
        "# ser necessário instalar outras bibliotecas ( ex : 'xlrd ')\n",
        "\n",
        "data_new = pd.read_excel('dados_novo.xlsx', sheet_name = 'Sheet1')\n",
        "data_new"
      ]
    },
    {
      "cell_type": "code",
      "execution_count": null,
      "metadata": {
        "id": "mOYgGQcPbqDf"
      },
      "outputs": [],
      "source": [
        "%matplotlib inline\n",
        "import matplotlib as mpl\n",
        "import matplotlib.pyplot as plt\n",
        "\n",
        "print (\"Versão da Matplotlib usada:\", mpl.__version__)"
      ]
    },
    {
      "cell_type": "code",
      "execution_count": null,
      "metadata": {
        "id": "O_nxGhTqbqGu"
      },
      "outputs": [],
      "source": [
        "from matplotlib import pyplot as plt # Comando para carregar o módulo PyPlot da Matplotlib\n",
        "\n",
        "ax = [0., 0.5, 1.0, 1.5, 2.0, 2.5, 3.0]\n",
        "ay = [0.0, 0.25, 1.0, 2.25, 4.0, 6.25, 9.0]\n",
        "plt.plot(ax,ay)\n",
        "plt.show()"
      ]
    },
    {
      "cell_type": "code",
      "execution_count": null,
      "metadata": {
        "id": "kMskdBEmn2Gx"
      },
      "outputs": [],
      "source": [
        "# Exemplo Distribuição de Velocidades moleculares em um gás ideal\n",
        "# A distribuição das velocidades das moléculas de um gás ideal pode ser calculada com base no tratamento dado por James Clerk Maxwell juntamente com Ludwig Boltzmann.\n",
        "# Considere 1 mol de gás carbônico (CO2) inserido em um recipiente de volume fixo de 1L.\n",
        "# Obtenha as curvas de distribuição de velocidade molecular para essa amostra nas temperaturas de 300K e 800K.\n",
        "# Fonte para consulta: Tópico 3D.3 do livro Peter Atkins, Loretta Jones e Lerroy Laverman, Princípios de Química: questionando a vida moderna e o meio ambiente, 7.ed., Porto Alegre, Bookman, 2018.\n",
        "import numpy as np\n",
        "import matplotlib.pyplot as plt\n",
        "\n",
        "M_CO2 = 44.0095  # Em g/mol\n",
        "R = 8.3145 # J/(K*mol)\n",
        "T1 = 300  # K\n",
        "T2 = 800  # K\n",
        "ct1 = ((M_CO2/1000.0)/(2.0*R*T1))\n",
        "ct2 = ((M_CO2/1000.0)/(2.0*R*T2))\n",
        "\n",
        "npt = 100000\n",
        "vmin, vmax = 0.01, 2000.0\n",
        "v = np.linspace(vmin, vmax, npt)\n",
        "\n",
        "fr1 = 4.0*np.pi*((ct1/np.pi)**(1.5))*np.square(v)*np.exp(-ct1*np.square(v))\n",
        "fr2 = 4.0*np.pi*((ct2/np.pi)**(1.5))*np.square(v)*np.exp(-ct2*np.square(v))\n",
        "\n",
        "plt.plot(v,fr1, label=\"T = 300K\", lw = 2.5)\n",
        "plt.plot(v,fr2, label=\"T = 800K\", lw = 2.5)\n",
        "plt.title(\"Gráfico de distribuições de velocidades moleculares \", fontsize=16)\n",
        "plt.xlabel(\"Velocidade molecular (m/s)\",fontsize=14)\n",
        "plt.ylabel(\"Fração, f(v) (s/m)\",fontsize=14)\n",
        "plt.legend()\n",
        "plt.tight_layout()\n",
        "plt.savefig('molecular_speed.png',dpi=400, transparent=True)\n",
        "plt.show()"
      ]
    },
    {
      "cell_type": "code",
      "execution_count": null,
      "metadata": {
        "id": "wfbFw5LpcB3u"
      },
      "outputs": [],
      "source": [
        "# Expemplo 5.5\n",
        "# Um elétron (me = 9,1 x 10 ^-31 kg) está confinado em uma caixa unidimensional de tamanho 50 nM.\n",
        "# Produza os gráficos da função de onda do estado fundamental e dos três primeiros estados excitados em uma mesma figura.\n",
        "# Fonte para consulta: Tópico 1C do livro Peter Atkins, Loretta Jones e Lerroy Laverman, Princípios de Química: questionando a vida moderna e o meio ambiente, 7.ed., Porto Alegre, Bookman, 2018.\n",
        "import numpy as np\n",
        "import matplotlib.pyplot as plt\n",
        "\n",
        "L = 50.0e-9                               # tamanho da caixa (m)\n",
        "a0 = 5.2917721067e-11                             # raio de Bohr\n",
        "L_a0 = L / a0             # tamanho da caixa (unidades atômicas)\n",
        "\n",
        "me = 9.1e-31                            # massa do elétron em kg\n",
        "xmin, xmax = 0, L_a0                           # bordas da caixa\n",
        "npt = 1000                            # número de pontos da função\n",
        "x = np.linspace(xmin, xmax, npt)                  # grid de pontos\n",
        "\n",
        "A = np.sqrt(2/L_a0)\n",
        "psi_n1 = A * np.sin(1 * np.pi * x / L_a0)    # psi(x) para n = 1\n",
        "psi_n2 = A * np.sin(2 * np.pi * x / L_a0)    # psi(x) para n = 2\n",
        "psi_n3 = A * np.sin(3 * np.pi * x / L_a0)    # psi(x) para n = 3\n",
        "psi_n4 = A * np.sin(4 * np.pi * x / L_a0)    # psi(x) para n = 4\n",
        "psi_n5 = A * np.sin(5 * np.pi * x / L_a0)    # psi(x) para n = 5\n",
        "\n",
        "fig = plt.figure()\n",
        "\n",
        "plt.subplot(3, 1, 1)\n",
        "plt.plot(x, psi_n5,'-k', lw = 2.0)\n",
        "plt.xlabel('x (em Bohr)')\n",
        "plt.ylabel('$\\Psi_{5}(x)$')\n",
        "plt.plot((0,xmax),(0,0),'--')       # linha horizontal tracejada\n",
        "\n",
        "plt.subplot(3, 2, 3)\n",
        "plt.plot(x, psi_n4,'-b', lw = 2.0)\n",
        "plt.xlabel('x (em Bohr)')\n",
        "plt.ylabel('$\\Psi_{4}(x)$')\n",
        "plt.plot((0,xmax),(0,0),'--')       # linha horizontal tracejada\n",
        "\n",
        "plt.subplot(3, 2, 4)\n",
        "plt.plot(x, psi_n3, '-r', lw = 2.0)\n",
        "plt.xlabel('x (em Bohr)')\n",
        "plt.ylabel('$\\Psi_{3}(x)$')\n",
        "plt.plot((0,xmax),(0,0),'--')       # linha horizontal tracejada\n",
        "\n",
        "plt.subplot(3, 2, 5)\n",
        "plt.plot(x, psi_n2, '-g', lw = 2.0)\n",
        "plt.xlabel('x (em Bohr)')\n",
        "plt.ylabel('$\\Psi_{2}(x)$')\n",
        "plt.plot((0,xmax),(0,0),'--')       # linha horizontal tracejada\n",
        "\n",
        "plt.subplot(3, 2, 6)\n",
        "plt.plot(x, psi_n1, '-y', lw = 2.0)\n",
        "plt.xlabel('x (em Bohr)')\n",
        "plt.ylabel('$\\Psi_{1}(x)$')\n",
        "\n",
        "plt.tight_layout()\n",
        "\n",
        "plt.show()"
      ]
    },
    {
      "cell_type": "code",
      "execution_count": null,
      "metadata": {
        "id": "EU3wamg3n2Gx"
      },
      "outputs": [],
      "source": [
        "import numpy as np\n",
        "import matplotlib.pyplot as plt\n",
        "\n",
        "L, nx, ny = 1, 2, 2\n",
        "x = np.linspace(0, L, 20)\n",
        "y = np.linspace(0, L, 20)\n",
        "X, Y = np.meshgrid(x,y)\n",
        "\n",
        "Psi = (2/L) * np.sin(nx*np.pi*X/L) * np.sin(ny*np.pi*Y/L)\n",
        "\n",
        "fig = plt.figure(figsize=(10,6))\n",
        "plt.contourf(X, Y, Psi, 12, cmap='jet', alpha=0.8)\n",
        "contorno = plt.contour(X, Y, Psi, 12, colors='black')\n",
        "plt.clabel(contorno)\n",
        "\n",
        "plt.title('Gráfico 2D de $\\Psi_{2,2}(X,Y)$', fontsize=16)\n",
        "plt.ylabel('Y', fontsize = 14)\n",
        "plt.xlabel('X', fontsize = 14)\n",
        "plt.savefig('2D_part_in_box_600.png', dpi=600, transparent=True)"
      ]
    },
    {
      "cell_type": "markdown",
      "metadata": {
        "id": "f5jC6W-_a0RS"
      },
      "source": [
        "\n",
        "--------------------"
      ]
    },
    {
      "cell_type": "markdown",
      "metadata": {
        "id": "umFMgZYQn2Gz"
      },
      "source": [
        "#<font color=\"green\"> **Usando *Google Colab* como uma *workstation* para cálculos de Modelagem Molecular (*)** </font>\n",
        "\n",
        "A partir dessa parte vamos mostrar como utilizar a plataforma *Google Colab* como ambiente de desenvolvimento e execução de modelagens e simulações moleculares.\n",
        "\n",
        "Para a maioria dos pesquisadores que executam códigos de modelagem e simulação molecular é preciso ter um ambiente que permita:\n",
        "\n",
        "* Instalar seus programas, bibliotecas ou compilar seus códigos (fortran, C, C++, etc)\n",
        "* Executar o cálculo em paralelo em CPUs e GPUs\n",
        "* Manipular arquivos e pastas\n",
        "* Outros\n",
        "\n",
        "Vamos ver que dá para fazer tudo isso no ambiente Linux que é oferecido pelo *Google Colab*\n",
        "\n",
        "---------------\n",
        "\n",
        "\n",
        "\n"
      ]
    },
    {
      "cell_type": "markdown",
      "metadata": {
        "id": "Kc0QSMLokhSl"
      },
      "source": [
        "##<font color=\"green\"> **Instalando programas a partir de bibliotecas disponíveis em repositórios (*)** </font>\n",
        "\n",
        "O *Google Colab* já possui muitas bibliotecas de Python pré-instaladas no seu ambiente computacional. Pelo menos as mais conhecidas:\n",
        "\n",
        "* Numpy\n",
        "* Scipy\n",
        "* Matplotlib\n",
        "* Pandas\n",
        "* outras mais.\n",
        "\n",
        "Contudo é interessante saber que você pode instalar uma biblioteca do Python, mesmo que ela não esteja disponível no *Google Colab*.\n",
        "\n",
        "Para fazer isso basta usar o seguinte comando\n",
        "\n",
        "- **!pip install** *nome da biblioteca ou pacote*\n",
        "\n",
        "Ex: **!pip install** *rdkit*\n",
        "\n",
        "---\n",
        "\n",
        "**Fonte: Aprendendo Química com Python, Rodrigo Queiroz e Gerd Rocha, 2021, Amazon Book. <https://github.com/pythonchembook>**\n",
        "\n",
        "\n",
        "-----------------"
      ]
    },
    {
      "cell_type": "code",
      "execution_count": null,
      "metadata": {
        "id": "BgoAm-Ivn2Gz"
      },
      "outputs": [],
      "source": [
        "# Instalando RDKit\n",
        "!pip install rdkit"
      ]
    },
    {
      "cell_type": "code",
      "execution_count": null,
      "metadata": {
        "id": "_khE6YALn2G0"
      },
      "outputs": [],
      "source": [
        "# Importando os módulos do RDKit\n",
        "from rdkit import Chem\n",
        "from rdkit.Chem.Draw import IPythonConsole\n",
        "from rdkit.Chem import Draw\n",
        "IPythonConsole.ipython_useSVG=False  # <-- Colocar Falso se você quiser PNGs ao invés de SVGs\n",
        "from rdkit import rdBase\n",
        "print(\"Versão da RDKit:\", rdBase.rdkitVersion)\n",
        "print(\"Versão da RDKit base:\", rdBase.boostVersion)"
      ]
    },
    {
      "cell_type": "code",
      "execution_count": null,
      "metadata": {
        "id": "7hfN7PtOn2G0"
      },
      "outputs": [],
      "source": [
        "# Gerar estrutura de linhas a partir do código SMILES\n",
        "mol = Chem.MolFromSmiles('c1ccccc1')\n",
        "mol"
      ]
    },
    {
      "cell_type": "code",
      "execution_count": null,
      "metadata": {
        "id": "I8OzKLPWnB6t"
      },
      "outputs": [],
      "source": [
        "#@title <font color=\"purple\"> **Instalando Conda/Mamba (OBS: começar por esse comando \\*)** </font>\n",
        "# Execute this cell to install mamba in the Colab environment\n",
        "\n",
        "if 'google.colab' in str(get_ipython()):\n",
        "  print('Running on colab')\n",
        "  !pip install -q condacolab\n",
        "  import condacolab\n",
        "  condacolab.install_mambaforge()\n",
        "else:\n",
        "  print('Not running on colab.')\n",
        "  print('Make sure you create and activate a new conda environment!')"
      ]
    },
    {
      "cell_type": "code",
      "execution_count": null,
      "metadata": {
        "id": "oEvqiAnPnCCR"
      },
      "outputs": [],
      "source": [
        "!conda --version"
      ]
    },
    {
      "cell_type": "code",
      "execution_count": null,
      "metadata": {
        "id": "C_IkuWmpnCF0"
      },
      "outputs": [],
      "source": [
        "#!which conda"
      ]
    },
    {
      "cell_type": "code",
      "execution_count": null,
      "metadata": {
        "id": "modS6m1qnCJD"
      },
      "outputs": [],
      "source": [
        "# Instalando o AMBERTools\n",
        "\n",
        "#!conda install -c conda-forge ambertools"
      ]
    },
    {
      "cell_type": "code",
      "execution_count": null,
      "metadata": {
        "id": "PKE4K-AqojzL"
      },
      "outputs": [],
      "source": [
        "#!which tleap"
      ]
    },
    {
      "cell_type": "markdown",
      "metadata": {
        "id": "RJO_kA7Zn2G1"
      },
      "source": [
        "----------------------\n",
        "\n",
        "###<font color=\"purple\"> **Montando drive permanente (opcional)** </font>\n",
        "\n",
        "O ambiente criado pelo *Google Colab* só mantem os arquivos produzidos das simulações ou os que foram feitos *upload* enquanto você permanece logado (conectado) ou por pouquissimo tempo após você fechar a ferramenta. Ou seja, esse ambiente é temporário.\n",
        "\n",
        "Mas, você pode montar um espaço de armazenamento externo ao *Colab* por meio do *Google Drive*.\n",
        "\n",
        "No instante que você tentar montar seu drive externo ao *Colab*, o sistema de proteção da Google vai pedir autorização para acessar seus arquivos do *Google Drive*. Aí é só clicar na sua conta Google, pôr sua senha e permitir o acesso. A partir desse momento o seu *Google Drive* estará montado como um drive externo ao *Colab*.\n",
        "\n",
        "Os próximos passos vão mostrar como fazer isso."
      ]
    },
    {
      "cell_type": "code",
      "execution_count": null,
      "metadata": {
        "id": "gaLFSW2Pn2G1"
      },
      "outputs": [],
      "source": [
        "from google.colab import drive\n",
        "drive.mount('/mntDrive')"
      ]
    },
    {
      "cell_type": "code",
      "execution_count": null,
      "metadata": {
        "id": "O_MZvTCdn2G1"
      },
      "outputs": [],
      "source": [
        "# Uma dica é criar uma pasta no seu Google Drive, onde você possa direcionar seus arquivos.\n",
        "# Use nomes sugestivos para isso. Por exemplo: Work_Colab."
      ]
    },
    {
      "cell_type": "code",
      "execution_count": null,
      "metadata": {
        "id": "YIqejwq_n2G1"
      },
      "outputs": [],
      "source": [
        "!ls /mntDrive/MyDrive/Work_Colab/"
      ]
    },
    {
      "cell_type": "markdown",
      "metadata": {
        "id": "RZEVkXAWn2G2"
      },
      "source": [
        "Você tamabém pode montar o drive clicando no quarto ícone de cima para baixo no menu lateral e depois clicando no terceiro ícone da esquerda pra direita. Mais uma vez o Google vai perguntar por uma autorização para acessar seus arquivos do *Google Drive*. Em geral o *Colab* monta seu drive em \"/content\" quando é feito dessa forma."
      ]
    },
    {
      "cell_type": "code",
      "execution_count": null,
      "metadata": {
        "id": "qEe1wsm7n2G2"
      },
      "outputs": [],
      "source": [
        "from google.colab import drive\n",
        "drive.mount('/content/gdrive')"
      ]
    },
    {
      "cell_type": "markdown",
      "metadata": {
        "id": "hHKg-2f0l1l7"
      },
      "source": [
        "###<font color=\"purple\"> **Executando comandos do sistema operacional Linux (opcional)** </font>\n",
        "\n",
        "Os comandos anteriores mostraram que podemos executar qualquer comando do Linux, como se estivessemos em um terminal, usando a sintaxe:\n",
        "\n",
        "* **!comando**"
      ]
    },
    {
      "cell_type": "code",
      "execution_count": null,
      "metadata": {
        "id": "fP8puFHvmjeD"
      },
      "outputs": [],
      "source": [
        "!ls -la *\n",
        "\n",
        "# essa é a pasta /content"
      ]
    },
    {
      "cell_type": "code",
      "execution_count": null,
      "metadata": {
        "id": "saWJPrpQmjmH"
      },
      "outputs": [],
      "source": [
        "# Vendo infos sobre o sistema operacional do ambiente conectado\n",
        "!cat /proc/cpuinfo\n",
        "!cat /proc/meminfo"
      ]
    },
    {
      "cell_type": "code",
      "execution_count": null,
      "metadata": {
        "id": "IQPuGsPafa1V"
      },
      "outputs": [],
      "source": [
        "!lscpu"
      ]
    },
    {
      "cell_type": "code",
      "execution_count": null,
      "metadata": {
        "id": "a4jDEpuJgF0N"
      },
      "outputs": [],
      "source": [
        "!cat /proc/cpuinfo | grep processor | wc -l"
      ]
    },
    {
      "cell_type": "code",
      "execution_count": null,
      "metadata": {
        "id": "9lNR1qnjgLvA"
      },
      "outputs": [],
      "source": [
        "!apt-get install hwinfo"
      ]
    },
    {
      "cell_type": "code",
      "execution_count": null,
      "metadata": {
        "id": "Et79zBy2gunW"
      },
      "outputs": [],
      "source": [
        "!hwinfo --cpu"
      ]
    },
    {
      "cell_type": "code",
      "execution_count": null,
      "metadata": {
        "id": "IARitThHokl4"
      },
      "outputs": [],
      "source": [
        "!nvidia-smi -L"
      ]
    },
    {
      "cell_type": "code",
      "execution_count": null,
      "metadata": {
        "id": "3MA4ytjqopq-"
      },
      "outputs": [],
      "source": [
        "!nvidia-smi -q"
      ]
    },
    {
      "cell_type": "code",
      "execution_count": null,
      "metadata": {
        "id": "n5ZLzfzEotgQ"
      },
      "outputs": [],
      "source": [
        "!nvidia-smi"
      ]
    },
    {
      "cell_type": "code",
      "execution_count": null,
      "metadata": {
        "id": "EDyy9diKq5j0"
      },
      "outputs": [],
      "source": [
        "!free -h --si | awk  '/Mem:/{print $2}'"
      ]
    },
    {
      "cell_type": "code",
      "execution_count": null,
      "metadata": {
        "id": "shDounJ8rbwL"
      },
      "outputs": [],
      "source": [
        "import os\n",
        "if int(os.environ[\"COLAB_GPU\"]) > 0:\n",
        "  print(\"a GPU is connected.\")\n",
        "elif \"COLAB_TPU_ADDR\" in os.environ and os.environ[\"COLAB_TPU_ADDR\"]:\n",
        "  print(\"A TPU is connected.\")\n",
        "else:\n",
        "  print(\"No accelerator is connected.\")"
      ]
    },
    {
      "cell_type": "markdown",
      "metadata": {
        "id": "wYJOjSngmcC2"
      },
      "source": [
        "Gerando arquivos"
      ]
    },
    {
      "cell_type": "code",
      "execution_count": null,
      "metadata": {
        "id": "Qme0rZKXl0oQ"
      },
      "outputs": [],
      "source": [
        "# Truque para gerar arquivos de dados na própria célula do Colab\n",
        "\n",
        "%%file a.txt\n",
        "  1.1     3.5\n",
        "  4.      6.9\n",
        "  0.1     9.5\n",
        " 23.89   67.789\n",
        " -4.999  55.456\n",
        "-35.     34.98"
      ]
    },
    {
      "cell_type": "code",
      "execution_count": null,
      "metadata": {
        "id": "mbUbg_1rnfbI"
      },
      "outputs": [],
      "source": [
        "# Executando comandos a partir de um arquivo \"temporário\" bash\n",
        "# Veja que aqui não é preciso usar o caractere \"!\" antes do comando do sistema operacional\n",
        "%%bash\n",
        "pwd\n",
        "ls -la *"
      ]
    },
    {
      "cell_type": "code",
      "execution_count": null,
      "metadata": {
        "id": "LDI0o6BgecB8"
      },
      "outputs": [],
      "source": [
        "# para omitir a saida de muitos comandos\n",
        "%%capture\n",
        "!pip install py3Dmol\n",
        "!pip instal pyscf\n",
        "!pip instal ase"
      ]
    },
    {
      "cell_type": "markdown",
      "metadata": {
        "id": "DiAqKXUDecY_"
      },
      "source": [
        "----------------\n",
        "##<font color=\"green\"> **Instalando programas a partir de executáveis compilados em máquinas externas (opcional)** </font>\n",
        "\n",
        "Aqui a dica é compilar seu código em uma máquina Linux e fazer o *upload* para a pasta de interesse. Podendo ser inclusive a do seu drive montado.\n",
        "\n",
        "Testar com um código simples de fortran.\n",
        "\n",
        "Program Hello\n",
        "\n",
        "write(6,*) \"Hello Bro !!\"\n",
        "\n",
        "stop 'O programa acabou'\n",
        "\n",
        "End Program Hello\n",
        "\n",
        "*Compila com gfortran -o hello.exe hello.f90*\n",
        "Você deve copiar seu executável para a pasta /content e executá-lo."
      ]
    },
    {
      "cell_type": "code",
      "execution_count": null,
      "metadata": {
        "id": "oyuV5ittefyX"
      },
      "outputs": [],
      "source": [
        "!/contet/hello.exe"
      ]
    },
    {
      "cell_type": "markdown",
      "metadata": {
        "id": "bvXIidfGegzP"
      },
      "source": [
        "-------------------\n",
        "##<font color=\"green\"> **Compilando seus códigos dentro do ambiente do *Colab* (opcional)** </font>\n",
        "\n",
        "Como se trata de um ambiente Linux, você pode compilar seus códigos dentro do *Google Colab* e gerar seus executáveis. O *Colab* tem compilador de C++ e Fortran da GNU, além de cuda da Nvidia.  \n",
        "\n",
        "A vantagem de compilar dentro do *Colab* é que teremos um executável bem ajustado para o ambiente Linux que o *Colab* nos oferece (CPUs e GPUs).  \n"
      ]
    },
    {
      "cell_type": "code",
      "execution_count": null,
      "metadata": {
        "id": "ZscAgiz_emE5"
      },
      "outputs": [],
      "source": [
        "%%file hello_world.f90\n",
        "Program hello_world\n",
        "Implicit none\n",
        "Integer, parameter :: n = 10\n",
        "Integer :: i\n",
        "do i = 1,n\n",
        "  write(6,*) 'Hello World'\n",
        "enddo\n",
        "continue\n",
        "Stop 'O programa acabou'\n",
        "End program hello_world"
      ]
    },
    {
      "cell_type": "code",
      "execution_count": null,
      "metadata": {
        "id": "NjKh-ugEemIR"
      },
      "outputs": [],
      "source": [
        "!ls -la *"
      ]
    },
    {
      "cell_type": "code",
      "execution_count": null,
      "metadata": {
        "id": "kgXPEC-0emLl"
      },
      "outputs": [],
      "source": [
        "!gfortran -o hello_world.exe hello_world.f90"
      ]
    },
    {
      "cell_type": "code",
      "execution_count": null,
      "metadata": {
        "id": "gratGj37emOx"
      },
      "outputs": [],
      "source": [
        "!/content/hello_world.exe"
      ]
    },
    {
      "cell_type": "code",
      "execution_count": null,
      "metadata": {
        "id": "7O5pWSnEemRn"
      },
      "outputs": [],
      "source": [
        "!cuda"
      ]
    },
    {
      "cell_type": "code",
      "execution_count": null,
      "metadata": {
        "id": "6LqHharOelN0"
      },
      "outputs": [],
      "source": [
        "!gcc"
      ]
    },
    {
      "cell_type": "code",
      "execution_count": null,
      "metadata": {
        "id": "-FOgKfOeuv0J"
      },
      "outputs": [],
      "source": []
    },
    {
      "cell_type": "markdown",
      "metadata": {
        "id": "TLS_3KUOpChe"
      },
      "source": [
        "### <font color=\"purple\"> **Executando códigos de Python 2.7 (opcional)** </font>\n",
        "\n",
        "O ambiente do Google Colab é Python 3. Mas você pode executar códigos escritos em Python 2.7 através de uma estratégia interessante.\n"
      ]
    },
    {
      "cell_type": "code",
      "execution_count": null,
      "metadata": {
        "id": "GX5h7KhWpyeC"
      },
      "outputs": [],
      "source": [
        "!python --version"
      ]
    },
    {
      "cell_type": "code",
      "execution_count": null,
      "metadata": {
        "id": "N7ZOH60epxTA"
      },
      "outputs": [],
      "source": [
        "# Instalar Python 2\n",
        "!apt-get update\n",
        "!apt-get install -y python2"
      ]
    },
    {
      "cell_type": "code",
      "execution_count": null,
      "metadata": {
        "id": "LWibr_YVp57f"
      },
      "outputs": [],
      "source": [
        "# Verificar a instalação do Python 2\n",
        "!python2 --version"
      ]
    },
    {
      "cell_type": "code",
      "execution_count": null,
      "metadata": {
        "id": "x6lWN-iDpKs4"
      },
      "outputs": [],
      "source": [
        "# Executar o script Python 2\n",
        "import subprocess\n",
        "\n",
        "# Criar um exemplo de script Python 2\n",
        "with open('script_py2.py', 'w') as f:\n",
        "    f.write(\"\"\"\n",
        "print \"Hello from Python 2\"\n",
        "\"\"\")\n",
        "\n",
        "# Executar o script Python 2\n",
        "subprocess.run(['python2', 'script_py2.py'])"
      ]
    },
    {
      "cell_type": "markdown",
      "metadata": {
        "id": "bvujVC4mn2G7"
      },
      "source": [
        "---------------------\n",
        "\n",
        "#<font color=\"green\"> **Instalando e usando pacotes de modelagem molecular (*)** </font>\n",
        "\n",
        "A partir desse ponto vamos instalar e usar vários pacotes de modelagem e simulação molecular como uma espécie de preparativo para pesquisadores da área.\n",
        "\n",
        "As instalações serão feitas tanto a partir das distribuições como bibliotecas quanto através do *download* do código e sua compilação.\n",
        "\n",
        "Não vamos explorar muito os recursos de cada programa. A sugestão é gerar um novo *notebook* para cada ferramenta.\n",
        "\n",
        "A lista dos softwares que vamos cobrir é:\n",
        "\n",
        "* MOPAC 2016\n",
        "* PRIMoRDiA\n",
        "-------------------------"
      ]
    },
    {
      "cell_type": "markdown",
      "metadata": {
        "id": "6UevOB5Kn2G7"
      },
      "source": [
        "### <font color=\"purple\"> **MOPAC** </font>\n",
        "\n",
        "Vamos rodar o MOPAC de duas formas diferentes.\n",
        "\n",
        "1. Forma direta em linha de comando\n",
        "2. Forma indireta através da biblioteca em python (ASE).\n",
        "\n",
        "Links:\n",
        "\n",
        "* [MOPAC](http://openmopac.net/)\n",
        "* [MOPAC github](https://github.com/openmopac/)\n",
        "* [MOPAC manual](http://openmopac.net/manual/index.html)\n",
        "* [ASE](https://wiki.fysik.dtu.dk/ase/)\n",
        "\n",
        "--------------------"
      ]
    },
    {
      "cell_type": "markdown",
      "source": [
        "##### **Executando o MOPAC por linha de comando (1a forma)**"
      ],
      "metadata": {
        "id": "XWmQ9MZuv5Dw"
      }
    },
    {
      "cell_type": "code",
      "execution_count": null,
      "metadata": {
        "id": "EiHOWm0Rn2G7"
      },
      "outputs": [],
      "source": [
        "# Esse link é para versão mais recente em 07-DEZ-24.\n",
        "# Atualizar para versão mais nova caso esteja acompanhando esse tutorial em data futura.\n",
        "!wget https://github.com/openmopac/mopac/releases/download/v23.0.3/mopac-23.0.3-linux.tar.gz"
      ]
    },
    {
      "cell_type": "code",
      "execution_count": null,
      "metadata": {
        "id": "7u1uX3qxn2G8"
      },
      "outputs": [],
      "source": [
        "!tar xfz mopac-23.0.3-linux.tar.gz"
      ]
    },
    {
      "cell_type": "code",
      "execution_count": null,
      "metadata": {
        "id": "AZFZIGF8n2G8"
      },
      "outputs": [],
      "source": [
        "!ls -la /content/mopac-23.0.3-linux/bin/*"
      ]
    },
    {
      "cell_type": "code",
      "execution_count": null,
      "metadata": {
        "id": "rYLx6AoIsyAG"
      },
      "outputs": [],
      "source": [
        "# Para colocar o diretório do MOPAC no PATH do sistema\n",
        "import os\n",
        "os.environ['PATH'] += ':/content/mopac-23.0.3-linux/bin'"
      ]
    },
    {
      "cell_type": "code",
      "execution_count": null,
      "metadata": {
        "id": "Ns4IQrGgn2G7"
      },
      "outputs": [],
      "source": [
        "%%file acrolein.mop\n",
        "GNORM=0.01 RM1 AUX ALLVECS LARGE EPS=74.8 BFGS\n",
        "1SCF calculation for acrolein with RM1\n",
        "Testing MOPAC on Google Colab\n",
        "C   0.811 1  0.465 1  0.000  1\n",
        "C  -0.667 1  0.603 1 -0.000  1\n",
        "C  -1.468 1 -0.469 1  0.000  1\n",
        "H  -1.067 1  1.615 1 -0.000  1\n",
        "H  -2.551 1 -0.382 1  0.000  1\n",
        "H  -1.041 1 -1.468 1  0.000  1\n",
        "H   1.374 1  1.423 1  0.000  1\n",
        "O   1.404 1 -0.598 1 -0.000  1\n",
        "0"
      ]
    },
    {
      "cell_type": "code",
      "execution_count": null,
      "metadata": {
        "id": "Qs_kdgY00sqg"
      },
      "outputs": [],
      "source": [
        "!nohup mopac acrolein.mop &"
      ]
    },
    {
      "cell_type": "code",
      "execution_count": null,
      "metadata": {
        "id": "JMRHXKhI0stc"
      },
      "outputs": [],
      "source": [
        "# Para verificar o resultado do cálculo realizado\n",
        "!cat < acrolein.arc"
      ]
    },
    {
      "cell_type": "code",
      "execution_count": null,
      "metadata": {
        "id": "4f5ELu3In2G8"
      },
      "outputs": [],
      "source": []
    },
    {
      "cell_type": "markdown",
      "metadata": {
        "id": "JNBRd97in2G9"
      },
      "source": [
        "##### **Executando o MOPAC através da ASE (2a forma)**"
      ]
    },
    {
      "cell_type": "code",
      "execution_count": null,
      "metadata": {
        "id": "zICex8oZn2G9"
      },
      "outputs": [],
      "source": [
        "!pip install ase\n",
        "# Se pedir para reiniciar, rode mais uma vez. No caso, você deve rodar novamente\n",
        "# a célula que define a variável PATH para o MOPAC"
      ]
    },
    {
      "cell_type": "code",
      "execution_count": null,
      "metadata": {
        "id": "aS-5oDvcXZ-E"
      },
      "outputs": [],
      "source": [
        "# Para colocar o diretório do MOPAC no PATH\n",
        "import os\n",
        "os.environ['PATH'] += ':/content/mopac-23.0.3-linux/bin'"
      ]
    },
    {
      "cell_type": "code",
      "execution_count": null,
      "metadata": {
        "id": "wYRJRn1sn2G9"
      },
      "outputs": [],
      "source": [
        "# https://wiki.fysik.dtu.dk/ase/ase/calculators/mopac.html\n",
        "from ase.build import molecule\n",
        "from ase.calculators.mopac import MOPAC\n",
        "\n",
        "atoms = molecule('H2O')\n",
        "atoms.calc = MOPAC(label='H2O')\n",
        "atoms.get_potential_energy()\n",
        "eigs = atoms.calc.get_eigenvalues()\n",
        "# somos = atoms.calc.get_somo_levels()  # Ativar no caso da sua molécula ter multiplicidade diferente de 1\n",
        "homo, lumo = atoms.calc.get_homo_lumo_levels()"
      ]
    },
    {
      "cell_type": "code",
      "execution_count": null,
      "metadata": {
        "id": "z_NBN_Ozn2G9"
      },
      "outputs": [],
      "source": [
        "eigs"
      ]
    },
    {
      "cell_type": "code",
      "execution_count": null,
      "metadata": {
        "id": "SaleKUFHn2G9"
      },
      "outputs": [],
      "source": [
        "atoms = molecule('C6H6')\n",
        "atoms.calc = MOPAC(label='C6H6', task='GRADIENTS')\n",
        "atoms.get_potential_energy()"
      ]
    },
    {
      "cell_type": "markdown",
      "source": [
        "OBS: O interesse aqui não é explorarmos muito a lib [ASE](https://wiki.fysik.dtu.dk/ase/ase/calculators/mopac.html). Para mais informações, acessar o portal da lib e também o minicurso apresentado no 8a Encontro de Química da UFPB, link: [8oEQ_UFPB](https://github.com/RochaGerd/Chemistry_with_Python/blob/main/8o_Enconto_Qu%C3%ADmica_UFPB_2024_Parte_01.ipynb)."
      ],
      "metadata": {
        "id": "Rgt3gkiUtRKp"
      }
    },
    {
      "cell_type": "code",
      "execution_count": null,
      "metadata": {
        "id": "Il3I3t9Fn2G9"
      },
      "outputs": [],
      "source": [
        "atoms = MOPAC.read_atoms('C6H6')  # ler o input C6H6.mop salvo previamente no diretório\n",
        "atoms.calc.get_homo_lumo_levels()"
      ]
    },
    {
      "cell_type": "code",
      "execution_count": null,
      "metadata": {
        "id": "r4A5N5Awn2G9"
      },
      "outputs": [],
      "source": [
        "print('Heat of formation (kcal/mol) = ',\n",
        "      round(atoms.calc.get_final_heat_of_formation()*23.060548,5))  # em kcal/mol"
      ]
    },
    {
      "cell_type": "code",
      "execution_count": null,
      "metadata": {
        "id": "FBULvwB7n2G-"
      },
      "outputs": [],
      "source": [
        "atoms.get_all_distances()"
      ]
    },
    {
      "cell_type": "code",
      "execution_count": null,
      "metadata": {
        "id": "cGF_1jQNn2G-"
      },
      "outputs": [],
      "source": [
        "atoms.get_dipole_moment()"
      ]
    },
    {
      "cell_type": "markdown",
      "metadata": {
        "id": "UywKDXdKn2G-"
      },
      "source": [
        "------------\n",
        "\n",
        "## **Exercício 1. Reação isodésmica:**\n",
        "\n",
        "### **CALCULANDO A VARIAÇÃO DE ENTALPIA DE UMA REAÇÃO QUÍMICA, $\\Delta H_r$.**"
      ]
    },
    {
      "cell_type": "code",
      "source": [
        "# Execute sempre esse comando para garantir que não existe arquivos\n",
        "# previamente instalados\n",
        "%%bash\n",
        "rm -r Chemistry_with_Python/\n",
        "rm *.mop *.out *.arc *.aux"
      ],
      "metadata": {
        "id": "y_JD0q1DM6gS"
      },
      "execution_count": null,
      "outputs": []
    },
    {
      "cell_type": "code",
      "execution_count": null,
      "metadata": {
        "id": "kBBC6DP3n2G-"
      },
      "outputs": [],
      "source": [
        "!git clone https://github.com/RochaGerd/Chemistry_with_Python.git"
      ]
    },
    {
      "cell_type": "code",
      "execution_count": null,
      "metadata": {
        "id": "Tr5W66YDn2G-"
      },
      "outputs": [],
      "source": [
        "%%bash\n",
        "cp /content/Chemistry_with_Python/courses/8th_EQC/exe_1/* ."
      ]
    },
    {
      "cell_type": "code",
      "execution_count": null,
      "metadata": {
        "id": "ELwbzQvPn2G_"
      },
      "outputs": [],
      "source": [
        "# Tentar importar a biblioteca e, se falhar, instalar\n",
        "try:\n",
        "    import rdkit\n",
        "except ImportError:\n",
        "    !pip install rdkit\n",
        "    import rdkit\n",
        "\n",
        "# Verificar a instalação e a versão da biblioteca\n",
        "print(\"Versão do RDKit:\", rdkit.__version__)"
      ]
    },
    {
      "cell_type": "code",
      "execution_count": null,
      "metadata": {
        "id": "2mYTka0en2G_"
      },
      "outputs": [],
      "source": [
        "# Executar sempre essa linha para apagar da memória o dataframe df\n",
        "del df"
      ]
    },
    {
      "cell_type": "code",
      "execution_count": null,
      "metadata": {
        "id": "Jyyrnojln2G_"
      },
      "outputs": [],
      "source": [
        "import pandas as pd\n",
        "from ase import Atoms\n",
        "from ase.optimize import BFGS\n",
        "from ase.calculators.mopac import MOPAC\n",
        "from rdkit import Chem\n",
        "from rdkit.Chem import AllChem\n",
        "# Para ver mais do RDKit, acesse: https://www.rdkit.org/docs/GettingStartedInPython.html\n",
        "\n",
        "# Função para converter SMILES para objeto Atoms do ASE\n",
        "def smiles_to_ase_atoms(smiles):\n",
        "    mol = Chem.MolFromSmiles(smiles)\n",
        "    mol = Chem.AddHs(mol)\n",
        "    AllChem.EmbedMolecule(mol, AllChem.ETKDG()) # gera conformação\n",
        "    atoms = [atom.GetSymbol() for atom in mol.GetAtoms()]\n",
        "    positions = mol.GetConformer().GetPositions()\n",
        "    return Atoms(symbols=atoms, positions=positions)\n",
        "\n",
        "# Lista de SMILES das moléculas com identificação\n",
        "molecules = [\n",
        "    {'smiles': 'C', 'id': 'molecule_1'},  # Metano\n",
        "    {'smiles': 'CC(=O)C', 'id': 'molecule_2'},  # Acetona\n",
        "    {'smiles': 'CC', 'id': 'molecule_3'},  # Etano\n",
        "    {'smiles': 'CC=O', 'id': 'molecule_4'}  # Etanal\n",
        "]\n",
        "\n",
        "# Inicializar dicionário para armazenar resultados\n",
        "results = {'Molecule': [], 'SMILES': []}\n",
        "\n",
        "# Adicionar colunas para cada método\n",
        "methods = ['AM1 (kcal/mol)', 'PM3 (kcal/mol)', 'RM1 (kcal/mol)']\n",
        "for method in methods:\n",
        "    results[method] = []\n",
        "\n",
        "# Loop sobre cada molécula e cada método semiempírico\n",
        "for mol in molecules:\n",
        "    mol_id = mol['id']\n",
        "    smiles = mol['smiles']\n",
        "    ase_atoms = smiles_to_ase_atoms(smiles)\n",
        "\n",
        "    # Adicionar informações básicas da molécula\n",
        "    results['Molecule'].append(mol_id)\n",
        "    results['SMILES'].append(smiles)\n",
        "\n",
        "    for method in methods:\n",
        "        # Configurar o calculador MOPAC\n",
        "        calc = MOPAC(label=mol_id, task='GRADIENTS XYZ GNORM=0.01', method=method)\n",
        "        ase_atoms.set_calculator(calc)\n",
        "\n",
        "        # Otimizar a geometria\n",
        "        opt = BFGS(ase_atoms)\n",
        "        opt.run(fmax=0.05)\n",
        "\n",
        "        # Obter o calor de formação da última linha do arquivo .out\n",
        "        with open(f'{mol_id}.out', 'r') as file:\n",
        "            lines = file.readlines()\n",
        "            for line in lines:\n",
        "                if 'FINAL HEAT OF FORMATION' in line:\n",
        "                    heat_of_formation = float(line.split()[-5])\n",
        "                    break\n",
        "\n",
        "        # Armazenar os resultados no dicionário\n",
        "        results[method].append(heat_of_formation)\n",
        "\n",
        "# Criar DataFrame do pandas\n",
        "df = pd.DataFrame(results)\n",
        "print(df)\n",
        "\n",
        "# Salvar DataFrame em um arquivo CSV\n",
        "df.to_csv('heat_of_formation_results.csv', index=False)"
      ]
    },
    {
      "cell_type": "code",
      "execution_count": null,
      "metadata": {
        "id": "E379I7Ohn2G_"
      },
      "outputs": [],
      "source": [
        "df"
      ]
    },
    {
      "cell_type": "code",
      "execution_count": null,
      "metadata": {
        "id": "OnmxycrItcUk"
      },
      "outputs": [],
      "source": [
        "DeltaHr_AM1 = df['AM1 (kcal/mol)'][0] + df['AM1 (kcal/mol)'][1] - \\\n",
        "            (df['RM1 (kcal/mol)'][2] + df['RM1 (kcal/mol)'][3])\n",
        "\n",
        "DeltaHr_PM3 = df['PM3 (kcal/mol)'][0] + df['PM3 (kcal/mol)'][1] - \\\n",
        "            (df['PM3 (kcal/mol)'][2] + df['PM3 (kcal/mol)'][3])\n",
        "\n",
        "DeltaHr_RM1 = df['RM1 (kcal/mol)'][0] + df['RM1 (kcal/mol)'][1] - \\\n",
        "            (df['RM1 (kcal/mol)'][2] + df['RM1 (kcal/mol)'][3])\n",
        "\n",
        "print(\"Delta_Hr_AM1 (kcal/mol) =\", round(DeltaHr_AM1,4))\n",
        "print(\"Delta_Hr_PM3 (kcal/mol) =\", round(DeltaHr_PM3,4))\n",
        "print(\"Delta_Hr_RM1 (kcal/mol) =\", round(DeltaHr_RM1,4))"
      ]
    },
    {
      "cell_type": "markdown",
      "metadata": {
        "id": "Yu79j4CFLFtf"
      },
      "source": [
        "------------\n",
        "\n",
        "## **Exercício 2: Análise conformacional básica**\n",
        "\n",
        "### **CALCULANDO O $\\Delta H_r$ DE UMA MUDANÇA CONFORMACIONAL**"
      ]
    },
    {
      "cell_type": "code",
      "execution_count": null,
      "metadata": {
        "id": "an2elGBS1ZLE"
      },
      "outputs": [],
      "source": [
        "%%bash\n",
        "rm *.mop *.out *.arc *.aux\n",
        "cp /content/Chemistry_with_Python/courses/8th_EQC/exe_2/* .\n",
        "ls -la *.mop  # Verificar se os arquivos .mop foram copiados"
      ]
    },
    {
      "cell_type": "markdown",
      "source": [
        "Aqui como temos os inputs das moléculas existe um arquivo em bash (run_all_ex2.sh) que executa todos os cálculos em batch. Você até pode criá-lo aqui usando o wildcard (***%%file***).\n",
        "\n",
        "```bash\n",
        "%%file run_all_exe2.sh\n",
        "mopac AM1_MOL_CH3_AXIAL\n",
        "mopac AM1_MOL_CH3_EQUATORIAL\n",
        "mopac AM1_MOL_TBUTIL_AXIAL\n",
        "mopac AM1_MOL_TBUTIL_EQUATORIAL\n",
        "mopac PM3_MOL_CH3_AXIAL\n",
        "mopac PM3_MOL_CH3_EQUATORIAL\n",
        "mopac PM3_MOL_TBUTIL_AXIAL\n",
        "mopac PM3_MOL_TBUTIL_EQUATORIAL\n",
        "mopac RM1_MOL_CH3_AXIAL\n",
        "mopac RM1_MOL_CH3_EQUATORIAL\n",
        "mopac RM1_MOL_TBUTIL_AXIAL\n",
        "mopac RM1_MOL_TBUTIL_EQUATORIAL\n",
        "```\n",
        "\n"
      ],
      "metadata": {
        "id": "_D9WWuyX6cGk"
      }
    },
    {
      "cell_type": "code",
      "execution_count": null,
      "metadata": {
        "id": "TwIc0zmuP7Vu"
      },
      "outputs": [],
      "source": [
        "%%bash\n",
        "rm *.out *.arc *.aux\n",
        "chmod u+x /content/run_all_ex2.sh\n",
        "./run_all_ex2.sh"
      ]
    },
    {
      "cell_type": "code",
      "execution_count": null,
      "metadata": {
        "id": "XDvJ06pSP9cE"
      },
      "outputs": [],
      "source": [
        "!ls -la *.out  # Verificar se os arquivos .out foram gerados"
      ]
    },
    {
      "cell_type": "code",
      "execution_count": null,
      "metadata": {
        "id": "9OK8xyyRP7mn"
      },
      "outputs": [],
      "source": [
        "import os\n",
        "import csv\n",
        "\n",
        "# Função para extrair o valor de \"FINAL HEAT OF FORMATION\" de um arquivo out\n",
        "def extract_heat_of_formation(file_path):\n",
        "    with open(file_path, 'r') as file:\n",
        "        for line in file:\n",
        "            if \"FINAL HEAT OF FORMATION\" in line:\n",
        "                # Extrair o valor depois do \"=\"\n",
        "                value = line.split('=')[1].strip().split()[0]\n",
        "                return value\n",
        "    return None\n",
        "\n",
        "# Diretório contendo os arquivos out\n",
        "# Esse dado precisa ser editado\n",
        "directory = \"/content\"\n",
        "\n",
        "# Lista para armazenar os dados\n",
        "data = []\n",
        "\n",
        "# Percorrer todos os arquivos no diretório\n",
        "for filename in os.listdir(directory):\n",
        "    if filename.endswith(\".out\"):\n",
        "        file_path = os.path.join(directory, filename)\n",
        "        value = extract_heat_of_formation(file_path)\n",
        "        if value:\n",
        "            data.append([filename, value])\n",
        "\n",
        "# Escrever os dados em um arquivo CSV\n",
        "csv_file = \"heat_of_formation_exe_2.csv\"\n",
        "with open(csv_file, 'w', newline='') as csvfile:\n",
        "    csvwriter = csv.writer(csvfile)\n",
        "    csvwriter.writerow([\"Filename\", \"Heat of Formation (kcal/mol)\"])\n",
        "    csvwriter.writerows(data)\n",
        "\n",
        "print(f\"Data extracted and saved to {csv_file}\")\n"
      ]
    },
    {
      "cell_type": "code",
      "execution_count": null,
      "metadata": {
        "id": "LRi3TIFLP7xZ"
      },
      "outputs": [],
      "source": [
        "!cat heat_of_formation_exe_2.csv"
      ]
    },
    {
      "cell_type": "code",
      "source": [
        "import pandas as pd\n",
        "\n",
        "# Carregar o arquivo CSV em um DataFrame do pandas\n",
        "df = pd.read_csv('heat_of_formation_exe_2.csv')\n",
        "df"
      ],
      "metadata": {
        "id": "m8PSAopsZOJl"
      },
      "execution_count": null,
      "outputs": []
    },
    {
      "cell_type": "code",
      "source": [
        "# Criar um novo DataFrame para armazenar os resultados\n",
        "results = pd.DataFrame(columns=['Molécula', 'Método',\n",
        "                                'Calor de Reação (kcal/mol)'])\n",
        "\n",
        "# Definir os métodos semiempíricos\n",
        "methods = ['AM1', 'PM3', 'RM1']\n",
        "\n",
        "# Definir as moléculas\n",
        "molecules = ['MOL_CH3', 'MOL_TBUTIL']\n",
        "\n",
        "# Loop sobre cada molécula e cada método semiempírico\n",
        "for molecule in molecules:\n",
        "    for method in methods:\n",
        "        # Filtrar o DataFrame para obter as linhas correspondentes à molécula e método atual\n",
        "        filtered_df = df[df['Filename'].str.startswith(method)\n",
        "        & df['Filename'].str.contains(molecule)]\n",
        "\n",
        "        # Obter os valores de calor de formação para as formas equatorial e axial\n",
        "        equatorial_heat = \\\n",
        "        filtered_df[filtered_df['Filename'].str.contains('EQUATORIAL')] \\\n",
        "         ['Heat of Formation (kcal/mol)'].values[0]\n",
        "        axial_heat = \\\n",
        "        filtered_df[filtered_df['Filename'].str.contains('AXIAL')] \\\n",
        "         ['Heat of Formation (kcal/mol)'].values[0]\n",
        "\n",
        "        # Calcular o calor de reação (axial - equatorial)\n",
        "        heat_of_reaction = axial_heat - equatorial_heat\n",
        "\n",
        "        # Adicionar os resultados ao DataFrame de resultados\n",
        "        results = pd.concat([results, pd.DataFrame(\n",
        "            {'Molécula': [molecule], 'Método': [method],\n",
        "             'Calor de Reação (kcal/mol)': [heat_of_reaction]})],\n",
        "                            ignore_index=True)\n",
        "\n",
        "# Exibir o DataFrame de resultados\n",
        "print(results)\n",
        "\n",
        "# Salvar o DataFrame de resultados em um arquivo CSV\n",
        "results.to_csv('heat_of_reaction_results_exe_2.csv', index=False)"
      ],
      "metadata": {
        "id": "CZ26Wnqf-lE3"
      },
      "execution_count": null,
      "outputs": []
    },
    {
      "cell_type": "code",
      "source": [],
      "metadata": {
        "id": "jj3zCvcyDLe6"
      },
      "execution_count": null,
      "outputs": []
    },
    {
      "cell_type": "markdown",
      "source": [
        "-------------------\n",
        "## **Considerações sobre o cálculo de biomoléculas com o MOPAC**\n",
        "\n",
        "O programa MOPAC permite o cálculo de sistemas biomoleculares (sistemas com muitos átomos) por meio de algoritmos especiais de escalonamento linear. O mais eficiente que está implementado no programa MOPAC é o [MOZYME](https://onlinelibrary.wiley.com/doi/abs/10.1002/%28SICI%291097-461X%281996%2958%3A2%3C133%3A%3AAID-QUA2%3E3.0.CO%3B2-Z).\n",
        "\n",
        "O algoritmo MOZYME é ativado pela keyword *[MOZYME](http://openmopac.net/manual/index.html)* no input do cálculo.\n",
        "\n",
        "Mas, antes de realizar qualquer cálculo quântico de biomoléculas, é interessante dar uma conferida no portal do MOPAC sobre a modelagem de biomoléculas, pois lá você pode encontrar vários direcionamentos, ferramentas e dicas interessantes sobre como preparar e executar esses cálculos.\n",
        "\n",
        "Acesse o link a seguir:\n",
        "\n",
        "- <http://openmopac.net/manual/proteins.html>\n",
        "\n",
        "--------\n"
      ],
      "metadata": {
        "id": "fHnowW2HxEJZ"
      }
    },
    {
      "cell_type": "markdown",
      "metadata": {
        "id": "G-3e26U_dDV_"
      },
      "source": [
        "----------------\n",
        "## **Exercício 3: *Protein Folding***\n",
        "\n",
        "### **ENCONTRANDO ESTRUTURAS NATIVAS DE PROTEÍNAS A PARTIR DO CÁLCULO DAS ENTALPIAS DE FORMAÇÃO DE *DECOYS* ($\\Delta H_f^{solv}$)**\n",
        "\n",
        "**Links:**\n",
        "\n",
        "* Artigo onde está o estudo com esses dados: <https://onlinelibrary.wiley.com/doi/10.1002/jcc.24415>\n",
        "* <http://openmopac.net/>\n",
        "* <https://github.com/openmopac/>\n",
        "* <https://github.com/RochaGerd/Chemistry_with_Python>"
      ]
    },
    {
      "cell_type": "code",
      "execution_count": null,
      "metadata": {
        "id": "fJZZ5e1BdjZL"
      },
      "outputs": [],
      "source": [
        "%%bash\n",
        "rm *.mop *.out *.arc *.aux\n",
        "cp -r /content/Chemistry_with_Python/courses/8th_EQC/exe_3 ."
      ]
    },
    {
      "cell_type": "markdown",
      "metadata": {
        "id": "ehfkfy7zSYNp"
      },
      "source": [
        "#### **Avaliando os *decoys* do 1CTF**"
      ]
    },
    {
      "cell_type": "code",
      "execution_count": null,
      "metadata": {
        "id": "BUYrjlk3glt5"
      },
      "outputs": [],
      "source": [
        "%%bash\n",
        "cp /content/exe_3/1ctf/*.mop . # Copia todos os arquivos .mop do diretório do decoy 1CTF para o raíz\n",
        "ls -la *.mop"
      ]
    },
    {
      "cell_type": "code",
      "execution_count": null,
      "metadata": {
        "id": "2ITzBRG_hO5u"
      },
      "outputs": [],
      "source": [
        "import glob\n",
        "names = glob.glob('1*.mop')            # lista com '1CTF_xx.mop'\n",
        "names"
      ]
    },
    {
      "cell_type": "code",
      "execution_count": null,
      "metadata": {
        "id": "i5HL2t8sjtSs"
      },
      "outputs": [],
      "source": [
        "import os\n",
        "import pandas as pd\n",
        "import subprocess\n",
        "\n",
        "# Diretório onde os arquivos .mop estão localizados\n",
        "directory = '/content'\n",
        "\n",
        "# Lista para armazenar os resultados\n",
        "results = []\n",
        "\n",
        "# Loop através de todos os arquivos .mop no diretório\n",
        "for filename in os.listdir(directory):\n",
        "    if filename.endswith('.mop'):\n",
        "        filepath = os.path.join(directory, filename)\n",
        "\n",
        "        # Executar o MOPAC usando linha de comando\n",
        "        subprocess.run(['mopac', filepath])\n",
        "\n",
        "        # Ler o calor de formação do arquivo de saída do MOPAC\n",
        "        output_file = filepath.replace('.mop', '.out')\n",
        "        with open(output_file, 'r') as file:\n",
        "            lines = file.readlines()\n",
        "            for line in lines:\n",
        "                if 'FINAL HEAT OF FORMATION' in line:\n",
        "                    heat_of_formation = float(line.split()[-5])\n",
        "                    break\n",
        "\n",
        "        # Armazenar os resultados\n",
        "        results.append({\n",
        "            'Filename': filename,\n",
        "            'Heat of Formation (kcal/mol)': heat_of_formation\n",
        "        })\n",
        "\n",
        "# Criar DataFrame do pandas\n",
        "df_1CTF = pd.DataFrame(results)\n",
        "\n",
        "# Mostrar o DataFrame\n",
        "print(df_1CTF)\n",
        "\n",
        "# Salvar DataFrame em um arquivo CSV\n",
        "df_1CTF.to_csv('mopac_pm7_results_1CTF.csv', index=False)\n"
      ]
    },
    {
      "cell_type": "code",
      "execution_count": null,
      "metadata": {
        "id": "n3LoSoalj3IJ"
      },
      "outputs": [],
      "source": [
        "df_1CTF"
      ]
    },
    {
      "cell_type": "code",
      "execution_count": null,
      "metadata": {
        "id": "4rL2DbiPnSzE"
      },
      "outputs": [],
      "source": [
        "%matplotlib inline\n",
        "import matplotlib as mpl\n",
        "import matplotlib.pyplot as plt\n",
        "import numpy as np\n",
        "\n",
        "# Encontrar o índice da barra com o menor valor\n",
        "min_value_index = df_1CTF['Heat of Formation (kcal/mol)'].idxmin()\n",
        "\n",
        "# Gerar gráfico de barras com os eixos trocados e nomes dos arquivos na vertical\n",
        "plt.figure(figsize=(10, 6))\n",
        "bars = plt.bar(df_1CTF['Filename'], df_1CTF['Heat of Formation (kcal/mol)'], color='skyblue')\n",
        "\n",
        "# Destacar a barra com o menor valor\n",
        "bars[min_value_index].set_color('red')\n",
        "\n",
        "plt.ylabel('Heat of Formation (kcal/mol)')\n",
        "plt.xlabel('Filename')\n",
        "plt.title('Heat of Formation for MOPAC PM7 Calculations - 1CTF decoys')\n",
        "plt.grid(True)\n",
        "plt.xticks(rotation=90)  # Rotacionar os nomes dos arquivos para vertical\n",
        "plt.tight_layout()\n",
        "\n",
        "# Salvar o gráfico em um arquivo\n",
        "plt.savefig('heat_of_formation_bar_chart_1CTF.png')\n",
        "\n",
        "# Mostrar o gráfico\n",
        "plt.show()"
      ]
    },
    {
      "cell_type": "markdown",
      "metadata": {
        "id": "-MOio-fidp9L"
      },
      "source": [
        "#### **Avaliando os *decoys* do 1R69**"
      ]
    },
    {
      "cell_type": "code",
      "execution_count": null,
      "metadata": {
        "id": "Ztqw4QyNSxox"
      },
      "outputs": [],
      "source": [
        "%%bash\n",
        "rm *.mop *.out *.arc *.aux\n",
        "cp /content/exe_3/1r69/*.mop . # Copia todos os arquivos .mop do diretório do decoy 1R69 para o raíz\n",
        "ls -la *.mop"
      ]
    },
    {
      "cell_type": "code",
      "execution_count": null,
      "metadata": {
        "id": "3x0jmtVaSxoz"
      },
      "outputs": [],
      "source": [
        "import glob\n",
        "names = glob.glob('1*.mop')            # lista com '1R69_xx.mop'\n",
        "names"
      ]
    },
    {
      "cell_type": "code",
      "execution_count": null,
      "metadata": {
        "id": "AaSSLpdzSxo0"
      },
      "outputs": [],
      "source": [
        "import os\n",
        "import pandas as pd\n",
        "import subprocess\n",
        "\n",
        "# Diretório onde os arquivos .mop estão localizados\n",
        "directory = '/content'\n",
        "\n",
        "# Lista para armazenar os resultados\n",
        "results = []\n",
        "\n",
        "# Loop através de todos os arquivos .mop no diretório\n",
        "for filename in os.listdir(directory):\n",
        "    if filename.endswith('.mop'):\n",
        "        filepath = os.path.join(directory, filename)\n",
        "\n",
        "        # Executar o MOPAC usando linha de comando\n",
        "        subprocess.run(['mopac', filepath])\n",
        "\n",
        "        # Ler o calor de formação do arquivo de saída do MOPAC\n",
        "        output_file = filepath.replace('.mop', '.out')\n",
        "        with open(output_file, 'r') as file:\n",
        "            lines = file.readlines()\n",
        "            for line in lines:\n",
        "                if 'FINAL HEAT OF FORMATION' in line:\n",
        "                    heat_of_formation = float(line.split()[-5])\n",
        "                    break\n",
        "\n",
        "        # Armazenar os resultados\n",
        "        results.append({\n",
        "            'Filename': filename,\n",
        "            'Heat of Formation (kcal/mol)': heat_of_formation\n",
        "        })\n",
        "\n",
        "# Criar DataFrame do pandas\n",
        "df_1R69 = pd.DataFrame(results)\n",
        "\n",
        "# Mostrar o DataFrame\n",
        "print(df_1R69)\n",
        "\n",
        "# Salvar DataFrame em um arquivo CSV\n",
        "df_1R69.to_csv('mopac_pm7_results_1R69.csv', index=False)\n"
      ]
    },
    {
      "cell_type": "code",
      "execution_count": null,
      "metadata": {
        "id": "ygQRR-wvSxo1"
      },
      "outputs": [],
      "source": [
        "df_1R69"
      ]
    },
    {
      "cell_type": "code",
      "execution_count": null,
      "metadata": {
        "id": "qpjt51ShSxo1"
      },
      "outputs": [],
      "source": [
        "%matplotlib inline\n",
        "import matplotlib as mpl\n",
        "import matplotlib.pyplot as plt\n",
        "import numpy as np\n",
        "\n",
        "# Encontrar o índice da barra com o menor valor\n",
        "min_value_index = df_1R69['Heat of Formation (kcal/mol)'].idxmin()\n",
        "\n",
        "# Gerar gráfico de barras com os eixos trocados e nomes dos arquivos na vertical\n",
        "plt.figure(figsize=(10, 6))\n",
        "bars = plt.bar(df_1R69['Filename'], df_1R69['Heat of Formation (kcal/mol)'], color='skyblue')\n",
        "\n",
        "# Destacar a barra com o menor valor\n",
        "bars[min_value_index].set_color('red')\n",
        "\n",
        "plt.ylabel('Heat of Formation (kcal/mol)')\n",
        "plt.xlabel('Filename')\n",
        "plt.title('Heat of Formation for MOPAC PM7 Calculations - 1R69 decoys')\n",
        "plt.grid(True)\n",
        "plt.xticks(rotation=90)  # Rotacionar os nomes dos arquivos para vertical\n",
        "plt.tight_layout()\n",
        "\n",
        "# Salvar o gráfico em um arquivo\n",
        "plt.savefig('heat_of_formation_bar_chart_1R69.png')\n",
        "\n",
        "# Mostrar o gráfico\n",
        "plt.show()"
      ]
    },
    {
      "cell_type": "code",
      "execution_count": null,
      "metadata": {
        "id": "hY5aKiLDTORN"
      },
      "outputs": [],
      "source": []
    },
    {
      "cell_type": "markdown",
      "metadata": {
        "id": "YcB5BtSDTO1Y"
      },
      "source": [
        "#### **Avaliando os *decoys* do 1SN3**"
      ]
    },
    {
      "cell_type": "code",
      "execution_count": null,
      "metadata": {
        "id": "XwIGKBN8TO1Z"
      },
      "outputs": [],
      "source": [
        "%%bash\n",
        "rm *.mop *.out *.arc *.aux\n",
        "cp /content/exe_3/1sn3/*.pdb . # Copia todos os arquivos .pdb do diretório do decoy 1SN3 para o raíz\n",
        "ls -la *.pdb"
      ]
    },
    {
      "cell_type": "code",
      "execution_count": null,
      "metadata": {
        "id": "21ifJCkVfnLt"
      },
      "outputs": [],
      "source": [
        "%%file keywords_exe3.txt\n",
        "PM7 GEO-OK 1SCF MOZYME XYZ PL T=1D EPS=78.4 RSOLV=1.3 PDB +\n",
        "CUTOFF=9.0 LET DISP(1.0)\n",
        "INSERT NAME MOL"
      ]
    },
    {
      "cell_type": "code",
      "execution_count": null,
      "metadata": {
        "id": "8QvGsSUSp1EY"
      },
      "outputs": [],
      "source": [
        "%%bash\n",
        "rm *.mop\n",
        "cat keywords_exe3.txt 1SN3_01.pdb > 1SN3_01.mop\n",
        "sed -i 's/INSERT NAME MOL/1SN3_01/g' 1SN3_01.mop\n",
        "cat keywords_exe3.txt 1SN3_02.pdb > 1SN3_02.mop\n",
        "sed -i 's/INSERT NAME MOL/1SN3_02/g' 1SN3_02.mop\n",
        "cat keywords_exe3.txt 1SN3_03.pdb > 1SN3_03.mop\n",
        "sed -i 's/INSERT NAME MOL/1SN3_03/g' 1SN3_03.mop\n",
        "cat keywords_exe3.txt 1SN3_04.pdb > 1SN3_04.mop\n",
        "sed -i 's/INSERT NAME MOL/1SN3_04/g' 1SN3_04.mop\n",
        "cat keywords_exe3.txt 1SN3_05.pdb > 1SN3_05.mop\n",
        "sed -i 's/INSERT NAME MOL/1SN3_05/g' 1SN3_05.mop\n",
        "cat keywords_exe3.txt 1SN3_06.pdb > 1SN3_06.mop\n",
        "sed -i 's/INSERT NAME MOL/1SN3_06/g' 1SN3_06.mop\n",
        "cat keywords_exe3.txt 1SN3_07.pdb > 1SN3_07.mop\n",
        "sed -i 's/INSERT NAME MOL/1SN3_07/g' 1SN3_07.mop\n",
        "cat keywords_exe3.txt 1SN3_08.pdb > 1SN3_08.mop\n",
        "sed -i 's/INSERT NAME MOL/1SN3_08/g' 1SN3_08.mop\n",
        "cat keywords_exe3.txt 1SN3_09.pdb > 1SN3_09.mop\n",
        "sed -i 's/INSERT NAME MOL/1SN3_09/g' 1SN3_09.mop\n",
        "cat keywords_exe3.txt 1SN3_10.pdb > 1SN3_10.mop\n",
        "sed -i 's/INSERT NAME MOL/1SN3_10/g' 1SN3_10.mop"
      ]
    },
    {
      "cell_type": "code",
      "execution_count": null,
      "metadata": {
        "id": "n9rAjiMHXLBV"
      },
      "outputs": [],
      "source": [
        "!head 1SN3_01.mop"
      ]
    },
    {
      "cell_type": "code",
      "execution_count": null,
      "metadata": {
        "id": "fnHMOR0yVc08"
      },
      "outputs": [],
      "source": [
        "import glob\n",
        "names = glob.glob('1*.mop')            # lista com '1SN3_xx.mop'\n",
        "names"
      ]
    },
    {
      "cell_type": "code",
      "execution_count": null,
      "metadata": {
        "id": "U8lEptGeVc0-"
      },
      "outputs": [],
      "source": [
        "import os\n",
        "import pandas as pd\n",
        "import subprocess\n",
        "\n",
        "# Diretório onde os arquivos .mop estão localizados\n",
        "directory = '/content'\n",
        "\n",
        "# Lista para armazenar os resultados\n",
        "results = []\n",
        "\n",
        "# Loop através de todos os arquivos .mop no diretório\n",
        "for filename in os.listdir(directory):\n",
        "    if filename.endswith('.mop'):\n",
        "        filepath = os.path.join(directory, filename)\n",
        "\n",
        "        # Executar o MOPAC usando linha de comando\n",
        "        subprocess.run(['mopac', filepath])\n",
        "\n",
        "        # Ler o calor de formação do arquivo de saída do MOPAC\n",
        "        output_file = filepath.replace('.mop', '.out')\n",
        "        with open(output_file, 'r') as file:\n",
        "            lines = file.readlines()\n",
        "            for line in lines:\n",
        "                if 'FINAL HEAT OF FORMATION' in line:\n",
        "                    heat_of_formation = float(line.split()[-5])\n",
        "                    break\n",
        "\n",
        "        # Armazenar os resultados\n",
        "        results.append({\n",
        "            'Filename': filename,\n",
        "            'Heat of Formation (kcal/mol)': heat_of_formation\n",
        "        })\n",
        "\n",
        "# Criar DataFrame do pandas\n",
        "df_1SN3 = pd.DataFrame(results)\n",
        "\n",
        "# Mostrar o DataFrame\n",
        "print(df_1SN3)\n",
        "\n",
        "# Salvar DataFrame em um arquivo CSV\n",
        "df_1SN3.to_csv('mopac_pm7_results_1SN3.csv', index=False)\n"
      ]
    },
    {
      "cell_type": "code",
      "execution_count": null,
      "metadata": {
        "id": "jEN__7q2Vc0_"
      },
      "outputs": [],
      "source": [
        "df_1SN3"
      ]
    },
    {
      "cell_type": "code",
      "execution_count": null,
      "metadata": {
        "id": "nqdF2YQIVc0_"
      },
      "outputs": [],
      "source": [
        "%matplotlib inline\n",
        "import matplotlib as mpl\n",
        "import matplotlib.pyplot as plt\n",
        "import numpy as np\n",
        "\n",
        "# Encontrar o índice da barra com o menor valor\n",
        "min_value_index = df_1SN3['Heat of Formation (kcal/mol)'].idxmin()\n",
        "\n",
        "# Gerar gráfico de barras com os eixos trocados e nomes dos arquivos na vertical\n",
        "plt.figure(figsize=(10, 6))\n",
        "bars = plt.bar(df_1SN3['Filename'], df_1SN3['Heat of Formation (kcal/mol)'], color='skyblue')\n",
        "\n",
        "# Destacar a barra com o menor valor\n",
        "bars[min_value_index].set_color('red')\n",
        "\n",
        "plt.ylabel('Heat of Formation (kcal/mol)')\n",
        "plt.xlabel('Filename')\n",
        "plt.title('Heat of Formation for MOPAC PM7 Calculations - 1SN3 decoys')\n",
        "plt.grid(True)\n",
        "plt.xticks(rotation=90)  # Rotacionar os nomes dos arquivos para vertical\n",
        "plt.tight_layout()\n",
        "\n",
        "# Salvar o gráfico em um arquivo\n",
        "plt.savefig('heat_of_formation_bar_chart_1SN3.png')\n",
        "\n",
        "# Mostrar o gráfico\n",
        "plt.show()"
      ]
    },
    {
      "cell_type": "code",
      "execution_count": null,
      "metadata": {
        "id": "fP6-Ag2Lp1Z-"
      },
      "outputs": [],
      "source": []
    },
    {
      "cell_type": "markdown",
      "metadata": {
        "id": "VVh19SIbgohO"
      },
      "source": [
        "----------------\n",
        "## **Exercício 4: CÁLCULO DE $\\Delta H_{bind}$(PARTE 1)**\n",
        "\n",
        "#### **ENTALPIA DE INTERAÇÃO PROTEÍNA-LIGANTE ($\\Delta H_{bind}$) (PARTE 1)**\n",
        "\n",
        "**Links:**\n",
        "\n",
        "* <http://openmopac.net/>\n",
        "* <https://github.com/openmopac/>\n",
        "* <https://github.com/RochaGerd/Chemistry_with_Python>"
      ]
    },
    {
      "cell_type": "code",
      "execution_count": null,
      "metadata": {
        "id": "QK0LXvaaXyhX"
      },
      "outputs": [],
      "source": [
        "%%bash\n",
        "rm *.mop *.out *.arc *.aux *.pdb\n",
        "cp -r /content/Chemistry_with_Python/courses/8th_EQC/exe_4 .\n",
        "cp /content/exe_4/*.pdb . # Copia todos os arquivos .pdb do diretório para o raíz\n",
        "ls -la *.pdb"
      ]
    },
    {
      "cell_type": "code",
      "execution_count": null,
      "metadata": {
        "id": "cp-Gu1ItgqLE"
      },
      "outputs": [],
      "source": [
        "%%file keywords_exe4.txt\n",
        "PM7 GEO-OK 1SCF MOZYME XYZ PL T=1D EPS=78.4 RSOLV=1.3 PDB +\n",
        "CUTOFF=9.0 LET DISP(1.0)\n",
        "INSERT NAME MOL"
      ]
    },
    {
      "cell_type": "code",
      "execution_count": null,
      "metadata": {
        "id": "FiOFnwusgqPe"
      },
      "outputs": [],
      "source": [
        "%%bash\n",
        "rm *.mop\n",
        "cat keywords_exe4.txt alvo.pdb > alvo.mop\n",
        "sed -i 's/INSERT NAME MOL/ALVO/g' alvo.mop\n",
        "cat keywords_exe4.txt ligante.pdb > ligante.mop\n",
        "sed -i 's/INSERT NAME MOL/LIGANTE/g' ligante.mop\n",
        "cat keywords_exe4.txt complexo.pdb > complexo.mop\n",
        "sed -i 's/INSERT NAME MOL/COMPLEXO/g' complexo.mop"
      ]
    },
    {
      "cell_type": "code",
      "execution_count": null,
      "metadata": {
        "id": "nMhY0I9fZ53P"
      },
      "outputs": [],
      "source": [
        "!head alvo.mop"
      ]
    },
    {
      "cell_type": "code",
      "execution_count": null,
      "metadata": {
        "id": "cyvSPpPKZJoJ"
      },
      "outputs": [],
      "source": [
        "import glob\n",
        "names = glob.glob('*.mop')            # lista com '*.mop'\n",
        "names"
      ]
    },
    {
      "cell_type": "code",
      "execution_count": null,
      "metadata": {
        "id": "ywQNLvFUZEmr"
      },
      "outputs": [],
      "source": [
        "import os\n",
        "import pandas as pd\n",
        "import subprocess\n",
        "\n",
        "# Diretório onde os arquivos .mop estão localizados\n",
        "directory = '/content'\n",
        "\n",
        "# Lista para armazenar os resultados\n",
        "results = []\n",
        "\n",
        "# Loop através de todos os arquivos .mop no diretório\n",
        "for filename in os.listdir(directory):\n",
        "    if filename.endswith('.mop'):\n",
        "        filepath = os.path.join(directory, filename)\n",
        "\n",
        "        # Executar o MOPAC usando linha de comando\n",
        "        subprocess.run(['mopac', filepath])\n",
        "\n",
        "        # Ler o calor de formação do arquivo de saída do MOPAC\n",
        "        output_file = filepath.replace('.mop', '.out')\n",
        "        with open(output_file, 'r') as file:\n",
        "            lines = file.readlines()\n",
        "            for line in lines:\n",
        "                if 'FINAL HEAT OF FORMATION' in line:\n",
        "                    heat_of_formation = float(line.split()[-5])\n",
        "                    break\n",
        "\n",
        "        # Armazenar os resultados\n",
        "        results.append({\n",
        "            'Filename': filename,\n",
        "            'Heat of Formation (kcal/mol)': heat_of_formation\n",
        "        })\n",
        "\n",
        "# Criar DataFrame do pandas\n",
        "df_bind_pt_01 = pd.DataFrame(results)\n",
        "\n",
        "# Mostrar o DataFrame\n",
        "print(df_bind_pt_01)\n",
        "\n",
        "# Salvar DataFrame em um arquivo CSV\n",
        "df_bind_pt_01.to_csv('mopac_pm7_results_bind_pt_01.csv', index=False)\n"
      ]
    },
    {
      "cell_type": "code",
      "source": [
        "import pandas as pd\n",
        "\n",
        "df = pd.read_csv('mopac_pm7_results_bind_pt_01.csv')\n",
        "\n",
        "heat_ligante = df[df['Filename'] == 'ligante.mop']['Heat of Formation (kcal/mol)'].values[0]\n",
        "heat_complexo = df[df['Filename'] == 'complexo.mop']['Heat of Formation (kcal/mol)'].values[0]\n",
        "heat_alvo = df[df['Filename'] == 'alvo.mop']['Heat of Formation (kcal/mol)'].values[0]\n",
        "\n",
        "DHbind = heat_complexo - (heat_ligante + heat_alvo)\n",
        "\n",
        "print(\"DHbind (kcal/mol):\", round(DHbind,4))"
      ],
      "metadata": {
        "id": "uCiwSs8lSTO8"
      },
      "execution_count": null,
      "outputs": []
    },
    {
      "cell_type": "code",
      "source": [
        "df"
      ],
      "metadata": {
        "id": "_a6TxINfVeop"
      },
      "execution_count": null,
      "outputs": []
    },
    {
      "cell_type": "code",
      "source": [],
      "metadata": {
        "id": "5hjGxlZoWhxD"
      },
      "execution_count": null,
      "outputs": []
    },
    {
      "cell_type": "markdown",
      "metadata": {
        "id": "BdeHYvTFgq0z"
      },
      "source": [
        "----------------\n",
        "## **Exercício 5: CÁLCULO DE $\\Delta H_{bind}$(PARTE 2)**\n",
        "\n",
        "#### **ENTALPIA DE INTERAÇÃO PROTEÍNA-LIGANTE ($\\Delta H_{bind}$) (PARTE 2)**\n",
        "\n",
        "**Links:**\n",
        "\n",
        "* Link do paper do estudo: <https://pubs.acs.org/doi/10.1021/acsomega.0c02588>\n",
        "* <http://openmopac.net/>\n",
        "* <https://github.com/openmopac/>\n",
        "* <https://github.com/RochaGerd/Chemistry_with_Python>"
      ]
    },
    {
      "cell_type": "code",
      "execution_count": null,
      "metadata": {
        "id": "GAkX60IxX4-d"
      },
      "outputs": [],
      "source": [
        "%%bash\n",
        "rm *.mop *.out *.arc *.aux *.pdb\n",
        "cp -r /content/Chemistry_with_Python/courses/8th_EQC/exe_5 ."
      ]
    },
    {
      "cell_type": "markdown",
      "metadata": {
        "id": "IEtGnfeEbtsT"
      },
      "source": [
        "#### **Avaliando o $\\Delta H_{bind}$ para o complexo RTA-RS8**"
      ]
    },
    {
      "cell_type": "code",
      "execution_count": null,
      "metadata": {
        "id": "Y4GYV_wXbtsf"
      },
      "outputs": [],
      "source": [
        "%%bash\n",
        "rm *.mop *.out *.arc *.aux *.pdb\n",
        "cp /content/exe_5/RS8_complexo/*.mop . # Copia todos os arquivos .mop do diretório RS8_complexo para o raíz\n",
        "cp /content/exe_5/RS8_complexo/*.pdb . # Copia todos os arquivos .pdb do diretório RS8_complexo para o raíz\n",
        "ls -la *.mop *.pdb\n"
      ]
    },
    {
      "cell_type": "code",
      "execution_count": null,
      "metadata": {
        "id": "UxhFVFsHbtsg"
      },
      "outputs": [],
      "source": [
        "import glob\n",
        "names = glob.glob('*.mop')            # lista com '*.mop'\n",
        "names"
      ]
    },
    {
      "cell_type": "markdown",
      "source": [
        "-------------------\n",
        "Esses cálculos duram cerca de 15 min. Caso você não queira esperar, você pode encontrar os cálculos já executados na pasta /content/exe_5/zipped_files. Copie os comando a seguir para uma nova célula e execute-a.\n",
        "\n",
        "```bash\n",
        "%%bash\n",
        "cp /content/exe_5/zipped_files/RS8_complexo.tar.gz .\n",
        "tar -xvzf RS8_complexo.tar.gz\n",
        "```\n",
        "---------------------"
      ],
      "metadata": {
        "id": "Ism_yNUkQ80z"
      }
    },
    {
      "cell_type": "code",
      "execution_count": null,
      "metadata": {
        "id": "GhLrhwC3Q80z"
      },
      "outputs": [],
      "source": [
        "import os\n",
        "import pandas as pd\n",
        "import subprocess\n",
        "\n",
        "# Diretório onde os arquivos .mop estão localizados\n",
        "directory = '/content'\n",
        "\n",
        "# Lista para armazenar os resultados\n",
        "results = []\n",
        "\n",
        "# Loop através de todos os arquivos .mop no diretório\n",
        "for filename in os.listdir(directory):\n",
        "    if filename.endswith('.mop'):\n",
        "        filepath = os.path.join(directory, filename)\n",
        "        output_file = filepath.replace('.mop', '.out')\n",
        "\n",
        "        # Verificar se o cálculo já foi executado\n",
        "        if os.path.exists(output_file):\n",
        "          print(f\"Cálculo para {filename} já executado. Lendo resultados do arquivo .out.\")\n",
        "          # Ler o calor de formação do arquivo de saída do MOPAC\n",
        "          with open(output_file, 'r') as file:\n",
        "                lines = file.readlines()\n",
        "                for line in lines:\n",
        "                    if 'FINAL HEAT OF FORMATION' in line:\n",
        "                        heat_of_formation = float(line.split()[-5])\n",
        "                        break\n",
        "        else:\n",
        "            print(f\"Executando cálculo para {filename}...\")\n",
        "            # Executar o MOPAC usando linha de comando\n",
        "            subprocess.run(['mopac', filepath])\n",
        "\n",
        "            # Ler o calor de formação do arquivo de saída do MOPAC\n",
        "            with open(output_file, 'r') as file:\n",
        "                lines = file.readlines()\n",
        "                for line in lines:\n",
        "                    if 'FINAL HEAT OF FORMATION' in line:\n",
        "                        heat_of_formation = float(line.split()[-5])\n",
        "                        break\n",
        "\n",
        "        # Armazenar os resultados\n",
        "        results.append({\n",
        "            'Filename': filename,\n",
        "            'Heat of Formation (kcal/mol)': heat_of_formation\n",
        "        })\n",
        "\n",
        "# Criar DataFrame do pandas\n",
        "df_bind_pt_02_RS8 = pd.DataFrame(results)\n",
        "\n",
        "# Mostrar o DataFrame\n",
        "print(df_bind_pt_02_RS8)\n",
        "\n",
        "# Salvar DataFrame em um arquivo CSV\n",
        "df_bind_pt_02_RS8.to_csv('mopac_pm7_results_bind_pt_02_RS8.csv', index=False)\n"
      ]
    },
    {
      "cell_type": "code",
      "source": [
        "import pandas as pd\n",
        "\n",
        "df = pd.read_csv('mopac_pm7_results_bind_pt_02_RS8.csv')\n",
        "\n",
        "heat_ligante = df[df['Filename'] == 'rs8.mop']['Heat of Formation (kcal/mol)'].values[0]\n",
        "heat_complexo = df[df['Filename'] == 'rs8_complex.mop']['Heat of Formation (kcal/mol)'].values[0]\n",
        "heat_alvo = df[df['Filename'] == 'protein.mop']['Heat of Formation (kcal/mol)'].values[0]\n",
        "\n",
        "DHbind_rs8 = heat_complexo - (heat_ligante + heat_alvo)\n",
        "\n",
        "print(\"DHbind_rs8 (kcal/mol):\", round(DHbind_rs8,4))"
      ],
      "metadata": {
        "id": "391Qm6x_bcR4"
      },
      "execution_count": null,
      "outputs": []
    },
    {
      "cell_type": "code",
      "execution_count": null,
      "metadata": {
        "id": "K88JZlLjX4SG"
      },
      "outputs": [],
      "source": [
        "# É importante fazer o download desse arquivo ao término desses cálculos\n",
        "!tar -cvzf /content/RS8_complexo.tar.gz *.mop *.out *.arc *.pdb"
      ]
    },
    {
      "cell_type": "code",
      "execution_count": null,
      "metadata": {
        "id": "SxHFT0zyeKK9"
      },
      "outputs": [],
      "source": []
    },
    {
      "cell_type": "markdown",
      "metadata": {
        "id": "H1nSKskbcNaw"
      },
      "source": [
        "#### **Avaliando o $\\Delta H_{bind}$ para o complexo RTA-0RB**"
      ]
    },
    {
      "cell_type": "code",
      "execution_count": null,
      "metadata": {
        "id": "2r4S7HcYcNaw"
      },
      "outputs": [],
      "source": [
        "%%bash\n",
        "rm *.mop *.out *.arc *.aux *.pdb\n",
        "cp /content/exe_5/0RB_complexo/*.mop . # Copia todos os arquivos .mop do diretório 0RB_complexo para o raíz\n",
        "cp /content/exe_5/0RB_complexo/*.pdb . # Copia todos os arquivos .pdb do diretório 0RB_complexo para o raíz\n",
        "ls -la *.mop *.pdb"
      ]
    },
    {
      "cell_type": "code",
      "execution_count": null,
      "metadata": {
        "id": "zsutSA0acNax"
      },
      "outputs": [],
      "source": [
        "import glob\n",
        "names = glob.glob('*.mop')            # lista com '*.mop'\n",
        "names"
      ]
    },
    {
      "cell_type": "code",
      "source": [],
      "metadata": {
        "id": "-RrbUf1nQpMm"
      },
      "execution_count": null,
      "outputs": []
    },
    {
      "cell_type": "markdown",
      "source": [
        "-------------------\n",
        "Esses cálculos duram cerca de 15 min. Caso você não queira esperar, você pode encontrar os cálculos já executados na pasta /content/exe_5/zipped_files. Copie os comando a seguir para uma nova célula e execute-a.\n",
        "\n",
        "```bash\n",
        "%%bash\n",
        "cp /content/exe_5/zipped_files/0RB_complexo.tar.gz .\n",
        "tar -xvzf 0RB_complexo.tar.gz\n",
        "```\n",
        "---------------------"
      ],
      "metadata": {
        "id": "Wrcf9xdBQpxr"
      }
    },
    {
      "cell_type": "code",
      "execution_count": null,
      "metadata": {
        "id": "WQXSKcMLQpxr"
      },
      "outputs": [],
      "source": [
        "import os\n",
        "import pandas as pd\n",
        "import subprocess\n",
        "\n",
        "# Diretório onde os arquivos .mop estão localizados\n",
        "directory = '/content'\n",
        "\n",
        "# Lista para armazenar os resultados\n",
        "results = []\n",
        "\n",
        "# Loop através de todos os arquivos .mop no diretório\n",
        "for filename in os.listdir(directory):\n",
        "    if filename.endswith('.mop'):\n",
        "        filepath = os.path.join(directory, filename)\n",
        "        output_file = filepath.replace('.mop', '.out')\n",
        "\n",
        "        # Verificar se o cálculo já foi executado\n",
        "        if os.path.exists(output_file):\n",
        "          print(f\"Cálculo para {filename} já executado. Lendo resultados do arquivo .out.\")\n",
        "          # Ler o calor de formação do arquivo de saída do MOPAC\n",
        "          with open(output_file, 'r') as file:\n",
        "                lines = file.readlines()\n",
        "                for line in lines:\n",
        "                    if 'FINAL HEAT OF FORMATION' in line:\n",
        "                        heat_of_formation = float(line.split()[-5])\n",
        "                        break\n",
        "        else:\n",
        "            print(f\"Executando cálculo para {filename}...\")\n",
        "            # Executar o MOPAC usando linha de comando\n",
        "            subprocess.run(['mopac', filepath])\n",
        "\n",
        "            # Ler o calor de formação do arquivo de saída do MOPAC\n",
        "            with open(output_file, 'r') as file:\n",
        "                lines = file.readlines()\n",
        "                for line in lines:\n",
        "                    if 'FINAL HEAT OF FORMATION' in line:\n",
        "                        heat_of_formation = float(line.split()[-5])\n",
        "                        break\n",
        "\n",
        "        # Armazenar os resultados\n",
        "        results.append({\n",
        "            'Filename': filename,\n",
        "            'Heat of Formation (kcal/mol)': heat_of_formation\n",
        "        })\n",
        "\n",
        "# Criar DataFrame do pandas\n",
        "df_bind_pt_02_0RB = pd.DataFrame(results)\n",
        "\n",
        "# Mostrar o DataFrame\n",
        "print(df_bind_pt_02_0RB)\n",
        "\n",
        "# Salvar DataFrame em um arquivo CSV\n",
        "df_bind_pt_02_0RB.to_csv('mopac_pm7_results_bind_pt_02_0RB.csv', index=False)\n"
      ]
    },
    {
      "cell_type": "code",
      "source": [
        "import pandas as pd\n",
        "\n",
        "df = pd.read_csv('mopac_pm7_results_bind_pt_02_0RB.csv')\n",
        "\n",
        "heat_ligante = df[df['Filename'] == '0rb.mop']['Heat of Formation (kcal/mol)'].values[0]\n",
        "heat_complexo = df[df['Filename'] == '0rb_complex.mop']['Heat of Formation (kcal/mol)'].values[0]\n",
        "heat_alvo = df[df['Filename'] == 'protein.mop']['Heat of Formation (kcal/mol)'].values[0]\n",
        "\n",
        "DHbind_0rb = heat_complexo - (heat_ligante + heat_alvo)\n",
        "\n",
        "print(\"DHbind_0rb (kcal/mol):\", round(DHbind_0rb,4))"
      ],
      "metadata": {
        "id": "bLtiwahdb47j"
      },
      "execution_count": null,
      "outputs": []
    },
    {
      "cell_type": "code",
      "execution_count": null,
      "metadata": {
        "id": "GAqYWkzXcMbB"
      },
      "outputs": [],
      "source": [
        "# É importante fazer o download desse arquivo ao término desses cálculos\n",
        "!tar -czvf /content/0RB_complexo.tar.gz *.mop *.out *.arc *.pdb"
      ]
    },
    {
      "cell_type": "code",
      "execution_count": null,
      "metadata": {
        "id": "L1ITCArceQPE"
      },
      "outputs": [],
      "source": []
    },
    {
      "cell_type": "markdown",
      "metadata": {
        "id": "FhWwXpvUcd6d"
      },
      "source": [
        "#### **Avaliando o $\\Delta H_{bind}$ para o complexo RTA-1MX**"
      ]
    },
    {
      "cell_type": "code",
      "execution_count": null,
      "metadata": {
        "id": "y2ohjOv5cd6l"
      },
      "outputs": [],
      "source": [
        "%%bash\n",
        "rm *.mop *.out *.arc *.aux *.pdb\n",
        "cp /content/exe_5/1MX_complexo/*.mop . # Copia todos os arquivos .mop do diretório 1MX_complexo para o raíz\n",
        "cp /content/exe_5/1MX_complexo/*.pdb . # Copia todos os arquivos .pdb do diretório 1MX_complexo para o raíz\n",
        "ls -la *.mop *.pdb"
      ]
    },
    {
      "cell_type": "code",
      "execution_count": null,
      "metadata": {
        "id": "TbX0p0NScd6m"
      },
      "outputs": [],
      "source": [
        "import glob\n",
        "names = glob.glob('*.mop')            # lista com '*.mop'\n",
        "names"
      ]
    },
    {
      "cell_type": "markdown",
      "source": [
        "-------------------\n",
        "Esses cálculos duram cerca de 15 min. Caso você não queira esperar, você pode encontrar os cálculos já executados na pasta /content/exe_5/zipped_files. Copie os comando a seguir para uma nova célula e execute-a.\n",
        "\n",
        "```bash\n",
        "%%bash\n",
        "cp /content/exe_5/zipped_files/1MX_complexo.tar.gz .\n",
        "tar -xvzf 1MX_complexo.tar.gz\n",
        "```\n",
        "---------------------"
      ],
      "metadata": {
        "id": "UFtTVTzhQUMs"
      }
    },
    {
      "cell_type": "code",
      "execution_count": null,
      "metadata": {
        "id": "VtLlNXFOQUMs"
      },
      "outputs": [],
      "source": [
        "import os\n",
        "import pandas as pd\n",
        "import subprocess\n",
        "\n",
        "# Diretório onde os arquivos .mop estão localizados\n",
        "directory = '/content'\n",
        "\n",
        "# Lista para armazenar os resultados\n",
        "results = []\n",
        "\n",
        "# Loop através de todos os arquivos .mop no diretório\n",
        "for filename in os.listdir(directory):\n",
        "    if filename.endswith('.mop'):\n",
        "        filepath = os.path.join(directory, filename)\n",
        "        output_file = filepath.replace('.mop', '.out')\n",
        "\n",
        "        # Verificar se o cálculo já foi executado\n",
        "        if os.path.exists(output_file):\n",
        "          print(f\"Cálculo para {filename} já executado. Lendo resultados do arquivo .out.\")\n",
        "          # Ler o calor de formação do arquivo de saída do MOPAC\n",
        "          with open(output_file, 'r') as file:\n",
        "                lines = file.readlines()\n",
        "                for line in lines:\n",
        "                    if 'FINAL HEAT OF FORMATION' in line:\n",
        "                        heat_of_formation = float(line.split()[-5])\n",
        "                        break\n",
        "        else:\n",
        "            print(f\"Executando cálculo para {filename}...\")\n",
        "            # Executar o MOPAC usando linha de comando\n",
        "            subprocess.run(['mopac', filepath])\n",
        "\n",
        "            # Ler o calor de formação do arquivo de saída do MOPAC\n",
        "            with open(output_file, 'r') as file:\n",
        "                lines = file.readlines()\n",
        "                for line in lines:\n",
        "                    if 'FINAL HEAT OF FORMATION' in line:\n",
        "                        heat_of_formation = float(line.split()[-5])\n",
        "                        break\n",
        "\n",
        "        # Armazenar os resultados\n",
        "        results.append({\n",
        "            'Filename': filename,\n",
        "            'Heat of Formation (kcal/mol)': heat_of_formation\n",
        "        })\n",
        "\n",
        "# Criar DataFrame do pandas\n",
        "df_bind_pt_02_1MX = pd.DataFrame(results)\n",
        "\n",
        "# Mostrar o DataFrame\n",
        "print(df_bind_pt_02_1MX)\n",
        "\n",
        "# Salvar DataFrame em um arquivo CSV\n",
        "df_bind_pt_02_1MX.to_csv('mopac_pm7_results_bind_pt_02_1MX.csv', index=False)\n"
      ]
    },
    {
      "cell_type": "code",
      "source": [
        "import pandas as pd\n",
        "\n",
        "df = pd.read_csv('mopac_pm7_results_bind_pt_02_1MX.csv')\n",
        "\n",
        "heat_ligante = df[df['Filename'] == '1mx.mop']['Heat of Formation (kcal/mol)'].values[0]\n",
        "heat_complexo = df[df['Filename'] == '1mx_complex.mop']['Heat of Formation (kcal/mol)'].values[0]\n",
        "heat_alvo = df[df['Filename'] == 'protein.mop']['Heat of Formation (kcal/mol)'].values[0]\n",
        "\n",
        "DHbind_1mx = heat_complexo - (heat_ligante + heat_alvo)\n",
        "\n",
        "print(\"DHbind_1mx (kcal/mol):\", round(DHbind_1mx,4))"
      ],
      "metadata": {
        "id": "FWg895zTcJRG"
      },
      "execution_count": null,
      "outputs": []
    },
    {
      "cell_type": "code",
      "execution_count": null,
      "metadata": {
        "id": "WIMuEHCMcMi0"
      },
      "outputs": [],
      "source": [
        "# É importante fazer o download desse arquivo ao término desses cálculos\n",
        "!tar -czvf /content/1MX_complexo.tar.gz *.mop *.out *.arc *.pdb"
      ]
    },
    {
      "cell_type": "markdown",
      "metadata": {
        "id": "yQHTl19Ncy9-"
      },
      "source": [
        "#### **Avaliando o $\\Delta H_{bind}$ para o complexo RTA-JP2**"
      ]
    },
    {
      "cell_type": "code",
      "execution_count": null,
      "metadata": {
        "id": "P7Xu2ECxcy-H"
      },
      "outputs": [],
      "source": [
        "%%bash\n",
        "rm *.mop *.out *.arc *.aux *.pdb\n",
        "cp /content/exe_5/JP2_complexo/*.mop . # Copia todos os arquivos .mop do diretório JP2_complexo para o raíz\n",
        "cp /content/exe_5/JP2_complexo/*.pdb . # Copia todos os arquivos .pdb do diretório JP2_complexo para o raíz\n",
        "ls -la *.mop *.pdb"
      ]
    },
    {
      "cell_type": "code",
      "execution_count": null,
      "metadata": {
        "id": "if6B6_awcy-I"
      },
      "outputs": [],
      "source": [
        "import glob\n",
        "names = glob.glob('*.mop')            # lista com '*.mop'\n",
        "names"
      ]
    },
    {
      "cell_type": "markdown",
      "source": [
        "-------------------\n",
        "Esses cálculos duram cerca de 15 min. Caso você não queira esperar, você pode encontrar os cálculos já executados na pasta /content/exe_5/zipped_files. Copie os comando a seguir para uma nova célula e execute-a.\n",
        "\n",
        "```bash\n",
        "%%bash\n",
        "cp /content/exe_5/zipped_files/JP2_complexo.tar.gz .\n",
        "tar -xvzf JP2_complexo.tar.gz\n",
        "```\n",
        "---------------------"
      ],
      "metadata": {
        "id": "jdLUds6fP7qo"
      }
    },
    {
      "cell_type": "code",
      "execution_count": null,
      "metadata": {
        "id": "gxLhYRtJP7qp"
      },
      "outputs": [],
      "source": [
        "import os\n",
        "import pandas as pd\n",
        "import subprocess\n",
        "\n",
        "# Diretório onde os arquivos .mop estão localizados\n",
        "directory = '/content'\n",
        "\n",
        "# Lista para armazenar os resultados\n",
        "results = []\n",
        "\n",
        "# Loop através de todos os arquivos .mop no diretório\n",
        "for filename in os.listdir(directory):\n",
        "    if filename.endswith('.mop'):\n",
        "        filepath = os.path.join(directory, filename)\n",
        "        output_file = filepath.replace('.mop', '.out')\n",
        "\n",
        "        # Verificar se o cálculo já foi executado\n",
        "        if os.path.exists(output_file):\n",
        "          print(f\"Cálculo para {filename} já executado. Lendo resultados do arquivo .out.\")\n",
        "          # Ler o calor de formação do arquivo de saída do MOPAC\n",
        "          with open(output_file, 'r') as file:\n",
        "                lines = file.readlines()\n",
        "                for line in lines:\n",
        "                    if 'FINAL HEAT OF FORMATION' in line:\n",
        "                        heat_of_formation = float(line.split()[-5])\n",
        "                        break\n",
        "        else:\n",
        "            print(f\"Executando cálculo para {filename}...\")\n",
        "            # Executar o MOPAC usando linha de comando\n",
        "            subprocess.run(['mopac', filepath])\n",
        "\n",
        "            # Ler o calor de formação do arquivo de saída do MOPAC\n",
        "            with open(output_file, 'r') as file:\n",
        "                lines = file.readlines()\n",
        "                for line in lines:\n",
        "                    if 'FINAL HEAT OF FORMATION' in line:\n",
        "                        heat_of_formation = float(line.split()[-5])\n",
        "                        break\n",
        "\n",
        "        # Armazenar os resultados\n",
        "        results.append({\n",
        "            'Filename': filename,\n",
        "            'Heat of Formation (kcal/mol)': heat_of_formation\n",
        "        })\n",
        "\n",
        "# Criar DataFrame do pandas\n",
        "df_bind_pt_02_JP2 = pd.DataFrame(results)\n",
        "\n",
        "# Mostrar o DataFrame\n",
        "print(df_bind_pt_02_JP2)\n",
        "\n",
        "# Salvar DataFrame em um arquivo CSV\n",
        "df_bind_pt_02_JP2.to_csv('mopac_pm7_results_bind_pt_02_JP2.csv', index=False)\n"
      ]
    },
    {
      "cell_type": "code",
      "source": [
        "import pandas as pd\n",
        "\n",
        "df = pd.read_csv('mopac_pm7_results_bind_pt_02_JP2.csv')\n",
        "\n",
        "heat_ligante = df[df['Filename'] == 'jp2.mop']['Heat of Formation (kcal/mol)'].values[0]\n",
        "heat_complexo = df[df['Filename'] == 'jp2_complex.mop']['Heat of Formation (kcal/mol)'].values[0]\n",
        "heat_alvo = df[df['Filename'] == 'protein.mop']['Heat of Formation (kcal/mol)'].values[0]\n",
        "\n",
        "DHbind_jp2 = heat_complexo - (heat_ligante + heat_alvo)\n",
        "\n",
        "print(\"DHbind_jp2 (kcal/mol):\", round(DHbind_jp2,4))"
      ],
      "metadata": {
        "id": "mQqeK1NOcXHI"
      },
      "execution_count": null,
      "outputs": []
    },
    {
      "cell_type": "code",
      "execution_count": null,
      "metadata": {
        "id": "2__cAhB4cMnz"
      },
      "outputs": [],
      "source": [
        "# É importante fazer o download desse arquivo ao término desses cálculos\n",
        "!tar -czvf /content/JP2_complexo.tar.gz *.mop *.out *.arc *.pdb"
      ]
    },
    {
      "cell_type": "code",
      "execution_count": null,
      "metadata": {
        "id": "psY9DAMPea-P"
      },
      "outputs": [],
      "source": []
    },
    {
      "cell_type": "markdown",
      "metadata": {
        "id": "-MxFCJSZdG9e"
      },
      "source": [
        "#### **Avaliando o $\\Delta H_{bind}$ para o complexo RTA-JP3**"
      ]
    },
    {
      "cell_type": "code",
      "execution_count": null,
      "metadata": {
        "id": "lnpwb3q-dG9n"
      },
      "outputs": [],
      "source": [
        "%%bash\n",
        "rm *.mop *.out *.arc *.aux *.pdb\n",
        "cp /content/exe_5/JP3_complexo/*.mop . # Copia todos os arquivos .mop do diretório JP3_complexo para o raíz\n",
        "cp /content/exe_5/JP3_complexo/*.pdb . # Copia todos os arquivos .pdb do diretório JP3_complexo para o raíz\n",
        "ls -la *.mop *.pdb"
      ]
    },
    {
      "cell_type": "code",
      "execution_count": null,
      "metadata": {
        "id": "nNrrIvSwdG9n"
      },
      "outputs": [],
      "source": [
        "import glob\n",
        "names = glob.glob('*.mop')            # lista com '*.mop'\n",
        "names"
      ]
    },
    {
      "cell_type": "markdown",
      "source": [
        "-------------------\n",
        "Esses cálculos duram cerca de 50 min. Caso você não queira esperar, você pode encontrar os cálculos já executados na pasta /content/exe_5/zipped_files. Copie os comando a seguir para uma nova célula e execute-a.\n",
        "\n",
        "```bash\n",
        "%%bash\n",
        "cp /content/exe_5/zipped_files/JP3_complexo.tar.gz .\n",
        "tar -xvzf JP3_complexo.tar.gz\n",
        "```\n",
        "---------------------"
      ],
      "metadata": {
        "id": "IljvgM3lPYJv"
      }
    },
    {
      "cell_type": "code",
      "execution_count": null,
      "metadata": {
        "id": "-4VV_hAkPYJv"
      },
      "outputs": [],
      "source": [
        "import os\n",
        "import pandas as pd\n",
        "import subprocess\n",
        "\n",
        "# Diretório onde os arquivos .mop estão localizados\n",
        "directory = '/content'\n",
        "\n",
        "# Lista para armazenar os resultados\n",
        "results = []\n",
        "\n",
        "# Loop através de todos os arquivos .mop no diretório\n",
        "for filename in os.listdir(directory):\n",
        "    if filename.endswith('.mop'):\n",
        "        filepath = os.path.join(directory, filename)\n",
        "        output_file = filepath.replace('.mop', '.out')\n",
        "\n",
        "        # Verificar se o cálculo já foi executado\n",
        "        if os.path.exists(output_file):\n",
        "          print(f\"Cálculo para {filename} já executado. Lendo resultados do arquivo .out.\")\n",
        "          # Ler o calor de formação do arquivo de saída do MOPAC\n",
        "          with open(output_file, 'r') as file:\n",
        "                lines = file.readlines()\n",
        "                for line in lines:\n",
        "                    if 'FINAL HEAT OF FORMATION' in line:\n",
        "                        heat_of_formation = float(line.split()[-5])\n",
        "                        break\n",
        "        else:\n",
        "            print(f\"Executando cálculo para {filename}...\")\n",
        "            # Executar o MOPAC usando linha de comando\n",
        "            subprocess.run(['mopac', filepath])\n",
        "\n",
        "            # Ler o calor de formação do arquivo de saída do MOPAC\n",
        "            with open(output_file, 'r') as file:\n",
        "                lines = file.readlines()\n",
        "                for line in lines:\n",
        "                    if 'FINAL HEAT OF FORMATION' in line:\n",
        "                        heat_of_formation = float(line.split()[-5])\n",
        "                        break\n",
        "\n",
        "        # Armazenar os resultados\n",
        "        results.append({\n",
        "            'Filename': filename,\n",
        "            'Heat of Formation (kcal/mol)': heat_of_formation\n",
        "        })\n",
        "\n",
        "# Criar DataFrame do pandas\n",
        "df_bind_pt_02_JP3 = pd.DataFrame(results)\n",
        "\n",
        "# Mostrar o DataFrame\n",
        "print(df_bind_pt_02_JP3)\n",
        "\n",
        "# Salvar DataFrame em um arquivo CSV\n",
        "df_bind_pt_02_JP3.to_csv('mopac_pm7_results_bind_pt_02_JP3.csv', index=False)\n"
      ]
    },
    {
      "cell_type": "code",
      "source": [
        "import pandas as pd\n",
        "\n",
        "df = pd.read_csv('mopac_pm7_results_bind_pt_02_JP3.csv')\n",
        "\n",
        "heat_ligante = df[df['Filename'] == 'jp3.mop']['Heat of Formation (kcal/mol)'].values[0]\n",
        "heat_complexo = df[df['Filename'] == 'jp3_complex.mop']['Heat of Formation (kcal/mol)'].values[0]\n",
        "heat_alvo = df[df['Filename'] == 'protein.mop']['Heat of Formation (kcal/mol)'].values[0]\n",
        "\n",
        "DHbind_jp3 = heat_complexo - (heat_ligante + heat_alvo)\n",
        "\n",
        "print(\"DHbind_jp3 (kcal/mol):\", round(DHbind_jp3,4))"
      ],
      "metadata": {
        "id": "lH7bRxi1cm66"
      },
      "execution_count": null,
      "outputs": []
    },
    {
      "cell_type": "code",
      "execution_count": null,
      "metadata": {
        "id": "hLGtQPXHcMsC"
      },
      "outputs": [],
      "source": [
        "# É importante fazer o download desse arquivo ao término desses cálculos\n",
        "!tar -czvf /content/JP3_complexo.tar.gz *.mop *.out *.arc *.aux *.pdb"
      ]
    },
    {
      "cell_type": "code",
      "source": [],
      "metadata": {
        "id": "0-zvNNzWSbJg"
      },
      "execution_count": null,
      "outputs": []
    },
    {
      "cell_type": "markdown",
      "metadata": {
        "id": "lU1PrHZgaXu4"
      },
      "source": [
        "#### **Avaliando o $\\Delta H_{bind}$ para o complexo RTA-19M**"
      ]
    },
    {
      "cell_type": "code",
      "execution_count": null,
      "metadata": {
        "id": "iw4DYUv7aXvG"
      },
      "outputs": [],
      "source": [
        "%%bash\n",
        "rm *.mop *.out *.arc *.aux *.pdb\n",
        "cp /content/exe_5/19M_complexo/*.mop . # Copia todos os arquivos .mop do diretório 19M_complexo para o raíz\n",
        "cp /content/exe_5/19M_complexo/*.pdb . # Copia todos os arquivos .pdb do diretório 19M_complexo para o raíz\n",
        "ls -la *.mop *.pdb"
      ]
    },
    {
      "cell_type": "code",
      "execution_count": null,
      "metadata": {
        "id": "0fFpiLyAbbhg"
      },
      "outputs": [],
      "source": [
        "import glob\n",
        "names = glob.glob('*.mop')            # lista com '*.mop'\n",
        "names"
      ]
    },
    {
      "cell_type": "markdown",
      "source": [
        "-------------------\n",
        "Esses cálculos duram cerca de 50 min. Caso você não queira esperar, você pode encontrar os cálculos já executados na pasta /content/exe_5/zipped_files. Copie os comando a seguir para uma nova célula e execute-a.\n",
        "\n",
        "```bash\n",
        "%%bash\n",
        "cp /content/exe_5/zipped_files/19M_complexo.tar.gz .\n",
        "tar -xvzf 19M_complexo.tar.gz\n",
        "```\n",
        "---------------------"
      ],
      "metadata": {
        "id": "rajIK0KhHm_8"
      }
    },
    {
      "cell_type": "code",
      "execution_count": null,
      "metadata": {
        "id": "QhQmr0D6bbhp"
      },
      "outputs": [],
      "source": [
        "import os\n",
        "import pandas as pd\n",
        "import subprocess\n",
        "\n",
        "# Diretório onde os arquivos .mop estão localizados\n",
        "directory = '/content'\n",
        "\n",
        "# Lista para armazenar os resultados\n",
        "results = []\n",
        "\n",
        "# Loop através de todos os arquivos .mop no diretório\n",
        "for filename in os.listdir(directory):\n",
        "    if filename.endswith('.mop'):\n",
        "        filepath = os.path.join(directory, filename)\n",
        "        output_file = filepath.replace('.mop', '.out')\n",
        "\n",
        "        # Verificar se o cálculo já foi executado\n",
        "        if os.path.exists(output_file):\n",
        "          print(f\"Cálculo para {filename} já executado. Lendo resultados do arquivo .out.\")\n",
        "          # Ler o calor de formação do arquivo de saída do MOPAC\n",
        "          with open(output_file, 'r') as file:\n",
        "                lines = file.readlines()\n",
        "                for line in lines:\n",
        "                    if 'FINAL HEAT OF FORMATION' in line:\n",
        "                        heat_of_formation = float(line.split()[-5])\n",
        "                        break\n",
        "        else:\n",
        "            print(f\"Executando cálculo para {filename}...\")\n",
        "            # Executar o MOPAC usando linha de comando\n",
        "            subprocess.run(['mopac', filepath])\n",
        "\n",
        "            # Ler o calor de formação do arquivo de saída do MOPAC\n",
        "            with open(output_file, 'r') as file:\n",
        "                lines = file.readlines()\n",
        "                for line in lines:\n",
        "                    if 'FINAL HEAT OF FORMATION' in line:\n",
        "                        heat_of_formation = float(line.split()[-5])\n",
        "                        break\n",
        "\n",
        "        # Armazenar os resultados\n",
        "        results.append({\n",
        "            'Filename': filename,\n",
        "            'Heat of Formation (kcal/mol)': heat_of_formation\n",
        "        })\n",
        "\n",
        "# Criar DataFrame do pandas\n",
        "df_bind_pt_02_19M = pd.DataFrame(results)\n",
        "\n",
        "# Mostrar o DataFrame\n",
        "print(df_bind_pt_02_19M)\n",
        "\n",
        "# Salvar DataFrame em um arquivo CSV\n",
        "df_bind_pt_02_19M.to_csv('mopac_pm7_results_bind_pt_02_19M.csv', index=False)\n"
      ]
    },
    {
      "cell_type": "code",
      "source": [
        "import pandas as pd\n",
        "\n",
        "df = pd.read_csv('mopac_pm7_results_bind_pt_02_19M.csv')\n",
        "\n",
        "heat_ligante = df[df['Filename'] == '19m.mop']['Heat of Formation (kcal/mol)'].values[0]\n",
        "heat_complexo = df[df['Filename'] == '19m_complex.mop']['Heat of Formation (kcal/mol)'].values[0]\n",
        "heat_alvo = df[df['Filename'] == 'protein.mop']['Heat of Formation (kcal/mol)'].values[0]\n",
        "\n",
        "DHbind_19m = heat_complexo - (heat_ligante + heat_alvo)\n",
        "\n",
        "print(\"DHbind_19m (kcal/mol):\", round(DHbind_19m,4))"
      ],
      "metadata": {
        "id": "dQHooaFTcyij"
      },
      "execution_count": null,
      "outputs": []
    },
    {
      "cell_type": "code",
      "execution_count": null,
      "metadata": {
        "id": "dBW6S_khX4Od"
      },
      "outputs": [],
      "source": [
        "# É importante fazer o download desse arquivo ao término desses cálculos\n",
        "!tar -czvf /content/19M_complexo.tar.gz *.mop *.out *.arc *.aux *.pdb"
      ]
    },
    {
      "cell_type": "code",
      "execution_count": null,
      "metadata": {
        "id": "ZLcI5TvYd8da"
      },
      "outputs": [],
      "source": []
    },
    {
      "cell_type": "markdown",
      "source": [
        "----------------"
      ],
      "metadata": {
        "id": "HSAx_-EveMuP"
      }
    },
    {
      "source": [
        "import numpy as np\n",
        "import pandas as pd\n",
        "import matplotlib.pyplot as plt\n",
        "\n",
        "# Crie um DataFrame com os dados fornecidos\n",
        "data = {\n",
        "    'molecula': ['19m', 'rs8', '0rb', '1mx', 'jp2', 'jp3'],\n",
        "    'DHbind': [DHbind_19m, DHbind_rs8, DHbind_0rb, DHbind_1mx, DHbind_jp2, DHbind_jp3],\n",
        "    'IC50': [15, 20, 70, 209, 230, 380]\n",
        "}\n",
        "df = pd.DataFrame(data)\n",
        "\n",
        "# Crie o gráfico de dispersão com ajuste linear\n",
        "plt.figure(figsize=(8, 6))\n",
        "plt.scatter(df['DHbind'], df['IC50'], marker='o', color='blue', label='Dados')\n",
        "\n",
        "# Ajuste linear\n",
        "coef = np.polyfit(df['DHbind'], df['IC50'], 1)\n",
        "poly1d_fn = np.poly1d(coef)\n",
        "plt.plot(df['DHbind'], poly1d_fn(df['DHbind']), color='red', label='Ajuste Linear')\n",
        "\n",
        "# Adicione a equação da reta e o coeficiente de correlação no gráfico\n",
        "equation = f'y = {coef[0]:.2f}x + {coef[1]:.2f}'\n",
        "correlation = np.corrcoef(df['DHbind'], df['IC50'])[0, 1]\n",
        "plt.text(-11, 350, equation, fontsize=12, color='red')\n",
        "plt.text(-11, 300, f'R = {correlation:.2f}', fontsize=12, color='black') # Corrigido: cor do texto para 'black'\n",
        "\n",
        "# Adicione a legenda com bbox_to_anchor\n",
        "plt.legend(bbox_to_anchor=(0, 1), loc='upper left')\n",
        "\n",
        "# Adicione rótulos aos eixos e título ao gráfico\n",
        "plt.xlabel('$\\Delta H_{bind}$ (kcal/mol)')\n",
        "plt.ylabel('$IC_{50}$ (nM)')\n",
        "plt.title('Gráfico de Dispersão $\\Delta H_{bind}$ vs $IC_{50}$')\n",
        "plt.legend()\n",
        "\n",
        "# Exiba o gráfico\n",
        "plt.grid(True) # Adicionado: exibir grade no gráfico\n",
        "plt.show()\n",
        "plt.savefig('exe_5_graph.png', dpi=400, bbox_inches='tight', transparent=True)"
      ],
      "cell_type": "code",
      "metadata": {
        "id": "j98XGu4pusM_"
      },
      "execution_count": null,
      "outputs": []
    },
    {
      "cell_type": "markdown",
      "metadata": {
        "id": "6mMpLmdxSbrm"
      },
      "source": [
        "----------------\n",
        "## **Exercício 6: REATIVIDADE DE BIOMOLÉCULAS**\n",
        "\n",
        "#### **DESCRITORES DE REATIVIDADE DA INTERAÇÃO PROTEÍNA-LIGANTE**\n",
        "\n",
        "####<font color=\"purple\"> **Usando o PRIMoRDiA** </font>\n",
        "\n",
        "**Links:**\n",
        "\n",
        "* <https://github.com/igorChem>\n",
        "* <https://github.com/igorChem/PRIMoRDiA1.0v/blob/master/Tutorial_PRIMoRDiA_Colab.ipynb>\n",
        "* <https://github.com/bardenChem/XI_EMMSB_PRIMoRDiA>"
      ]
    },
    {
      "cell_type": "code",
      "execution_count": null,
      "metadata": {
        "id": "yNxwORY5KyjG"
      },
      "outputs": [],
      "source": [
        "!rm -r /content/PRIMoRDiA1.0v  # Apaga o diretório se tiver tido uma instalação prévia"
      ]
    },
    {
      "cell_type": "code",
      "execution_count": null,
      "metadata": {
        "id": "MxDv_Qk2wVsB"
      },
      "outputs": [],
      "source": [
        "!apt install libeigen3-dev"
      ]
    },
    {
      "cell_type": "code",
      "execution_count": null,
      "metadata": {
        "id": "Ou8WQcYqwVu7"
      },
      "outputs": [],
      "source": [
        "!git clone https://github.com/igorChem/PRIMoRDiA1.0v\n",
        "%cd /content/PRIMoRDiA1.0v\n",
        "!cmake .\n",
        "!make"
      ]
    },
    {
      "cell_type": "code",
      "source": [
        "import os\n",
        "os.environ['PATH'] += ':/content/PRIMoRDiA1.0v'"
      ],
      "metadata": {
        "id": "0KZ_7ZK4Uwkh"
      },
      "execution_count": null,
      "outputs": []
    },
    {
      "cell_type": "code",
      "execution_count": null,
      "metadata": {
        "id": "Xd_M7LG0RM0w"
      },
      "outputs": [],
      "source": [
        "!PRIMoRDiA_1.25v"
      ]
    },
    {
      "cell_type": "code",
      "source": [
        "%cd /content/\n",
        "!ls -la"
      ],
      "metadata": {
        "id": "1_s2UWTtVC1y"
      },
      "execution_count": null,
      "outputs": []
    },
    {
      "cell_type": "code",
      "source": [],
      "metadata": {
        "id": "LFeAPy4Ow9Zt"
      },
      "execution_count": null,
      "outputs": []
    },
    {
      "cell_type": "markdown",
      "source": [
        "#####**PRIMoRDiA: Tutorial 1**\n",
        "\n",
        "Input para vários cálculos em batch\n",
        "\n",
        "```text\n",
        "\n",
        "%%file primordia_edit.input\n",
        "#RT normal\n",
        "#PR extrard pymols\n",
        "1 acrolein.aux true 40 mopac\n",
        "1 acrolein_orca.out true 40 orca\n",
        "1 acrolein_gam.log true 40 gamess\n",
        "1 acrolein_gauss.fchk true 40 gaussian\n",
        "\n",
        "```"
      ],
      "metadata": {
        "id": "Cun2_W_jnI00"
      }
    },
    {
      "cell_type": "code",
      "source": [
        "%cd /content/PRIMoRDiA1.0v/\n",
        "!ls -la"
      ],
      "metadata": {
        "id": "8sL33EWvZJqt"
      },
      "execution_count": null,
      "outputs": []
    },
    {
      "cell_type": "code",
      "source": [
        "!tar -xf Tutorials_Files.tar.bz2"
      ],
      "metadata": {
        "id": "297rKTbkNtp7"
      },
      "execution_count": null,
      "outputs": []
    },
    {
      "cell_type": "code",
      "source": [
        "!ls -la"
      ],
      "metadata": {
        "id": "VdB0WIYNOLQH"
      },
      "execution_count": null,
      "outputs": []
    },
    {
      "cell_type": "code",
      "source": [
        "%cd /content/PRIMoRDiA1.0v/Tutorials_Files/Tutorial_1"
      ],
      "metadata": {
        "id": "witEK5A-Nuqm"
      },
      "execution_count": null,
      "outputs": []
    },
    {
      "cell_type": "code",
      "source": [
        "!ls -la"
      ],
      "metadata": {
        "id": "7ApWno4nXZOD"
      },
      "execution_count": null,
      "outputs": []
    },
    {
      "cell_type": "code",
      "source": [
        "#!PRIMoRDiA_1.25v -input -op 1 -p mopac -grid 40\n",
        "#!ls -la"
      ],
      "metadata": {
        "id": "0kTUCyOWN1QG"
      },
      "execution_count": null,
      "outputs": []
    },
    {
      "cell_type": "code",
      "source": [
        "#%cat < primordia.input"
      ],
      "metadata": {
        "id": "JDNHPT3SN4GZ"
      },
      "execution_count": null,
      "outputs": []
    },
    {
      "cell_type": "code",
      "source": [
        "%%file primordia_edit.input\n",
        "#RT normal\n",
        "#PR extrard pymols\n",
        "1 acrolein.aux true 40 mopac"
      ],
      "metadata": {
        "id": "-RFjgdaUYEyD"
      },
      "execution_count": null,
      "outputs": []
    },
    {
      "cell_type": "code",
      "source": [
        "#%cat < primordia_edit.input"
      ],
      "metadata": {
        "id": "TvPYvHwZN601"
      },
      "execution_count": null,
      "outputs": []
    },
    {
      "cell_type": "code",
      "source": [
        "!PRIMoRDiA_1.25v -f primordia_edit.input"
      ],
      "metadata": {
        "id": "6WsYSgZDN-NA"
      },
      "execution_count": null,
      "outputs": []
    },
    {
      "cell_type": "code",
      "source": [
        "# PRIMoRDiA writes files with the extension \".GRD\" for the global descriptors of each system entry, and \".lrd\" for the condensed local ones\n",
        "# and \".cube\" for the volumetric local descriptors.\n",
        "%ls"
      ],
      "metadata": {
        "id": "MO4UZop6OAiD"
      },
      "execution_count": null,
      "outputs": []
    },
    {
      "cell_type": "code",
      "source": [
        "%cat < acroleinFOA.GRD"
      ],
      "metadata": {
        "id": "pURuxsOFZhjE"
      },
      "execution_count": null,
      "outputs": []
    },
    {
      "cell_type": "code",
      "source": [
        "import pandas as pd\n",
        "# Reading global descriptors:\n",
        "data = pd.read_table('acroleinFOA.GRD', skiprows=2, sep = ' ')\n",
        "data = data.drop(columns=['Unnamed: 14'])\n",
        "data"
      ],
      "metadata": {
        "id": "gC23PDWOj0oU"
      },
      "execution_count": null,
      "outputs": []
    },
    {
      "cell_type": "code",
      "source": [
        "%cat < acroleinFOA.lrd"
      ],
      "metadata": {
        "id": "LuJ2KAF8sI5q"
      },
      "execution_count": null,
      "outputs": []
    },
    {
      "cell_type": "code",
      "source": [
        "# Reading local descriptors:\n",
        "data_locals = pd.read_table('acroleinFOA.lrd', skiprows=1, sep = ' ')\n",
        "data_locals = data_locals.drop(columns=['n','Unnamed: 21'])\n",
        "data_locals.drop(columns=['hardness_TFD'], inplace=True)\n",
        "data_locals = data_locals.set_index('atom')\n",
        "data_locals"
      ],
      "metadata": {
        "id": "6-1Uxn6ZpJNh"
      },
      "execution_count": null,
      "outputs": []
    },
    {
      "cell_type": "code",
      "source": [
        "data_locals.describe()                     # statistics for columns"
      ],
      "metadata": {
        "id": "0vfbOdj2tSiU"
      },
      "execution_count": null,
      "outputs": []
    },
    {
      "cell_type": "code",
      "source": [
        "data_locals.corr()"
      ],
      "metadata": {
        "id": "xDtfR7z-tekS"
      },
      "execution_count": null,
      "outputs": []
    },
    {
      "cell_type": "code",
      "source": [
        "# Exploring graphic python libraries\n",
        "%matplotlib inline\n",
        "import matplotlib as mpl\n",
        "import seaborn as sns\n",
        "\n",
        "sns.heatmap(data_locals.corr())"
      ],
      "metadata": {
        "id": "6Sxw7Cg_t1DG"
      },
      "execution_count": null,
      "outputs": []
    },
    {
      "cell_type": "code",
      "source": [
        "%cat < primordia_edit.global"
      ],
      "metadata": {
        "id": "eWrf4IZGvlKT"
      },
      "execution_count": null,
      "outputs": []
    },
    {
      "cell_type": "code",
      "source": [
        "# Reading all global descriptors:\n",
        "data_all = pd.read_table('primordia_edit.global', sep = ' ')\n",
        "data_all = data_all.drop(columns=['Unnamed: 15'])\n",
        "data_all"
      ],
      "metadata": {
        "id": "jQWmbNjsvyMA"
      },
      "execution_count": null,
      "outputs": []
    },
    {
      "cell_type": "markdown",
      "source": [
        "-------------\n",
        "##### **Cálculo das interações ligante-enzima para os complexos JP3 e 19m**\n",
        "\n",
        "Vamos precisar das estrturas salvas para os complexos JP3 e 19m, calculadas com o MOPAC.\n",
        "\n",
        "* !cp /content/exe_5/19M_complexo/*.aux.gz .\n",
        "* !cp /content/exe_5/JP3_complexo/*.aux.gz ."
      ],
      "metadata": {
        "id": "Kos6q_cLxNoS"
      }
    },
    {
      "cell_type": "code",
      "source": [
        "%cd /content/\n",
        "!rm *.mop *.out *.arc *.aux *.pdb\n",
        "!ls -la"
      ],
      "metadata": {
        "id": "RNOxIzOgZech"
      },
      "execution_count": null,
      "outputs": []
    },
    {
      "cell_type": "code",
      "source": [
        "%%bash\n",
        "#tar -xvzf 19M_complexo.tar.gz\n",
        "#tar -xvzf JP3_complexo.tar.gz\n",
        "cp /content/exe_5/19M_complexo/*.aux.gz .\n",
        "cp /content/exe_5/JP3_complexo/*.aux.gz .\n",
        "cp /content/exe_5/JP3_complexo/*.pdb .\n",
        "cp /content/exe_5/19M_complexo/*.pdb .\n",
        "gunzip *.aux.gz\n",
        "ls -la *.aux *.pdb"
      ],
      "metadata": {
        "id": "WZC2OgxjXXDp"
      },
      "execution_count": null,
      "outputs": []
    },
    {
      "cell_type": "code",
      "source": [
        "%%file primordia_exe_06.inp\n",
        "#RT normal\n",
        "#PR eband 5 extrard pymols\n",
        "3 jp3_complex.aux true 0 0 jp3_complex.pdb mopac 0 0 0 0 EW\n",
        "3 19m_complex.aux true 0 0 19m_complex.pdb mopac 0 0 0 0 EW"
      ],
      "metadata": {
        "id": "HyJYO_5F-GRG"
      },
      "execution_count": null,
      "outputs": []
    },
    {
      "cell_type": "code",
      "source": [
        "# Esse cálculo leva aproximadamente 500 segundos!\n",
        "!PRIMoRDiA_1.25v -f primordia_exe_06.inp"
      ],
      "metadata": {
        "id": "U4H7UMpA-PFY"
      },
      "execution_count": null,
      "outputs": []
    },
    {
      "cell_type": "code",
      "source": [
        "# Local descriptors per residues\n",
        "!ls jp3_complex*.rs* 19m_complex*.rs*"
      ],
      "metadata": {
        "id": "iY2Q0YB8-Zak"
      },
      "execution_count": null,
      "outputs": []
    },
    {
      "cell_type": "code",
      "source": [
        "%cat < jp3_complex_residues.rslrd"
      ],
      "metadata": {
        "id": "6WM6IdQe-Zg_"
      },
      "execution_count": null,
      "outputs": []
    },
    {
      "cell_type": "code",
      "source": [
        "%cat < 19m_complex_residues.rslrd"
      ],
      "metadata": {
        "id": "rJ_WUI_V-Zl4"
      },
      "execution_count": null,
      "outputs": []
    },
    {
      "cell_type": "code",
      "source": [
        "df_jp3 = pd.read_csv('jp3_complex_residues.rslrd', delim_whitespace=True)\n",
        "df_19m = pd.read_csv('19m_complex_residues.rslrd', delim_whitespace=True)\n",
        "\n",
        "df_jp3 = df_jp3.set_index('#res')\n",
        "df_jp3.drop(df_jp3.index[-1], inplace=True)\n",
        "df_jp3.drop(columns=['hardness_TFD'], inplace=True)\n",
        "df_19m = df_19m.set_index('#res')\n",
        "df_19m.drop(df_19m.index[-1], inplace=True)\n",
        "df_19m.drop(columns=['hardness_TFD'], inplace=True)"
      ],
      "metadata": {
        "id": "DkZeTgor-ZsF"
      },
      "execution_count": null,
      "outputs": []
    },
    {
      "cell_type": "code",
      "source": [
        "df_jp3"
      ],
      "metadata": {
        "id": "prNPRMuC-Zxr"
      },
      "execution_count": null,
      "outputs": []
    },
    {
      "cell_type": "code",
      "source": [
        "df_19m"
      ],
      "metadata": {
        "id": "368FPY1t_hZj"
      },
      "execution_count": null,
      "outputs": []
    },
    {
      "cell_type": "code",
      "source": [
        "df_jp3.describe()"
      ],
      "metadata": {
        "id": "GZjzt_7u_iNd"
      },
      "execution_count": null,
      "outputs": []
    },
    {
      "cell_type": "code",
      "source": [
        "df_19m.describe()"
      ],
      "metadata": {
        "id": "yAFlqzzN_iT3"
      },
      "execution_count": null,
      "outputs": []
    },
    {
      "cell_type": "code",
      "source": [
        "df_jp3.corr()   # correlation between all local descriptors"
      ],
      "metadata": {
        "id": "MLa-MAvl_ia2"
      },
      "execution_count": null,
      "outputs": []
    },
    {
      "cell_type": "code",
      "source": [
        "df_19m.corr()   # correlation between all local descriptors"
      ],
      "metadata": {
        "id": "hGmE2n6xgGTh"
      },
      "execution_count": null,
      "outputs": []
    },
    {
      "cell_type": "code",
      "source": [
        "# Exploring graphic python libraries\n",
        "%matplotlib inline\n",
        "import matplotlib as mpl\n",
        "# Import seaborn\n",
        "import seaborn as sns\n",
        "print (\"Matplotlib version:\", mpl.__version__)\n",
        "print (\"Seaborne version:\", sns.__version__)"
      ],
      "metadata": {
        "id": "SPGNEIuigOBL"
      },
      "execution_count": null,
      "outputs": []
    },
    {
      "cell_type": "code",
      "source": [
        "# Correlação dos dados de descritores locais para o complexo JP3\n",
        "import matplotlib.pyplot as plt\n",
        "import seaborn as sns\n",
        "\n",
        "# Cálculo da matriz de correlação\n",
        "corrMat = df_jp3.corr()\n",
        "\n",
        "# Gráfico da matriz de correlação como heatmap\n",
        "plt.figure(figsize=(20,15))\n",
        "plt.xticks(rotation=90, fontsize=16)\n",
        "plt.yticks(fontsize=16)\n",
        "sns.heatmap(corrMat, annot=True, annot_kws={\"size\": 12}, cmap=\"RdBu_r\", linecolor='gray',\n",
        "            linewidths=0.35, vmin=-1, vmax=1, center=0)\n",
        "\n",
        "# Salvar a figura como um arquivo PNG\n",
        "filename = 'Corr_matrix_local_RDs_JP3.png'\n",
        "plt.savefig(filename, dpi=400, bbox_inches='tight', transparent=True)\n",
        "\n",
        "# Exibir a figura\n",
        "plt.show()"
      ],
      "metadata": {
        "id": "mFe51WxegONG"
      },
      "execution_count": null,
      "outputs": []
    },
    {
      "cell_type": "code",
      "source": [
        "# Correlação dos dados de descritores locais para o complexo 19M\n",
        "import matplotlib.pyplot as plt\n",
        "import seaborn as sns\n",
        "\n",
        "# Cálculo da matriz de correlação\n",
        "corrMat = df_19m.corr()\n",
        "\n",
        "# Gráfico da matriz de correlação como heatmap\n",
        "plt.figure(figsize=(20,15))\n",
        "plt.xticks(rotation=90, fontsize=16)\n",
        "plt.yticks(fontsize=16)\n",
        "sns.heatmap(corrMat, annot=True, annot_kws={\"size\": 12}, cmap=\"RdBu_r\", linecolor='gray',\n",
        "            linewidths=0.35, vmin=-1, vmax=1, center=0)\n",
        "\n",
        "# Salvar a figura como um arquivo PNG\n",
        "filename = 'Corr_matrix_local_RDs_19M.png'\n",
        "plt.savefig(filename, dpi=400, bbox_inches='tight', transparent=True)\n",
        "\n",
        "# Exibir a figura\n",
        "plt.show()"
      ],
      "metadata": {
        "id": "FXz0Ff4PgOU0"
      },
      "execution_count": null,
      "outputs": []
    },
    {
      "cell_type": "code",
      "source": [
        "# Aqui é importante retirar os supérfulos\n",
        "\n",
        "import pandas as pd\n",
        "import numpy as np\n",
        "\n",
        "def remove_highly_correlated_features(df, threshold=0.95):\n",
        "    \"\"\"\n",
        "    Remove colunas altamente correlacionadas de um DataFrame.\n",
        "\n",
        "    Args:\n",
        "        df: DataFrame de entrada.\n",
        "        threshold: Limiar de correlação acima do qual as colunas são consideradas altamente correlacionadas.\n",
        "\n",
        "    Returns:\n",
        "        DataFrame com as colunas altamente correlacionadas removidas.\n",
        "    \"\"\"\n",
        "    corr_matrix = df.corr().abs()\n",
        "    upper_tri = corr_matrix.where(np.triu(np.ones(corr_matrix.shape), k=1).astype(bool))  # Use bool instead of np.bool\n",
        "    to_drop = [column for column in upper_tri.columns if any(upper_tri[column] > threshold)]\n",
        "    return df.drop(to_drop, axis=1)\n",
        "\n",
        "df_reduced_19m = remove_highly_correlated_features(df_19m, threshold=0.95)\n",
        "df_reduced_jp3 = remove_highly_correlated_features(df_jp3, threshold=0.95)"
      ],
      "metadata": {
        "id": "24XcgVMdgOb_"
      },
      "execution_count": null,
      "outputs": []
    },
    {
      "cell_type": "code",
      "source": [
        "# 5. Mapeamento estrutural (plotando os valores dos descritores para cada resíduo)\n",
        "plt.figure(figsize=(16, 12))\n",
        "sns.heatmap(df_reduced_19m, cmap='RdBu_r', annot=False)\n",
        "plt.title('Descritores de Reatividade por resíduo')\n",
        "plt.xticks(rotation=90, fontsize = 16)\n",
        "plt.yticks(fontsize = 16)\n",
        "plt.tight_layout()\n",
        "\n",
        "filename = 'Heatmap_19m.png'\n",
        "plt.savefig(filename, dpi=400, bbox_inches='tight', transparent=True)\n",
        "\n",
        "plt.show()"
      ],
      "metadata": {
        "id": "cioIHhVTgOi9"
      },
      "execution_count": null,
      "outputs": []
    },
    {
      "cell_type": "code",
      "source": [
        "# Create the violin plot\n",
        "plt.figure(figsize=(12, 12))\n",
        "sns.violinplot(data=df_reduced_19m, bw_adjust=.5, cut=1, linewidth=1, palette=\"Set3\")\n",
        "plt.xticks(rotation=90,fontsize = 16)  # Rotate x-axis labels for better readability\n",
        "plt.yticks(fontsize = 16)\n",
        "#plt.title('Descritores de Reatividade')\n",
        "plt.tight_layout()\n",
        "\n",
        "# Save the figure as a PNG file\n",
        "filename = 'Violin_localRDs_19m.png'\n",
        "plt.savefig(filename, dpi=400, bbox_inches='tight',  transparent=True)\n",
        "\n",
        "plt.show()"
      ],
      "metadata": {
        "id": "wj-HTOTShjUK"
      },
      "execution_count": null,
      "outputs": []
    },
    {
      "cell_type": "code",
      "source": [
        "new_labels = [r'$f^{-}(k)$',r'$f^{+}(k)$',r'$f^{0}(k)$',r'$f^{\\pm}(k)$',\n",
        "              r'$\\eta(k)^{\\nu_{ee}}$',r'$\\eta(k)^{LCP}$',r'$\\nu_{f}^{-}(r)$',\n",
        "              r'$\\nu_{f}^{+}(r)$',r'$\\nu_{f}^{0}(r)$',r'$s_{\\pm}(k)$',\n",
        "              r'$s_{(2)}(k)$',r'$\\omega_{\\pm}(k)$',r'Fukushima',\n",
        "              r'$q_{at}$',r'$\\rho_{at}(r)$',r'$\\Phi_{r}$',r'$s_{0}(r)$',\n",
        "              r'$\\eta_{int}(k)$']\n",
        "\n",
        "# Descritores selecionados para serem monitorados\n",
        "\n",
        "new_labels_lrds = [r'$f^{-}(k)$', r'$f^{+}(k)$',r'$f^{0}(k)$',r'$f^{\\pm}(k)$',\n",
        "                            r'$\\eta(k)^{\\nu_{ee}}$',r'$\\eta(k)^{LCP}$',r'$q_{res}$',\n",
        "                            r'$\\Phi_{r}$']\n",
        "\n",
        "# Nucleophilicity --> '$f^{-}(k)$'\n",
        "# Electrophilicity --> '$f^{+}(k)$'\n",
        "# Radicality --> '$f^{0}(k)$'\n",
        "# Netphilicity --> '$f^{\\pm}(k)$'\n",
        "# Hardness_Vee --> '$\\eta(k)^{\\nu_{ee}}$'\n",
        "# Hardness_LCP --> '$\\eta(k)^{LCP}$'\n",
        "# Fukui_pot_left --> '$\\nu_{f}^{-}(r)$'\n",
        "# Fukui_pot_right --> '$\\nu_{f}^{+}(r)$'\n",
        "# Fukui_pot_zero --> '$\\nu_{f}^{0}(r)$'\n",
        "# softness_dual --> '$s_{\\pm}(k)$'\n",
        "# hyper_softness --> '$s_{(2)}(k)$'\n",
        "# Multiphilic --> '$\\omega_{\\pm}(k)$'\n",
        "# Fukushima --> 'Fukushima'\n",
        "# charge --> '$q_{res}$'\n",
        "# Electron_Density --> '$\\rho_{res}(r)$'\n",
        "# MEP --> '$\\Phi_{r}$'\n",
        "# hardness_TFD --> '$\\eta_{TFD}$'\n",
        "# softness_avg --> '$s_{0}(r)$'\n",
        "# hardness_int --> '$\\eta_{int}(k)$'"
      ],
      "metadata": {
        "id": "fZisIp_-hwhT"
      },
      "execution_count": null,
      "outputs": []
    },
    {
      "cell_type": "code",
      "source": [
        "# Create the violin plot\n",
        "plt.figure(figsize=(12, 12))\n",
        "sns.violinplot(data=df_reduced_19m, bw_adjust=.5, cut=1, linewidth=1,\n",
        "               palette=\"Set3\")\n",
        "# Atualiza os rótulos do eixo X usando plt.xticks\n",
        "plt.xticks(ticks=range(len(new_labels_lrds)),\n",
        "           labels=new_labels_lrds, rotation=90, fontsize=16)\n",
        "\n",
        "#plt.xticks(rotation=90,fontsize = 16)  # Rotate x-axis labels for better readability\n",
        "plt.yticks(fontsize = 16)\n",
        "#plt.title('Descritores de Reatividade')\n",
        "plt.tight_layout()\n",
        "\n",
        "# Save the figure as a PNG file\n",
        "filename = 'Violin_plot_localRDs.png'\n",
        "plt.savefig(filename, dpi=400, bbox_inches='tight',transparent=True)\n",
        "\n",
        "plt.show()"
      ],
      "metadata": {
        "id": "z8PY_Dy4hwuw"
      },
      "execution_count": null,
      "outputs": []
    },
    {
      "cell_type": "code",
      "source": [
        "import pandas as pd\n",
        "\n",
        "def autoescalonar_dataframe(df):\n",
        "    \"\"\"\n",
        "    Autoescalona um DataFrame, centrando na média e dividindo pelo desvio padrão,\n",
        "    exceto a primeira coluna, que é considerada como a coluna de identificadores (resíduos).\n",
        "\n",
        "    Parâmetros:\n",
        "    df (pd.DataFrame): DataFrame com os dados a serem autoescalonados. A primeira coluna não será alterada.\n",
        "\n",
        "    Retorno:\n",
        "    pd.DataFrame: DataFrame autoescalonado, com a primeira coluna inalterada.\n",
        "    \"\"\"\n",
        "    # Copia a primeira coluna (resíduos) para mantê-la inalterada\n",
        "    residuos = df.iloc[:, 0]\n",
        "\n",
        "    # Seleciona as colunas a serem autoescalonadas\n",
        "    descritores = df.iloc[:, 1:]\n",
        "\n",
        "    # Autoescalonamento: centrar na média e dividir pelo desvio padrão\n",
        "    descritores_autoescalonados = (descritores - descritores.mean()) / descritores.std()\n",
        "\n",
        "    # Reconstroi o DataFrame, mantendo a primeira coluna inalterada\n",
        "    df_autoescalonado = pd.concat([residuos, descritores_autoescalonados], axis=1)\n",
        "\n",
        "    return df_autoescalonado\n",
        "\n",
        "\n",
        "df_autoescalonado_19m = autoescalonar_dataframe(df_reduced_19m)"
      ],
      "metadata": {
        "id": "x4OcNPYbhw1X"
      },
      "execution_count": null,
      "outputs": []
    },
    {
      "cell_type": "code",
      "source": [
        "# Mapeamento estrutural (plotando os valores dos descritores para cada resíduo)\n",
        "plt.figure(figsize=(12, 12))\n",
        "sns.heatmap(df_autoescalonado_19m, cmap='RdBu_r', annot=False,\n",
        "            linecolor='black',  # Cor das linhas divisórias)\n",
        "            linewidths=0.5,  # Largura das linhas divisórias\n",
        "            yticklabels=df_autoescalonado_19m.index)  # Nomes dos átomos no eixo y\n",
        "plt.title('Variação de Descritores de Reatividade por átomo')\n",
        "plt.xticks(rotation=90,fontsize = 16)\n",
        "plt.yticks(fontsize = 14, ha='center', va='center',\n",
        "           ticks=range(len(df_autoescalonado_19m.index)),\n",
        "           labels=df_autoescalonado_19m.index)\n",
        "plt.xlabel('QM Descriptors', fontsize=20, fontweight='bold')\n",
        "plt.ylabel('residues', fontsize=20, fontweight='bold')\n",
        "plt.tight_layout()\n",
        "\n",
        "# Save the figure as a PNG file\n",
        "filename = 'Heatmap_Auto_escalonado_19m.png'\n",
        "plt.savefig(filename, dpi=400, bbox_inches='tight',transparent=True)\n",
        "\n",
        "plt.show()"
      ],
      "metadata": {
        "id": "6z-2HiKQi7G5"
      },
      "execution_count": null,
      "outputs": []
    },
    {
      "cell_type": "code",
      "source": [
        "!tar -cvzf all_results_primordia.tar.gz *.lrd *.grd *.rslrd *.global *.csv *.png *.aux *.fchk *.mop *.out *.log *.pdb *.pym *.gjf *.input *.inp"
      ],
      "metadata": {
        "id": "3n3QITqJi7UJ"
      },
      "execution_count": null,
      "outputs": []
    },
    {
      "cell_type": "code",
      "source": [],
      "metadata": {
        "id": "VifRBLLIi7gb"
      },
      "execution_count": null,
      "outputs": []
    },
    {
      "cell_type": "markdown",
      "source": [
        "------------------\n",
        "#####**PRIMoRDiA: Tutorial 2:**"
      ],
      "metadata": {
        "id": "ebpR0lZtnSxd"
      }
    },
    {
      "cell_type": "code",
      "source": [
        "%cd /content/PRIMoRDiA1.0v/Tutorials_Files/Tutorial_2"
      ],
      "metadata": {
        "id": "iQvTbNFUnR7P"
      },
      "execution_count": null,
      "outputs": []
    },
    {
      "cell_type": "code",
      "source": [
        "!ls -la"
      ],
      "metadata": {
        "id": "jkfK2Vw2nYeJ"
      },
      "execution_count": null,
      "outputs": []
    },
    {
      "cell_type": "code",
      "source": [
        "%%file primordia_tut_02.input\n",
        "#RT normal\n",
        "#PR pymols extrard\n",
        "2 benzene.out benzene_cat.out benzene_an.out true 30 1 mopac"
      ],
      "metadata": {
        "id": "kUjyizlanYiU"
      },
      "execution_count": null,
      "outputs": []
    },
    {
      "cell_type": "code",
      "source": [
        "!/content/PRIMoRDiA1.0v/PRIMoRDiA_1.25v -f primordia_tut_02.input"
      ],
      "metadata": {
        "id": "uCjKkA96nYqG"
      },
      "execution_count": null,
      "outputs": []
    },
    {
      "cell_type": "code",
      "source": [
        "!ls -la"
      ],
      "metadata": {
        "id": "KqP3Ho9p4out"
      },
      "execution_count": null,
      "outputs": []
    },
    {
      "cell_type": "code",
      "source": [
        "%cat < benzeneFD.GRD"
      ],
      "metadata": {
        "id": "xHlUvHGC4oze"
      },
      "execution_count": null,
      "outputs": []
    },
    {
      "cell_type": "code",
      "source": [
        "# Reading global descriptors:\n",
        "data = pd.read_table('benzeneFD.GRD', skiprows=2, sep = ' ')\n",
        "data"
      ],
      "metadata": {
        "id": "2dog_1po4o4y"
      },
      "execution_count": null,
      "outputs": []
    },
    {
      "cell_type": "code",
      "source": [
        "data = data.drop(columns=['Unnamed: 14'])\n",
        "data"
      ],
      "metadata": {
        "id": "Ma4WAWMn4o7Q"
      },
      "execution_count": null,
      "outputs": []
    },
    {
      "cell_type": "code",
      "source": [
        "%cat < benzeneFD.lrd"
      ],
      "metadata": {
        "id": "O50gqxIg4pDh"
      },
      "execution_count": null,
      "outputs": []
    },
    {
      "cell_type": "code",
      "source": [
        "# Reading local descriptors:\n",
        "data_locals = pd.read_table('benzeneFD.lrd', skiprows=1, sep = ' ')\n",
        "data_locals"
      ],
      "metadata": {
        "id": "OjCwIqL86VgS"
      },
      "execution_count": null,
      "outputs": []
    },
    {
      "cell_type": "code",
      "source": [
        "data_locals = data_locals.drop(columns=['n','Unnamed: 21'])\n",
        "data_locals = data_locals.set_index('atom')\n",
        "data_locals"
      ],
      "metadata": {
        "id": "BiCHFbUN6VmR"
      },
      "execution_count": null,
      "outputs": []
    },
    {
      "cell_type": "code",
      "source": [
        "data_locals.describe()                     # estatística das colunas"
      ],
      "metadata": {
        "id": "6GqPLYWu6Vqg"
      },
      "execution_count": null,
      "outputs": []
    },
    {
      "cell_type": "code",
      "source": [
        "data_locals.corr()"
      ],
      "metadata": {
        "id": "IwJ01wzQ6Vu7"
      },
      "execution_count": null,
      "outputs": []
    },
    {
      "cell_type": "code",
      "source": [],
      "metadata": {
        "id": "sH2yxnHQ4pFW"
      },
      "execution_count": null,
      "outputs": []
    },
    {
      "cell_type": "markdown",
      "source": [
        "---------------"
      ],
      "metadata": {
        "id": "NdubktiM94ON"
      }
    },
    {
      "cell_type": "markdown",
      "source": [
        "#####**PRIMoRDiA Tutorial 3:**"
      ],
      "metadata": {
        "id": "ZRCEZyLanY3Y"
      }
    },
    {
      "cell_type": "code",
      "source": [
        "%cd /content/PRIMoRDiA1.0v/Tutorials_Files/Tutorial_3"
      ],
      "metadata": {
        "id": "pC1CwAvInR-W"
      },
      "execution_count": null,
      "outputs": []
    },
    {
      "cell_type": "code",
      "source": [
        "!ls -la"
      ],
      "metadata": {
        "id": "QMgIU9xe659w"
      },
      "execution_count": null,
      "outputs": []
    },
    {
      "cell_type": "code",
      "source": [
        "%%file primordia_tut_03_EW.input\n",
        "#RT normal\n",
        "#PR eband 1 extrard pymols\n",
        "3 2jof_PM7.aux true 40 0 2 jof_PM7.pdb mopac 0 0 0 0 10 EW\n",
        "3 2jof_PM7_lmo.aux true 40 0 2 jof_PM7_lmo.pdb mopac 0 0 0 0 EW"
      ],
      "metadata": {
        "id": "nQxMGxYl66CY"
      },
      "execution_count": null,
      "outputs": []
    },
    {
      "cell_type": "code",
      "source": [
        "%%file primordia_tut_03_box.input\n",
        "#RT normal\n",
        "#PR eband 1 extrard pymols\n",
        "3 2jof_PM7.aux true 40 0 2jof_PM7.pdb mopac 32.335 1.325 0.876 10 EW\n",
        "3 2jof_PM7_lmo.aux true 40 10 2jof_PM7_lmo.pdb mopac 0 0 0 0 BD"
      ],
      "metadata": {
        "id": "FRh-ZZJ166Gc"
      },
      "execution_count": null,
      "outputs": []
    },
    {
      "cell_type": "code",
      "source": [
        "!PRIMoRDiA_1.25v -f primordia_tut_03_box.input"
      ],
      "metadata": {
        "id": "CuNboplv66KF"
      },
      "execution_count": null,
      "outputs": []
    },
    {
      "cell_type": "code",
      "source": [
        "!ls -la"
      ],
      "metadata": {
        "id": "ZFXRCvnX66Nh"
      },
      "execution_count": null,
      "outputs": []
    },
    {
      "cell_type": "code",
      "source": [
        "%cat < primordia_tut_03_box.global"
      ],
      "metadata": {
        "id": "wd_gKcr766QW"
      },
      "execution_count": null,
      "outputs": []
    },
    {
      "cell_type": "code",
      "source": [
        "# Reading global descriptors:\n",
        "data = pd.read_table('primordia_tut_03_box.global', sep = ' ')\n",
        "data"
      ],
      "metadata": {
        "id": "DpqA7cs4_vLn"
      },
      "execution_count": null,
      "outputs": []
    },
    {
      "cell_type": "code",
      "source": [
        "data = data.drop(columns=['Unnamed: 15'])\n",
        "data = data.set_index('GRD')\n",
        "data"
      ],
      "metadata": {
        "id": "6Dnxztef_0U0"
      },
      "execution_count": null,
      "outputs": []
    },
    {
      "cell_type": "code",
      "source": [
        "%cat < 2jof_PM7FOA.lrd"
      ],
      "metadata": {
        "id": "JhY0S7eonDkQ"
      },
      "execution_count": null,
      "outputs": []
    },
    {
      "cell_type": "code",
      "source": [
        "# Reading local descriptors per atoms:\n",
        "data_locals = pd.read_table('2jof_PM7FOA.lrd', skiprows=1, sep = ' ')\n",
        "data_locals"
      ],
      "metadata": {
        "id": "I1MN1Je4ASFU"
      },
      "execution_count": null,
      "outputs": []
    },
    {
      "cell_type": "code",
      "source": [
        "data_locals = data_locals.drop(columns=['n','Unnamed: 21'])\n",
        "data_locals = data_locals.set_index('atom')\n",
        "data_locals"
      ],
      "metadata": {
        "id": "n1pOQ-ogASJ_"
      },
      "execution_count": null,
      "outputs": []
    },
    {
      "cell_type": "code",
      "source": [
        "data_locals.describe()                     # estatística das colunas"
      ],
      "metadata": {
        "id": "a06q6tnpASNv"
      },
      "execution_count": null,
      "outputs": []
    },
    {
      "cell_type": "code",
      "source": [
        "data_locals.corr()"
      ],
      "metadata": {
        "id": "GSStmodQASSB"
      },
      "execution_count": null,
      "outputs": []
    },
    {
      "cell_type": "code",
      "source": [
        "# Local descriptors per residues\n",
        "!ls 2jof_PM7*.rs*"
      ],
      "metadata": {
        "id": "oBxiRR52A8i_"
      },
      "execution_count": null,
      "outputs": []
    },
    {
      "cell_type": "code",
      "source": [
        "%cat < 2jof_PM7_lmo_residues.rslrd"
      ],
      "metadata": {
        "id": "aCuHIYVhBem5"
      },
      "execution_count": null,
      "outputs": []
    },
    {
      "cell_type": "code",
      "source": [
        "df = pd.read_csv('2jof_PM7_lmo_residues.rslrd', delim_whitespace=True)"
      ],
      "metadata": {
        "id": "4hJ4of_KM76b"
      },
      "execution_count": null,
      "outputs": []
    },
    {
      "cell_type": "code",
      "source": [
        "df = df.set_index('#res')\n",
        "df.drop(df.index[-1], inplace=True)\n",
        "df"
      ],
      "metadata": {
        "id": "McO4ps9cNDZu"
      },
      "execution_count": null,
      "outputs": []
    },
    {
      "cell_type": "code",
      "source": [],
      "metadata": {
        "id": "ZFIGLx8NT3H-"
      },
      "execution_count": null,
      "outputs": []
    },
    {
      "cell_type": "markdown",
      "source": [
        "#####**PRIMoRDiA Tutorial 4:**"
      ],
      "metadata": {
        "id": "EsFsX3zn8RVD"
      }
    },
    {
      "cell_type": "code",
      "source": [
        "%cd /content/PRIMoRDiA1.0v/Tutorials_Files/Tutorial_4"
      ],
      "metadata": {
        "id": "FANYXH3V8Tla"
      },
      "execution_count": null,
      "outputs": []
    },
    {
      "cell_type": "code",
      "source": [
        "!ls -la"
      ],
      "metadata": {
        "id": "QInY7b2v8Tpk"
      },
      "execution_count": null,
      "outputs": []
    },
    {
      "cell_type": "code",
      "source": [
        "%%file primordia_tut_04.input\n",
        "#RT normal\n",
        "#PR pymols\n",
        "1 asp.aux true 40 mopac\n",
        "1 cys.aux true 40 mopac\n",
        "1 glu.aux true 40 mopac\n",
        "1 lys.aux true 40 mopac"
      ],
      "metadata": {
        "id": "ETxVb0aT8Ts7"
      },
      "execution_count": null,
      "outputs": []
    },
    {
      "cell_type": "code",
      "source": [
        "!/content/PRIMoRDiA1.0v/PRIMoRDiA_1.25v -f primordia_tut_04.input"
      ],
      "metadata": {
        "id": "YA3KiaBt8TwZ"
      },
      "execution_count": null,
      "outputs": []
    },
    {
      "cell_type": "code",
      "source": [
        "!ls -la"
      ],
      "metadata": {
        "id": "kYP6JB058T1F"
      },
      "execution_count": null,
      "outputs": []
    },
    {
      "cell_type": "code",
      "source": [
        "# Reading global descriptors:\n",
        "data = pd.read_csv('primordia_tut_04.global', delim_whitespace=True)\n",
        "data"
      ],
      "metadata": {
        "id": "lHiCeMwK8T3M"
      },
      "execution_count": null,
      "outputs": []
    },
    {
      "cell_type": "code",
      "source": [
        "data = data.set_index('GRD')\n",
        "data"
      ],
      "metadata": {
        "id": "svLHrYNjSKdL"
      },
      "execution_count": null,
      "outputs": []
    },
    {
      "cell_type": "code",
      "source": [],
      "metadata": {
        "id": "bpFjY8kV8T6H"
      },
      "execution_count": null,
      "outputs": []
    },
    {
      "cell_type": "markdown",
      "source": [
        "------------\n",
        "#####**PRIMoRDiA Tutorial 5:**"
      ],
      "metadata": {
        "id": "aDvb71NoS0rf"
      }
    },
    {
      "cell_type": "code",
      "source": [
        "%cd /content/PRIMoRDiA1.0v/Tutorials_Files/Tutorial_5"
      ],
      "metadata": {
        "id": "wwJwttUdS3H5"
      },
      "execution_count": null,
      "outputs": []
    },
    {
      "cell_type": "code",
      "source": [
        "!ls -la"
      ],
      "metadata": {
        "id": "8hz41nfuS3ME"
      },
      "execution_count": null,
      "outputs": []
    },
    {
      "cell_type": "code",
      "source": [
        "%cat < primordia.input"
      ],
      "metadata": {
        "id": "VYbMpcJBS3QA"
      },
      "execution_count": null,
      "outputs": []
    },
    {
      "cell_type": "code",
      "source": [
        "!/content/PRIMoRDiA1.0v/PRIMoRDiA_1.25v -f primordia.input"
      ],
      "metadata": {
        "id": "cDBYuH_yS3Tk"
      },
      "execution_count": null,
      "outputs": []
    },
    {
      "cell_type": "code",
      "source": [
        "!ls -la"
      ],
      "metadata": {
        "id": "wStjP_jDS3Wm"
      },
      "execution_count": null,
      "outputs": []
    },
    {
      "cell_type": "code",
      "execution_count": null,
      "metadata": {
        "id": "xws-Y49xiJpd"
      },
      "outputs": [],
      "source": []
    },
    {
      "cell_type": "markdown",
      "metadata": {
        "id": "0A_EiiVNfbSr"
      },
      "source": [
        "----------------\n",
        "## **Formulário de *feedback* do minicurso**\n",
        "\n",
        "Esse formulário é para coletar informações sobre a experiência de fazer esse minicurso para que eu possa melhorá-lo nas próximas edições. O preenchimento é voluntário.\n",
        "\n",
        "***Obrigado a todos que participaram !!!***\n",
        "\n",
        "* [formulário](https://docs.google.com/forms/d/e/1FAIpQLSf-qVGFJXLgj-vGikTJwy62C3aQ6YBh8N7jykvXyXYT8TVwaA/viewform?usp=sharing)"
      ]
    },
    {
      "cell_type": "code",
      "execution_count": null,
      "metadata": {
        "id": "WyuWvbAdfauG"
      },
      "outputs": [],
      "source": []
    },
    {
      "cell_type": "code",
      "execution_count": null,
      "metadata": {
        "id": "dQF-nGzYfaxZ"
      },
      "outputs": [],
      "source": []
    },
    {
      "cell_type": "markdown",
      "metadata": {
        "id": "YagEfDVvdo6t"
      },
      "source": [
        "-----------------\n",
        "\n",
        "#**FIM**\n"
      ]
    }
  ],
  "metadata": {
    "colab": {
      "provenance": [],
      "authorship_tag": "ABX9TyM+u+7wVXPOxTTCG8WMs3pM",
      "include_colab_link": true
    },
    "kernelspec": {
      "display_name": "Python 3",
      "name": "python3"
    },
    "language_info": {
      "name": "python"
    }
  },
  "nbformat": 4,
  "nbformat_minor": 0
}