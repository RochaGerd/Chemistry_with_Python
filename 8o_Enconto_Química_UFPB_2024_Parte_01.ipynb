{
  "nbformat": 4,
  "nbformat_minor": 0,
  "metadata": {
    "colab": {
      "provenance": [],
      "authorship_tag": "ABX9TyPu7i64zfhWEZn/b9yZvZ3i",
      "include_colab_link": true
    },
    "kernelspec": {
      "name": "python3",
      "display_name": "Python 3"
    },
    "language_info": {
      "name": "python"
    }
  },
  "cells": [
    {
      "cell_type": "markdown",
      "metadata": {
        "id": "view-in-github",
        "colab_type": "text"
      },
      "source": [
        "<a href=\"https://colab.research.google.com/github/RochaGerd/Chemistry_with_Python/blob/main/8o_Enconto_Qu%C3%ADmica_UFPB_2024_Parte_01.ipynb\" target=\"_parent\"><img src=\"https://colab.research.google.com/assets/colab-badge.svg\" alt=\"Open In Colab\"/></a>"
      ]
    },
    {
      "cell_type": "markdown",
      "source": [
        "#**Modelagem Molecular Usando Python**\n",
        "\n",
        "##Autor: Prof. Gerd Bruno Rocha\n",
        "###(gbr@academico.ufpb.br e https://www.quantum-chem.pro.br/)\n",
        "\n",
        "####Links:\n",
        "\n",
        "1. <https://github.com/RochaGerd/Chemistry_with_Python>\n",
        "2. <https://pense-python.caravela.club/introducao.html>\n",
        "3. <https://github.com/pythonchembook>\n",
        "\n",
        "***Versão: 1.0 (01-JUL-24)***\n",
        "\n",
        "----------------------\n",
        "\n",
        "### **Minicurso prático**\n",
        "#### *Duração Total: 6 horas, divididos em dois dias*\n",
        "\n",
        "Requisitos: Ter familiaridade com Python e conceitos de química. Possuir conta no Google (**preferência**) ou Replit.\n",
        "\n",
        "Ambiente de programação: **Plataforma Google Colab (<https://colab.research.google.com/>)** ou Replit (<https://replit.com/>).\n",
        "\n",
        "\n",
        "***Material bibliográfico sobre uso de Python em Química:***\n",
        "\n",
        "1. Aprendendo Química com Python, Rodrigo Queiroz e Gerd Rocha, 2021, Amazon Book. <https://github.com/pythonchembook>\n",
        "\n",
        "  Link para compra: <https://www.amazon.com/Aprendendo-Qu%C3%ADmica-com-python-Portuguese/dp/B09LGSG6TY>\n",
        "\n",
        "2. J. Mueller. Começando a Programar em Python Para Leigos. Alta Books, 2020.\n",
        "3. A. Downey. Pense em Python: Pense como um cientista da computação. Novatec, 2016.\n",
        "4. <https://penseallen.github.io/PensePython2e/>\n",
        "5. <https://python-guide-pt-br.readthedocs.io/pt_BR/latest/>\n",
        "6. <https://aprendendo-computacao-com-python.readthedocs.io/en/latest/index.html>\n",
        "7. Websites, tutoriais, artigos (visite o portal do Journal of chemical education) e outros mais.\n",
        "\n",
        "---------------------------\n",
        "\n",
        "\n"
      ],
      "metadata": {
        "id": "5R90HG8BEeUO"
      }
    },
    {
      "cell_type": "markdown",
      "source": [
        "\n",
        "###**Conteúdo do Minicurso teórico/prático:**\n",
        "\n",
        "####**PARTE 1 (Dia 02/07/24): Aspectos introdutórios do uso de Python em modelagem molecular com o Google Colab**\n",
        "\n",
        "#### 1. Introdução à Modelagem Molecular (20 min)\n",
        "- **Conceitos Básicos de Modelagem Molecular**\n",
        "  - Definição e importância da modelagem molecular\n",
        "  - Aplicações em Química, Biologia e Ciência dos Materiais\n",
        "\n",
        "#### 2. Ambiente de Trabalho: Google Colaboratory (20min)\n",
        "- **Configuração do Google Colaboratory**\n",
        "  - Introdução ao Google Colaboratory\n",
        "  - Configuração do ambiente para modelagem molecular\n",
        "  - Importação de bibliotecas básicas de Python: `numpy`, `matplotlib`, `pandas`, etc.\n",
        "- **Trabalhando com Notebooks**\n",
        "  - Estrutura e funcionalidade dos notebooks\n",
        "  - Execução de células de código e markdown\n",
        "\n",
        "#### 3. Instalação e uso básico de Bibliotecas de Python para Modelagem Molecular   (140 min)\n",
        "\n",
        "- **Aspectos introdutórios de Modelagem molecular**\n",
        "  - Definindo o sistema molecular\n",
        "  - Superfície de energia potencial e campo de força\n",
        "- **Biblioteca RDKit**\n",
        "  - Processamento de moléculas (código SMILES)\n",
        "  - Visualização 2D\n",
        "  - Cálculo elementares de propriedades moleculares\n",
        "  - Cálculos de mecânica molecular\n",
        "  - Busca conformacional\n",
        "  - Visualização de estruturas moleculares em 3D com o py3Dmol\n",
        "  - Descritores moleculares com a Mordred\n",
        "- **Dinâmica molecular**\n",
        "  - AmberTools  \n",
        "- **Métodos *ab initio* e DFT**\n",
        "  - PySCF\n",
        "  - Psi4\n",
        "- **Métodos semiempíricos**\n",
        "  - MOPAC\n",
        "  - xTB\n",
        "\n",
        "####**PARTE 2 (Dia 03/07/24): Aplicações Avançadas**\n",
        "\n",
        "#### 1. Aplicações Avançadas (180 min)\n",
        "\n",
        "- **Modelagem do *Protein folding***\n",
        "  - Encontrando uma estrutura enovelada a partir de cálculos quânticos\n",
        "\n",
        "- **Modelagem de proteínas em solvente implícito**\n",
        "  - Enovelamento de proteína\n",
        "\n",
        "- **Dinâmica molecular de proteínas em solução**\n",
        "- **Visualizando a estrutura eletrônica de PAHs (*polycyclic aromatic hydrocarbons*)**\n",
        "\n",
        "####**Considerações finais**\n",
        "####**Formulário de *feedback* do minicurso**\n",
        "\n",
        "-------------\n",
        "\n",
        "**Tutoriais e Documentação**\n",
        "   - [Google Colaboratory Documentation](<https://colab.research.google.com/notebooks/intro.ipynb>)\n",
        "   "
      ],
      "metadata": {
        "id": "TiDeGJfU1aFL"
      }
    },
    {
      "cell_type": "markdown",
      "source": [
        "---------------\n",
        "##**Objetivos**\n",
        "\n",
        "1. Permitir a popularização da programação para químicos(a)s\n",
        "2. Divulgar aspectos introdutórios dos métodos de modelagem/simulação molecular como estratégia de aprendizado de química\n",
        "3. Mostrar a potencialidade da modelagem/simulação molecular para pesquisa em química e áreas afins\n",
        "4. Apresentar uma platafoma online que permite realizar modelagem/simulação molecular *open source*."
      ],
      "metadata": {
        "id": "cy85UL_CgaHz"
      }
    },
    {
      "cell_type": "markdown",
      "source": [
        "-----------\n",
        "## **Público alvo**\n",
        "\n",
        "1. Alunos de graduação e de pós-graduação sem experiência com modelagem/simulação molecular\n",
        "2. Alunos de graduação e de pós-graduação com pouca base de programação em python\n",
        "\n",
        "------------"
      ],
      "metadata": {
        "id": "7RthalL70Dyl"
      }
    },
    {
      "cell_type": "markdown",
      "source": [
        "#**PARTE 1: Aspectos introdutórios do uso de Python em modelagem molecular**\n",
        "\n",
        "\n"
      ],
      "metadata": {
        "id": "h203Li3u-v-S"
      }
    },
    {
      "cell_type": "markdown",
      "source": [
        "##**1 - Introdução à Modelagem Molecular (20 min)**\n",
        "- **Conceitos Básicos de Modelagem Molecular**\n",
        "  - Definição e importância da modelagem molecular\n",
        "  - Aplicações em Química, Biologia e Ciência dos Materiais\n",
        "\n"
      ],
      "metadata": {
        "id": "PZYZDGnKsjv2"
      }
    },
    {
      "cell_type": "markdown",
      "source": [
        "### **1.1 - O que é modelagem molecular?**\n",
        "\n",
        "**Definição da IUPAC:** <font color='red'>é a investigação das estruturas e das propriedades moleculares pelo uso da química computacional e técnicas de visualização gráficas, visando fornecer uma representação tridimensional, sob um dado conjunto de circunstâncias.</font>\n",
        "\n",
        "<https://goldbook.iupac.org/terms/view/MT06971#:~:text=Molecular%20modeling%20is%20the%20investigation,a%20given%20set%20of%20circumstances>\n",
        "\n",
        "Requer uma interação entre pesquisadores de física, química, matemática, ciência da computação, estatística, ciência dos materiais, engenharias e biologia.\n",
        "\n",
        "  - Construção de modelos\n",
        "  - Cálculo de propriedades e fenômenos\n",
        "  - Sintetisar ou produzir os materiais desejados\n",
        "\n",
        "**<font color='red'>Os cientistas moleculares modelam os materiais para que estes desempenhem papéis importantes na sociedade.**\n",
        "\n",
        "*in-silico*: Experimento computacional num sistema modelo\n",
        "\n",
        "  "
      ],
      "metadata": {
        "id": "uCOn2bAqOOkm"
      }
    },
    {
      "cell_type": "markdown",
      "source": [
        "### **1.2 - Utilização de modelagem molecular**\n",
        "\n",
        "A química computacional se tornou uma ferramenta essencial em diversas áreas da química, revolucionando a maneira como pesquisadores abordam problemas químicos. Hoje em dia, a química computacional é tão integrada à pesquisa e desenvolvimento que é difícil imaginar a química moderna sem ela.\n",
        "\n",
        "**Em resumo, as áreas da química que mais se beneficiam da química computacional são:**\n",
        "\n",
        "**1. Descoberta e Desenvolvimento de Fármacos:**\n",
        "\n",
        "* **Simulação de Interações Moleculares:** A química computacional permite simular a interação entre moléculas de fármacos e seus alvos biológicos, auxiliando na identificação de candidatos promissores e na otimização de sua estrutura molecular para maior atividade e especificidade.\n",
        "* **Predição de Propriedades Moleculares:** Através de cálculos computacionais, é possível prever propriedades como toxicidade, solubilidade e permeabilidade de compostos, acelerando o processo de desenvolvimento de fármacos e reduzindo custos com testes experimentais.\n",
        "* **Design Racional de Fármacos:** A química computacional permite o *design* racional de novos fármacos com propriedades específicas, direcionando o desenvolvimento para compostos mais eficazes e menos tóxicos.\n",
        "\n",
        "**2. Química de Materiais:**\n",
        "\n",
        "* **Desenvolvimento de Novos Materiais:** A simulação computacional de propriedades de materiais, como condutividade, resistência e reatividade, facilita o desenvolvimento de novos materiais com características otimizadas para aplicações específicas.\n",
        "* **Estudo de Processos Químicos:** A química computacional pode simular processos químicos em materiais, como polimerização e catálise, ajudando na compreensão dos mecanismos envolvidos e na otimização das condições de reação.\n",
        "* **Descoberta de Materiais Funcionais:** A simulação de propriedades emergentes em materiais, como supercondutividade e ferromagnetismo, permite a descoberta de novos materiais com funcionalidades inovadoras.\n",
        "\n",
        "**3. Catálise:**\n",
        "\n",
        "* **Desenvolvimento de Catalisadores Eficazes:** A química computacional pode simular reações catalíticas e o comportamento de catalisadores, auxiliando no design de catalisadores mais eficientes e seletivos para processos químicos específicos.\n",
        "* **Estudo de Mecanismos de Reação:** A simulação computacional de mecanismos de reação catalítica permite a compreensão detalhada das etapas envolvidas e dos fatores que influenciam a eficiência do catalisador.\n",
        "* **Otimização de Condições de Reação:** Através de simulações computacionais, é possível otimizar as condições de reação para aumentar a eficiência e seletividade de processos catalíticos.\n",
        "\n",
        "**4. Química Ambiental:**\n",
        "\n",
        "* **Estudo de Poluentes:** A química computacional pode simular o comportamento de poluentes no meio ambiente, como sua decomposição, transporte e interação com organismos vivos, auxiliando na avaliação de riscos e no desenvolvimento de estratégias de remediação.\n",
        "* **Desenvolvimento de Materiais Ecológicos:** A simulação computacional de propriedades de materiais ecológicos, como biodegradabilidade e compostabilidade, facilita o desenvolvimento de produtos mais sustentáveis.\n",
        "* **Otimização de Processos Industriais:** A química computacional pode simular processos industriais para reduzir a geração de poluentes e otimizar o uso de recursos, contribuindo para uma química mais verde.\n",
        "\n",
        "**5. Química Teórica:**\n",
        "\n",
        "* **Estudo da Estrutura e Propriedades Eletrônicas das Moléculas:** A química computacional permite calcular a estrutura molecular, as distribuições de carga eletrônica e as propriedades espectroscópicas de moléculas com alta precisão, aprofundando a compreensão da natureza química.\n",
        "* **Desenvolvimento de Modelos Teóricos:** A química computacional contribui para o desenvolvimento de modelos teóricos cada vez mais precisos para descrever o comportamento de moléculas e sistemas químicos.\n",
        "* **Exploração de Fenômenos Químicos Complexos:** A simulação computacional permite explorar fenômenos químicos complexos que são difíceis ou impossíveis de estudar experimentalmente, expandindo o conhecimento em áreas como catálise, fotoquímica e reações em fases líquidas e sólidas.\n",
        "\n",
        "**Conclusão:**\n",
        "\n",
        "A química computacional se tornou uma ferramenta indispensável para a química moderna, oferecendo soluções inovadoras para diversos desafios em áreas como desenvolvimento de fármacos, química de materiais, catálise, química ambiental e química teórica. Sua capacidade de simular e prever o comportamento de moléculas e sistemas químicos com alta precisão a torna uma ferramenta essencial para pesquisa, desenvolvimento e inovação na área da química.\n",
        "\n",
        "\n",
        "---------------"
      ],
      "metadata": {
        "id": "tgxaWDzfsp9Q"
      }
    },
    {
      "cell_type": "markdown",
      "source": [
        "##**2 - Utilizando Python no Google Colaboratory (20 min)**\n",
        "\n",
        "O Google Colaboratoy ou, simplemente, Colab é um ambiente do tipo Jupyter Notebook gratuito fornecido pelo Google onde você pode usar recursos computacionais que precisem de CPUs, GPUs e TPUs.\n",
        "\n",
        "É um ambiente que foi bem desenhado para ***Aprendizado de Máquina ou Inteligência artificial.***\n",
        "\n",
        "No entanto, nesse minicurso vamos explorar algumas possibilidades de como usar esse ambiente computacional para fazer modelagem molecular.\n"
      ],
      "metadata": {
        "id": "TLF7DCyYBA4B"
      }
    },
    {
      "cell_type": "markdown",
      "source": [
        "### **2.1 - Como ter acesso ao Google Colaboratory**\n",
        "\n",
        "Você pode fazer uma busca no google por \"google colaboratory\" para saber mais sobre a ferramenta. Para ter acesso à ferramenta é preciso possuir uma conta google. Uma vez que você tenha aberto uma conta na google, automaticamente você terá acesso à ferramenta *Google Colaboratory*.\n",
        "\n",
        "O link direto é [`Colab`](https://colab.google/). Nesse link você poderá criar um novo *Notebook* ou abrir a ferramenta. Clique em *Open Colab*.\n",
        "\n",
        "Ao clicar em *Open Colab*, você será redirecionado para uma janela onde você pode escolher em abrir um novo *Notebook* ou abrir um existente. Para quem não tem familiaridade nenhuma com a ferramenta é acoselhado tentar abrir *Notebooks* já prontos que estão na aba de *Exemplos*. Lá você vai encontrar mais de uma dezena de exemplos de como usar o *Colab*, desde tutoriais iniciais até os avançados.\n",
        "\n",
        "----\n",
        "\n"
      ],
      "metadata": {
        "id": "CJODqgjWs_Pj"
      }
    },
    {
      "cell_type": "markdown",
      "source": [
        "### **2.2 - Começando a usar o Colab**\n",
        "\n",
        "Nativamente o *Colab* é uma ferramenta de programação em Python ou R. Mas, vamos ver nesse minicurso que pode ser usada para muito mais coisas.\n",
        "\n",
        "Para selecionar se vai programar em Python ou em R, basta ir no menu *Editar* e selecionar a opção *Configurações de Notebook*. Vai ser aberta uma janela onde você pode selecionar a linguagem do seu *notebook*, bem como selecionar também o ambiente computacional que você vai usar.\n",
        "\n",
        "As opções são:\n",
        "\n",
        "* CPU\n",
        "* T4 GPU\n",
        "* A100 GPU\n",
        "* V100 GPU\n",
        "* TPU\n",
        "\n",
        "Na conta gratuita da plataforma Google, você terá direito a rodar em um ambiente de CPU contendo 2 *cores* e também poderá selecionar os aceleradores T4 GPU e TPU. As outras opções só estarão disponíveis mediante assinatura da ferramenta *Google Colab*. Essa assinatura pode ser feita clicando nessa mesma janela na opção *Compre mais unidades de computação*.\n",
        "\n",
        "Para se conectar ao ambiente de execução selecionado, você deve clicar no botão *Conectar* que fica no canto superior direito. Ou explorar o menu ao lado desse mesmo botão.\n",
        "\n",
        "Uma vez conectado a um ambiente de execução, você pode conferir os recursos computacionais disponíveis para você usar, tais como memória RAM e disco. Ao clicar no mostrativo de recursos, uma janela se abrirá onde várias informações são mostradas em detalhes.\n",
        "\n",
        "Mude o nome do seu *notebook* de acordo com seu interesse. É sempre bom usar nomes sem espaços no meio do nome. Para isso use o caractere \"_\".\n",
        "\n",
        "### Material bibliográfico sobre o *Google Colab*:\n",
        "\n",
        "1. Poornima G. Naik. Conceptualizing Python in Google COLAB, 2023.\n",
        "2. David Paper. State-of-the-Art Deep Learning Models in TensorFlow, 2021. <https://link.springer.com/book/10.1007/978-1-4842-7341-8>\n",
        "3. SHASHIKANT BAKRE, PRIYA GOKHALE. Python Programming with Google Colab : A beginner's Hand Book\n",
        "4. Todd Kelsey. Learning Python with ChatGPT and Google Colab: The easiest, quickest way to learn Python, using an advanced AI tutor and free cloud tools\n",
        "5. AM Govind Kumar. Python Programming : With Google Colab Development Environment\n",
        "6. William Vallejo, Carlos Díaz-Uribe, and Catalina Fajardo. Google Colab and Virtual Simulations: Practical e-Learning Tools to Support the Teaching of Thermodynamics and to Introduce Coding to Students. <https://pubs.acs.org/doi/10.1021/acsomega.2c00362>."
      ],
      "metadata": {
        "id": "ZW8frkaLtNRk"
      }
    },
    {
      "cell_type": "markdown",
      "source": [
        "-------------\n",
        "\n",
        "####**OBS: a partir desse ponto**\n",
        "\n",
        "<font color='red'>Se você está seguindo esse minicurso usando a ferramenta *Colab*, a partir desse ponto você deve ir no menu *Arquivo* e clicar na opção *Salvar uma cópia no Drive*. Isso vai permitir que você tenha uma cópia desse *.ipynb* no seu *Google Drive* e possa ter total controle sobre o mesmo.\n",
        "\n",
        "----"
      ],
      "metadata": {
        "id": "iP61O3VCBCQH"
      }
    },
    {
      "cell_type": "markdown",
      "source": [
        "\n",
        "### **2.3 - O *Colab* é uma plataforma de linux**\n",
        "\n",
        "Ao se conectar ao ambiente de execução do *Colab*, automaticamente é montado para você um \"mini\" ambiente Linux.\n",
        "\n",
        "Veja que existe uma barra lateral contendo sete ícones. Ao clicar no quarto ícone (de cima pra baixo) vai dar acesso a uma janela onde você pode navegar na estrutura de arquivos e pastas que foi criada.\n",
        "\n",
        "A pasta que é apresentada por padrão é a */content*. É nela onde os arquivos (*outputs*) que serão produzidos por meio de suas execuções serão salvas (por padrão) e também é a pasta onde você deve pôr seus *inputs* para serem lidos pelos procedimentos que constarão nas suas execuções.\n",
        "\n",
        "Navegar nessa janela é muito intuitivo. Se parece muito com muitos gerenciadores de arquivos de ambientes Linux, Windows, Android, IOS, etc.\n",
        "\n",
        "Nessa janela você pode fazer *upload* e *download* de arquivos, bem como criar pastas e também navegar pelas pastas existentes. Se você navegar pela estrutura de pastas desse ambiente você vai perceber claramente que se trata de um ambiente Linux.\n",
        "\n",
        "-------\n"
      ],
      "metadata": {
        "id": "5Nsabf2tBTGU"
      }
    },
    {
      "cell_type": "markdown",
      "source": [
        "### **2.4 - Começando a programar em Python**\n",
        "\n",
        "Esse tutorial não foi produzido para apresentar a linguagem Python ou R. Para aprender a programar em Python sugiro os materiais a seguir:\n",
        "\n",
        "##### **Para Python**\n",
        "\n",
        "1. Aprendendo Química com Python, Rodrigo Queiroz e Gerd Rocha, 2021, Amazon Book. <https://github.com/pythonchembook>\n",
        "\n",
        "  Link para compra: <https://www.amazon.com/Aprendendo-Qu%C3%ADmica-com-python-Portuguese/dp/B09LGSG6TY>\n",
        "\n",
        "2. J. Mueller. Começando a Programar em Python Para Leigos. Alta\n",
        "Books, 2020.\n",
        "3. A. Downey. Pense em Python: Pense como um cientista da computação.\n",
        "Novatec, 2016.\n",
        "4. <https://penseallen.github.io/PensePython2e/>\n",
        "5. <https://python-guide-pt-br.readthedocs.io/pt_BR/latest/>\n",
        "6. <https://aprendendo-computacao-com-python.readthedocs.io/en/latest/index.html>\n",
        "7. <https://github.com/RochaGerd/Chemistry_with_Python>\n",
        "\n",
        "--------------------\n",
        "\n",
        "O ambiente de programação do *Google Colab* é muito próximo de um ambiente do Jupyter Notebook. Onde você vai escrever seus códigos nas células de execução. A execução pode ser feita pelas teclas \"Shift\" e \"Enter\" pressionada juntas ou também clicando-se no botão de \"Play* que cada célula possui.\n",
        "\n",
        "O ambiente do *Google Colab* também permite que você insira células de texto, onde é usada a linguagem *Markdown* para edição e formatação dessas células.\n",
        "\n",
        "Com a liguagem *Markdown* você pode construir tabelas, inserir equações e imagens, e muitas coisas mais.\n",
        "\n",
        "Veja exemplos:\n",
        "\n",
        "$\\sqrt{3x-1}+(1+x)^2$\n",
        "\n",
        "$e^x = \\sum_{i = 0}^\\infty \\frac{1}{i!}x^i$\n",
        "\n",
        "Vale muito a pena saber um pouco mais da linguagem *Markdown*. Existem muitos tutoriais para se aprender *Markdown*. Aqui apresento uma lista rápida conseguida através de uma busca simples. Mas existem livros e materiais mais avançados.\n",
        "\n",
        "* <https://www.markdowntutorial.com/>\n",
        "* <https://www.markdownguide.org/>\n",
        "* <https://markdown.net.br>\n",
        "* <https://experienceleague.adobe.com/docs/contributor/contributor-guide/writing-essentials/markdown.html?lang=pt-BR>\n",
        "\n",
        "------------------\n"
      ],
      "metadata": {
        "id": "zeqWrqP0BZVB"
      }
    },
    {
      "cell_type": "code",
      "source": [
        "# Versão do Python usada\n",
        "import sys\n",
        "print(sys.version)"
      ],
      "metadata": {
        "id": "eZtOSVByAktb"
      },
      "execution_count": null,
      "outputs": []
    },
    {
      "cell_type": "code",
      "source": [
        "# Mostrar data e hora da execução\n",
        "import time\n",
        "print(time.ctime())"
      ],
      "metadata": {
        "id": "FIr-dvvFX43U"
      },
      "execution_count": null,
      "outputs": []
    },
    {
      "cell_type": "code",
      "source": [
        "'''# Verificando a GPU\n",
        "\n",
        "import tensorflow as tf\n",
        "tf.test.gpu_device_name()\n",
        "'''"
      ],
      "metadata": {
        "id": "lEuYwo6UYy2R"
      },
      "execution_count": null,
      "outputs": []
    },
    {
      "cell_type": "code",
      "source": [
        "import multiprocessing\n",
        "\n",
        "cores = multiprocessing.cpu_count() # Count the number of cores in a computer\n",
        "cores"
      ],
      "metadata": {
        "id": "WgBZsRC0Y3ot"
      },
      "execution_count": null,
      "outputs": []
    },
    {
      "cell_type": "markdown",
      "source": [
        "---------\n",
        "#### **2.4.1 - Instalação de bibliotecas no Python/Google *Colab***\n",
        "\n",
        "Existe um minicurso de noções de Python mais completo do que exploraremos aqui e pode ser encontrado no link a seguir:\n",
        "\n",
        "- <https://github.com/RochaGerd/Chemistry_with_Python>\n",
        "\n",
        "Aqui, nesse minicurso, mostrarei apenas os seguintes conteúdos de Python:\n",
        "\n",
        "- Bibliotecas essenciais (numpy, matplotlib e pandas)\n",
        "\n"
      ],
      "metadata": {
        "id": "XuK599qkCRd9"
      }
    },
    {
      "cell_type": "markdown",
      "source": [
        "---\n",
        "#### **Bibliotecas e módulos**\n",
        "\n",
        "Bibliotecas são coleções de funções e classes (e às vezes de dados gerais e constantes) que podem ser facilmente importadas em Python de forma a possibilitar uma enorme variedade de operações com um mínimo de código.\n",
        "\n",
        "Links de bibliotecas em Python\n",
        "\n",
        "- <https://pypi.org/>\n",
        "- <http://datascienceacademy.com.br/blog/top-20-bibliotecas-python-para-data-science/>\n",
        "\n",
        "Algumas dessas bibliotecas precisam ser instaladas. Elas não vêm com a distribuição do python.\n",
        "\n",
        "Primeiro você tem que instalar a biblioteca\n",
        "\n",
        "- Para isso você deve usar os gerenciadores de pacotes de Python: PyPi (<https://pypi.org/>) ou \"*Conda*\".\n",
        "- <http://pyscience-brasil.wikidot.com/install:como-instalar-o-numpy>\n",
        "- <https://computadorcomwindows.com/2018/01/19/tutorial-como-instalar-uma-biblioteca-python-no-computador/>\n",
        "- <http://pyscience-brasil.wikidot.com/>\n",
        "\n",
        "Para carregar uma bibloteca e/ou pacote no seu programa, use uma das seguintes chamadas:\n",
        "\n",
        "\n",
        "```python\n",
        "import biblioteca\n",
        "import biblioteca as apelido\n",
        "from biblioteca import módulo\n",
        "from biblioteca import módulo as apelido\n",
        "from biblioteca import função\n",
        "from biblioteca import função as apelido\n",
        "```\n",
        "\n",
        "---"
      ],
      "metadata": {
        "id": "lDwKHRklh55q"
      }
    },
    {
      "cell_type": "code",
      "source": [
        "# Exemplo de importação da biblioteca matemática NumPy\n",
        "import numpy as np\n",
        "print (\"Versão da NumPy\", np.__version__)"
      ],
      "metadata": {
        "id": "boEFsErCAhHq"
      },
      "execution_count": null,
      "outputs": []
    },
    {
      "cell_type": "code",
      "execution_count": null,
      "metadata": {
        "id": "dNe8NsBxEUbw"
      },
      "outputs": [],
      "source": [
        "print(4.0*np.pi) # Imprime a operação 4.0*Pi\n",
        "\n",
        "print(np.sqrt(10.0)) # Imprime a raiz quadrada de 10.0\n",
        "\n",
        "print(2.0*np.cos(np.pi)) # Função cosseno\n",
        "\n",
        "#print(np.abs(-3.0*np.pi)) # Função valor absoluto"
      ]
    },
    {
      "cell_type": "code",
      "source": [
        "# Exemplo de importação de um módulo específico do SciPy # OBS colocar operações da SciPy\n",
        "from scipy import linalg as la\n",
        "A = np.matrix(np.random.random((2,2)))\n",
        "B = np.mat(np.random.random((10,5)))\n",
        "C = np.mat([[3,4], [5,6]])\n",
        "print(\"A = \", A)\n",
        "print(\"B = \", B)\n",
        "print(\"C = \", C)"
      ],
      "metadata": {
        "id": "gwizvWzz-kAv"
      },
      "execution_count": null,
      "outputs": []
    },
    {
      "cell_type": "code",
      "source": [
        "import pandas as pd\n",
        "print(\"Versão do Pandas\", pd.__version__)"
      ],
      "metadata": {
        "id": "wbXzXEIQZKNc"
      },
      "execution_count": null,
      "outputs": []
    },
    {
      "cell_type": "code",
      "source": [
        "%%file dados.csv\n",
        " X,Y\n",
        "  1.1,     3.5\n",
        "  4. ,     6.9\n",
        "  0.1,     9.5\n",
        " 23.89,   67.789\n",
        " -4.999,  55.456\n",
        "-35.,     34.98"
      ],
      "metadata": {
        "id": "YmEJreLfZK7a"
      },
      "execution_count": null,
      "outputs": []
    },
    {
      "cell_type": "code",
      "source": [
        "# Se colunas estão separadas por espaços ou tabulações , use :\n",
        "data = pd.read_csv('dados.csv',header=0)      # colunas separadas por ','\n",
        "\n",
        "type(data)"
      ],
      "metadata": {
        "id": "7Pmmbj2lZPd8"
      },
      "execution_count": null,
      "outputs": []
    },
    {
      "cell_type": "code",
      "source": [
        "data"
      ],
      "metadata": {
        "id": "Vnn1262CZQUb"
      },
      "execution_count": null,
      "outputs": []
    },
    {
      "cell_type": "code",
      "source": [
        "data.to_excel('dados_novo.xlsx', index = False)  # exporte como xlsx"
      ],
      "metadata": {
        "id": "5DorO0SuZUNq"
      },
      "execution_count": null,
      "outputs": []
    },
    {
      "cell_type": "code",
      "source": [
        "# Importando a Matplolib\n",
        "# Quando usar o Jupyter-Notebook um comando para mostrar os gráficos no próprio Jupyter Notebook é:\n",
        "\n",
        "%matplotlib inline\n",
        "import matplotlib as mpl\n",
        "\n",
        "print (\"Versão da Matplotlib usada:\", mpl.__version__)"
      ],
      "metadata": {
        "id": "z4b6FaZO-kO2"
      },
      "execution_count": null,
      "outputs": []
    },
    {
      "cell_type": "code",
      "source": [
        "from matplotlib import pyplot as plt # Comando para carregar o módulo PyPlot da Matplotlib\n",
        "\n",
        "ax = [0., 0.5, 1.0, 1.5, 2.0, 2.5, 3.0]\n",
        "ay = [0.0, 0.25, 1.0, 2.25, 4.0, 6.25, 9.0]\n",
        "plt.plot(ax,ay)\n",
        "plt.show()"
      ],
      "metadata": {
        "id": "ZsXZ_uIS-kSN"
      },
      "execution_count": null,
      "outputs": []
    },
    {
      "cell_type": "code",
      "source": [
        "# Exemplo Distribuição de Velocidades moleculares em um gás ideal\n",
        "# A distribuição das velocidades das moléculas de um gás ideal pode ser calculada com base no tratamento dado por James Clerk Maxwell juntamente com Ludwig Boltzmann.\n",
        "# Considere 1 mol de gás carbônico (CO2) inserido em um recipiente de volume fixo de 1L.\n",
        "# Obtenha as curvas de distribuição de velocidade molecular para essa amostra nas temperaturas de 300K e 800K.\n",
        "# Fonte para consulta: Tópico 3D.3 do livro Peter Atkins, Loretta Jones e Lerroy Laverman, Princípios de Química: questionando a vida moderna e o meio ambiente, 7.ed., Porto Alegre, Bookman, 2018.\n",
        "import numpy as np\n",
        "import matplotlib.pyplot as plt\n",
        "\n",
        "M_CO2 = 44.0095  # Em g/mol\n",
        "R = 8.3145 # J/(K*mol)\n",
        "T1 = 300  # K\n",
        "T2 = 800  # K\n",
        "ct1 = ((M_CO2/1000.0)/(2.0*R*T1))\n",
        "ct2 = ((M_CO2/1000.0)/(2.0*R*T2))\n",
        "\n",
        "npt = 100000\n",
        "vmin, vmax = 0.01, 2000.0\n",
        "v = np.linspace(vmin, vmax, npt)\n",
        "\n",
        "fr1 = 4.0*np.pi*((ct1/np.pi)**(1.5))*np.square(v)*np.exp(-ct1*np.square(v))\n",
        "fr2 = 4.0*np.pi*((ct2/np.pi)**(1.5))*np.square(v)*np.exp(-ct2*np.square(v))\n",
        "\n",
        "plt.plot(v,fr1, label=\"T = 300K\", lw = 2.5)\n",
        "plt.plot(v,fr2, label=\"T = 800K\", lw = 2.5)\n",
        "plt.title(\"Gráfico de distribuições de velocidades moleculares \", fontsize=16)\n",
        "plt.xlabel(\"Velocidade molecular (m/s)\",fontsize=14)\n",
        "plt.ylabel(\"Fração, f(v) (s/m)\",fontsize=14)\n",
        "plt.legend()\n",
        "plt.tight_layout()\n",
        "plt.savefig('molecular_speed.png',dpi=400, transparent=True)\n",
        "plt.show()"
      ],
      "metadata": {
        "id": "6DcCYc1PcBzZ"
      },
      "execution_count": null,
      "outputs": []
    },
    {
      "cell_type": "code",
      "source": [
        "import numpy as np\n",
        "import matplotlib.pyplot as plt\n",
        "\n",
        "L, nx, ny = 1, 2, 2\n",
        "x = np.linspace(0, L, 20)\n",
        "y = np.linspace(0, L, 20)\n",
        "X, Y = np.meshgrid(x,y)\n",
        "\n",
        "Psi = (2/L) * np.sin(nx*np.pi*X/L) * np.sin(ny*np.pi*Y/L)\n",
        "\n",
        "fig = plt.figure(figsize=(10,6))\n",
        "plt.contourf(X, Y, Psi, 12, cmap='jet', alpha=0.8)\n",
        "contorno = plt.contour(X, Y, Psi, 12, colors='black')\n",
        "plt.clabel(contorno)\n",
        "\n",
        "plt.title('Gráfico 2D de $\\Psi_{2,2}(X,Y)$', fontsize=16)\n",
        "plt.ylabel('Y', fontsize = 14)\n",
        "plt.xlabel('X', fontsize = 14)\n",
        "plt.savefig('2D_part_in_box_600.png', dpi=600, transparent=True)"
      ],
      "metadata": {
        "id": "TFli82jhcB7K"
      },
      "execution_count": null,
      "outputs": []
    },
    {
      "cell_type": "code",
      "source": [],
      "metadata": {
        "id": "jcBMRw-XZgBw"
      },
      "execution_count": null,
      "outputs": []
    },
    {
      "cell_type": "markdown",
      "source": [
        "##**3 - Instalação e uso básico de Bibliotecas de Python para Modelagem Molecular (140 min)**\n",
        "\n",
        "A partir dessa parte vamos mostrar como utilizar a plataforma *Google Colab* como ambiente de desenvolvimento e execução de modelagens e simulações moleculares.\n",
        "\n",
        "Para a maioria dos pesquisadores que executam códigos de modelagem e simulação molecular é preciso ter um ambiente que permita:\n",
        "\n",
        "* Instalar seus programas, bibliotecas ou compilar seus códigos (fortran, C, C++, etc)\n",
        "* Executar o cálculo em paralelo em CPUs e GPUs\n",
        "* Manipular arquivos e pastas\n",
        "* Outros\n",
        "\n",
        "Vamos ver que dá para fazer tudo isso no ambiente Linux que é oferecido pelo *Google Colab*\n",
        "\n",
        "#### **Instalando programas a partir de bibliotecas disponíveis em repositórios**\n",
        "\n",
        "O *Google Colab* já possui muitas bibliotecas de Python pré-instaladas no seu ambiente computacional. Pelo menos as mais conhecidas:\n",
        "\n",
        "* Numpy\n",
        "* Scipy\n",
        "* Matplotlib\n",
        "* Pandas\n",
        "* outras mais.\n",
        "\n",
        "Contudo é interessante saber que você pode instalar uma biblioteca do Python, mesmo que ela não esteja disponível no *Google Colab*.\n",
        "\n",
        "Para fazer isso basta usar o seguinte comando\n",
        "\n",
        "- **!pip install** *nome da biblioteca ou pacote*\n",
        "- **Através do ambiente *conda***\n",
        "\n",
        "Ex: <font color='red'>**!pip install** *rdkit*\n",
        "\n",
        "---\n",
        "\n",
        "**Fonte: Aprendendo Química com Python, Rodrigo Queiroz e Gerd Rocha, 2021, Amazon Book. <https://github.com/pythonchembook>**\n",
        "\n",
        "\n",
        "-----------------\n",
        "\n"
      ],
      "metadata": {
        "id": "7r9QCJLqdJa0"
      }
    },
    {
      "cell_type": "code",
      "source": [],
      "metadata": {
        "id": "uCwBzwdHwrLT"
      },
      "execution_count": null,
      "outputs": []
    },
    {
      "cell_type": "markdown",
      "source": [
        "#### **Executando comandos do sistema operacional Linux**\n",
        "\n",
        "Os comandos anteriores mostraram que podemos executar qualquer comando do Linux, como se estivessemos em um terminal, usando a sintaxe:\n",
        "\n",
        "* **!comando**"
      ],
      "metadata": {
        "id": "7KBdDwY9wr1R"
      }
    },
    {
      "cell_type": "code",
      "source": [
        "!ls -la *\n",
        "\n",
        "# essa é a pasta /content"
      ],
      "metadata": {
        "id": "Ek8D01uawr1S"
      },
      "execution_count": null,
      "outputs": []
    },
    {
      "cell_type": "code",
      "source": [
        "# Vendo infos sobre o sistema operacional do ambiente conectado\n",
        "!cat /proc/cpuinfo\n",
        "!cat /proc/meminfo"
      ],
      "metadata": {
        "id": "vs4kTbZMwr1S"
      },
      "execution_count": null,
      "outputs": []
    },
    {
      "cell_type": "code",
      "source": [
        "!lscpu"
      ],
      "metadata": {
        "id": "8Ao8U5KFwr1S"
      },
      "execution_count": null,
      "outputs": []
    },
    {
      "cell_type": "code",
      "source": [
        "!cat /proc/cpuinfo | grep processor | wc -l"
      ],
      "metadata": {
        "id": "1Kv-nCRJwr1S"
      },
      "execution_count": null,
      "outputs": []
    },
    {
      "cell_type": "code",
      "source": [
        "!apt-get install hwinfo"
      ],
      "metadata": {
        "id": "7N8DmvF8wr1S"
      },
      "execution_count": null,
      "outputs": []
    },
    {
      "cell_type": "code",
      "source": [
        "!hwinfo --cpu"
      ],
      "metadata": {
        "id": "CGlUrCX0wr1S"
      },
      "execution_count": null,
      "outputs": []
    },
    {
      "cell_type": "code",
      "source": [
        "#!nvidia-smi -L"
      ],
      "metadata": {
        "id": "SZSM7IlVwr1T"
      },
      "execution_count": null,
      "outputs": []
    },
    {
      "cell_type": "code",
      "source": [
        "#!nvidia-smi -q"
      ],
      "metadata": {
        "id": "VO2Qhae3wr1T"
      },
      "execution_count": null,
      "outputs": []
    },
    {
      "cell_type": "code",
      "source": [
        "#!nvidia-smi"
      ],
      "metadata": {
        "id": "3j-7czq6wr1T"
      },
      "execution_count": null,
      "outputs": []
    },
    {
      "cell_type": "code",
      "source": [
        "!free -h --si | awk  '/Mem:/{print $2}'"
      ],
      "metadata": {
        "id": "vvfY5_Zdwr1T"
      },
      "execution_count": null,
      "outputs": []
    },
    {
      "cell_type": "code",
      "source": [
        "'''\n",
        "import os\n",
        "if int(os.environ[\"COLAB_GPU\"]) > 0:\n",
        "  print(\"a GPU is connected.\")\n",
        "elif \"COLAB_TPU_ADDR\" in os.environ and os.environ[\"COLAB_TPU_ADDR\"]:\n",
        "  print(\"A TPU is connected.\")\n",
        "else:\n",
        "  print(\"No accelerator is connected.\")\n",
        "'''"
      ],
      "metadata": {
        "id": "Cx7sfzHAwr1T"
      },
      "execution_count": null,
      "outputs": []
    },
    {
      "cell_type": "code",
      "source": [
        "# Executando comandos a partir de um arquivo \"temporário\" bash\n",
        "# Veja que aqui não é preciso usar o caractere \"!\" antes do comando do sistema operacional\n",
        "%%bash\n",
        "pwd\n",
        "ls -la *"
      ],
      "metadata": {
        "id": "xLQ9KYjcwr1U"
      },
      "execution_count": null,
      "outputs": []
    },
    {
      "cell_type": "code",
      "source": [
        "# para omitir a saida de muitos comandos\n",
        "%%capture\n",
        "!pip install py3Dmol\n",
        "!pip instal pyscf\n",
        "!pip instal ase"
      ],
      "metadata": {
        "id": "EFOuwclFwr1U"
      },
      "execution_count": null,
      "outputs": []
    },
    {
      "cell_type": "markdown",
      "source": [
        "----------------\n",
        "#### **Instalando programas a partir de executáveis compilados em máquinas externas**\n",
        "\n",
        "Aqui a dica é compilar seu código em uma máquina Linux e fazer o *upload* para a pasta de interesse. Podendo ser inclusive a do seu drive montado.\n",
        "\n",
        "Testar com um código simples de fortran.\n",
        "\n",
        "Program Hello\n",
        "\n",
        "write(6,*) \"Hello Bro !!\"\n",
        "\n",
        "stop 'O programa acabou'\n",
        "\n",
        "End Program Hello\n",
        "\n",
        "*Compila com gfortran -o hello.exe hello.f90*\n",
        "Você deve copiar seu executável para a pasta /content e executá-lo."
      ],
      "metadata": {
        "id": "9a8wJ6YCwr1U"
      }
    },
    {
      "cell_type": "code",
      "source": [
        "#!/contet/hello.exe"
      ],
      "metadata": {
        "id": "dcVy4RTewr1U"
      },
      "execution_count": null,
      "outputs": []
    },
    {
      "cell_type": "markdown",
      "source": [
        "-------------------\n",
        "#### **Compilando seus códigos dentro do ambiente do *Colab***\n",
        "\n",
        "Como se trata de um ambiente Linux, você pode compilar seus códigos dentro do *Google Colab* e gerar seus executáveis. O *Colab* tem compilador de C++ e Fortran da GNU, além de cuda da Nvidia.  \n",
        "\n",
        "A vantagem de compilar dentro do *Colab* é que teremos um executável bem ajustado para o ambiente Linux que o *Colab* nos oferece (CPUs e GPUs).  \n"
      ],
      "metadata": {
        "id": "z4FSZM2Cwr1U"
      }
    },
    {
      "cell_type": "code",
      "source": [
        "%%file hello_world.f90\n",
        "Program hello_world\n",
        "Implicit none\n",
        "Integer, parameter :: n = 10\n",
        "Integer :: i\n",
        "do i = 1,n\n",
        "  write(6,*) 'Hello World'\n",
        "enddo\n",
        "continue\n",
        "Stop 'O programa acabou'\n",
        "End program hello_world"
      ],
      "metadata": {
        "id": "3GbI2fi4wr1U"
      },
      "execution_count": null,
      "outputs": []
    },
    {
      "cell_type": "code",
      "source": [
        "!ls -la *"
      ],
      "metadata": {
        "id": "VqlRxOyewr1V"
      },
      "execution_count": null,
      "outputs": []
    },
    {
      "cell_type": "code",
      "source": [
        "!gfortran -o hello_world.exe hello_world.f90"
      ],
      "metadata": {
        "id": "W0Z6quG3wr1V"
      },
      "execution_count": null,
      "outputs": []
    },
    {
      "cell_type": "code",
      "source": [
        "!/content/hello_world.exe"
      ],
      "metadata": {
        "id": "WZFkFUrGwr1V"
      },
      "execution_count": null,
      "outputs": []
    },
    {
      "cell_type": "code",
      "source": [
        "#!cuda"
      ],
      "metadata": {
        "id": "Phwy4cY-wr1V"
      },
      "execution_count": null,
      "outputs": []
    },
    {
      "cell_type": "code",
      "source": [
        "#!gcc"
      ],
      "metadata": {
        "id": "QsbuZDJuwr1V"
      },
      "execution_count": null,
      "outputs": []
    },
    {
      "cell_type": "code",
      "source": [],
      "metadata": {
        "id": "O8IYuB1Uwr1W"
      },
      "execution_count": null,
      "outputs": []
    },
    {
      "cell_type": "markdown",
      "source": [
        "### **3.1 - Modelagem molecular básica**"
      ],
      "metadata": {
        "id": "GtWMaXJGuDAc"
      }
    },
    {
      "cell_type": "markdown",
      "source": [
        "#### **3.1.1 - Definindo o sistema molecular**\n",
        "\n",
        "A representação de sistemas moleculares no espaço é fundamental para a modelagem molecular e simulações computacionais.\n",
        "\n",
        "* **Nomenclatura ou fórmula química (1-D):** Identificação da molécula. Permite a classificação de compostos de acordo com suas propriedades.\n",
        "* **Fórmula plana ou de linhas (2-D):** Explicita grupos funcionais e ligações entre os átomos.\n",
        "* **Estrutura tridimensional (3-D):** Geometria espacial (distâncias, ângulos e diedros), conformação.\n",
        "* **Superfícies (3-D):** Fornece mapa 3D de propriedades (densidade eletrônica, potencial eletrostático, hidrofobicidade, área acessível ao solvente, etc.).\n",
        "\n",
        "\n",
        "Para nós, nesse momento, a estrutura tridimensional permite a definição das coordenadas atômicas (X, Y, Z) e conectividades. A maneira como os sistemas moleculares são representados tem um impacto significativo na eficiência das simulações, além de influenciar a interpretação dos resultados.\n",
        "\n",
        "O tipo de representação pode ser específica para evidenciar uma determinada propriedade ou específica para um dado tipo de sistema (e.g. estado sólido, proteína, líquido, etc..) .\n",
        "Essas representações dão origem aos inúmeros formatos de arquivos usados pelos diversos programas de modelagem molecular.\n",
        "\n",
        "Existe um conversor universal de formatos de arquivos de modelagem/simulação molecular:\n",
        "\n",
        "* <https://openbabel.org/index.html>\n"
      ],
      "metadata": {
        "id": "chJpuBAvwSqb"
      }
    },
    {
      "cell_type": "code",
      "source": [],
      "metadata": {
        "id": "3vl_ev9Awc6j"
      },
      "execution_count": null,
      "outputs": []
    },
    {
      "cell_type": "markdown",
      "source": [
        "#### **3.1.2 - Superfície de energia potencial e campo de força**\n",
        "\n",
        "#### **Superfície de energia potencial**\n",
        "\n",
        "A superfície de energia potencial (PES, do inglês *Potential Energy Surface*) é um conceito fundamental na química quântica e na modelagem molecular. Ela representa a energia potencial de um sistema molecular em função das coordenadas nucleares. A PES fornece uma descrição completa de como a energia do sistema varia com a geometria molecular, sendo essencial para entender e prever a estrutura, reatividade e dinâmica das moléculas.\n",
        "\n",
        "#### **Fundamentos Teóricos**\n",
        "\n",
        "A PES é uma função multidimensional que depende das coordenadas nucleares de um sistema de $N$ átomos:\n",
        "\n",
        "$$\n",
        "E = E(R_1, R_2, \\ldots, R_N)\n",
        "$$\n",
        "\n",
        "onde $R_i$ são as coordenadas dos núcleos. A PES é geralmente obtida a partir de cálculos de mecânica quântica para diferentes conformações do sistema molecular.\n",
        "\n",
        "#### **Pontos Críticos na PES**\n",
        "\n",
        "Os pontos críticos na PES são de particular interesse:\n",
        "\n",
        "- **Minimos Globais**: Corresponde à estrutura de menor energia, que geralmente é a mais estável.\n",
        "- **Minimos Locais**: Correspondem a estruturas estáveis, mas de energia maior que o mínimo global.\n",
        "- **Pontos de Sela**: Correspondem a estados de transição e representam barreiras de energia entre diferentes mínimas.\n",
        "\n",
        "#### **Equação de Schrödinger**\n",
        "\n",
        "A PES é derivada da equação de Schrödinger independente do tempo para um sistema molecular:\n",
        "\n",
        "$$\n",
        "\\hat{H} \\Psi = E \\Psi\n",
        "$$\n",
        "\n",
        "onde $\\hat{H}$ é o Hamiltoniano do sistema, $\\Psi$ é a função de onda e $E$ é a energia. Para obter a PES, resolvemos a equação de Schrödinger para várias configurações nucleares fixas.\n",
        "\n",
        "#### **Energia Potencial**\n",
        "\n",
        "A energia potencial ou energia total para um sistema molecular pode ser expressa como:\n",
        "\n",
        "$$\n",
        "E_{potencial} = E_{eletrônica} + E_{nuclear}\n",
        "$$\n",
        "\n",
        "onde $E_{eletrônica}$ é a energia dos elétrons para uma configuração nuclear fixa e $E_{nuclear}$ é a energia de repulsão entre os núcleos.\n",
        "\n",
        "#### Energia de Ativação\n",
        "\n",
        "A energia de ativação para uma reação química é a diferença de energia entre o estado de transição (ponto de sela) e o reagente:\n",
        "\n",
        "$$\n",
        "E_{ativação} = E_{TS} - E_{reagente}\n",
        "$$\n",
        "\n",
        "### Bibliografia Relevante\n",
        "\n",
        "1. **\"Molecular Electronic-Structure Theory\"** - T. Helgaker, P. Jørgensen, J. Olsen.\n",
        "2. **\"Modern Quantum Chemistry: Introduction to Advanced Electronic Structure Theory\"** - A. Szabo, N. S. Ostlund.\n",
        "3. **\"Potential Energy Surfaces and Dynamics Calculations\"** - D. G. Truhlar, A. Kuppermann.\n",
        "\n",
        "#### **Campos de Força**\n",
        "\n",
        "Campos de força são conjuntos de funções matemáticas e parâmetros que descrevem a energia potencial de um sistema molecular. São amplamente utilizados em simulações de dinâmica molecular (MD), Monte Carlo (MC) e mecânica molecular (MM) para estudar as propriedades estruturais e dinâmicas de biomoléculas, polímeros, materiais e outros sistemas químicos. Diferentemente dos métodos quânticos, os campos de força são baseados em aproximações clássicas, permitindo a simulação de sistemas muito maiores e em escalas de tempo mais longas.\n",
        "\n",
        "#### **Fundamentos Teóricos**\n",
        "\n",
        "Um campo de força descreve a energia potencial total de um sistema como a soma de várias contribuições energéticas, que podem incluir termos de interação entre pares de átomos, ângulos, torções e interações não ligadas.\n",
        "\n",
        "#### **Energia Potencial Total do Campo de Força**\n",
        "\n",
        "A energia potencial total $E_{total}$ de um sistema pode ser expressa como:\n",
        "\n",
        "$$\n",
        "E_{total} = E_{lig} + E_{ang} + E_{tor} + E_{não-lig}\n",
        "$$\n",
        "\n",
        "onde:\n",
        "\n",
        "- $E_{lig}$: Energia de ligação.\n",
        "- $E_{ang}$: Energia angular.\n",
        "- $E_{tor}$: Energia de torção.\n",
        "- $E_{não-lig}$: Energia de interações não-ligadas (van der Waals e eletrostática).\n",
        "\n",
        "#### **Energia de Ligação**\n",
        "\n",
        "A energia de ligação $E_{lig}$ é geralmente modelada como uma mola harmônica (Lei de Hooke):\n",
        "\n",
        "$$\n",
        "E_{lig} = \\sum_{bonds} \\frac{1}{2} k_b (r - r_0)^2\n",
        "$$\n",
        "\n",
        "onde $k_b$ é a constante de força da ligação, $r$ é a distância entre átomos ligados e $r_0$ é a distância de equilíbrio.\n",
        "\n",
        "#### **Energia Angular**\n",
        "\n",
        "A energia angular $E_{ang}$ também é modelada harmonicamente (lei de Hooke):\n",
        "\n",
        "$$\n",
        "E_{ang} = \\sum_{ângulos} \\frac{1}{2} k_\\theta (\\theta - \\theta_0)^2\n",
        "$$\n",
        "\n",
        "onde $k_\\theta$ é a constante de força angular, $\\theta$ é o ângulo entre três átomos e $\\theta_0$ é o ângulo de equilíbrio.\n",
        "\n",
        "#### **Energia de Torção**\n",
        "\n",
        "A energia de torção $E_{tor}$ é frequentemente modelada por uma série de Fourier:\n",
        "\n",
        "$$\n",
        "E_{tor} = \\sum_{torções} \\sum_n \\frac{1}{2} V_n [1 + \\cos(n\\phi - \\gamma)]\n",
        "$$\n",
        "\n",
        "onde $V_n$ é a constante de força de torção, $\\phi$ é o dihedral angle, $n$ é a periodicidade e $\\gamma$ é a fase.\n",
        "\n",
        "#### **Energia de Interações Não-Ligadas**\n",
        "\n",
        "As interações não-ligadas incluem forças de van der Waals e interações eletrostáticas:\n",
        "\n",
        "$$\n",
        "E_{não-lig} = \\sum_{i<j} \\left[ 4\\epsilon_{ij} \\left( \\left( \\frac{\\sigma_{ij}}{r_{ij}} \\right)^{12} - \\left( \\frac{\\sigma_{ij}}{r_{ij}} \\right)^6 \\right) + \\frac{q_i q_j}{4 \\pi \\epsilon_0 r_{ij}} \\right]\n",
        "$$\n",
        "\n",
        "onde $\\epsilon_{ij}$ e $\\sigma_{ij}$ são os parâmetros de van der Waals para o par de átomos $i$ e $j$, $r_{ij}$ é a distância entre eles, $q_i$ e $q_j$ são as cargas parciais dos átomos, e $\\epsilon_0$ é a permissividade do vácuo.\n",
        "\n",
        "\n",
        "#### Bibliografia\n",
        "\n",
        "1. **\"Molecular Modelling: Principles and Applications\"** - A. R. Leach.\n",
        "2. **\"Understanding Molecular Simulation: From Algorithms to Applications\"** - D. Frenkel, B. Smit.\n",
        "3. **\"Computer Simulation of Liquids\"** - M. P. Allen, D. J. Tildesley.\n"
      ],
      "metadata": {
        "id": "pMuuhp1Wwej5"
      }
    },
    {
      "cell_type": "code",
      "source": [],
      "metadata": {
        "id": "CSv0LyxAcjxX"
      },
      "execution_count": null,
      "outputs": []
    },
    {
      "cell_type": "markdown",
      "source": [
        "### **3.2 - Biblioteca RDKit**\n",
        "\n",
        "A RDKit (**R**apidly developing **D**evelopment **K**it for **I**nformation **T**echnology) é uma biblioteca de software open-source em Python amplamente utilizada para química computacional. Ela oferece uma gama completa de ferramentas para manipulação, análise e visualização de moléculas, facilitando o desenvolvimento de aplicações em diversas áreas, como:\n",
        "\n",
        "* **Descoberta de Fármacos:** A RDKit permite o cálculo de propriedades moleculares, predição de atividade biológica, *docking* de ligantes e *design* racional de fármacos.\n",
        "* **Química Computacional:** A biblioteca fornece ferramentas para simulação de dinâmica molecular, otimização de geometria molecular, estudos de QSAR (*Quantitative Structure-Activity Relationships*) e muito mais.\n",
        "* **Bioinformática:** A RDKit pode ser utilizada para análise de sequências de DNA e proteínas, predição de estrutura de proteínas, e estudos de interações biomoleculares.\n",
        "* **Materiais:** A biblioteca oferece ferramentas para o estudo de materiais moleculares, como polímeros e nanomateriais.\n",
        "* **Ensino e Pesquisa:** A RDKit é utilizada em diversos cursos e pesquisas em química, biologia, farmácia e áreas afins.\n",
        "\n",
        "**Principais Características da RDKit:**\n",
        "\n",
        "* **Facilidade de Uso:** A RDKit possui uma interface amigável e intuitiva, com documentação extensa e exemplos de código.\n",
        "* **Flexibilidade:** A biblioteca oferece diversas funções e métodos para manipular e analisar moléculas de forma abrangente.\n",
        "* **Extensibilidade:** A RDKit pode ser facilmente estendida com novas funcionalidades através de scripts em Python.\n",
        "* **Comunidade Ativa:** A comunidade RDKit é grande e ativa, com fóruns online, tutoriais e workshops disponíveis para auxiliar os usuários.\n",
        "\n",
        "**Links Importantes:**\n",
        "\n",
        "* **Site Oficial:** [https://www.rdkit.org/docs/GettingStartedInPython.html](https://www.rdkit.org/docs/GettingStartedInPython.html)\n",
        "* **Documentação:** [https://www.rdkit.org/docs/](https://www.rdkit.org/docs/)\n",
        "* **Tutoriais:** [https://www.rdkit.org/docs/GettingStartedInPython.html](https://www.rdkit.org/docs/GettingStartedInPython.html)\n",
        "* **Fórum da Comunidade:** [https://github.com/rdkit/rdkit/discussions](https://github.com/rdkit/rdkit/discussions)\n",
        "* **Exemplos de Código:** [https://github.com/rdkit/rdkit](https://github.com/rdkit/rdkit)\n",
        "* **Mais Tutoriais:** https://www.rdkit.org/docs/RDKit_Book.html\n",
        "\n",
        "-------------\n"
      ],
      "metadata": {
        "id": "tX8DckE2vxnl"
      }
    },
    {
      "cell_type": "code",
      "source": [
        "#@title **Instalando Conda/Mamba**\n",
        "# Execute this cell to install mamba in the Colab environment\n",
        "\n",
        "if 'google.colab' in str(get_ipython()):\n",
        "  print('Running on colab')\n",
        "  !pip install -q condacolab\n",
        "  import condacolab\n",
        "  condacolab.install_mambaforge()\n",
        "else:\n",
        "  print('Not running on colab.')\n",
        "  print('Make sure you create and activate a new conda environment!')"
      ],
      "metadata": {
        "id": "vDjARCYphZP1",
        "cellView": "form"
      },
      "execution_count": null,
      "outputs": []
    },
    {
      "cell_type": "code",
      "source": [
        "# Conferência se foi instalado corretamente\n",
        "!conda --version"
      ],
      "metadata": {
        "id": "KrtO2ZlSwINJ"
      },
      "execution_count": null,
      "outputs": []
    },
    {
      "cell_type": "code",
      "source": [
        "#@title **Instalando/Importando libs importantes**\n",
        "# install the 3rd party chemistry packages\n",
        "!pip install -q rdkit\n",
        "!pip install -q py3Dmol # --> https://pypi.org/project/py3Dmol/\n",
        "!pip install -q pythreejs\n",
        "##!pip install -q git+https://github.com/funkymunkycool/Cube-Toolz.git\n",
        "\n",
        "# Instalando o NGL Viwer\n",
        "!pip install ipywidgets==7.7.2 ## nglview\n",
        "\n",
        "# import everything\n",
        "import warnings\n",
        "warnings.filterwarnings(\"ignore\")\n",
        "import pathlib\n",
        "import sys, os\n",
        "import numpy as np\n",
        "import pandas as pd\n",
        "import seaborn as sns\n",
        "from termcolor import cprint\n",
        "import py3Dmol as p3d\n",
        "#import cube_tools\n",
        "from google.colab import output\n",
        "output.enable_custom_widget_manager()\n",
        "# This import is required to handle files\n",
        "from google.colab import files\n",
        "# This imports are required to use NGL viewer as well as the capabilities of pyCapsid to generate structures.\n",
        "#import nglview as ngl\n",
        "#from nglview.adaptor import FileStructure\n",
        "import matplotlib\n",
        "from matplotlib import pyplot as plt\n",
        "from matplotlib.offsetbox import OffsetImage, AnnotationBbox\n",
        "import ipywidgets as widgets\n",
        "%matplotlib inline\n",
        "import copy\n",
        "from IPython.display import Markdown, display, clear_output"
      ],
      "metadata": {
        "id": "CMaXcLsyhp7r"
      },
      "execution_count": null,
      "outputs": []
    },
    {
      "cell_type": "code",
      "source": [
        "# import py3Dmol as p3d\n",
        "print('Versão do py3DMol --> ', p3d.__version__)"
      ],
      "metadata": {
        "id": "TySN5AQgmxRf"
      },
      "execution_count": null,
      "outputs": []
    },
    {
      "cell_type": "code",
      "source": [
        "# import nglview as ngl\n",
        "#print('Versão do nglview --> ', ngl.__version__)"
      ],
      "metadata": {
        "id": "cKjNbcp-kCXu"
      },
      "execution_count": null,
      "outputs": []
    },
    {
      "cell_type": "markdown",
      "source": [
        "-----------"
      ],
      "metadata": {
        "id": "3uS8vVG6w9ZV"
      }
    },
    {
      "cell_type": "code",
      "source": [
        "# Instalando RDKit\n",
        "!pip install --upgrade rdkit"
      ],
      "metadata": {
        "id": "WrJpL1HoE5R3"
      },
      "execution_count": null,
      "outputs": []
    },
    {
      "cell_type": "code",
      "source": [
        "# Importando os módulos do RDKit\n",
        "from rdkit import Chem\n",
        "from rdkit.Chem.Draw import IPythonConsole\n",
        "from rdkit.Chem import Draw, AllChem\n",
        "from rdkit.Chem import rdDistGeom, rdCoordGen\n",
        "from rdkit.Chem import rdMolAlign\n",
        "IPythonConsole.ipython_useSVG=True  # <-- Colocar Falso se você quiser PNGs ao invés de SVGs\n",
        "%config InlineBackend.figure_format = 'svg'\n",
        "from rdkit import rdBase\n",
        "print(\"Versão da RDKit:\", rdBase.rdkitVersion)\n",
        "print(\"Versão da RDKit base:\", rdBase.boostVersion)"
      ],
      "metadata": {
        "id": "hFETv0RXg-Mg"
      },
      "execution_count": null,
      "outputs": []
    },
    {
      "cell_type": "code",
      "source": [
        "# Gerar estrutura de linhas a partir do código SMILES\n",
        "mol = Chem.MolFromSmiles('c1ccccc1')\n",
        "mol"
      ],
      "metadata": {
        "id": "oQQGao1Pg-QJ"
      },
      "execution_count": null,
      "outputs": []
    },
    {
      "cell_type": "markdown",
      "source": [
        "#### **3.2.1 - O Código SMILES para Modelagem Molecular**\n",
        "\n",
        "O **Simplified Molecular Input Line Entry System (SMILES)** é uma notação que permite representar estruturas químicas de forma textual, facilitando o armazenamento e a manipulação de informações moleculares em programas de computador. Desenvolvido por Arthur Weininger e David Weininger nos anos 1980, o SMILES usa caracteres simples para descrever átomos, ligações, e a estrutura geral de uma molécula.\n",
        "\n",
        "##### Características Principais:\n",
        "\n",
        "- **Átomos**: Representados por seus símbolos químicos (ex: C, N, O).\n",
        "- **Ligações**: Ligações simples são implícitas, enquanto duplas (=), triplas (#), e aromáticas (:) são explicitamente indicadas.\n",
        "- **Ramificações**: Indicadas por parênteses.\n",
        "- **Ciclos**: Numerados após o átomo onde o ciclo começa e fecha.\n",
        "\n",
        "##### Exemplo:\n",
        "\n",
        "- **Etileno**: `C=C`\n",
        "- **Benzeno**: `c1ccccc1`\n",
        "\n",
        "O SMILES é amplamente utilizado em software de modelagem molecular e quimioinformática para tarefas como a busca de moléculas, a predição de propriedades químicas, e a visualização de estruturas. A notação SMILES pode ser convertida de volta para estruturas químicas completas por diversos programas de química computacional, tornando-se uma ferramenta versátil e poderosa na pesquisa química.\n",
        "\n",
        "##### **Aplicações:**\n",
        "\n",
        "- **Armazenamento de dados químicos**\n",
        "- **Busca e recuperação de informações moleculares**\n",
        "- **Modelagem e simulação de propriedades moleculares**\n",
        "\n",
        "A simplicidade e eficiência do SMILES continuam a fazer dele um padrão amplamente adotado na química computacional, quimioinformática e na bioinformática.\n",
        "\n",
        "##### **Materiais interessantes**\n",
        "\n",
        "- <https://en.wikipedia.org/wiki/Simplified_molecular-input_line-entry_system>\n",
        "- <https://www.cheminfo.org/Chemistry/Cheminformatics/FormatConverter/index.html>\n",
        "- <https://pubchem.ncbi.nlm.nih.gov/>"
      ],
      "metadata": {
        "id": "5PnPYoTdbej1"
      }
    },
    {
      "cell_type": "code",
      "source": [
        "# Adiconando hidrogênios a molécula mol\n",
        "mol_H = Chem.AddHs(mol)\n",
        "# Contando o número de átomos do objeto \"mol_H\"\n",
        "print(f'O número de átomos da molécula de benzeno com os hidrogênios é {mol_H.GetNumAtoms()}')"
      ],
      "metadata": {
        "id": "x7q_R_adu0in"
      },
      "execution_count": null,
      "outputs": []
    },
    {
      "cell_type": "code",
      "source": [],
      "metadata": {
        "id": "ejWJoiCDu09L"
      },
      "execution_count": null,
      "outputs": []
    },
    {
      "cell_type": "markdown",
      "source": [
        "#### **3.2.2 - Busca conformacional com a RDKit**\n",
        "\n",
        "- <https://greglandrum.github.io/rdkit-blog/posts/2023-03-02-clustering-conformers.html>\n",
        "- <https://github.com/RochaGerd/Chemistry_with_Python>"
      ],
      "metadata": {
        "id": "HGiyqxmXu1z5"
      }
    },
    {
      "cell_type": "code",
      "source": [
        "# Exemplo de uma molécula flexível: a molécula de omeprazole\n",
        "# Sugestão: Ir no site do pubchem (https://pubchem.ncbi.nlm.nih.gov/)\n",
        "#           e consultar o código smiles da molécula da sua preferência\n",
        "smiles = 'CC1=CN=C(C(=C1OC)C)CS(=O)C2=NC3=C(N2)C=C(C=C3)OC'\n",
        "mol = Chem.MolFromSmiles(smiles)\n",
        "mol_copy = mol\n",
        "mol_copy"
      ],
      "metadata": {
        "id": "txrwg0cVV0YT"
      },
      "execution_count": null,
      "outputs": []
    },
    {
      "cell_type": "code",
      "source": [
        "# Adicionar hidrogênios explícitos à molécula\n",
        "mol = Chem.AddHs(mol)\n",
        "\n",
        "# Gerar conformações\n",
        "num_confs = 10  # Número de conformações a serem geradas\n",
        "confs = AllChem.EmbedMultipleConfs(mol, numConfs=num_confs)\n",
        "\n",
        "# Otimizar conformações usando UFF (Universal Force Field)\n",
        "for conf in confs:\n",
        "    AllChem.UFFOptimizeMolecule(mol, confId=conf)\n",
        "\n",
        "# Imprimir e salvar em arquivos as conformações geradas\n",
        "for i, conf in enumerate(confs):\n",
        "    filename = f\"conformation_{i+1}.mol\"  # Create unique filename for each .mol file\n",
        "    Chem.MolToMolFile(mol, filename)  # Save molecule as .mol file\n",
        "    print(f'Conformação {i+1}:')\n",
        "    print(Chem.MolToMolBlock(mol, confId=conf))\n",
        "    print('----------------------------')"
      ],
      "metadata": {
        "id": "jBzpzzmTgk7-"
      },
      "execution_count": null,
      "outputs": []
    },
    {
      "cell_type": "code",
      "source": [
        "confs"
      ],
      "metadata": {
        "id": "lnXjUPnPDuUZ"
      },
      "execution_count": null,
      "outputs": []
    },
    {
      "cell_type": "code",
      "source": [
        "def generate_and_visualize_conformations(smiles, num_confs):\n",
        "    # Gerar a molécula a partir do SMILES\n",
        "    mol = Chem.MolFromSmiles(smiles)\n",
        "\n",
        "    # Adicionar hidrogênios explícitos à molécula\n",
        "    mol = Chem.AddHs(mol)\n",
        "\n",
        "    # Gerar conformações\n",
        "    confs = AllChem.EmbedMultipleConfs(mol, numConfs=num_confs)\n",
        "\n",
        "    # Otimizar conformações usando UFF (Universal Force Field)\n",
        "    for conf in confs:\n",
        "        AllChem.UFFOptimizeMolecule(mol, confId=conf)\n",
        "        #mol_without_H = Chem.RemoveHs(mol)\n",
        "\n",
        "    # Alinhar todas as conformações ao primeiro conformero\n",
        "    ref_conf = mol.GetConformer(confs[0])\n",
        "    for conf in confs:\n",
        "        if conf != confs[0]:\n",
        "            rdMolAlign.AlignMol(mol, mol, prbCid=conf, refCid=confs[0])\n",
        "            mol_without_H = Chem.RemoveHs(mol)\n",
        "\n",
        "    # Gerar a visualização 3D\n",
        "    # Visualizar as conformações usando py3Dmol\n",
        "    viewer = p3d.view(width=800, height=600)\n",
        "    for conf in confs:\n",
        "        mol_block = Chem.MolToMolBlock(mol_without_H, confId=conf)\n",
        "        viewer.addModel(mol_block, 'mol')  # Adicionar modelo ao visualizador\n",
        "        viewer.setStyle({'stick': {}})  # Estilo de visualização\n",
        "\n",
        "    viewer.zoomTo()  # Ajustar o zoom para visualizar todas as conformações\n",
        "    return viewer\n",
        "\n",
        "# Exemplo de uso\n",
        "smiles = 'CC1=CN=C(C(=C1OC)C)CS(=O)C2=NC3=C(N2)C=C(C=C3)OC'  # Omeprazole\n",
        "num = 25\n",
        "viewer = generate_and_visualize_conformations(smiles,num)\n",
        "viewer.show()"
      ],
      "metadata": {
        "id": "_lZ1J5Z-Ec9-"
      },
      "execution_count": null,
      "outputs": []
    },
    {
      "cell_type": "code",
      "source": [
        "mol_copy"
      ],
      "metadata": {
        "id": "Sob4mcOqYaHQ"
      },
      "execution_count": null,
      "outputs": []
    },
    {
      "cell_type": "code",
      "source": [
        "core = Chem.MolFromSmiles('C2=NC3=C(N2)C=C(C=C3)OC')\n",
        "core"
      ],
      "metadata": {
        "id": "M4BKbxAqYYBX"
      },
      "execution_count": null,
      "outputs": []
    },
    {
      "cell_type": "code",
      "source": [
        "def generate_and_visualize_conformations_core(smiles, core_smiles, num_confs):\n",
        "    # Gerar a molécula a partir do SMILES\n",
        "    mol = Chem.MolFromSmiles(smiles)\n",
        "\n",
        "    # Adicionar hidrogênios explícitos à molécula\n",
        "    mol = Chem.AddHs(mol)\n",
        "\n",
        "    # Gerar conformações\n",
        "    confs = AllChem.EmbedMultipleConfs(mol, numConfs=num_confs)\n",
        "\n",
        "    # Otimizar conformações usando UFF (Universal Force Field)\n",
        "    for conf in confs:\n",
        "        AllChem.UFFOptimizeMolecule(mol, confId=conf)\n",
        "\n",
        "    # Gerar o \"core\" (subestrutura comum) a partir do SMILES\n",
        "    core_mol = Chem.MolFromSmiles(core_smiles)\n",
        "\n",
        "    # Alinhar todas as conformações ao \"core\"\n",
        "    # Encontre o mapeamento de átomos entre o core e a molécula\n",
        "    match = mol.GetSubstructMatch(core_mol)\n",
        "    if not match:\n",
        "        raise ValueError(\"O core não é uma subestrutura da molécula.\")\n",
        "\n",
        "    atom_map = [(i, i) for i in match]\n",
        "\n",
        "    for conf in confs:\n",
        "        if conf != confs[0]:\n",
        "            rdMolAlign.AlignMol(mol, mol, prbCid=conf, refCid=confs[0], atomMap=atom_map)\n",
        "\n",
        "    # Visualizar as conformações usando py3Dmol\n",
        "    viewer = p3d.view(width=800, height=600)\n",
        "    for conf in confs:\n",
        "        mol_block = Chem.MolToMolBlock(mol, confId=conf)\n",
        "        viewer.addModel(mol_block, 'mol')  # Adicionar modelo ao visualizador\n",
        "        viewer.setStyle({'stick': {}})  # Estilo de visualização\n",
        "\n",
        "    viewer.zoomTo()  # Ajustar o zoom para visualizar todas as conformações\n",
        "    return viewer\n",
        "\n",
        "# Exemplo de uso\n",
        "smiles = 'CC1=CN=C(C(=C1OC)C)CS(=O)C2=NC3=C(N2)C=C(C=C3)OC'  # Omeprazole\n",
        "core_smiles = 'C2=NC3=C(N2)C=C(C=C3)OC'  # Core da molécula\n",
        "num = 25\n",
        "viewer = generate_and_visualize_conformations_core(smiles, core_smiles, num)\n",
        "viewer.show()"
      ],
      "metadata": {
        "id": "Fn4s0IB4Yz6p"
      },
      "execution_count": null,
      "outputs": []
    },
    {
      "cell_type": "markdown",
      "source": [
        "#### **3.2.3 - Cálculo de descritores moleculares usando a RDkit e a Mordred**\n",
        "\n",
        "- Aprendendo Química com Python, Rodrigo Queiroz e Gerd Rocha, 2021, Amazon Book. <https://github.com/pythonchembook>\n",
        "\n",
        "  - Link para compra: <https://www.amazon.com/Aprendendo-Qu%C3%ADmica-com-python-Portuguese/dp/B09LGSG6TY>"
      ],
      "metadata": {
        "id": "cjufGR04vEMf"
      }
    },
    {
      "cell_type": "code",
      "source": [
        "# Códigos SMILES de 30 solventes orgânicos\n",
        "solventes = ['c1ccccc1', 'CO', 'CCO', 'Cc1ccccc1', 'Cc1ccc(C)cc1', 'Cc1cccc(C)c1', 'Cc1ccccc1C',\n",
        "             'C1CCCCC1', 'CCCCCCCCO', 'CCCCC', 'CCCCCC', 'CCCCCCC', 'CC=O', 'CCOC(C)=O', 'CC(=O)C',\n",
        "             'CC#N', 'O=C(O)C', 'O=CO', 'CC(C)O', 'CCCCO', 'C(Cl)(Cl)Cl', 'O=CN(C)C', 'CS(C)=O',\n",
        "             'CCOCC', 'CCC(=O)C', 'C1=NC=CC=C1', 'C(Cl)(Cl)(Cl)Cl', 'C1CCCO1', 'CCN(CC)CC', 'CCOCCO']"
      ],
      "metadata": {
        "id": "lS3EwMJsvMSb"
      },
      "execution_count": null,
      "outputs": []
    },
    {
      "cell_type": "code",
      "source": [
        "# Converta de SMILES para objeto da RDKit\n",
        "size_solv = len(solventes) # Tamanho da lista\n",
        "solv_smi = size_solv*['']  # Gera uma lista vazia\n",
        "for ms in range(size_solv):\n",
        "    solv_smi[ms] = Chem.MolFromSmiles(solventes[ms])"
      ],
      "metadata": {
        "id": "YbaBD-iPvXXu"
      },
      "execution_count": null,
      "outputs": []
    },
    {
      "cell_type": "code",
      "source": [
        "!pip install mordred\n",
        "!pip install pubchempy"
      ],
      "metadata": {
        "id": "t7UH3v2NrSNg"
      },
      "execution_count": null,
      "outputs": []
    },
    {
      "cell_type": "code",
      "source": [
        "import pubchempy\n",
        "names_smi = size_solv*['']\n",
        "for i in range(size_solv):\n",
        "    smi = solventes[i]\n",
        "    c = pubchempy.get_compounds(smi, namespace='smiles')\n",
        "    match = c[0]\n",
        "    names_smi[i] = match.iupac_name"
      ],
      "metadata": {
        "id": "0blOkx1wvXhc"
      },
      "execution_count": null,
      "outputs": []
    },
    {
      "cell_type": "code",
      "source": [
        "print(names_smi)"
      ],
      "metadata": {
        "id": "RwsOOr8Nq9RD"
      },
      "execution_count": null,
      "outputs": []
    },
    {
      "cell_type": "code",
      "source": [
        "# Visualize as estruturas e seus nomes IUPAC em uma grade\n",
        "img = Draw.MolsToGridImage(solv_smi[:size_solv], molsPerRow=4, subImgSize=(200,200),legends=names_smi)\n",
        "img"
      ],
      "metadata": {
        "id": "-c7bccVzq9ao"
      },
      "execution_count": null,
      "outputs": []
    },
    {
      "cell_type": "code",
      "source": [
        "# Comandos para gerar arquivo SDF com moléculas em formato .mol\n",
        "sdf_solv = Chem.SDWriter('sdf_solv.sdf')\n",
        "for imol in range(size_solv):\n",
        "    m = solv_smi[imol]\n",
        "    m.SetProp(\"_Name\",names_smi[imol])\n",
        "    sdf_solv.write(m)\n",
        "sdf_solv.close() # comando para fechar o arquivo."
      ],
      "metadata": {
        "id": "HCwynduSq9eQ"
      },
      "execution_count": null,
      "outputs": []
    },
    {
      "cell_type": "code",
      "source": [
        "# Crie um objeto para o cálculo de todos os descritores\n",
        "from mordred import Calculator, descriptors\n",
        "calc = Calculator(descriptors, ignore_3D=True)\n",
        "len(calc.descriptors)"
      ],
      "metadata": {
        "id": "VKXXvxqjq9h4"
      },
      "execution_count": null,
      "outputs": []
    },
    {
      "cell_type": "code",
      "source": [
        "# Importar os módulos de cálculo de alguns descritores\n",
        "from mordred import WienerIndex, ZagrebIndex, AcidBase, TopoPSA\n",
        "from mordred import GravitationalIndex, HydrogenBond, McGowanVolume\n",
        "from mordred import Polarizability, VdwVolumeABC, TopologicalIndex\n",
        "\n",
        "# Criar os objetos para o cálculo dos descritores\n",
        "descr_obj = [WienerIndex.WienerIndex(), ZagrebIndex.ZagrebIndex(version = 1),\n",
        "             ZagrebIndex.ZagrebIndex(version = 2), AcidBase.AcidicGroupCount(),\n",
        "             AcidBase.BasicGroupCount(), HydrogenBond.HBondAcceptor(), HydrogenBond.HBondDonor(),\n",
        "             McGowanVolume.McGowanVolume(), Polarizability.APol(False),\n",
        "             Polarizability.BPol(False), TopoPSA.TopoPSA(False), TopologicalIndex.Diameter(),\n",
        "             TopologicalIndex.Radius(), TopologicalIndex.TopologicalShapeIndex(),\n",
        "             TopologicalIndex.PetitjeanIndex(), VdwVolumeABC.VdwVolumeABC()]\n",
        "\n",
        "descr_names = ['Wiener', 'Z1', 'Z2', 'AcidicGroupCount', 'BasicGroupCount','HBondAcceptor',\n",
        "               'HBondDonor', 'McGowanVolume', 'Apol', 'Bpol', 'TopoPSA', 'Diameter', 'Radius',\n",
        "               'TopologicalShapeIndex',  'PetitjeanIndex', 'VdwVolumeABC']\n",
        "\n",
        "# Cálculo dos descritores e armazenar em um array da Numpy\n",
        "desc = np.zeros((len(solventes), 16))\n",
        "for i in range(len(solventes)):\n",
        "    mol = Chem.MolFromSmiles(solventes[i])\n",
        "    for j in range(16):\n",
        "        descriptor = descr_obj[j]\n",
        "        desc[i][j] = descriptor(mol)\n",
        "\n",
        "# Criar um dataframe do Pandas contendo todos esses dados\n",
        "import pandas as pd\n",
        "df_data = pd.DataFrame(index=names_smi)\n",
        "\n",
        "for i in range(16):\n",
        "   df_data[descr_names[i]] = [x[i] for x in desc]"
      ],
      "metadata": {
        "id": "xNXVSKvSvXmq"
      },
      "execution_count": null,
      "outputs": []
    },
    {
      "cell_type": "code",
      "source": [
        "df_data"
      ],
      "metadata": {
        "id": "9DECYSHosbfk"
      },
      "execution_count": null,
      "outputs": []
    },
    {
      "cell_type": "code",
      "source": [
        "import matplotlib.pyplot as plt\n",
        "import seaborn as sns\n",
        "\n",
        "# Cálculo da matriz de correlação\n",
        "corrMat = df_data.corr()\n",
        "\n",
        "# Gráfico da matriz de correlação como heatmap\n",
        "plt.figure(figsize=(20,15))\n",
        "plt.xticks(rotation=90, fontsize=16)\n",
        "plt.yticks(fontsize=16)\n",
        "sns.heatmap(corrMat, annot=True, annot_kws={\"size\": 12}, cmap=\"RdBu_r\", linecolor='gray',\n",
        "            linewidths=0.35, vmin=-1, vmax=1, center=0)\n",
        "\n",
        "# Salvar a figura como um arquivo PNG\n",
        "plt.savefig('correlation_matrix_heatmap.png', dpi=300, bbox_inches='tight')\n",
        "\n",
        "# Exibir a figura\n",
        "plt.show()\n"
      ],
      "metadata": {
        "id": "mtETfIsLsh4d"
      },
      "execution_count": null,
      "outputs": []
    },
    {
      "cell_type": "code",
      "source": [
        "del df_data['Z2']  # Apaga coluna do dataframe\n",
        "del df_data['McGowanVolume']\n",
        "del df_data['Apol']"
      ],
      "metadata": {
        "id": "b3HhzXWosig8"
      },
      "execution_count": null,
      "outputs": []
    },
    {
      "cell_type": "code",
      "source": [
        "# Análise de agrupamento nos dados do dataframe\n",
        "import scipy.cluster.hierarchy as shc\n",
        "\n",
        "plt.figure(figsize=(12, 12))\n",
        "plt.title('Dendrograma para Descritores dos solventes orgânicos \\n', fontsize = 22)\n",
        "dend_solv = shc.dendrogram(shc.linkage(df_data, method='ward'),\n",
        "                           labels=names_smi, orientation='right')\n",
        "plt.xticks(rotation=90, fontsize = 14)\n",
        "plt.yticks(fontsize = 14)\n",
        "plt.tight_layout()"
      ],
      "metadata": {
        "id": "_I2Wk40ksirx"
      },
      "execution_count": null,
      "outputs": []
    },
    {
      "cell_type": "markdown",
      "source": [
        "----------------------\n",
        "\n",
        "#### **Montando drive permanente**\n",
        "\n",
        "O ambiente criado pelo *Google Colab* só mantem os arquivos produzidos das simulações ou os que foram feitos *upload* enquanto você permanece logado (conectado) ou por pouquissimo tempo após você fechar a ferramenta. Ou seja, esse ambiente é temporário.\n",
        "\n",
        "Mas, você pode montar um espaço de armazenamento externo ao *Colab* por meio do *Google Drive*.\n",
        "\n",
        "No instante que você tentar montar seu drive externo ao *Colab*, o sistema de proteção da Google vai pedir autorização para acessar seus arquivos do *Google Drive*. Aí é só clicar na sua conta Google, pôr sua senha e permitir o acesso. A partir desse momento o seu *Google Drive* estará montado como um drive externo ao *Colab*.\n",
        "\n",
        "Os próximos passos vão mostrar como fazer isso."
      ],
      "metadata": {
        "id": "4N0UcqbNhdLn"
      }
    },
    {
      "cell_type": "code",
      "execution_count": null,
      "metadata": {
        "id": "TzHhax6ptrpm"
      },
      "outputs": [],
      "source": [
        "'''\n",
        "from google.colab import drive\n",
        "drive.mount('/mntDrive')\n",
        "'''"
      ]
    },
    {
      "cell_type": "code",
      "source": [
        "# Uma dica é criar uma pasta no seu Google Drive, onde você possa direcionar seus arquivos.\n",
        "# Use nomes sugestivos para isso. Por exemplo: Work_Colab."
      ],
      "metadata": {
        "id": "A_VxoCKvk7A-"
      },
      "execution_count": null,
      "outputs": []
    },
    {
      "cell_type": "code",
      "source": [
        "# !ls /mntDrive/MyDrive/Work_Colab/"
      ],
      "metadata": {
        "id": "0mh2cAty2KaS"
      },
      "execution_count": null,
      "outputs": []
    },
    {
      "cell_type": "markdown",
      "source": [
        "Você tamabém pode montar o drive clicando no quarto ícone de cima para baixo no menu lateral e depois clicando no terceiro ícone da esquerda pra direita. Mais uma vez o Google vai perguntar por uma autorização para acessar seus arquivos do *Google Drive*. Em geral o *Colab* monta seu drive em \"/content\" quando é feito dessa forma."
      ],
      "metadata": {
        "id": "qtXve5KMjO0W"
      }
    },
    {
      "cell_type": "code",
      "source": [
        "'''\n",
        "from google.colab import drive\n",
        "drive.mount('/content/gdrive')\n",
        "'''"
      ],
      "metadata": {
        "id": "rxAQ4Xhy17cj"
      },
      "execution_count": null,
      "outputs": []
    },
    {
      "cell_type": "markdown",
      "source": [
        "---------------------\n",
        "\n",
        "#### **Instalando e usando pacotes de modelagem molecular**\n",
        "\n",
        "A partir desse ponto vamos instalar e usar vários pacotes de modelagem e simulação molecular como uma espécie de preparativo para pesquisadores da área.\n",
        "\n",
        "As instalações serão feitas tanto a partir das distribuições como bibliotecas quanto através do *download* do código e sua compilação.\n",
        "\n",
        "Não vamos explorar muito os recursos de cada programa. A sugestão é gerar um novo *notebook* para cada ferramenta.\n",
        "\n",
        "A lista dos softwares que vamos cobrir é:\n",
        "\n",
        "* AMBERTools\n",
        "* PySCF\n",
        "* Psi4\n",
        "* MOPAC 2016 e ASE\n",
        "* xTB"
      ],
      "metadata": {
        "id": "8870Uhd6uyaW"
      }
    },
    {
      "cell_type": "markdown",
      "source": [
        "--------------------\n",
        "### **3.3 - Dinâmica molecular**\n",
        "\n",
        "A Dinâmica Molecular (MD) é uma técnica computacional de amostragem do espaço de fases utilizada para estudar o comportamento de sistemas moleculares ao longo do tempo. Por meio da resolução das equações de movimento de Newton, a MD permite simular a evolução temporal de um conjunto de átomos ou moléculas, fornecendo informações detalhadas sobre a estrutura, dinâmica e propriedades termodinâmicas do sistema.\n",
        "\n",
        "#### **Fundamentos Teóricos**\n",
        "\n",
        "#### **Equações de Movimento de Newton**\n",
        "\n",
        "A base da dinâmica molecular é a resolução das equações de movimento de Newton para um conjunto de partículas. Para um sistema de $N$ átomos, as equações são:\n",
        "\n",
        "$$\n",
        "m_i \\frac{d^2 \\mathbf{r}_i}{dt^2} = \\mathbf{F}_i\n",
        "$$\n",
        "\n",
        "onde $m_i$ é a massa do átomo $i$, $\\mathbf{r}_i$ é a posição do átomo $i$ e $\\mathbf{F}_i$ é a força atuando sobre o átomo $i$, que pode ser obtida a partir do gradiente da energia potencial $U(\\mathbf{r}_1, \\mathbf{r}_2, \\ldots, \\mathbf{r}_N)$:\n",
        "\n",
        "$$\n",
        "\\mathbf{F}_i = - \\nabla_i U\n",
        "$$\n",
        "\n",
        "\n",
        "Percebam que a energia potencial ($U$) usada para calcular a força pode ser calculada a partir de métodos clássicos (campo de força), a partir de métodos quânticos ou ainda a partir de métodos híbridos (QM/MM).\n",
        "\n",
        "#### **Integração Numérica**\n",
        "\n",
        "As equações de movimento são resolvidas numericamente utilizando métodos de integração, como o algoritmo de Verlet ou o algoritmo de Velocity Verlet. O algoritmo de Verlet, por exemplo, atualiza as posições e velocidades dos átomos a cada passo de tempo $\\Delta t$:\n",
        "\n",
        "$$\n",
        "\\mathbf{r}(t + \\Delta t) = 2\\mathbf{r}(t) - \\mathbf{r}(t - \\Delta t) + \\frac{\\mathbf{F}(t)}{m} \\Delta t^2\n",
        "$$\n",
        "\n",
        "O algoritmo de Velocity Verlet também considera as velocidades:\n",
        "\n",
        "$$\n",
        "\\mathbf{r}(t + \\Delta t) = \\mathbf{r}(t) + \\mathbf{v}(t) \\Delta t + \\frac{\\mathbf{F}(t)}{2m} \\Delta t^2\n",
        "$$\n",
        "\n",
        "$$\n",
        "\\mathbf{v}(t + \\Delta t) = \\mathbf{v}(t) + \\frac{\\mathbf{F}(t) + \\mathbf{F}(t + \\Delta t)}{2m} \\Delta t\n",
        "$$\n",
        "\n",
        "#### **Energia e Conservação**\n",
        "\n",
        "Durante uma simulação de dinâmica molecular, a energia total do sistema deve ser conservada. A energia total é a soma da energia cinética ($E_k$) e da energia potencial ($U$):\n",
        "\n",
        "$$\n",
        "E_{total} = E_k + U\n",
        "$$\n",
        "\n",
        "onde a energia cinética é dada por:\n",
        "\n",
        "$$\n",
        "E_k = \\sum_{i=1}^N \\frac{1}{2} m_i \\mathbf{v}_i^2\n",
        "$$\n",
        "\n",
        "#### **Softwares de dinâmica molecular em Python**\n",
        "\n",
        "Para realizar simulações de dinâmica molecular em Python, podemos utilizar bibliotecas como ASE (Atomic Simulation Environment), AMBER, Gromacs, OpenMM ou LAMMPS (Large-scale Atomic/Molecular Massively Parallel Simulator).\n",
        "\n",
        "---------------\n"
      ],
      "metadata": {
        "id": "tjG5ZIpivX9x"
      }
    },
    {
      "cell_type": "markdown",
      "source": [
        "#### **3.3.1 - AMBERTools**\n",
        "\n",
        "AmberTools é uma coleção de programas que acompanham a suite de programas Amber, amplamente utilizada na simulação de sistemas biológicos. Desenvolvida inicialmente nos anos 70, Amber (*Assisted Model Building with Energy Refinement*) evoluiu significativamente, tornando-se uma ferramenta essencial na modelagem molecular e na química computacional. AmberTools oferece uma série de utilitários para preparar, simular e analisar sistemas moleculares, sendo especialmente útil no estudo de proteínas, ácidos nucleicos, e outras biomoléculas.\n",
        "\n",
        "O AmberTools é gratuito e *open-source*, enquanto Amber, que contém a maior parte dos códigos de dinâmica molecular (MD), é um software comercial. As ferramentas do AmberTools permitem a criação de arquivos de entrada para a dinâmica molecular, análise de trajetórias e cálculos de mecânica quântica, entre outros.\n",
        "\n",
        "Link:\n",
        "\n",
        "* <https://ambermd.org/>\n",
        "* <https://github.com/Amber-MD>\n",
        "*<https://ambermd.org/tutorials/>"
      ],
      "metadata": {
        "id": "_0LQQh-QyZPA"
      }
    },
    {
      "cell_type": "code",
      "source": [],
      "metadata": {
        "id": "3b14Btbhf24O"
      },
      "execution_count": null,
      "outputs": []
    },
    {
      "cell_type": "code",
      "source": [
        "#@title **Instalando dependências para softwares de dinâmica molecular**\n",
        "#@markdown It will take a few minutes, please, drink a coffee and wait. ;-)\n",
        "# install dependencies\n",
        "import subprocess\n",
        "import sys\n",
        "subprocess.run(\"rm -rf /usr/local/conda-meta/pinned\", shell=True)\n",
        "subprocess.run(\"mamba install -c conda-forge ambertools -y\", shell=True)\n",
        "import pytraj as pt\n",
        "subprocess.run(\"pip install git+https://github.com/pablo-arantes/biopandas\", shell=True)\n",
        "subprocess.run(\"mamba install openmm=7.7.0\", shell=True)\n",
        "subprocess.run(\"pip install --upgrade MDAnalysis==2.4.2\", shell=True)\n",
        "!conda install openbabel -c conda-forge\n",
        "\n",
        "#load dependencies\n",
        "import sys\n",
        "from biopandas.pdb import PandasPdb\n",
        "import openmm as mm\n",
        "from openmm import *\n",
        "from openmm.app import *\n",
        "from openmm.unit import *\n",
        "import os\n",
        "import urllib.request\n",
        "import numpy as np\n",
        "import MDAnalysis as mda\n",
        "import pytraj as pt\n",
        "import platform\n",
        "import scipy.cluster.hierarchy\n",
        "from scipy.spatial.distance import squareform\n",
        "import scipy.stats as stats\n",
        "from statistics import mean, stdev\n",
        "from pytraj import matrix\n",
        "from IPython.display import set_matplotlib_formats"
      ],
      "metadata": {
        "id": "zxQmYpzRGYZV",
        "cellView": "form"
      },
      "execution_count": null,
      "outputs": []
    },
    {
      "cell_type": "code",
      "source": [
        "# import pytraj as pt\n",
        "print('Versão da PyTraj --> ', pt.__version__)"
      ],
      "metadata": {
        "id": "hEyCVXadkCTl"
      },
      "execution_count": null,
      "outputs": []
    },
    {
      "cell_type": "code",
      "source": [
        "# Instalando o AMBERTools\n",
        "\n",
        "#!conda install -c conda-forge ambertools"
      ],
      "metadata": {
        "id": "1oS4aCD-yZPA"
      },
      "execution_count": null,
      "outputs": []
    },
    {
      "cell_type": "code",
      "source": [
        "# Verificando se foi instalado corretamente\n",
        "!which tleap"
      ],
      "metadata": {
        "id": "6dgffIdEyZPA"
      },
      "execution_count": null,
      "outputs": []
    },
    {
      "cell_type": "markdown",
      "source": [
        "--------\n",
        "##### **Montando o sistema inicial**"
      ],
      "metadata": {
        "id": "lXz-rAFX2Nnx"
      }
    },
    {
      "cell_type": "code",
      "source": [
        "%%file leap.inp\n",
        "source leaprc.protein.ff14SB\n",
        "seq = sequence {NALA ALA ALA ALA ALA CALA}\n",
        "set default PBradii mbondi3\n",
        "saveamberparm seq peptide.top peptide_ini.crd\n",
        "savepdb seq peptide_ini.pdb\n",
        "quit"
      ],
      "metadata": {
        "id": "-YyjCB3NyZPA"
      },
      "execution_count": null,
      "outputs": []
    },
    {
      "cell_type": "code",
      "source": [
        "# Para executar um comando no Linux\n",
        "!tleap -f leap.inp > leap.log"
      ],
      "metadata": {
        "id": "9cfyLs_7yZPA"
      },
      "execution_count": null,
      "outputs": []
    },
    {
      "cell_type": "code",
      "source": [
        "%%file min_implicit.inp\n",
        "Minimizacao da energia\n",
        "&cntrl\n",
        "imin=1, maxcyc=5000, ncyc=1000,\n",
        "cut=999., igb=8, ntb=0, ntpr=100\n",
        "&end"
      ],
      "metadata": {
        "id": "GBW1_z6eyZPA"
      },
      "execution_count": null,
      "outputs": []
    },
    {
      "cell_type": "code",
      "source": [
        "def show_prot(filename):\n",
        "  p = p3d.view(width=400, height=300)\n",
        "  p.addModel(open(filename, 'r').read(),'pdb')\n",
        "  p.setStyle({'cartoon':{'color':'spectrum'},'stick':{'radius':0.15}})\n",
        "  #p.setStyle({'cartoon': {'color':'spectrum'}})\n",
        "  p.center()\n",
        "  p.zoomTo()\n",
        "  return p"
      ],
      "metadata": {
        "id": "5eMErYL-yqUj"
      },
      "execution_count": null,
      "outputs": []
    },
    {
      "cell_type": "code",
      "source": [
        "show_prot('peptide_ini.pdb')"
      ],
      "metadata": {
        "id": "wkCRY30YleiQ"
      },
      "execution_count": null,
      "outputs": []
    },
    {
      "cell_type": "code",
      "source": [
        "!sander -O -i min_implicit.inp -p peptide.top -c peptide_ini.crd -r min_implicit.rst7"
      ],
      "metadata": {
        "id": "1IWAbJElyZPB"
      },
      "execution_count": null,
      "outputs": []
    },
    {
      "cell_type": "code",
      "source": [
        "# Carrega a estrutura otimizada com a PyTraj\n",
        "ref_implicit_min = pt.load('min_implicit.rst7', top='peptide.top')\n",
        "ref_implicit_min.save('peptide_min.pdb')\n",
        "show_prot('peptide_min.pdb')"
      ],
      "metadata": {
        "id": "NjEiZuAlmobt"
      },
      "execution_count": null,
      "outputs": []
    },
    {
      "cell_type": "markdown",
      "source": [
        "##### **Rodando a simulação de dinâmica molecular**"
      ],
      "metadata": {
        "id": "wNcwC5sU2Zub"
      }
    },
    {
      "cell_type": "code",
      "source": [
        "# Monta input para dinâmica molecular NVT\n",
        "# OBS: Não usar comentários na caixa que escreve o arquivo \"md_implicit.in\""
      ],
      "metadata": {
        "id": "DpA-8SZPnRvj"
      },
      "execution_count": null,
      "outputs": []
    },
    {
      "cell_type": "code",
      "source": [
        "%%file md_implicit.inp\n",
        "MD NVT, 500 ps\n",
        "&cntrl\n",
        "    imin = 0, nstlim = 250000, dt = 0.002, ntf = 2, nscm = 1000,\n",
        "    ntx = 1, irest = 0, ig = -1, ntc = 2, temp0 = 300.0, gamma_ln = 1.0,\n",
        "    ntt=3, tempi = 300.0, ntwr = 500, ntpr = 500, ntb = 0, ntwx = 500,\n",
        "    ntwe = 0, cut = 999.0, igb = 8, ioutfm = 1,\n",
        "&end"
      ],
      "metadata": {
        "id": "TRBWXcuHnWeL"
      },
      "execution_count": null,
      "outputs": []
    },
    {
      "cell_type": "code",
      "source": [
        "# Para executar a dinâmica moleculare NVT para o peptídeo (ALA)6\n",
        "!nohup sander -O -i md_implicit.inp -o md_implicit.out -p peptide.top -c min_implicit.rst7 -r md_implicit.rst -x md_implicit.nc &"
      ],
      "metadata": {
        "id": "GaktBfQk5A8X"
      },
      "execution_count": null,
      "outputs": []
    },
    {
      "cell_type": "code",
      "source": [
        "# Observar a execução da dinâmica molecular\n",
        "!tail -n 20 md_implicit.out"
      ],
      "metadata": {
        "id": "IX9QmQF05A_q"
      },
      "execution_count": null,
      "outputs": []
    },
    {
      "cell_type": "code",
      "source": [
        "# Carregar a trajetória no objeto \"traj_implicit\"\n",
        "traj_implicit = pt.load('md_implicit.nc', top='peptide.top')\n",
        "traj_implicit"
      ],
      "metadata": {
        "id": "2664JLsgoIrh"
      },
      "execution_count": null,
      "outputs": []
    },
    {
      "cell_type": "code",
      "source": [
        "# Carrega a última estrutura depois da dinâmica com a PyTraj\n",
        "last_frame = pt.load('md_implicit.rst', top='peptide.top')\n",
        "last_frame.save('peptide_last_frame.pdb')\n",
        "\n",
        "show_prot('peptide_last_frame.pdb')"
      ],
      "metadata": {
        "id": "7whOtuejxdek"
      },
      "execution_count": null,
      "outputs": []
    },
    {
      "cell_type": "code",
      "source": [],
      "metadata": {
        "id": "LMwIcugl5twu"
      },
      "execution_count": null,
      "outputs": []
    },
    {
      "cell_type": "markdown",
      "source": [
        "---------------\n",
        "### **3.3 - Métodos *ab initio* e DFT**\n",
        "\n",
        "#### **Método Ab Initio de Química Quântica**\n",
        "\n",
        "Os métodos *ab initio* de química quântica são um conjunto de métodos que permite calcular as propriedades eletrônicas e estruturais de moléculas a partir dos primeiros princípios, ou seja, baseados diretamente nas leis fundamentais da mecânica quântica, sem o uso de parâmetros empíricos. Esses métodos fornecem uma descrição detalhada e exata dos sistemas moleculares, embora sejam computacionalmente intensivos.\n",
        "\n",
        "#### **Uso dos Métodos *ab Initio***\n",
        "\n",
        "Os métodos *ab initio* são amplamente aplicados em diversas áreas da química e da ciência dos materiais, incluindo:\n",
        "\n",
        "- **Predição de Estruturas Moleculares**: Determinam geometrias moleculares com alta exatidão.\n",
        "- **Cálculo de Energias de Reação**: Estimam barreiras de reação e energias de dissociação.\n",
        "- **Espectroscopia**: Simulam espectros IR, Raman, UV-Vis e NMR.\n",
        "- **Propriedades Moleculares**: Predizem momentos dipolares, polarizabilidades e outras propriedades físicas e químicas.\n",
        "\n",
        "#### **Fundamentos Teóricos**\n",
        "\n",
        "Os métodos *ab initio* tentam resolver o mais próximo a equação de Schrödinger para sistemas moleculares. A equação de Schrödinger não-relativística independente do tempo para um sistema de \\( N \\) elétrons e \\( M \\) núcleos é:\n",
        "\n",
        "$\\hat{H} \\Psi = E \\Psi$\n",
        "\n",
        "onde $( \\hat{H})$ é o Hamiltoniano do sistema, $( \\Psi )$ é a função de onda total e $( E )$ é a energia total do sistema.\n",
        "\n",
        "#### **Hamiltoniano Molecular**\n",
        "\n",
        "O Hamiltoniano molecular inclui termos de energia cinética e potencial para elétrons e núcleos:\n",
        "\n",
        "$\n",
        "\\hat{H} = -\\sum_{i=1}^{N} \\frac{\\hbar^2}{2m_e} \\nabla_i^2 - \\sum_{I=1}^{M} \\frac{\\hbar^2}{2M_I} \\nabla_I^2 - \\sum_{i=1}^{N} \\sum_{I=1}^{M} \\frac{Z_I e^2}{4 \\pi \\epsilon_0 r_{iI}} + \\sum_{i<j} \\frac{e^2}{4 \\pi \\epsilon_0 r_{ij}} + \\sum_{I<J} \\frac{Z_I Z_J e^2}{4 \\pi \\epsilon_0 R_{IJ}}\n",
        "$\n",
        "\n",
        "Aqui, $( \\nabla_i^2 $) e $( \\nabla_I^2 )$ são os operadores laplacianos para elétrons e núcleos, $( m_e )$ e $( M_I )$ são as massas de elétrons e núcleos, $( Z_I )$ são os números atômicos dos núcleos, e $( r_{ij} )$ e $( R_{IJ} )$ são as distâncias entre partículas.\n",
        "\n",
        "#### **Aproximação de Born-Oppenheimer**\n",
        "\n",
        "A grande parte dos cálculos de química computacional só é possível devido a a aproximação de Born-Oppenheimer. Nessa aproximação, a função de onda molecular é escrita como uma função de onda descorrelacionada elétron-núcleo. Possui dependência paramétrica da função de onda eletrônica com as coordenadas nucleares.\n",
        "\n",
        "$\n",
        "\\Psi(\\mathbf{r}, \\mathbf{R}) = \\psi(\\mathbf{r}; \\mathbf{R}) \\chi(\\mathbf{R})\n",
        "$\n",
        "\n",
        "onde $ \\mathbf{r} $ e $ \\mathbf{R} $ são coordenadas eletrônicas e nucleares, respectivamente. A função de onda eletrônica $ \\psi(\\mathbf{r}; \\mathbf{R}) $ é resolvida para uma configuração fixa de núcleos.\n",
        "\n",
        "#### **Método Hartree-Fock**\n",
        "\n",
        "O método Hartree-Fock (HF) é o ponto de partida para muitos métodos *ab initio*. No método HF, a função de onda do sistema é aproximada por um produto antissimetrizado de orbitais moleculares (determinante de Slater), que considera o princípio de exclusão de Pauli para elétrons:\n",
        "\n",
        "$\n",
        "\\Psi_{HF} = \\frac{1}{\\sqrt{N!}} \\det|\\psi_i(\\mathbf{r}_j)|\n",
        "$\n",
        "\n",
        "A equação de Hartree-Fock é resolvida iterativamente:\n",
        "\n",
        "$\n",
        "\\hat{F} \\psi_i = \\epsilon_i \\psi_i\n",
        "$\n",
        "\n",
        "onde $\\hat{F}$ é o operador de Fock e $\\epsilon_i$ são as energias dos orbitais moleculares. O operador de Fock é dado por:\n",
        "\n",
        "$\n",
        "\\hat{F} = \\hat{h} + \\sum_{j} (\\hat{J}_j - \\hat{K}_j)\n",
        "$\n",
        "\n",
        "onde $\\hat{h}$ é o Hamiltoniano de um elétron, $\\hat{J}_j$ é o operador de Coulomb, e $\\hat{K}_j$ é o operador de troca.\n",
        "\n",
        "#### **Correções Pós-Hartree-Fock**\n",
        "\n",
        "Para melhorar a exatidão além do método Hartree-Fock, são utilizados métodos pós-Hartree-Fock ou métodos correlacionados:\n",
        "\n",
        "- **Método de Perturbação Møller-Plesset (MP2, MP3, etc.)**: Trata a correlação eletrônica como uma correção de perturbação à solução Hartree-Fock.\n",
        "- **Método Coupled Cluster (CC)**: Inclui efeitos de correlação eletrônica de forma sistemática através de operadores de excitação.\n",
        "- **Método Interação de configurações (CI)**: Inclui efeitos de correlação eletrônica montando uma função de onda mais flexível que considera mais de uma configuração eletrônica na composição da função de onda do estado eletrônicos. Essas consfigurações eletrônicas são geradas a partir de excitações de um ou mais elétrons a partir do estado de referência, que em geral é o estado de Hartree-Fock.\n",
        "\n",
        "\n",
        "### Bibliografia Relevante\n",
        "\n",
        "1. **\"Molecular Electronic-Structure Theory\"** - T. Helgaker, P. Jørgensen, J. Olsen. Este livro fornece uma abordagem abrangente para a teoria da estrutura eletrônica molecular, cobrindo métodos de Hartree-Fock, DFT e pós-Hartree-Fock.\n",
        "2. **\"Modern Quantum Chemistry: Introduction to Advanced Electronic Structure Theory\"** - A. Szabo, N. S. Ostlund. Uma introdução detalhada aos métodos ab initio e à teoria da estrutura eletrônica.\n",
        "3. **\"Quantum Chemistry\"** - I. N. Levine. Um clássico que abrange os fundamentos da química quântica, incluindo métodos ab initio e de aproximação.\n",
        "\n",
        "### Recursos Adicionais\n",
        "\n",
        "Para mais detalhes e aplicações práticas, considere explorar os seguintes recursos online:\n",
        "\n",
        "- [Psi4: An Open-Source Quantum Chemistry Software Package](http://www.psicode.org/)\n",
        "- [Gaussian: Computational Chemistry Software](https://gaussian.com/)\n",
        "- [PySCF: Python Library for Quantum Chemistry](https://sunqm.github.io/pyscf/)\n",
        "\n",
        "\n",
        "-----------------\n",
        "#### **Algoritmo SCF (*Self-Consistent Field*)**\n",
        "\n",
        "O algoritmo *Self-Consistent Field* (SCF) é fundamental na química quântica computacional, especialmente no método Hartree-Fock (HF) e na Teoria do Funcional da Densidade (DFT). O SCF é um procedimento iterativo usado para resolver as equações de Hartree-Fock, aproximando a função de onda de um sistema molecular e minimizando a energia total do sistema até a convergência, considerando a geometria fixa.\n",
        "\n",
        "#### **Iterações SCF**\n",
        "\n",
        "O procedimento SCF envolve os seguintes passos iterativos:\n",
        "\n",
        "1. **Inicialização**: Estimar um conjunto inicial de orbitais moleculares $\\{\\psi_i\\}$.\n",
        "2. **Construção do Operador de Fock**: Calcular o operador de Fock $\\hat{F}$ com base nos orbitais moleculares atuais.\n",
        "3. **Resolução da Equação de Hartree-Fock**: Resolver $\\hat{F} \\psi_i = \\epsilon_i \\psi_i$ para obter novos orbitais moleculares $\\{\\psi_i\\}$.\n",
        "4. **Convergência**: Comparar os novos orbitais com os antigos. Se a diferença for menor que um limiar predefinido, o processo é convergido; caso contrário, repetir os passos 2-4.\n",
        "\n",
        "### **Bibliografia Relevante**\n",
        "\n",
        "1. **\"Molecular Electronic-Structure Theory\"** - T. Helgaker, P. Jørgensen, J. Olsen. Aborda de forma abrangente a teoria da estrutura eletrônica molecular, incluindo o método Hartree-Fock.\n",
        "2. **\"Modern Quantum Chemistry: Introduction to Advanced Electronic Structure Theory\"** - A. Szabo, N. S. Ostlund. Introdução detalhada aos métodos Hartree-Fock e pós-Hartree-Fock.\n",
        "3. **\"Quantum Chemistry\"** - I. N. Levine. Um clássico que cobre os fundamentos da química quântica, incluindo o algoritmo SCF.\n"
      ],
      "metadata": {
        "id": "oFiNwpMpz9kx"
      }
    },
    {
      "cell_type": "markdown",
      "source": [
        "--------------\n",
        "#### **Teoria do Funcional da Densidade (DFT)**\n",
        "\n",
        "A Teoria do Funcional da Densidade (DFT) é uma das abordagens mais importantes e amplamente utilizadas na química computacional e na física do estado sólido para estudar as propriedades eletrônicas dos sistemas moleculares e materiais. A DFT permite calcular a estrutura eletrônica de sistemas com muitos elétrons com boa exatidão e custo computacional relativamente baixo. Ela se baseia na ideia de que as propriedades fundamentais de um sistema quântico podem ser descritas pela densidade eletrônica, ao invés de pela função de onda completa, simplificando consideravelmente o problema de muitos corpos.\n",
        "\n",
        "#### **História e Desenvolvimento**\n",
        "\n",
        "A DFT teve suas raízes estabelecidas nos trabalhos de Thomas e Fermi na década de 1920, que propuseram que a energia de um sistema de elétrons poderia ser expressa como um funcional da densidade eletrônica. No entanto, foi somente com os trabalhos fundamentais de Hohenberg e Kohn (1964), e Kohn e Sham (1965), que a teoria foi formalizada e ganhou a forma robusta que conhecemos hoje. Os teoremas de Hohenberg-Kohn estabeleceram que a densidade eletrônica no estado fundamental determina unicamente todas as propriedades do sistema e que existe um funcional universal da densidade que descreve a energia total do sistema.\n",
        "\n",
        "#### **Princípios Fundamentais**\n",
        "\n",
        "#### **Teoremas de Hohenberg-Kohn**\n",
        "\n",
        "1. **Primeiro Teorema**: A densidade eletrônica $\\rho(\\mathbf{r})$ no estado fundamental determina unicamente o potencial externo $v_{\\text{ext}}(\\mathbf{r})$ e, consequentemente, as propriedades eletrônicas do sistema. Em outras palavras, a energia total do sistema no estado fundamental é um funcional da densidade eletrônica $\\rho(\\mathbf{r})$.\n",
        "   \n",
        "2. **Segundo Teorema**: Existe um funcional universal da densidade eletrônica, $F[\\rho(\\mathbf{r})]$, que é independente do potencial externo e que, quando minimizado com respeito à densidade eletrônica correta, dá a energia do estado fundamental do sistema.\n",
        "\n",
        "#### **Equações de Kohn-Sham**\n",
        "\n",
        "Para tornar a DFT praticável, Kohn e Sham introduziram um conjunto de equações auxiliares para um sistema fictício de elétrons não interagentes que reproduz a densidade do sistema real. As equações de Kohn-Sham são escritas como:\n",
        "\n",
        "$\n",
        "\\left( -\\frac{1}{2} \\nabla^2 + v_{\\text{eff}}(\\mathbf{r}) \\right) \\phi_i(\\mathbf{r}) = \\epsilon_i \\phi_i(\\mathbf{r})\n",
        "$\n",
        "\n",
        "onde $v_{\\text{eff}}(\\mathbf{r})$ é o potencial efetivo que inclui o potencial externo, o potencial de Hartree e o potencial de troca-correlação:\n",
        "\n",
        "$\n",
        "v_{\\text{eff}}(\\mathbf{r}) = v_{\\text{ext}}(\\mathbf{r}) + v_{\\text{H}}(\\mathbf{r}) + v_{\\text{xc}}(\\mathbf{r})\n",
        "$\n",
        "\n",
        "O potencial de Hartree, $v_{\\text{H}}(\\mathbf{r})$, representa a interação eletrostática entre os elétrons e é dado por:\n",
        "\n",
        "$\n",
        "v_{\\text{H}}(\\mathbf{r}) = \\int \\frac{\\rho(\\mathbf{r'})}{|\\mathbf{r} - \\mathbf{r'}|} d\\mathbf{r'}\n",
        "$\n",
        "\n",
        "O potencial de troca-correlação, $v_{\\text{xc}}(\\mathbf{r})$, é o componente que incorpora todos os efeitos quânticos de troca e correlação entre os elétrons e é definido como a variação funcional da energia de troca-correlação $E_{\\text{xc}}[\\rho]$ com respeito à densidade:\n",
        "\n",
        "$\n",
        "v_{\\text{xc}}(\\mathbf{r}) = \\frac{\\delta E_{\\text{xc}}[\\rho]}{\\delta \\rho(\\mathbf{r})}\n",
        "$\n",
        "\n",
        "#### **Funcionais de Troca-Correlação**\n",
        "\n",
        "Um dos maiores desafios na aplicação da DFT é a escolha do funcional de troca-correlação adequado. Existem diferentes níveis de complexidade e precisão para esses funcionais, incluindo:\n",
        "\n",
        "- **Funcionais de Densidade Local (LDA)**: Consideram a densidade eletrônica local e assumem que o sistema é homogêneo. Exemplos incluem os funcionais de troca de Slater e o funcional de correlação de Perdew-Zunger.\n",
        "  \n",
        "- **Funcionais de Gradiente Generalizado (GGA)**: Incorporam o gradiente da densidade eletrônica para capturar variações na densidade. Exemplos incluem os funcionais de Perdew-Burke-Ernzerhof (PBE) e Becke-88 (B88).\n",
        "\n",
        "- **Funcionais Meta-GGA**: Além do gradiente da densidade, utilizam a derivada segunda da densidade ou o laplaciano da densidade. Um exemplo é o funcional de Tao-Perdew-Staroverov-Scuseria (TPSS).\n",
        "\n",
        "- **Funcionais Híbridos**: Combinam uma fração da energia de troca exata de Hartree-Fock com funcionais GGA ou meta-GGA. Um exemplo amplamente utilizado é o B3LYP.\n",
        "\n",
        "#### **Aplicações da DFT**\n",
        "\n",
        "A DFT é amplamente utilizada em diversos campos da ciência e engenharia, incluindo:\n",
        "\n",
        "- **Química Computacional**: Para calcular energias de ligação, geometria molecular, estados de transição, e espectros de RMN e UV-Vis.\n",
        "- **Física do Estado Sólido**: Para estudar propriedades eletrônicas e estruturais de sólidos, incluindo bandas de energia e estados de superfície.\n",
        "- **Ciência dos Materiais**: Para investigar propriedades de materiais novos, incluindo catalisadores, semicondutores e materiais nanoestruturados.\n",
        "- **Biofísica e Bioquímica**: Para modelar interações moleculares em sistemas biológicos complexos, incluindo proteínas e ácidos nucleicos.\n",
        "\n",
        "#### **Bibliografia**\n",
        "\n",
        "Para um estudo aprofundado da DFT, os seguintes livros e artigos são altamente recomendados:\n",
        "\n",
        "1. **Livros**:\n",
        "   - Kohn, W. and Sham, L. J. \"Self-consistent equations including exchange and correlation effects.\" *Physical Review*, 140(4A), A1133, (1965).\n",
        "   - Parr, R. G., and Yang, W. \"Density-Functional Theory of Atoms and Molecules.\" *Oxford University Press*, (1989).\n",
        "   - Koch, W., and Holthausen, M. C. \"A Chemist's Guide to Density Functional Theory.\" *Wiley-VCH*, (2001).\n",
        "\n",
        "2. **Artigos**:\n",
        "   - Hohenberg, P., and Kohn, W. \"Inhomogeneous Electron Gas.\" *Physical Review*, 136(3B), B864, (1964).\n",
        "   - Becke, A. D. \"Density-functional exchange-energy approximation with correct asymptotic behavior.\" *Physical Review A*, 38(6), 3098, (1988).\n",
        "   - Perdew, J. P., Burke, K., and Ernzerhof, M. \"Generalized Gradient Approximation Made Simple.\" *Physical Review Letters*, 77(18), 3865, (1996).\n"
      ],
      "metadata": {
        "id": "vDC-Siel7qTC"
      }
    },
    {
      "cell_type": "markdown",
      "source": [
        "--------------\n",
        "#### **3.3.1 - PySCF**\n",
        "\n",
        "Essa biblioteca realiza cálculos de química quântica em moléculas. É um código aberto e de fácil utilização.  \n",
        "\n",
        "- <https://pyscf.org/>\n",
        "\n",
        "Nós iremos executar alguns exemplos de tutoriais do PySCF que estão disponíveis na internet.\n",
        "\n",
        "**Links interessantes**\n",
        "- <http://www.cheminfo.org/Chemistry/Cheminformatics/FormatConverter/index.html>\n",
        "\n",
        "\n",
        "**Fonte de Consulta**\n",
        "- <https://github.com/vinayak2019/python_quantum_chemistry_introductory>\n",
        "- <https://github.com/pyscf/pyscf/tree/master/examples>\n"
      ],
      "metadata": {
        "id": "1-a2rF_v0Q02"
      }
    },
    {
      "cell_type": "code",
      "source": [
        "# Instalando o PySCF\n",
        "\n",
        "!pip install pyscf"
      ],
      "metadata": {
        "id": "5TpJwfRt0Q02"
      },
      "execution_count": null,
      "outputs": []
    },
    {
      "cell_type": "markdown",
      "source": [
        "Vamos gerar um input para um sistema molecular bem simples. Para isso use a ferramenta openbabel online para criar a estrutura da molécula do etileno. Vamos usar para isso mais uma biblioteca, a *openbabel*."
      ],
      "metadata": {
        "id": "kxMrQadWDaLQ"
      }
    },
    {
      "cell_type": "code",
      "source": [
        "!which obabel"
      ],
      "metadata": {
        "id": "0zUqAb59CCSo"
      },
      "execution_count": null,
      "outputs": []
    },
    {
      "cell_type": "code",
      "source": [
        "!obabel -:'CC' -Oetano.sdf --gen3D"
      ],
      "metadata": {
        "id": "v7RTMTC5CW2P"
      },
      "execution_count": null,
      "outputs": []
    },
    {
      "cell_type": "code",
      "source": [
        "v = p3d.view()\n",
        "v.addModel(open('etano.sdf').read())\n",
        "v.setStyle({'stick':{'colorscheme':'greenCarbon'}})\n",
        "v.zoomTo()"
      ],
      "metadata": {
        "id": "hXJjPC1iCrmb"
      },
      "execution_count": null,
      "outputs": []
    },
    {
      "cell_type": "code",
      "source": [
        "!obabel etano.sdf -O etano.xyz\n",
        "!cat < etano.xyz"
      ],
      "metadata": {
        "id": "zfUqn4adC2CY"
      },
      "execution_count": null,
      "outputs": []
    },
    {
      "cell_type": "markdown",
      "source": [
        "----------\n",
        "##### **Propriedades eletrônicas com a PySCF**"
      ],
      "metadata": {
        "id": "I4S3f7Q-8BK3"
      }
    },
    {
      "cell_type": "code",
      "source": [
        "# Importar os módulos do PySCF importantes para os primeiros cálculos.\n",
        "\n",
        "from pyscf import gto, scf"
      ],
      "metadata": {
        "id": "jcsKgADD0Q03"
      },
      "execution_count": null,
      "outputs": []
    },
    {
      "cell_type": "code",
      "source": [
        "# Ler a geometria xyz\n",
        "\n",
        "mol = gto.M(atom=\"etano.xyz\")\n",
        "mol"
      ],
      "metadata": {
        "id": "Z-70vdOd0Q03"
      },
      "execution_count": null,
      "outputs": []
    },
    {
      "cell_type": "code",
      "source": [
        "# definir a função de base\n",
        "mol.basis = \"6-31G\"\n",
        "\n",
        "# definir o método de cálculo\n",
        "mf = mol.KS()\n",
        "mf.xc = 'b3lyp'"
      ],
      "metadata": {
        "id": "-b5Mquz00Q03"
      },
      "execution_count": null,
      "outputs": []
    },
    {
      "cell_type": "code",
      "source": [
        "# Rodar o cálculo e obter a energia eletrônica (em a.u.)\n",
        "e_1SCF = mf.kernel()\n",
        "print()\n",
        "print(\"A energia 1SCF da molécula é igual a:\", e_1SCF, \"em a.u.\")"
      ],
      "metadata": {
        "id": "7yPfzfjM0Q03"
      },
      "execution_count": null,
      "outputs": []
    },
    {
      "cell_type": "code",
      "source": [
        "# total number of electrons\n",
        "n = mol.tot_electrons()\n",
        "n"
      ],
      "metadata": {
        "id": "J5kG561w0Q03"
      },
      "execution_count": null,
      "outputs": []
    },
    {
      "cell_type": "code",
      "source": [
        "# display all orbitals\n",
        "mf.mo_energy"
      ],
      "metadata": {
        "id": "kDz8jEkT0Q04"
      },
      "execution_count": null,
      "outputs": []
    },
    {
      "cell_type": "code",
      "source": [
        "# HOMO is n/2 orbital. But python index starts from 0\n",
        "homo = mf.mo_energy[int(n/2) - 1]\n",
        "homo"
      ],
      "metadata": {
        "id": "u6x0rs_K0Q04"
      },
      "execution_count": null,
      "outputs": []
    },
    {
      "cell_type": "code",
      "source": [
        "# Considerar o efeito do solvente\n",
        "\n",
        "mol = gto.M(atom=\"etano.xyz\")\n",
        "\n",
        "# set basis set\n",
        "mol.basis = \"6-31G\"\n",
        "\n",
        "# set the functional\n",
        "mf = mol.KS()\n",
        "mf.xc = 'b3lyp'\n",
        "\n",
        "# set solvent\n",
        "mf = mf.DDCOSMO()\n",
        "mf.with_solvent.eps = 35.688  # Acetonitrile\n",
        "\n",
        "# run single point energy\n",
        "mf = mf.run()\n",
        "\n",
        "#get total energy\n",
        "neutral_energy_solvent = mf.e_tot"
      ],
      "metadata": {
        "id": "HcWLVeFj0Q04"
      },
      "execution_count": null,
      "outputs": []
    },
    {
      "cell_type": "markdown",
      "source": [
        "------------\n",
        "##### **Automatizando cálculo de propriedades eletrônicas com a PySCF**"
      ],
      "metadata": {
        "id": "PaJNDsZ9SW5U"
      }
    },
    {
      "cell_type": "code",
      "source": [
        "%%file molecs.csv\n",
        "SMILES\n",
        "C\n",
        "CC\n",
        "CCC\n",
        "O\n",
        "N"
      ],
      "metadata": {
        "id": "9f3X5FzpIW0c"
      },
      "execution_count": null,
      "outputs": []
    },
    {
      "cell_type": "code",
      "source": [
        "# Se colunas estão separadas por espaços ou tabulações , use :\n",
        "data = pd.read_csv('molecs.csv',header=0)      # colunas separadas por ','\n",
        "data"
      ],
      "metadata": {
        "id": "LtCSMjcNLuIf"
      },
      "execution_count": null,
      "outputs": []
    },
    {
      "cell_type": "code",
      "source": [
        "import pandas as pd\n",
        "from rdkit import Chem\n",
        "from rdkit.Chem import AllChem\n",
        "from rdkit.Chem.rdmolfiles import MolToXYZFile\n",
        "from pyscf import gto, scf\n",
        "\n",
        "def gerar_xyz(smiles, indice):\n",
        "    \"\"\"Gerar arquivo XYZ a partir de um SMILES, adicionando hidrogênios e otimizando a molécula\"\"\"\n",
        "    mol = Chem.MolFromSmiles(smiles)\n",
        "    mol = Chem.AddHs(mol)\n",
        "    AllChem.EmbedMolecule(mol)\n",
        "    AllChem.MMFFOptimizeMolecule(mol)\n",
        "    nome_arquivo_xyz = f'mol_{indice}.xyz'\n",
        "    MolToXYZFile(mol, nome_arquivo_xyz)\n",
        "    return nome_arquivo_xyz\n",
        "\n",
        "def calcular_props(nome_arquivo_xyz):\n",
        "    \"\"\"Calcular a energia single point de uma molécula a partir de\n",
        "    um arquivo XYZ usando PySCF\"\"\"\n",
        "    mol = gto.M(atom=nome_arquivo_xyz, basis='sto-3g')\n",
        "    n = mol.tot_electrons()\n",
        "    mf = scf.RHF(mol)\n",
        "    energia = mf.kernel()\n",
        "    homo = mf.mo_energy[int(n/2) - 1]\n",
        "    lumo = mf.mo_energy[int(n/2)]\n",
        "    return energia,homo,lumo\n",
        "\n",
        "def calcular_props_solv(nome_arquivo_xyz):\n",
        "    \"\"\"Calcular a energia single point de uma molécula com solvente\n",
        "    a partir de um arquivo XYZ usando PySCF\"\"\"\n",
        "    mol = gto.M(atom=nome_arquivo_xyz, basis='sto-3g')\n",
        "    n = mol.tot_electrons()\n",
        "    mf = scf.RHF(mol)\n",
        "    mf = mf.DDCOSMO()\n",
        "    mf.with_solvent.eps = 35.688  # Acetonitrile\n",
        "    mf = mf.run()\n",
        "    energia_solv = mf.e_tot\n",
        "    homo_solv = mf.mo_energy[int(n/2) - 1]\n",
        "    lumo_solv = mf.mo_energy[int(n/2)]\n",
        "    # total number of electrons\n",
        "    return energia_solv, homo_solv,lumo_solv"
      ],
      "metadata": {
        "id": "tT7qEvKcL9-a"
      },
      "execution_count": null,
      "outputs": []
    },
    {
      "cell_type": "code",
      "source": [
        "energias = []\n",
        "energias_solv = []\n",
        "homo = []\n",
        "lumo = []\n",
        "homo_solv = []\n",
        "lumo_solv = []\n",
        "\n",
        "for i in range(len(data)):\n",
        "    smiles = data.iat[i,0]\n",
        "    nome_arquivo_xyz = gerar_xyz(smiles, i)\n",
        "    ener,h,l = calcular_props(nome_arquivo_xyz)\n",
        "    energias.append(ener)\n",
        "    homo.append(h)\n",
        "    lumo.append(l)\n",
        "    ener_solv,hs,ls = calcular_props_solv(nome_arquivo_xyz)\n",
        "    energias_solv.append(ener_solv)\n",
        "    homo_solv.append(hs)\n",
        "    lumo_solv.append(ls)\n",
        "\n",
        "data['energia (a.u.)'] = energias\n",
        "data['energia_solv (a.u.)'] = energias_solv\n",
        "data['homo (a.u.)'] = homo\n",
        "data['lumo (a.u.)'] = lumo\n",
        "data['homo_solv(a.u.)'] = homo_solv\n",
        "data['lumo_solv(a.u.)'] = lumo_solv\n"
      ],
      "metadata": {
        "id": "3h_S0kWlMbdA"
      },
      "execution_count": null,
      "outputs": []
    },
    {
      "cell_type": "code",
      "source": [
        "data"
      ],
      "metadata": {
        "id": "d_uANvhERvfD"
      },
      "execution_count": null,
      "outputs": []
    },
    {
      "cell_type": "markdown",
      "source": [
        "----------\n",
        "\n",
        "##### **Otimização de geometria com a PySCF**"
      ],
      "metadata": {
        "id": "15AyN5IhSRkI"
      }
    },
    {
      "cell_type": "code",
      "source": [
        "# Para otimizar a geometria com o PySCF é necessário instalar a biblioteca Geometric\n",
        "!pip install geometric"
      ],
      "metadata": {
        "id": "4q9lGHXh0Q04"
      },
      "execution_count": null,
      "outputs": []
    },
    {
      "cell_type": "code",
      "source": [
        "from pyscf.geomopt.geometric_solver import optimize\n",
        "\n",
        "# create the pyscf molecule\n",
        "mol = gto.M(atom=\"etano.xyz\")\n",
        "\n",
        "# set basis set\n",
        "mol.basis = \"6-31G\"\n",
        "\n",
        "# set the functional\n",
        "mf = mol.KS()\n",
        "mf.xc = 'b3lyp'\n",
        "\n",
        "# run optimatization calculations\n",
        "mol_eq = optimize(mf)"
      ],
      "metadata": {
        "id": "madIie890Q04"
      },
      "execution_count": null,
      "outputs": []
    },
    {
      "cell_type": "code",
      "source": [
        "# save the optimized geometry for visualization\n",
        "mol_eq.tofile(\"opt_etano.xyz\")"
      ],
      "metadata": {
        "id": "Cu9bsPAP0Q04"
      },
      "execution_count": null,
      "outputs": []
    },
    {
      "cell_type": "code",
      "source": [
        "# Executar opcionalmente\n",
        "conv_params = {\n",
        "    'convergence_energy': 1e-1,  # Eh\n",
        "    'convergence_grms': 3e-1,    # Eh/Bohr\n",
        "    'convergence_gmax': 4.5e-1,  # Eh/Bohr\n",
        "    'convergence_drms': 1.2e-1,  # Angstrom\n",
        "    'convergence_dmax': 1.8e-1,  # Angstrom\n",
        "}\n",
        "\n",
        "mol_eq = optimize(mf, **conv_params)"
      ],
      "metadata": {
        "id": "0JvUVFQA0Q04"
      },
      "execution_count": null,
      "outputs": []
    },
    {
      "cell_type": "markdown",
      "source": [
        "-------------\n",
        "##### **Cálculo de frequências vibracionais e termoquímica**"
      ],
      "metadata": {
        "id": "ggEbTaea8c5l"
      }
    },
    {
      "cell_type": "code",
      "source": [
        "# create a molecule object\n",
        "mol = gto.M(atom=\"opt_etano.xyz\")\n",
        "\n",
        "# set basis set\n",
        "mol.basis = \"6-31G\"\n",
        "\n",
        "# set the functional\n",
        "mf = mol.KS()\n",
        "mf.xc = 'b3lyp'\n",
        "\n",
        "# run frequency calculation\n",
        "mf.run()\n",
        "hessian = mf.Hessian().kernel()"
      ],
      "metadata": {
        "id": "A_7b67FA0Q05"
      },
      "execution_count": null,
      "outputs": []
    },
    {
      "cell_type": "code",
      "source": [
        "from pyscf.hessian import thermo\n",
        "\n",
        "# getting the frequncy data from the calculation\n",
        "freq_info = thermo.harmonic_analysis(mf.mol, hessian)\n",
        "freq_info[\"freq_wavenumber\"]"
      ],
      "metadata": {
        "id": "0OQ6hiK00Q05"
      },
      "execution_count": null,
      "outputs": []
    },
    {
      "cell_type": "code",
      "source": [
        "# https://mattermodeling.stackexchange.com/questions/10393/how-may-i-calculate-free-energy-using-pyscf\n",
        "# https://github.com/pyscf/pyscf/blob/master/examples/hessian/10-thermochemistry.py\n",
        "#!/usr/bin/env python\n",
        "#\n",
        "# Author: Qiming Sun <osirpt.sun@gmail.com>\n",
        "#\n",
        "\n",
        "'''\n",
        "Thermochemistry analysis based on nuclear Hessian.\n",
        "'''\n",
        "\n",
        "from pyscf import gto\n",
        "from pyscf.hessian import thermo\n",
        "\n",
        "# First compute nuclear Hessian.\n",
        "mol = gto.M(\n",
        "    atom = '''O    0.   0.       0\n",
        "              H    0.   -0.757   0.587\n",
        "              H    0.    0.757   0.587''',\n",
        "    basis = '631g')\n",
        "\n",
        "mf = mol.RHF().run()\n",
        "hessian = mf.Hessian().kernel()\n",
        "\n",
        "# Frequency analysis\n",
        "freq_info = thermo.harmonic_analysis(mf.mol, hessian)\n",
        "# Thermochemistry analysis at 298.15 K and 1 atmospheric pressure\n",
        "thermo_info = thermo.thermo(mf, freq_info['freq_au'], 298.15, 101325)\n",
        "\n",
        "print('Rotation constant')\n",
        "print(thermo_info['rot_const'])\n",
        "\n",
        "print('Zero-point energy')\n",
        "print(thermo_info['ZPE'   ])\n",
        "\n",
        "print('Internal energy at 0 K')\n",
        "print(thermo_info['E_0K'  ])\n",
        "\n",
        "print('Internal energy at 298.15 K')\n",
        "print(thermo_info['E_tot' ])\n",
        "\n",
        "print('Enthalpy energy at 298.15 K')\n",
        "print(thermo_info['H_tot' ])\n",
        "\n",
        "print('Gibbs free energy at 298.15 K')\n",
        "print(thermo_info['G_tot' ])\n",
        "\n",
        "print('Heat capacity at 298.15 K')\n",
        "print(thermo_info['Cv_tot'])"
      ],
      "metadata": {
        "id": "7PPYjIWEY2t_"
      },
      "execution_count": null,
      "outputs": []
    },
    {
      "cell_type": "markdown",
      "source": [
        "------\n",
        "##### ***Scan* com o PySCF**"
      ],
      "metadata": {
        "id": "DVmKTd2W8w0D"
      }
    },
    {
      "cell_type": "code",
      "source": [
        "# https://github.com/pyscf/pyscf/tree/master/examples/scf\n",
        "import numpy\n",
        "import matplotlib.pyplot as plt\n",
        "from pyscf import scf\n",
        "from pyscf import gto\n",
        "\n",
        "ehf = []\n",
        "dm = None\n",
        "distances = numpy.arange(0.4, 2.5, 0.1)\n",
        "\n",
        "for b in distances:\n",
        "    mol = gto.M(atom=[[\"H\", 0., 0., 0.],\n",
        "                      [\"H\", 0., 0., b]], basis='ccpvdz', verbose=0)\n",
        "    mf = scf.RHF(mol)\n",
        "    ehf.append(mf.kernel(dm))\n",
        "    dm = mf.make_rdm1()\n",
        "\n",
        "print('R     E(HF)')\n",
        "for i, b in enumerate(distances):\n",
        "    print('%.2f  %.8f' % (b, ehf[i]))\n",
        "\n",
        "# Plotting the graph\n",
        "plt.figure(figsize=(8, 6))\n",
        "plt.plot(distances, ehf, marker='o', linestyle='-', color='b')\n",
        "plt.xlabel('Distance (Å)')\n",
        "plt.ylabel('Energy (Hartree)')\n",
        "plt.title('Variation of Energy vs Interatomic Distance for H2')\n",
        "plt.grid(True)\n",
        "plt.show()"
      ],
      "metadata": {
        "id": "W_NqFVms0Hb4"
      },
      "execution_count": null,
      "outputs": []
    },
    {
      "cell_type": "markdown",
      "source": [
        "------------\n",
        "#####**Estrutura eletrônica com o PySCF**"
      ],
      "metadata": {
        "id": "LYsrNrya872l"
      }
    },
    {
      "cell_type": "code",
      "source": [
        "# Executar opcionalmente\n",
        "import sys\n",
        "from pyscf import gto, scf\n",
        "from pyscf import lo\n",
        "from pyscf.tools import molden\n",
        "\n",
        "'''\n",
        "Write orbitals in molden format\n",
        "'''\n",
        "\n",
        "mol = gto.M(\n",
        "    atom = '''\n",
        "  C  3.2883    3.3891    0.2345\n",
        "  C  1.9047    3.5333    0.2237\n",
        "  C  3.8560    2.1213    0.1612\n",
        "  C  1.0888    2.4099    0.1396\n",
        "  C  3.0401    0.9977    0.0771\n",
        "  C  1.6565    1.1421    0.0663\n",
        "  H  3.9303    4.2734    0.3007\n",
        "  H  1.4582    4.5312    0.2815\n",
        "  H  4.9448    2.0077    0.1699\n",
        "  H  0.0000    2.5234    0.1311\n",
        "  H  3.4870    0.0000    0.0197\n",
        "  H  1.0145    0.2578    0.0000\n",
        "           ''',\n",
        "    basis = 'cc-pvdz',\n",
        "    symmetry = 1)\n",
        "\n",
        "mf = scf.RHF(mol)\n",
        "mf.kernel()\n",
        "\n",
        "#\n",
        "# First method is to explicit call the functions provided by molden.py\n",
        "#\n",
        "with open('C6H6mo.molden', 'w') as f1:\n",
        "    molden.header(mol, f1)\n",
        "    molden.orbital_coeff(mol, f1, mf.mo_coeff, ene=mf.mo_energy, occ=mf.mo_occ)\n",
        "\n",
        "#\n",
        "# Second method is to simply call from_mo function to write the orbitals\n",
        "#\n",
        "c_loc_orth = lo.orth.orth_ao(mol)\n",
        "molden.from_mo(mol, 'C6H6loc.molden', c_loc_orth)\n",
        "\n",
        "\n",
        "#\n",
        "# Molden format does not support high angular momentum basis.  To handle the\n",
        "# orbitals which have l>=5 functions, a hacky way is to call molden.remove_high_l\n",
        "# function.  However, the resultant orbitals may not be orthnormal.\n",
        "#\n",
        "mol = gto.M(\n",
        "    atom = 'He 0 0 0',\n",
        "    basis = {'He': gto.expand_etbs(((0, 3, 1., 2.), (5, 2, 1., 2.)))})\n",
        "mf = scf.RHF(mol).run()\n",
        "try:\n",
        "    molden.from_mo(mol, 'He_without_h.molden', mf.mo_coeff)\n",
        "except RuntimeError:\n",
        "    print('    Found l=5 in basis.')\n",
        "    molden.from_mo(mol, 'He_without_h.molden', mf.mo_coeff, ignore_h=True)"
      ],
      "metadata": {
        "id": "mwaEFMJB8mg6"
      },
      "execution_count": null,
      "outputs": []
    },
    {
      "cell_type": "code",
      "source": [
        "# Executar opcionalmente\n",
        "'''\n",
        "Write orbitals, electron density, molecular electrostatic potential in\n",
        "Gaussian cube file format.\n",
        "'''\n",
        "\n",
        "from pyscf import gto, scf\n",
        "from pyscf.tools import cubegen\n",
        "\n",
        "mol = gto.M(atom='''\n",
        "            O 0.0000000, 0.000000, 0.00000000\n",
        "            H 0.761561 , 0.478993, 0.00000000\n",
        "            H -0.761561, 0.478993, 0.00000000''', basis='6-31g*')\n",
        "mf = scf.RHF(mol).run()\n",
        "\n",
        "# electron density\n",
        "cubegen.density(mol, 'h2o_den.cube', mf.make_rdm1())\n",
        "\n",
        "# electron density slice\n",
        "cubegen.density(mol, 'h2o_den_slice.cube', mf.make_rdm1(), nx=1, ny=1, nz=80)\n",
        "\n",
        "# molecular electrostatic potential\n",
        "cubegen.mep(mol, 'h2o_pot.cube', mf.make_rdm1())\n",
        "\n",
        "# molecular electrostatic potential slice\n",
        "cubegen.mep(mol, 'h2o_pot_slice.cube', mf.make_rdm1(), nx=1, ny=1, nz=80)\n",
        "\n",
        "# 1st MO\n",
        "cubegen.orbital(mol, 'h2o_mo1.cube', mf.mo_coeff[:,0])\n",
        "\n",
        "# 1st MO orbital slice\n",
        "cubegen.orbital(mol, 'h2o_mo1_slice.cube', mf.mo_coeff[:,0], nx=1, ny=1, nz=80)"
      ],
      "metadata": {
        "id": "9YGY9Kpj9CEF"
      },
      "execution_count": null,
      "outputs": []
    },
    {
      "cell_type": "markdown",
      "source": [
        "-------------\n",
        "#### **3.3.2 - Psi4**\n",
        "\n",
        "PSI4 é um pacote de software de código aberto para química computacional, amplamente utilizado para cálculos de estrutura eletrônica. Desenvolvido pela comunidade científica, PSI4 é conhecido por sua eficiência e precisão em métodos de química quântica, incluindo Hartree-Fock (HF), Teoria do Funcional da Densidade (DFT), Teoria de Perturbação de Møller-Plesset (MP2) e muitos outros.\n",
        "\n",
        "**Links:**\n",
        "\n",
        "* <https://psicode.org/>\n",
        "* <https://github.com/psi4/psi4>\n",
        "* <https://github.com/Psi4Education/>\n",
        "* <https://education.molssi.org/qm-tools/>\n",
        "\n",
        "--------"
      ],
      "metadata": {
        "id": "7_Vdz1DPeOI2"
      }
    },
    {
      "cell_type": "code",
      "source": [],
      "metadata": {
        "id": "ni-AvHyhhDsi"
      },
      "execution_count": null,
      "outputs": []
    },
    {
      "cell_type": "code",
      "source": [
        "#@title **Instalando as dependências para a Psi4**\n",
        "#@markdown It will take a few minutes, please, drink a coffee and wait. ;-)\n",
        "# install dependencies\n",
        "\n",
        "import subprocess\n",
        "import sys\n",
        "subprocess.run(\"rm -rf /usr/local/conda-meta/pinned\", shell=True)\n",
        "subprocess.run(\"pip -q install py3Dmol\", shell=True)\n",
        "subprocess.run(\"!mamba install -c anaconda intel-openmp\", shell=True)\n",
        "subprocess.run(\"conda config --add channels http://conda.anaconda.org/psi4\", shell=True)\n",
        "subprocess.run(\"mamba install psi4 resp -c conda-forge/label/libint_dev -c conda-forge\", shell=True)\n",
        "subprocess.run(\"pip install rdkit-pypi\", shell=True)\n",
        "subprocess.run(\"pip install Cython\", shell=True)\n",
        "subprocess.run(\"mamba install -c conda-forge parmed -y\", shell=True)\n",
        "subprocess.run(\"mamba install -c conda-forge openbabel -y\", shell=True)\n",
        "\n",
        "import os\n",
        "import psi4\n",
        "import resp\n",
        "import openbabel as ob\n",
        "from rdkit import Chem\n",
        "from rdkit.Chem import AllChem"
      ],
      "metadata": {
        "id": "GFJLczKUiems",
        "cellView": "form"
      },
      "execution_count": null,
      "outputs": []
    },
    {
      "cell_type": "code",
      "source": [
        "# Install psi4\n",
        "#!pip install psi4"
      ],
      "metadata": {
        "id": "ZG2pdAKqAyhd"
      },
      "execution_count": null,
      "outputs": []
    },
    {
      "cell_type": "markdown",
      "source": [
        "##### **Cálculos iniciais com o Psi4**"
      ],
      "metadata": {
        "id": "bNdbEiKv_Yb3"
      }
    },
    {
      "cell_type": "code",
      "source": [
        "# https://github.com/Psi4Education/psi4education/blob/master/labs/Hartree_Fock/HF_student.ipynb\n",
        "# ==> Set Basic Psi4 Options <==\n",
        "# Memory specification\n",
        "psi4.set_memory('500 MB')\n",
        "numpy_memory = 2 # No NumPy array can exceed 2 MB in size\n",
        "\n",
        "# set output file\n",
        "#psi4.core.set_output_file('output.dat', False)\n",
        "# Desabilitar a saída em tela\n",
        "#psi4.core.set_output_file('/dev/null', False)\n",
        "\n",
        "# specify the basis\n",
        "basis = 'cc-pvdz'\n",
        "#basis = 'sto-3g'\n",
        "\n",
        "\n",
        "# Set computation options\n",
        "psi4.set_options({'basis': basis,\n",
        "                  'scf_type': 'pk',\n",
        "                  'e_convergence': 1e-8})\n",
        "\n",
        "\n",
        "# ==> Define Molecule <==\n",
        "# Define our model of water --\n",
        "# we will distort the molecule later, which may require C1 symmetry\n",
        "mol = psi4.geometry(\"\"\"\n",
        "O\n",
        "H 1 1.1\n",
        "H 1 1.1 2 104\n",
        "symmetry c1\n",
        "\"\"\")\n",
        "\n",
        "# compute energy\n",
        "\n",
        "SCF_E_psi = psi4.energy('scf')\n",
        "psi4.core.clean()\n",
        "print()\n",
        "print(f\"The Hartree-Fock ground state energy of the water is: {SCF_E_psi} Eh\")"
      ],
      "metadata": {
        "id": "SitIz3FZiexb"
      },
      "execution_count": null,
      "outputs": []
    },
    {
      "cell_type": "code",
      "source": [
        "# Executar opcionalmente\n",
        "# ==> Compute static 1e- and 2e- quantities with Psi4 <==\n",
        "wfn = psi4.core.Wavefunction.build(mol, psi4.core.get_global_option('basis'))\n",
        "\n",
        "# number of spin alpha orbitals (doubly occupied for closed-shell systems)\n",
        "ndocc = wfn.nalpha()\n",
        "nbf = wfn.basisset().nbf()\n",
        "\n",
        "print(F'Number of occupied orbitals: {ndocc}')\n",
        "print(F'Number of basis functions: {nbf}')"
      ],
      "metadata": {
        "id": "ZMla5Fa4ie6N"
      },
      "execution_count": null,
      "outputs": []
    },
    {
      "cell_type": "markdown",
      "source": [
        "-------------\n",
        "##### **Otimização de geometrica, cálculo de frequências vibracionais e termoquímica**"
      ],
      "metadata": {
        "id": "y_nnZRcg_0gs"
      }
    },
    {
      "cell_type": "code",
      "source": [
        "# https://psicode.org/psi4manual/master/psiapi.html\n",
        "#! Sample HF/cc-pVDZ H2O Computation\n",
        "\n",
        "psi4.set_memory('500 MB')\n",
        "\n",
        "h2o = psi4.geometry(\"\"\"\n",
        "O\n",
        "H 1 0.96\n",
        "H 1 0.96 2 104.5\n",
        "\"\"\")\n",
        "print()\n",
        "print(\"Energy 1SCF = \", psi4.energy('scf/cc-pvdz'), \"Eh\")"
      ],
      "metadata": {
        "id": "1U8FsdoorpZp"
      },
      "execution_count": null,
      "outputs": []
    },
    {
      "cell_type": "code",
      "source": [
        "psi4.set_options({'reference': 'rhf'})\n",
        "print(\"Energy ground state = \", psi4.optimize('scf/cc-pvdz', molecule=h2o), \"Eh\")"
      ],
      "metadata": {
        "id": "2-_K_WzmrpmR"
      },
      "execution_count": null,
      "outputs": []
    },
    {
      "cell_type": "code",
      "source": [
        "scf_e, scf_wfn = psi4.frequency('scf/cc-pvdz', molecule=h2o, return_wfn=True)"
      ],
      "metadata": {
        "id": "w8o2AhUOrpuW"
      },
      "execution_count": null,
      "outputs": []
    },
    {
      "cell_type": "code",
      "source": [
        "# Executar opcionalmente\n",
        "# https://psicode.org/psi4manual/master/psiapi.html\n",
        "# Example SAPT computation for ethene*ethyne (*i.e.*, ethylene*acetylene).\n",
        "# Test case 16 from S22 Database\n",
        "\n",
        "dimer = psi4.geometry(\"\"\"\n",
        "0 1\n",
        "C   0.000000  -0.667578  -2.124659\n",
        "C   0.000000   0.667578  -2.124659\n",
        "H   0.923621  -1.232253  -2.126185\n",
        "H  -0.923621  -1.232253  -2.126185\n",
        "H  -0.923621   1.232253  -2.126185\n",
        "H   0.923621   1.232253  -2.126185\n",
        "--\n",
        "0 1\n",
        "C   0.000000   0.000000   2.900503\n",
        "C   0.000000   0.000000   1.693240\n",
        "H   0.000000   0.000000   0.627352\n",
        "H   0.000000   0.000000   3.963929\n",
        "units angstrom\n",
        "\"\"\")\n",
        "\n",
        "psi4.set_options({'scf_type': 'df',\n",
        "                  'freeze_core': True})\n",
        "\n",
        "psi4.energy('sapt0/jun-cc-pvdz', molecule=dimer)\n"
      ],
      "metadata": {
        "id": "F_NkB8QVs6PJ"
      },
      "execution_count": null,
      "outputs": []
    },
    {
      "cell_type": "code",
      "source": [],
      "metadata": {
        "id": "pME1iEePCKPj"
      },
      "execution_count": null,
      "outputs": []
    },
    {
      "cell_type": "code",
      "source": [
        "methane = psi4.geometry(\"\"\"\n",
        "        pubchem:methane\n",
        "        \"\"\")"
      ],
      "metadata": {
        "id": "auMWk98JarFb"
      },
      "execution_count": null,
      "outputs": []
    },
    {
      "cell_type": "code",
      "source": [
        "methane"
      ],
      "metadata": {
        "id": "9OoyBJxuarRL"
      },
      "execution_count": null,
      "outputs": []
    },
    {
      "cell_type": "code",
      "source": [
        "psi4.energy('scf/STO-3g', molecule = methane)"
      ],
      "metadata": {
        "id": "jw88yq5XarYN"
      },
      "execution_count": null,
      "outputs": []
    },
    {
      "cell_type": "code",
      "source": [
        "print(\"Initial geometry is\\n\", np.array(methane.geometry()))\n",
        "print(\"Initial energy is \", psi4.energy('scf/STO-3g', molecule = methane))\n",
        "psi4.optimize('scf/STO-3g', molecule = methane)\n",
        "print(\"Final geometry is\\n\", np.array(methane.geometry()))\n",
        "print(\"Final energy is \", psi4.energy('scf/STO-3g', molecule = methane))"
      ],
      "metadata": {
        "id": "z9yZJgo8ardN"
      },
      "execution_count": null,
      "outputs": []
    },
    {
      "cell_type": "code",
      "source": [
        "energies = np.array([])\n",
        "basis_set_sizes = np.array([])\n",
        "#A note: are you looking at the length of my variable names and being sad at\n",
        "# how long they are? Ask me to demonstrate tab-completion for you.\n",
        "\n",
        "basis_sets = [\"STO-3G\", \"3-21G\", \"6-31G\", \"cc-pvdz\", \"6-311g(d)\", \"6-311++G(d,p)\"]\n",
        "\n",
        "#Another note: None of these calculationis take long when using HF-SCF on methane,\n",
        "# mostly because methane is a REALLY small molecule - only 2 p electrons.\n",
        "# If you end up working at a higher level of theory on a molecule with a lot\n",
        "# more electrons (how many in chlorine?), these calculations might end up taking a while.\n",
        "# It's useful to remember how to do a keyboard interrupt\n",
        "# and be ready to regroup and try again.\n",
        "\n",
        "for basis_set in basis_sets:\n",
        "    print(basis_set)\n",
        "    psi4.set_options({'basis': basis_set})\n",
        "    result, wfn = psi4.energy('scf', return_wfn = True)\n",
        "    nbf = wfn.basisset().nbf()\n",
        "    energies = np.append(energies, result)\n",
        "    basis_set_sizes = np.append(basis_set_sizes, nbf)\n",
        "    print(\"Energy is \", result)\n",
        "    print(\"Number of basis sets is \", nbf)\n",
        "\n",
        "plt.plot(basis_set_sizes, energies, 'o')\n",
        "plt.xlabel(\"Number of basis functions\")\n",
        "plt.ylabel(\"Minimized energy\")\n"
      ],
      "metadata": {
        "id": "A1sMaPnqbdCg"
      },
      "execution_count": null,
      "outputs": []
    },
    {
      "cell_type": "code",
      "source": [
        "basis_set_sizes = np.array([])\n",
        "bond_lengths = np.array([])\n",
        "basis_sets = [\"STO-3G\", \"3-21G\", \"6-31G\", \"6-311g(d)\"]\n",
        "\n",
        "\n",
        "for basis_set in basis_sets:\n",
        "    methane = psi4.geometry(\"\"\"\n",
        "        pubchem:methane\n",
        "        \"\"\")\n",
        "    print(basis_set)\n",
        "    psi4.set_options({'basis': basis_set})\n",
        "    result, wfn = psi4.optimize('scf', return_wfn = True)\n",
        "\n",
        "    current_geometry = np.array(methane.geometry()) #grab the geometry and store it\n",
        "    bond_length = np.linalg.norm(current_geometry[1,:]-current_geometry[0,:])*0.529177 #calculate the distance then convert from Bohr to Angstroms\n",
        "    bond_lengths = np.append(bond_lengths, bond_length)\n",
        "    print(\"C-H bond length is \", bond_length, \" Angstroms\")\n",
        "\n",
        "    nbf = wfn.basisset().nbf()\n",
        "    basis_set_sizes = np.append(basis_set_sizes, nbf)\n",
        "    print(\"Number of basis sets is \", nbf)\n",
        "\n",
        "plt.plot(basis_set_sizes, bond_lengths, 'o')\n",
        "plt.xlabel(\"Number of basis functions\")\n",
        "plt.ylabel(\"C-H bond length\")"
      ],
      "metadata": {
        "id": "EjUZE42QbnZe"
      },
      "execution_count": null,
      "outputs": []
    },
    {
      "cell_type": "code",
      "source": [
        "co2 = psi4.geometry(\"\"\"\n",
        "C\n",
        "O 1 1.0\n",
        "O 1 1.0 2 180\n",
        "\"\"\")"
      ],
      "metadata": {
        "id": "29FN2znVbnjG"
      },
      "execution_count": null,
      "outputs": []
    },
    {
      "cell_type": "code",
      "source": [
        "print(\"The inital point group of this molecule is \", co2.get_full_point_group())\n",
        "psi4.optimize('scf/6-31g', molecule = co2)\n",
        "print(\"The point group after geometry optimization is \", co2.get_full_point_group())"
      ],
      "metadata": {
        "id": "cGojjSU3bno-"
      },
      "execution_count": null,
      "outputs": []
    },
    {
      "cell_type": "code",
      "source": [
        "energy, wfn = psi4.frequencies('scf/6-31g', molecule = co2, return_wfn = True)\n",
        "co2.get_full_point_group()"
      ],
      "metadata": {
        "id": "cUBNwmhVbnwO"
      },
      "execution_count": null,
      "outputs": []
    },
    {
      "cell_type": "code",
      "source": [
        "vibinfo = wfn.frequency_analysis"
      ],
      "metadata": {
        "id": "DJzjjoWFbdNk"
      },
      "execution_count": null,
      "outputs": []
    },
    {
      "cell_type": "code",
      "source": [
        "reps = vibinfo['gamma'].data\n",
        "freqs = np.real(vibinfo['omega'].data)\n",
        "motion = vibinfo['TRV'].data\n",
        "deg = vibinfo['degeneracy'].data\n",
        "# This is not the only way to corral your data!\n",
        "# It's also probably not the simplest way!\n",
        "# It's just the way that made sense to me when I learned Psi4 in December."
      ],
      "metadata": {
        "id": "ypmAy74xbdSL"
      },
      "execution_count": null,
      "outputs": []
    },
    {
      "cell_type": "code",
      "source": [
        "pd.DataFrame(np.transpose([reps, freqs, motion, deg]),\n",
        "             columns = [\"Representation\", \"Frequency (wavenumbers)\", \"Type of motion\", \"Degeneracy\"])"
      ],
      "metadata": {
        "id": "oVEruarccXeQ"
      },
      "execution_count": null,
      "outputs": []
    },
    {
      "cell_type": "markdown",
      "source": [
        "---------------\n",
        "##### ***Scan* de coordenadas com o Psi4**"
      ],
      "metadata": {
        "id": "knQ_-I0G_lJE"
      }
    },
    {
      "cell_type": "code",
      "source": [
        "# ==> Scanning a Bond Angle: Flexible Water <==\n",
        "# Import a library to visualize energy profile\n",
        "import matplotlib.pyplot as plt\n",
        "%matplotlib inline\n",
        "\n",
        "# Define flexible water molecule using Z-matrix\n",
        "flexible_water = \"\"\"\n",
        "O\n",
        "H 1 0.96\n",
        "H 1 0.96 2 {}\n",
        "\"\"\"\n",
        "\n",
        "# Scan over bond angle range between 90 & 180, in 5 degree increments\n",
        "scan = {}\n",
        "for angle in range(90, 181, 5):\n",
        "    # Make molecule\n",
        "    mol = psi4.geometry(flexible_water.format(angle))\n",
        "    # Call Psi4\n",
        "    e = psi4.energy('scf/cc-pvdz', molecule=mol)\n",
        "    #e = psi4.energy('scf/sto-3g', molecule=mol)\n",
        "\n",
        "    # Save energy in dictionary\n",
        "    scan[angle] = e\n",
        "\n",
        "# Visualize energy profile\n",
        "x = list(scan.keys())\n",
        "y = list(scan.values())\n",
        "plt.plot(x,y,'ro-')\n",
        "plt.xlabel('H-O-H Bond Angle ($^{\\circ}$)')\n",
        "plt.ylabel('Molecular Energy ($E_h$)')\n",
        "plt.show()"
      ],
      "metadata": {
        "id": "KwWH3fNDifIi"
      },
      "execution_count": null,
      "outputs": []
    },
    {
      "cell_type": "code",
      "source": [
        "#! Example potential energy surface scan and CP-correction for Ne2\n",
        "\n",
        "ne2_geometry = \"\"\"\n",
        "Ne\n",
        "--\n",
        "Ne 1 {0}\n",
        "\"\"\"\n",
        "\n",
        "Rvals = [2.5, 3.0, 4.0]\n",
        "\n",
        "psi4.set_options({'freeze_core': True})\n",
        "\n",
        "# Initialize a blank dictionary of counterpoise corrected energies\n",
        "# (Need this for the syntax below to work)\n",
        "\n",
        "ecp = {}\n",
        "\n",
        "for R in Rvals:\n",
        "    ne2 = psi4.geometry(ne2_geometry.format(R))\n",
        "    ecp[R] = psi4.energy('ccsd(t)/aug-cc-pvdz', bsse_type='cp', molecule=ne2)\n",
        "\n",
        "# Prints to screen\n",
        "print(\"CP-corrected CCSD(T)/aug-cc-pVDZ Interaction Energies\\n\\n\")\n",
        "print(\"          R [Ang]                 E_int [kcal/mol]       \")\n",
        "print(\"---------------------------------------------------------\")\n",
        "for R in Rvals:\n",
        "    e = ecp[R] * psi4.constants.hartree2kcalmol\n",
        "    print(\"            {:3.1f}                        {:1.6f}\".format(R, e))\n",
        "\n",
        "# Prints to output.dat\n",
        "psi4.core.print_out(\"CP-corrected CCSD(T)/aug-cc-pVDZ Interaction Energies\\n\\n\")\n",
        "psi4.core.print_out(\"          R [Ang]                 E_int [kcal/mol]       \\n\")\n",
        "psi4.core.print_out(\"---------------------------------------------------------\\n\")\n",
        "for R in Rvals:\n",
        "    e = ecp[R] * psi4.constants.hartree2kcalmol\n",
        "    psi4.core.print_out(\"            {:3.1f}                        {:1.6f}\\n\".format(R, e))"
      ],
      "metadata": {
        "id": "erAtr6-vvZB9"
      },
      "execution_count": null,
      "outputs": []
    },
    {
      "cell_type": "code",
      "source": [
        "#import psi4\n",
        "#import numpy as np\n",
        "#%matplotlib inline\n",
        "#import matplotlib.pyplot as plt\n",
        "\n",
        "# set the amount of memory that you will need\n",
        "psi4.set_memory('500 MB')\n",
        "\n",
        "# set the molecule name for your files and plots\n",
        "molecule_name = \"h2o-dimer\"\n",
        "\n",
        "# Define water dimer\n",
        "water_dimer = \"\"\"\n",
        "O1\n",
        "H2 1 1.0\n",
        "H3 1 1.0 2 104.52\n",
        "x4 2 1.0 1 90.0 3 180.0\n",
        "--\n",
        "O5 2 **R** 4 90.0 1 180.0\n",
        "H6 5 1.0 2 120.0 4 90.0\n",
        "H7 5 1.0 2 120.0 4 -90.0\n",
        "\"\"\""
      ],
      "metadata": {
        "id": "rOlqUTwnpCDs"
      },
      "execution_count": null,
      "outputs": []
    },
    {
      "cell_type": "code",
      "source": [
        "rvals = [1.4, 1.5, 1.6, 1.7, 1.8, 1.9, 2.0, 2.1, 2.2, 2.3, 2.4, 2.5, 3.0, 3.5]\n",
        "energies = []\n",
        "for r in rvals:\n",
        "    # Build a new molecule at each separation\n",
        "    mol = psi4.geometry(water_dimer.replace('**R**', str(r)))\n",
        "\n",
        "    # Compute the interaction energy\n",
        "    E = psi4.energy('scf/aug-cc-pVDZ', molecule=mol, bsse_type='cp')\n",
        "\n",
        "    # Place in a reasonable unit, kcal/mole in this case\n",
        "    E = E*627.509\n",
        "\n",
        "    # Append the value to our list\n",
        "    energies.append(E)\n",
        "\n",
        "print(\"Finished computing the potential energy surface!\")"
      ],
      "metadata": {
        "id": "V13HcFYLpCN2"
      },
      "execution_count": null,
      "outputs": []
    },
    {
      "cell_type": "code",
      "source": [
        "plt.plot(rvals,energies,\".-\");\n",
        "plt.xlabel(\"distance (angstrom)\")\n",
        "plt.ylabel(\"energy (kcal/mol)\")\n",
        "plt.ylim(-5, 10)\n",
        "plt.title(molecule_name + \" interaction energy\")\n",
        "\n",
        "plt.show()"
      ],
      "metadata": {
        "id": "4_KterZYpCSY"
      },
      "execution_count": null,
      "outputs": []
    },
    {
      "cell_type": "code",
      "source": [
        "# Define water dimer\n",
        "water_dimer2 = \"\"\"\n",
        "O1\n",
        "H2 1 1.0\n",
        "H3 1 1.0 2 104.52\n",
        "x4 2 1.0 1 90.0 3 180.0\n",
        "--\n",
        "O5 2 **R** 4 90.0 1 180.0\n",
        "H6 5 1.0 2 120.0 4 **A**\n",
        "H7 5 1.0 2 120.0 4 **B**\n",
        "\"\"\"\n",
        "\n",
        "R = 1.8\n",
        "Avals = np.linspace(start=-180,stop=180, num=25)\n",
        "\n",
        "energies_R = []\n",
        "\n",
        "for A in Avals:\n",
        "\n",
        "    print(F'Computing dimer at {R:.1f} angstroms and {A:.2f} degrees')\n",
        "\n",
        "    # Build a new molecule at each separation\n",
        "    B = A-180\n",
        "    molR = water_dimer2.replace('**R**', str(R))\n",
        "    molA = molR.replace('**A**', str(A))\n",
        "    molB = molA.replace('**B**', str(B))\n",
        "    mol = psi4.geometry(molB)\n",
        "\n",
        "    # calculate energy\n",
        "    psi4.set_output_file(F'{molecule_name}_{R:.1f}_{A:.2f}_energy.dat', False)\n",
        "    E = psi4.energy('scf/aug-cc-pVDZ', molecule=mol, bsse_type='cp')\n",
        "    E = E*627.509\n",
        "    energies_R.append(E)"
      ],
      "metadata": {
        "id": "T1v5Z0YepCXD"
      },
      "execution_count": null,
      "outputs": []
    },
    {
      "cell_type": "code",
      "source": [
        "plt.figure()\n",
        "plt.plot(Avals, energies_R, 'r-o')\n",
        "plt.xlabel('Dihedral angle (degrees)')\n",
        "plt.ylabel('Interaction Energy (kcal/mole)')"
      ],
      "metadata": {
        "id": "ADditfifqpWT"
      },
      "execution_count": null,
      "outputs": []
    },
    {
      "cell_type": "code",
      "source": [
        "Rvals = np.linspace(start=1.8,stop=2.5,num=8)\n",
        "Avals = np.linspace(start=-180,stop=180, num=25)\n",
        "\n",
        "energy_2D = []\n",
        "\n",
        "for R in Rvals:\n",
        "    energies_R = []\n",
        "\n",
        "    for A in Avals:\n",
        "\n",
        "        print(F'Computing dimer at {R:.1f} angstroms and {A:.2f} degrees')\n",
        "\n",
        "        # Build a new molecule at each separation\n",
        "        B = A-180\n",
        "        molR = water_dimer2.replace('**R**', str(R))\n",
        "        molA = molR.replace('**A**', str(A))\n",
        "        molB = molA.replace('**B**', str(B))\n",
        "        mol = psi4.geometry(molB)\n",
        "\n",
        "        # calculate energy\n",
        "        psi4.set_output_file(F'{molecule_name}_{R:.1f}_{A:.2f}_energy.dat', False)\n",
        "        E = psi4.energy('scf/aug-cc-pVDZ', molecule=mol, bsse_type='cp')\n",
        "        E = E*627.509\n",
        "        energies_R.append(E)\n",
        "\n",
        "    energy_2D.append(energies_R)\n",
        "\n",
        "print(F'All calculations are complete!')"
      ],
      "metadata": {
        "id": "Cngc_4V-rcLi"
      },
      "execution_count": null,
      "outputs": []
    },
    {
      "cell_type": "code",
      "source": [
        "plt.figure()\n",
        "plt.plot(Avals, energy_2D[2], 'r-o', label='2.0 Angstroms')\n",
        "plt.plot(Avals, energy_2D[5], 'b-o', label='2.3 Angstroms')\n",
        "plt.xlabel('Angle (degrees)')\n",
        "plt.ylabel('Energy (kcal/mole)')\n",
        "plt.legend()\n",
        "plt.show()"
      ],
      "metadata": {
        "id": "ulM5pCgprhjH"
      },
      "execution_count": null,
      "outputs": []
    },
    {
      "cell_type": "code",
      "source": [
        "from mpl_toolkits import mplot3d\n",
        "%matplotlib inline\n",
        "\n",
        "X, Y = np.meshgrid(Avals, Rvals)\n",
        "\n",
        "mycmap1 = plt.get_cmap('gist_earth')\n",
        "\n",
        "fig, (ax,ax2) = plt.subplots(1,2,figsize=(12,6))\n",
        "\n",
        "ax = plt.axes(projection='3d')\n",
        "cf = ax.contour3D(X, Y, np.array(energy_2D), 300, cmap=mycmap1)\n",
        "ax.plot_surface(X, Y, np.array(energy_2D), rstride=1, cstride=1,\n",
        "                cmap='jet', edgecolor='none')\n",
        "\n",
        "ax.set_xlabel('angle (degrees)')\n",
        "ax.set_ylabel('R (Bohr)')\n",
        "ax.set_zlabel('energy (kcal/mol)')\n",
        "#ax.set_zlim3d(-4,-2)\n",
        "ax.view_init(45, 35)"
      ],
      "metadata": {
        "id": "kVm9ghonzMpw"
      },
      "execution_count": null,
      "outputs": []
    },
    {
      "cell_type": "markdown",
      "source": [
        "---------------"
      ],
      "metadata": {
        "id": "wPVZyFkb5-tx"
      }
    },
    {
      "cell_type": "markdown",
      "source": [
        "### **3.4 - Métodos semiempíricos**\n",
        "\n",
        "Os métodos semiempíricos de química quântica utilizam aproximações e parâmetros ajustados empiricamente para simplificar parcelas custosas das equações dos cálculos de estrutura eletrônica. Esses métodos são particularmente úteis para moléculas grandes e sistemas complexos, onde métodos de primeiros princípios, como Hartree-Fock (HF) ou Teoria do Funcional da Densidade (DFT), podem ser computacionalmente proibitivos.\n",
        "\n",
        "Os métodos semiempíricos baseiam-se nas equações da mecânica quântica, mas simplificam os cálculos ignorando certos termos ou utilizando parâmetros ajustados a dados experimentais ou de cálculos ab initio. Entre os métodos semiempíricos mais conhecidos estão o AM1, PM3 e RM1.\n",
        "\n",
        "#### **Alguns Métodos Semiempíricos**\n",
        "\n",
        "#### **Método AM1 (Austin Model 1)**\n",
        "\n",
        "Desenvolvido por Michael Dewar e colaboradores em 1985, o AM1 é baseando na aproximação NDDO (*Neglect of Diatomic Differential Overlap*) e é um melhoramento do MNDO (Modified Neglect of Diatomic Overlap). O AM1 introduz parâmetros adicionais para melhorar a descrição de interações intermoleculares e melhorar a exatidão dos cálculos de propriedades moleculares.\n",
        "\n",
        "#### **Método PM3 (Parametric Method 3)**\n",
        "\n",
        "O PM3, desenvolvido por James Stewart em 1989, é um aprimoramento do AM1. Ele utiliza um conjunto maior de parâmetros ajustados para um maior número de átomos e tipos de ligações. O PM3 busca melhorar a precisão dos cálculos de energias de ligação, estruturas e propriedades eletrônicas.\n",
        "\n",
        "#### **Método RM1 (Recife Model 1)**\n",
        "\n",
        "O RM1 é uma melhoria do AM1 e do PM3, desenvolvida por pesquisadores brasileiros em 2002. Ele usa um conjunto de parâmetros ajustados especificamente para melhorar a precisão de propriedades como energias de formação, geometrias e momentos dipolares.\n",
        "\n",
        "* <https://doi.org/10.21577/0103-5053.20180239>\n",
        "* <https://rm1.sparkle.pro.br/>\n",
        "\n",
        "#### **Equações Principais**\n",
        "\n",
        "Os métodos semiempíricos utilizam as equações da mecânica quântica, mas com simplificações específicas. A equação de Hartree-Fock serve como base para muitos métodos semiempíricos, mas com termos específicos ajustados empiricamente.\n",
        "\n",
        "#### **Equação de Hartree-Fock Simplificada**\n",
        "\n",
        "A equação de Hartree-Fock pode ser escrita como:\n",
        "\n",
        "$$\n",
        "\\hat{F} \\psi_i = \\epsilon_i \\psi_i\n",
        "$$\n",
        "\n",
        "onde $\\hat{F}$ é o operador de Fock, $\\psi_i$ são os orbitais moleculares e $\\epsilon_i$ são as energias dos orbitais.\n",
        "\n",
        "Nos métodos semiempíricos, o operador de Fock $\\hat{F}$ é simplificado e parametrizado. Em vez de calcular todos os termos de interação eletrônica explicitamente, muitos deles são substituídos por parâmetros ajustados a dados experimentais.\n",
        "\n",
        "\n",
        "####**Uso dos Métodos Semiempíricos com Python**\n",
        "\n",
        "Para implementar métodos semiempíricos em Python, podemos usar a biblioteca ASE (Atomic Simulation Environment) juntamente com MOPAC, um pacote de software que implementa vários métodos semiempíricos.\n",
        "\n",
        "#### **Referências**\n",
        "\n",
        "1. Stewart, J. J. P. \"Optimization of parameters for semiempirical methods I. Method.\" *Journal of Computational Chemistry* 10.2 (1989): 209-220.\n",
        "2. Dewar, M. J. S., et al. \"Development and use of quantum mechanical molecular models. 76. AM1: a new general purpose quantum mechanical molecular model.\" *Journal of the American Chemical Society* 107.13 (1985): 3902-3909.\n",
        "3. Stewart, J. J. P. \"Optimization of parameters for semiempirical methods II. Applications.\" *Journal of Computational Chemistry* 10.2 (1989): 221-264.\n",
        "4. Stewart, J. J. P. \"Application of the PM3 method to modeling proteins.\" *Journal of Molecular Modeling* 13.12 (2007): 1173-1213.\n",
        "\n",
        "--------------\n",
        "\n",
        "\n"
      ],
      "metadata": {
        "id": "PeYOuEHW0jOH"
      }
    },
    {
      "cell_type": "markdown",
      "source": [
        "\n",
        "#### **3.4.1 - MOPAC**\n",
        "\n",
        "MOPAC (***Molecular Orbital Package***) é um programa de química quântica amplamente utilizado para cálculos semiempíricos. Desenvolvido inicialmente por James J. P. Stewart, MOPAC permite a simulação de uma ampla variedade de propriedades moleculares e processos químicos usando métodos semiempíricos. O objetivo é fornecer um equilíbrio entre exatidão e eficiência computacional, tornando-o ideal para o estudo de sistemas moleculares grandes e complexos que seriam proibitivamente caros para métodos *ab initio* e de DFT.\n",
        "\n",
        "#### **Usodo MOPAC com Python**\n",
        "\n",
        "MOPAC pode ser utilizado para otimização de geometria, cálculos de energia, análise de espectros vibracionais, e muito mais. No contexto de Python, bibliotecas como `ASE` (Atomic Simulation Environment) podem ser usadas para configurar e executar cálculos MOPAC, facilitando a integração com outras ferramentas de modelagem molecular e análise de dados.\n",
        "\n",
        "\n",
        "Links:\n",
        "\n",
        "* <http://openmopac.net/>\n",
        "* <https://github.com/openmopac/>\n",
        "* <https://wiki.fysik.dtu.dk/ase/>\n",
        "\n",
        "-------------"
      ],
      "metadata": {
        "id": "wQs1yV6Yv9md"
      }
    },
    {
      "cell_type": "markdown",
      "source": [
        "##### **Instalando o MOPAC no Colab**"
      ],
      "metadata": {
        "id": "kf8jYjKWF0cH"
      }
    },
    {
      "cell_type": "code",
      "source": [
        "!wget https://github.com/openmopac/mopac/releases/download/v22.0.6/mopac-22.0.6-linux.tar.gz"
      ],
      "metadata": {
        "id": "oJFezzjiuv3c"
      },
      "execution_count": null,
      "outputs": []
    },
    {
      "cell_type": "code",
      "source": [
        "!git clone https://github.com/igorChem/AULA_GERD"
      ],
      "metadata": {
        "id": "bM_WbZvPwFWp"
      },
      "execution_count": null,
      "outputs": []
    },
    {
      "cell_type": "code",
      "source": [
        "!tar xfz mopac-22.0.6-linux.tar.gz"
      ],
      "metadata": {
        "id": "U8ydtEkq0snX"
      },
      "execution_count": null,
      "outputs": []
    },
    {
      "cell_type": "code",
      "source": [
        "!ls -la /content/mopac-22.0.6-linux/bin/*"
      ],
      "metadata": {
        "id": "TcdbQBwW3Nj0"
      },
      "execution_count": null,
      "outputs": []
    },
    {
      "cell_type": "code",
      "source": [
        "import os\n",
        "os.environ['PATH'] += ':/content/mopac-22.0.6-linux/bin'"
      ],
      "metadata": {
        "id": "Fh2S1VaQPwey"
      },
      "execution_count": null,
      "outputs": []
    },
    {
      "cell_type": "code",
      "source": [
        "!mopac"
      ],
      "metadata": {
        "id": "S8J_JPCpP1Au"
      },
      "execution_count": null,
      "outputs": []
    },
    {
      "cell_type": "code",
      "source": [
        "%%file acrolein.mop\n",
        "GNORM=0.01 AM1 AUX ALLVECS LARGE EPS=74.8 BFGS\n",
        "1SCF calculation for acrolein\n",
        "Testing MOPAC on Google Colab\n",
        "C   0.811 1  0.465 1  0.000  1\n",
        "C  -0.667 1  0.603 1 -0.000  1\n",
        "C  -1.468 1 -0.469 1  0.000  1\n",
        "H  -1.067 1  1.615 1 -0.000  1\n",
        "H  -2.551 1 -0.382 1  0.000  1\n",
        "H  -1.041 1 -1.468 1  0.000  1\n",
        "H   1.374 1  1.423 1  0.000  1\n",
        "O   1.404 1 -0.598 1 -0.000  1\n",
        "0"
      ],
      "metadata": {
        "id": "SYYr7T6I26Hl"
      },
      "execution_count": null,
      "outputs": []
    },
    {
      "cell_type": "code",
      "source": [
        "!nohup mopac acrolein.mop &"
      ],
      "metadata": {
        "id": "Gsqq_puBwQy0"
      },
      "execution_count": null,
      "outputs": []
    },
    {
      "cell_type": "code",
      "source": [
        "!cat < acrolein.arc"
      ],
      "metadata": {
        "id": "fwKD5oKZwUPj"
      },
      "execution_count": null,
      "outputs": []
    },
    {
      "cell_type": "code",
      "source": [],
      "metadata": {
        "id": "jX8ItKfywFaU"
      },
      "execution_count": null,
      "outputs": []
    },
    {
      "cell_type": "markdown",
      "source": [
        "##### **Executando o MOPAC através da ASE**"
      ],
      "metadata": {
        "id": "gr9PdeCzF9u2"
      }
    },
    {
      "cell_type": "code",
      "source": [
        "!pip install ase"
      ],
      "metadata": {
        "id": "j1Vf0ZiQunqt"
      },
      "execution_count": null,
      "outputs": []
    },
    {
      "cell_type": "code",
      "source": [
        "# https://wiki.fysik.dtu.dk/ase/ase/calculators/mopac.html\n",
        "from ase.build import molecule\n",
        "from ase.calculators.mopac import MOPAC\n",
        "\n",
        "atoms = molecule('O2') # Testar com a N2 é melhor\n",
        "atoms.calc = MOPAC(label='O2') # Testar com a N2 é melhor\n",
        "atoms.get_potential_energy()\n",
        "eigs = atoms.calc.get_eigenvalues()\n",
        "somos = atoms.calc.get_somo_levels()\n",
        "homo, lumo = atoms.calc.get_homo_lumo_levels()"
      ],
      "metadata": {
        "id": "7sZiEITEunui"
      },
      "execution_count": null,
      "outputs": []
    },
    {
      "cell_type": "code",
      "source": [
        "eigs"
      ],
      "metadata": {
        "id": "wLFvBullyQJU"
      },
      "execution_count": null,
      "outputs": []
    },
    {
      "cell_type": "code",
      "source": [
        "atoms = molecule('H2')\n",
        "atoms.calc = MOPAC(label='H2', task='GRADIENTS')\n",
        "atoms.get_potential_energy()"
      ],
      "metadata": {
        "id": "XoTgxQ8lyQTE"
      },
      "execution_count": null,
      "outputs": []
    },
    {
      "cell_type": "code",
      "source": [
        "atoms = MOPAC.read_atoms('H2')\n",
        "atoms.calc.get_homo_lumo_levels()"
      ],
      "metadata": {
        "id": "ts8s6HacyrTg"
      },
      "execution_count": null,
      "outputs": []
    },
    {
      "cell_type": "code",
      "source": [
        "atoms.calc.get_final_heat_of_formation()*23.060548"
      ],
      "metadata": {
        "id": "nSOWr3uL41KA"
      },
      "execution_count": null,
      "outputs": []
    },
    {
      "cell_type": "code",
      "source": [
        "atoms.get_all_distances()"
      ],
      "metadata": {
        "id": "p_sIGoMF5uu6"
      },
      "execution_count": null,
      "outputs": []
    },
    {
      "cell_type": "code",
      "source": [
        "atoms.get_dipole_moment()"
      ],
      "metadata": {
        "id": "Dw-fkcfo6Oqw"
      },
      "execution_count": null,
      "outputs": []
    },
    {
      "cell_type": "markdown",
      "source": [
        "------------\n",
        "\n",
        "##### **Exercício 1. Reação isodésmica**"
      ],
      "metadata": {
        "id": "wqFTO5-_Qcge"
      }
    },
    {
      "cell_type": "code",
      "source": [
        "!git clone https://github.com/RochaGerd/Chemistry_with_Python.git"
      ],
      "metadata": {
        "id": "kEKrnyshxSFX"
      },
      "execution_count": null,
      "outputs": []
    },
    {
      "cell_type": "code",
      "source": [
        "!mv -v Chemistry_with_Python/datafiles/Minicurso_Gerd_Rocha_e_Igor_Barden_X_EMMSB_MAI2021/Parte_1_Metodos_Semiempiricos.zip ."
      ],
      "metadata": {
        "id": "YZ_R-HXnxHL7"
      },
      "execution_count": null,
      "outputs": []
    },
    {
      "cell_type": "code",
      "source": [
        "!unzip Parte_1_Metodos_Semiempiricos.zip"
      ],
      "metadata": {
        "id": "WcY2CdIiunhd"
      },
      "execution_count": null,
      "outputs": []
    },
    {
      "cell_type": "code",
      "source": [
        "# Tentar importar a biblioteca e, se falhar, instalar\n",
        "try:\n",
        "    import rdkit\n",
        "except ImportError:\n",
        "    !pip install rdkit\n",
        "    import rdkit\n",
        "\n",
        "# Verificar a instalação e a versão da biblioteca\n",
        "print(\"Versão do RDKit:\", rdkit.__version__)"
      ],
      "metadata": {
        "id": "iBYBO_93RGdc"
      },
      "execution_count": null,
      "outputs": []
    },
    {
      "cell_type": "code",
      "source": [
        "del df"
      ],
      "metadata": {
        "id": "gRpZ4Tjz0bIR"
      },
      "execution_count": null,
      "outputs": []
    },
    {
      "cell_type": "code",
      "source": [
        "import pandas as pd\n",
        "from ase import Atoms\n",
        "from ase.optimize import BFGS\n",
        "from ase.calculators.mopac import MOPAC\n",
        "from rdkit import Chem\n",
        "from rdkit.Chem import AllChem\n",
        "\n",
        "# Função para converter SMILES para objeto Atoms do ASE\n",
        "def smiles_to_ase_atoms(smiles):\n",
        "    mol = Chem.MolFromSmiles(smiles)\n",
        "    mol = Chem.AddHs(mol)\n",
        "    AllChem.EmbedMolecule(mol, AllChem.ETKDG())\n",
        "    atoms = [atom.GetSymbol() for atom in mol.GetAtoms()]\n",
        "    positions = mol.GetConformer().GetPositions()\n",
        "    return Atoms(symbols=atoms, positions=positions)\n",
        "\n",
        "# Lista de SMILES das moléculas com identificação\n",
        "molecules = [\n",
        "    {'smiles': 'CCO', 'id': 'molecule_1'},  # Etanol\n",
        "    {'smiles': 'CC(=O)O', 'id': 'molecule_2'},  # Ácido acético\n",
        "    {'smiles': 'C1=CC=CC=C1', 'id': 'molecule_3'}  # Benzeno\n",
        "]\n",
        "\n",
        "# Inicializar dicionário para armazenar resultados\n",
        "results = {'Molecule': [], 'SMILES': []}\n",
        "\n",
        "# Adicionar colunas para cada método\n",
        "methods = ['AM1', 'PM3', 'RM1']\n",
        "for method in methods:\n",
        "    results[method] = []\n",
        "\n",
        "# Loop sobre cada molécula e cada método semiempírico\n",
        "for mol in molecules:\n",
        "    mol_id = mol['id']\n",
        "    smiles = mol['smiles']\n",
        "    ase_atoms = smiles_to_ase_atoms(smiles)\n",
        "\n",
        "    # Adicionar informações básicas da molécula\n",
        "    results['Molecule'].append(mol_id)\n",
        "    results['SMILES'].append(smiles)\n",
        "\n",
        "    for method in methods:\n",
        "        # Configurar o calculador MOPAC\n",
        "        calc = MOPAC(label=mol_id, task='1SCF GRADIENTS', method=method)\n",
        "        ase_atoms.set_calculator(calc)\n",
        "\n",
        "        # Otimizar a geometria\n",
        "        opt = BFGS(ase_atoms)\n",
        "        opt.run(fmax=0.05)\n",
        "\n",
        "        # Obter o calor de formação da última linha do arquivo .out\n",
        "        with open(f'{mol_id}.out', 'r') as file:\n",
        "            lines = file.readlines()\n",
        "            for line in lines:\n",
        "                if 'FINAL HEAT OF FORMATION' in line:\n",
        "                    heat_of_formation = float(line.split()[-2])\n",
        "                    break\n",
        "\n",
        "        # Armazenar os resultados no dicionário\n",
        "        results[method].append(heat_of_formation)\n",
        "\n",
        "# Criar DataFrame do pandas\n",
        "df = pd.DataFrame(results)\n",
        "print(df)\n",
        "\n",
        "# Salvar DataFrame em um arquivo CSV\n",
        "df.to_csv('heat_of_formation_results.csv', index=False)\n"
      ],
      "metadata": {
        "id": "C79wkjPpX7o6"
      },
      "execution_count": null,
      "outputs": []
    },
    {
      "cell_type": "code",
      "source": [
        "df"
      ],
      "metadata": {
        "id": "RJ-KIbbNYCvo"
      },
      "execution_count": null,
      "outputs": []
    },
    {
      "cell_type": "code",
      "source": [],
      "metadata": {
        "id": "CBN9L08kQLoh"
      },
      "execution_count": null,
      "outputs": []
    },
    {
      "cell_type": "markdown",
      "source": [
        "------------\n",
        "#### **3.4.2 - xTB**\n",
        "\n",
        "xTB (*xtight-binding*) é uma ferramenta de química computacional desenvolvida para realizar cálculos de estrutura eletrônica de maneira eficiente. É especialmente útil para estudos de sistemas grandes, como biomoléculas e materiais, onde métodos *ab initio* são computacionalmente proibitivos em computadores de pequeno e médio porte. Desenvolvido pelo grupo de Stefan Grimme, o xTB oferece uma variedade de métodos semiempíricos, incluindo GFN-xTB (Geometries, Frequencies, Noncovalent interactions eXtended Tight-Binding) e outras variantes como GFN1-xTB e GFN2-xTB.\n",
        "\n",
        "#### **Uso do xTB com Python**\n",
        "\n",
        "O xTB pode ser utilizado para otimização de geometria, cálculos de energia, análise de espectros vibracionais, e muito mais. No contexto de Python, ele pode ser facilmente integrado e automatizado usando scripts, facilitando a execução de cálculos de alto desempenho.\n",
        "\n",
        "**Links**\n",
        "\n",
        "* <https://xtb-docs.readthedocs.io/en/latest/>\n",
        "\n",
        "\n"
      ],
      "metadata": {
        "id": "XPEasIlnwSL9"
      }
    },
    {
      "cell_type": "markdown",
      "source": [
        "-------------\n",
        "##### **Instalando o xTB no Colab**"
      ],
      "metadata": {
        "id": "4lGQbBLpPj7g"
      }
    },
    {
      "cell_type": "code",
      "execution_count": null,
      "metadata": {
        "id": "RLSE-Si7YWaK"
      },
      "outputs": [],
      "source": [
        "# Baixar e instalar o xTB\n",
        "%%bash\n",
        "wget https://github.com/grimme-lab/xtb/releases/download/v6.7.0/xtb-6.7.0-linux-x86_64.tar.xz\n",
        "tar -xvJf xtb-6.7.0-linux-x86_64.tar.xz\n",
        "export PATH=$PATH:$(pwd)/xtb-dist/bin"
      ]
    },
    {
      "cell_type": "code",
      "source": [
        "!/content/xtb-dist/bin/xtb --version"
      ],
      "metadata": {
        "id": "4kIzqK27Z5O-"
      },
      "execution_count": null,
      "outputs": []
    },
    {
      "cell_type": "code",
      "source": [
        "import os\n",
        "os.environ['PATH'] += ':/content/xtb-dist/bin'\n",
        "!xtb --version"
      ],
      "metadata": {
        "id": "WOz2WbBDDwgO"
      },
      "execution_count": null,
      "outputs": []
    },
    {
      "cell_type": "markdown",
      "source": [
        "---------------------\n",
        "##### ***Scan* de coordenadas com o xTB**"
      ],
      "metadata": {
        "id": "mSzaDbhmP8I4"
      }
    },
    {
      "cell_type": "code",
      "source": [
        "%%file ethane.xyz\n",
        "8\n",
        "-7.46994680\n",
        "C          -0.01503441120750    0.04820403778911   -0.01075686629161\n",
        "H          -0.02618280545732    0.12324247717853    1.07751478989514\n",
        "H           1.02025706611374    0.10521724412205   -0.34995019287160\n",
        "H          -0.56108089374185    0.89840506905011   -0.42160774836772\n",
        "C          -0.65104926960692   -1.26213120711759   -0.46045958867132\n",
        "H          -1.67328207424848   -1.33815676349645   -0.08720971228148\n",
        "H          -0.67543548798470   -1.32088660386766   -1.54947400918083\n",
        "H          -0.08161812386697   -2.11204925365809   -0.08140067223057"
      ],
      "metadata": {
        "id": "kUmbji51Z5XC"
      },
      "execution_count": null,
      "outputs": []
    },
    {
      "cell_type": "code",
      "source": [
        "%%file scan.inp\n",
        "$constrain\n",
        " force constant=0.05\n",
        "$scan\n",
        " dihedral: 8,5,1,4,60.0; 60.0,420.0,72\n",
        "$end"
      ],
      "metadata": {
        "id": "7cVgPqtNb1zl"
      },
      "execution_count": null,
      "outputs": []
    },
    {
      "cell_type": "code",
      "source": [
        "!xtb ethane.xyz --opt --input scan.inp"
      ],
      "metadata": {
        "id": "BMZf-gpfb18O"
      },
      "execution_count": null,
      "outputs": []
    },
    {
      "cell_type": "code",
      "source": [
        "!cat < xtbscan.log"
      ],
      "metadata": {
        "id": "IhBjncCmEIWV"
      },
      "execution_count": null,
      "outputs": []
    },
    {
      "cell_type": "code",
      "source": [
        "def extract_energies_from_xyz(filename):\n",
        "    energies = []\n",
        "\n",
        "    with open(filename, 'r') as file:\n",
        "        lines = file.readlines()\n",
        "\n",
        "        for line in lines:\n",
        "            if line.startswith(' energy:'):\n",
        "                energy = float(line.split()[1])\n",
        "                energies.append(energy)\n",
        "\n",
        "    return energies\n",
        "\n",
        "# Exemplo de uso da função\n",
        "filename = 'xtbscan.log'  # Substitua pelo nome do seu arquivo XYZ\n",
        "energies = extract_energies_from_xyz(filename)\n",
        "print(energies)\n",
        "\n",
        "# Definir os parâmetros do scan\n",
        "start_angle = 60.0  # ângulo inicial em graus\n",
        "end_angle = 420.0   # ângulo final em graus\n",
        "num_steps = 72      # número de passos\n",
        "\n",
        "# Gerar os ângulos usando linspace do NumPy\n",
        "angles = np.linspace(start_angle, end_angle, num_steps)\n",
        "\n",
        "# Imprimir a lista de ângulos\n",
        "print(angles)"
      ],
      "metadata": {
        "id": "Vs0r5ffQRzKb"
      },
      "execution_count": null,
      "outputs": []
    },
    {
      "cell_type": "code",
      "source": [
        "%matplotlib inline\n",
        "import matplotlib.pyplot as plt\n",
        "\n",
        "# Plotar os ângulos e os valores de energia\n",
        "plt.figure()\n",
        "plt.plot(angles, energies, 'r-o')\n",
        "plt.xlabel('Dihedral angle (degrees)')\n",
        "plt.ylabel('Energy (hartrees)')\n",
        "plt.show()"
      ],
      "metadata": {
        "id": "RNh5mZi9FD3D"
      },
      "execution_count": null,
      "outputs": []
    },
    {
      "cell_type": "code",
      "source": [
        "!pip install py3Dmol\n",
        "\n",
        "import py3Dmol"
      ],
      "metadata": {
        "id": "sgqaTpD2FD5e"
      },
      "execution_count": null,
      "outputs": []
    },
    {
      "cell_type": "code",
      "source": [
        "# Ler o arquivo XYZ\n",
        "with open('xtbscan.log', 'r') as file:\n",
        "    xyz_data = file.read()"
      ],
      "metadata": {
        "id": "4q3XDdq7FD8O"
      },
      "execution_count": null,
      "outputs": []
    },
    {
      "cell_type": "code",
      "source": [
        "# Criar a visualização\n",
        "view = py3Dmol.view(width=800, height=600)\n",
        "\n",
        "# Adicionar a trajetória do XYZ\n",
        "view.addModelsAsFrames(xyz_data, 'xyz')\n",
        "\n",
        "# Ajustar o estilo da visualização\n",
        "view.setStyle({'stick': {'colorscheme':'greenCarbon'}})\n",
        "\n",
        "# Ajustar o zoom para que todas as moléculas estejam visíveis\n",
        "view.zoomTo()\n",
        "\n",
        "# Animação\n",
        "view.animate({'loop': 'backAndForth'})  # Animação de ida e volta\n",
        "\n",
        "# Mostrar a visualização\n",
        "view.show()"
      ],
      "metadata": {
        "id": "OkFp2-o6FD_V"
      },
      "execution_count": null,
      "outputs": []
    },
    {
      "cell_type": "markdown",
      "source": [
        "---------------"
      ],
      "metadata": {
        "id": "1qIwNANWSjz8"
      }
    },
    {
      "cell_type": "code",
      "source": [
        "def visualizar_molecula(nome_arquivo):\n",
        "    import py3Dmol\n",
        "    import os\n",
        "    # Verifica se o arquivo existe\n",
        "    if not os.path.exists(nome_arquivo):\n",
        "        print(f\"O arquivo '{nome_arquivo}' não existe.\")\n",
        "        return\n",
        "    # Lê o conteúdo do arquivo XYZ\n",
        "    with open(nome_arquivo, 'r') as file:\n",
        "        xyz_content = file.read()\n",
        "\n",
        "    # Cria a visualização\n",
        "    view = py3Dmol.view(width=800, height=600)\n",
        "    view.addModel(xyz_content, 'xyz')\n",
        "\n",
        "    # Adiciona a visualização\n",
        "    view.setStyle({'stick': {}})\n",
        "\n",
        "    # Adiciona rótulos com a numeração dos átomos\n",
        "    for i, line in enumerate(xyz_content.splitlines()[2:]):\n",
        "        atom_num = i + 1\n",
        "        atom = line.split()[0]\n",
        "        x, y, z = map(float, line.split()[1:])\n",
        "        label_text = f'{atom_num} ({atom})'\n",
        "        view.addLabel(label_text, {'position': {'x': x, 'y': y, 'z': z},\n",
        "                                   'backgroundColor': 'white',\n",
        "                                   'backgroundOpacity': 0.8,\n",
        "                                   'fontColor': 'black'})\n",
        "\n",
        "    # Renderiza a visualização\n",
        "    view.zoomTo()\n",
        "    view.show()\n",
        "\n",
        "# Exemplo de uso:\n",
        "# visualizar_molecula('caminho/para/seu_arquivo.xyz')"
      ],
      "metadata": {
        "id": "_mwWaOrJ2-B_"
      },
      "execution_count": null,
      "outputs": []
    },
    {
      "cell_type": "code",
      "source": [
        "%%file water.xyz\n",
        "3\n",
        "Water molecule\n",
        "O       0.000000       0.000000      -0.065000\n",
        "H       0.750000       0.750000       0.520000\n",
        "H      -0.750000       0.750000       0.520000"
      ],
      "metadata": {
        "id": "o69bZpiS2_FC"
      },
      "execution_count": null,
      "outputs": []
    },
    {
      "cell_type": "code",
      "source": [
        "visualizar_molecula('water.xyz')"
      ],
      "metadata": {
        "id": "IbXehMKf3bIM"
      },
      "execution_count": null,
      "outputs": []
    },
    {
      "cell_type": "code",
      "source": [
        "# Exemplo de uma molécula flexível: a molécula de omeprazole\n",
        "# Sugestão: Ir no site do pubchem (https://pubchem.ncbi.nlm.nih.gov/)\n",
        "#           e consultar o código smiles da molécula da sua preferência\n",
        "smiles = 'CC1=CN=C(C(=C1OC)C)CS(=O)C2=NC3=C(N2)C=C(C=C3)OC'\n",
        "mol = Chem.MolFromSmiles(smiles)\n",
        "mol"
      ],
      "metadata": {
        "id": "qke7S35X5YQv"
      },
      "execution_count": null,
      "outputs": []
    },
    {
      "cell_type": "code",
      "source": [
        "# Adicionar hidrogênios explícitos à molécula\n",
        "mol_H = Chem.AddHs(mol)\n",
        "AllChem.EmbedMolecule(mol_H)\n",
        "AllChem.MMFFOptimizeMolecule(mol_H) # Otimizando a geometria com o campo de força MMFF\n",
        "print(Chem.MolToXYZBlock(mol_H))"
      ],
      "metadata": {
        "id": "F12PTCLC5fOs"
      },
      "execution_count": null,
      "outputs": []
    },
    {
      "cell_type": "code",
      "source": [
        "%%file ome.xyz\n",
        "43\n",
        "\n",
        "C     -6.474593   -1.386555   -0.085378\n",
        "C     -5.010672   -1.114409    0.059177\n",
        "C     -4.153592   -2.102349    0.510946\n",
        "N     -2.824337   -1.936193    0.674526\n",
        "C     -2.279859   -0.735437    0.347187\n",
        "C     -3.055068    0.338660   -0.115204\n",
        "C     -4.442281    0.134371   -0.202095\n",
        "O     -5.257125    1.157798   -0.623738\n",
        "C     -5.712181    1.922362    0.495209\n",
        "C     -2.446673    1.671177   -0.452735\n",
        "C     -0.784509   -0.639865    0.520217\n",
        "S      0.093970   -0.967575   -1.039405\n",
        "O      0.310485   -2.447112   -1.197267\n",
        "C      1.692332   -0.331621   -0.506293\n",
        "N      1.906874    0.869064   -0.015498\n",
        "C      3.256240    0.908021    0.244012\n",
        "C      3.868305   -0.294656   -0.095925\n",
        "N      2.843371   -1.067076   -0.575541\n",
        "C      5.237506   -0.538459    0.065366\n",
        "C      6.005992    0.504755    0.598781\n",
        "C      5.409604    1.723367    0.946098\n",
        "C      4.035473    1.942725    0.775645\n",
        "O      7.356184    0.456793    0.829870\n",
        "C      8.024829   -0.754065    0.500177\n",
        "H     -7.010977   -1.056879    0.809473\n",
        "H     -6.663638   -2.456287   -0.226535\n",
        "H     -6.886116   -0.873089   -0.960372\n",
        "H     -4.517237   -3.095233    0.763116\n",
        "H     -6.303973    1.310527    1.183965\n",
        "H     -6.355958    2.720429    0.113650\n",
        "H     -4.876013    2.387804    1.027737\n",
        "H     -1.531667    1.553640   -1.039730\n",
        "H     -2.216215    2.219709    0.465915\n",
        "H     -3.115661    2.287728   -1.061147\n",
        "H     -0.519142    0.350129    0.903819\n",
        "H     -0.442738   -1.373880    1.258977\n",
        "H      2.892933   -2.018989   -0.912600\n",
        "H      5.658359   -1.494970   -0.216269\n",
        "H      6.025270    2.520225    1.358373\n",
        "H      3.582018    2.889108    1.047457\n",
        "H      7.952448   -0.965680   -0.571736\n",
        "H      7.643832   -1.590198    1.095783\n",
        "H      9.084201   -0.627816    0.743519"
      ],
      "metadata": {
        "id": "GCylf42U6k6T"
      },
      "execution_count": null,
      "outputs": []
    },
    {
      "cell_type": "code",
      "source": [
        "visualizar_molecula('ome.xyz')"
      ],
      "metadata": {
        "id": "RB_BjAG-6snc"
      },
      "execution_count": null,
      "outputs": []
    },
    {
      "cell_type": "code",
      "source": [
        "%%file scan.inp\n",
        "$constrain\n",
        " force constant=0.05\n",
        "$scan\n",
        " dihedral: 4,5,11,12,60.0; 60.0,420.0,36\n",
        "$end"
      ],
      "metadata": {
        "id": "ky6Pnr6I7DUq"
      },
      "execution_count": null,
      "outputs": []
    },
    {
      "cell_type": "code",
      "source": [
        "!xtb ome.xyz --opt --input scan.inp"
      ],
      "metadata": {
        "id": "eFN4Eh4c7mYd"
      },
      "execution_count": null,
      "outputs": []
    },
    {
      "cell_type": "code",
      "source": [
        "'''\n",
        "def extract_energies_from_xyz(filename):\n",
        "    energies = []\n",
        "\n",
        "    with open(filename, 'r') as file:\n",
        "        lines = file.readlines()\n",
        "\n",
        "        for line in lines:\n",
        "            if line.startswith(' energy:'):\n",
        "                energy = float(line.split()[1])\n",
        "                energies.append(energy)\n",
        "\n",
        "    return energies\n",
        "'''\n",
        "\n",
        "filename = 'xtbscan.log'  # Substitua pelo nome do seu arquivo XYZ\n",
        "energies = extract_energies_from_xyz(filename)\n",
        "#print(energies)\n",
        "\n",
        "# Definir os parâmetros do scan\n",
        "start_angle = 60.0  # ângulo inicial em graus\n",
        "end_angle = 420.0   # ângulo final em graus\n",
        "num_steps = 36      # número de passos\n",
        "\n",
        "# Gerar os ângulos usando linspace do NumPy\n",
        "angles = np.linspace(start_angle, end_angle, num_steps)\n",
        "\n",
        "# Imprimir a lista de ângulos\n",
        "#print(angles)"
      ],
      "metadata": {
        "id": "gCbTtBny8b5W"
      },
      "execution_count": null,
      "outputs": []
    },
    {
      "cell_type": "code",
      "source": [
        "%matplotlib inline\n",
        "import matplotlib.pyplot as plt\n",
        "\n",
        "# Plotar os ângulos e os valores de energia\n",
        "plt.figure()\n",
        "plt.plot(angles, energies, 'r-o')\n",
        "plt.xlabel('Dihedral angle (degrees)')\n",
        "plt.ylabel('Energy (hartrees)')\n",
        "plt.show()"
      ],
      "metadata": {
        "id": "g2MqzNdf86rt"
      },
      "execution_count": null,
      "outputs": []
    },
    {
      "cell_type": "code",
      "source": [
        "# Ler o arquivo XYZ\n",
        "with open('xtbscan.log', 'r') as file:\n",
        "    xyz_data = file.read()"
      ],
      "metadata": {
        "id": "7S26tkWv9KBi"
      },
      "execution_count": null,
      "outputs": []
    },
    {
      "cell_type": "code",
      "source": [
        "# Criar a visualização\n",
        "view = py3Dmol.view(width=800, height=600)\n",
        "\n",
        "# Adicionar a trajetória do XYZ\n",
        "view.addModelsAsFrames(xyz_data, 'xyz')\n",
        "\n",
        "# Ajustar o estilo da visualização\n",
        "view.setStyle({'stick': {'colorscheme':'greenCarbon'}})\n",
        "\n",
        "# Ajustar o zoom para que todas as moléculas estejam visíveis\n",
        "view.zoomTo()\n",
        "\n",
        "# Animação\n",
        "view.animate({'loop': 'backAndForth'})  # Animação de ida e volta\n",
        "\n",
        "# Mostrar a visualização\n",
        "view.show()"
      ],
      "metadata": {
        "id": "Yb5fmqZh9RFF"
      },
      "execution_count": null,
      "outputs": []
    },
    {
      "cell_type": "code",
      "source": [],
      "metadata": {
        "id": "xws-Y49xiJpd"
      },
      "execution_count": null,
      "outputs": []
    },
    {
      "cell_type": "markdown",
      "source": [
        "-----------------\n",
        "\n",
        "#**FIM**\n"
      ],
      "metadata": {
        "id": "YagEfDVvdo6t"
      }
    }
  ]
}